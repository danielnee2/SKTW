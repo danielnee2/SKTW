{
 "cells": [
  {
   "cell_type": "code",
   "execution_count": 1,
   "metadata": {},
   "outputs": [],
   "source": [
    "import numpy as np\n",
    "import pandas as pd\n",
    "import networkx as nx\n",
    "import matplotlib.pyplot as plt\n",
    "from utility import *"
   ]
  },
  {
   "cell_type": "code",
   "execution_count": 2,
   "metadata": {},
   "outputs": [
    {
     "name": "stdout",
     "output_type": "stream",
     "text": [
      "c:\\Users\\juhn3\\Documents\\GitHub\\SKTW\n"
     ]
    }
   ],
   "source": [
    "homedir = get_homedir(verbose=True)"
   ]
  },
  {
   "cell_type": "markdown",
   "metadata": {},
   "source": [
    "## Geography"
   ]
  },
  {
   "cell_type": "code",
   "execution_count": 3,
   "metadata": {},
   "outputs": [
    {
     "data": {
      "text/html": [
       "<div>\n",
       "<style scoped>\n",
       "    .dataframe tbody tr th:only-of-type {\n",
       "        vertical-align: middle;\n",
       "    }\n",
       "\n",
       "    .dataframe tbody tr th {\n",
       "        vertical-align: top;\n",
       "    }\n",
       "\n",
       "    .dataframe thead th {\n",
       "        text-align: right;\n",
       "    }\n",
       "</style>\n",
       "<table border=\"1\" class=\"dataframe\">\n",
       "  <thead>\n",
       "    <tr style=\"text-align: right;\">\n",
       "      <th></th>\n",
       "      <th>fips</th>\n",
       "      <th>clon00</th>\n",
       "      <th>clat00</th>\n",
       "      <th>clon10</th>\n",
       "      <th>clat10</th>\n",
       "      <th>pclon00</th>\n",
       "      <th>pclat00</th>\n",
       "      <th>pclon10</th>\n",
       "      <th>pclat10</th>\n",
       "    </tr>\n",
       "  </thead>\n",
       "  <tbody>\n",
       "    <tr>\n",
       "      <th>0</th>\n",
       "      <td>01001</td>\n",
       "      <td>-86.577176</td>\n",
       "      <td>32.523283</td>\n",
       "      <td>-86.644490</td>\n",
       "      <td>32.536382</td>\n",
       "      <td>-86.501832</td>\n",
       "      <td>32.500323</td>\n",
       "      <td>-86.494165</td>\n",
       "      <td>32.500389</td>\n",
       "    </tr>\n",
       "    <tr>\n",
       "      <th>1</th>\n",
       "      <td>01003</td>\n",
       "      <td>-87.748260</td>\n",
       "      <td>30.592781</td>\n",
       "      <td>-87.746067</td>\n",
       "      <td>30.659218</td>\n",
       "      <td>-87.760540</td>\n",
       "      <td>30.565383</td>\n",
       "      <td>-87.762381</td>\n",
       "      <td>30.548923</td>\n",
       "    </tr>\n",
       "    <tr>\n",
       "      <th>2</th>\n",
       "      <td>01005</td>\n",
       "      <td>-85.331312</td>\n",
       "      <td>31.856515</td>\n",
       "      <td>-85.405456</td>\n",
       "      <td>31.870670</td>\n",
       "      <td>-85.306746</td>\n",
       "      <td>31.847869</td>\n",
       "      <td>-85.310038</td>\n",
       "      <td>31.844036</td>\n",
       "    </tr>\n",
       "    <tr>\n",
       "      <th>3</th>\n",
       "      <td>01007</td>\n",
       "      <td>-87.123243</td>\n",
       "      <td>33.040054</td>\n",
       "      <td>-87.127148</td>\n",
       "      <td>33.015893</td>\n",
       "      <td>-87.127019</td>\n",
       "      <td>33.025947</td>\n",
       "      <td>-87.127659</td>\n",
       "      <td>33.030921</td>\n",
       "    </tr>\n",
       "    <tr>\n",
       "      <th>4</th>\n",
       "      <td>01009</td>\n",
       "      <td>-86.554768</td>\n",
       "      <td>33.978461</td>\n",
       "      <td>-86.567246</td>\n",
       "      <td>33.977448</td>\n",
       "      <td>-86.582617</td>\n",
       "      <td>33.962601</td>\n",
       "      <td>-86.591491</td>\n",
       "      <td>33.955243</td>\n",
       "    </tr>\n",
       "  </tbody>\n",
       "</table>\n",
       "</div>"
      ],
      "text/plain": [
       "    fips     clon00     clat00     clon10     clat10    pclon00    pclat00  \\\n",
       "0  01001 -86.577176  32.523283 -86.644490  32.536382 -86.501832  32.500323   \n",
       "1  01003 -87.748260  30.592781 -87.746067  30.659218 -87.760540  30.565383   \n",
       "2  01005 -85.331312  31.856515 -85.405456  31.870670 -85.306746  31.847869   \n",
       "3  01007 -87.123243  33.040054 -87.127148  33.015893 -87.127019  33.025947   \n",
       "4  01009 -86.554768  33.978461 -86.567246  33.977448 -86.582617  33.962601   \n",
       "\n",
       "     pclon10    pclat10  \n",
       "0 -86.494165  32.500389  \n",
       "1 -87.762381  30.548923  \n",
       "2 -85.310038  31.844036  \n",
       "3 -87.127659  33.030921  \n",
       "4 -86.591491  33.955243  "
      ]
     },
     "execution_count": 3,
     "metadata": {},
     "output_type": "execute_result"
    }
   ],
   "source": [
    "# Geographic and population centers for each county in US.\n",
    "raw_county_centers = pd.read_csv(f\"{homedir}/data/us/geolocation/county_centers.csv\")\n",
    "raw_county_centers['fips'] = raw_county_centers['fips'].apply(correct_FIPS)\n",
    "raw_county_centers.head()"
   ]
  },
  {
   "cell_type": "code",
   "execution_count": 4,
   "metadata": {},
   "outputs": [
    {
     "data": {
      "text/plain": [
       "3147"
      ]
     },
     "execution_count": 4,
     "metadata": {},
     "output_type": "execute_result"
    }
   ],
   "source": [
    "len(raw_county_centers)"
   ]
  },
  {
   "cell_type": "code",
   "execution_count": 5,
   "metadata": {},
   "outputs": [
    {
     "data": {
      "text/html": [
       "<div>\n",
       "<style scoped>\n",
       "    .dataframe tbody tr th:only-of-type {\n",
       "        vertical-align: middle;\n",
       "    }\n",
       "\n",
       "    .dataframe tbody tr th {\n",
       "        vertical-align: top;\n",
       "    }\n",
       "\n",
       "    .dataframe thead th {\n",
       "        text-align: right;\n",
       "    }\n",
       "</style>\n",
       "<table border=\"1\" class=\"dataframe\">\n",
       "  <thead>\n",
       "    <tr style=\"text-align: right;\">\n",
       "      <th></th>\n",
       "      <th>FIPS</th>\n",
       "      <th>MSA/PMSA NECMA</th>\n",
       "      <th>ST</th>\n",
       "      <th>COUNTY</th>\n",
       "    </tr>\n",
       "  </thead>\n",
       "  <tbody>\n",
       "    <tr>\n",
       "      <th>0</th>\n",
       "      <td>01001</td>\n",
       "      <td>5240</td>\n",
       "      <td>AL</td>\n",
       "      <td>Autauga County</td>\n",
       "    </tr>\n",
       "    <tr>\n",
       "      <th>1</th>\n",
       "      <td>01003</td>\n",
       "      <td>5160</td>\n",
       "      <td>AL</td>\n",
       "      <td>Baldwin County</td>\n",
       "    </tr>\n",
       "    <tr>\n",
       "      <th>2</th>\n",
       "      <td>01005</td>\n",
       "      <td>0</td>\n",
       "      <td>AL</td>\n",
       "      <td>Barbour County</td>\n",
       "    </tr>\n",
       "    <tr>\n",
       "      <th>3</th>\n",
       "      <td>01007</td>\n",
       "      <td>0</td>\n",
       "      <td>AL</td>\n",
       "      <td>Bibb County</td>\n",
       "    </tr>\n",
       "    <tr>\n",
       "      <th>4</th>\n",
       "      <td>01009</td>\n",
       "      <td>1000</td>\n",
       "      <td>AL</td>\n",
       "      <td>Blount County</td>\n",
       "    </tr>\n",
       "  </tbody>\n",
       "</table>\n",
       "</div>"
      ],
      "text/plain": [
       "    FIPS  MSA/PMSA NECMA  ST          COUNTY\n",
       "0  01001            5240  AL  Autauga County\n",
       "1  01003            5160  AL  Baldwin County\n",
       "2  01005               0  AL  Barbour County\n",
       "3  01007               0  AL     Bibb County\n",
       "4  01009            1000  AL   Blount County"
      ]
     },
     "execution_count": 5,
     "metadata": {},
     "output_type": "execute_result"
    }
   ],
   "source": [
    "fips_to_county_name = pd.read_csv(f\"{homedir}/data/us/processing_data/fips_key.csv\", encoding='latin-1')\n",
    "fips_to_county_name['FIPS'] = fips_to_county_name['FIPS'].apply(correct_FIPS)\n",
    "fips_to_county_name.head()"
   ]
  },
  {
   "cell_type": "code",
   "execution_count": 6,
   "metadata": {},
   "outputs": [
    {
     "data": {
      "text/plain": [
       "3246"
      ]
     },
     "execution_count": 6,
     "metadata": {},
     "output_type": "execute_result"
    }
   ],
   "source": [
    "len(fips_to_county_name)"
   ]
  },
  {
   "cell_type": "code",
   "execution_count": 7,
   "metadata": {},
   "outputs": [
    {
     "data": {
      "text/plain": [
       "{'02105', '02195', '02198', '02230', '02275', '08014'}"
      ]
     },
     "execution_count": 7,
     "metadata": {},
     "output_type": "execute_result"
    }
   ],
   "source": [
    "set(raw_county_centers[\"fips\"]).difference(set(fips_to_county_name[\"FIPS\"]))"
   ]
  },
  {
   "cell_type": "code",
   "execution_count": 8,
   "metadata": {},
   "outputs": [
    {
     "data": {
      "text/plain": [
       "82"
      ]
     },
     "execution_count": 8,
     "metadata": {},
     "output_type": "execute_result"
    }
   ],
   "source": [
    "len(set(fips_to_county_name[\"FIPS\"]).difference(set(raw_county_centers[\"fips\"])))"
   ]
  },
  {
   "cell_type": "markdown",
   "metadata": {},
   "source": [
    "## Submission format"
   ]
  },
  {
   "cell_type": "code",
   "execution_count": 9,
   "metadata": {},
   "outputs": [],
   "source": [
    "df = pd.read_csv(f\"{homedir}/sample_submission.csv\", index_col=0)"
   ]
  },
  {
   "cell_type": "code",
   "execution_count": 10,
   "metadata": {},
   "outputs": [
    {
     "data": {
      "text/html": [
       "<div>\n",
       "<style scoped>\n",
       "    .dataframe tbody tr th:only-of-type {\n",
       "        vertical-align: middle;\n",
       "    }\n",
       "\n",
       "    .dataframe tbody tr th {\n",
       "        vertical-align: top;\n",
       "    }\n",
       "\n",
       "    .dataframe thead th {\n",
       "        text-align: right;\n",
       "    }\n",
       "</style>\n",
       "<table border=\"1\" class=\"dataframe\">\n",
       "  <thead>\n",
       "    <tr style=\"text-align: right;\">\n",
       "      <th></th>\n",
       "      <th>10</th>\n",
       "      <th>20</th>\n",
       "      <th>30</th>\n",
       "      <th>40</th>\n",
       "      <th>50</th>\n",
       "      <th>60</th>\n",
       "      <th>70</th>\n",
       "      <th>80</th>\n",
       "      <th>90</th>\n",
       "    </tr>\n",
       "    <tr>\n",
       "      <th>id</th>\n",
       "      <th></th>\n",
       "      <th></th>\n",
       "      <th></th>\n",
       "      <th></th>\n",
       "      <th></th>\n",
       "      <th></th>\n",
       "      <th></th>\n",
       "      <th></th>\n",
       "      <th></th>\n",
       "    </tr>\n",
       "  </thead>\n",
       "  <tbody>\n",
       "    <tr>\n",
       "      <th>2020-04-01-10001</th>\n",
       "      <td>0.0</td>\n",
       "      <td>0.0</td>\n",
       "      <td>0.0</td>\n",
       "      <td>0.0</td>\n",
       "      <td>0.0</td>\n",
       "      <td>0.0</td>\n",
       "      <td>0.0</td>\n",
       "      <td>0.0</td>\n",
       "      <td>0.0</td>\n",
       "    </tr>\n",
       "    <tr>\n",
       "      <th>2020-04-01-10003</th>\n",
       "      <td>0.0</td>\n",
       "      <td>0.0</td>\n",
       "      <td>0.0</td>\n",
       "      <td>0.0</td>\n",
       "      <td>0.0</td>\n",
       "      <td>0.0</td>\n",
       "      <td>0.0</td>\n",
       "      <td>0.0</td>\n",
       "      <td>0.0</td>\n",
       "    </tr>\n",
       "    <tr>\n",
       "      <th>2020-04-01-10005</th>\n",
       "      <td>0.0</td>\n",
       "      <td>0.0</td>\n",
       "      <td>0.0</td>\n",
       "      <td>0.0</td>\n",
       "      <td>0.0</td>\n",
       "      <td>0.0</td>\n",
       "      <td>0.0</td>\n",
       "      <td>0.0</td>\n",
       "      <td>0.0</td>\n",
       "    </tr>\n",
       "    <tr>\n",
       "      <th>2020-04-01-1001</th>\n",
       "      <td>0.0</td>\n",
       "      <td>0.0</td>\n",
       "      <td>0.0</td>\n",
       "      <td>0.0</td>\n",
       "      <td>0.0</td>\n",
       "      <td>0.0</td>\n",
       "      <td>0.0</td>\n",
       "      <td>0.0</td>\n",
       "      <td>0.0</td>\n",
       "    </tr>\n",
       "    <tr>\n",
       "      <th>2020-04-01-1003</th>\n",
       "      <td>0.0</td>\n",
       "      <td>0.0</td>\n",
       "      <td>0.0</td>\n",
       "      <td>0.0</td>\n",
       "      <td>0.0</td>\n",
       "      <td>0.0</td>\n",
       "      <td>0.0</td>\n",
       "      <td>0.0</td>\n",
       "      <td>0.0</td>\n",
       "    </tr>\n",
       "  </tbody>\n",
       "</table>\n",
       "</div>"
      ],
      "text/plain": [
       "                   10   20   30   40   50   60   70   80   90\n",
       "id                                                           \n",
       "2020-04-01-10001  0.0  0.0  0.0  0.0  0.0  0.0  0.0  0.0  0.0\n",
       "2020-04-01-10003  0.0  0.0  0.0  0.0  0.0  0.0  0.0  0.0  0.0\n",
       "2020-04-01-10005  0.0  0.0  0.0  0.0  0.0  0.0  0.0  0.0  0.0\n",
       "2020-04-01-1001   0.0  0.0  0.0  0.0  0.0  0.0  0.0  0.0  0.0\n",
       "2020-04-01-1003   0.0  0.0  0.0  0.0  0.0  0.0  0.0  0.0  0.0"
      ]
     },
     "execution_count": 10,
     "metadata": {},
     "output_type": "execute_result"
    }
   ],
   "source": [
    "df.head()"
   ]
  },
  {
   "cell_type": "code",
   "execution_count": 11,
   "metadata": {},
   "outputs": [],
   "source": [
    "columnname = [f\"{10*i}\" for i in range(1,10)]\n",
    "a = pd.DataFrame(index=df.index, columns=columnname)"
   ]
  },
  {
   "cell_type": "code",
   "execution_count": 12,
   "metadata": {},
   "outputs": [
    {
     "data": {
      "text/plain": [
       "3223"
      ]
     },
     "execution_count": 12,
     "metadata": {},
     "output_type": "execute_result"
    }
   ],
   "source": [
    "len(a)//91 # Num. of FIPS'"
   ]
  },
  {
   "cell_type": "code",
   "execution_count": 13,
   "metadata": {},
   "outputs": [
    {
     "data": {
      "text/plain": [
       "'09015'"
      ]
     },
     "execution_count": 13,
     "metadata": {},
     "output_type": "execute_result"
    }
   ],
   "source": [
    "a_firstday=a.iloc[0:3223].index.to_numpy()\n",
    "FIPS = []\n",
    "for i in range(len(a_firstday)):\n",
    "    FIPS.append(correct_FIPS(a_firstday[i][11:]))\n",
    "FIPS[-1]"
   ]
  },
  {
   "cell_type": "code",
   "execution_count": 14,
   "metadata": {},
   "outputs": [
    {
     "name": "stdout",
     "output_type": "stream",
     "text": [
      "True\n",
      "3223\n"
     ]
    }
   ],
   "source": [
    "print(set(fips_to_county_name[\"FIPS\"])==set(FIPS))\n",
    "print(len(set(FIPS))) # No duplications in FIPS"
   ]
  },
  {
   "cell_type": "code",
   "execution_count": 15,
   "metadata": {
    "tags": [
     "outputPrepend"
    ]
   },
   "outputs": [
    {
     "name": "stdout",
     "output_type": "stream",
     "text": [
      "['De Kalb County' 'DeKalb County']\n",
      "['DeKalb County' 'De Kalb County']\n",
      "['De Baca County' 'DeBaca County']\n",
      "['Doí±a Ana County' 'Dona Ana County']\n",
      "['Hoonah-Angoon Census Area' 'Skagway Municipality'\n",
      " 'Skagway/Hoonah/Angoon Census Area']\n",
      "['Petersburg Borough' 'Wrangell City and Borough'\n",
      " 'Wrangell-Petersburg Census Area']\n",
      "['Laporte County' 'La Porte County']\n",
      "['Prince of Wales-Hyder Census Area'\n",
      " 'Prince of Wales-Outer Ketchikan Census Area']\n",
      "['McKean County' 'Mc Kean County']\n",
      "['DeKalb County' 'De Kalb County']\n",
      "['Sitka City and Borough' 'Sitka Borough']\n",
      "['Anchorage Municipality' 'Anchorage Borough']\n",
      "['Juneau City and Borough' 'Juneau Borough']\n",
      "['Lasalle County' 'La Salle County']\n",
      "['Dupage County' 'Du Page County']\n",
      "['Denali Borough' 'Denali Census Area' 'Denali Census Area']\n",
      "['De Kalb County' 'DeKalb County']\n",
      "['Lasalle Parish' 'La Salle Parish']\n",
      "['Lasalle County' 'La Salle County']\n",
      "['Desoto County' 'De Soto County']\n"
     ]
    }
   ],
   "source": [
    "dup_FIPS = set([x for x in fips_to_county_name[\"FIPS\"] if fips_to_county_name[\"FIPS\"].to_numpy().tolist().count(x) > 1])\n",
    "for dup in dup_FIPS:\n",
    "    print(fips_to_county_name[fips_to_county_name[\"FIPS\"]==dup][\"COUNTY\"].to_numpy())"
   ]
  },
  {
   "cell_type": "markdown",
   "metadata": {},
   "source": [
    "## USAfacts dataset"
   ]
  },
  {
   "cell_type": "code",
   "execution_count": 16,
   "metadata": {},
   "outputs": [
    {
     "data": {
      "text/html": [
       "<div>\n",
       "<style scoped>\n",
       "    .dataframe tbody tr th:only-of-type {\n",
       "        vertical-align: middle;\n",
       "    }\n",
       "\n",
       "    .dataframe tbody tr th {\n",
       "        vertical-align: top;\n",
       "    }\n",
       "\n",
       "    .dataframe thead th {\n",
       "        text-align: right;\n",
       "    }\n",
       "</style>\n",
       "<table border=\"1\" class=\"dataframe\">\n",
       "  <thead>\n",
       "    <tr style=\"text-align: right;\">\n",
       "      <th></th>\n",
       "      <th>countyFIPS</th>\n",
       "      <th>County Name</th>\n",
       "    </tr>\n",
       "  </thead>\n",
       "  <tbody>\n",
       "    <tr>\n",
       "      <th>0</th>\n",
       "      <td>0</td>\n",
       "      <td>Statewide Unallocated</td>\n",
       "    </tr>\n",
       "    <tr>\n",
       "      <th>1</th>\n",
       "      <td>1001</td>\n",
       "      <td>Autauga County</td>\n",
       "    </tr>\n",
       "    <tr>\n",
       "      <th>2</th>\n",
       "      <td>1003</td>\n",
       "      <td>Baldwin County</td>\n",
       "    </tr>\n",
       "    <tr>\n",
       "      <th>3</th>\n",
       "      <td>1005</td>\n",
       "      <td>Barbour County</td>\n",
       "    </tr>\n",
       "    <tr>\n",
       "      <th>4</th>\n",
       "      <td>1007</td>\n",
       "      <td>Bibb County</td>\n",
       "    </tr>\n",
       "  </tbody>\n",
       "</table>\n",
       "</div>"
      ],
      "text/plain": [
       "   countyFIPS            County Name\n",
       "0           0  Statewide Unallocated\n",
       "1        1001         Autauga County\n",
       "2        1003         Baldwin County\n",
       "3        1005         Barbour County\n",
       "4        1007            Bibb County"
      ]
     },
     "execution_count": 16,
     "metadata": {},
     "output_type": "execute_result"
    }
   ],
   "source": [
    "confirmed_cases = pd.read_csv(f\"{homedir}/data/us/covid/confirmed_cases.csv\", usecols=[\"countyFIPS\", \"County Name\"])\n",
    "confirmed_cases.head()"
   ]
  },
  {
   "cell_type": "code",
   "execution_count": 17,
   "metadata": {},
   "outputs": [
    {
     "data": {
      "text/html": [
       "<div>\n",
       "<style scoped>\n",
       "    .dataframe tbody tr th:only-of-type {\n",
       "        vertical-align: middle;\n",
       "    }\n",
       "\n",
       "    .dataframe tbody tr th {\n",
       "        vertical-align: top;\n",
       "    }\n",
       "\n",
       "    .dataframe thead th {\n",
       "        text-align: right;\n",
       "    }\n",
       "</style>\n",
       "<table border=\"1\" class=\"dataframe\">\n",
       "  <thead>\n",
       "    <tr style=\"text-align: right;\">\n",
       "      <th></th>\n",
       "      <th>countyFIPS</th>\n",
       "      <th>County Name</th>\n",
       "    </tr>\n",
       "  </thead>\n",
       "  <tbody>\n",
       "    <tr>\n",
       "      <th>0</th>\n",
       "      <td>0</td>\n",
       "      <td>Statewide Unallocated</td>\n",
       "    </tr>\n",
       "    <tr>\n",
       "      <th>1</th>\n",
       "      <td>1001</td>\n",
       "      <td>Autauga County</td>\n",
       "    </tr>\n",
       "    <tr>\n",
       "      <th>2</th>\n",
       "      <td>1003</td>\n",
       "      <td>Baldwin County</td>\n",
       "    </tr>\n",
       "    <tr>\n",
       "      <th>3</th>\n",
       "      <td>1005</td>\n",
       "      <td>Barbour County</td>\n",
       "    </tr>\n",
       "    <tr>\n",
       "      <th>4</th>\n",
       "      <td>1007</td>\n",
       "      <td>Bibb County</td>\n",
       "    </tr>\n",
       "  </tbody>\n",
       "</table>\n",
       "</div>"
      ],
      "text/plain": [
       "   countyFIPS            County Name\n",
       "0           0  Statewide Unallocated\n",
       "1        1001         Autauga County\n",
       "2        1003         Baldwin County\n",
       "3        1005         Barbour County\n",
       "4        1007            Bibb County"
      ]
     },
     "execution_count": 17,
     "metadata": {},
     "output_type": "execute_result"
    }
   ],
   "source": [
    "deaths = pd.read_csv(f\"{homedir}/data/us/covid/deaths.csv\", usecols=[\"countyFIPS\", \"County Name\"])\n",
    "deaths.head()"
   ]
  },
  {
   "cell_type": "code",
   "execution_count": 18,
   "metadata": {},
   "outputs": [
    {
     "data": {
      "text/plain": [
       "3195"
      ]
     },
     "execution_count": 18,
     "metadata": {},
     "output_type": "execute_result"
    }
   ],
   "source": [
    "len(deaths)"
   ]
  },
  {
   "cell_type": "code",
   "execution_count": 19,
   "metadata": {},
   "outputs": [
    {
     "data": {
      "text/plain": [
       "countyFIPS     3195\n",
       "County Name    3179\n",
       "dtype: int64"
      ]
     },
     "execution_count": 19,
     "metadata": {},
     "output_type": "execute_result"
    }
   ],
   "source": [
    "(confirmed_cases==deaths).sum()"
   ]
  },
  {
   "cell_type": "code",
   "execution_count": 20,
   "metadata": {},
   "outputs": [
    {
     "data": {
      "text/plain": [
       "259     Broomfield County and City\n",
       "1375          Lac Qui Parle County\n",
       "1835               Dona Ana County\n",
       "2925               Matthews County\n",
       "2964               Alexandria City\n",
       "2967          Charlottesville City\n",
       "2968               Chesapeake City\n",
       "2971                 Danville City\n",
       "2976           Fredericksburg City\n",
       "2979             Harrisonburg City\n",
       "2983                 Manassas City\n",
       "2987                  Norfolk City\n",
       "2991               Portsmouth City\n",
       "2993                 Richmond City\n",
       "2997                  Suffolk City\n",
       "2998           Virginia Beach City\n",
       "Name: County Name, dtype: object"
      ]
     },
     "execution_count": 20,
     "metadata": {},
     "output_type": "execute_result"
    }
   ],
   "source": [
    "confirmed_cases[\"County Name\"][confirmed_cases[\"County Name\"]!=deaths[\"County Name\"]]"
   ]
  },
  {
   "cell_type": "code",
   "execution_count": 21,
   "metadata": {},
   "outputs": [
    {
     "data": {
      "text/plain": [
       "259        Broomfield County\n",
       "1375    Lac qui Parle County\n",
       "1835       DoÔøΩa Ana County\n",
       "2925          Mathews County\n",
       "2964         Alexandria city\n",
       "2967    Charlottesville city\n",
       "2968         Chesapeake city\n",
       "2971           Danville city\n",
       "2976     Fredericksburg city\n",
       "2979       Harrisonburg city\n",
       "2983           Manassas city\n",
       "2987            Norfolk city\n",
       "2991         Portsmouth city\n",
       "2993           Richmond city\n",
       "2997            Suffolk city\n",
       "2998     Virginia Beach city\n",
       "Name: County Name, dtype: object"
      ]
     },
     "execution_count": 21,
     "metadata": {},
     "output_type": "execute_result"
    }
   ],
   "source": [
    "deaths[\"County Name\"][confirmed_cases[\"County Name\"]!=deaths[\"County Name\"]] # Mostly capitalization issues, with 2 exceptions(Broomfield, Dona Ana)"
   ]
  },
  {
   "cell_type": "code",
   "execution_count": 22,
   "metadata": {},
   "outputs": [
    {
     "data": {
      "text/plain": [
       "array([   0,    0,    0,    0,    0,    0,    0,    0,    0,    0,    0,\n",
       "          0,    0,    0,    0,    0,    0,    0,    0,    0,    0,    0,\n",
       "          0,    0,    0,    0,    0,    0,    0,    0,    0,    0,    0,\n",
       "          0,    0,    0,    0,    0,    0,    0,    0,    0,    0,    0,\n",
       "          0,    0,    0,    0,    0,    0,    1, 1001, 1003, 1005, 1007,\n",
       "       1009, 1011, 1013, 1015, 1017], dtype=int64)"
      ]
     },
     "execution_count": 22,
     "metadata": {},
     "output_type": "execute_result"
    }
   ],
   "source": [
    "deaths[\"countyFIPS\"].nsmallest(60).to_numpy() # 0 for statewide unallocated, 1 for NYC unallocated"
   ]
  },
  {
   "cell_type": "code",
   "execution_count": 23,
   "metadata": {},
   "outputs": [],
   "source": [
    "FIPS_USA = deaths[\"countyFIPS\"].apply(correct_FIPS).to_numpy()"
   ]
  },
  {
   "cell_type": "code",
   "execution_count": 24,
   "metadata": {},
   "outputs": [
    {
     "data": {
      "text/plain": [
       "'01001'"
      ]
     },
     "execution_count": 24,
     "metadata": {},
     "output_type": "execute_result"
    }
   ],
   "source": [
    "s = set(FIPS_USA)\n",
    "s.remove('0')\n",
    "s.remove('1')\n",
    "# s.remove('06000') # Grand Princess Cruise\n",
    "min(s)"
   ]
  },
  {
   "cell_type": "code",
   "execution_count": 25,
   "metadata": {},
   "outputs": [
    {
     "data": {
      "text/plain": [
       "{'02105',\n",
       " '02158',\n",
       " '02195',\n",
       " '02198',\n",
       " '02230',\n",
       " '02275',\n",
       " '06000',\n",
       " '08014',\n",
       " '46102'}"
      ]
     },
     "execution_count": 25,
     "metadata": {},
     "output_type": "execute_result"
    }
   ],
   "source": [
    "s.difference(set(FIPS))"
   ]
  },
  {
   "cell_type": "code",
   "execution_count": 26,
   "metadata": {},
   "outputs": [
    {
     "name": "stdout",
     "output_type": "stream",
     "text": [
      "02105 Hoonah-Angoon Census Area\n",
      "08014 Broomfield County and City\n",
      "02195 Petersburg Census Area\n",
      "02230 Skagway Municipality\n",
      "46102 Oglala Lakota County\n",
      "02275 Wrangell City and Borough\n",
      "02198 Prince of Wales-Hyder Census Area\n",
      "06000 Grand Princess Cruise Ship\n",
      "02158 Kusilvak Census Area\n"
     ]
    }
   ],
   "source": [
    "for fips in s.difference(set(FIPS)):\n",
    "    print(fips, confirmed_cases[\"County Name\"].loc[confirmed_cases[\"countyFIPS\"].apply(correct_FIPS)==fips].item())"
   ]
  },
  {
   "cell_type": "code",
   "execution_count": 27,
   "metadata": {},
   "outputs": [
    {
     "data": {
      "text/plain": [
       "88"
      ]
     },
     "execution_count": 27,
     "metadata": {},
     "output_type": "execute_result"
    }
   ],
   "source": [
    "len(set(FIPS).difference(s))"
   ]
  },
  {
   "cell_type": "markdown",
   "metadata": {},
   "source": [
    "## NYT dataset"
   ]
  },
  {
   "cell_type": "code",
   "execution_count": 28,
   "metadata": {},
   "outputs": [
    {
     "data": {
      "text/html": [
       "<div>\n",
       "<style scoped>\n",
       "    .dataframe tbody tr th:only-of-type {\n",
       "        vertical-align: middle;\n",
       "    }\n",
       "\n",
       "    .dataframe tbody tr th {\n",
       "        vertical-align: top;\n",
       "    }\n",
       "\n",
       "    .dataframe thead th {\n",
       "        text-align: right;\n",
       "    }\n",
       "</style>\n",
       "<table border=\"1\" class=\"dataframe\">\n",
       "  <thead>\n",
       "    <tr style=\"text-align: right;\">\n",
       "      <th></th>\n",
       "      <th>date</th>\n",
       "      <th>county</th>\n",
       "      <th>state</th>\n",
       "      <th>fips</th>\n",
       "      <th>cases</th>\n",
       "      <th>deaths</th>\n",
       "    </tr>\n",
       "  </thead>\n",
       "  <tbody>\n",
       "    <tr>\n",
       "      <th>0</th>\n",
       "      <td>2020-01-21</td>\n",
       "      <td>Snohomish</td>\n",
       "      <td>Washington</td>\n",
       "      <td>53061.0</td>\n",
       "      <td>1</td>\n",
       "      <td>0</td>\n",
       "    </tr>\n",
       "    <tr>\n",
       "      <th>1</th>\n",
       "      <td>2020-01-22</td>\n",
       "      <td>Snohomish</td>\n",
       "      <td>Washington</td>\n",
       "      <td>53061.0</td>\n",
       "      <td>1</td>\n",
       "      <td>0</td>\n",
       "    </tr>\n",
       "    <tr>\n",
       "      <th>2</th>\n",
       "      <td>2020-01-23</td>\n",
       "      <td>Snohomish</td>\n",
       "      <td>Washington</td>\n",
       "      <td>53061.0</td>\n",
       "      <td>1</td>\n",
       "      <td>0</td>\n",
       "    </tr>\n",
       "    <tr>\n",
       "      <th>3</th>\n",
       "      <td>2020-01-24</td>\n",
       "      <td>Cook</td>\n",
       "      <td>Illinois</td>\n",
       "      <td>17031.0</td>\n",
       "      <td>1</td>\n",
       "      <td>0</td>\n",
       "    </tr>\n",
       "    <tr>\n",
       "      <th>4</th>\n",
       "      <td>2020-01-24</td>\n",
       "      <td>Snohomish</td>\n",
       "      <td>Washington</td>\n",
       "      <td>53061.0</td>\n",
       "      <td>1</td>\n",
       "      <td>0</td>\n",
       "    </tr>\n",
       "  </tbody>\n",
       "</table>\n",
       "</div>"
      ],
      "text/plain": [
       "         date     county       state     fips  cases  deaths\n",
       "0  2020-01-21  Snohomish  Washington  53061.0      1       0\n",
       "1  2020-01-22  Snohomish  Washington  53061.0      1       0\n",
       "2  2020-01-23  Snohomish  Washington  53061.0      1       0\n",
       "3  2020-01-24       Cook    Illinois  17031.0      1       0\n",
       "4  2020-01-24  Snohomish  Washington  53061.0      1       0"
      ]
     },
     "execution_count": 28,
     "metadata": {},
     "output_type": "execute_result"
    }
   ],
   "source": [
    "NYT = pd.read_csv(f\"{homedir}/data/us/covid/nyt_us_counties.csv\")\n",
    "NYT.head()"
   ]
  },
  {
   "cell_type": "code",
   "execution_count": 29,
   "metadata": {},
   "outputs": [
    {
     "data": {
      "text/html": [
       "<div>\n",
       "<style scoped>\n",
       "    .dataframe tbody tr th:only-of-type {\n",
       "        vertical-align: middle;\n",
       "    }\n",
       "\n",
       "    .dataframe tbody tr th {\n",
       "        vertical-align: top;\n",
       "    }\n",
       "\n",
       "    .dataframe thead th {\n",
       "        text-align: right;\n",
       "    }\n",
       "</style>\n",
       "<table border=\"1\" class=\"dataframe\">\n",
       "  <thead>\n",
       "    <tr style=\"text-align: right;\">\n",
       "      <th></th>\n",
       "      <th>county</th>\n",
       "      <th>state</th>\n",
       "    </tr>\n",
       "  </thead>\n",
       "  <tbody>\n",
       "    <tr>\n",
       "      <th>416</th>\n",
       "      <td>New York City</td>\n",
       "      <td>New York</td>\n",
       "    </tr>\n",
       "    <tr>\n",
       "      <th>418</th>\n",
       "      <td>Unknown</td>\n",
       "      <td>Rhode Island</td>\n",
       "    </tr>\n",
       "    <tr>\n",
       "      <th>1511</th>\n",
       "      <td>Unknown</td>\n",
       "      <td>New Jersey</td>\n",
       "    </tr>\n",
       "    <tr>\n",
       "      <th>1858</th>\n",
       "      <td>Unknown</td>\n",
       "      <td>Puerto Rico</td>\n",
       "    </tr>\n",
       "    <tr>\n",
       "      <th>2267</th>\n",
       "      <td>Unknown</td>\n",
       "      <td>Virgin Islands</td>\n",
       "    </tr>\n",
       "    <tr>\n",
       "      <th>2422</th>\n",
       "      <td>Unknown</td>\n",
       "      <td>Guam</td>\n",
       "    </tr>\n",
       "    <tr>\n",
       "      <th>2929</th>\n",
       "      <td>Unknown</td>\n",
       "      <td>Maine</td>\n",
       "    </tr>\n",
       "    <tr>\n",
       "      <th>2950</th>\n",
       "      <td>Unknown</td>\n",
       "      <td>Massachusetts</td>\n",
       "    </tr>\n",
       "    <tr>\n",
       "      <th>4003</th>\n",
       "      <td>Unknown</td>\n",
       "      <td>Louisiana</td>\n",
       "    </tr>\n",
       "    <tr>\n",
       "      <th>4680</th>\n",
       "      <td>Unknown</td>\n",
       "      <td>Kentucky</td>\n",
       "    </tr>\n",
       "    <tr>\n",
       "      <th>4828</th>\n",
       "      <td>Unknown</td>\n",
       "      <td>Nevada</td>\n",
       "    </tr>\n",
       "    <tr>\n",
       "      <th>5038</th>\n",
       "      <td>Unknown</td>\n",
       "      <td>Tennessee</td>\n",
       "    </tr>\n",
       "    <tr>\n",
       "      <th>5223</th>\n",
       "      <td>Unknown</td>\n",
       "      <td>Arkansas</td>\n",
       "    </tr>\n",
       "    <tr>\n",
       "      <th>5385</th>\n",
       "      <td>Unknown</td>\n",
       "      <td>Georgia</td>\n",
       "    </tr>\n",
       "    <tr>\n",
       "      <th>5641</th>\n",
       "      <td>Kansas City</td>\n",
       "      <td>Missouri</td>\n",
       "    </tr>\n",
       "    <tr>\n",
       "      <th>5647</th>\n",
       "      <td>Unknown</td>\n",
       "      <td>Missouri</td>\n",
       "    </tr>\n",
       "    <tr>\n",
       "      <th>6570</th>\n",
       "      <td>Unknown</td>\n",
       "      <td>Minnesota</td>\n",
       "    </tr>\n",
       "    <tr>\n",
       "      <th>7215</th>\n",
       "      <td>Unknown</td>\n",
       "      <td>California</td>\n",
       "    </tr>\n",
       "    <tr>\n",
       "      <th>7246</th>\n",
       "      <td>Unknown</td>\n",
       "      <td>Colorado</td>\n",
       "    </tr>\n",
       "    <tr>\n",
       "      <th>7304</th>\n",
       "      <td>Unknown</td>\n",
       "      <td>Florida</td>\n",
       "    </tr>\n",
       "    <tr>\n",
       "      <th>8529</th>\n",
       "      <td>Unknown</td>\n",
       "      <td>Hawaii</td>\n",
       "    </tr>\n",
       "    <tr>\n",
       "      <th>8564</th>\n",
       "      <td>Unknown</td>\n",
       "      <td>Illinois</td>\n",
       "    </tr>\n",
       "    <tr>\n",
       "      <th>9359</th>\n",
       "      <td>Unknown</td>\n",
       "      <td>Vermont</td>\n",
       "    </tr>\n",
       "    <tr>\n",
       "      <th>12759</th>\n",
       "      <td>Unknown</td>\n",
       "      <td>Idaho</td>\n",
       "    </tr>\n",
       "    <tr>\n",
       "      <th>13116</th>\n",
       "      <td>Unknown</td>\n",
       "      <td>Michigan</td>\n",
       "    </tr>\n",
       "    <tr>\n",
       "      <th>13531</th>\n",
       "      <td>Unknown</td>\n",
       "      <td>Ohio</td>\n",
       "    </tr>\n",
       "    <tr>\n",
       "      <th>13860</th>\n",
       "      <td>Unknown</td>\n",
       "      <td>Utah</td>\n",
       "    </tr>\n",
       "    <tr>\n",
       "      <th>14946</th>\n",
       "      <td>Unknown</td>\n",
       "      <td>Mississippi</td>\n",
       "    </tr>\n",
       "    <tr>\n",
       "      <th>17074</th>\n",
       "      <td>Unknown</td>\n",
       "      <td>Northern Mariana Islands</td>\n",
       "    </tr>\n",
       "    <tr>\n",
       "      <th>18815</th>\n",
       "      <td>Unknown</td>\n",
       "      <td>Nebraska</td>\n",
       "    </tr>\n",
       "    <tr>\n",
       "      <th>19952</th>\n",
       "      <td>Unknown</td>\n",
       "      <td>Connecticut</td>\n",
       "    </tr>\n",
       "    <tr>\n",
       "      <th>21353</th>\n",
       "      <td>Unknown</td>\n",
       "      <td>South Dakota</td>\n",
       "    </tr>\n",
       "    <tr>\n",
       "      <th>22405</th>\n",
       "      <td>Unknown</td>\n",
       "      <td>Indiana</td>\n",
       "    </tr>\n",
       "    <tr>\n",
       "      <th>26267</th>\n",
       "      <td>Unknown</td>\n",
       "      <td>Alaska</td>\n",
       "    </tr>\n",
       "    <tr>\n",
       "      <th>28574</th>\n",
       "      <td>Unknown</td>\n",
       "      <td>Arizona</td>\n",
       "    </tr>\n",
       "    <tr>\n",
       "      <th>29850</th>\n",
       "      <td>Unknown</td>\n",
       "      <td>New Mexico</td>\n",
       "    </tr>\n",
       "    <tr>\n",
       "      <th>29904</th>\n",
       "      <td>Unknown</td>\n",
       "      <td>New York</td>\n",
       "    </tr>\n",
       "    <tr>\n",
       "      <th>30237</th>\n",
       "      <td>Unknown</td>\n",
       "      <td>Pennsylvania</td>\n",
       "    </tr>\n",
       "    <tr>\n",
       "      <th>30694</th>\n",
       "      <td>Unknown</td>\n",
       "      <td>Virginia</td>\n",
       "    </tr>\n",
       "    <tr>\n",
       "      <th>32193</th>\n",
       "      <td>Unknown</td>\n",
       "      <td>New Hampshire</td>\n",
       "    </tr>\n",
       "    <tr>\n",
       "      <th>38064</th>\n",
       "      <td>Unknown</td>\n",
       "      <td>Washington</td>\n",
       "    </tr>\n",
       "    <tr>\n",
       "      <th>46165</th>\n",
       "      <td>Unknown</td>\n",
       "      <td>Delaware</td>\n",
       "    </tr>\n",
       "    <tr>\n",
       "      <th>46739</th>\n",
       "      <td>Unknown</td>\n",
       "      <td>Kansas</td>\n",
       "    </tr>\n",
       "    <tr>\n",
       "      <th>47579</th>\n",
       "      <td>Unknown</td>\n",
       "      <td>North Dakota</td>\n",
       "    </tr>\n",
       "  </tbody>\n",
       "</table>\n",
       "</div>"
      ],
      "text/plain": [
       "              county                     state\n",
       "416    New York City                  New York\n",
       "418          Unknown              Rhode Island\n",
       "1511         Unknown                New Jersey\n",
       "1858         Unknown               Puerto Rico\n",
       "2267         Unknown            Virgin Islands\n",
       "2422         Unknown                      Guam\n",
       "2929         Unknown                     Maine\n",
       "2950         Unknown             Massachusetts\n",
       "4003         Unknown                 Louisiana\n",
       "4680         Unknown                  Kentucky\n",
       "4828         Unknown                    Nevada\n",
       "5038         Unknown                 Tennessee\n",
       "5223         Unknown                  Arkansas\n",
       "5385         Unknown                   Georgia\n",
       "5641     Kansas City                  Missouri\n",
       "5647         Unknown                  Missouri\n",
       "6570         Unknown                 Minnesota\n",
       "7215         Unknown                California\n",
       "7246         Unknown                  Colorado\n",
       "7304         Unknown                   Florida\n",
       "8529         Unknown                    Hawaii\n",
       "8564         Unknown                  Illinois\n",
       "9359         Unknown                   Vermont\n",
       "12759        Unknown                     Idaho\n",
       "13116        Unknown                  Michigan\n",
       "13531        Unknown                      Ohio\n",
       "13860        Unknown                      Utah\n",
       "14946        Unknown               Mississippi\n",
       "17074        Unknown  Northern Mariana Islands\n",
       "18815        Unknown                  Nebraska\n",
       "19952        Unknown               Connecticut\n",
       "21353        Unknown              South Dakota\n",
       "22405        Unknown                   Indiana\n",
       "26267        Unknown                    Alaska\n",
       "28574        Unknown                   Arizona\n",
       "29850        Unknown                New Mexico\n",
       "29904        Unknown                  New York\n",
       "30237        Unknown              Pennsylvania\n",
       "30694        Unknown                  Virginia\n",
       "32193        Unknown             New Hampshire\n",
       "38064        Unknown                Washington\n",
       "46165        Unknown                  Delaware\n",
       "46739        Unknown                    Kansas\n",
       "47579        Unknown              North Dakota"
      ]
     },
     "execution_count": 29,
     "metadata": {},
     "output_type": "execute_result"
    }
   ],
   "source": [
    "NYT[[\"county\", \"state\"]][NYT[\"fips\"].isna()].drop_duplicates()"
   ]
  },
  {
   "cell_type": "code",
   "execution_count": 30,
   "metadata": {},
   "outputs": [
    {
     "data": {
      "text/html": [
       "<div>\n",
       "<style scoped>\n",
       "    .dataframe tbody tr th:only-of-type {\n",
       "        vertical-align: middle;\n",
       "    }\n",
       "\n",
       "    .dataframe tbody tr th {\n",
       "        vertical-align: top;\n",
       "    }\n",
       "\n",
       "    .dataframe thead th {\n",
       "        text-align: right;\n",
       "    }\n",
       "</style>\n",
       "<table border=\"1\" class=\"dataframe\">\n",
       "  <thead>\n",
       "    <tr style=\"text-align: right;\">\n",
       "      <th></th>\n",
       "      <th>date</th>\n",
       "      <th>county</th>\n",
       "      <th>state</th>\n",
       "      <th>fips</th>\n",
       "      <th>cases</th>\n",
       "      <th>deaths</th>\n",
       "    </tr>\n",
       "  </thead>\n",
       "  <tbody>\n",
       "    <tr>\n",
       "      <th>0</th>\n",
       "      <td>2020-01-21</td>\n",
       "      <td>Snohomish</td>\n",
       "      <td>Washington</td>\n",
       "      <td>53061</td>\n",
       "      <td>1</td>\n",
       "      <td>0</td>\n",
       "    </tr>\n",
       "    <tr>\n",
       "      <th>1</th>\n",
       "      <td>2020-01-22</td>\n",
       "      <td>Snohomish</td>\n",
       "      <td>Washington</td>\n",
       "      <td>53061</td>\n",
       "      <td>1</td>\n",
       "      <td>0</td>\n",
       "    </tr>\n",
       "    <tr>\n",
       "      <th>2</th>\n",
       "      <td>2020-01-23</td>\n",
       "      <td>Snohomish</td>\n",
       "      <td>Washington</td>\n",
       "      <td>53061</td>\n",
       "      <td>1</td>\n",
       "      <td>0</td>\n",
       "    </tr>\n",
       "    <tr>\n",
       "      <th>3</th>\n",
       "      <td>2020-01-24</td>\n",
       "      <td>Cook</td>\n",
       "      <td>Illinois</td>\n",
       "      <td>17031</td>\n",
       "      <td>1</td>\n",
       "      <td>0</td>\n",
       "    </tr>\n",
       "    <tr>\n",
       "      <th>4</th>\n",
       "      <td>2020-01-24</td>\n",
       "      <td>Snohomish</td>\n",
       "      <td>Washington</td>\n",
       "      <td>53061</td>\n",
       "      <td>1</td>\n",
       "      <td>0</td>\n",
       "    </tr>\n",
       "  </tbody>\n",
       "</table>\n",
       "</div>"
      ],
      "text/plain": [
       "         date     county       state   fips  cases  deaths\n",
       "0  2020-01-21  Snohomish  Washington  53061      1       0\n",
       "1  2020-01-22  Snohomish  Washington  53061      1       0\n",
       "2  2020-01-23  Snohomish  Washington  53061      1       0\n",
       "3  2020-01-24       Cook    Illinois  17031      1       0\n",
       "4  2020-01-24  Snohomish  Washington  53061      1       0"
      ]
     },
     "execution_count": 30,
     "metadata": {},
     "output_type": "execute_result"
    }
   ],
   "source": [
    "NYT_notna = NYT[NYT[\"fips\"].notna()]\n",
    "NYT_notna[\"fips\"] = NYT_notna[\"fips\"].apply(correct_FIPS)\n",
    "NYT_notna.head()"
   ]
  },
  {
   "cell_type": "code",
   "execution_count": 31,
   "metadata": {},
   "outputs": [
    {
     "data": {
      "text/plain": [
       "2667"
      ]
     },
     "execution_count": 31,
     "metadata": {},
     "output_type": "execute_result"
    }
   ],
   "source": [
    "len(set(NYT_notna[\"fips\"]))"
   ]
  },
  {
   "cell_type": "code",
   "execution_count": 32,
   "metadata": {},
   "outputs": [
    {
     "data": {
      "text/plain": [
       "{'02195', '02198', '08014', '46102'}"
      ]
     },
     "execution_count": 32,
     "metadata": {},
     "output_type": "execute_result"
    }
   ],
   "source": [
    "set(NYT_notna[\"fips\"]).difference(set(FIPS))"
   ]
  },
  {
   "cell_type": "code",
   "execution_count": 33,
   "metadata": {},
   "outputs": [
    {
     "name": "stdout",
     "output_type": "stream",
     "text": [
      "02198 Prince of Wales-Hyder Census Area\n",
      "08014 Broomfield\n",
      "46102 Oglala Lakota\n",
      "02195 Petersburg Borough\n"
     ]
    }
   ],
   "source": [
    "for fips in set(NYT_notna[\"fips\"]).difference(set(FIPS)):\n",
    "    print(fips, NYT_notna[\"county\"].loc[NYT_notna[\"fips\"]==fips].iloc[0]) # 02: Alaska"
   ]
  },
  {
   "cell_type": "markdown",
   "metadata": {},
   "source": [
    "## Berkeley"
   ]
  },
  {
   "cell_type": "code",
   "execution_count": 34,
   "metadata": {},
   "outputs": [
    {
     "data": {
      "text/html": [
       "<div>\n",
       "<style scoped>\n",
       "    .dataframe tbody tr th:only-of-type {\n",
       "        vertical-align: middle;\n",
       "    }\n",
       "\n",
       "    .dataframe tbody tr th {\n",
       "        vertical-align: top;\n",
       "    }\n",
       "\n",
       "    .dataframe thead th {\n",
       "        text-align: right;\n",
       "    }\n",
       "</style>\n",
       "<table border=\"1\" class=\"dataframe\">\n",
       "  <thead>\n",
       "    <tr style=\"text-align: right;\">\n",
       "      <th></th>\n",
       "      <th>PopulationEstimate2018</th>\n",
       "      <th>Population(Persons)2017</th>\n",
       "      <th>PopTotalMale2017</th>\n",
       "      <th>PopTotalFemale2017</th>\n",
       "      <th>FracMale2017</th>\n",
       "      <th>PopulationEstimate65+2017</th>\n",
       "      <th>PopulationDensityperSqMile2010</th>\n",
       "      <th>CensusPopulation2010</th>\n",
       "      <th>MedianAge2010</th>\n",
       "      <th>MedianAge,Male2010</th>\n",
       "      <th>...</th>\n",
       "      <th>3-YrMortalityAge5-14Years2015-17</th>\n",
       "      <th>3-YrMortalityAge15-24Years2015-17</th>\n",
       "      <th>3-YrMortalityAge25-34Years2015-17</th>\n",
       "      <th>3-YrMortalityAge35-44Years2015-17</th>\n",
       "      <th>3-YrMortalityAge45-54Years2015-17</th>\n",
       "      <th>3-YrMortalityAge55-64Years2015-17</th>\n",
       "      <th>3-YrMortalityAge65-74Years2015-17</th>\n",
       "      <th>3-YrMortalityAge75-84Years2015-17</th>\n",
       "      <th>3-YrMortalityAge85+Years2015-17</th>\n",
       "      <th>mortality2015-17Estimated</th>\n",
       "    </tr>\n",
       "  </thead>\n",
       "  <tbody>\n",
       "    <tr>\n",
       "      <th>0</th>\n",
       "      <td>55601.0</td>\n",
       "      <td>55504.0</td>\n",
       "      <td>27007.0</td>\n",
       "      <td>28497.0</td>\n",
       "      <td>0.486578</td>\n",
       "      <td>8392.0</td>\n",
       "      <td>91.8</td>\n",
       "      <td>54571.0</td>\n",
       "      <td>37.0</td>\n",
       "      <td>35.9</td>\n",
       "      <td>...</td>\n",
       "      <td>0.0</td>\n",
       "      <td>0.0</td>\n",
       "      <td>10.0</td>\n",
       "      <td>20.0</td>\n",
       "      <td>44.0</td>\n",
       "      <td>73.0</td>\n",
       "      <td>112.0</td>\n",
       "      <td>143.0</td>\n",
       "      <td>109.0</td>\n",
       "      <td>33.194755</td>\n",
       "    </tr>\n",
       "    <tr>\n",
       "      <th>1</th>\n",
       "      <td>218022.0</td>\n",
       "      <td>212628.0</td>\n",
       "      <td>103225.0</td>\n",
       "      <td>109403.0</td>\n",
       "      <td>0.485472</td>\n",
       "      <td>42413.0</td>\n",
       "      <td>114.7</td>\n",
       "      <td>182265.0</td>\n",
       "      <td>41.1</td>\n",
       "      <td>40.1</td>\n",
       "      <td>...</td>\n",
       "      <td>0.0</td>\n",
       "      <td>23.0</td>\n",
       "      <td>30.0</td>\n",
       "      <td>52.0</td>\n",
       "      <td>125.0</td>\n",
       "      <td>262.0</td>\n",
       "      <td>434.0</td>\n",
       "      <td>546.0</td>\n",
       "      <td>597.0</td>\n",
       "      <td>148.887537</td>\n",
       "    </tr>\n",
       "    <tr>\n",
       "      <th>2</th>\n",
       "      <td>24881.0</td>\n",
       "      <td>25270.0</td>\n",
       "      <td>13335.0</td>\n",
       "      <td>11935.0</td>\n",
       "      <td>0.527701</td>\n",
       "      <td>4757.0</td>\n",
       "      <td>31.0</td>\n",
       "      <td>27457.0</td>\n",
       "      <td>39.0</td>\n",
       "      <td>37.2</td>\n",
       "      <td>...</td>\n",
       "      <td>0.0</td>\n",
       "      <td>0.0</td>\n",
       "      <td>0.0</td>\n",
       "      <td>0.0</td>\n",
       "      <td>21.0</td>\n",
       "      <td>44.0</td>\n",
       "      <td>65.0</td>\n",
       "      <td>72.0</td>\n",
       "      <td>68.0</td>\n",
       "      <td>18.483155</td>\n",
       "    </tr>\n",
       "    <tr>\n",
       "      <th>3</th>\n",
       "      <td>22400.0</td>\n",
       "      <td>22668.0</td>\n",
       "      <td>12138.0</td>\n",
       "      <td>10530.0</td>\n",
       "      <td>0.535469</td>\n",
       "      <td>3632.0</td>\n",
       "      <td>36.8</td>\n",
       "      <td>22915.0</td>\n",
       "      <td>37.8</td>\n",
       "      <td>36.5</td>\n",
       "      <td>...</td>\n",
       "      <td>0.0</td>\n",
       "      <td>0.0</td>\n",
       "      <td>0.0</td>\n",
       "      <td>0.0</td>\n",
       "      <td>24.0</td>\n",
       "      <td>37.0</td>\n",
       "      <td>62.0</td>\n",
       "      <td>56.0</td>\n",
       "      <td>45.0</td>\n",
       "      <td>15.381366</td>\n",
       "    </tr>\n",
       "    <tr>\n",
       "      <th>4</th>\n",
       "      <td>57840.0</td>\n",
       "      <td>58013.0</td>\n",
       "      <td>28607.0</td>\n",
       "      <td>29406.0</td>\n",
       "      <td>0.493114</td>\n",
       "      <td>10351.0</td>\n",
       "      <td>88.9</td>\n",
       "      <td>57322.0</td>\n",
       "      <td>39.0</td>\n",
       "      <td>38.0</td>\n",
       "      <td>...</td>\n",
       "      <td>0.0</td>\n",
       "      <td>10.0</td>\n",
       "      <td>13.0</td>\n",
       "      <td>25.0</td>\n",
       "      <td>49.0</td>\n",
       "      <td>94.0</td>\n",
       "      <td>150.0</td>\n",
       "      <td>182.0</td>\n",
       "      <td>142.0</td>\n",
       "      <td>48.499442</td>\n",
       "    </tr>\n",
       "  </tbody>\n",
       "</table>\n",
       "<p>5 rows × 64 columns</p>\n",
       "</div>"
      ],
      "text/plain": [
       "   PopulationEstimate2018  Population(Persons)2017  PopTotalMale2017  \\\n",
       "0                 55601.0                  55504.0           27007.0   \n",
       "1                218022.0                 212628.0          103225.0   \n",
       "2                 24881.0                  25270.0           13335.0   \n",
       "3                 22400.0                  22668.0           12138.0   \n",
       "4                 57840.0                  58013.0           28607.0   \n",
       "\n",
       "   PopTotalFemale2017  FracMale2017  PopulationEstimate65+2017  \\\n",
       "0             28497.0      0.486578                     8392.0   \n",
       "1            109403.0      0.485472                    42413.0   \n",
       "2             11935.0      0.527701                     4757.0   \n",
       "3             10530.0      0.535469                     3632.0   \n",
       "4             29406.0      0.493114                    10351.0   \n",
       "\n",
       "   PopulationDensityperSqMile2010  CensusPopulation2010  MedianAge2010  \\\n",
       "0                            91.8               54571.0           37.0   \n",
       "1                           114.7              182265.0           41.1   \n",
       "2                            31.0               27457.0           39.0   \n",
       "3                            36.8               22915.0           37.8   \n",
       "4                            88.9               57322.0           39.0   \n",
       "\n",
       "   MedianAge,Male2010  ...  3-YrMortalityAge5-14Years2015-17  \\\n",
       "0                35.9  ...                               0.0   \n",
       "1                40.1  ...                               0.0   \n",
       "2                37.2  ...                               0.0   \n",
       "3                36.5  ...                               0.0   \n",
       "4                38.0  ...                               0.0   \n",
       "\n",
       "   3-YrMortalityAge15-24Years2015-17  3-YrMortalityAge25-34Years2015-17  \\\n",
       "0                                0.0                               10.0   \n",
       "1                               23.0                               30.0   \n",
       "2                                0.0                                0.0   \n",
       "3                                0.0                                0.0   \n",
       "4                               10.0                               13.0   \n",
       "\n",
       "   3-YrMortalityAge35-44Years2015-17  3-YrMortalityAge45-54Years2015-17  \\\n",
       "0                               20.0                               44.0   \n",
       "1                               52.0                              125.0   \n",
       "2                                0.0                               21.0   \n",
       "3                                0.0                               24.0   \n",
       "4                               25.0                               49.0   \n",
       "\n",
       "   3-YrMortalityAge55-64Years2015-17  3-YrMortalityAge65-74Years2015-17  \\\n",
       "0                               73.0                              112.0   \n",
       "1                              262.0                              434.0   \n",
       "2                               44.0                               65.0   \n",
       "3                               37.0                               62.0   \n",
       "4                               94.0                              150.0   \n",
       "\n",
       "   3-YrMortalityAge75-84Years2015-17  3-YrMortalityAge85+Years2015-17  \\\n",
       "0                              143.0                            109.0   \n",
       "1                              546.0                            597.0   \n",
       "2                               72.0                             68.0   \n",
       "3                               56.0                             45.0   \n",
       "4                              182.0                            142.0   \n",
       "\n",
       "   mortality2015-17Estimated  \n",
       "0                  33.194755  \n",
       "1                 148.887537  \n",
       "2                  18.483155  \n",
       "3                  15.381366  \n",
       "4                  48.499442  \n",
       "\n",
       "[5 rows x 64 columns]"
      ]
     },
     "execution_count": 34,
     "metadata": {},
     "output_type": "execute_result"
    }
   ],
   "source": [
    "b = pd.read_csv(\"../data/us/aggregate_berkeley.csv\", index_col=0)\n",
    "b.head()"
   ]
  },
  {
   "cell_type": "code",
   "execution_count": 35,
   "metadata": {},
   "outputs": [
    {
     "data": {
      "text/plain": [
       "Index(['PopulationEstimate2018', 'Population(Persons)2017', 'PopTotalMale2017',\n",
       "       'PopTotalFemale2017', 'FracMale2017', 'PopulationEstimate65+2017',\n",
       "       'PopulationDensityperSqMile2010', 'CensusPopulation2010',\n",
       "       'MedianAge2010', 'MedianAge,Male2010', 'MedianAge,Female2010',\n",
       "       '#EligibleforMedicare2018', 'MedicareEnrollment,AgedTot2017',\n",
       "       '3-YrDiabetes2015-17', 'DiabetesPercentage', 'HeartDiseaseMortality',\n",
       "       'StrokeMortality', 'Smokers_Percentage', '#FTEHospitalTotal2017',\n",
       "       'TotalM.D.'s,TotNon-FedandFed2017', '#HospParticipatinginNetwork2017',\n",
       "       '#Hospitals', '#ICU_beds', 'dem_to_rep_ratio', 'PopMale<52010',\n",
       "       'PopFmle<52010', 'PopMale5-92010', 'PopFmle5-92010', 'PopMale10-142010',\n",
       "       'PopFmle10-142010', 'PopMale15-192010', 'PopFmle15-192010',\n",
       "       'PopMale20-242010', 'PopFmle20-242010', 'PopMale25-292010',\n",
       "       'PopFmle25-292010', 'PopMale30-342010', 'PopFmle30-342010',\n",
       "       'PopMale35-442010', 'PopFmle35-442010', 'PopMale45-542010',\n",
       "       'PopFmle45-542010', 'PopMale55-592010', 'PopFmle55-592010',\n",
       "       'PopMale60-642010', 'PopFmle60-642010', 'PopMale65-742010',\n",
       "       'PopFmle65-742010', 'PopMale75-842010', 'PopFmle75-842010',\n",
       "       'PopMale>842010', 'PopFmle>842010', '3-YrMortalityAge<1Year2015-17',\n",
       "       '3-YrMortalityAge1-4Years2015-17', '3-YrMortalityAge5-14Years2015-17',\n",
       "       '3-YrMortalityAge15-24Years2015-17',\n",
       "       '3-YrMortalityAge25-34Years2015-17',\n",
       "       '3-YrMortalityAge35-44Years2015-17',\n",
       "       '3-YrMortalityAge45-54Years2015-17',\n",
       "       '3-YrMortalityAge55-64Years2015-17',\n",
       "       '3-YrMortalityAge65-74Years2015-17',\n",
       "       '3-YrMortalityAge75-84Years2015-17', '3-YrMortalityAge85+Years2015-17',\n",
       "       'mortality2015-17Estimated'],\n",
       "      dtype='object')"
      ]
     },
     "execution_count": 35,
     "metadata": {},
     "output_type": "execute_result"
    }
   ],
   "source": [
    "b.columns"
   ]
  }
 ],
 "metadata": {
  "file_extension": ".py",
  "kernelspec": {
   "display_name": "Python 3",
   "language": "python",
   "name": "python3"
  },
  "language_info": {
   "codemirror_mode": {
    "name": "ipython",
    "version": 3
   },
   "file_extension": ".py",
   "mimetype": "text/x-python",
   "name": "python",
   "nbconvert_exporter": "python",
   "pygments_lexer": "ipython3",
   "version": "3.7.4"
  },
  "mimetype": "text/x-python",
  "name": "python",
  "npconvert_exporter": "python",
  "pygments_lexer": "ipython3",
  "version": 3
 },
 "nbformat": 4,
 "nbformat_minor": 2
}
