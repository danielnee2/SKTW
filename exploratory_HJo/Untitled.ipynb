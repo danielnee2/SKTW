{
 "cells": [
  {
   "cell_type": "code",
   "execution_count": 14,
   "metadata": {},
   "outputs": [],
   "source": [
    "from utility_HJo import *  # defines concatDF, dataPrep function, etc\n",
    "from utility_HJo_condRNN import *  # defines functions related to condRNN\n",
    "\n",
    "name = 'models_0.5quantile, 10models, 15maxEpoch_1'\n",
    "#name = 'models_0.5quantile, 10models, 15maxEpoch_0.index'\n",
    "\n",
    "# load the model\n",
    "model_test = condLSTM(128, 14)\n",
    "load_status=model_test.load_weights(name)\n",
    "# prediction_test = model_test.predict([testingData_time, testingData_static_shuffle])\n",
    "# np.mean(abs(prediction_test-testingAns_time))/2"
   ]
  },
  {
   "cell_type": "code",
   "execution_count": 15,
   "metadata": {},
   "outputs": [
    {
     "ename": "AssertionError",
     "evalue": "Unresolved object in checkpoint (root).out.kernel: attributes {\n  name: \"VARIABLE_VALUE\"\n  full_name: \"dense_272/kernel\"\n  checkpoint_key: \"out/kernel/.ATTRIBUTES/VARIABLE_VALUE\"\n}\n",
     "output_type": "error",
     "traceback": [
      "\u001b[1;31m---------------------------------------------------------------------------\u001b[0m",
      "\u001b[1;31mAssertionError\u001b[0m                            Traceback (most recent call last)",
      "\u001b[1;32m<ipython-input-15-4802b75924a6>\u001b[0m in \u001b[0;36m<module>\u001b[1;34m\u001b[0m\n\u001b[1;32m----> 1\u001b[1;33m \u001b[0mload_status\u001b[0m\u001b[1;33m.\u001b[0m\u001b[0massert_consumed\u001b[0m\u001b[1;33m(\u001b[0m\u001b[1;33m)\u001b[0m\u001b[1;33m\u001b[0m\u001b[1;33m\u001b[0m\u001b[0m\n\u001b[0m",
      "\u001b[1;32m~\\Anaconda3\\lib\\site-packages\\tensorflow_core\\python\\training\\tracking\\util.py\u001b[0m in \u001b[0;36massert_consumed\u001b[1;34m(self)\u001b[0m\n\u001b[0;32m    720\u001b[0m       \u001b[1;32mif\u001b[0m \u001b[0mtrackable\u001b[0m \u001b[1;32mis\u001b[0m \u001b[1;32mNone\u001b[0m\u001b[1;33m:\u001b[0m\u001b[1;33m\u001b[0m\u001b[1;33m\u001b[0m\u001b[0m\n\u001b[0;32m    721\u001b[0m         raise AssertionError(\"Unresolved object in checkpoint {}: {}\"\n\u001b[1;32m--> 722\u001b[1;33m                              .format(pretty_printer.node_names[node_id], node))\n\u001b[0m\u001b[0;32m    723\u001b[0m     \u001b[1;32mif\u001b[0m \u001b[0mself\u001b[0m\u001b[1;33m.\u001b[0m\u001b[0m_checkpoint\u001b[0m\u001b[1;33m.\u001b[0m\u001b[0mslot_restorations\u001b[0m\u001b[1;33m:\u001b[0m\u001b[1;33m\u001b[0m\u001b[1;33m\u001b[0m\u001b[0m\n\u001b[0;32m    724\u001b[0m       \u001b[1;31m# Sanity check; this collection should be clear if everything has been\u001b[0m\u001b[1;33m\u001b[0m\u001b[1;33m\u001b[0m\u001b[1;33m\u001b[0m\u001b[0m\n",
      "\u001b[1;31mAssertionError\u001b[0m: Unresolved object in checkpoint (root).out.kernel: attributes {\n  name: \"VARIABLE_VALUE\"\n  full_name: \"dense_272/kernel\"\n  checkpoint_key: \"out/kernel/.ATTRIBUTES/VARIABLE_VALUE\"\n}\n"
     ]
    }
   ],
   "source": [
    "load_status.assert_consumed()  \n"
   ]
  },
  {
   "cell_type": "code",
   "execution_count": null,
   "metadata": {},
   "outputs": [],
   "source": []
  }
 ],
 "metadata": {
  "kernelspec": {
   "display_name": "Python 3",
   "language": "python",
   "name": "python3"
  },
  "language_info": {
   "codemirror_mode": {
    "name": "ipython",
    "version": 3
   },
   "file_extension": ".py",
   "mimetype": "text/x-python",
   "name": "python",
   "nbconvert_exporter": "python",
   "pygments_lexer": "ipython3",
   "version": "3.7.4"
  }
 },
 "nbformat": 4,
 "nbformat_minor": 2
}
