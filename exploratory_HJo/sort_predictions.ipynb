{
 "cells": [
  {
   "cell_type": "code",
   "execution_count": 1,
   "metadata": {},
   "outputs": [
    {
     "name": "stdout",
     "output_type": "stream",
     "text": [
      "C:\\Users\\HyeongChan Jo\\OneDrive - California Institute of Technology\\class\\COVID-19\\SKTW\n"
     ]
    }
   ],
   "source": [
    "from utility import *\n",
    "import datetime\n",
    "from copy import deepcopy\n",
    "import pandas as pd\n",
    "\n",
    "from utility_HJo import *  # defines concatDF, dataPrep function, etc\n",
    "from utility_HJo_condRNN import *  # defines functions related to condRNN\n",
    "\n",
    "homedir = get_homedir(verbose=True)"
   ]
  },
  {
   "cell_type": "code",
   "execution_count": 9,
   "metadata": {},
   "outputs": [],
   "source": [
    "df = pd.read_csv(\"../finalSubmission_condRNN_1pcFromDemo_10timeFeature_2.csv\")\n",
    "df.set_index(['id'], inplace = True)"
   ]
  },
  {
   "cell_type": "code",
   "execution_count": 10,
   "metadata": {},
   "outputs": [],
   "source": [
    "val = df.values\n",
    "val.sort(axis = 1)\n",
    "df_submission = pd.DataFrame(val, df.index, df.columns)"
   ]
  },
  {
   "cell_type": "code",
   "execution_count": 11,
   "metadata": {},
   "outputs": [],
   "source": [
    "df_submission.to_csv(\"../finalSubmission_condRNN_1pcFromDemo_10timeFeature_2_sorted.csv\", float_format='%.2f')"
   ]
  },
  {
   "cell_type": "markdown",
   "metadata": {},
   "source": [
    "## take average"
   ]
  },
  {
   "cell_type": "code",
   "execution_count": 12,
   "metadata": {},
   "outputs": [],
   "source": [
    "df1 = pd.read_csv(\"../finalSubmission_condRNN_1pcFromDemo_10timeFeature.csv\")\n",
    "df1.set_index(['id'], inplace = True)\n",
    "\n",
    "df2 = pd.read_csv(\"../finalSubmission_condRNN_1pcFromDemo_10timeFeature_2.csv\")\n",
    "df2.set_index(['id'], inplace = True)"
   ]
  },
  {
   "cell_type": "code",
   "execution_count": 13,
   "metadata": {},
   "outputs": [],
   "source": [
    "val1 = df1.values\n",
    "val2 = df2.values"
   ]
  },
  {
   "cell_type": "code",
   "execution_count": 17,
   "metadata": {},
   "outputs": [],
   "source": [
    "val_avg = (val1+val2)/2\n",
    "val_avg.sort(axis = 1)\n",
    "df_submission = pd.DataFrame(val_avg, df.index, df.columns)"
   ]
  },
  {
   "cell_type": "code",
   "execution_count": 18,
   "metadata": {},
   "outputs": [],
   "source": [
    "df_submission.to_csv(\"../finalSubmission_condRNN_1pcFromDemo_10timeFeature_avg.csv\", float_format='%.2f')"
   ]
  },
  {
   "cell_type": "code",
   "execution_count": null,
   "metadata": {},
   "outputs": [],
   "source": []
  }
 ],
 "metadata": {
  "kernelspec": {
   "display_name": "Python 3",
   "language": "python",
   "name": "python3"
  },
  "language_info": {
   "codemirror_mode": {
    "name": "ipython",
    "version": 3
   },
   "file_extension": ".py",
   "mimetype": "text/x-python",
   "name": "python",
   "nbconvert_exporter": "python",
   "pygments_lexer": "ipython3",
   "version": "3.7.4"
  }
 },
 "nbformat": 4,
 "nbformat_minor": 2
}
