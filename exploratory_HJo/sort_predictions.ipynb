{
 "cells": [
  {
   "cell_type": "code",
   "execution_count": 4,
   "metadata": {},
   "outputs": [
    {
     "name": "stdout",
     "output_type": "stream",
     "text": [
      "C:\\Users\\HyeongChan Jo\\OneDrive - California Institute of Technology\\class\\COVID-19\\SKTW\n"
     ]
    }
   ],
   "source": [
    "from utility import *\n",
    "import datetime\n",
    "from copy import deepcopy\n",
    "import pandas as pd\n",
    "\n",
    "from utility_HJo import *  # defines concatDF, dataPrep function, etc\n",
    "from utility_HJo_condRNN import *  # defines functions related to condRNN\n",
    "\n",
    "homedir = get_homedir(verbose=True)"
   ]
  },
  {
   "cell_type": "code",
   "execution_count": 18,
   "metadata": {},
   "outputs": [],
   "source": [
    "df = pd.read_csv(\"../2ndSubmission_condRNN_allDemoData_noCluster_14days_again.csv\")\n",
    "df.set_index(['id'], inplace = True)"
   ]
  },
  {
   "cell_type": "code",
   "execution_count": 19,
   "metadata": {},
   "outputs": [],
   "source": [
    "val = df.values\n",
    "val.sort(axis = 1)\n",
    "df_submission = pd.DataFrame(val, df.index, df.columns)"
   ]
  },
  {
   "cell_type": "code",
   "execution_count": 20,
   "metadata": {},
   "outputs": [],
   "source": [
    "df_submission.to_csv(\"../2ndSubmission_condRNN_allDemoData_noCluster_14days_again_sorted.csv\", float_format='%.2f')"
   ]
  },
  {
   "cell_type": "code",
   "execution_count": null,
   "metadata": {},
   "outputs": [],
   "source": []
  }
 ],
 "metadata": {
  "kernelspec": {
   "display_name": "Python 3",
   "language": "python",
   "name": "python3"
  },
  "language_info": {
   "codemirror_mode": {
    "name": "ipython",
    "version": 3
   },
   "file_extension": ".py",
   "mimetype": "text/x-python",
   "name": "python",
   "nbconvert_exporter": "python",
   "pygments_lexer": "ipython3",
   "version": "3.7.4"
  }
 },
 "nbformat": 4,
 "nbformat_minor": 2
}
