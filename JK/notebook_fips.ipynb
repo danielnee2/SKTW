{
 "cells": [
  {
   "cell_type": "code",
   "execution_count": 1,
   "metadata": {},
   "outputs": [],
   "source": [
    "import numpy as np\n",
    "import pandas as pd\n",
    "import networkx as nx\n",
    "import matplotlib.pyplot as plt\n",
    "from utility import *"
   ]
  },
  {
   "cell_type": "code",
   "execution_count": 2,
   "metadata": {},
   "outputs": [
    {
     "output_type": "stream",
     "name": "stdout",
     "text": "c:\\Users\\juhn3\\Documents\\GitHub\\SKTW\n"
    }
   ],
   "source": [
    "homedir = get_homedir(verbose=True)"
   ]
  },
  {
   "cell_type": "markdown",
   "metadata": {},
   "source": [
    "## Geography"
   ]
  },
  {
   "cell_type": "code",
   "execution_count": 3,
   "metadata": {},
   "outputs": [
    {
     "output_type": "execute_result",
     "data": {
      "text/plain": "    fips     clon00     clat00     clon10     clat10    pclon00    pclat00  \\\n0  01001 -86.577176  32.523283 -86.644490  32.536382 -86.501832  32.500323   \n1  01003 -87.748260  30.592781 -87.746067  30.659218 -87.760540  30.565383   \n2  01005 -85.331312  31.856515 -85.405456  31.870670 -85.306746  31.847869   \n3  01007 -87.123243  33.040054 -87.127148  33.015893 -87.127019  33.025947   \n4  01009 -86.554768  33.978461 -86.567246  33.977448 -86.582617  33.962601   \n\n     pclon10    pclat10  \n0 -86.494165  32.500389  \n1 -87.762381  30.548923  \n2 -85.310038  31.844036  \n3 -87.127659  33.030921  \n4 -86.591491  33.955243  ",
      "text/html": "<div>\n<style scoped>\n    .dataframe tbody tr th:only-of-type {\n        vertical-align: middle;\n    }\n\n    .dataframe tbody tr th {\n        vertical-align: top;\n    }\n\n    .dataframe thead th {\n        text-align: right;\n    }\n</style>\n<table border=\"1\" class=\"dataframe\">\n  <thead>\n    <tr style=\"text-align: right;\">\n      <th></th>\n      <th>fips</th>\n      <th>clon00</th>\n      <th>clat00</th>\n      <th>clon10</th>\n      <th>clat10</th>\n      <th>pclon00</th>\n      <th>pclat00</th>\n      <th>pclon10</th>\n      <th>pclat10</th>\n    </tr>\n  </thead>\n  <tbody>\n    <tr>\n      <th>0</th>\n      <td>01001</td>\n      <td>-86.577176</td>\n      <td>32.523283</td>\n      <td>-86.644490</td>\n      <td>32.536382</td>\n      <td>-86.501832</td>\n      <td>32.500323</td>\n      <td>-86.494165</td>\n      <td>32.500389</td>\n    </tr>\n    <tr>\n      <th>1</th>\n      <td>01003</td>\n      <td>-87.748260</td>\n      <td>30.592781</td>\n      <td>-87.746067</td>\n      <td>30.659218</td>\n      <td>-87.760540</td>\n      <td>30.565383</td>\n      <td>-87.762381</td>\n      <td>30.548923</td>\n    </tr>\n    <tr>\n      <th>2</th>\n      <td>01005</td>\n      <td>-85.331312</td>\n      <td>31.856515</td>\n      <td>-85.405456</td>\n      <td>31.870670</td>\n      <td>-85.306746</td>\n      <td>31.847869</td>\n      <td>-85.310038</td>\n      <td>31.844036</td>\n    </tr>\n    <tr>\n      <th>3</th>\n      <td>01007</td>\n      <td>-87.123243</td>\n      <td>33.040054</td>\n      <td>-87.127148</td>\n      <td>33.015893</td>\n      <td>-87.127019</td>\n      <td>33.025947</td>\n      <td>-87.127659</td>\n      <td>33.030921</td>\n    </tr>\n    <tr>\n      <th>4</th>\n      <td>01009</td>\n      <td>-86.554768</td>\n      <td>33.978461</td>\n      <td>-86.567246</td>\n      <td>33.977448</td>\n      <td>-86.582617</td>\n      <td>33.962601</td>\n      <td>-86.591491</td>\n      <td>33.955243</td>\n    </tr>\n  </tbody>\n</table>\n</div>"
     },
     "metadata": {},
     "execution_count": 3
    }
   ],
   "source": [
    "# Geographic and population centers for each county in US.\n",
    "raw_county_centers = pd.read_csv(f\"{homedir}/data/us/geolocation/county_centers.csv\")\n",
    "raw_county_centers['fips'] = raw_county_centers['fips'].apply(correct_FIPS)\n",
    "raw_county_centers.head()"
   ]
  },
  {
   "cell_type": "code",
   "execution_count": 4,
   "metadata": {},
   "outputs": [
    {
     "output_type": "execute_result",
     "data": {
      "text/plain": "3147"
     },
     "metadata": {},
     "execution_count": 4
    }
   ],
   "source": [
    "len(raw_county_centers)"
   ]
  },
  {
   "cell_type": "code",
   "execution_count": 5,
   "metadata": {},
   "outputs": [
    {
     "output_type": "execute_result",
     "data": {
      "text/plain": "    FIPS  MSA/PMSA NECMA  ST          COUNTY\n0  01001            5240  AL  Autauga County\n1  01003            5160  AL  Baldwin County\n2  01005               0  AL  Barbour County\n3  01007               0  AL     Bibb County\n4  01009            1000  AL   Blount County",
      "text/html": "<div>\n<style scoped>\n    .dataframe tbody tr th:only-of-type {\n        vertical-align: middle;\n    }\n\n    .dataframe tbody tr th {\n        vertical-align: top;\n    }\n\n    .dataframe thead th {\n        text-align: right;\n    }\n</style>\n<table border=\"1\" class=\"dataframe\">\n  <thead>\n    <tr style=\"text-align: right;\">\n      <th></th>\n      <th>FIPS</th>\n      <th>MSA/PMSA NECMA</th>\n      <th>ST</th>\n      <th>COUNTY</th>\n    </tr>\n  </thead>\n  <tbody>\n    <tr>\n      <th>0</th>\n      <td>01001</td>\n      <td>5240</td>\n      <td>AL</td>\n      <td>Autauga County</td>\n    </tr>\n    <tr>\n      <th>1</th>\n      <td>01003</td>\n      <td>5160</td>\n      <td>AL</td>\n      <td>Baldwin County</td>\n    </tr>\n    <tr>\n      <th>2</th>\n      <td>01005</td>\n      <td>0</td>\n      <td>AL</td>\n      <td>Barbour County</td>\n    </tr>\n    <tr>\n      <th>3</th>\n      <td>01007</td>\n      <td>0</td>\n      <td>AL</td>\n      <td>Bibb County</td>\n    </tr>\n    <tr>\n      <th>4</th>\n      <td>01009</td>\n      <td>1000</td>\n      <td>AL</td>\n      <td>Blount County</td>\n    </tr>\n  </tbody>\n</table>\n</div>"
     },
     "metadata": {},
     "execution_count": 5
    }
   ],
   "source": [
    "fips_to_county_name = pd.read_csv(f\"{homedir}/data/us/processing_data/fips_key.csv\", encoding='latin-1')\n",
    "fips_to_county_name['FIPS'] = fips_to_county_name['FIPS'].apply(correct_FIPS)\n",
    "fips_to_county_name.head()"
   ]
  },
  {
   "cell_type": "code",
   "execution_count": 6,
   "metadata": {},
   "outputs": [
    {
     "output_type": "execute_result",
     "data": {
      "text/plain": "3246"
     },
     "metadata": {},
     "execution_count": 6
    }
   ],
   "source": [
    "len(fips_to_county_name)"
   ]
  },
  {
   "cell_type": "code",
   "execution_count": 7,
   "metadata": {},
   "outputs": [
    {
     "output_type": "execute_result",
     "data": {
      "text/plain": "{'02105', '02195', '02198', '02230', '02275', '08014'}"
     },
     "metadata": {},
     "execution_count": 7
    }
   ],
   "source": [
    "set(raw_county_centers[\"fips\"]).difference(set(fips_to_county_name[\"FIPS\"]))"
   ]
  },
  {
   "cell_type": "code",
   "execution_count": 8,
   "metadata": {},
   "outputs": [
    {
     "output_type": "execute_result",
     "data": {
      "text/plain": "82"
     },
     "metadata": {},
     "execution_count": 8
    }
   ],
   "source": [
    "len(set(fips_to_county_name[\"FIPS\"]).difference(set(raw_county_centers[\"fips\"])))"
   ]
  },
  {
   "cell_type": "markdown",
   "metadata": {},
   "source": [
    "## Submission format"
   ]
  },
  {
   "cell_type": "code",
   "execution_count": 9,
   "metadata": {},
   "outputs": [],
   "source": [
    "df = pd.read_csv(f\"{homedir}/sample_submission.csv\", index_col=0)"
   ]
  },
  {
   "cell_type": "code",
   "execution_count": 10,
   "metadata": {},
   "outputs": [
    {
     "output_type": "execute_result",
     "data": {
      "text/plain": "                   10   20   30   40   50   60   70   80   90\nid                                                           \n2020-04-01-10001  0.0  0.0  0.0  0.0  0.0  0.0  0.0  0.0  0.0\n2020-04-01-10003  0.0  0.0  0.0  0.0  0.0  0.0  0.0  0.0  0.0\n2020-04-01-10005  0.0  0.0  0.0  0.0  0.0  0.0  0.0  0.0  0.0\n2020-04-01-1001   0.0  0.0  0.0  0.0  0.0  0.0  0.0  0.0  0.0\n2020-04-01-1003   0.0  0.0  0.0  0.0  0.0  0.0  0.0  0.0  0.0",
      "text/html": "<div>\n<style scoped>\n    .dataframe tbody tr th:only-of-type {\n        vertical-align: middle;\n    }\n\n    .dataframe tbody tr th {\n        vertical-align: top;\n    }\n\n    .dataframe thead th {\n        text-align: right;\n    }\n</style>\n<table border=\"1\" class=\"dataframe\">\n  <thead>\n    <tr style=\"text-align: right;\">\n      <th></th>\n      <th>10</th>\n      <th>20</th>\n      <th>30</th>\n      <th>40</th>\n      <th>50</th>\n      <th>60</th>\n      <th>70</th>\n      <th>80</th>\n      <th>90</th>\n    </tr>\n    <tr>\n      <th>id</th>\n      <th></th>\n      <th></th>\n      <th></th>\n      <th></th>\n      <th></th>\n      <th></th>\n      <th></th>\n      <th></th>\n      <th></th>\n    </tr>\n  </thead>\n  <tbody>\n    <tr>\n      <th>2020-04-01-10001</th>\n      <td>0.0</td>\n      <td>0.0</td>\n      <td>0.0</td>\n      <td>0.0</td>\n      <td>0.0</td>\n      <td>0.0</td>\n      <td>0.0</td>\n      <td>0.0</td>\n      <td>0.0</td>\n    </tr>\n    <tr>\n      <th>2020-04-01-10003</th>\n      <td>0.0</td>\n      <td>0.0</td>\n      <td>0.0</td>\n      <td>0.0</td>\n      <td>0.0</td>\n      <td>0.0</td>\n      <td>0.0</td>\n      <td>0.0</td>\n      <td>0.0</td>\n    </tr>\n    <tr>\n      <th>2020-04-01-10005</th>\n      <td>0.0</td>\n      <td>0.0</td>\n      <td>0.0</td>\n      <td>0.0</td>\n      <td>0.0</td>\n      <td>0.0</td>\n      <td>0.0</td>\n      <td>0.0</td>\n      <td>0.0</td>\n    </tr>\n    <tr>\n      <th>2020-04-01-1001</th>\n      <td>0.0</td>\n      <td>0.0</td>\n      <td>0.0</td>\n      <td>0.0</td>\n      <td>0.0</td>\n      <td>0.0</td>\n      <td>0.0</td>\n      <td>0.0</td>\n      <td>0.0</td>\n    </tr>\n    <tr>\n      <th>2020-04-01-1003</th>\n      <td>0.0</td>\n      <td>0.0</td>\n      <td>0.0</td>\n      <td>0.0</td>\n      <td>0.0</td>\n      <td>0.0</td>\n      <td>0.0</td>\n      <td>0.0</td>\n      <td>0.0</td>\n    </tr>\n  </tbody>\n</table>\n</div>"
     },
     "metadata": {},
     "execution_count": 10
    }
   ],
   "source": [
    "df.head()"
   ]
  },
  {
   "cell_type": "code",
   "execution_count": 11,
   "metadata": {},
   "outputs": [],
   "source": [
    "columnname = [f\"{10*i}\" for i in range(1,10)]\n",
    "a = pd.DataFrame(index=df.index, columns=columnname)"
   ]
  },
  {
   "cell_type": "code",
   "execution_count": 12,
   "metadata": {},
   "outputs": [
    {
     "output_type": "execute_result",
     "data": {
      "text/plain": "3223"
     },
     "metadata": {},
     "execution_count": 12
    }
   ],
   "source": [
    "len(a)//91 # Num. of FIPS'"
   ]
  },
  {
   "cell_type": "code",
   "execution_count": 13,
   "metadata": {},
   "outputs": [
    {
     "output_type": "execute_result",
     "data": {
      "text/plain": "'09015'"
     },
     "metadata": {},
     "execution_count": 13
    }
   ],
   "source": [
    "a_firstday=a.iloc[0:3223].index.to_numpy()\n",
    "FIPS = []\n",
    "for i in range(len(a_firstday)):\n",
    "    FIPS.append(correct_FIPS(a_firstday[i][11:]))\n",
    "FIPS[-1]"
   ]
  },
  {
   "cell_type": "code",
   "execution_count": 14,
   "metadata": {},
   "outputs": [
    {
     "output_type": "stream",
     "name": "stdout",
     "text": "True\n3223\n"
    }
   ],
   "source": [
    "print(set(fips_to_county_name[\"FIPS\"])==set(FIPS))\n",
    "print(len(set(FIPS))) # No duplications in FIPS"
   ]
  },
  {
   "cell_type": "code",
   "execution_count": 15,
   "metadata": {
    "tags": [
     "outputPrepend"
    ]
   },
   "outputs": [
    {
     "output_type": "stream",
     "name": "stdout",
     "text": "['Dupage County' 'Du Page County']\n['Desoto County' 'De Soto County']\n['Hoonah-Angoon Census Area' 'Skagway Municipality'\n 'Skagway/Hoonah/Angoon Census Area']\n['DeKalb County' 'De Kalb County']\n['De Baca County' 'DeBaca County']\n['Anchorage Municipality' 'Anchorage Borough']\n['McKean County' 'Mc Kean County']\n['DeKalb County' 'De Kalb County']\n['Prince of Wales-Hyder Census Area'\n 'Prince of Wales-Outer Ketchikan Census Area']\n['Lasalle County' 'La Salle County']\n['Lasalle Parish' 'La Salle Parish']\n['Doí±a Ana County' 'Dona Ana County']\n['Lasalle County' 'La Salle County']\n['Laporte County' 'La Porte County']\n['De Kalb County' 'DeKalb County']\n['Sitka City and Borough' 'Sitka Borough']\n['Denali Borough' 'Denali Census Area' 'Denali Census Area']\n['Petersburg Borough' 'Wrangell City and Borough'\n 'Wrangell-Petersburg Census Area']\n['Juneau City and Borough' 'Juneau Borough']\n['De Kalb County' 'DeKalb County']\n"
    }
   ],
   "source": [
    "dup_FIPS = set([x for x in fips_to_county_name[\"FIPS\"] if fips_to_county_name[\"FIPS\"].to_numpy().tolist().count(x) > 1])\n",
    "for dup in dup_FIPS:\n",
    "    print(fips_to_county_name[fips_to_county_name[\"FIPS\"]==dup][\"COUNTY\"].to_numpy())"
   ]
  },
  {
   "cell_type": "markdown",
   "metadata": {},
   "source": [
    "## USAfacts dataset"
   ]
  },
  {
   "cell_type": "code",
   "execution_count": 16,
   "metadata": {},
   "outputs": [
    {
     "output_type": "execute_result",
     "data": {
      "text/plain": "   countyFIPS            County Name\n0           0  Statewide Unallocated\n1        1001         Autauga County\n2        1003         Baldwin County\n3        1005         Barbour County\n4        1007            Bibb County",
      "text/html": "<div>\n<style scoped>\n    .dataframe tbody tr th:only-of-type {\n        vertical-align: middle;\n    }\n\n    .dataframe tbody tr th {\n        vertical-align: top;\n    }\n\n    .dataframe thead th {\n        text-align: right;\n    }\n</style>\n<table border=\"1\" class=\"dataframe\">\n  <thead>\n    <tr style=\"text-align: right;\">\n      <th></th>\n      <th>countyFIPS</th>\n      <th>County Name</th>\n    </tr>\n  </thead>\n  <tbody>\n    <tr>\n      <th>0</th>\n      <td>0</td>\n      <td>Statewide Unallocated</td>\n    </tr>\n    <tr>\n      <th>1</th>\n      <td>1001</td>\n      <td>Autauga County</td>\n    </tr>\n    <tr>\n      <th>2</th>\n      <td>1003</td>\n      <td>Baldwin County</td>\n    </tr>\n    <tr>\n      <th>3</th>\n      <td>1005</td>\n      <td>Barbour County</td>\n    </tr>\n    <tr>\n      <th>4</th>\n      <td>1007</td>\n      <td>Bibb County</td>\n    </tr>\n  </tbody>\n</table>\n</div>"
     },
     "metadata": {},
     "execution_count": 16
    }
   ],
   "source": [
    "confirmed_cases = pd.read_csv(f\"{homedir}/data/us/covid/confirmed_cases.csv\", usecols=[\"countyFIPS\", \"County Name\"])\n",
    "confirmed_cases.head()"
   ]
  },
  {
   "cell_type": "code",
   "execution_count": 17,
   "metadata": {},
   "outputs": [
    {
     "output_type": "execute_result",
     "data": {
      "text/plain": "   countyFIPS            County Name\n0           0  Statewide Unallocated\n1        1001         Autauga County\n2        1003         Baldwin County\n3        1005         Barbour County\n4        1007            Bibb County",
      "text/html": "<div>\n<style scoped>\n    .dataframe tbody tr th:only-of-type {\n        vertical-align: middle;\n    }\n\n    .dataframe tbody tr th {\n        vertical-align: top;\n    }\n\n    .dataframe thead th {\n        text-align: right;\n    }\n</style>\n<table border=\"1\" class=\"dataframe\">\n  <thead>\n    <tr style=\"text-align: right;\">\n      <th></th>\n      <th>countyFIPS</th>\n      <th>County Name</th>\n    </tr>\n  </thead>\n  <tbody>\n    <tr>\n      <th>0</th>\n      <td>0</td>\n      <td>Statewide Unallocated</td>\n    </tr>\n    <tr>\n      <th>1</th>\n      <td>1001</td>\n      <td>Autauga County</td>\n    </tr>\n    <tr>\n      <th>2</th>\n      <td>1003</td>\n      <td>Baldwin County</td>\n    </tr>\n    <tr>\n      <th>3</th>\n      <td>1005</td>\n      <td>Barbour County</td>\n    </tr>\n    <tr>\n      <th>4</th>\n      <td>1007</td>\n      <td>Bibb County</td>\n    </tr>\n  </tbody>\n</table>\n</div>"
     },
     "metadata": {},
     "execution_count": 17
    }
   ],
   "source": [
    "deaths = pd.read_csv(f\"{homedir}/data/us/covid/deaths.csv\", usecols=[\"countyFIPS\", \"County Name\"])\n",
    "deaths.head()"
   ]
  },
  {
   "cell_type": "code",
   "execution_count": 18,
   "metadata": {},
   "outputs": [
    {
     "output_type": "execute_result",
     "data": {
      "text/plain": "3195"
     },
     "metadata": {},
     "execution_count": 18
    }
   ],
   "source": [
    "len(deaths)"
   ]
  },
  {
   "cell_type": "code",
   "execution_count": 19,
   "metadata": {},
   "outputs": [
    {
     "output_type": "execute_result",
     "data": {
      "text/plain": "countyFIPS     3195\nCounty Name    3179\ndtype: int64"
     },
     "metadata": {},
     "execution_count": 19
    }
   ],
   "source": [
    "(confirmed_cases==deaths).sum()"
   ]
  },
  {
   "cell_type": "code",
   "execution_count": 20,
   "metadata": {},
   "outputs": [
    {
     "output_type": "execute_result",
     "data": {
      "text/plain": "259     Broomfield County and City\n1375          Lac Qui Parle County\n1835               Dona Ana County\n2925               Matthews County\n2964               Alexandria City\n2967          Charlottesville City\n2968               Chesapeake City\n2971                 Danville City\n2976           Fredericksburg City\n2979             Harrisonburg City\n2983                 Manassas City\n2987                  Norfolk City\n2991               Portsmouth City\n2993                 Richmond City\n2997                  Suffolk City\n2998           Virginia Beach City\nName: County Name, dtype: object"
     },
     "metadata": {},
     "execution_count": 20
    }
   ],
   "source": [
    "confirmed_cases[\"County Name\"][confirmed_cases[\"County Name\"]!=deaths[\"County Name\"]]"
   ]
  },
  {
   "cell_type": "code",
   "execution_count": 21,
   "metadata": {},
   "outputs": [
    {
     "output_type": "execute_result",
     "data": {
      "text/plain": "259        Broomfield County\n1375    Lac qui Parle County\n1835       DoÔøΩa Ana County\n2925          Mathews County\n2964         Alexandria city\n2967    Charlottesville city\n2968         Chesapeake city\n2971           Danville city\n2976     Fredericksburg city\n2979       Harrisonburg city\n2983           Manassas city\n2987            Norfolk city\n2991         Portsmouth city\n2993           Richmond city\n2997            Suffolk city\n2998     Virginia Beach city\nName: County Name, dtype: object"
     },
     "metadata": {},
     "execution_count": 21
    }
   ],
   "source": [
    "deaths[\"County Name\"][confirmed_cases[\"County Name\"]!=deaths[\"County Name\"]] # Mostly capitalization issues, with 2 exceptions(Broomfield, Dona Ana)"
   ]
  },
  {
   "cell_type": "code",
   "execution_count": 22,
   "metadata": {},
   "outputs": [
    {
     "output_type": "execute_result",
     "data": {
      "text/plain": "array([   0,    0,    0,    0,    0,    0,    0,    0,    0,    0,    0,\n          0,    0,    0,    0,    0,    0,    0,    0,    0,    0,    0,\n          0,    0,    0,    0,    0,    0,    0,    0,    0,    0,    0,\n          0,    0,    0,    0,    0,    0,    0,    0,    0,    0,    0,\n          0,    0,    0,    0,    0,    0,    1, 1001, 1003, 1005, 1007,\n       1009, 1011, 1013, 1015, 1017], dtype=int64)"
     },
     "metadata": {},
     "execution_count": 22
    }
   ],
   "source": [
    "deaths[\"countyFIPS\"].nsmallest(60).to_numpy() # 0 for statewide unallocated, 1 for NYC unallocated"
   ]
  },
  {
   "cell_type": "code",
   "execution_count": 23,
   "metadata": {},
   "outputs": [],
   "source": [
    "FIPS_USA = deaths[\"countyFIPS\"].apply(correct_FIPS).to_numpy()"
   ]
  },
  {
   "cell_type": "code",
   "execution_count": 24,
   "metadata": {},
   "outputs": [
    {
     "output_type": "execute_result",
     "data": {
      "text/plain": "'01001'"
     },
     "metadata": {},
     "execution_count": 24
    }
   ],
   "source": [
    "s = set(FIPS_USA)\n",
    "s.remove('0')\n",
    "s.remove('1')\n",
    "# s.remove('06000') # Grand Princess Cruise\n",
    "min(s)"
   ]
  },
  {
   "cell_type": "code",
   "execution_count": 25,
   "metadata": {},
   "outputs": [
    {
     "output_type": "execute_result",
     "data": {
      "text/plain": "{'02105',\n '02158',\n '02195',\n '02198',\n '02230',\n '02275',\n '06000',\n '08014',\n '46102'}"
     },
     "metadata": {},
     "execution_count": 25
    }
   ],
   "source": [
    "s.difference(set(FIPS))"
   ]
  },
  {
   "cell_type": "code",
   "execution_count": 26,
   "metadata": {},
   "outputs": [
    {
     "output_type": "stream",
     "name": "stdout",
     "text": "02198 Prince of Wales-Hyder Census Area\n06000 Grand Princess Cruise Ship\n02230 Skagway Municipality\n02158 Kusilvak Census Area\n02195 Petersburg Census Area\n02105 Hoonah-Angoon Census Area\n08014 Broomfield County and City\n02275 Wrangell City and Borough\n46102 Oglala Lakota County\n"
    }
   ],
   "source": [
    "for fips in s.difference(set(FIPS)):\n",
    "    print(fips, confirmed_cases[\"County Name\"].loc[confirmed_cases[\"countyFIPS\"].apply(correct_FIPS)==fips].item())"
   ]
  },
  {
   "cell_type": "code",
   "execution_count": 27,
   "metadata": {},
   "outputs": [
    {
     "output_type": "execute_result",
     "data": {
      "text/plain": "88"
     },
     "metadata": {},
     "execution_count": 27
    }
   ],
   "source": [
    "len(set(FIPS).difference(s))"
   ]
  },
  {
   "cell_type": "markdown",
   "metadata": {},
   "source": [
    "## NYT dataset"
   ]
  },
  {
   "cell_type": "code",
   "execution_count": 28,
   "metadata": {},
   "outputs": [
    {
     "output_type": "execute_result",
     "data": {
      "text/plain": "         date     county       state     fips  cases  deaths\n0  2020-01-21  Snohomish  Washington  53061.0      1       0\n1  2020-01-22  Snohomish  Washington  53061.0      1       0\n2  2020-01-23  Snohomish  Washington  53061.0      1       0\n3  2020-01-24       Cook    Illinois  17031.0      1       0\n4  2020-01-24  Snohomish  Washington  53061.0      1       0",
      "text/html": "<div>\n<style scoped>\n    .dataframe tbody tr th:only-of-type {\n        vertical-align: middle;\n    }\n\n    .dataframe tbody tr th {\n        vertical-align: top;\n    }\n\n    .dataframe thead th {\n        text-align: right;\n    }\n</style>\n<table border=\"1\" class=\"dataframe\">\n  <thead>\n    <tr style=\"text-align: right;\">\n      <th></th>\n      <th>date</th>\n      <th>county</th>\n      <th>state</th>\n      <th>fips</th>\n      <th>cases</th>\n      <th>deaths</th>\n    </tr>\n  </thead>\n  <tbody>\n    <tr>\n      <th>0</th>\n      <td>2020-01-21</td>\n      <td>Snohomish</td>\n      <td>Washington</td>\n      <td>53061.0</td>\n      <td>1</td>\n      <td>0</td>\n    </tr>\n    <tr>\n      <th>1</th>\n      <td>2020-01-22</td>\n      <td>Snohomish</td>\n      <td>Washington</td>\n      <td>53061.0</td>\n      <td>1</td>\n      <td>0</td>\n    </tr>\n    <tr>\n      <th>2</th>\n      <td>2020-01-23</td>\n      <td>Snohomish</td>\n      <td>Washington</td>\n      <td>53061.0</td>\n      <td>1</td>\n      <td>0</td>\n    </tr>\n    <tr>\n      <th>3</th>\n      <td>2020-01-24</td>\n      <td>Cook</td>\n      <td>Illinois</td>\n      <td>17031.0</td>\n      <td>1</td>\n      <td>0</td>\n    </tr>\n    <tr>\n      <th>4</th>\n      <td>2020-01-24</td>\n      <td>Snohomish</td>\n      <td>Washington</td>\n      <td>53061.0</td>\n      <td>1</td>\n      <td>0</td>\n    </tr>\n  </tbody>\n</table>\n</div>"
     },
     "metadata": {},
     "execution_count": 28
    }
   ],
   "source": [
    "NYT = pd.read_csv(f\"{homedir}/data/us/covid/nyt_us_counties.csv\")\n",
    "NYT.head()"
   ]
  },
  {
   "cell_type": "code",
   "execution_count": 29,
   "metadata": {},
   "outputs": [
    {
     "output_type": "execute_result",
     "data": {
      "text/plain": "              county                     state\n416    New York City                  New York\n418          Unknown              Rhode Island\n1511         Unknown                New Jersey\n1858         Unknown               Puerto Rico\n2267         Unknown            Virgin Islands\n2422         Unknown                      Guam\n2929         Unknown                     Maine\n2950         Unknown             Massachusetts\n4003         Unknown                 Louisiana\n4680         Unknown                  Kentucky\n4828         Unknown                    Nevada\n5038         Unknown                 Tennessee\n5223         Unknown                  Arkansas\n5385         Unknown                   Georgia\n5641     Kansas City                  Missouri\n5647         Unknown                  Missouri\n6570         Unknown                 Minnesota\n7215         Unknown                California\n7246         Unknown                  Colorado\n7304         Unknown                   Florida\n8529         Unknown                    Hawaii\n8564         Unknown                  Illinois\n9359         Unknown                   Vermont\n12759        Unknown                     Idaho\n13116        Unknown                  Michigan\n13531        Unknown                      Ohio\n13860        Unknown                      Utah\n14946        Unknown               Mississippi\n17074        Unknown  Northern Mariana Islands\n18815        Unknown                  Nebraska\n19952        Unknown               Connecticut\n22404        Unknown                   Indiana\n26266        Unknown                    Alaska\n28573        Unknown                   Arizona\n29849        Unknown                New Mexico\n29903        Unknown                  New York\n30236        Unknown              Pennsylvania\n30693        Unknown                  Virginia\n32192        Unknown             New Hampshire\n37636        Unknown              South Dakota\n38063        Unknown                Washington\n46164        Unknown                  Delaware\n46738        Unknown                    Kansas\n47578        Unknown              North Dakota\n60339        Unknown                  Maryland\n65515        Unknown                      Iowa",
      "text/html": "<div>\n<style scoped>\n    .dataframe tbody tr th:only-of-type {\n        vertical-align: middle;\n    }\n\n    .dataframe tbody tr th {\n        vertical-align: top;\n    }\n\n    .dataframe thead th {\n        text-align: right;\n    }\n</style>\n<table border=\"1\" class=\"dataframe\">\n  <thead>\n    <tr style=\"text-align: right;\">\n      <th></th>\n      <th>county</th>\n      <th>state</th>\n    </tr>\n  </thead>\n  <tbody>\n    <tr>\n      <th>416</th>\n      <td>New York City</td>\n      <td>New York</td>\n    </tr>\n    <tr>\n      <th>418</th>\n      <td>Unknown</td>\n      <td>Rhode Island</td>\n    </tr>\n    <tr>\n      <th>1511</th>\n      <td>Unknown</td>\n      <td>New Jersey</td>\n    </tr>\n    <tr>\n      <th>1858</th>\n      <td>Unknown</td>\n      <td>Puerto Rico</td>\n    </tr>\n    <tr>\n      <th>2267</th>\n      <td>Unknown</td>\n      <td>Virgin Islands</td>\n    </tr>\n    <tr>\n      <th>2422</th>\n      <td>Unknown</td>\n      <td>Guam</td>\n    </tr>\n    <tr>\n      <th>2929</th>\n      <td>Unknown</td>\n      <td>Maine</td>\n    </tr>\n    <tr>\n      <th>2950</th>\n      <td>Unknown</td>\n      <td>Massachusetts</td>\n    </tr>\n    <tr>\n      <th>4003</th>\n      <td>Unknown</td>\n      <td>Louisiana</td>\n    </tr>\n    <tr>\n      <th>4680</th>\n      <td>Unknown</td>\n      <td>Kentucky</td>\n    </tr>\n    <tr>\n      <th>4828</th>\n      <td>Unknown</td>\n      <td>Nevada</td>\n    </tr>\n    <tr>\n      <th>5038</th>\n      <td>Unknown</td>\n      <td>Tennessee</td>\n    </tr>\n    <tr>\n      <th>5223</th>\n      <td>Unknown</td>\n      <td>Arkansas</td>\n    </tr>\n    <tr>\n      <th>5385</th>\n      <td>Unknown</td>\n      <td>Georgia</td>\n    </tr>\n    <tr>\n      <th>5641</th>\n      <td>Kansas City</td>\n      <td>Missouri</td>\n    </tr>\n    <tr>\n      <th>5647</th>\n      <td>Unknown</td>\n      <td>Missouri</td>\n    </tr>\n    <tr>\n      <th>6570</th>\n      <td>Unknown</td>\n      <td>Minnesota</td>\n    </tr>\n    <tr>\n      <th>7215</th>\n      <td>Unknown</td>\n      <td>California</td>\n    </tr>\n    <tr>\n      <th>7246</th>\n      <td>Unknown</td>\n      <td>Colorado</td>\n    </tr>\n    <tr>\n      <th>7304</th>\n      <td>Unknown</td>\n      <td>Florida</td>\n    </tr>\n    <tr>\n      <th>8529</th>\n      <td>Unknown</td>\n      <td>Hawaii</td>\n    </tr>\n    <tr>\n      <th>8564</th>\n      <td>Unknown</td>\n      <td>Illinois</td>\n    </tr>\n    <tr>\n      <th>9359</th>\n      <td>Unknown</td>\n      <td>Vermont</td>\n    </tr>\n    <tr>\n      <th>12759</th>\n      <td>Unknown</td>\n      <td>Idaho</td>\n    </tr>\n    <tr>\n      <th>13116</th>\n      <td>Unknown</td>\n      <td>Michigan</td>\n    </tr>\n    <tr>\n      <th>13531</th>\n      <td>Unknown</td>\n      <td>Ohio</td>\n    </tr>\n    <tr>\n      <th>13860</th>\n      <td>Unknown</td>\n      <td>Utah</td>\n    </tr>\n    <tr>\n      <th>14946</th>\n      <td>Unknown</td>\n      <td>Mississippi</td>\n    </tr>\n    <tr>\n      <th>17074</th>\n      <td>Unknown</td>\n      <td>Northern Mariana Islands</td>\n    </tr>\n    <tr>\n      <th>18815</th>\n      <td>Unknown</td>\n      <td>Nebraska</td>\n    </tr>\n    <tr>\n      <th>19952</th>\n      <td>Unknown</td>\n      <td>Connecticut</td>\n    </tr>\n    <tr>\n      <th>22404</th>\n      <td>Unknown</td>\n      <td>Indiana</td>\n    </tr>\n    <tr>\n      <th>26266</th>\n      <td>Unknown</td>\n      <td>Alaska</td>\n    </tr>\n    <tr>\n      <th>28573</th>\n      <td>Unknown</td>\n      <td>Arizona</td>\n    </tr>\n    <tr>\n      <th>29849</th>\n      <td>Unknown</td>\n      <td>New Mexico</td>\n    </tr>\n    <tr>\n      <th>29903</th>\n      <td>Unknown</td>\n      <td>New York</td>\n    </tr>\n    <tr>\n      <th>30236</th>\n      <td>Unknown</td>\n      <td>Pennsylvania</td>\n    </tr>\n    <tr>\n      <th>30693</th>\n      <td>Unknown</td>\n      <td>Virginia</td>\n    </tr>\n    <tr>\n      <th>32192</th>\n      <td>Unknown</td>\n      <td>New Hampshire</td>\n    </tr>\n    <tr>\n      <th>37636</th>\n      <td>Unknown</td>\n      <td>South Dakota</td>\n    </tr>\n    <tr>\n      <th>38063</th>\n      <td>Unknown</td>\n      <td>Washington</td>\n    </tr>\n    <tr>\n      <th>46164</th>\n      <td>Unknown</td>\n      <td>Delaware</td>\n    </tr>\n    <tr>\n      <th>46738</th>\n      <td>Unknown</td>\n      <td>Kansas</td>\n    </tr>\n    <tr>\n      <th>47578</th>\n      <td>Unknown</td>\n      <td>North Dakota</td>\n    </tr>\n    <tr>\n      <th>60339</th>\n      <td>Unknown</td>\n      <td>Maryland</td>\n    </tr>\n    <tr>\n      <th>65515</th>\n      <td>Unknown</td>\n      <td>Iowa</td>\n    </tr>\n  </tbody>\n</table>\n</div>"
     },
     "metadata": {},
     "execution_count": 29
    }
   ],
   "source": [
    "NYT[[\"county\", \"state\"]][NYT[\"fips\"].isna()].drop_duplicates()"
   ]
  },
  {
   "cell_type": "code",
   "execution_count": 30,
   "metadata": {},
   "outputs": [
    {
     "output_type": "execute_result",
     "data": {
      "text/plain": "         date     county       state   fips  cases  deaths\n0  2020-01-21  Snohomish  Washington  53061      1       0\n1  2020-01-22  Snohomish  Washington  53061      1       0\n2  2020-01-23  Snohomish  Washington  53061      1       0\n3  2020-01-24       Cook    Illinois  17031      1       0\n4  2020-01-24  Snohomish  Washington  53061      1       0",
      "text/html": "<div>\n<style scoped>\n    .dataframe tbody tr th:only-of-type {\n        vertical-align: middle;\n    }\n\n    .dataframe tbody tr th {\n        vertical-align: top;\n    }\n\n    .dataframe thead th {\n        text-align: right;\n    }\n</style>\n<table border=\"1\" class=\"dataframe\">\n  <thead>\n    <tr style=\"text-align: right;\">\n      <th></th>\n      <th>date</th>\n      <th>county</th>\n      <th>state</th>\n      <th>fips</th>\n      <th>cases</th>\n      <th>deaths</th>\n    </tr>\n  </thead>\n  <tbody>\n    <tr>\n      <th>0</th>\n      <td>2020-01-21</td>\n      <td>Snohomish</td>\n      <td>Washington</td>\n      <td>53061</td>\n      <td>1</td>\n      <td>0</td>\n    </tr>\n    <tr>\n      <th>1</th>\n      <td>2020-01-22</td>\n      <td>Snohomish</td>\n      <td>Washington</td>\n      <td>53061</td>\n      <td>1</td>\n      <td>0</td>\n    </tr>\n    <tr>\n      <th>2</th>\n      <td>2020-01-23</td>\n      <td>Snohomish</td>\n      <td>Washington</td>\n      <td>53061</td>\n      <td>1</td>\n      <td>0</td>\n    </tr>\n    <tr>\n      <th>3</th>\n      <td>2020-01-24</td>\n      <td>Cook</td>\n      <td>Illinois</td>\n      <td>17031</td>\n      <td>1</td>\n      <td>0</td>\n    </tr>\n    <tr>\n      <th>4</th>\n      <td>2020-01-24</td>\n      <td>Snohomish</td>\n      <td>Washington</td>\n      <td>53061</td>\n      <td>1</td>\n      <td>0</td>\n    </tr>\n  </tbody>\n</table>\n</div>"
     },
     "metadata": {},
     "execution_count": 30
    }
   ],
   "source": [
    "NYT_notna = NYT[NYT[\"fips\"].notna()]\n",
    "NYT_notna[\"fips\"] = NYT_notna[\"fips\"].apply(correct_FIPS)\n",
    "NYT_notna.head()"
   ]
  },
  {
   "cell_type": "code",
   "execution_count": 31,
   "metadata": {},
   "outputs": [
    {
     "output_type": "execute_result",
     "data": {
      "text/plain": "2797"
     },
     "metadata": {},
     "execution_count": 31
    }
   ],
   "source": [
    "len(set(NYT_notna[\"fips\"]))"
   ]
  },
  {
   "cell_type": "code",
   "execution_count": 32,
   "metadata": {},
   "outputs": [
    {
     "output_type": "execute_result",
     "data": {
      "text/plain": "{'02195', '02198', '08014', '46102'}"
     },
     "metadata": {},
     "execution_count": 32
    }
   ],
   "source": [
    "set(NYT_notna[\"fips\"]).difference(set(FIPS))"
   ]
  },
  {
   "cell_type": "code",
   "execution_count": 33,
   "metadata": {},
   "outputs": [
    {
     "output_type": "stream",
     "name": "stdout",
     "text": "02198 Prince of Wales-Hyder Census Area\n08014 Broomfield\n46102 Oglala Lakota\n02195 Petersburg Borough\n"
    }
   ],
   "source": [
    "for fips in set(NYT_notna[\"fips\"]).difference(set(FIPS)):\n",
    "    print(fips, NYT_notna[\"county\"].loc[NYT_notna[\"fips\"]==fips].iloc[0]) # 02: Alaska"
   ]
  },
  {
   "cell_type": "markdown",
   "metadata": {},
   "source": [
    "## Berkeley"
   ]
  },
  {
   "cell_type": "code",
   "execution_count": 34,
   "metadata": {},
   "outputs": [
    {
     "output_type": "execute_result",
     "data": {
      "text/plain": "   countyFIPS     State    County  PopulationEstimate2018  \\\n0        1001  Alabama   Autauga                  55601.0   \n1        1003  Alabama   Baldwin                 218022.0   \n2        1005  Alabama   Barbour                  24881.0   \n3        1007  Alabama      Bibb                  22400.0   \n4        1009  Alabama    Blount                  57840.0   \n\n   Population(Persons)2017  PopTotalMale2017  PopTotalFemale2017  \\\n0                  55504.0           27007.0             28497.0   \n1                 212628.0          103225.0            109403.0   \n2                  25270.0           13335.0             11935.0   \n3                  22668.0           12138.0             10530.0   \n4                  58013.0           28607.0             29406.0   \n\n   FracMale2017  PopulationEstimate65+2017  PopulationDensityperSqMile2010  \\\n0      0.486578                     8392.0                            91.8   \n1      0.485472                    42413.0                           114.7   \n2      0.527701                     4757.0                            31.0   \n3      0.535469                     3632.0                            36.8   \n4      0.493114                    10351.0                            88.9   \n\n   ...  3-YrMortalityAge5-14Years2015-17  3-YrMortalityAge15-24Years2015-17  \\\n0  ...                               0.0                                0.0   \n1  ...                               0.0                               23.0   \n2  ...                               0.0                                0.0   \n3  ...                               0.0                                0.0   \n4  ...                               0.0                               10.0   \n\n   3-YrMortalityAge25-34Years2015-17  3-YrMortalityAge35-44Years2015-17  \\\n0                               10.0                               20.0   \n1                               30.0                               52.0   \n2                                0.0                                0.0   \n3                                0.0                                0.0   \n4                               13.0                               25.0   \n\n   3-YrMortalityAge45-54Years2015-17  3-YrMortalityAge55-64Years2015-17  \\\n0                               44.0                               73.0   \n1                              125.0                              262.0   \n2                               21.0                               44.0   \n3                               24.0                               37.0   \n4                               49.0                               94.0   \n\n   3-YrMortalityAge65-74Years2015-17  3-YrMortalityAge75-84Years2015-17  \\\n0                              112.0                              143.0   \n1                              434.0                              546.0   \n2                               65.0                               72.0   \n3                               62.0                               56.0   \n4                              150.0                              182.0   \n\n   3-YrMortalityAge85+Years2015-17  mortality2015-17Estimated  \n0                            109.0                  33.194755  \n1                            597.0                 148.887537  \n2                             68.0                  18.483155  \n3                             45.0                  15.381366  \n4                            142.0                  48.499442  \n\n[5 rows x 67 columns]",
      "text/html": "<div>\n<style scoped>\n    .dataframe tbody tr th:only-of-type {\n        vertical-align: middle;\n    }\n\n    .dataframe tbody tr th {\n        vertical-align: top;\n    }\n\n    .dataframe thead th {\n        text-align: right;\n    }\n</style>\n<table border=\"1\" class=\"dataframe\">\n  <thead>\n    <tr style=\"text-align: right;\">\n      <th></th>\n      <th>countyFIPS</th>\n      <th>State</th>\n      <th>County</th>\n      <th>PopulationEstimate2018</th>\n      <th>Population(Persons)2017</th>\n      <th>PopTotalMale2017</th>\n      <th>PopTotalFemale2017</th>\n      <th>FracMale2017</th>\n      <th>PopulationEstimate65+2017</th>\n      <th>PopulationDensityperSqMile2010</th>\n      <th>...</th>\n      <th>3-YrMortalityAge5-14Years2015-17</th>\n      <th>3-YrMortalityAge15-24Years2015-17</th>\n      <th>3-YrMortalityAge25-34Years2015-17</th>\n      <th>3-YrMortalityAge35-44Years2015-17</th>\n      <th>3-YrMortalityAge45-54Years2015-17</th>\n      <th>3-YrMortalityAge55-64Years2015-17</th>\n      <th>3-YrMortalityAge65-74Years2015-17</th>\n      <th>3-YrMortalityAge75-84Years2015-17</th>\n      <th>3-YrMortalityAge85+Years2015-17</th>\n      <th>mortality2015-17Estimated</th>\n    </tr>\n  </thead>\n  <tbody>\n    <tr>\n      <th>0</th>\n      <td>1001</td>\n      <td>Alabama</td>\n      <td>Autauga</td>\n      <td>55601.0</td>\n      <td>55504.0</td>\n      <td>27007.0</td>\n      <td>28497.0</td>\n      <td>0.486578</td>\n      <td>8392.0</td>\n      <td>91.8</td>\n      <td>...</td>\n      <td>0.0</td>\n      <td>0.0</td>\n      <td>10.0</td>\n      <td>20.0</td>\n      <td>44.0</td>\n      <td>73.0</td>\n      <td>112.0</td>\n      <td>143.0</td>\n      <td>109.0</td>\n      <td>33.194755</td>\n    </tr>\n    <tr>\n      <th>1</th>\n      <td>1003</td>\n      <td>Alabama</td>\n      <td>Baldwin</td>\n      <td>218022.0</td>\n      <td>212628.0</td>\n      <td>103225.0</td>\n      <td>109403.0</td>\n      <td>0.485472</td>\n      <td>42413.0</td>\n      <td>114.7</td>\n      <td>...</td>\n      <td>0.0</td>\n      <td>23.0</td>\n      <td>30.0</td>\n      <td>52.0</td>\n      <td>125.0</td>\n      <td>262.0</td>\n      <td>434.0</td>\n      <td>546.0</td>\n      <td>597.0</td>\n      <td>148.887537</td>\n    </tr>\n    <tr>\n      <th>2</th>\n      <td>1005</td>\n      <td>Alabama</td>\n      <td>Barbour</td>\n      <td>24881.0</td>\n      <td>25270.0</td>\n      <td>13335.0</td>\n      <td>11935.0</td>\n      <td>0.527701</td>\n      <td>4757.0</td>\n      <td>31.0</td>\n      <td>...</td>\n      <td>0.0</td>\n      <td>0.0</td>\n      <td>0.0</td>\n      <td>0.0</td>\n      <td>21.0</td>\n      <td>44.0</td>\n      <td>65.0</td>\n      <td>72.0</td>\n      <td>68.0</td>\n      <td>18.483155</td>\n    </tr>\n    <tr>\n      <th>3</th>\n      <td>1007</td>\n      <td>Alabama</td>\n      <td>Bibb</td>\n      <td>22400.0</td>\n      <td>22668.0</td>\n      <td>12138.0</td>\n      <td>10530.0</td>\n      <td>0.535469</td>\n      <td>3632.0</td>\n      <td>36.8</td>\n      <td>...</td>\n      <td>0.0</td>\n      <td>0.0</td>\n      <td>0.0</td>\n      <td>0.0</td>\n      <td>24.0</td>\n      <td>37.0</td>\n      <td>62.0</td>\n      <td>56.0</td>\n      <td>45.0</td>\n      <td>15.381366</td>\n    </tr>\n    <tr>\n      <th>4</th>\n      <td>1009</td>\n      <td>Alabama</td>\n      <td>Blount</td>\n      <td>57840.0</td>\n      <td>58013.0</td>\n      <td>28607.0</td>\n      <td>29406.0</td>\n      <td>0.493114</td>\n      <td>10351.0</td>\n      <td>88.9</td>\n      <td>...</td>\n      <td>0.0</td>\n      <td>10.0</td>\n      <td>13.0</td>\n      <td>25.0</td>\n      <td>49.0</td>\n      <td>94.0</td>\n      <td>150.0</td>\n      <td>182.0</td>\n      <td>142.0</td>\n      <td>48.499442</td>\n    </tr>\n  </tbody>\n</table>\n<p>5 rows × 67 columns</p>\n</div>"
     },
     "metadata": {},
     "execution_count": 34
    }
   ],
   "source": [
    "b = pd.read_csv(\"../data/us/aggregate_berkeley.csv\", index_col=0)\n",
    "b.head()"
   ]
  },
  {
   "cell_type": "code",
   "execution_count": 35,
   "metadata": {},
   "outputs": [
    {
     "output_type": "execute_result",
     "data": {
      "text/plain": "Index(['countyFIPS', 'State', 'County', 'PopulationEstimate2018',\n       'Population(Persons)2017', 'PopTotalMale2017', 'PopTotalFemale2017',\n       'FracMale2017', 'PopulationEstimate65+2017',\n       'PopulationDensityperSqMile2010', 'CensusPopulation2010',\n       'MedianAge2010', 'MedianAge,Male2010', 'MedianAge,Female2010',\n       '#EligibleforMedicare2018', 'MedicareEnrollment,AgedTot2017',\n       '3-YrDiabetes2015-17', 'DiabetesPercentage', 'HeartDiseaseMortality',\n       'StrokeMortality', 'Smokers_Percentage', '#FTEHospitalTotal2017',\n       'TotalM.D.'s,TotNon-FedandFed2017', '#HospParticipatinginNetwork2017',\n       '#Hospitals', '#ICU_beds', 'dem_to_rep_ratio', 'PopMale<52010',\n       'PopFmle<52010', 'PopMale5-92010', 'PopFmle5-92010', 'PopMale10-142010',\n       'PopFmle10-142010', 'PopMale15-192010', 'PopFmle15-192010',\n       'PopMale20-242010', 'PopFmle20-242010', 'PopMale25-292010',\n       'PopFmle25-292010', 'PopMale30-342010', 'PopFmle30-342010',\n       'PopMale35-442010', 'PopFmle35-442010', 'PopMale45-542010',\n       'PopFmle45-542010', 'PopMale55-592010', 'PopFmle55-592010',\n       'PopMale60-642010', 'PopFmle60-642010', 'PopMale65-742010',\n       'PopFmle65-742010', 'PopMale75-842010', 'PopFmle75-842010',\n       'PopMale>842010', 'PopFmle>842010', '3-YrMortalityAge<1Year2015-17',\n       '3-YrMortalityAge1-4Years2015-17', '3-YrMortalityAge5-14Years2015-17',\n       '3-YrMortalityAge15-24Years2015-17',\n       '3-YrMortalityAge25-34Years2015-17',\n       '3-YrMortalityAge35-44Years2015-17',\n       '3-YrMortalityAge45-54Years2015-17',\n       '3-YrMortalityAge55-64Years2015-17',\n       '3-YrMortalityAge65-74Years2015-17',\n       '3-YrMortalityAge75-84Years2015-17', '3-YrMortalityAge85+Years2015-17',\n       'mortality2015-17Estimated'],\n      dtype='object')"
     },
     "metadata": {},
     "execution_count": 35
    }
   ],
   "source": [
    "b.columns"
   ]
  },
  {
   "cell_type": "code",
   "execution_count": 36,
   "metadata": {},
   "outputs": [
    {
     "output_type": "execute_result",
     "data": {
      "text/plain": "3114"
     },
     "metadata": {},
     "execution_count": 36
    }
   ],
   "source": [
    "len(b)"
   ]
  },
  {
   "cell_type": "markdown",
   "metadata": {},
   "source": [
    "### Exceptions fall into 3 Groups: Broomfield in Colorado, Oglala Lakota in SD, and Alaska groups"
   ]
  },
  {
   "cell_type": "code",
   "execution_count": 37,
   "metadata": {},
   "outputs": [
    {
     "output_type": "execute_result",
     "data": {
      "text/plain": "3232"
     },
     "metadata": {},
     "execution_count": 37
    }
   ],
   "source": [
    "FIPS_full = set(FIPS)|s\n",
    "FIPS_full = sorted(FIPS_full)\n",
    "len(FIPS_full)"
   ]
  },
  {
   "cell_type": "code",
   "execution_count": 38,
   "metadata": {},
   "outputs": [
    {
     "output_type": "execute_result",
     "data": {
      "text/plain": "['01001',\n '01003',\n '01005',\n '01007',\n '01009',\n '01011',\n '01013',\n '01015',\n '01017',\n '01019']"
     },
     "metadata": {},
     "execution_count": 38
    }
   ],
   "source": [
    "FIPS_mapping = {}\n",
    "for fips in FIPS_full:\n",
    "    if fips in set(FIPS):\n",
    "        FIPS_mapping[fips]=fips\n",
    "    else:\n",
    "        if fips=='02105' or fips=='02230':\n",
    "            FIPS_mapping[fips]='02232'\n",
    "        elif fips=='02195' or fips=='02275':\n",
    "            FIPS_mapping[fips]='02280'\n",
    "        elif fips=='02198':\n",
    "            FIPS_mapping[fips]='02201'\n",
    "        elif fips=='02158':\n",
    "            FIPS_mapping[fips]='02270'\n",
    "        elif fips=='08014':\n",
    "            FIPS_mapping[fips]='08123'\n",
    "        elif fips=='46102':\n",
    "            FIPS_mapping[fips]='46113'\n",
    "sorted(FIPS_mapping.keys())[:10]"
   ]
  },
  {
   "cell_type": "code",
   "execution_count": 39,
   "metadata": {},
   "outputs": [],
   "source": [
    "# with open(f'{homedir}/JK/FIPS_mapping.txt', 'w') as f:\n",
    "#     print(FIPS_mapping, file=f)"
   ]
  },
  {
   "cell_type": "code",
   "execution_count": 40,
   "metadata": {},
   "outputs": [
    {
     "output_type": "execute_result",
     "data": {
      "text/plain": "dict"
     },
     "metadata": {},
     "execution_count": 40
    }
   ],
   "source": [
    "\"\"\"\n",
    "Dictionary FIPS_mapping can be loaded using get_FIPS in utility.py module\n",
    "\"\"\"\n",
    "FIPS_mapping, FIPS_full = get_FIPS()\n",
    "type(FIPS_mapping)"
   ]
  }
 ],
 "metadata": {
  "language_info": {
   "name": "python",
   "codemirror_mode": {
    "name": "ipython",
    "version": 3
   },
   "version": "3.7.6-final"
  },
  "orig_nbformat": 2,
  "file_extension": ".py",
  "mimetype": "text/x-python",
  "name": "python",
  "npconvert_exporter": "python",
  "pygments_lexer": "ipython3",
  "version": 3,
  "kernelspec": {
   "name": "python37664bitbaseconda4eadddc3141645a4b2e2e3236285dbac",
   "display_name": "Python 3.7.6 64-bit ('base': conda)"
  }
 },
 "nbformat": 4,
 "nbformat_minor": 2
}