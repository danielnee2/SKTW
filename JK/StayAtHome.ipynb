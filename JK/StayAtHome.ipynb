{
 "cells": [
  {
   "cell_type": "code",
   "execution_count": 1,
   "metadata": {},
   "outputs": [],
   "source": [
    "import json\n",
    "import numpy as np\n",
    "import pandas as pd\n",
    "from utility import *\n",
    "\n",
    "homedir = get_homedir()\n",
    "FIPS_mapping, FIPS_full = get_FIPS(reduced=True)"
   ]
  },
  {
   "cell_type": "markdown",
   "metadata": {},
   "source": [
    "## Reading data"
   ]
  },
  {
   "cell_type": "code",
   "execution_count": 2,
   "metadata": {},
   "outputs": [
    {
     "output_type": "stream",
     "name": "stdout",
     "text": "06 06\n"
    }
   ],
   "source": [
    "with open(f'{homedir}/JK/po_code_state_map.json') as f:\n",
    "    po_st = json.load(f)\n",
    "\n",
    "st_to_fips = {}\n",
    "po_to_fips = {}\n",
    "for dic in po_st:\n",
    "    st_to_fips[dic['state']] = dic['fips']\n",
    "    po_to_fips[dic['postalCode']] = dic['fips']\n",
    "print(st_to_fips['California'], po_to_fips['CA'])"
   ]
  },
  {
   "cell_type": "code",
   "execution_count": 3,
   "metadata": {},
   "outputs": [
    {
     "output_type": "execute_result",
     "data": {
      "text/plain": "    FIPS  MSA/PMSA NECMA  ST          COUNTY\n0  01001            5240  01  Autauga County\n1  01003            5160  01  Baldwin County\n2  01005               0  01  Barbour County\n3  01007               0  01     Bibb County\n4  01009            1000  01   Blount County",
      "text/html": "<div>\n<style scoped>\n    .dataframe tbody tr th:only-of-type {\n        vertical-align: middle;\n    }\n\n    .dataframe tbody tr th {\n        vertical-align: top;\n    }\n\n    .dataframe thead th {\n        text-align: right;\n    }\n</style>\n<table border=\"1\" class=\"dataframe\">\n  <thead>\n    <tr style=\"text-align: right;\">\n      <th></th>\n      <th>FIPS</th>\n      <th>MSA/PMSA NECMA</th>\n      <th>ST</th>\n      <th>COUNTY</th>\n    </tr>\n  </thead>\n  <tbody>\n    <tr>\n      <th>0</th>\n      <td>01001</td>\n      <td>5240</td>\n      <td>01</td>\n      <td>Autauga County</td>\n    </tr>\n    <tr>\n      <th>1</th>\n      <td>01003</td>\n      <td>5160</td>\n      <td>01</td>\n      <td>Baldwin County</td>\n    </tr>\n    <tr>\n      <th>2</th>\n      <td>01005</td>\n      <td>0</td>\n      <td>01</td>\n      <td>Barbour County</td>\n    </tr>\n    <tr>\n      <th>3</th>\n      <td>01007</td>\n      <td>0</td>\n      <td>01</td>\n      <td>Bibb County</td>\n    </tr>\n    <tr>\n      <th>4</th>\n      <td>01009</td>\n      <td>1000</td>\n      <td>01</td>\n      <td>Blount County</td>\n    </tr>\n  </tbody>\n</table>\n</div>"
     },
     "metadata": {},
     "execution_count": 3
    }
   ],
   "source": [
    "fips_key = pd.read_csv(f'{homedir}/data/us/processing_data/fips_key.csv', encoding='latin-1')\n",
    "fips_key['FIPS'] = fips_key['FIPS'].apply(correct_FIPS)\n",
    "fips_key.replace({'ST':po_to_fips}, inplace=True)\n",
    "fips_key.drop_duplicates(subset=['FIPS'], inplace=True)\n",
    "fips_key.head()"
   ]
  },
  {
   "cell_type": "markdown",
   "metadata": {},
   "source": [
    "-------------------------------------------------------------------------------"
   ]
  },
  {
   "cell_type": "code",
   "execution_count": 4,
   "metadata": {},
   "outputs": [
    {
     "output_type": "execute_result",
     "data": {
      "text/plain": "    FIPS             Name    Data\n3     DZ          Algeria  43.406\n4     EG            Egypt  99.064\n5     LY            Libya   6.777\n6     MA          Morocco  35.587\n7     SD            Sudan  42.813\n..   ...              ...     ...\n229   WS            Samoa   0.199\n230   SB  Solomon Islands   0.699\n231   TO            Tonga   0.100\n232   TV           Tuvalu   0.010\n233   VU          Vanuatu   0.313\n\n[209 rows x 3 columns]",
      "text/html": "<div>\n<style scoped>\n    .dataframe tbody tr th:only-of-type {\n        vertical-align: middle;\n    }\n\n    .dataframe tbody tr th {\n        vertical-align: top;\n    }\n\n    .dataframe thead th {\n        text-align: right;\n    }\n</style>\n<table border=\"1\" class=\"dataframe\">\n  <thead>\n    <tr style=\"text-align: right;\">\n      <th></th>\n      <th>FIPS</th>\n      <th>Name</th>\n      <th>Data</th>\n    </tr>\n  </thead>\n  <tbody>\n    <tr>\n      <th>3</th>\n      <td>DZ</td>\n      <td>Algeria</td>\n      <td>43.406</td>\n    </tr>\n    <tr>\n      <th>4</th>\n      <td>EG</td>\n      <td>Egypt</td>\n      <td>99.064</td>\n    </tr>\n    <tr>\n      <th>5</th>\n      <td>LY</td>\n      <td>Libya</td>\n      <td>6.777</td>\n    </tr>\n    <tr>\n      <th>6</th>\n      <td>MA</td>\n      <td>Morocco</td>\n      <td>35.587</td>\n    </tr>\n    <tr>\n      <th>7</th>\n      <td>SD</td>\n      <td>Sudan</td>\n      <td>42.813</td>\n    </tr>\n    <tr>\n      <th>...</th>\n      <td>...</td>\n      <td>...</td>\n      <td>...</td>\n    </tr>\n    <tr>\n      <th>229</th>\n      <td>WS</td>\n      <td>Samoa</td>\n      <td>0.199</td>\n    </tr>\n    <tr>\n      <th>230</th>\n      <td>SB</td>\n      <td>Solomon Islands</td>\n      <td>0.699</td>\n    </tr>\n    <tr>\n      <th>231</th>\n      <td>TO</td>\n      <td>Tonga</td>\n      <td>0.100</td>\n    </tr>\n    <tr>\n      <th>232</th>\n      <td>TV</td>\n      <td>Tuvalu</td>\n      <td>0.010</td>\n    </tr>\n    <tr>\n      <th>233</th>\n      <td>VU</td>\n      <td>Vanuatu</td>\n      <td>0.313</td>\n    </tr>\n  </tbody>\n</table>\n<p>209 rows × 3 columns</p>\n</div>"
     },
     "metadata": {},
     "execution_count": 4
    }
   ],
   "source": [
    "_ = pd.read_csv(f'{homedir}/JK/prb_international_population.csv')\n",
    "_[_['Type']=='Country'][['FIPS', 'Name', 'Data']]"
   ]
  },
  {
   "cell_type": "code",
   "execution_count": 5,
   "metadata": {},
   "outputs": [],
   "source": [
    "demo = pd.read_csv(f'{homedir}/JK/preprocessing/0508/demographic.csv')\n",
    "demo.loc[:, 'fips'] = demo['fips'].apply(correct_FIPS)\n",
    "FIPS_demo = set(demo['fips'])"
   ]
  },
  {
   "cell_type": "code",
   "execution_count": 6,
   "metadata": {},
   "outputs": [
    {
     "output_type": "execute_result",
     "data": {
      "text/plain": "    FIPS County Emergency Declaration Date Safer-at-Home Policy Date  \\\n0  01001                               NaT                       NaT   \n1  01003                        2020-03-14                       NaT   \n2  01005                               NaT                       NaT   \n3  01007                               NaT                       NaT   \n4  01009                        2020-03-17                       NaT   \n\n  Business Closure Policy Date  \n0                          NaT  \n1                          NaT  \n2                          NaT  \n3                          NaT  \n4                          NaT  ",
      "text/html": "<div>\n<style scoped>\n    .dataframe tbody tr th:only-of-type {\n        vertical-align: middle;\n    }\n\n    .dataframe tbody tr th {\n        vertical-align: top;\n    }\n\n    .dataframe thead th {\n        text-align: right;\n    }\n</style>\n<table border=\"1\" class=\"dataframe\">\n  <thead>\n    <tr style=\"text-align: right;\">\n      <th></th>\n      <th>FIPS</th>\n      <th>County Emergency Declaration Date</th>\n      <th>Safer-at-Home Policy Date</th>\n      <th>Business Closure Policy Date</th>\n    </tr>\n  </thead>\n  <tbody>\n    <tr>\n      <th>0</th>\n      <td>01001</td>\n      <td>NaT</td>\n      <td>NaT</td>\n      <td>NaT</td>\n    </tr>\n    <tr>\n      <th>1</th>\n      <td>01003</td>\n      <td>2020-03-14</td>\n      <td>NaT</td>\n      <td>NaT</td>\n    </tr>\n    <tr>\n      <th>2</th>\n      <td>01005</td>\n      <td>NaT</td>\n      <td>NaT</td>\n      <td>NaT</td>\n    </tr>\n    <tr>\n      <th>3</th>\n      <td>01007</td>\n      <td>NaT</td>\n      <td>NaT</td>\n      <td>NaT</td>\n    </tr>\n    <tr>\n      <th>4</th>\n      <td>01009</td>\n      <td>2020-03-17</td>\n      <td>NaT</td>\n      <td>NaT</td>\n    </tr>\n  </tbody>\n</table>\n</div>"
     },
     "metadata": {},
     "execution_count": 6
    }
   ],
   "source": [
    "policy_date = ['County Emergency Declaration Date', 'Safer-at-Home Policy Date', 'Business Closure Policy Date']\n",
    "policy1 = pd.read_csv(f'{homedir}/JK/County_Declaration_and_Policies.csv', usecols=['FIPS']+policy_date, parse_dates=policy_date)\n",
    "policy1['FIPS'] = policy1['FIPS'].apply(correct_FIPS)\n",
    "policy1.replace({'FIPS':FIPS_mapping})\n",
    "policy1.head()"
   ]
  },
  {
   "cell_type": "code",
   "execution_count": 7,
   "metadata": {},
   "outputs": [
    {
     "output_type": "execute_result",
     "data": {
      "text/plain": "    FIPS stay at home\n0      0          NaT\n1  01000          NaT\n2  01001          NaT\n3  01003          NaT\n4  01005          NaT",
      "text/html": "<div>\n<style scoped>\n    .dataframe tbody tr th:only-of-type {\n        vertical-align: middle;\n    }\n\n    .dataframe tbody tr th {\n        vertical-align: top;\n    }\n\n    .dataframe thead th {\n        text-align: right;\n    }\n</style>\n<table border=\"1\" class=\"dataframe\">\n  <thead>\n    <tr style=\"text-align: right;\">\n      <th></th>\n      <th>FIPS</th>\n      <th>stay at home</th>\n    </tr>\n  </thead>\n  <tbody>\n    <tr>\n      <th>0</th>\n      <td>0</td>\n      <td>NaT</td>\n    </tr>\n    <tr>\n      <th>1</th>\n      <td>01000</td>\n      <td>NaT</td>\n    </tr>\n    <tr>\n      <th>2</th>\n      <td>01001</td>\n      <td>NaT</td>\n    </tr>\n    <tr>\n      <th>3</th>\n      <td>01003</td>\n      <td>NaT</td>\n    </tr>\n    <tr>\n      <th>4</th>\n      <td>01005</td>\n      <td>NaT</td>\n    </tr>\n  </tbody>\n</table>\n</div>"
     },
     "metadata": {},
     "execution_count": 7
    }
   ],
   "source": [
    "policy2 = pd.read_csv(f'{homedir}/data/us/other/policies.csv', usecols=['FIPS', 'stay at home'])\n",
    "policy2['stay at home'] = policy2['stay at home'].apply(lambda x:(pd.Timestamp.fromordinal(int(x)) if not np.isnan(x) else x))\n",
    "# policy2['stay at home'] = policy2['stay at home'].apply(pd.Timestamp.fromordinal)\n",
    "policy2['FIPS'] = policy2['FIPS'].apply(correct_FIPS)\n",
    "policy2.replace({'FIPS':FIPS_mapping})\n",
    "policy2.head()"
   ]
  },
  {
   "cell_type": "code",
   "execution_count": 30,
   "metadata": {},
   "outputs": [
    {
     "output_type": "execute_result",
     "data": {
      "text/plain": "array([                          'NaT', '2020-03-26T00:00:00.000000000',\n       '2020-03-22T00:00:00.000000000', '2020-03-31T00:00:00.000000000',\n       '2020-03-19T00:00:00.000000000', '2020-03-24T00:00:00.000000000',\n       '2020-03-23T00:00:00.000000000', '2020-04-01T00:00:00.000000000',\n       '2020-03-25T00:00:00.000000000', '2020-03-27T00:00:00.000000000',\n       '2020-03-30T00:00:00.000000000', '2020-03-21T00:00:00.000000000',\n       '2020-03-28T00:00:00.000000000'], dtype='datetime64[ns]')"
     },
     "metadata": {},
     "execution_count": 30
    }
   ],
   "source": [
    "policy2['stay at home'].unique()"
   ]
  },
  {
   "cell_type": "code",
   "execution_count": 8,
   "metadata": {},
   "outputs": [
    {
     "output_type": "execute_result",
     "data": {
      "text/plain": "  State Effective Date    Coverage  State of Emergency Declaration  \\\n0    41     2020-02-28  State-wide                           False   \n1    53     2020-02-29  State-wide                            True   \n2    12     2020-03-01  State-wide                            True   \n3    01     2020-03-02  State-wide                           False   \n4    06     2020-03-04  State-wide                            True   \n\n   Shelter-in-place Order  business  \n0                   False     False  \n1                   False     False  \n2                   False     False  \n3                   False     False  \n4                   False     False  ",
      "text/html": "<div>\n<style scoped>\n    .dataframe tbody tr th:only-of-type {\n        vertical-align: middle;\n    }\n\n    .dataframe tbody tr th {\n        vertical-align: top;\n    }\n\n    .dataframe thead th {\n        text-align: right;\n    }\n</style>\n<table border=\"1\" class=\"dataframe\">\n  <thead>\n    <tr style=\"text-align: right;\">\n      <th></th>\n      <th>State</th>\n      <th>Effective Date</th>\n      <th>Coverage</th>\n      <th>State of Emergency Declaration</th>\n      <th>Shelter-in-place Order</th>\n      <th>business</th>\n    </tr>\n  </thead>\n  <tbody>\n    <tr>\n      <th>0</th>\n      <td>41</td>\n      <td>2020-02-28</td>\n      <td>State-wide</td>\n      <td>False</td>\n      <td>False</td>\n      <td>False</td>\n    </tr>\n    <tr>\n      <th>1</th>\n      <td>53</td>\n      <td>2020-02-29</td>\n      <td>State-wide</td>\n      <td>True</td>\n      <td>False</td>\n      <td>False</td>\n    </tr>\n    <tr>\n      <th>2</th>\n      <td>12</td>\n      <td>2020-03-01</td>\n      <td>State-wide</td>\n      <td>True</td>\n      <td>False</td>\n      <td>False</td>\n    </tr>\n    <tr>\n      <th>3</th>\n      <td>01</td>\n      <td>2020-03-02</td>\n      <td>State-wide</td>\n      <td>False</td>\n      <td>False</td>\n      <td>False</td>\n    </tr>\n    <tr>\n      <th>4</th>\n      <td>06</td>\n      <td>2020-03-04</td>\n      <td>State-wide</td>\n      <td>True</td>\n      <td>False</td>\n      <td>False</td>\n    </tr>\n  </tbody>\n</table>\n</div>"
     },
     "metadata": {},
     "execution_count": 8
    }
   ],
   "source": [
    "policy3 = pd.read_csv('https://raw.githubusercontent.com/covidvis/covid19-vis/master/data/quarantine-activity-US-Apr16.csv', usecols=list(range(1,12)), parse_dates=[1])\n",
    "col_pol3 = list(policy3.columns)[:4]+[list(policy3.columns)[5]]+list(policy3.columns)[9:]\n",
    "policy3['State of Emergency Declaration'] = ~policy3['State of Emergency Declaration'].isna()\n",
    "policy3.replace({'Shelter-in-place Order':{'Night-time curfew':np.nan}}, inplace=True)\n",
    "policy3['Shelter-in-place Order'] = ~(policy3['Shelter-in-place Order'].isna())\n",
    "policy3['business'] = ~((policy3['Bar and Dine-in Restaurant Closure'].isna()) & (policy3['Non-essential Businesses Closure'].isna()))\n",
    "policy3 = policy3[col_pol3+['business']]\n",
    "policy3.drop(columns=col_pol3[-2:], inplace=True)\n",
    "policy3.replace({'State':st_to_fips}, inplace=True)\n",
    "policy3.head()"
   ]
  },
  {
   "cell_type": "code",
   "execution_count": 9,
   "metadata": {},
   "outputs": [
    {
     "output_type": "execute_result",
     "data": {
      "text/plain": "['Scarsdale',\n 'Osceola',\n 'King, Snohomish, and Pierce',\n 'Saline, Jefferson, Pulaski, and Grant',\n 'Marin, Sacramento, San Joaquin, San Luis Obispo, Santa Clara, Solano, Placer, and Contra Costa, as well as the Oakland, Antioch, Santa Cruz, Los Angeles Unified, Chaffey Unified, Etiwanda, Fontana Unified, Ontario-Montclair, Alta Loma Unified, San Diego, Los Alamitos Unified, and Washington Unified School Distrcts.',\n 'Wellesley, Framingham, and Boston',\n 'Dutchess, Orange, Herkimer, Ulster, and Warwick',\n 'St Paul',\n 'Hoboken',\n 'Davidson',\n 'New York City, Westchester, Suffolk, and Nassau',\n 'Burlington',\n 'Tucson and Phoenix',\n 'Alameda, Contra Costa, Marin, San Francisco, San Mateo, and Santa Clara.',\n 'Blaine',\n 'Jackson, Johnson, Kansas City',\n 'New York City',\n 'San Miguel',\n 'Athens-Clarke',\n 'Honolulu and Maui',\n 'Cass, Douglas, and Sarpy',\n 'Chattanooga',\n 'Maricopa, Pinal, Navajo, Coconino, and Graham',\n 'Kauai',\n 'New Orleans',\n 'Knoxville',\n 'Columbus',\n 'Everett',\n 'Anchorage',\n 'Dougherty',\n 'Honolulu',\n 'Johnson, Wyandotte, and Leavenworth',\n 'Tupelo and Oxford',\n 'Belton, Clay, Platte, Kansas City, and Jackson',\n 'Nashville and Davidson',\n 'Edmonds and Yakima County',\n 'Denver, Boulder, and Pitkin',\n 'Brunswick',\n 'St. Louis',\n 'Philadelphia, Allegheny, Bucks, Chester, Delaware, Monroe, and Montgomery',\n 'Dallas, Waco, Mclennan, Bell, Cameron, Hunt, Stephens, Forney, Lampasas, Verde, Denton, Kaufman, Brazos, Bryan, College, Station, Galveston, San Antonio, Fort Worth, El Paso, Travis, Williamson, Austin, Castro, Newton, Arlington, Edinburg, Woodcreek, Collin, Harris, Hidalgo, Rockwall',\n 'Milwaukee',\n 'Birmingham',\n 'Miami Beach and Alachua',\n 'Atlanta, Blakely, Brookhaven, Carroll, Lowndes, Pickens, Rome, Sandy Springs, Tifton, and Savannah',\n 'Douglas ',\n 'Fulton',\n 'St. Charles, Jefferson, St. Joseph, and Cass',\n 'Norman',\n 'Block Island, Aquidneck Island',\n 'Aquidneck Island',\n 'Knoxville, Knox, Memphis, and Shelby',\n 'Collin, Galveston, Harris, San Antonio, Travis and Williamson',\n 'Ocean Shores',\n ' Boulder, Jefferson, Broomfield, Adams, Arapahoe, Larimer, Weld, and Douglas',\n 'Doral and Leon',\n 'Canton, Cobb, Decatur, and Floyd',\n 'Atchison, Miami, Morris, Sedgwick',\n 'Portland',\n 'Columbia, Boone, Randolph, and Ray',\n 'Dodge, Lancaster, Saunders, and Washington',\n 'Madison, Pitt, Beaufort, and Durham',\n 'Canadian, Cleveland, Custer, Garvin, Grady, Jackson, Kay, Logan, Mayes, McClain, Muskogee, Noble, Oklahoma, Pawnee, Payne, Pontotoc, Tulsa, Wagoner and Washington',\n 'Erie, Lehigh, and Northampton',\n 'Charleston',\n 'Franklin',\n 'Osceola, Parkland, Pinellas, Plantation, Sunny Isles Beach, Weston',\n 'Cherokee, Conyers, and Douglas',\n 'Coffey, Doniphan, Lyon, and Shawnee',\n 'South Portland',\n 'Webster, Christian, Perry, Clinton, and Hannibal ',\n 'Cabarrus, Kannapolis, Ayden, Greenville, Mecklenberg, and Clay',\n 'Columbia',\n 'Tuscaloosa and Montgomery',\n 'Coral Springs, Broward, and Hillsborough',\n 'Bartow, Cartersville, and Doraville',\n 'Sumner',\n 'Caldwell',\n 'Guilford, Greensboro, High Point, Winston-Salem, Forsyth, Clemmons, Buncome, Gaston, and Orange',\n 'Berks, Butler, Lackawanna, Lancaster, Luzerne, Pike, Wayne, Westmoreland, and York',\n 'Williamsburg',\n 'Summit and Salt Lake City',\n 'Boca Raton, Dania Beach, Fort Lauderdale, Gadsden County, Hollywood, Lauderdale-by-the-sea, Miramar, Oakland Park, Palm Beach, Pembroke Pines, Pompano Beach, and Wilton Manors',\n 'Avondale Estates, Chamblee, Dunwoody,  DeKalb, and Gwinnett',\n 'Chase, Jefferson, and Osage',\n 'Moss Point',\n 'Cole and West Plains',\n 'Rutherford and Henderson',\n 'Oklahoma City and Tulsa',\n 'Beaver, Centre, and Washington',\n 'Jackson and Teton County',\n 'Lincoln ',\n 'Burt, Cuming, Madison, and Stanton',\n 'Garfield, Rogers, Seminole and Texas',\n 'Miami-Dade, Broward, Palm Beach, Monroe, Delray Beach',\n 'Forest Park',\n 'Bates, Chariton, and Harrison',\n 'Banner, Box Butte, Cheyenne, Dawes, Deuel, Garden, Grant, Kimball, Morrill, Scotts Bluff, Sheridan, and Sioux ',\n 'Stillwater and Edmond',\n 'Carbon, Cumberland, Dauphin, and Schuylkill',\n 'Teton',\n 'Sumter',\n 'Lauderdale, Meridian',\n 'Gascondale and Lafayette',\n 'Adams, Buffalo, Clay, Dawson, Franklin, Gosper, Harlan, Kearney, Nuckolls, Phelps, and Webster',\n 'Cameron, Crawford, Forest, Franklin, Lawrence, Lebanon, and Somerset',\n 'Jackson',\n 'Clayton and Fulton',\n 'Maryville, Crawford, Johnson, and Dade',\n 'Antelope, Arthur, Boyd, Brown, Cherry, Holt, Hooker, Keya Paha, Knox, Lincoln, Logan, McPherson, Pierce, Rock, and Thomas',\n 'Lawton, Broken Arrow, and Owasso',\n 'Davis',\n 'Stoddard and Pulaksi',\n 'Mount Pleasant',\n 'St. Francois, Linn, and Osage',\n 'Vernon and Scott',\n 'Moore',\n 'Pike',\n 'Claremore and Guthrie',\n 'El Reno',\n 'Butler, Hall, Hamilton, Merrick, Polk, Seward, and York']"
     },
     "metadata": {},
     "execution_count": 9
    }
   ],
   "source": [
    "coverage_df = policy3[policy3['Coverage']!='State-wide'][['State', 'Coverage']]\n",
    "coverage_list = list(coverage_df['Coverage'])\n",
    "coverage_list"
   ]
  },
  {
   "cell_type": "code",
   "execution_count": 10,
   "metadata": {},
   "outputs": [],
   "source": [
    "import re\n",
    "\n",
    "cov_parsed = []\n",
    "for cov in coverage_list:\n",
    "    _ = re.sub(\",* and\", \",\", re.sub(\" as well as\", \"\", cov))\n",
    "    cov_parsed.append(_.strip().split(', '))"
   ]
  },
  {
   "cell_type": "code",
   "execution_count": 11,
   "metadata": {},
   "outputs": [
    {
     "output_type": "stream",
     "name": "stdout",
     "text": "Not found\nNot found\nKing : 53033\nSnohomish : 53061\nPierce : 53053\nSaline : 05125\nJefferson : 05069\nPulaski : 05119\nGrant : 05053\nMarin : 06041\nSacramento : 06067\nSan Joaquin : 06077\nSan Luis Obispo : 06079\nSanta Clara : 06085\nSolano : 06095\nPlacer : 06061\nContra Costa : 06013\nNot found\nNot found\nSanta Cruz : 06087\nNot found\nNot found\nNot found\nNot found\nNot found\nNot found\nSan Diego : 06073\nNot found\nNot found\nNot found\nNot found\nNot found\nDutchess : 36027\nOrange : 36071\nHerkimer : 36043\nUlster : 36111\nNot found\nNot found\nNot found\nDavidson : 47037\nNot found\nWestchester : 36119\nSuffolk : 36103\nNassau : 36059\nNot found\nNot found\nNot found\nAlameda : 06001\nContra Costa : 06013\nMarin : 06041\nSan Francisco : 06075\nSan Mateo : 06081\nNot found\nBlaine : 16013\nJackson : 20085\nJohnson : 20091\nNot found\nNot found\nSan Miguel : 08113\nNot found\nHonolulu : 15003\nMaui : 15009\nCass : 31025\nDouglas : 31055\nSarpy : 31153\nNot found\nMaricopa : 04013\nPinal : 04021\nNavajo : 04017\nCoconino : 04005\nGraham : 04009\nKauai : 15007\nNot found\nNot found\nNot found\nNot found\nAnchorage : 02020\nDougherty : 13095\nHonolulu : 15003\nJohnson : 20091\nWyandotte : 20209\nLeavenworth : 20103\nNot found\nNot found\nNot found\nClay : 29047\nPlatte : 29165\nNot found\nJackson : 29095\nNot found\nDavidson : 47037\nNot found\nYakima County : 53077\nDenver : 08031\nBoulder : 08013\nPitkin : 08097\nNot found\nSt. Louis : 29189\nPhiladelphia : 42101\nAllegheny : 42003\nBucks : 42017\nChester : 42029\nDelaware : 42045\nMonroe : 42089\nMontgomery : 42091\nDallas : 48113\nNot found\nNot found\nBell : 48027\nCameron : 48061\nHunt : 48231\nStephens : 48429\nNot found\nLampasas : 48281\nNot found\nDenton : 48121\nKaufman : 48257\nBrazos : 48041\nNot found\nNot found\nNot found\nGalveston : 48167\nNot found\nNot found\nEl Paso : 48141\nTravis : 48453\nWilliamson : 48491\nAustin : 48015\nCastro : 48069\nNewton : 48351\nNot found\nNot found\nNot found\nCollin : 48085\nHarris : 48201\nHidalgo : 48215\nRockwall : 48397\nMilwaukee : 55079\nNot found\nNot found\nAlachua : 12001\nNot found\nNot found\nNot found\nCarroll : 13045\nLowndes : 13185\nPickens : 13227\nNot found\nNot found\nNot found\nNot found\nDouglas : 20045\nNot found\nSt. Charles : 29183\nJefferson : 29099\nNot found\nCass : 29037\nNot found\nNot found\nNot found\nNot found\nNot found\nKnox : 47093\nNot found\nShelby : 47157\nCollin : 48085\nGalveston : 48167\nHarris : 48201\nNot found\nTravis : 48453\nWilliamson : 48491\nNot found\nBoulder : 08013\nJefferson : 08059\nNot found\nAdams : 08001\nArapahoe : 08005\nLarimer : 08069\nWeld : 08123\nDouglas : 08035\nNot found\nLeon : 12073\nNot found\nCobb : 13067\nDecatur : 13087\nFloyd : 13115\nAtchison : 20005\nMiami : 20121\nMorris : 20127\nSedgwick : 20173\nNot found\nNot found\nBoone : 29019\nRandolph : 29175\nRay : 29177\nDodge : 31053\nLancaster : 31109\nSaunders : 31155\nWashington : 31177\nMadison : 37115\nPitt : 37147\nBeaufort : 37013\nDurham : 37063\nCanadian : 40017\nCleveland : 40027\nCuster : 40039\nGarvin : 40049\nGrady : 40051\nJackson : 40065\nKay : 40071\nLogan : 40083\nMayes : 40097\nMcClain : 40087\nMuskogee : 40101\nNoble : 40103\nOklahoma : 40109\nPawnee : 40117\nPayne : 40119\nPontotoc : 40123\nTulsa : 40143\nWagoner : 40145\nWashington : 40147\nErie : 42049\nLehigh : 42077\nNorthampton : 42095\nCharleston : 45019\nFranklin : 47051\nOsceola : 12097\nNot found\nPinellas : 12103\nNot found\nNot found\nNot found\nCherokee : 13057\nNot found\nDouglas : 13097\nCoffey : 20031\nDoniphan : 20043\nLyon : 20111\nShawnee : 20177\nNot found\nWebster : 29225\nChristian : 29043\nPerry : 29157\nClinton : 29049\nNot found\nCabarrus : 37025\nNot found\nNot found\nNot found\nNot found\nClay : 37043\nNot found\nTuscaloosa : 01125\nMontgomery : 01101\nNot found\nBroward : 12011\nHillsborough : 12057\nBartow : 13015\nNot found\nNot found\nSumner : 20191\nCaldwell : 29025\nGuilford : 37081\nNot found\nNot found\nNot found\nForsyth : 37067\nNot found\nNot found\nGaston : 37071\nOrange : 37135\nBerks : 42011\nButler : 42019\nLackawanna : 42069\nLancaster : 42071\nLuzerne : 42079\nPike : 42103\nWayne : 42127\nWestmoreland : 42129\nYork : 42133\nWilliamsburg : 45089\nSummit : 49043\nNot found\nNot found\nNot found\nNot found\nGadsden County : 12039\nNot found\nNot found\nNot found\nNot found\nPalm Beach : 12099\nNot found\nNot found\nNot found\nNot found\nNot found\nNot found\nNot found\nGwinnett : 13135\nChase : 20017\nJefferson : 20087\nOsage : 20139\nNot found\nCole : 29051\nNot found\nRutherford : 37161\nHenderson : 37089\nNot found\nTulsa : 40143\nBeaver : 42007\nCentre : 42027\nWashington : 42125\nNot found\nTeton County : 56039\nLincoln : 29113\nBurt : 31021\nCuming : 31039\nMadison : 31119\nStanton : 31167\nGarfield : 40047\nRogers : 40131\nSeminole : 40133\nTexas : 40139\nMiami-Dade : 12086\nBroward : 12011\nPalm Beach : 12099\nMonroe : 12087\nNot found\nNot found\nBates : 29013\nChariton : 29041\nHarrison : 29081\nBanner : 31007\nBox Butte : 31013\nCheyenne : 31033\nDawes : 31045\nDeuel : 31049\nGarden : 31069\nGrant : 31075\nKimball : 31105\nMorrill : 31123\nScotts Bluff : 31157\nSheridan : 31161\nSioux : 31165\nNot found\nNot found\nCarbon : 42025\nCumberland : 42041\nDauphin : 42043\nSchuylkill : 42107\nTeton : 56039\nSumter : 12119\nLauderdale : 28075\nNot found\nNot found\nLafayette : 29107\nAdams : 31001\nBuffalo : 31019\nClay : 31035\nDawson : 31047\nFranklin : 31061\nGosper : 31073\nHarlan : 31083\nKearney : 31099\nNuckolls : 31129\nPhelps : 31137\nWebster : 31181\nCameron : 42023\nCrawford : 42039\nForest : 42053\nFranklin : 42055\nLawrence : 42073\nLebanon : 42075\nSomerset : 42111\nNot found\nClayton : 13063\nFulton : 13121\nNot found\nCrawford : 29055\nJohnson : 29101\nDade : 29057\nAntelope : 31003\nArthur : 31005\nBoyd : 31015\nBrown : 31017\nCherry : 31031\nHolt : 31089\nHooker : 31091\nKeya Paha : 31103\nKnox : 31107\nLincoln : 31111\nLogan : 31113\nMcPherson : 31117\nPierce : 31139\nRock : 31149\nThomas : 31171\nNot found\nNot found\nNot found\nDavis : 49011\nStoddard : 29207\nNot found\nNot found\nSt. Francois : 29187\nLinn : 29115\nOsage : 29151\nVernon : 29217\nScott : 29201\nNot found\nPike : 29163\nNot found\nNot found\nNot found\nButler : 31023\nHall : 31079\nHamilton : 31081\nMerrick : 31121\nPolk : 31143\nSeward : 31159\nYork : 31185\n"
    }
   ],
   "source": [
    "list_st = list(coverage_df['State'])\n",
    "excep = []\n",
    "ctylist = [[] for _ in range(len(list_st))]\n",
    "for i in range(len(list_st)):\n",
    "    dic_instate = fips_key[fips_key['ST']==list_st[i]][['FIPS', 'COUNTY']]\n",
    "    for j in range(len(cov_parsed[i])):\n",
    "        bo = True\n",
    "        for idx, row in dic_instate.iterrows():\n",
    "            if row['COUNTY'][:len(cov_parsed[i][j])]==cov_parsed[i][j]:\n",
    "                print(cov_parsed[i][j], ':', row['FIPS'])\n",
    "                bo = False\n",
    "                ctylist[i].append(row['FIPS'])\n",
    "                break\n",
    "        if bo:\n",
    "            print('Not found')\n",
    "            excep.append([list_st[i], cov_parsed[i][j]])"
   ]
  },
  {
   "cell_type": "code",
   "execution_count": 12,
   "metadata": {
    "tags": [
     "outputPrepend"
    ]
   },
   "outputs": [],
   "source": [
    "cov_to_add = []\n",
    "for i in range(len(ctylist)):\n",
    "    seri = policy3.loc[coverage_df.index[i]]\n",
    "    for fips in ctylist[i]:\n",
    "        seri['Coverage'] = fips\n",
    "        cov_to_add.append(seri.copy())"
   ]
  },
  {
   "cell_type": "code",
   "execution_count": 15,
   "metadata": {},
   "outputs": [
    {
     "output_type": "execute_result",
     "data": {
      "text/plain": "  State Effective Date Coverage  State of Emergency Declaration  \\\n0    41     2020-02-28        0                           False   \n1    53     2020-02-29        0                            True   \n2    12     2020-03-01        0                            True   \n3    01     2020-03-02        0                           False   \n4    06     2020-03-04        0                            True   \n\n   Shelter-in-place Order  business  \n0                   False     False  \n1                   False     False  \n2                   False     False  \n3                   False     False  \n4                   False     False  ",
      "text/html": "<div>\n<style scoped>\n    .dataframe tbody tr th:only-of-type {\n        vertical-align: middle;\n    }\n\n    .dataframe tbody tr th {\n        vertical-align: top;\n    }\n\n    .dataframe thead th {\n        text-align: right;\n    }\n</style>\n<table border=\"1\" class=\"dataframe\">\n  <thead>\n    <tr style=\"text-align: right;\">\n      <th></th>\n      <th>State</th>\n      <th>Effective Date</th>\n      <th>Coverage</th>\n      <th>State of Emergency Declaration</th>\n      <th>Shelter-in-place Order</th>\n      <th>business</th>\n    </tr>\n  </thead>\n  <tbody>\n    <tr>\n      <th>0</th>\n      <td>41</td>\n      <td>2020-02-28</td>\n      <td>0</td>\n      <td>False</td>\n      <td>False</td>\n      <td>False</td>\n    </tr>\n    <tr>\n      <th>1</th>\n      <td>53</td>\n      <td>2020-02-29</td>\n      <td>0</td>\n      <td>True</td>\n      <td>False</td>\n      <td>False</td>\n    </tr>\n    <tr>\n      <th>2</th>\n      <td>12</td>\n      <td>2020-03-01</td>\n      <td>0</td>\n      <td>True</td>\n      <td>False</td>\n      <td>False</td>\n    </tr>\n    <tr>\n      <th>3</th>\n      <td>01</td>\n      <td>2020-03-02</td>\n      <td>0</td>\n      <td>False</td>\n      <td>False</td>\n      <td>False</td>\n    </tr>\n    <tr>\n      <th>4</th>\n      <td>06</td>\n      <td>2020-03-04</td>\n      <td>0</td>\n      <td>True</td>\n      <td>False</td>\n      <td>False</td>\n    </tr>\n  </tbody>\n</table>\n</div>"
     },
     "metadata": {},
     "execution_count": 15
    }
   ],
   "source": [
    "policy3_new = policy3.replace({'Coverage':{'State-wide':np.nan}})\n",
    "policy3_new = policy3_new[policy3_new['Coverage'].isna()]\n",
    "policy3_new.fillna('0', inplace=True)\n",
    "policy3_new = policy3_new.append(pd.DataFrame(cov_to_add), ignore_index=True)\n",
    "# policy3_new['fips'] = policy3_new['fips']\n",
    "policy3_new.head()"
   ]
  },
  {
   "cell_type": "code",
   "execution_count": 16,
   "metadata": {},
   "outputs": [
    {
     "output_type": "execute_result",
     "data": {
      "text/plain": "array(['0', '53033', '53061', '53053', '05125', '05069', '05119', '05053',\n       '06041', '06067', '06077', '06079', '06085', '06095', '06061',\n       '06013', '06087', '06073', '36027', '36071', '36043', '36111',\n       '47037', '36119', '36103', '36059', '06001', '06075', '06081',\n       '16013', '20085', '20091', '08113', '15003', '15009', '31025',\n       '31055', '31153', '04013', '04021', '04017', '04005', '04009',\n       '15007', '02020', '13095', '20209', '20103', '29047', '29165',\n       '29095', '53077', '08031', '08013', '08097', '29189', '42101',\n       '42003', '42017', '42029', '42045', '42089', '42091', '48113',\n       '48027', '48061', '48231', '48429', '48281', '48121', '48257',\n       '48041', '48167', '48141', '48453', '48491', '48015', '48069',\n       '48351', '48085', '48201', '48215', '48397', '55079', '12001',\n       '13045', '13185', '13227', '20045', '29183', '29099', '29037',\n       '47093', '47157', '08059', '08001', '08005', '08069', '08123',\n       '08035', '12073', '13067', '13087', '13115', '20005', '20121',\n       '20127', '20173', '29019', '29175', '29177', '31053', '31109',\n       '31155', '31177', '37115', '37147', '37013', '37063', '40017',\n       '40027', '40039', '40049', '40051', '40065', '40071', '40083',\n       '40097', '40087', '40101', '40103', '40109', '40117', '40119',\n       '40123', '40143', '40145', '40147', '42049', '42077', '42095',\n       '45019', '47051', '12097', '12103', '13057', '13097', '20031',\n       '20043', '20111', '20177', '29225', '29043', '29157', '29049',\n       '37025', '37043', '01125', '01101', '12011', '12057', '13015',\n       '20191', '29025', '37081', '37067', '37071', '37135', '42011',\n       '42019', '42069', '42071', '42079', '42103', '42127', '42129',\n       '42133', '45089', '49043', '12039', '12099', '13135', '20017',\n       '20087', '20139', '29051', '37161', '37089', '42007', '42027',\n       '42125', '56039', '29113', '31021', '31039', '31119', '31167',\n       '40047', '40131', '40133', '40139', '12086', '12087', '29013',\n       '29041', '29081', '31007', '31013', '31033', '31045', '31049',\n       '31069', '31075', '31105', '31123', '31157', '31161', '31165',\n       '42025', '42041', '42043', '42107', '12119', '28075', '29107',\n       '31001', '31019', '31035', '31047', '31061', '31073', '31083',\n       '31099', '31129', '31137', '31181', '42023', '42039', '42053',\n       '42055', '42073', '42075', '42111', '13063', '13121', '29055',\n       '29101', '29057', '31003', '31005', '31015', '31017', '31031',\n       '31089', '31091', '31103', '31107', '31111', '31113', '31117',\n       '31139', '31149', '31171', '49011', '29207', '29187', '29115',\n       '29151', '29217', '29201', '29163', '31023', '31079', '31081',\n       '31121', '31143', '31159', '31185'], dtype=object)"
     },
     "metadata": {},
     "execution_count": 16
    }
   ],
   "source": [
    "policy3_new['Coverage'].unique()"
   ]
  },
  {
   "cell_type": "code",
   "execution_count": 14,
   "metadata": {},
   "outputs": [
    {
     "output_type": "stream",
     "name": "stdout",
     "text": "Scarsdale, New York\nOsceola, Wisconsin\nthe Oakland, California\nAntioch, California\nLos Angeles Unified, California\nChaffey Unified, California\nEtiwanda, California\nFontana Unified, California\nOntario-Montclair, California\nAlta Loma Unified, California\nLos Alamitos Unified, California\nWashington Unified School Distrcts., California\nWellesley, Massachusetts\nFramingham, Massachusetts\nBoston, Massachusetts\nWarwick, New York\nSt Paul, Minnesota\nHoboken, New Jersey\nNew York City, New York\nBurlington, Vermont\nTucson, Arizona\nPhoenix, Arizona\nSanta Clara., California\nKansas City, Kansas\nNew York City, New York\nAthens-Clarke, Georgia\nChattanooga, Tennessee\nNew Orleans, Louisiana\nKnoxville, Tennessee\nColumbus, Mississippi\nEverett, Washington\nTupelo, Mississippi\nOxford, Mississippi\nBelton, Missouri\nKansas City, Missouri\nNashville, Tennessee\nEdmonds, Washington\nBrunswick, Maine\nWaco, Texas\nMclennan, Texas\nForney, Texas\nVerde, Texas\nBryan, Texas\nCollege, Texas\nStation, Texas\nSan Antonio, Texas\nFort Worth, Texas\nArlington, Texas\nEdinburg, Texas\nWoodcreek, Texas\nBirmingham, Alabama\nMiami Beach, Florida\nAtlanta, Georgia\nBlakely, Georgia\nBrookhaven, Georgia\nRome, Georgia\nSandy Springs, Georgia\nTifton, Georgia\nSavannah, Georgia\nFulton, Mississippi\nSt. Joseph, Missouri\nNorman, Oklahoma\nBlock Island, Rhode Island\nAquidneck Island, Rhode Island\nAquidneck Island, Rhode Island\nKnoxville, Tennessee\nMemphis, Tennessee\nSan Antonio, Texas\nOcean Shores, Washington\nBroomfield, Colorado\nDoral, Florida\nCanton, Georgia\nPortland, Maine\nColumbia, Missouri\nParkland, Florida\nPlantation, Florida\nSunny Isles Beach, Florida\nWeston, Florida\nConyers, Georgia\nSouth Portland, Maine\nHannibal, Missouri\nKannapolis, North Carolina\nAyden, North Carolina\nGreenville, North Carolina\nMecklenberg, North Carolina\nColumbia, South Carolina\nCoral Springs, Florida\nCartersville, Georgia\nDoraville, Georgia\nGreensboro, North Carolina\nHigh Point, North Carolina\nWinston-Salem, North Carolina\nClemmons, North Carolina\nBuncome, North Carolina\nSalt Lake City, Utah\nBoca Raton, Florida\nDania Beach, Florida\nFort Lauderdale, Florida\nHollywood, Florida\nLauderdale-by-the-sea, Florida\nMiramar, Florida\nOakland Park, Florida\nPembroke Pines, Florida\nPompano Beach, Florida\nWilton Manors, Florida\nAvondale Estates, Georgia\nChamblee, Georgia\nDunwoody, Georgia\n DeKalb, Georgia\nMoss Point, Mississippi\nWest Plains, Missouri\nOklahoma City, Oklahoma\nJackson, Wyoming\nDelray Beach, Florida\nForest Park, Georgia\nStillwater, Oklahoma\nEdmond, Oklahoma\nMeridian, Mississippi\nGascondale, Missouri\nJackson, Wyoming\nMaryville, Missouri\nLawton, Oklahoma\nBroken Arrow, Oklahoma\nOwasso, Oklahoma\nPulaksi, Missouri\nMount Pleasant, South Carolina\nMoore, Oklahoma\nClaremore, Oklahoma\nGuthrie, Oklahoma\nEl Reno, Oklahoma\n"
    }
   ],
   "source": [
    "fips_to_st = {}\n",
    "for dic in po_st:\n",
    "    fips_to_st[dic['fips']] = dic['state']\n",
    "\n",
    "for city in excep:\n",
    "    print(city[1]+',',fips_to_st[city[0]])"
   ]
  },
  {
   "cell_type": "code",
   "execution_count": 102,
   "metadata": {},
   "outputs": [],
   "source": [
    "cov_dict = dict(zip(coverage_list, cov_parsed))\n",
    "newcol = []\n",
    "for cov in list(policy3['Coverage']):\n",
    "    newcol.append(cov_dict[cov])"
   ]
  },
  {
   "cell_type": "code",
   "execution_count": 7,
   "metadata": {},
   "outputs": [
    {
     "output_type": "execute_result",
     "data": {
      "text/plain": "    FIPS  MSA/PMSA NECMA  ST          COUNTY\n0  01001            5240  AL  Autauga County\n1  01003            5160  AL  Baldwin County\n2  01005               0  AL  Barbour County\n3  01007               0  AL     Bibb County\n4  01009            1000  AL   Blount County",
      "text/html": "<div>\n<style scoped>\n    .dataframe tbody tr th:only-of-type {\n        vertical-align: middle;\n    }\n\n    .dataframe tbody tr th {\n        vertical-align: top;\n    }\n\n    .dataframe thead th {\n        text-align: right;\n    }\n</style>\n<table border=\"1\" class=\"dataframe\">\n  <thead>\n    <tr style=\"text-align: right;\">\n      <th></th>\n      <th>FIPS</th>\n      <th>MSA/PMSA NECMA</th>\n      <th>ST</th>\n      <th>COUNTY</th>\n    </tr>\n  </thead>\n  <tbody>\n    <tr>\n      <th>0</th>\n      <td>01001</td>\n      <td>5240</td>\n      <td>AL</td>\n      <td>Autauga County</td>\n    </tr>\n    <tr>\n      <th>1</th>\n      <td>01003</td>\n      <td>5160</td>\n      <td>AL</td>\n      <td>Baldwin County</td>\n    </tr>\n    <tr>\n      <th>2</th>\n      <td>01005</td>\n      <td>0</td>\n      <td>AL</td>\n      <td>Barbour County</td>\n    </tr>\n    <tr>\n      <th>3</th>\n      <td>01007</td>\n      <td>0</td>\n      <td>AL</td>\n      <td>Bibb County</td>\n    </tr>\n    <tr>\n      <th>4</th>\n      <td>01009</td>\n      <td>1000</td>\n      <td>AL</td>\n      <td>Blount County</td>\n    </tr>\n  </tbody>\n</table>\n</div>"
     },
     "metadata": {},
     "execution_count": 7
    }
   ],
   "source": [
    "# po_to_fips = {}\n",
    "# for dic in po_st:\n",
    "#     po_to_fips[dic['postalCode']] = dic['fips']\n",
    "\n",
    "fips_key = pd.read_csv(f'{homedir}/data/us/processing_data/fips_key.csv', encoding='latin-1')\n",
    "fips_key['FIPS'] = fips_key['FIPS'].apply(correct_FIPS)\n",
    "# fips_key.replace({'ST':po_to_fips}, inplace=True)\n",
    "fips_key.head()"
   ]
  },
  {
   "cell_type": "markdown",
   "metadata": {},
   "source": [
    "## Create curated DataFrame"
   ]
  },
  {
   "cell_type": "code",
   "execution_count": 17,
   "metadata": {},
   "outputs": [
    {
     "output_type": "execute_result",
     "data": {
      "text/plain": "    fips emergency safeathome business\n0  01001       NaN        NaN      NaN\n1  01003       NaN        NaN      NaN\n2  01005       NaN        NaN      NaN\n3  01007       NaN        NaN      NaN\n4  01009       NaN        NaN      NaN",
      "text/html": "<div>\n<style scoped>\n    .dataframe tbody tr th:only-of-type {\n        vertical-align: middle;\n    }\n\n    .dataframe tbody tr th {\n        vertical-align: top;\n    }\n\n    .dataframe thead th {\n        text-align: right;\n    }\n</style>\n<table border=\"1\" class=\"dataframe\">\n  <thead>\n    <tr style=\"text-align: right;\">\n      <th></th>\n      <th>fips</th>\n      <th>emergency</th>\n      <th>safeathome</th>\n      <th>business</th>\n    </tr>\n  </thead>\n  <tbody>\n    <tr>\n      <th>0</th>\n      <td>01001</td>\n      <td>NaN</td>\n      <td>NaN</td>\n      <td>NaN</td>\n    </tr>\n    <tr>\n      <th>1</th>\n      <td>01003</td>\n      <td>NaN</td>\n      <td>NaN</td>\n      <td>NaN</td>\n    </tr>\n    <tr>\n      <th>2</th>\n      <td>01005</td>\n      <td>NaN</td>\n      <td>NaN</td>\n      <td>NaN</td>\n    </tr>\n    <tr>\n      <th>3</th>\n      <td>01007</td>\n      <td>NaN</td>\n      <td>NaN</td>\n      <td>NaN</td>\n    </tr>\n    <tr>\n      <th>4</th>\n      <td>01009</td>\n      <td>NaN</td>\n      <td>NaN</td>\n      <td>NaN</td>\n    </tr>\n  </tbody>\n</table>\n</div>"
     },
     "metadata": {},
     "execution_count": 17
    }
   ],
   "source": [
    "policy = pd.DataFrame(columns = ['fips', 'emergency', 'safeathome', 'business'])\n",
    "policy['fips'] = demo['fips']\n",
    "policy.head()"
   ]
  },
  {
   "cell_type": "code",
   "execution_count": 26,
   "metadata": {},
   "outputs": [
    {
     "output_type": "execute_result",
     "data": {
      "text/plain": "Index(['State', 'Effective Date', 'Coverage', 'State of Emergency Declaration',\n       'Shelter-in-place Order', 'business'],\n      dtype='object')"
     },
     "metadata": {},
     "execution_count": 26
    }
   ],
   "source": [
    "policy3_new.columns"
   ]
  },
  {
   "cell_type": "code",
   "execution_count": 28,
   "metadata": {},
   "outputs": [
    {
     "output_type": "execute_result",
     "data": {
      "text/plain": "  state fips       date  emergency  safeathome  business\n0    41    0 2020-02-28      False       False     False\n1    53    0 2020-02-29       True       False     False\n2    12    0 2020-03-01       True       False     False\n3    01    0 2020-03-02      False       False     False\n4    06    0 2020-03-04       True       False     False",
      "text/html": "<div>\n<style scoped>\n    .dataframe tbody tr th:only-of-type {\n        vertical-align: middle;\n    }\n\n    .dataframe tbody tr th {\n        vertical-align: top;\n    }\n\n    .dataframe thead th {\n        text-align: right;\n    }\n</style>\n<table border=\"1\" class=\"dataframe\">\n  <thead>\n    <tr style=\"text-align: right;\">\n      <th></th>\n      <th>state</th>\n      <th>fips</th>\n      <th>date</th>\n      <th>emergency</th>\n      <th>safeathome</th>\n      <th>business</th>\n    </tr>\n  </thead>\n  <tbody>\n    <tr>\n      <th>0</th>\n      <td>41</td>\n      <td>0</td>\n      <td>2020-02-28</td>\n      <td>False</td>\n      <td>False</td>\n      <td>False</td>\n    </tr>\n    <tr>\n      <th>1</th>\n      <td>53</td>\n      <td>0</td>\n      <td>2020-02-29</td>\n      <td>True</td>\n      <td>False</td>\n      <td>False</td>\n    </tr>\n    <tr>\n      <th>2</th>\n      <td>12</td>\n      <td>0</td>\n      <td>2020-03-01</td>\n      <td>True</td>\n      <td>False</td>\n      <td>False</td>\n    </tr>\n    <tr>\n      <th>3</th>\n      <td>01</td>\n      <td>0</td>\n      <td>2020-03-02</td>\n      <td>False</td>\n      <td>False</td>\n      <td>False</td>\n    </tr>\n    <tr>\n      <th>4</th>\n      <td>06</td>\n      <td>0</td>\n      <td>2020-03-04</td>\n      <td>True</td>\n      <td>False</td>\n      <td>False</td>\n    </tr>\n  </tbody>\n</table>\n</div>"
     },
     "metadata": {},
     "execution_count": 28
    }
   ],
   "source": [
    "policy3_new.sort_values(by=['Effective Date'], inplace=True)\n",
    "policy3_new.rename(columns={'State':'state', 'Effective Date':'date', 'Coverage':'fips', 'State of Emergency Declaration':'emergency', 'Shelter-in-place Order':'safeathome'}, inplace=True)\n",
    "policy3_new = policy3_new[['state','fips','date','emergency','safeathome','business']]\n",
    "policy3_new.head()"
   ]
  },
  {
   "cell_type": "code",
   "execution_count": 29,
   "metadata": {},
   "outputs": [],
   "source": [
    "policy3_new.to_csv('policy.csv', index=False)"
   ]
  },
  {
   "cell_type": "code",
   "execution_count": 32,
   "metadata": {},
   "outputs": [],
   "source": [
    "date_st = pd.Timestamp('2020-03-01')\n",
    "date_ed = pd.Timestamp('2020-05-12')\n",
    "date_win = pd.date_range(start=date_st, end=date_ed)"
   ]
  },
  {
   "cell_type": "code",
   "execution_count": 39,
   "metadata": {},
   "outputs": [
    {
     "output_type": "execute_result",
     "data": {
      "text/plain": "0"
     },
     "metadata": {},
     "execution_count": 39
    }
   ],
   "source": [
    "_ = np.array([date_st, date_ed])\n",
    "np.where(_<pd.Timestamp('2020-04-01'))[0][-1]"
   ]
  },
  {
   "cell_type": "code",
   "execution_count": 45,
   "metadata": {},
   "outputs": [
    {
     "output_type": "error",
     "ename": "TypeError",
     "evalue": "'>' not supported between instances of 'Timestamp' and 'int'",
     "traceback": [
      "\u001b[1;31m---------------------------------------------------------------------------\u001b[0m",
      "\u001b[1;31mTypeError\u001b[0m                                 Traceback (most recent call last)",
      "\u001b[1;32m<ipython-input-45-b104d12b9515>\u001b[0m in \u001b[0;36m<module>\u001b[1;34m\u001b[0m\n\u001b[1;32m----> 1\u001b[1;33m \u001b[0mpolicy3_new\u001b[0m\u001b[1;33m[\u001b[0m\u001b[1;34m'date'\u001b[0m\u001b[1;33m]\u001b[0m\u001b[1;33m.\u001b[0m\u001b[0mto_numpy\u001b[0m\u001b[1;33m(\u001b[0m\u001b[1;33m)\u001b[0m\u001b[1;33m<\u001b[0m\u001b[0mpd\u001b[0m\u001b[1;33m.\u001b[0m\u001b[0mTimestamp\u001b[0m\u001b[1;33m(\u001b[0m\u001b[1;34m'2020-03-01'\u001b[0m\u001b[1;33m)\u001b[0m\u001b[1;33m\u001b[0m\u001b[1;33m\u001b[0m\u001b[0m\n\u001b[0m",
      "\u001b[1;32mpandas\\_libs\\tslibs\\c_timestamp.pyx\u001b[0m in \u001b[0;36mpandas._libs.tslibs.c_timestamp._Timestamp.__richcmp__\u001b[1;34m()\u001b[0m\n",
      "\u001b[1;31mTypeError\u001b[0m: '>' not supported between instances of 'Timestamp' and 'int'"
     ]
    }
   ],
   "source": [
    "policy3_new['date'].to_numpy()<pd.Timestamp('2020-03-01')"
   ]
  },
  {
   "cell_type": "code",
   "execution_count": 47,
   "metadata": {
    "tags": [
     "outputPrepend",
     "outputPrepend",
     "outputPrepend",
     "outputPrepend",
     "outputPrepend",
     "outputPrepend",
     "outputPrepend",
     "outputPrepend",
     "outputPrepend",
     "outputPrepend",
     "outputPrepend",
     "outputPrepend",
     "outputPrepend",
     "outputPrepend",
     "outputPrepend",
     "outputPrepend",
     "outputPrepend",
     "outputPrepend",
     "outputPrepend",
     "outputPrepend",
     "outputPrepend",
     "outputPrepend",
     "outputPrepend",
     "outputPrepend",
     "outputPrepend",
     "outputPrepend",
     "outputPrepend",
     "outputPrepend",
     "outputPrepend",
     "outputPrepend",
     "outputPrepend",
     "outputPrepend",
     "outputPrepend",
     "outputPrepend",
     "outputPrepend",
     "outputPrepend",
     "outputPrepend",
     "outputPrepend",
     "outputPrepend",
     "outputPrepend",
     "outputPrepend"
    ]
   },
   "outputs": [
    {
     "output_type": "stream",
     "name": "stdout",
     "text": "[0, 0, 0]\n[0, 0, 0]\n[0, 0, 0]\n[0, 0, 0]\n[0, 0, 0]\n[0, 0, 0]\n[0, 0, 0]\n[0, 0, 0]\n[0, 0, 0]\n[0, 0, 0]\n[0, 0, 0]\n[1, 0, 0]\n[1, 0, 0]\n[1, 0, 0]\n[1, 0, 0]\n[1, 0, 0]\n[1, 0, 0]\n[1, 0, 0]\n[1, 0, 0]\n[0, 0, 1]\n[0, 0, 1]\n[0, 0, 1]\n[0, 0, 1]\n[0, 0, 1]\n[0, 0, 1]\n[0, 0, 1]\n[0, 0, 1]\n[0, 0, 1]\n[0, 0, 1]\n[0, 0, 1]\n[0, 1, 0]\n[0, 1, 0]\n[0, 1, 0]\n[0, 1, 0]\n[0, 1, 0]\n[0, 1, 0]\n[0, 1, 0]\n[0, 1, 0]\n[0, 1, 0]\n[0, 1, 0]\n[0, 1, 0]\n[0, 1, 0]\n[0, 1, 0]\n[0, 1, 0]\n[0, 1, 0]\n[0, 1, 0]\n[0, 1, 0]\n[0, 1, 0]\n[0, 1, 0]\n[0, 1, 0]\n[0, 1, 0]\n[0, 1, 0]\n[0, 1, 0]\n[0, 1, 0]\n[0, 1, 0]\n[0, 1, 0]\n[0, 1, 0]\n[0, 1, 0]\n[0, 1, 0]\n[0, 1, 0]\n[0, 1, 0]\n[0, 1, 0]\n[0, 1, 0]\n[0, 1, 0]\n[0, 1, 0]\n[0, 1, 0]\n[0, 1, 0]\n[0, 1, 0]\n[0, 1, 0]\n[0, 1, 0]\n[0, 1, 0]\n[0, 1, 0]\n[0, 1, 0]\n[0, 0, 0]\n[0, 0, 0]\n[0, 0, 0]\n[0, 0, 0]\n[0, 0, 0]\n[0, 0, 0]\n[0, 0, 0]\n[0, 0, 0]\n[0, 0, 0]\n[0, 0, 0]\n[0, 0, 0]\n[1, 0, 0]\n[1, 0, 0]\n[1, 0, 0]\n[1, 0, 0]\n[1, 0, 0]\n[1, 0, 0]\n[1, 0, 0]\n[1, 0, 0]\n[1, 0, 0]\n[1, 0, 0]\n[1, 0, 0]\n[1, 0, 0]\n[1, 0, 0]\n[1, 0, 0]\n[1, 0, 0]\n[1, 0, 0]\n[1, 0, 0]\n[1, 0, 0]\n[1, 0, 0]\n[0, 1, 0]\n[0, 1, 0]\n[0, 1, 0]\n[0, 1, 0]\n[0, 1, 0]\n[0, 1, 0]\n[0, 1, 0]\n[0, 1, 0]\n[0, 1, 0]\n[0, 1, 0]\n[0, 1, 0]\n[0, 1, 0]\n[0, 1, 0]\n[0, 1, 0]\n[0, 1, 0]\n[0, 1, 0]\n[0, 1, 0]\n[0, 1, 0]\n[0, 1, 0]\n[0, 1, 0]\n[0, 1, 0]\n[0, 1, 0]\n[0, 1, 0]\n[0, 1, 0]\n[0, 1, 0]\n[0, 1, 0]\n[0, 1, 0]\n[0, 1, 0]\n[0, 1, 0]\n[0, 1, 0]\n[0, 1, 0]\n[0, 1, 0]\n[0, 1, 0]\n[0, 1, 0]\n[0, 1, 0]\n[0, 1, 0]\n[0, 1, 0]\n[0, 1, 0]\n[0, 1, 0]\n[0, 1, 0]\n[0, 1, 0]\n[0, 1, 0]\n[0, 1, 0]\n[0, 0, 0]\n[0, 0, 0]\n[0, 0, 0]\n[0, 0, 0]\n[0, 0, 0]\n[0, 0, 0]\n[0, 0, 0]\n[0, 0, 0]\n[0, 0, 0]\n[0, 0, 0]\n[0, 0, 0]\n[1, 0, 0]\n[1, 0, 0]\n[1, 0, 0]\n[1, 0, 0]\n[1, 0, 0]\n[1, 0, 0]\n[1, 0, 0]\n[1, 0, 0]\n[0, 0, 1]\n[0, 0, 1]\n[0, 0, 1]\n[0, 0, 1]\n[0, 0, 1]\n[0, 0, 1]\n[0, 0, 1]\n[0, 0, 1]\n[0, 0, 1]\n[0, 0, 1]\n[0, 0, 1]\n[0, 1, 0]\n[0, 1, 0]\n[0, 1, 0]\n[0, 1, 0]\n[0, 1, 0]\n[0, 1, 0]\n[0, 1, 0]\n[0, 1, 0]\n[0, 1, 0]\n[0, 1, 0]\n[0, 1, 0]\n[0, 1, 0]\n[0, 1, 0]\n[0, 1, 0]\n[0, 1, 0]\n[0, 1, 0]\n[0, 1, 0]\n[0, 1, 0]\n[0, 1, 0]\n[0, 1, 0]\n[0, 1, 0]\n[0, 1, 0]\n[0, 1, 0]\n[0, 1, 0]\n[0, 1, 0]\n[0, 1, 0]\n[0, 1, 0]\n[0, 1, 0]\n[0, 1, 0]\n[0, 1, 0]\n[0, 1, 0]\n[0, 1, 0]\n[0, 1, 0]\n[0, 1, 0]\n[0, 1, 0]\n[0, 1, 0]\n[0, 1, 0]\n[0, 1, 0]\n[0, 1, 0]\n[0, 1, 0]\n[0, 1, 0]\n[0, 1, 0]\n[0, 1, 0]\n[0, 0, 0]\n[0, 0, 0]\n[0, 0, 0]\n[0, 0, 0]\n[0, 0, 0]\n[0, 0, 0]\n[0, 0, 0]\n[0, 0, 0]\n[0, 0, 0]\n[0, 0, 0]\n[0, 0, 0]\n[1, 0, 0]\n[1, 0, 0]\n[1, 0, 0]\n[1, 0, 0]\n[1, 0, 0]\n[1, 0, 0]\n[1, 0, 0]\n[1, 0, 0]\n[1, 0, 0]\n[1, 0, 0]\n[1, 0, 0]\n[1, 0, 0]\n[1, 0, 0]\n[1, 0, 0]\n[1, 0, 0]\n[1, 0, 0]\n[1, 0, 0]\n[1, 0, 0]\n[1, 0, 0]\n[0, 1, 0]\n[0, 1, 0]\n[0, 1, 0]\n[0, 1, 0]\n[0, 1, 0]\n[0, 1, 0]\n[0, 1, 0]\n[0, 1, 0]\n[0, 1, 0]\n[0, 1, 0]\n[0, 1, 0]\n[0, 1, 0]\n[0, 1, 0]\n[0, 1, 0]\n[0, 1, 0]\n[0, 1, 0]\n[0, 1, 0]\n[0, 1, 0]\n[0, 1, 0]\n[0, 1, 0]\n[0, 1, 0]\n[0, 1, 0]\n[0, 1, 0]\n[0, 1, 0]\n[0, 1, 0]\n[0, 1, 0]\n[0, 1, 0]\n[0, 1, 0]\n[0, 1, 0]\n[0, 1, 0]\n[0, 1, 0]\n[0, 1, 0]\n[0, 1, 0]\n[0, 1, 0]\n[0, 1, 0]\n[0, 1, 0]\n[0, 1, 0]\n[0, 1, 0]\n[0, 1, 0]\n[0, 1, 0]\n[0, 1, 0]\n[0, 1, 0]\n[0, 1, 0]\n[0, 0, 0]\n[0, 0, 0]\n[0, 0, 0]\n[0, 0, 0]\n[0, 0, 0]\n[0, 0, 0]\n[0, 0, 0]\n[0, 0, 0]\n[0, 0, 0]\n[0, 0, 0]\n[0, 0, 0]\n[1, 0, 0]\n[1, 0, 0]\n[1, 0, 0]\n[1, 0, 0]\n[1, 0, 0]\n[1, 0, 0]\n[1, 0, 0]\n[1, 0, 0]\n[0, 0, 1]\n[0, 0, 1]\n[0, 0, 1]\n[0, 0, 1]\n[0, 0, 1]\n[0, 0, 1]\n[0, 0, 1]\n[0, 0, 1]\n[0, 0, 1]\n[0, 0, 1]\n[0, 0, 1]\n[0, 1, 0]\n[0, 1, 0]\n[0, 1, 0]\n[0, 1, 0]\n[0, 1, 0]\n[0, 1, 0]\n[0, 1, 0]\n[0, 1, 0]\n[0, 1, 0]\n[0, 1, 0]\n[0, 1, 0]\n[0, 1, 0]\n[0, 1, 0]\n[0, 1, 0]\n[0, 1, 0]\n[0, 1, 0]\n[0, 1, 0]\n[0, 1, 0]\n[0, 1, 0]\n[0, 1, 0]\n[0, 1, 0]\n[0, 1, 0]\n[0, 1, 0]\n[0, 1, 0]\n[0, 1, 0]\n[0, 1, 0]\n[0, 1, 0]\n[0, 1, 0]\n[0, 1, 0]\n[0, 1, 0]\n[0, 1, 0]\n[0, 1, 0]\n[0, 1, 0]\n[0, 1, 0]\n[0, 1, 0]\n[0, 1, 0]\n[0, 1, 0]\n[0, 1, 0]\n[0, 1, 0]\n[0, 1, 0]\n[0, 1, 0]\n[0, 1, 0]\n[0, 1, 0]\n[0, 0, 0]\n[0, 0, 0]\n[0, 0, 0]\n[0, 0, 0]\n[0, 0, 0]\n[0, 0, 0]\n[0, 0, 0]\n[0, 0, 0]\n[0, 0, 0]\n[0, 0, 0]\n[0, 0, 0]\n[1, 0, 0]\n[1, 0, 0]\n[1, 0, 0]\n[1, 0, 0]\n[1, 0, 0]\n[1, 0, 0]\n[1, 0, 0]\n[1, 0, 0]\n[1, 0, 0]\n[1, 0, 0]\n[1, 0, 0]\n[1, 0, 0]\n[1, 0, 0]\n[1, 0, 0]\n[1, 0, 0]\n[1, 0, 0]\n[1, 0, 0]\n[1, 0, 0]\n[1, 0, 0]\n[0, 1, 0]\n[0, 1, 0]\n[0, 1, 0]\n[0, 1, 0]\n[0, 1, 0]\n[0, 1, 0]\n[0, 1, 0]\n[0, 1, 0]\n[0, 1, 0]\n[0, 1, 0]\n[0, 1, 0]\n[0, 1, 0]\n[0, 1, 0]\n[0, 1, 0]\n[0, 1, 0]\n[0, 1, 0]\n[0, 1, 0]\n[0, 1, 0]\n[0, 1, 0]\n[0, 1, 0]\n[0, 1, 0]\n[0, 1, 0]\n[0, 1, 0]\n[0, 1, 0]\n[0, 1, 0]\n[0, 1, 0]\n[0, 1, 0]\n[0, 1, 0]\n[0, 1, 0]\n[0, 1, 0]\n[0, 1, 0]\n[0, 1, 0]\n[0, 1, 0]\n[0, 1, 0]\n[0, 1, 0]\n[0, 1, 0]\n[0, 1, 0]\n[0, 1, 0]\n[0, 1, 0]\n[0, 1, 0]\n[0, 1, 0]\n[0, 1, 0]\n[0, 1, 0]\n[0, 0, 0]\n[0, 0, 0]\n[0, 0, 0]\n[0, 0, 0]\n[0, 0, 0]\n[0, 0, 0]\n[0, 0, 0]\n[0, 0, 0]\n[0, 0, 0]\n[0, 0, 0]\n[0, 0, 0]\n[1, 0, 0]\n[1, 0, 0]\n[1, 0, 0]\n[1, 0, 0]\n[1, 0, 0]\n[1, 0, 0]\n[1, 0, 0]\n[1, 0, 0]\n[1, 0, 0]\n[1, 0, 0]\n[1, 0, 0]\n[1, 0, 0]\n[1, 0, 0]\n[1, 0, 0]\n[1, 0, 0]\n[1, 0, 0]\n[1, 0, 0]\n[1, 0, 0]\n[1, 0, 0]\n[0, 1, 0]\n[0, 1, 0]\n[0, 1, 0]\n[0, 1, 0]\n[0, 1, 0]\n[0, 1, 0]\n[0, 1, 0]\n[0, 1, 0]\n[0, 1, 0]\n[0, 1, 0]\n[0, 1, 0]\n[0, 1, 0]\n[0, 1, 0]\n[0, 1, 0]\n[0, 1, 0]\n[0, 1, 0]\n[0, 1, 0]\n[0, 1, 0]\n[0, 1, 0]\n[0, 1, 0]\n[0, 1, 0]\n[0, 1, 0]\n[0, 1, 0]\n[0, 1, 0]\n[0, 1, 0]\n[0, 1, 0]\n[0, 1, 0]\n[0, 1, 0]\n[0, 1, 0]\n[0, 1, 0]\n[0, 1, 0]\n[0, 1, 0]\n[0, 1, 0]\n[0, 1, 0]\n[0, 1, 0]\n[0, 1, 0]\n[0, 1, 0]\n[0, 1, 0]\n[0, 1, 0]\n[0, 1, 0]\n[0, 1, 0]\n[0, 1, 0]\n[0, 1, 0]\n[0, 0, 0]\n[0, 0, 0]\n[0, 0, 0]\n[0, 0, 0]\n[0, 0, 0]\n[0, 0, 0]\n[0, 0, 0]\n[0, 0, 0]\n[0, 0, 0]\n[0, 0, 0]\n[0, 0, 0]\n[1, 0, 0]\n[1, 0, 0]\n[1, 0, 0]\n[1, 0, 0]\n[1, 0, 0]\n[1, 0, 0]\n[1, 0, 0]\n[1, 0, 0]\n[1, 0, 0]\n[1, 0, 0]\n[1, 0, 0]\n[1, 0, 0]\n[1, 0, 0]\n[1, 0, 0]\n[1, 0, 0]\n[1, 0, 0]\n[1, 0, 0]\n[1, 0, 0]\n[1, 0, 0]\n[0, 1, 0]\n[0, 1, 0]\n[0, 1, 0]\n[0, 1, 0]\n[0, 1, 0]\n[0, 1, 0]\n[0, 1, 0]\n[0, 1, 0]\n[0, 1, 0]\n[0, 1, 0]\n[0, 1, 0]\n[0, 1, 0]\n[0, 1, 0]\n[0, 1, 0]\n[0, 1, 0]\n[0, 1, 0]\n[0, 1, 0]\n[0, 1, 0]\n[0, 1, 0]\n[0, 1, 0]\n[0, 1, 0]\n[0, 1, 0]\n[0, 1, 0]\n[0, 1, 0]\n[0, 1, 0]\n[0, 1, 0]\n[0, 1, 0]\n[0, 1, 0]\n[0, 1, 0]\n[0, 1, 0]\n[0, 1, 0]\n[0, 1, 0]\n[0, 1, 0]\n[0, 1, 0]\n[0, 1, 0]\n[0, 1, 0]\n[0, 1, 0]\n[0, 1, 0]\n[0, 1, 0]\n[0, 1, 0]\n[0, 1, 0]\n[0, 1, 0]\n[0, 1, 0]\n[0, 0, 0]\n[0, 0, 0]\n[0, 0, 0]\n[0, 0, 0]\n[0, 0, 0]\n[0, 0, 0]\n[0, 0, 0]\n[0, 0, 0]\n[0, 0, 0]\n[0, 0, 0]\n[1, 0, 0]\n[1, 0, 0]\n[1, 0, 0]\n[1, 0, 0]\n[1, 0, 0]\n[1, 0, 0]\n[0, 0, 0]\n[0, 0, 0]\n[0, 0, 1]\n[0, 0, 1]\n[0, 0, 1]\n[0, 0, 1]\n[0, 0, 1]\n[0, 0, 1]\n[0, 0, 1]\n[0, 0, 1]\n[0, 0, 1]\n[0, 0, 1]\n[0, 0, 1]\n[0, 0, 1]\n[0, 0, 1]\n[0, 0, 1]\n[0, 0, 1]\n[0, 0, 1]\n[0, 0, 1]\n[0, 0, 1]\n[0, 0, 1]\n[0, 0, 1]\n[0, 0, 1]\n[0, 0, 1]\n[0, 0, 1]\n[0, 0, 1]\n[0, 0, 1]\n[0, 0, 1]\n[0, 0, 1]\n[0, 0, 1]\n[0, 0, 1]\n[0, 0, 1]\n[0, 0, 1]\n[0, 0, 1]\n[0, 0, 1]\n[0, 0, 1]\n[0, 0, 1]\n[0, 0, 1]\n[0, 0, 1]\n[0, 0, 1]\n[0, 0, 1]\n[0, 0, 1]\n[0, 0, 1]\n[0, 0, 1]\n[0, 0, 1]\n[0, 0, 1]\n[0, 0, 1]\n[0, 0, 1]\n[0, 0, 1]\n[0, 0, 1]\n[0, 0, 1]\n[0, 0, 1]\n[0, 0, 1]\n[0, 0, 1]\n[0, 0, 1]\n[0, 0, 1]\n[0, 0, 1]\n[0, 0, 0]\n[0, 0, 0]\n[0, 0, 0]\n[0, 0, 0]\n[0, 0, 0]\n[0, 0, 0]\n[0, 0, 0]\n[0, 0, 0]\n[0, 0, 0]\n[0, 0, 0]\n[1, 0, 0]\n[1, 0, 0]\n[1, 0, 0]\n[1, 0, 0]\n[1, 0, 0]\n[1, 0, 0]\n[0, 0, 0]\n[0, 0, 0]\n[0, 0, 1]\n[0, 0, 1]\n[0, 0, 1]\n[0, 0, 1]\n[0, 0, 1]\n[0, 0, 1]\n[0, 0, 1]\n[0, 0, 1]\n[0, 0, 1]\n[0, 0, 1]\n[0, 0, 1]\n[0, 0, 1]\n[0, 0, 1]\n[0, 0, 1]\n[0, 0, 1]\n[0, 0, 1]\n[0, 0, 1]\n[0, 0, 1]\n[0, 0, 1]\n[0, 0, 1]\n[0, 0, 1]\n[0, 0, 1]\n[0, 0, 1]\n[0, 0, 1]\n[0, 0, 1]\n[0, 0, 1]\n[0, 0, 1]\n[0, 0, 1]\n[0, 0, 1]\n[0, 0, 1]\n[0, 0, 1]\n[0, 0, 1]\n[0, 0, 1]\n[0, 0, 1]\n[0, 0, 1]\n[0, 0, 1]\n[0, 0, 1]\n[0, 0, 1]\n[0, 0, 1]\n[0, 0, 1]\n[0, 0, 1]\n[0, 0, 1]\n[0, 0, 1]\n[0, 0, 1]\n[0, 0, 1]\n[0, 0, 1]\n[0, 0, 1]\n[0, 0, 1]\n[0, 0, 1]\n[0, 0, 1]\n[0, 0, 1]\n[0, 0, 1]\n[0, 0, 1]\n[0, 0, 1]\n[0, 0, 1]\n[0, 0, 0]\n[0, 0, 0]\n[0, 0, 0]\n[0, 0, 0]\n[0, 0, 0]\n[0, 0, 0]\n[0, 0, 0]\n[0, 0, 0]\n[0, 0, 0]\n[0, 0, 0]\n[1, 0, 0]\n[1, 0, 0]\n[1, 0, 0]\n[1, 0, 0]\n[1, 0, 0]\n[1, 0, 0]\n[0, 0, 0]\n[0, 0, 0]\n[0, 0, 1]\n[0, 0, 1]\n[0, 0, 1]\n[0, 0, 1]\n[0, 0, 1]\n[0, 0, 1]\n[0, 0, 1]\n[0, 0, 1]\n[0, 0, 1]\n[0, 0, 1]\n[0, 0, 1]\n[0, 0, 1]\n[0, 0, 1]\n[0, 0, 1]\n[0, 0, 1]\n[0, 0, 1]\n[0, 0, 1]\n[0, 0, 1]\n[0, 0, 1]\n[0, 0, 1]\n[0, 0, 1]\n[0, 0, 1]\n[0, 0, 1]\n[0, 0, 1]\n[0, 0, 1]\n[0, 0, 1]\n[0, 0, 1]\n[0, 0, 1]\n[0, 0, 1]\n[0, 0, 1]\n[0, 0, 1]\n[0, 0, 1]\n[0, 0, 1]\n[0, 0, 1]\n[0, 0, 1]\n[0, 0, 1]\n[0, 0, 1]\n[0, 0, 1]\n[0, 0, 1]\n[0, 0, 1]\n[0, 0, 1]\n[0, 0, 1]\n[0, 0, 1]\n[0, 0, 1]\n[0, 0, 1]\n[0, 0, 1]\n[0, 0, 1]\n[0, 0, 1]\n[0, 0, 1]\n[0, 0, 1]\n[0, 0, 1]\n[0, 0, 1]\n[0, 0, 1]\n[0, 0, 1]\n[0, 0, 1]\n[0, 0, 0]\n[0, 0, 0]\n[0, 0, 0]\n[0, 0, 0]\n[0, 0, 0]\n[0, 0, 0]\n[0, 0, 0]\n[0, 0, 0]\n[0, 0, 0]\n[0, 0, 0]\n[1, 0, 0]\n[1, 0, 0]\n[1, 0, 0]\n[1, 0, 0]\n[1, 0, 0]\n[1, 0, 0]\n[0, 0, 0]\n[0, 0, 0]\n[0, 0, 1]\n[0, 0, 1]\n[0, 0, 1]\n[0, 0, 1]\n[0, 0, 1]\n[0, 0, 1]\n[0, 0, 1]\n[0, 0, 1]\n[0, 0, 1]\n[0, 0, 1]\n[0, 0, 1]\n[0, 0, 1]\n[0, 0, 1]\n[0, 0, 1]\n[0, 0, 1]\n[0, 0, 1]\n[0, 0, 1]\n[0, 0, 1]\n[0, 0, 1]\n[0, 0, 1]\n[0, 0, 1]\n[0, 0, 1]\n[0, 0, 1]\n[0, 0, 1]\n[0, 0, 1]\n[0, 0, 1]\n[0, 0, 1]\n[0, 0, 1]\n[0, 0, 1]\n[0, 0, 1]\n[0, 0, 1]\n[0, 0, 1]\n[0, 0, 1]\n[0, 0, 1]\n[0, 0, 1]\n[0, 0, 1]\n[0, 0, 1]\n[0, 0, 1]\n[0, 0, 1]\n[0, 0, 1]\n[0, 0, 1]\n[0, 0, 1]\n[0, 0, 1]\n[0, 0, 1]\n[0, 0, 1]\n[0, 0, 1]\n[0, 0, 1]\n[0, 0, 1]\n[0, 0, 1]\n[0, 0, 1]\n[0, 0, 1]\n[0, 0, 1]\n[0, 0, 1]\n[0, 0, 1]\n[0, 0, 1]\n[0, 0, 0]\n[0, 0, 0]\n[0, 0, 0]\n[0, 0, 0]\n[0, 0, 0]\n[0, 0, 0]\n[0, 0, 0]\n[0, 0, 0]\n[0, 0, 0]\n[0, 0, 0]\n[1, 0, 0]\n[1, 0, 0]\n[1, 0, 0]\n[1, 0, 0]\n[1, 0, 0]\n[1, 0, 0]\n[0, 0, 0]\n[0, 0, 0]\n[0, 0, 1]\n[0, 0, 1]\n[0, 0, 1]\n[0, 0, 1]\n[0, 0, 1]\n[0, 0, 1]\n[0, 0, 1]\n[0, 0, 1]\n[0, 0, 1]\n[0, 0, 1]\n[0, 0, 1]\n[0, 0, 1]\n[0, 0, 1]\n[0, 0, 1]\n[0, 0, 1]\n[0, 0, 1]\n[0, 0, 1]\n[0, 0, 1]\n[0, 0, 1]\n[0, 0, 1]\n[0, 0, 1]\n[0, 0, 1]\n[0, 0, 1]\n[0, 0, 1]\n[0, 0, 1]\n[0, 0, 1]\n[0, 0, 1]\n[0, 0, 1]\n[0, 0, 1]\n[0, 0, 1]\n[0, 0, 1]\n[0, 0, 1]\n[0, 0, 1]\n[0, 0, 1]\n[0, 0, 1]\n[0, 0, 1]\n[0, 0, 1]\n[0, 0, 1]\n[0, 0, 1]\n[0, 0, 1]\n[0, 0, 1]\n[0, 0, 1]\n[0, 0, 1]\n[0, 0, 1]\n[0, 0, 1]\n[0, 0, 1]\n[0, 0, 1]\n[0, 0, 1]\n[0, 0, 1]\n[0, 0, 1]\n[0, 0, 1]\n[0, 0, 1]\n[0, 0, 1]\n[0, 0, 1]\n[0, 0, 1]\n[0, 0, 0]\n[0, 0, 0]\n[0, 0, 0]\n[0, 0, 0]\n[0, 0, 0]\n[0, 0, 0]\n[0, 0, 0]\n[0, 0, 0]\n[0, 0, 0]\n[0, 0, 0]\n[1, 0, 0]\n[1, 0, 0]\n[1, 0, 0]\n[1, 0, 0]\n[1, 0, 0]\n[1, 0, 0]\n[0, 0, 0]\n[0, 0, 0]\n[0, 0, 1]\n[0, 0, 1]\n[0, 0, 1]\n[0, 0, 1]\n[0, 0, 1]\n[0, 0, 1]\n[0, 0, 1]\n[0, 0, 1]\n[0, 0, 1]\n[0, 0, 1]\n[0, 0, 1]\n[0, 0, 1]\n[0, 0, 1]\n[0, 0, 1]\n[0, 0, 1]\n[0, 0, 1]\n[0, 0, 1]\n[0, 0, 1]\n[0, 0, 1]\n[0, 0, 1]\n[0, 0, 1]\n[0, 0, 1]\n[0, 0, 1]\n[0, 0, 1]\n[0, 0, 1]\n[0, 0, 1]\n[0, 0, 1]\n[0, 0, 1]\n[0, 0, 1]\n[0, 0, 1]\n[0, 0, 1]\n[0, 0, 1]\n[0, 0, 1]\n[0, 0, 1]\n[0, 0, 1]\n[0, 0, 1]\n[0, 0, 1]\n[0, 0, 1]\n[0, 0, 1]\n[0, 0, 1]\n[0, 0, 1]\n[0, 0, 1]\n[0, 0, 1]\n[0, 0, 1]\n[0, 0, 1]\n[0, 0, 1]\n[0, 0, 1]\n[0, 0, 1]\n[0, 0, 1]\n[0, 0, 1]\n[0, 0, 1]\n[0, 0, 1]\n[0, 0, 1]\n[0, 0, 1]\n[0, 0, 1]\n[0, 0, 0]\n[0, 0, 0]\n[0, 0, 0]\n[0, 0, 0]\n[0, 0, 0]\n[0, 0, 0]\n[0, 0, 0]\n[0, 0, 0]\n[0, 0, 0]\n[0, 0, 0]\n[1, 0, 0]\n[1, 0, 0]\n[1, 0, 0]\n[1, 0, 0]\n[1, 0, 0]\n[1, 0, 0]\n[0, 0, 0]\n[0, 0, 0]\n[0, 0, 1]\n[0, 0, 1]\n[0, 0, 1]\n[0, 0, 1]\n[0, 0, 1]\n[0, 0, 1]\n[0, 0, 1]\n[0, 0, 1]\n[0, 0, 1]\n[0, 0, 1]\n[0, 0, 1]\n[0, 0, 1]\n[0, 0, 1]\n[0, 0, 1]\n[0, 0, 1]\n[0, 0, 1]\n[0, 0, 1]\n[0, 0, 1]\n[0, 0, 1]\n[0, 0, 1]\n[0, 0, 1]\n[0, 0, 1]\n[0, 0, 1]\n[0, 0, 1]\n[0, 0, 1]\n[0, 0, 1]\n[0, 0, 1]\n[0, 0, 1]\n[0, 0, 1]\n[0, 0, 1]\n[0, 0, 1]\n[0, 0, 1]\n[0, 0, 1]\n[0, 0, 1]\n[0, 0, 1]\n[0, 0, 1]\n[0, 0, 1]\n[0, 0, 1]\n[0, 0, 1]\n[0, 0, 1]\n[0, 0, 1]\n[0, 0, 1]\n[0, 0, 1]\n[0, 0, 1]\n[0, 0, 1]\n[0, 0, 1]\n[0, 0, 1]\n[0, 0, 1]\n[0, 0, 1]\n[0, 0, 1]\n[0, 0, 1]\n[0, 0, 1]\n[0, 0, 1]\n[0, 0, 1]\n[0, 0, 1]\n[0, 0, 0]\n[0, 0, 0]\n[0, 0, 0]\n[0, 0, 0]\n[0, 0, 0]\n[0, 0, 0]\n[0, 0, 0]\n[0, 0, 0]\n[0, 0, 0]\n[0, 0, 0]\n[1, 0, 0]\n[1, 0, 0]\n[1, 0, 0]\n[1, 0, 0]\n[1, 0, 0]\n[1, 0, 0]\n[0, 0, 0]\n[0, 0, 0]\n[0, 0, 1]\n[0, 0, 1]\n[0, 0, 1]\n[0, 0, 1]\n[0, 0, 1]\n[0, 0, 1]\n[0, 0, 1]\n[0, 0, 1]\n[0, 0, 1]\n[0, 0, 1]\n[0, 0, 1]\n[0, 0, 1]\n[0, 0, 1]\n[0, 0, 1]\n[0, 0, 1]\n[0, 0, 1]\n[0, 0, 1]\n[0, 0, 1]\n[0, 0, 1]\n[0, 0, 1]\n[0, 0, 1]\n[0, 0, 1]\n[0, 0, 1]\n[0, 0, 1]\n[0, 0, 1]\n[0, 0, 1]\n[0, 0, 1]\n[0, 0, 1]\n[0, 0, 1]\n[0, 0, 1]\n[0, 0, 1]\n[0, 0, 1]\n[0, 0, 1]\n[0, 0, 1]\n[0, 0, 1]\n[0, 0, 1]\n[0, 0, 1]\n[0, 0, 1]\n[0, 0, 1]\n[0, 0, 1]\n[0, 0, 1]\n[0, 0, 1]\n[0, 0, 1]\n[0, 0, 1]\n[0, 0, 1]\n[0, 0, 1]\n[0, 0, 1]\n[0, 0, 1]\n[0, 0, 1]\n[0, 0, 1]\n[0, 0, 1]\n[0, 0, 1]\n[0, 0, 1]\n[0, 0, 1]\n[0, 0, 1]\n[0, 0, 0]\n[0, 0, 0]\n[0, 0, 0]\n[0, 0, 0]\n[0, 0, 0]\n[0, 0, 0]\n[0, 0, 0]\n[0, 0, 0]\n[0, 0, 0]\n[0, 0, 0]\n[1, 0, 0]\n[1, 0, 0]\n[1, 0, 0]\n[1, 0, 0]\n[1, 0, 0]\n[1, 0, 0]\n[0, 0, 0]\n[0, 0, 0]\n[0, 0, 1]\n[0, 0, 1]\n[0, 0, 1]\n[0, 0, 1]\n[0, 0, 1]\n[0, 0, 1]\n[0, 0, 1]\n[0, 0, 1]\n[0, 0, 1]\n[0, 0, 1]\n[0, 0, 1]\n[0, 0, 1]\n[0, 0, 1]\n[0, 0, 1]\n[0, 0, 1]\n[0, 0, 1]\n[0, 0, 1]\n[0, 0, 1]\n[0, 0, 1]\n[0, 0, 1]\n[0, 0, 1]\n[0, 0, 1]\n[0, 0, 1]\n[0, 0, 1]\n[0, 0, 1]\n[0, 0, 1]\n[0, 0, 1]\n[0, 0, 1]\n[0, 0, 1]\n[0, 0, 1]\n[0, 0, 1]\n[0, 0, 1]\n[0, 0, 1]\n[0, 0, 1]\n[0, 0, 1]\n[0, 0, 1]\n[0, 0, 1]\n[0, 0, 1]\n[0, 0, 1]\n[0, 0, 1]\n[0, 0, 1]\n[0, 0, 1]\n[0, 0, 1]\n[0, 0, 1]\n[0, 0, 1]\n[0, 0, 1]\n[0, 0, 1]\n[0, 0, 1]\n[0, 0, 1]\n[0, 0, 1]\n[0, 0, 1]\n[0, 0, 1]\n[0, 0, 1]\n[0, 0, 1]\n[0, 0, 1]\n[0, 0, 0]\n[0, 0, 0]\n[0, 0, 0]\n[0, 0, 0]\n[0, 0, 0]\n[0, 0, 0]\n[0, 0, 0]\n[0, 0, 0]\n[0, 0, 0]\n[0, 0, 0]\n[1, 0, 0]\n[1, 0, 0]\n[1, 0, 0]\n[1, 0, 0]\n[1, 0, 0]\n[1, 0, 0]\n[0, 0, 0]\n[0, 0, 0]\n[0, 0, 1]\n[0, 0, 1]\n[0, 0, 1]\n[0, 0, 1]\n[0, 0, 1]\n[0, 0, 1]\n[0, 0, 1]\n[0, 0, 1]\n[0, 0, 1]\n[0, 0, 1]\n[0, 0, 1]\n[0, 0, 1]\n[0, 0, 1]\n[0, 0, 1]\n[0, 0, 1]\n[0, 0, 1]\n[0, 0, 1]\n[0, 0, 1]\n[0, 0, 1]\n[0, 0, 1]\n[0, 0, 1]\n[0, 0, 1]\n[0, 0, 1]\n[0, 0, 1]\n[0, 0, 1]\n[0, 0, 1]\n[0, 0, 1]\n[0, 0, 1]\n[0, 0, 1]\n[0, 0, 1]\n[0, 0, 1]\n[0, 0, 1]\n[0, 0, 1]\n[0, 0, 1]\n[0, 0, 1]\n[0, 0, 1]\n[0, 0, 1]\n[0, 0, 1]\n[0, 0, 1]\n[0, 0, 1]\n[0, 0, 1]\n[0, 0, 1]\n[0, 0, 1]\n[0, 0, 1]\n[0, 0, 1]\n[0, 0, 1]\n[0, 0, 1]\n[0, 0, 1]\n[0, 0, 1]\n[0, 0, 1]\n[0, 0, 1]\n[0, 0, 1]\n[0, 0, 1]\n[0, 0, 1]\n[0, 0, 1]\n[0, 0, 0]\n[0, 0, 0]\n[0, 0, 0]\n[0, 0, 0]\n[0, 0, 0]\n[0, 0, 0]\n[0, 0, 0]\n[0, 0, 0]\n[0, 0, 0]\n[0, 0, 0]\n[1, 0, 0]\n[1, 0, 0]\n[1, 0, 0]\n[1, 0, 0]\n[1, 0, 0]\n[1, 0, 0]\n[0, 0, 0]\n[0, 0, 0]\n[0, 0, 1]\n[0, 0, 1]\n[0, 0, 1]\n[0, 0, 1]\n[0, 0, 1]\n[0, 0, 1]\n[0, 0, 1]\n[0, 0, 1]\n[0, 0, 1]\n[0, 0, 1]\n[0, 0, 1]\n[0, 0, 1]\n[0, 0, 1]\n[0, 0, 1]\n[0, 0, 1]\n[0, 0, 1]\n[0, 0, 1]\n[0, 0, 1]\n[0, 0, 1]\n[0, 0, 1]\n[0, 0, 1]\n[0, 0, 1]\n[0, 0, 1]\n[0, 0, 1]\n[0, 0, 1]\n[0, 0, 1]\n[0, 0, 1]\n[0, 0, 1]\n[0, 0, 1]\n[0, 0, 1]\n[0, 0, 1]\n[0, 0, 1]\n[0, 0, 1]\n[0, 0, 1]\n[0, 0, 1]\n[0, 0, 1]\n[0, 0, 1]\n[0, 0, 1]\n[0, 0, 1]\n[0, 0, 1]\n[0, 0, 1]\n[0, 0, 1]\n[0, 0, 1]\n[0, 0, 1]\n[0, 0, 1]\n[0, 0, 1]\n[0, 0, 1]\n[0, 0, 1]\n[0, 0, 1]\n[0, 0, 1]\n[0, 0, 1]\n[0, 0, 1]\n[0, 0, 1]\n[0, 0, 1]\n[0, 0, 1]\n[0, 0, 0]\n[0, 0, 0]\n[0, 0, 0]\n[0, 0, 0]\n[0, 0, 0]\n[0, 0, 0]\n[0, 0, 0]\n[0, 0, 0]\n[0, 0, 0]\n[0, 0, 0]\n[1, 0, 0]\n[1, 0, 0]\n[1, 0, 0]\n[1, 0, 0]\n[1, 0, 0]\n[1, 0, 0]\n[0, 0, 0]\n[0, 0, 0]\n[0, 0, 1]\n[0, 0, 1]\n[0, 0, 1]\n[0, 0, 1]\n[0, 0, 1]\n[0, 0, 1]\n[0, 0, 1]\n[0, 0, 1]\n[0, 0, 1]\n[0, 0, 1]\n[0, 0, 1]\n[0, 0, 1]\n[0, 0, 1]\n[0, 0, 1]\n[0, 0, 1]\n[0, 0, 1]\n[0, 0, 1]\n[0, 0, 1]\n[0, 0, 1]\n[0, 0, 1]\n[0, 0, 1]\n[0, 0, 1]\n[0, 0, 1]\n[0, 0, 1]\n[0, 0, 1]\n[0, 0, 1]\n[0, 0, 1]\n[0, 0, 1]\n[0, 0, 1]\n[0, 0, 1]\n[0, 0, 1]\n[0, 0, 1]\n[0, 0, 1]\n[0, 0, 1]\n[0, 0, 1]\n[0, 0, 1]\n[0, 0, 1]\n[0, 0, 1]\n[0, 0, 1]\n[0, 0, 1]\n[0, 0, 1]\n[0, 0, 1]\n[0, 0, 1]\n[0, 0, 1]\n[0, 0, 1]\n[0, 0, 1]\n[0, 0, 1]\n[0, 0, 1]\n[0, 0, 1]\n[0, 0, 1]\n[0, 0, 1]\n[0, 0, 1]\n[0, 0, 1]\n[0, 0, 1]\n[0, 0, 1]\n[0, 0, 0]\n[0, 0, 0]\n[0, 0, 0]\n[0, 0, 0]\n[0, 0, 0]\n[0, 0, 0]\n[0, 0, 0]\n[0, 0, 0]\n[0, 0, 0]\n[0, 0, 0]\n[1, 0, 0]\n[1, 0, 0]\n[1, 0, 0]\n[1, 0, 0]\n[1, 0, 0]\n[1, 0, 0]\n[0, 0, 0]\n[0, 0, 0]\n[0, 0, 1]\n[0, 0, 1]\n[0, 0, 1]\n[0, 0, 1]\n[0, 0, 1]\n[0, 0, 1]\n[0, 0, 1]\n[0, 0, 1]\n[0, 0, 1]\n[0, 0, 1]\n[0, 0, 1]\n[0, 0, 1]\n[0, 0, 1]\n[0, 0, 1]\n[0, 0, 1]\n[0, 0, 1]\n[0, 0, 1]\n[0, 0, 1]\n[0, 0, 1]\n[0, 0, 1]\n[0, 0, 1]\n[0, 0, 1]\n[0, 0, 1]\n[0, 0, 1]\n[0, 0, 1]\n[0, 0, 1]\n[0, 0, 1]\n[0, 0, 1]\n[0, 0, 1]\n[0, 0, 1]\n[0, 0, 1]\n[0, 0, 1]\n[0, 0, 1]\n[0, 0, 1]\n[0, 0, 1]\n[0, 0, 1]\n[0, 0, 1]\n[0, 0, 1]\n[0, 0, 1]\n[0, 0, 1]\n[0, 0, 1]\n[0, 0, 1]\n[0, 0, 1]\n[0, 0, 1]\n[0, 0, 1]\n[0, 0, 1]\n[0, 0, 1]\n[0, 0, 1]\n[0, 0, 1]\n[0, 0, 1]\n[0, 0, 1]\n[0, 0, 1]\n[0, 0, 1]\n[0, 0, 1]\n[0, 0, 1]\n[0, 0, 0]\n[0, 0, 0]\n[0, 0, 0]\n[0, 0, 0]\n[0, 0, 0]\n[0, 0, 0]\n[0, 0, 0]\n[0, 0, 0]\n[0, 0, 0]\n[0, 0, 0]\n[1, 0, 0]\n[1, 0, 0]\n[1, 0, 0]\n[1, 0, 0]\n[1, 0, 0]\n[1, 0, 0]\n[0, 0, 0]\n[0, 0, 0]\n[0, 0, 1]\n[0, 0, 1]\n[0, 0, 1]\n[0, 0, 1]\n[0, 0, 1]\n[0, 0, 1]\n[0, 0, 1]\n[0, 0, 1]\n[0, 0, 1]\n[0, 0, 1]\n[0, 0, 1]\n[0, 0, 1]\n[0, 0, 1]\n[0, 0, 1]\n[0, 0, 1]\n[0, 0, 1]\n[0, 0, 1]\n[0, 0, 1]\n[0, 0, 1]\n[0, 0, 1]\n[0, 0, 1]\n[0, 0, 1]\n[0, 0, 1]\n[0, 0, 1]\n[0, 0, 1]\n[0, 0, 1]\n[0, 0, 1]\n[0, 0, 1]\n[0, 0, 1]\n[0, 0, 1]\n[0, 0, 1]\n[0, 0, 1]\n[0, 0, 1]\n[0, 0, 1]\n[0, 0, 1]\n[0, 0, 1]\n[0, 0, 1]\n[0, 0, 1]\n[0, 0, 1]\n[0, 0, 1]\n[0, 0, 1]\n[0, 0, 1]\n[0, 0, 1]\n[0, 0, 1]\n[0, 0, 1]\n[0, 0, 1]\n[0, 0, 1]\n[0, 0, 1]\n[0, 0, 1]\n[0, 0, 1]\n[0, 0, 1]\n[0, 0, 1]\n[0, 0, 1]\n[0, 0, 1]\n[0, 0, 1]\n[0, 0, 0]\n[0, 0, 0]\n[0, 0, 0]\n[0, 0, 0]\n[0, 0, 0]\n[0, 0, 0]\n[0, 0, 0]\n[0, 0, 0]\n[0, 0, 0]\n[0, 0, 0]\n[1, 0, 0]\n[1, 0, 0]\n[1, 0, 0]\n[1, 0, 0]\n[1, 0, 0]\n[1, 0, 0]\n[0, 0, 0]\n[0, 0, 0]\n[0, 0, 1]\n[0, 0, 1]\n[0, 0, 1]\n[0, 0, 1]\n[0, 0, 1]\n[0, 0, 1]\n[0, 0, 1]\n[0, 0, 1]\n[0, 0, 1]\n[0, 0, 1]\n[0, 0, 1]\n[0, 0, 1]\n[0, 0, 1]\n[0, 0, 1]\n[0, 0, 1]\n[0, 0, 1]\n[0, 0, 1]\n[0, 0, 1]\n[0, 0, 1]\n[0, 0, 1]\n[0, 0, 1]\n[0, 0, 1]\n[0, 0, 1]\n[0, 0, 1]\n[0, 0, 1]\n[0, 0, 1]\n[0, 0, 1]\n[0, 0, 1]\n[0, 0, 1]\n[0, 0, 1]\n[0, 0, 1]\n[0, 0, 1]\n[0, 0, 1]\n[0, 0, 1]\n[0, 0, 1]\n[0, 0, 1]\n[0, 0, 1]\n[0, 0, 1]\n[0, 0, 1]\n[0, 0, 1]\n[0, 0, 1]\n[0, 0, 1]\n[0, 0, 1]\n[0, 0, 1]\n[0, 0, 1]\n[0, 0, 1]\n[0, 0, 1]\n[0, 0, 1]\n[0, 0, 1]\n[0, 0, 1]\n[0, 0, 1]\n[0, 0, 1]\n[0, 0, 1]\n[0, 0, 1]\n[0, 0, 1]\n[0, 0, 0]\n[0, 0, 0]\n[0, 0, 0]\n[0, 0, 0]\n[0, 0, 0]\n[0, 0, 0]\n[0, 0, 0]\n[0, 0, 0]\n[0, 0, 0]\n[0, 0, 0]\n[1, 0, 0]\n[1, 0, 0]\n[1, 0, 0]\n[1, 0, 0]\n[1, 0, 0]\n[1, 0, 0]\n[0, 0, 0]\n[0, 0, 0]\n[0, 0, 1]\n[0, 0, 1]\n[0, 0, 1]\n[0, 0, 1]\n[0, 0, 1]\n[0, 0, 1]\n[0, 0, 1]\n[0, 0, 1]\n[0, 0, 1]\n[0, 0, 1]\n[0, 0, 1]\n[0, 0, 1]\n[0, 0, 1]\n[0, 0, 1]\n[0, 0, 1]\n[0, 0, 1]\n[0, 0, 1]\n[0, 0, 1]\n[0, 0, 1]\n[0, 0, 1]\n[0, 0, 1]\n[0, 0, 1]\n[0, 0, 1]\n[0, 0, 1]\n[0, 0, 1]\n[0, 0, 1]\n[0, 0, 1]\n[0, 0, 1]\n[0, 0, 1]\n[0, 0, 1]\n[0, 0, 1]\n[0, 0, 1]\n[0, 0, 1]\n[0, 0, 1]\n[0, 0, 1]\n[0, 0, 1]\n[0, 0, 1]\n[0, 0, 1]\n[0, 0, 1]\n[0, 0, 1]\n[0, 0, 1]\n[0, 0, 1]\n[0, 0, 1]\n[0, 0, 1]\n[0, 0, 1]\n[0, 0, 1]\n[0, 0, 1]\n[0, 0, 1]\n[0, 0, 1]\n[0, 0, 1]\n[0, 0, 1]\n[0, 0, 1]\n[0, 0, 1]\n[0, 0, 1]\n[0, 0, 1]\n[0, 0, 0]\n[0, 0, 0]\n[0, 0, 0]\n[0, 0, 0]\n[0, 0, 0]\n[0, 0, 0]\n[0, 0, 0]\n[0, 0, 0]\n[0, 0, 0]\n[0, 0, 0]\n[1, 0, 0]\n[1, 0, 0]\n[1, 0, 0]\n[1, 0, 0]\n[1, 0, 0]\n[1, 0, 0]\n[0, 0, 0]\n[0, 0, 0]\n[0, 0, 1]\n[0, 0, 1]\n[0, 0, 1]\n[0, 0, 1]\n[0, 0, 1]\n[0, 0, 1]\n[0, 0, 1]\n[0, 0, 1]\n[0, 0, 1]\n[0, 0, 1]\n[0, 0, 1]\n[0, 0, 1]\n[0, 0, 1]\n[0, 0, 1]\n[0, 0, 1]\n[0, 0, 1]\n[0, 0, 1]\n[0, 0, 1]\n[0, 0, 1]\n[0, 0, 1]\n[0, 0, 1]\n[0, 0, 1]\n[0, 0, 1]\n[0, 0, 1]\n[0, 0, 1]\n[0, 0, 1]\n[0, 0, 1]\n[0, 0, 1]\n[0, 0, 1]\n[0, 0, 1]\n[0, 0, 1]\n[0, 0, 1]\n[0, 0, 1]\n[0, 0, 1]\n[0, 0, 1]\n[0, 0, 1]\n[0, 0, 1]\n[0, 0, 1]\n[0, 0, 1]\n[0, 0, 1]\n[0, 0, 1]\n[0, 0, 1]\n[0, 0, 1]\n[0, 0, 1]\n[0, 0, 1]\n[0, 0, 1]\n[0, 0, 1]\n[0, 0, 1]\n[0, 0, 1]\n[0, 0, 1]\n[0, 0, 1]\n[0, 0, 1]\n[0, 0, 1]\n[0, 0, 1]\n[0, 0, 1]\n[0, 0, 0]\n[0, 0, 0]\n[0, 0, 0]\n[0, 0, 0]\n[0, 0, 0]\n[0, 0, 0]\n[0, 0, 0]\n[0, 0, 0]\n[0, 0, 0]\n[0, 0, 0]\n[1, 0, 0]\n[1, 0, 0]\n[1, 0, 0]\n[1, 0, 0]\n[1, 0, 0]\n[1, 0, 0]\n[0, 0, 0]\n[0, 0, 0]\n[0, 0, 1]\n[0, 0, 1]\n[0, 0, 1]\n[0, 0, 1]\n[0, 0, 1]\n[0, 0, 1]\n[0, 0, 1]\n[0, 0, 1]\n[0, 0, 1]\n[0, 0, 1]\n[0, 0, 1]\n[0, 0, 1]\n[0, 0, 1]\n[0, 0, 1]\n[0, 0, 1]\n[0, 0, 1]\n[0, 0, 1]\n[0, 0, 1]\n[0, 0, 1]\n[0, 0, 1]\n[0, 0, 1]\n[0, 0, 1]\n[0, 0, 1]\n[0, 0, 1]\n[0, 0, 1]\n[0, 0, 1]\n[0, 0, 1]\n[0, 0, 1]\n[0, 0, 1]\n[0, 0, 1]\n[0, 0, 1]\n[0, 0, 1]\n[0, 0, 1]\n[0, 0, 1]\n[0, 0, 1]\n[0, 0, 1]\n[0, 0, 1]\n[0, 0, 1]\n[0, 0, 1]\n[0, 0, 1]\n[0, 0, 1]\n[0, 0, 1]\n[0, 0, 1]\n[0, 0, 1]\n[0, 0, 1]\n[0, 0, 1]\n[0, 0, 1]\n[0, 0, 1]\n[0, 0, 1]\n[0, 0, 1]\n[0, 0, 1]\n[0, 0, 1]\n[0, 0, 1]\n[0, 0, 1]\n[0, 0, 1]\n[0, 0, 0]\n[0, 0, 0]\n[0, 0, 0]\n[0, 0, 0]\n[0, 0, 0]\n[0, 0, 0]\n[0, 0, 0]\n[0, 0, 0]\n[0, 0, 0]\n[0, 0, 0]\n[1, 0, 0]\n[1, 0, 0]\n[1, 0, 0]\n[1, 0, 0]\n[1, 0, 0]\n[1, 0, 0]\n[0, 0, 0]\n[0, 0, 0]\n[0, 0, 1]\n[0, 0, 1]\n[0, 0, 1]\n[0, 0, 1]\n[0, 0, 1]\n[0, 0, 1]\n[0, 0, 1]\n[0, 0, 1]\n[0, 0, 1]\n[0, 0, 1]\n[0, 0, 1]\n[0, 0, 1]\n[0, 0, 1]\n[0, 0, 1]\n[0, 0, 1]\n[0, 0, 1]\n[0, 0, 1]\n[0, 0, 1]\n[0, 0, 1]\n[0, 0, 1]\n[0, 0, 1]\n[0, 0, 1]\n[0, 0, 1]\n[0, 0, 1]\n[0, 0, 1]\n[0, 0, 1]\n[0, 0, 1]\n[0, 0, 1]\n[0, 0, 1]\n[0, 0, 1]\n[0, 0, 1]\n[0, 0, 1]\n[0, 0, 1]\n[0, 0, 1]\n[0, 0, 1]\n[0, 0, 1]\n[0, 0, 1]\n[0, 0, 1]\n[0, 0, 1]\n[0, 0, 1]\n[0, 0, 1]\n[0, 0, 1]\n[0, 0, 1]\n[0, 0, 1]\n[0, 0, 1]\n[0, 0, 1]\n[0, 0, 1]\n[0, 0, 1]\n[0, 0, 1]\n[0, 0, 1]\n[0, 0, 1]\n[0, 0, 1]\n[0, 0, 1]\n[0, 0, 1]\n[0, 0, 1]\n[0, 0, 0]\n[0, 0, 0]\n[0, 0, 0]\n[0, 0, 0]\n[0, 0, 0]\n[0, 0, 0]\n[0, 0, 0]\n[0, 0, 0]\n[0, 0, 0]\n[0, 0, 0]\n[1, 0, 0]\n[1, 0, 0]\n[1, 0, 0]\n[1, 0, 0]\n[1, 0, 0]\n[1, 0, 0]\n[0, 0, 0]\n[0, 0, 0]\n[0, 0, 1]\n[0, 0, 1]\n[0, 0, 1]\n[0, 0, 1]\n[0, 0, 1]\n[0, 0, 1]\n[0, 0, 1]\n[0, 0, 1]\n[0, 0, 1]\n[0, 0, 1]\n[0, 0, 1]\n"
    },
    {
     "output_type": "error",
     "ename": "KeyboardInterrupt",
     "evalue": "",
     "traceback": [
      "\u001b[1;31m---------------------------------------------------------------------------\u001b[0m",
      "\u001b[1;31mKeyboardInterrupt\u001b[0m                         Traceback (most recent call last)",
      "\u001b[1;32m<ipython-input-47-8d1a8da350eb>\u001b[0m in \u001b[0;36m<module>\u001b[1;34m\u001b[0m\n\u001b[0;32m     11\u001b[0m             \u001b[0mprint\u001b[0m\u001b[1;33m(\u001b[0m\u001b[1;33m[\u001b[0m\u001b[1;36m0\u001b[0m\u001b[1;33m,\u001b[0m\u001b[1;36m0\u001b[0m\u001b[1;33m,\u001b[0m\u001b[1;36m0\u001b[0m\u001b[1;33m]\u001b[0m\u001b[1;33m)\u001b[0m\u001b[1;33m\u001b[0m\u001b[1;33m\u001b[0m\u001b[0m\n\u001b[0;32m     12\u001b[0m         \u001b[1;32melse\u001b[0m\u001b[1;33m:\u001b[0m\u001b[1;33m\u001b[0m\u001b[1;33m\u001b[0m\u001b[0m\n\u001b[1;32m---> 13\u001b[1;33m             \u001b[0mprint\u001b[0m\u001b[1;33m(\u001b[0m\u001b[0mlist\u001b[0m\u001b[1;33m(\u001b[0m\u001b[0mdf_temp\u001b[0m\u001b[1;33m[\u001b[0m\u001b[0mdf_temp\u001b[0m\u001b[1;33m[\u001b[0m\u001b[1;34m'date'\u001b[0m\u001b[1;33m]\u001b[0m\u001b[1;33m<=\u001b[0m\u001b[0mt\u001b[0m\u001b[1;33m]\u001b[0m\u001b[1;33m.\u001b[0m\u001b[0miloc\u001b[0m\u001b[1;33m[\u001b[0m\u001b[1;33m-\u001b[0m\u001b[1;36m1\u001b[0m\u001b[1;33m]\u001b[0m\u001b[1;33m[\u001b[0m\u001b[1;33m[\u001b[0m\u001b[1;34m'emergency'\u001b[0m\u001b[1;33m,\u001b[0m\u001b[1;34m'safeathome'\u001b[0m\u001b[1;33m,\u001b[0m\u001b[1;34m'business'\u001b[0m\u001b[1;33m]\u001b[0m\u001b[1;33m]\u001b[0m\u001b[1;33m.\u001b[0m\u001b[0mapply\u001b[0m\u001b[1;33m(\u001b[0m\u001b[0mint\u001b[0m\u001b[1;33m)\u001b[0m\u001b[1;33m)\u001b[0m\u001b[1;33m)\u001b[0m\u001b[1;33m\u001b[0m\u001b[1;33m\u001b[0m\u001b[0m\n\u001b[0m",
      "\u001b[1;32m~\\miniconda3\\lib\\site-packages\\ipykernel\\iostream.py\u001b[0m in \u001b[0;36mwrite\u001b[1;34m(self, string)\u001b[0m\n\u001b[0;32m    400\u001b[0m             \u001b[0mis_child\u001b[0m \u001b[1;33m=\u001b[0m \u001b[1;33m(\u001b[0m\u001b[1;32mnot\u001b[0m \u001b[0mself\u001b[0m\u001b[1;33m.\u001b[0m\u001b[0m_is_master_process\u001b[0m\u001b[1;33m(\u001b[0m\u001b[1;33m)\u001b[0m\u001b[1;33m)\u001b[0m\u001b[1;33m\u001b[0m\u001b[1;33m\u001b[0m\u001b[0m\n\u001b[0;32m    401\u001b[0m             \u001b[1;31m# only touch the buffer in the IO thread to avoid races\u001b[0m\u001b[1;33m\u001b[0m\u001b[1;33m\u001b[0m\u001b[1;33m\u001b[0m\u001b[0m\n\u001b[1;32m--> 402\u001b[1;33m             \u001b[0mself\u001b[0m\u001b[1;33m.\u001b[0m\u001b[0mpub_thread\u001b[0m\u001b[1;33m.\u001b[0m\u001b[0mschedule\u001b[0m\u001b[1;33m(\u001b[0m\u001b[1;32mlambda\u001b[0m \u001b[1;33m:\u001b[0m \u001b[0mself\u001b[0m\u001b[1;33m.\u001b[0m\u001b[0m_buffer\u001b[0m\u001b[1;33m.\u001b[0m\u001b[0mwrite\u001b[0m\u001b[1;33m(\u001b[0m\u001b[0mstring\u001b[0m\u001b[1;33m)\u001b[0m\u001b[1;33m)\u001b[0m\u001b[1;33m\u001b[0m\u001b[1;33m\u001b[0m\u001b[0m\n\u001b[0m\u001b[0;32m    403\u001b[0m             \u001b[1;32mif\u001b[0m \u001b[0mis_child\u001b[0m\u001b[1;33m:\u001b[0m\u001b[1;33m\u001b[0m\u001b[1;33m\u001b[0m\u001b[0m\n\u001b[0;32m    404\u001b[0m                 \u001b[1;31m# newlines imply flush in subprocesses\u001b[0m\u001b[1;33m\u001b[0m\u001b[1;33m\u001b[0m\u001b[1;33m\u001b[0m\u001b[0m\n",
      "\u001b[1;32m~\\miniconda3\\lib\\site-packages\\ipykernel\\iostream.py\u001b[0m in \u001b[0;36mschedule\u001b[1;34m(self, f)\u001b[0m\n\u001b[0;32m    203\u001b[0m             \u001b[0mself\u001b[0m\u001b[1;33m.\u001b[0m\u001b[0m_events\u001b[0m\u001b[1;33m.\u001b[0m\u001b[0mappend\u001b[0m\u001b[1;33m(\u001b[0m\u001b[0mf\u001b[0m\u001b[1;33m)\u001b[0m\u001b[1;33m\u001b[0m\u001b[1;33m\u001b[0m\u001b[0m\n\u001b[0;32m    204\u001b[0m             \u001b[1;31m# wake event thread (message content is ignored)\u001b[0m\u001b[1;33m\u001b[0m\u001b[1;33m\u001b[0m\u001b[1;33m\u001b[0m\u001b[0m\n\u001b[1;32m--> 205\u001b[1;33m             \u001b[0mself\u001b[0m\u001b[1;33m.\u001b[0m\u001b[0m_event_pipe\u001b[0m\u001b[1;33m.\u001b[0m\u001b[0msend\u001b[0m\u001b[1;33m(\u001b[0m\u001b[1;34mb''\u001b[0m\u001b[1;33m)\u001b[0m\u001b[1;33m\u001b[0m\u001b[1;33m\u001b[0m\u001b[0m\n\u001b[0m\u001b[0;32m    206\u001b[0m         \u001b[1;32melse\u001b[0m\u001b[1;33m:\u001b[0m\u001b[1;33m\u001b[0m\u001b[1;33m\u001b[0m\u001b[0m\n\u001b[0;32m    207\u001b[0m             \u001b[0mf\u001b[0m\u001b[1;33m(\u001b[0m\u001b[1;33m)\u001b[0m\u001b[1;33m\u001b[0m\u001b[1;33m\u001b[0m\u001b[0m\n",
      "\u001b[1;32m~\\miniconda3\\lib\\site-packages\\zmq\\sugar\\socket.py\u001b[0m in \u001b[0;36msend\u001b[1;34m(self, data, flags, copy, track, routing_id, group)\u001b[0m\n\u001b[0;32m    398\u001b[0m                                  copy_threshold=self.copy_threshold)\n\u001b[0;32m    399\u001b[0m             \u001b[0mdata\u001b[0m\u001b[1;33m.\u001b[0m\u001b[0mgroup\u001b[0m \u001b[1;33m=\u001b[0m \u001b[0mgroup\u001b[0m\u001b[1;33m\u001b[0m\u001b[1;33m\u001b[0m\u001b[0m\n\u001b[1;32m--> 400\u001b[1;33m         \u001b[1;32mreturn\u001b[0m \u001b[0msuper\u001b[0m\u001b[1;33m(\u001b[0m\u001b[0mSocket\u001b[0m\u001b[1;33m,\u001b[0m \u001b[0mself\u001b[0m\u001b[1;33m)\u001b[0m\u001b[1;33m.\u001b[0m\u001b[0msend\u001b[0m\u001b[1;33m(\u001b[0m\u001b[0mdata\u001b[0m\u001b[1;33m,\u001b[0m \u001b[0mflags\u001b[0m\u001b[1;33m=\u001b[0m\u001b[0mflags\u001b[0m\u001b[1;33m,\u001b[0m \u001b[0mcopy\u001b[0m\u001b[1;33m=\u001b[0m\u001b[0mcopy\u001b[0m\u001b[1;33m,\u001b[0m \u001b[0mtrack\u001b[0m\u001b[1;33m=\u001b[0m\u001b[0mtrack\u001b[0m\u001b[1;33m)\u001b[0m\u001b[1;33m\u001b[0m\u001b[1;33m\u001b[0m\u001b[0m\n\u001b[0m\u001b[0;32m    401\u001b[0m \u001b[1;33m\u001b[0m\u001b[0m\n\u001b[0;32m    402\u001b[0m     \u001b[1;32mdef\u001b[0m \u001b[0msend_multipart\u001b[0m\u001b[1;33m(\u001b[0m\u001b[0mself\u001b[0m\u001b[1;33m,\u001b[0m \u001b[0mmsg_parts\u001b[0m\u001b[1;33m,\u001b[0m \u001b[0mflags\u001b[0m\u001b[1;33m=\u001b[0m\u001b[1;36m0\u001b[0m\u001b[1;33m,\u001b[0m \u001b[0mcopy\u001b[0m\u001b[1;33m=\u001b[0m\u001b[1;32mTrue\u001b[0m\u001b[1;33m,\u001b[0m \u001b[0mtrack\u001b[0m\u001b[1;33m=\u001b[0m\u001b[1;32mFalse\u001b[0m\u001b[1;33m,\u001b[0m \u001b[1;33m**\u001b[0m\u001b[0mkwargs\u001b[0m\u001b[1;33m)\u001b[0m\u001b[1;33m:\u001b[0m\u001b[1;33m\u001b[0m\u001b[1;33m\u001b[0m\u001b[0m\n",
      "\u001b[1;32mzmq/backend/cython/socket.pyx\u001b[0m in \u001b[0;36mzmq.backend.cython.socket.Socket.send\u001b[1;34m()\u001b[0m\n",
      "\u001b[1;32mzmq/backend/cython/socket.pyx\u001b[0m in \u001b[0;36mzmq.backend.cython.socket.Socket.send\u001b[1;34m()\u001b[0m\n",
      "\u001b[1;32mzmq/backend/cython/socket.pyx\u001b[0m in \u001b[0;36mzmq.backend.cython.socket._send_copy\u001b[1;34m()\u001b[0m\n",
      "\u001b[1;32m~\\miniconda3\\lib\\site-packages\\zmq\\backend\\cython\\checkrc.pxd\u001b[0m in \u001b[0;36mzmq.backend.cython.checkrc._check_rc\u001b[1;34m()\u001b[0m\n",
      "\u001b[1;31mKeyboardInterrupt\u001b[0m: "
     ]
    }
   ],
   "source": [
    "col_use = ['date', 'emergency', 'safeathome', 'business']\n",
    "for fips in list(policy['fips']):\n",
    "    state = fips[:2]\n",
    "    df_temp = policy3_new[policy3_new['state']==state].copy()\n",
    "    df_temp = df_temp[(df_temp['fips']=='0')|(df_temp['fips']==fips)][col_use]\n",
    "    df_temp.drop_duplicates(subset='date', keep='last', inplace=True)\n",
    "    df_temp.reset_index(drop=True, inplace=True)\n",
    "    # interval = df_temp['date'].to_numpy()\n",
    "    for t in date_win:\n",
    "        if len(df_temp[df_temp['date']<=t])==0:\n",
    "            print([0,0,0])\n",
    "        else:\n",
    "            print(list(df_temp[df_temp['date']<=t].iloc[-1][['emergency','safeathome','business']].apply(int)))"
   ]
  },
  {
   "cell_type": "code",
   "execution_count": 25,
   "metadata": {},
   "outputs": [
    {
     "output_type": "execute_result",
     "data": {
      "text/plain": "    Effective Date  State of Emergency Declaration  Shelter-in-place Order  \\\n53      2020-03-13                            True                   False   \n73      2020-03-15                           False                   False   \n106     2020-03-17                           False                   False   \n107     2020-03-17                           False                   False   \n138     2020-03-23                           False                   False   \n338     2020-03-25                           False                    True   \n179     2020-04-01                           False                   False   \n185     2020-04-07                           False                    True   \n\n     business  \n53      False  \n73      False  \n106      True  \n107     False  \n138     False  \n338     False  \n179      True  \n185     False  ",
      "text/html": "<div>\n<style scoped>\n    .dataframe tbody tr th:only-of-type {\n        vertical-align: middle;\n    }\n\n    .dataframe tbody tr th {\n        vertical-align: top;\n    }\n\n    .dataframe thead th {\n        text-align: right;\n    }\n</style>\n<table border=\"1\" class=\"dataframe\">\n  <thead>\n    <tr style=\"text-align: right;\">\n      <th></th>\n      <th>Effective Date</th>\n      <th>State of Emergency Declaration</th>\n      <th>Shelter-in-place Order</th>\n      <th>business</th>\n    </tr>\n  </thead>\n  <tbody>\n    <tr>\n      <th>53</th>\n      <td>2020-03-13</td>\n      <td>True</td>\n      <td>False</td>\n      <td>False</td>\n    </tr>\n    <tr>\n      <th>73</th>\n      <td>2020-03-15</td>\n      <td>False</td>\n      <td>False</td>\n      <td>False</td>\n    </tr>\n    <tr>\n      <th>106</th>\n      <td>2020-03-17</td>\n      <td>False</td>\n      <td>False</td>\n      <td>True</td>\n    </tr>\n    <tr>\n      <th>107</th>\n      <td>2020-03-17</td>\n      <td>False</td>\n      <td>False</td>\n      <td>False</td>\n    </tr>\n    <tr>\n      <th>138</th>\n      <td>2020-03-23</td>\n      <td>False</td>\n      <td>False</td>\n      <td>False</td>\n    </tr>\n    <tr>\n      <th>338</th>\n      <td>2020-03-25</td>\n      <td>False</td>\n      <td>True</td>\n      <td>False</td>\n    </tr>\n    <tr>\n      <th>179</th>\n      <td>2020-04-01</td>\n      <td>False</td>\n      <td>False</td>\n      <td>True</td>\n    </tr>\n    <tr>\n      <th>185</th>\n      <td>2020-04-07</td>\n      <td>False</td>\n      <td>True</td>\n      <td>False</td>\n    </tr>\n  </tbody>\n</table>\n</div>"
     },
     "metadata": {},
     "execution_count": 25
    }
   ],
   "source": [
    "policy3_new[((policy3_new['State']=='45') & (policy3_new['Coverage']=='0'))|(policy3_new['Coverage']=='45019')][col_use]\n",
    "# policy3_new[policy3_new['Co'    '45019'"
   ]
  },
  {
   "cell_type": "code",
   "execution_count": 48,
   "metadata": {},
   "outputs": [
    {
     "output_type": "execute_result",
     "data": {
      "text/plain": "   state  fips       date  emergency  safeathome  business\n0     41     0 2020-02-28      False       False     False\n1     53     0 2020-02-29       True       False     False\n2     12     0 2020-03-01       True       False     False\n3      1     0 2020-03-02      False       False     False\n4      6     0 2020-03-04       True       False     False",
      "text/html": "<div>\n<style scoped>\n    .dataframe tbody tr th:only-of-type {\n        vertical-align: middle;\n    }\n\n    .dataframe tbody tr th {\n        vertical-align: top;\n    }\n\n    .dataframe thead th {\n        text-align: right;\n    }\n</style>\n<table border=\"1\" class=\"dataframe\">\n  <thead>\n    <tr style=\"text-align: right;\">\n      <th></th>\n      <th>state</th>\n      <th>fips</th>\n      <th>date</th>\n      <th>emergency</th>\n      <th>safeathome</th>\n      <th>business</th>\n    </tr>\n  </thead>\n  <tbody>\n    <tr>\n      <th>0</th>\n      <td>41</td>\n      <td>0</td>\n      <td>2020-02-28</td>\n      <td>False</td>\n      <td>False</td>\n      <td>False</td>\n    </tr>\n    <tr>\n      <th>1</th>\n      <td>53</td>\n      <td>0</td>\n      <td>2020-02-29</td>\n      <td>True</td>\n      <td>False</td>\n      <td>False</td>\n    </tr>\n    <tr>\n      <th>2</th>\n      <td>12</td>\n      <td>0</td>\n      <td>2020-03-01</td>\n      <td>True</td>\n      <td>False</td>\n      <td>False</td>\n    </tr>\n    <tr>\n      <th>3</th>\n      <td>1</td>\n      <td>0</td>\n      <td>2020-03-02</td>\n      <td>False</td>\n      <td>False</td>\n      <td>False</td>\n    </tr>\n    <tr>\n      <th>4</th>\n      <td>6</td>\n      <td>0</td>\n      <td>2020-03-04</td>\n      <td>True</td>\n      <td>False</td>\n      <td>False</td>\n    </tr>\n  </tbody>\n</table>\n</div>"
     },
     "metadata": {},
     "execution_count": 48
    }
   ],
   "source": [
    "_ = pd.read_csv(f'{homedir}/JK/policy.csv', parse_dates=['date'])\n",
    "_.head()"
   ]
  },
  {
   "cell_type": "code",
   "execution_count": 49,
   "metadata": {},
   "outputs": [
    {
     "output_type": "execute_result",
     "data": {
      "text/plain": "  state fips       date  emergency  safeathome  business\n0    41    0 2020-02-28      False       False     False\n1    53    0 2020-02-29       True       False     False\n2    12    0 2020-03-01       True       False     False\n3    01    0 2020-03-02      False       False     False\n4    06    0 2020-03-04       True       False     False",
      "text/html": "<div>\n<style scoped>\n    .dataframe tbody tr th:only-of-type {\n        vertical-align: middle;\n    }\n\n    .dataframe tbody tr th {\n        vertical-align: top;\n    }\n\n    .dataframe thead th {\n        text-align: right;\n    }\n</style>\n<table border=\"1\" class=\"dataframe\">\n  <thead>\n    <tr style=\"text-align: right;\">\n      <th></th>\n      <th>state</th>\n      <th>fips</th>\n      <th>date</th>\n      <th>emergency</th>\n      <th>safeathome</th>\n      <th>business</th>\n    </tr>\n  </thead>\n  <tbody>\n    <tr>\n      <th>0</th>\n      <td>41</td>\n      <td>0</td>\n      <td>2020-02-28</td>\n      <td>False</td>\n      <td>False</td>\n      <td>False</td>\n    </tr>\n    <tr>\n      <th>1</th>\n      <td>53</td>\n      <td>0</td>\n      <td>2020-02-29</td>\n      <td>True</td>\n      <td>False</td>\n      <td>False</td>\n    </tr>\n    <tr>\n      <th>2</th>\n      <td>12</td>\n      <td>0</td>\n      <td>2020-03-01</td>\n      <td>True</td>\n      <td>False</td>\n      <td>False</td>\n    </tr>\n    <tr>\n      <th>3</th>\n      <td>01</td>\n      <td>0</td>\n      <td>2020-03-02</td>\n      <td>False</td>\n      <td>False</td>\n      <td>False</td>\n    </tr>\n    <tr>\n      <th>4</th>\n      <td>06</td>\n      <td>0</td>\n      <td>2020-03-04</td>\n      <td>True</td>\n      <td>False</td>\n      <td>False</td>\n    </tr>\n  </tbody>\n</table>\n</div>"
     },
     "metadata": {},
     "execution_count": 49
    }
   ],
   "source": [
    "_['state'] = _['state'].apply(lambda x:'0'*(2-len(str(x)))+str(x))\n",
    "_['fips'] = _['fips'].apply(correct_FIPS)\n",
    "_.head()"
   ]
  },
  {
   "cell_type": "code",
   "execution_count": 53,
   "metadata": {},
   "outputs": [
    {
     "output_type": "execute_result",
     "data": {
      "text/plain": "  state fips       date  emergency  safeathome  business\n0    41    0 2020-02-28      False       False     False\n1    53    0 2020-02-29       True       False     False\n2    12    0 2020-03-01       True       False     False\n3    01    0 2020-03-02      False       False     False\n4    06    0 2020-03-04       True       False     False",
      "text/html": "<div>\n<style scoped>\n    .dataframe tbody tr th:only-of-type {\n        vertical-align: middle;\n    }\n\n    .dataframe tbody tr th {\n        vertical-align: top;\n    }\n\n    .dataframe thead th {\n        text-align: right;\n    }\n</style>\n<table border=\"1\" class=\"dataframe\">\n  <thead>\n    <tr style=\"text-align: right;\">\n      <th></th>\n      <th>state</th>\n      <th>fips</th>\n      <th>date</th>\n      <th>emergency</th>\n      <th>safeathome</th>\n      <th>business</th>\n    </tr>\n  </thead>\n  <tbody>\n    <tr>\n      <th>0</th>\n      <td>41</td>\n      <td>0</td>\n      <td>2020-02-28</td>\n      <td>False</td>\n      <td>False</td>\n      <td>False</td>\n    </tr>\n    <tr>\n      <th>1</th>\n      <td>53</td>\n      <td>0</td>\n      <td>2020-02-29</td>\n      <td>True</td>\n      <td>False</td>\n      <td>False</td>\n    </tr>\n    <tr>\n      <th>2</th>\n      <td>12</td>\n      <td>0</td>\n      <td>2020-03-01</td>\n      <td>True</td>\n      <td>False</td>\n      <td>False</td>\n    </tr>\n    <tr>\n      <th>3</th>\n      <td>01</td>\n      <td>0</td>\n      <td>2020-03-02</td>\n      <td>False</td>\n      <td>False</td>\n      <td>False</td>\n    </tr>\n    <tr>\n      <th>4</th>\n      <td>06</td>\n      <td>0</td>\n      <td>2020-03-04</td>\n      <td>True</td>\n      <td>False</td>\n      <td>False</td>\n    </tr>\n  </tbody>\n</table>\n</div>"
     },
     "metadata": {},
     "execution_count": 53
    }
   ],
   "source": [
    "_.replace({'fips':FIPS_mapping}, inplace=True)\n",
    "_.head()"
   ]
  }
 ],
 "metadata": {
  "language_info": {
   "codemirror_mode": {
    "name": "ipython",
    "version": 3
   },
   "file_extension": ".py",
   "mimetype": "text/x-python",
   "name": "python",
   "nbconvert_exporter": "python",
   "pygments_lexer": "ipython3",
   "version": "3.7.6-final"
  },
  "orig_nbformat": 2,
  "kernelspec": {
   "name": "python37664bitbaseconda4eadddc3141645a4b2e2e3236285dbac",
   "display_name": "Python 3.7.6 64-bit ('base': conda)"
  }
 },
 "nbformat": 4,
 "nbformat_minor": 2
}