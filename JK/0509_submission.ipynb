{
 "cells": [
  {
   "cell_type": "code",
   "execution_count": 1,
   "metadata": {},
   "outputs": [],
   "source": [
    "from time import time, process_time\n",
    "import numpy as np\n",
    "import pandas as pd\n",
    "import matplotlib.pyplot as plt\n",
    "import tensorflow as tf\n",
    "from utility import *\n",
    "from LSTM import *\n",
    "\n",
    "homedir = get_homedir()"
   ]
  },
  {
   "cell_type": "code",
   "execution_count": 2,
   "metadata": {},
   "outputs": [],
   "source": [
    "FIPS_mapping, FIPS_full = get_FIPS(reduced=True)"
   ]
  },
  {
   "cell_type": "code",
   "execution_count": 3,
   "metadata": {},
   "outputs": [
    {
     "output_type": "execute_result",
     "data": {
      "text/plain": "['06049', '08009', '08017', '08061', '08073']"
     },
     "metadata": {},
     "execution_count": 3
    }
   ],
   "source": [
    "FIPS_cluster = []\n",
    "for c in range(5):\n",
    "    with open(f'{homedir}/JK/preprocessing/0509/FIPS_cluster_cls={c}.txt', 'r') as f:\n",
    "        FIPS_cluster.append(eval(f.read()))\n",
    "FIPS_cluster[0][:5]"
   ]
  },
  {
   "cell_type": "code",
   "execution_count": 4,
   "metadata": {},
   "outputs": [
    {
     "output_type": "execute_result",
     "data": {
      "text/plain": "(1004, 63, 43)"
     },
     "metadata": {},
     "execution_count": 4
    }
   ],
   "source": [
    "dataList = [np.load(f'{homedir}/JK/preprocessing/0509/dataList_cls={c}.npy', allow_pickle=True) for c in range(5)]\n",
    "dataList[1].shape"
   ]
  },
  {
   "cell_type": "code",
   "execution_count": 5,
   "metadata": {},
   "outputs": [],
   "source": [
    "columns_demo = ['PopRatioMale2017',\n",
    " 'PopRatio65+2017',\n",
    " 'PopulationDensityperSqMile2010',\n",
    " 'MedicareEnrollment,AgedTot2017',\n",
    " '#Hospitals',\n",
    " '#ICU_beds',\n",
    " 'PopRatioMale<52010',\n",
    " 'PopRatio<52010',\n",
    " 'PopRatioMale5-92010',\n",
    " 'PopRatio5-92010',\n",
    " 'PopRatioMale10-142010',\n",
    " 'PopRatio10-142010',\n",
    " 'PopRatioMale15-192010',\n",
    " 'PopRatio15-192010',\n",
    " 'PopRatioMale20-242010',\n",
    " 'PopRatio20-242010',\n",
    " 'PopRatioMale25-292010',\n",
    " 'PopRatio25-292010',\n",
    " 'PopRatioMale30-342010',\n",
    " 'PopRatio30-342010',\n",
    " 'PopRatioMale35-442010',\n",
    " 'PopRatio35-442010',\n",
    " 'PopRatioMale45-542010',\n",
    " 'PopRatio45-542010',\n",
    " 'PopRatioMale55-592010',\n",
    " 'PopRatio55-592010',\n",
    " 'PopRatioMale60-642010',\n",
    " 'PopRatio60-642010',\n",
    " 'PopRatioMale65-742010',\n",
    " 'PopRatio65-742010',\n",
    " 'PopRatioMale75-842010',\n",
    " 'PopRatio75-842010',\n",
    " 'PopRatioMale>842010',\n",
    " 'PopRatio>842010',\n",
    " 'HeartDiseaseMortality',\n",
    " 'StrokeMortality',\n",
    " 'DiabetesPercentage',\n",
    " 'Smokers_Percentage']\n",
    "columns_mt = ['cases', 'deaths']\n",
    "columns_mb = ['m50', 'm50_index']\n",
    "columns_ss = ['seasonality']"
   ]
  },
  {
   "cell_type": "code",
   "execution_count": 6,
   "metadata": {},
   "outputs": [],
   "source": [
    "target_idx = (columns_demo+columns_mt+columns_mb+columns_ss).index('deaths')\n",
    "split_ratio = 0.1\n",
    "QUANTILE = list(quantileList)\n",
    "history_size = 7\n",
    "target_size = 14\n",
    "step_size = 1\n",
    "NUM_CELLS = 128\n",
    "lr = 0.001\n",
    "dropout = 0.2\n",
    "EPOCHS = 100\n",
    "EVALUATION_INTERVAL = 200"
   ]
  },
  {
   "cell_type": "code",
   "execution_count": 7,
   "metadata": {
    "tags": [
     "outputPrepend",
     "outputPrepend",
     "outputPrepend",
     "outputPrepend",
     "outputPrepend",
     "outputPrepend",
     "outputPrepend",
     "outputPrepend",
     "outputPrepend",
     "outputPrepend",
     "outputPrepend",
     "outputPrepend",
     "outputPrepend",
     "outputPrepend",
     "outputPrepend",
     "outputPrepend",
     "outputPrepend",
     "outputPrepend",
     "outputPrepend",
     "outputPrepend"
    ]
   },
   "outputs": [
    {
     "output_type": "stream",
     "name": "stdout",
     "text": "Class=0, quantile=10 is trained\nTrain for 200 steps, validate for 50 steps\nEpoch 1/3\n200/200 [==============================] - 4s 22ms/step - loss: 0.0234 - val_loss: 0.0657\nEpoch 2/3\n200/200 [==============================] - 2s 8ms/step - loss: 0.0154 - val_loss: 0.0527\nEpoch 3/3\n200/200 [==============================] - 2s 9ms/step - loss: 0.0139 - val_loss: 0.0446\nClass=0, quantile=20 is trained\nTrain for 200 steps, validate for 50 steps\nEpoch 1/3\n200/200 [==============================] - 4s 20ms/step - loss: 0.0394 - val_loss: 0.1147\nEpoch 2/3\n200/200 [==============================] - 2s 8ms/step - loss: 0.0300 - val_loss: 0.0959\nEpoch 3/3\n200/200 [==============================] - 2s 8ms/step - loss: 0.0265 - val_loss: 0.0837\nClass=0, quantile=30 is trained\nTrain for 200 steps, validate for 50 steps\nEpoch 1/3\n200/200 [==============================] - 4s 22ms/step - loss: 0.0549 - val_loss: 0.1908\nEpoch 2/3\n200/200 [==============================] - 2s 8ms/step - loss: 0.0392 - val_loss: 0.1323\nEpoch 3/3\n200/200 [==============================] - 2s 8ms/step - loss: 0.0385 - val_loss: 0.1510\nClass=0, quantile=40 is trained\nTrain for 200 steps, validate for 50 steps\nEpoch 1/3\n200/200 [==============================] - 4s 19ms/step - loss: 0.0681 - val_loss: 0.1983\nEpoch 2/3\n200/200 [==============================] - 2s 8ms/step - loss: 0.0494 - val_loss: 0.1447\nEpoch 3/3\n200/200 [==============================] - 2s 8ms/step - loss: 0.0444 - val_loss: 0.1311\nClass=0, quantile=50 is trained\nTrain for 200 steps, validate for 50 steps\nEpoch 1/3\n200/200 [==============================] - 4s 18ms/step - loss: 0.0849 - val_loss: 0.2558\nEpoch 2/3\n200/200 [==============================] - 1s 7ms/step - loss: 0.0621 - val_loss: 0.1684\nEpoch 3/3\n200/200 [==============================] - 1s 7ms/step - loss: 0.0553 - val_loss: 0.2024\nClass=0, quantile=60 is trained\nTrain for 200 steps, validate for 50 steps\nEpoch 1/3\n200/200 [==============================] - 4s 20ms/step - loss: 0.1000 - val_loss: 0.2600\nEpoch 2/3\n200/200 [==============================] - 1s 7ms/step - loss: 0.0744 - val_loss: 0.2070\nEpoch 3/3\n200/200 [==============================] - 1s 7ms/step - loss: 0.0639 - val_loss: 0.2029\nClass=0, quantile=70 is trained\nTrain for 200 steps, validate for 50 steps\nEpoch 1/3\n200/200 [==============================] - 4s 18ms/step - loss: 0.1092 - val_loss: 0.3853\nEpoch 2/3\n200/200 [==============================] - 1s 7ms/step - loss: 0.0701 - val_loss: 0.1984\nEpoch 3/3\n200/200 [==============================] - 1s 7ms/step - loss: 0.0581 - val_loss: 0.2143\nClass=0, quantile=80 is trained\nTrain for 200 steps, validate for 50 steps\nEpoch 1/3\n200/200 [==============================] - 4s 21ms/step - loss: 0.1136 - val_loss: 0.2492\nEpoch 2/3\n200/200 [==============================] - 1s 7ms/step - loss: 0.0752 - val_loss: 0.1867\nEpoch 3/3\n200/200 [==============================] - 1s 7ms/step - loss: 0.0520 - val_loss: 0.1980\nClass=0, quantile=90 is trained\nTrain for 200 steps, validate for 50 steps\nEpoch 1/3\n200/200 [==============================] - 4s 18ms/step - loss: 0.1060 - val_loss: 0.1385\nEpoch 2/3\n200/200 [==============================] - 1s 7ms/step - loss: 0.0509 - val_loss: 0.1667\nEpoch 3/3\n200/200 [==============================] - 1s 7ms/step - loss: 0.0414 - val_loss: 0.1531\nSaving future prediction.\nClass=1, quantile=10 is trained\nTrain for 200 steps, validate for 50 steps\nEpoch 1/3\n200/200 [==============================] - 4s 18ms/step - loss: 0.0548 - val_loss: 0.4907\nEpoch 2/3\n200/200 [==============================] - 2s 8ms/step - loss: 0.0571 - val_loss: 0.2961\nEpoch 3/3\n200/200 [==============================] - 2s 8ms/step - loss: 0.0447 - val_loss: 0.3102\nClass=1, quantile=20 is trained\nTrain for 200 steps, validate for 50 steps\nEpoch 1/3\n200/200 [==============================] - 4s 18ms/step - loss: 0.0974 - val_loss: 0.6909\nEpoch 2/3\n144/200 [====================>.........] - ETA: 0s - loss: 0.0916"
    }
   ],
   "source": [
    "import os\n",
    "\n",
    "PATH = f\"{homedir}/JK/prediction/0509\"\n",
    "try:\n",
    "    os.mkdir(PATH)\n",
    "except OSError as error:\n",
    "    print(error)\n",
    "\n",
    "for c in range(5):\n",
    "    X_train, y_train, X_val, y_val = train_val_split(dataList[c], target_idx, history_size, target_size, split_ratio=split_ratio, step_size=step_size)\n",
    "\n",
    "    scaler, *_ = get_StandardScaler(X_train)\n",
    "    X_train, y_train = normalizer(scaler, X_train, y_train, target_idx)\n",
    "    X_val, y_val = normalizer(scaler, X_val, y_val, target_idx)\n",
    "\n",
    "    train_data, val_data = load_Dataset(X_train, y_train, X_val, y_val)\n",
    "\n",
    "    history_size = train_data.element_spec[0].shape[1]\n",
    "    feature_size = train_data.element_spec[0].shape[2]\n",
    "    target_size = train_data.element_spec[1].shape[1]\n",
    "\n",
    "    model_qntl = list(range(len(QUANTILE)))\n",
    "\n",
    "    for i in range(len(QUANTILE)):\n",
    "        FILEPATH = f\"/LSTM_class={c}_qntl={10*(i+1)}\"\n",
    "        print(f'Class={c}, quantile={10*(i+1)} is trained')\n",
    "        optimizer = tf.keras.optimizers.Adam(learning_rate=lr)\n",
    "\n",
    "        model_qntl[i] = tf.keras.models.Sequential()\n",
    "        model_qntl[i].add(tf.keras.layers.LSTM(NUM_CELLS, return_sequences=True, input_shape=(history_size, feature_size)))\n",
    "        model_qntl[i].add(tf.keras.layers.LSTM(round(NUM_CELLS/2), activation='relu', dropout=dropout))\n",
    "        model_qntl[i].add(tf.keras.layers.Dense(target_size))\n",
    "\n",
    "        model_qntl[i].compile(optimizer=optimizer, loss=lambda y_p, y: quantileLoss(QUANTILE[i], y_p, y))\n",
    "        history = model_qntl[i].fit(train_data, epochs=EPOCHS, steps_per_epoch=EVALUATION_INTERVAL, validation_data=val_data, validation_steps=50)\n",
    "\n",
    "        LOSS = np.asarray(history.history['loss'])\n",
    "        VAL_LOSS = np.asarray(history.history['val_loss'])\n",
    "\n",
    "        plt.figure()\n",
    "\n",
    "        plt.plot(range(EPOCHS), LOSS, 'b', label='Training loss')\n",
    "        plt.plot(range(EPOCHS), VAL_LOSS, 'r', label='Validation loss')\n",
    "        plt.legend()\n",
    "        \n",
    "        plt.savefig(PATH+FILEPATH+'.png')\n",
    "\n",
    "        np.save(PATH+FILEPATH+'.npy', np.vstack((LOSS, VAL_LOSS)).astype(np.float32))\n",
    "\n",
    "    df_future = predict_future(model_qntl, dataList[c], scaler, target_idx, FIPS=FIPS_cluster[c], date_ed=pd.Timestamp('2020-05-02'))\n",
    "    df_future.to_csv(PATH+f'/LSTM_class={c}_0509.csv', index=False)"
   ]
  },
  {
   "cell_type": "code",
   "execution_count": 6,
   "metadata": {},
   "outputs": [
    {
     "output_type": "stream",
     "name": "stdout",
     "text": "2744\n16800\n41776\n43176\n43596\n"
    },
    {
     "output_type": "execute_result",
     "data": {
      "text/plain": "        date   fips        10            20        30            40        50  \\\n0 2020-05-03  06049 -0.000015 -4.793238e-05 -0.000004 -1.197355e-05  0.000002   \n1 2020-05-04  06049 -0.000004 -1.884066e-05  0.000005 -3.372226e-05 -0.000001   \n2 2020-05-05  06049 -0.000015 -4.255725e-05 -0.000029 -8.409843e-07 -0.000014   \n3 2020-05-06  06049  0.000005 -3.119791e-05 -0.000006 -4.197983e-05 -0.000015   \n4 2020-05-07  06049 -0.000031  4.712492e-07 -0.000027 -4.528556e-06 -0.000025   \n\n             60        70            80            90  \n0  3.127055e-05  0.000002  1.855148e-05  1.646625e-05  \n1 -3.580935e-07 -0.000006  6.146729e-07  8.833595e-07  \n2  3.035646e-06  0.000011  2.536178e-05  4.005106e-05  \n3  1.506833e-05 -0.000008  5.352264e-05  3.483007e-05  \n4  1.567975e-05  0.000005 -4.617032e-06  3.235601e-05  ",
      "text/html": "<div>\n<style scoped>\n    .dataframe tbody tr th:only-of-type {\n        vertical-align: middle;\n    }\n\n    .dataframe tbody tr th {\n        vertical-align: top;\n    }\n\n    .dataframe thead th {\n        text-align: right;\n    }\n</style>\n<table border=\"1\" class=\"dataframe\">\n  <thead>\n    <tr style=\"text-align: right;\">\n      <th></th>\n      <th>date</th>\n      <th>fips</th>\n      <th>10</th>\n      <th>20</th>\n      <th>30</th>\n      <th>40</th>\n      <th>50</th>\n      <th>60</th>\n      <th>70</th>\n      <th>80</th>\n      <th>90</th>\n    </tr>\n  </thead>\n  <tbody>\n    <tr>\n      <th>0</th>\n      <td>2020-05-03</td>\n      <td>06049</td>\n      <td>-0.000015</td>\n      <td>-4.793238e-05</td>\n      <td>-0.000004</td>\n      <td>-1.197355e-05</td>\n      <td>0.000002</td>\n      <td>3.127055e-05</td>\n      <td>0.000002</td>\n      <td>1.855148e-05</td>\n      <td>1.646625e-05</td>\n    </tr>\n    <tr>\n      <th>1</th>\n      <td>2020-05-04</td>\n      <td>06049</td>\n      <td>-0.000004</td>\n      <td>-1.884066e-05</td>\n      <td>0.000005</td>\n      <td>-3.372226e-05</td>\n      <td>-0.000001</td>\n      <td>-3.580935e-07</td>\n      <td>-0.000006</td>\n      <td>6.146729e-07</td>\n      <td>8.833595e-07</td>\n    </tr>\n    <tr>\n      <th>2</th>\n      <td>2020-05-05</td>\n      <td>06049</td>\n      <td>-0.000015</td>\n      <td>-4.255725e-05</td>\n      <td>-0.000029</td>\n      <td>-8.409843e-07</td>\n      <td>-0.000014</td>\n      <td>3.035646e-06</td>\n      <td>0.000011</td>\n      <td>2.536178e-05</td>\n      <td>4.005106e-05</td>\n    </tr>\n    <tr>\n      <th>3</th>\n      <td>2020-05-06</td>\n      <td>06049</td>\n      <td>0.000005</td>\n      <td>-3.119791e-05</td>\n      <td>-0.000006</td>\n      <td>-4.197983e-05</td>\n      <td>-0.000015</td>\n      <td>1.506833e-05</td>\n      <td>-0.000008</td>\n      <td>5.352264e-05</td>\n      <td>3.483007e-05</td>\n    </tr>\n    <tr>\n      <th>4</th>\n      <td>2020-05-07</td>\n      <td>06049</td>\n      <td>-0.000031</td>\n      <td>4.712492e-07</td>\n      <td>-0.000027</td>\n      <td>-4.528556e-06</td>\n      <td>-0.000025</td>\n      <td>1.567975e-05</td>\n      <td>0.000005</td>\n      <td>-4.617032e-06</td>\n      <td>3.235601e-05</td>\n    </tr>\n  </tbody>\n</table>\n</div>"
     },
     "metadata": {},
     "execution_count": 6
    }
   ],
   "source": [
    "for c in range(5):\n",
    "    if c==0:\n",
    "        forecasted = pd.read_csv(f'{homedir}/JK/prediction/0509/LSTM_class={c}_0509.csv', parse_dates=[0])\n",
    "        print(len(forecasted))\n",
    "    else:\n",
    "        forecasted = forecasted.append(pd.read_csv(f'{homedir}/JK/prediction/0509/LSTM_class={c}_0509.csv', parse_dates=[0]))\n",
    "        print(len(forecasted))\n",
    "forecasted['fips'] = forecasted['fips'].apply(correct_FIPS)\n",
    "forecasted.head()"
   ]
  },
  {
   "cell_type": "code",
   "execution_count": 7,
   "metadata": {},
   "outputs": [
    {
     "output_type": "execute_result",
     "data": {
      "text/plain": "                       10        20        30        40        50        60  \\\nid                                                                            \n2020-05-03-1001  2.087624  2.033535  1.936095  1.785388  1.848744  2.660135   \n2020-05-03-1003  3.259027  2.849348  3.743574  2.131448  3.236057  4.783477   \n2020-05-03-1005 -0.001873  0.058421 -0.001209  0.085599 -0.001467  0.009388   \n2020-05-03-1007  0.000053 -0.000286 -0.000574 -0.003864  0.021152 -0.000084   \n2020-05-03-1009 -0.000001 -0.000303 -0.000323  0.003381 -0.001314  0.003189   \n\n                       70        80        90  \nid                                             \n2020-05-03-1001  2.985103  2.370857  2.598040  \n2020-05-03-1003  2.758943  1.873414  2.659592  \n2020-05-03-1005  0.076060  0.272740  0.009830  \n2020-05-03-1007  0.437375  0.483777  0.950784  \n2020-05-03-1009  0.688213  0.000175  0.012162  ",
      "text/html": "<div>\n<style scoped>\n    .dataframe tbody tr th:only-of-type {\n        vertical-align: middle;\n    }\n\n    .dataframe tbody tr th {\n        vertical-align: top;\n    }\n\n    .dataframe thead th {\n        text-align: right;\n    }\n</style>\n<table border=\"1\" class=\"dataframe\">\n  <thead>\n    <tr style=\"text-align: right;\">\n      <th></th>\n      <th>10</th>\n      <th>20</th>\n      <th>30</th>\n      <th>40</th>\n      <th>50</th>\n      <th>60</th>\n      <th>70</th>\n      <th>80</th>\n      <th>90</th>\n    </tr>\n    <tr>\n      <th>id</th>\n      <th></th>\n      <th></th>\n      <th></th>\n      <th></th>\n      <th></th>\n      <th></th>\n      <th></th>\n      <th></th>\n      <th></th>\n    </tr>\n  </thead>\n  <tbody>\n    <tr>\n      <th>2020-05-03-1001</th>\n      <td>2.087624</td>\n      <td>2.033535</td>\n      <td>1.936095</td>\n      <td>1.785388</td>\n      <td>1.848744</td>\n      <td>2.660135</td>\n      <td>2.985103</td>\n      <td>2.370857</td>\n      <td>2.598040</td>\n    </tr>\n    <tr>\n      <th>2020-05-03-1003</th>\n      <td>3.259027</td>\n      <td>2.849348</td>\n      <td>3.743574</td>\n      <td>2.131448</td>\n      <td>3.236057</td>\n      <td>4.783477</td>\n      <td>2.758943</td>\n      <td>1.873414</td>\n      <td>2.659592</td>\n    </tr>\n    <tr>\n      <th>2020-05-03-1005</th>\n      <td>-0.001873</td>\n      <td>0.058421</td>\n      <td>-0.001209</td>\n      <td>0.085599</td>\n      <td>-0.001467</td>\n      <td>0.009388</td>\n      <td>0.076060</td>\n      <td>0.272740</td>\n      <td>0.009830</td>\n    </tr>\n    <tr>\n      <th>2020-05-03-1007</th>\n      <td>0.000053</td>\n      <td>-0.000286</td>\n      <td>-0.000574</td>\n      <td>-0.003864</td>\n      <td>0.021152</td>\n      <td>-0.000084</td>\n      <td>0.437375</td>\n      <td>0.483777</td>\n      <td>0.950784</td>\n    </tr>\n    <tr>\n      <th>2020-05-03-1009</th>\n      <td>-0.000001</td>\n      <td>-0.000303</td>\n      <td>-0.000323</td>\n      <td>0.003381</td>\n      <td>-0.001314</td>\n      <td>0.003189</td>\n      <td>0.688213</td>\n      <td>0.000175</td>\n      <td>0.012162</td>\n    </tr>\n  </tbody>\n</table>\n</div>"
     },
     "metadata": {},
     "execution_count": 7
    }
   ],
   "source": [
    "forecasted = fix_FIPS(forecasted, fipslabel='fips', datelabel='date')\n",
    "submission_df = to_multi_idx(forecasted, fipslabel='fips', datelabel='date')\n",
    "submission_df.head()"
   ]
  },
  {
   "cell_type": "code",
   "execution_count": 9,
   "metadata": {},
   "outputs": [
    {
     "output_type": "execute_result",
     "data": {
      "text/plain": "                   10   20   30   40   50   60   70   80   90\nid                                                           \n2020-04-01-10001  0.0  0.0  0.0  0.0  0.0  0.0  0.0  0.0  0.0\n2020-04-01-10003  0.0  0.0  0.0  0.0  0.0  0.0  0.0  0.0  0.0\n2020-04-01-10005  0.0  0.0  0.0  0.0  0.0  0.0  0.0  0.0  0.0\n2020-04-01-1001   0.0  0.0  0.0  0.0  0.0  0.0  0.0  0.0  0.0\n2020-04-01-1003   0.0  0.0  0.0  0.0  0.0  0.0  0.0  0.0  0.0",
      "text/html": "<div>\n<style scoped>\n    .dataframe tbody tr th:only-of-type {\n        vertical-align: middle;\n    }\n\n    .dataframe tbody tr th {\n        vertical-align: top;\n    }\n\n    .dataframe thead th {\n        text-align: right;\n    }\n</style>\n<table border=\"1\" class=\"dataframe\">\n  <thead>\n    <tr style=\"text-align: right;\">\n      <th></th>\n      <th>10</th>\n      <th>20</th>\n      <th>30</th>\n      <th>40</th>\n      <th>50</th>\n      <th>60</th>\n      <th>70</th>\n      <th>80</th>\n      <th>90</th>\n    </tr>\n    <tr>\n      <th>id</th>\n      <th></th>\n      <th></th>\n      <th></th>\n      <th></th>\n      <th></th>\n      <th></th>\n      <th></th>\n      <th></th>\n      <th></th>\n    </tr>\n  </thead>\n  <tbody>\n    <tr>\n      <th>2020-04-01-10001</th>\n      <td>0.0</td>\n      <td>0.0</td>\n      <td>0.0</td>\n      <td>0.0</td>\n      <td>0.0</td>\n      <td>0.0</td>\n      <td>0.0</td>\n      <td>0.0</td>\n      <td>0.0</td>\n    </tr>\n    <tr>\n      <th>2020-04-01-10003</th>\n      <td>0.0</td>\n      <td>0.0</td>\n      <td>0.0</td>\n      <td>0.0</td>\n      <td>0.0</td>\n      <td>0.0</td>\n      <td>0.0</td>\n      <td>0.0</td>\n      <td>0.0</td>\n    </tr>\n    <tr>\n      <th>2020-04-01-10005</th>\n      <td>0.0</td>\n      <td>0.0</td>\n      <td>0.0</td>\n      <td>0.0</td>\n      <td>0.0</td>\n      <td>0.0</td>\n      <td>0.0</td>\n      <td>0.0</td>\n      <td>0.0</td>\n    </tr>\n    <tr>\n      <th>2020-04-01-1001</th>\n      <td>0.0</td>\n      <td>0.0</td>\n      <td>0.0</td>\n      <td>0.0</td>\n      <td>0.0</td>\n      <td>0.0</td>\n      <td>0.0</td>\n      <td>0.0</td>\n      <td>0.0</td>\n    </tr>\n    <tr>\n      <th>2020-04-01-1003</th>\n      <td>0.0</td>\n      <td>0.0</td>\n      <td>0.0</td>\n      <td>0.0</td>\n      <td>0.0</td>\n      <td>0.0</td>\n      <td>0.0</td>\n      <td>0.0</td>\n      <td>0.0</td>\n    </tr>\n  </tbody>\n</table>\n</div>"
     },
     "metadata": {},
     "execution_count": 9
    }
   ],
   "source": [
    "base_pred = pd.read_csv(f'{homedir}/JK/prediction/0509/base_prediction.csv')\n",
    "base_pred.set_index('id', inplace=True)\n",
    "base_pred.head()"
   ]
  },
  {
   "cell_type": "code",
   "execution_count": 10,
   "metadata": {},
   "outputs": [],
   "source": [
    "base_pred.update(submission_df)"
   ]
  },
  {
   "cell_type": "code",
   "execution_count": 13,
   "metadata": {},
   "outputs": [],
   "source": [
    "_ = base_pred.reset_index()"
   ]
  },
  {
   "cell_type": "code",
   "execution_count": 16,
   "metadata": {},
   "outputs": [],
   "source": [
    "_.to_csv(f'{homedir}/submissions/0509_LSTM_for_comparison.csv', index=False)"
   ]
  }
 ],
 "metadata": {
  "language_info": {
   "codemirror_mode": {
    "name": "ipython",
    "version": 3
   },
   "file_extension": ".py",
   "mimetype": "text/x-python",
   "name": "python",
   "nbconvert_exporter": "python",
   "pygments_lexer": "ipython3",
   "version": "3.7.6-final"
  },
  "orig_nbformat": 2,
  "kernelspec": {
   "name": "python37664bitbaseconda4eadddc3141645a4b2e2e3236285dbac",
   "display_name": "Python 3.7.6 64-bit ('base': conda)"
  }
 },
 "nbformat": 4,
 "nbformat_minor": 2
}