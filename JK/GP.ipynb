{
 "cells": [
  {
   "cell_type": "code",
   "execution_count": 40,
   "metadata": {},
   "outputs": [],
   "source": [
    "from time import time, process_time\n",
    "import numpy as np\n",
    "import pandas as pd\n",
    "from sklearn.gaussian_process import GaussianProcessRegressor\n",
    "from sklearn.gaussian_process.kernels import RBF, WhiteKernel\n",
    "import matplotlib.pyplot as plt\n",
    "import plotly.express as px\n",
    "from utility import *\n",
    "\n",
    "homedir = get_homedir()"
   ]
  },
  {
   "cell_type": "code",
   "execution_count": 2,
   "metadata": {},
   "outputs": [],
   "source": [
    "FIPS_mapping, FIPS_full = get_FIPS(reduced=True)"
   ]
  },
  {
   "cell_type": "code",
   "execution_count": 3,
   "metadata": {},
   "outputs": [
    {
     "output_type": "execute_result",
     "data": {
      "text/plain": "        date   fips  cases  deaths\n0 2020-01-21  53061      1       0\n1 2020-01-22  53061      1       0\n2 2020-01-23  53061      1       0\n3 2020-01-24  17031      1       0\n4 2020-01-24  53061      1       0",
      "text/html": "<div>\n<style scoped>\n    .dataframe tbody tr th:only-of-type {\n        vertical-align: middle;\n    }\n\n    .dataframe tbody tr th {\n        vertical-align: top;\n    }\n\n    .dataframe thead th {\n        text-align: right;\n    }\n</style>\n<table border=\"1\" class=\"dataframe\">\n  <thead>\n    <tr style=\"text-align: right;\">\n      <th></th>\n      <th>date</th>\n      <th>fips</th>\n      <th>cases</th>\n      <th>deaths</th>\n    </tr>\n  </thead>\n  <tbody>\n    <tr>\n      <th>0</th>\n      <td>2020-01-21</td>\n      <td>53061</td>\n      <td>1</td>\n      <td>0</td>\n    </tr>\n    <tr>\n      <th>1</th>\n      <td>2020-01-22</td>\n      <td>53061</td>\n      <td>1</td>\n      <td>0</td>\n    </tr>\n    <tr>\n      <th>2</th>\n      <td>2020-01-23</td>\n      <td>53061</td>\n      <td>1</td>\n      <td>0</td>\n    </tr>\n    <tr>\n      <th>3</th>\n      <td>2020-01-24</td>\n      <td>17031</td>\n      <td>1</td>\n      <td>0</td>\n    </tr>\n    <tr>\n      <th>4</th>\n      <td>2020-01-24</td>\n      <td>53061</td>\n      <td>1</td>\n      <td>0</td>\n    </tr>\n  </tbody>\n</table>\n</div>"
     },
     "metadata": {},
     "execution_count": 3
    }
   ],
   "source": [
    "deaths = pd.read_csv(f\"{homedir}/data/us/covid/nyt_us_counties.csv\", parse_dates=['date'])\n",
    "deaths.dropna(inplace=True)\n",
    "deaths['fips'] = deaths['fips'].apply(correct_FIPS)\n",
    "# deaths.drop(columns=['county', 'state', 'cases'], inplace=True)\n",
    "deaths = fix_FIPS(deaths, fipslabel='fips', datelabel='date', reduced=True)\n",
    "deaths.head()"
   ]
  },
  {
   "cell_type": "code",
   "execution_count": 85,
   "metadata": {},
   "outputs": [
    {
     "output_type": "execute_result",
     "data": {
      "text/plain": "    fips  population  density  logdensity\n0  01001     55601.0     91.8    4.519612\n1  01003    218022.0    114.7    4.742320\n2  01005     24881.0     31.0    3.433987\n3  01007     22400.0     36.8    3.605498\n4  01009     57840.0     88.9    4.487512",
      "text/html": "<div>\n<style scoped>\n    .dataframe tbody tr th:only-of-type {\n        vertical-align: middle;\n    }\n\n    .dataframe tbody tr th {\n        vertical-align: top;\n    }\n\n    .dataframe thead th {\n        text-align: right;\n    }\n</style>\n<table border=\"1\" class=\"dataframe\">\n  <thead>\n    <tr style=\"text-align: right;\">\n      <th></th>\n      <th>fips</th>\n      <th>population</th>\n      <th>density</th>\n      <th>logdensity</th>\n    </tr>\n  </thead>\n  <tbody>\n    <tr>\n      <th>0</th>\n      <td>01001</td>\n      <td>55601.0</td>\n      <td>91.8</td>\n      <td>4.519612</td>\n    </tr>\n    <tr>\n      <th>1</th>\n      <td>01003</td>\n      <td>218022.0</td>\n      <td>114.7</td>\n      <td>4.742320</td>\n    </tr>\n    <tr>\n      <th>2</th>\n      <td>01005</td>\n      <td>24881.0</td>\n      <td>31.0</td>\n      <td>3.433987</td>\n    </tr>\n    <tr>\n      <th>3</th>\n      <td>01007</td>\n      <td>22400.0</td>\n      <td>36.8</td>\n      <td>3.605498</td>\n    </tr>\n    <tr>\n      <th>4</th>\n      <td>01009</td>\n      <td>57840.0</td>\n      <td>88.9</td>\n      <td>4.487512</td>\n    </tr>\n  </tbody>\n</table>\n</div>"
     },
     "metadata": {},
     "execution_count": 85
    }
   ],
   "source": [
    "berkeley = pd.read_csv(f\"{homedir}/data/us/aggregate_berkeley.csv\", usecols=['countyFIPS', 'PopulationEstimate2018', 'PopulationDensityperSqMile2010'])\n",
    "berkeley[\"countyFIPS\"] = berkeley[\"countyFIPS\"].apply(correct_FIPS)\n",
    "berkeley = fix_FIPS(berkeley, fipslabel='countyFIPS', reduced=True)\n",
    "berkeley.rename(columns={'countyFIPS':'fips', 'PopulationEstimate2018':'population', 'PopulationDensityperSqMile2010':'density'}, inplace=True)\n",
    "berkeley['logdensity'] = berkeley['density'].apply(np.log)\n",
    "# berkeley.set_index(\"countyFIPS\", inplace=True)\n",
    "berkeley.head()"
   ]
  },
  {
   "cell_type": "code",
   "execution_count": 27,
   "metadata": {},
   "outputs": [
    {
     "output_type": "execute_result",
     "data": {
      "text/plain": "{'02050',\n '02090',\n '02110',\n '02122',\n '02130',\n '02150',\n '02170',\n '02180',\n '02195',\n '02201',\n '02220',\n '02240',\n '02290',\n '46113'}"
     },
     "metadata": {},
     "execution_count": 27
    }
   ],
   "source": [
    "FIPS_demo = set(berkeley['fips']); FIPS_mt = set(deaths['fips'])\n",
    "FIPS_mt.difference(FIPS_demo)"
   ]
  },
  {
   "cell_type": "code",
   "execution_count": 86,
   "metadata": {
    "tags": [
     "outputPrepend",
     "outputPrepend",
     "outputPrepend",
     "outputPrepend",
     "outputPrepend",
     "outputPrepend"
    ]
   },
   "outputs": [
    {
     "output_type": "execute_result",
     "data": {
      "text/plain": "        date   fips  cases  deaths  ratio_deaths   ratio_cases  deaths_divlog  \\\n0 2020-01-21  53061      1       0           0.0  2.103352e-07            0.0   \n1 2020-01-22  53061      1       0           0.0  2.103352e-07            0.0   \n2 2020-01-23  53061      1       0           0.0  2.103352e-07            0.0   \n3 2020-01-24  17031      1       0           0.0  2.241529e-08            0.0   \n4 2020-01-24  53061      1       0           0.0  2.103352e-07            0.0   \n\n   cases_divlog  \n0      0.171402  \n1      0.171402  \n2      0.171402  \n3      0.116122  \n4      0.171402  ",
      "text/html": "<div>\n<style scoped>\n    .dataframe tbody tr th:only-of-type {\n        vertical-align: middle;\n    }\n\n    .dataframe tbody tr th {\n        vertical-align: top;\n    }\n\n    .dataframe thead th {\n        text-align: right;\n    }\n</style>\n<table border=\"1\" class=\"dataframe\">\n  <thead>\n    <tr style=\"text-align: right;\">\n      <th></th>\n      <th>date</th>\n      <th>fips</th>\n      <th>cases</th>\n      <th>deaths</th>\n      <th>ratio_deaths</th>\n      <th>ratio_cases</th>\n      <th>deaths_divlog</th>\n      <th>cases_divlog</th>\n    </tr>\n  </thead>\n  <tbody>\n    <tr>\n      <th>0</th>\n      <td>2020-01-21</td>\n      <td>53061</td>\n      <td>1</td>\n      <td>0</td>\n      <td>0.0</td>\n      <td>2.103352e-07</td>\n      <td>0.0</td>\n      <td>0.171402</td>\n    </tr>\n    <tr>\n      <th>1</th>\n      <td>2020-01-22</td>\n      <td>53061</td>\n      <td>1</td>\n      <td>0</td>\n      <td>0.0</td>\n      <td>2.103352e-07</td>\n      <td>0.0</td>\n      <td>0.171402</td>\n    </tr>\n    <tr>\n      <th>2</th>\n      <td>2020-01-23</td>\n      <td>53061</td>\n      <td>1</td>\n      <td>0</td>\n      <td>0.0</td>\n      <td>2.103352e-07</td>\n      <td>0.0</td>\n      <td>0.171402</td>\n    </tr>\n    <tr>\n      <th>3</th>\n      <td>2020-01-24</td>\n      <td>17031</td>\n      <td>1</td>\n      <td>0</td>\n      <td>0.0</td>\n      <td>2.241529e-08</td>\n      <td>0.0</td>\n      <td>0.116122</td>\n    </tr>\n    <tr>\n      <th>4</th>\n      <td>2020-01-24</td>\n      <td>53061</td>\n      <td>1</td>\n      <td>0</td>\n      <td>0.0</td>\n      <td>2.103352e-07</td>\n      <td>0.0</td>\n      <td>0.171402</td>\n    </tr>\n  </tbody>\n</table>\n</div>"
     },
     "metadata": {},
     "execution_count": 86
    }
   ],
   "source": [
    "deaths['ratio_deaths'] = [berkeley[berkeley['fips']==fips]['population'].item() if (fips in FIPS_demo) else np.NaN for fips in deaths['fips']]\n",
    "deaths['deaths_divlog'] = [berkeley[berkeley['fips']==fips]['logdensity'].item() if (fips in FIPS_demo) else np.NaN for fips in deaths['fips']]\n",
    "deaths['cases_divlog'] = deaths['cases'] / deaths['deaths_divlog']\n",
    "deaths['deaths_divlog'] = deaths['deaths'] / deaths['deaths_divlog']\n",
    "deaths['ratio_cases'] = deaths['cases_divlog'] / deaths['ratio_deaths']\n",
    "deaths['ratio_deaths'] = deaths['deaths_divlog'] / deaths['ratio_deaths']\n",
    "# deaths['ratio_cases'] = deaths['ratio_cases'] / deaths['ratio_cases'].std()\n",
    "# deaths['ratio_deaths'] = deaths['ratio_deaths'] / deaths['ratio_deaths'].std()\n",
    "deaths.head()"
   ]
  },
  {
   "cell_type": "code",
   "execution_count": 4,
   "metadata": {},
   "outputs": [
    {
     "output_type": "execute_result",
     "data": {
      "text/plain": "Timestamp('2020-03-11 00:00:00')"
     },
     "metadata": {},
     "execution_count": 4
    }
   ],
   "source": [
    "fips = '06037'\n",
    "df_cur = deaths[deaths['fips']==fips]\n",
    "date_st = df_cur[df_cur['deaths']!=0]['date'].min()\n",
    "date_st"
   ]
  },
  {
   "cell_type": "code",
   "execution_count": 91,
   "metadata": {},
   "outputs": [
    {
     "output_type": "display_data",
     "data": {
      "application/vnd.plotly.v1+json": {
       "config": {
        "plotlyServerURL": "https://plot.ly"
       },
       "data": [
        {
         "hovertemplate": "fips=17195<br>date_from_st=%{x}<br>ratio_deaths=%{y}<extra></extra>",
         "legendgroup": "17195",
         "line": {
          "color": "#636efa",
          "dash": "solid"
         },
         "mode": "lines",
         "name": "17195",
         "showlegend": true,
         "type": "scatter",
         "x": [
          0,
          1,
          2,
          3,
          4,
          5,
          6,
          7,
          8,
          9,
          10,
          11,
          12,
          13,
          14,
          15,
          16,
          17,
          18,
          19,
          20,
          21,
          22,
          23,
          24,
          25,
          26,
          27,
          28,
          29,
          30,
          31,
          32,
          33,
          34,
          35,
          36,
          37,
          38,
          39,
          40,
          41,
          42,
          43,
          44,
          45,
          46,
          47,
          48,
          49
         ],
         "xaxis": "x",
         "y": [
          0,
          0,
          0,
          0,
          0,
          0,
          0,
          0,
          0,
          0,
          0,
          0,
          0,
          0,
          0,
          0,
          0.000004041168647012529,
          0.000004041168647012529,
          0.000004041168647012529,
          0.000004041168647012529,
          0.000004041168647012529,
          0.000004041168647012529,
          0.000004041168647012529,
          0.000004041168647012529,
          0.000004041168647012529,
          0.000004041168647012529,
          0.000004041168647012529,
          0.000004041168647012529,
          0.000004041168647012529,
          0.000004041168647012529,
          0.000012123505941037586,
          0.000012123505941037586,
          0.000012123505941037586,
          0.000012123505941037586,
          0.000012123505941037586,
          0.000012123505941037586,
          0.000012123505941037586,
          0.000012123505941037586,
          0.000012123505941037586,
          0.000012123505941037586,
          0.000016164674588050117,
          0.000020205843235062644,
          0.000020205843235062644,
          0.000020205843235062644,
          0.000020205843235062644,
          0.000020205843235062644,
          0.00002424701188207517,
          0.00002424701188207517,
          0.00002424701188207517,
          0.00002424701188207517
         ],
         "yaxis": "y"
        },
        {
         "hovertemplate": "fips=24510<br>date_from_st=%{x}<br>ratio_deaths=%{y}<extra></extra>",
         "legendgroup": "24510",
         "line": {
          "color": "#EF553B",
          "dash": "solid"
         },
         "mode": "lines",
         "name": "24510",
         "showlegend": true,
         "type": "scatter",
         "x": [
          0,
          1,
          2,
          3,
          4,
          5,
          6,
          7,
          8,
          9,
          10,
          11,
          12,
          13,
          14,
          15,
          16,
          17,
          18,
          19,
          20,
          21,
          22,
          23,
          24,
          25,
          26,
          27,
          28,
          29,
          30,
          31,
          32,
          33,
          34,
          35,
          36,
          37,
          38,
          39,
          40,
          41,
          42,
          43,
          44,
          45,
          46,
          47,
          48,
          49
         ],
         "xaxis": "x",
         "y": [
          0,
          0,
          0,
          0,
          0,
          0,
          0,
          0,
          0,
          0,
          0,
          0,
          0,
          3.710933903354952e-7,
          3.710933903354952e-7,
          3.710933903354952e-7,
          3.710933903354952e-7,
          3.710933903354952e-7,
          3.710933903354952e-7,
          7.421867806709904e-7,
          0.0000011132801710064855,
          0.0000012988268661742332,
          0.0000014843735613419807,
          0.0000016699202565097284,
          0.000001855466951677476,
          0.000002412107037180719,
          0.000003154293817851709,
          0.000004082027293690447,
          0.000004453120684025942,
          0.000004824214074361438,
          0.000005380854159864681,
          0.000004824214074361438,
          0.000005751947550200176,
          0.000007050774416374409,
          0.000007421867806709904,
          0.00000853514797771639,
          0.000009091788063219631,
          0.000010019521539058371,
          0.000010761708319729361,
          0.000011132801710064856,
          0.000012060535185903593,
          0.000013359362052077827,
          0.000013544908747245573,
          0.000015214829003755303,
          0.00001540037569892305,
          0.000017441389345768273,
          0.00001929685629744575,
          0.000019667949687781245,
          0.00002170896333462647,
          0.00002226560342012971
         ],
         "yaxis": "y"
        },
        {
         "hovertemplate": "fips=42077<br>date_from_st=%{x}<br>ratio_deaths=%{y}<extra></extra>",
         "legendgroup": "42077",
         "line": {
          "color": "#00cc96",
          "dash": "solid"
         },
         "mode": "lines",
         "name": "42077",
         "showlegend": true,
         "type": "scatter",
         "x": [
          0,
          1,
          2,
          3,
          4,
          5,
          6,
          7,
          8,
          9,
          10,
          11,
          12,
          13,
          14,
          15,
          16,
          17,
          18,
          19,
          20,
          21,
          22,
          23,
          24,
          25,
          26,
          27,
          28,
          29,
          30,
          31,
          32,
          33,
          34,
          35,
          36,
          37,
          38,
          39,
          40,
          41,
          42,
          43,
          44,
          45,
          46,
          47,
          48,
          49
         ],
         "xaxis": "x",
         "y": [
          0,
          0,
          0,
          0,
          0,
          0,
          0,
          0,
          0,
          0,
          0,
          3.925642364188223e-7,
          7.851284728376446e-7,
          0.000001177692709256467,
          0.000001177692709256467,
          0.000001177692709256467,
          0.0000015702569456752892,
          0.0000019628211820941113,
          0.0000019628211820941113,
          0.0000019628211820941113,
          0.000002747949654931756,
          0.0000031405138913505784,
          0.0000031405138913505784,
          0.000003925642364188223,
          0.0000043182066006070455,
          0.00000510333507344469,
          0.000006281027782701157,
          0.000006281027782701157,
          0.000007066156255538802,
          0.000007458720491957624,
          0.000009028977437632915,
          0.000009814105910470558,
          0.000010991798619727024,
          0.000011384362856145846,
          0.000011384362856145846,
          0.000012562055565402314,
          0.000012954619801821136,
          0.000019235647584522293,
          0.000019235647584522293,
          0.000019235647584522293,
          0.000019235647584522293,
          0.000019628211820941117,
          0.000020020776057359937,
          0.00002198359723945405,
          0.000025124111130804627,
          0.00002826462502215521,
          0.000029049753494992853,
          0.00003140513891350578,
          0.00003258283162276225,
          0.00003258283162276225
         ],
         "yaxis": "y"
        },
        {
         "hovertemplate": "fips=45079<br>date_from_st=%{x}<br>ratio_deaths=%{y}<extra></extra>",
         "legendgroup": "45079",
         "line": {
          "color": "#ab63fa",
          "dash": "solid"
         },
         "mode": "lines",
         "name": "45079",
         "showlegend": true,
         "type": "scatter",
         "x": [
          0,
          1,
          2,
          3,
          4,
          5,
          6,
          7,
          8,
          9,
          10,
          11,
          12,
          13,
          14,
          15,
          16,
          17,
          18,
          19,
          20,
          21,
          22,
          23,
          24,
          25,
          26,
          27,
          28,
          29,
          30,
          31,
          32,
          33,
          34,
          35,
          36,
          37,
          38,
          39,
          40,
          41,
          42,
          43,
          44,
          45,
          46,
          47
         ],
         "xaxis": "x",
         "y": [
          0,
          0,
          0,
          0,
          0,
          0,
          0,
          0,
          0,
          0,
          3.8715775142015283e-7,
          7.743155028403057e-7,
          7.743155028403057e-7,
          7.743155028403057e-7,
          7.743155028403057e-7,
          0.0000011614732542604586,
          0.0000011614732542604586,
          0.0000019357887571007642,
          0.000002322946508520917,
          0.000002322946508520917,
          0.0000027101042599410697,
          0.0000027101042599410697,
          0.0000038715775142015285,
          0.0000038715775142015285,
          0.0000038715775142015285,
          0.0000038715775142015285,
          0.0000038715775142015285,
          0.0000038715775142015285,
          0.0000042587352656216814,
          0.000004645893017041834,
          0.000005033050768461987,
          0.000005420208519882139,
          0.000005420208519882139,
          0.000005420208519882139,
          0.000005420208519882139,
          0.000005420208519882139,
          0.000005807366271302292,
          0.000006581681774142599,
          0.000006581681774142599,
          0.000006968839525562751,
          0.000007355997276982904,
          0.000007355997276982904,
          0.000008130312779823209,
          0.000011614732542604585,
          0.000012776205796865043,
          0.000013163363548285198,
          0.000014711994553965808,
          0.000015486310056806114
         ],
         "yaxis": "y"
        },
        {
         "hovertemplate": "fips=12063<br>date_from_st=%{x}<br>ratio_deaths=%{y}<extra></extra>",
         "legendgroup": "12063",
         "line": {
          "color": "#FFA15A",
          "dash": "solid"
         },
         "mode": "lines",
         "name": "12063",
         "showlegend": true,
         "type": "scatter",
         "x": [
          0,
          1,
          2,
          3,
          4,
          5,
          6,
          7,
          8,
          9,
          10,
          11,
          12,
          13,
          14,
          15,
          16,
          17,
          18,
          19,
          20,
          21,
          22,
          23,
          24,
          25,
          26,
          27,
          28,
          29,
          30,
          31,
          32,
          33,
          34,
          35,
          36,
          37,
          38,
          39,
          40,
          41,
          42,
          43,
          44,
          45
         ],
         "xaxis": "x",
         "y": [
          0,
          0,
          0,
          0,
          0,
          0,
          0,
          0,
          0,
          0,
          0,
          0,
          0,
          0,
          0,
          0,
          0,
          0,
          0,
          0,
          0,
          0,
          0,
          0,
          0,
          0,
          0,
          0,
          0,
          0,
          0,
          0,
          0,
          0,
          0,
          0,
          0,
          0,
          0,
          0,
          0,
          0,
          0,
          0,
          0,
          0
         ],
         "yaxis": "y"
        },
        {
         "hovertemplate": "fips=47167<br>date_from_st=%{x}<br>ratio_deaths=%{y}<extra></extra>",
         "legendgroup": "47167",
         "line": {
          "color": "#19d3f3",
          "dash": "solid"
         },
         "mode": "lines",
         "name": "47167",
         "showlegend": true,
         "type": "scatter",
         "x": [
          0,
          1,
          2,
          3,
          4,
          5,
          6,
          7,
          8,
          9,
          10,
          11,
          12,
          13,
          14,
          15,
          16,
          17,
          18,
          19,
          20,
          21,
          22,
          23,
          24,
          25,
          26,
          27,
          28,
          29,
          30,
          31,
          32,
          33,
          34,
          35,
          36,
          37,
          38,
          39,
          40,
          41,
          42,
          43,
          44
         ],
         "xaxis": "x",
         "y": [
          0,
          0,
          0,
          0,
          0,
          0,
          0,
          0,
          0,
          0,
          0,
          0,
          0,
          0,
          0,
          0,
          0,
          0,
          0,
          0,
          0,
          0,
          0,
          0,
          0,
          0,
          0,
          0,
          0,
          0,
          0,
          0,
          0,
          0,
          0,
          0,
          0,
          0,
          0,
          0,
          0,
          0,
          0,
          0,
          0
         ],
         "yaxis": "y"
        },
        {
         "hovertemplate": "fips=41033<br>date_from_st=%{x}<br>ratio_deaths=%{y}<extra></extra>",
         "legendgroup": "41033",
         "line": {
          "color": "#FF6692",
          "dash": "solid"
         },
         "mode": "lines",
         "name": "41033",
         "showlegend": true,
         "type": "scatter",
         "x": [
          0,
          1,
          2,
          3,
          4,
          5,
          6,
          7,
          8,
          9,
          10,
          11,
          12,
          13,
          14,
          15,
          16,
          17,
          18,
          19,
          20,
          21,
          22,
          23,
          24,
          25,
          26,
          27,
          28,
          29,
          30,
          31,
          32,
          33,
          34,
          35,
          36,
          37,
          38,
          39,
          40,
          41,
          42,
          43
         ],
         "xaxis": "x",
         "y": [
          0,
          0,
          0,
          0,
          0,
          0,
          0,
          0,
          0,
          0,
          0,
          0,
          0,
          0,
          0,
          0,
          0,
          0,
          0,
          0,
          0,
          0.000002919028012742034,
          0.000002919028012742034,
          0.000002919028012742034,
          0.000002919028012742034,
          0.000002919028012742034,
          0.000002919028012742034,
          0.000002919028012742034,
          0.000002919028012742034,
          0.000002919028012742034,
          0.000002919028012742034,
          0.000002919028012742034,
          0.000002919028012742034,
          0.000002919028012742034,
          0.000002919028012742034,
          0.000002919028012742034,
          0.000002919028012742034,
          0.000002919028012742034,
          0.000002919028012742034,
          0.000002919028012742034,
          0.000002919028012742034,
          0.000002919028012742034,
          0.000002919028012742034,
          0.000002919028012742034
         ],
         "yaxis": "y"
        },
        {
         "hovertemplate": "fips=19109<br>date_from_st=%{x}<br>ratio_deaths=%{y}<extra></extra>",
         "legendgroup": "19109",
         "line": {
          "color": "#B6E880",
          "dash": "solid"
         },
         "mode": "lines",
         "name": "19109",
         "showlegend": true,
         "type": "scatter",
         "x": [
          0,
          1,
          2,
          3,
          4,
          5,
          6,
          7,
          8,
          9,
          10,
          11,
          12,
          13,
          14,
          15,
          16,
          17,
          18,
          19,
          20,
          21,
          22,
          23,
          24,
          25,
          26,
          27,
          28,
          29,
          30,
          31,
          32,
          33,
          34,
          35,
          36,
          37,
          38,
          39,
          40,
          41,
          42
         ],
         "xaxis": "x",
         "y": [
          0,
          0,
          0,
          0,
          0,
          0,
          0,
          0,
          0,
          0,
          0,
          0,
          0,
          0,
          0,
          0,
          0,
          0,
          0,
          0,
          0,
          0,
          0,
          0,
          0,
          0,
          0,
          0,
          0,
          0,
          0,
          0,
          0,
          0,
          0,
          0,
          0,
          0,
          0,
          0,
          0,
          0,
          0
         ],
         "yaxis": "y"
        },
        {
         "hovertemplate": "fips=22043<br>date_from_st=%{x}<br>ratio_deaths=%{y}<extra></extra>",
         "legendgroup": "22043",
         "line": {
          "color": "#FF97FF",
          "dash": "solid"
         },
         "mode": "lines",
         "name": "22043",
         "showlegend": true,
         "type": "scatter",
         "x": [
          0,
          1,
          2,
          3,
          4,
          5,
          6,
          7,
          8,
          9,
          10,
          11,
          12,
          13,
          14,
          15,
          16,
          17,
          18,
          19,
          20,
          21,
          22,
          23,
          24,
          25,
          26,
          27,
          28,
          29,
          30,
          31,
          32,
          33,
          34,
          35,
          36,
          37,
          38,
          39,
          40,
          41
         ],
         "xaxis": "x",
         "y": [
          0,
          0,
          0,
          0,
          0,
          0,
          0,
          0,
          0,
          0,
          0,
          0,
          0,
          0,
          0,
          0,
          0,
          0,
          0,
          0,
          0,
          0,
          0,
          0,
          0,
          0,
          0,
          0,
          0,
          0,
          0,
          0,
          0,
          0,
          0,
          0,
          0,
          0,
          0,
          0,
          0,
          0
         ],
         "yaxis": "y"
        },
        {
         "hovertemplate": "fips=05057<br>date_from_st=%{x}<br>ratio_deaths=%{y}<extra></extra>",
         "legendgroup": "05057",
         "line": {
          "color": "#FECB52",
          "dash": "solid"
         },
         "mode": "lines",
         "name": "05057",
         "showlegend": true,
         "type": "scatter",
         "x": [
          0,
          1,
          2,
          3,
          5,
          6,
          7,
          8,
          9,
          10,
          11,
          12,
          13,
          14,
          15,
          16,
          17,
          18,
          19,
          20,
          21,
          22,
          23,
          24,
          25,
          26,
          27,
          28,
          29,
          30,
          31,
          32,
          33,
          34,
          35,
          36,
          37,
          38,
          39,
          40
         ],
         "xaxis": "x",
         "y": [
          0,
          0,
          0,
          0,
          0,
          0,
          0,
          0,
          0,
          0,
          0,
          0,
          0,
          0,
          0,
          0.00001338180487180737,
          0.00001338180487180737,
          0.00001338180487180737,
          0.00001338180487180737,
          0.00001338180487180737,
          0.00001338180487180737,
          0.00001338180487180737,
          0.00001338180487180737,
          0.00001338180487180737,
          0.00001338180487180737,
          0.00001338180487180737,
          0.00001338180487180737,
          0.00001338180487180737,
          0.00001338180487180737,
          0.00001338180487180737,
          0.00001338180487180737,
          0.00001338180487180737,
          0.00001338180487180737,
          0.00001338180487180737,
          0.00001338180487180737,
          0.00001338180487180737,
          0.00001338180487180737,
          0.00001338180487180737,
          0.00001338180487180737,
          0.00001338180487180737
         ],
         "yaxis": "y"
        },
        {
         "hovertemplate": "fips=26087<br>date_from_st=%{x}<br>ratio_deaths=%{y}<extra></extra>",
         "legendgroup": "26087",
         "line": {
          "color": "#636efa",
          "dash": "solid"
         },
         "mode": "lines",
         "name": "26087",
         "showlegend": true,
         "type": "scatter",
         "x": [
          0,
          1,
          2,
          3,
          4,
          5,
          6,
          7,
          8,
          9,
          10,
          11,
          12,
          13,
          14,
          15,
          16,
          17,
          18,
          19,
          20,
          21,
          22,
          23,
          24,
          25,
          26,
          27,
          28,
          29,
          30,
          31,
          32,
          33,
          34,
          35,
          36,
          37,
          38,
          39,
          40
         ],
         "xaxis": "x",
         "y": [
          0,
          0,
          0,
          0,
          0,
          0,
          0,
          0,
          0,
          0,
          0,
          0,
          0,
          0,
          0.000006922767168865646,
          0.000011537945281442743,
          0.000011537945281442743,
          0.000013845534337731292,
          0.000013845534337731292,
          0.000013845534337731292,
          0.000013845534337731292,
          0.00002076830150659694,
          0.000023075890562885486,
          0.000029998657731751137,
          0.000029998657731751137,
          0.00004153660301319388,
          0.00004153660301319388,
          0.00004615178112577097,
          0.000050766959238348076,
          0.000053074548294636615,
          0.000053074548294636615,
          0.000053074548294636615,
          0.000053074548294636615,
          0.00005538213735092517,
          0.00005538213735092517,
          0.00005538213735092517,
          0.00005768972640721372,
          0.00005538213735092517,
          0.00005768972640721372,
          0.00005999731546350227,
          0.00005999731546350227
         ],
         "yaxis": "y"
        },
        {
         "hovertemplate": "fips=56037<br>date_from_st=%{x}<br>ratio_deaths=%{y}<extra></extra>",
         "legendgroup": "56037",
         "line": {
          "color": "#EF553B",
          "dash": "solid"
         },
         "mode": "lines",
         "name": "56037",
         "showlegend": true,
         "type": "scatter",
         "x": [
          0,
          1,
          2,
          3,
          4,
          5,
          6,
          7,
          8,
          9,
          10,
          11,
          12,
          13,
          14,
          15,
          16,
          17,
          18,
          19,
          20,
          21,
          22,
          23,
          24,
          25,
          26,
          27,
          28,
          29,
          30,
          31,
          32,
          33,
          34,
          35,
          36,
          37,
          38,
          39,
          40
         ],
         "xaxis": "x",
         "y": [
          0,
          0,
          0,
          0,
          0,
          0,
          0,
          0,
          0,
          0,
          0,
          0,
          0,
          0,
          0,
          0,
          0,
          0,
          0,
          0,
          0,
          0,
          0,
          0,
          0,
          0,
          0,
          0,
          0,
          0,
          0,
          0,
          0,
          0,
          0,
          0,
          0,
          0,
          0,
          0,
          0
         ],
         "yaxis": "y"
        },
        {
         "hovertemplate": "fips=05061<br>date_from_st=%{x}<br>ratio_deaths=%{y}<extra></extra>",
         "legendgroup": "05061",
         "line": {
          "color": "#00cc96",
          "dash": "solid"
         },
         "mode": "lines",
         "name": "05061",
         "showlegend": true,
         "type": "scatter",
         "x": [
          0,
          1,
          2,
          3,
          4,
          5,
          6,
          7,
          8,
          9,
          10,
          11,
          12,
          13,
          14,
          15,
          16,
          17,
          18,
          19,
          20,
          21,
          22,
          23,
          24,
          25,
          26,
          27,
          28,
          29,
          30,
          31,
          32,
          33,
          34,
          35,
          36,
          37,
          38
         ],
         "xaxis": "x",
         "y": [
          0,
          0,
          0,
          0,
          0,
          0,
          0,
          0,
          0,
          0,
          0,
          0,
          0,
          0,
          0,
          0,
          0,
          0,
          0,
          0,
          0,
          0,
          0,
          0,
          0,
          0,
          0.000023775190580792306,
          0,
          0,
          0,
          0,
          0,
          0,
          0,
          0,
          0,
          0,
          0,
          0
         ],
         "yaxis": "y"
        },
        {
         "hovertemplate": "fips=28161<br>date_from_st=%{x}<br>ratio_deaths=%{y}<extra></extra>",
         "legendgroup": "28161",
         "line": {
          "color": "#ab63fa",
          "dash": "solid"
         },
         "mode": "lines",
         "name": "28161",
         "showlegend": true,
         "type": "scatter",
         "x": [
          0,
          1,
          2,
          3,
          4,
          5,
          6,
          7,
          8,
          9,
          10,
          11,
          12,
          13,
          14,
          15,
          16,
          17,
          18,
          19,
          20,
          21,
          22,
          23,
          24,
          25,
          26,
          27,
          28,
          29,
          30,
          31,
          32,
          33,
          34,
          35,
          36,
          37,
          38
         ],
         "xaxis": "x",
         "y": [
          0,
          0,
          0,
          0,
          0,
          0,
          0,
          0,
          0,
          0,
          0,
          0,
          0,
          0,
          0,
          0,
          0,
          0,
          0,
          0,
          0,
          0,
          0,
          0,
          0,
          0,
          0,
          0,
          0,
          0,
          0,
          0,
          0,
          0,
          0,
          0,
          0,
          0,
          0
         ],
         "yaxis": "y"
        },
        {
         "hovertemplate": "fips=48503<br>date_from_st=%{x}<br>ratio_deaths=%{y}<extra></extra>",
         "legendgroup": "48503",
         "line": {
          "color": "#FFA15A",
          "dash": "solid"
         },
         "mode": "lines",
         "name": "48503",
         "showlegend": true,
         "type": "scatter",
         "x": [
          0,
          1,
          2,
          3,
          4,
          5,
          6,
          7,
          8,
          9,
          10,
          11,
          12,
          13,
          14,
          15,
          16,
          17,
          18,
          19,
          20,
          21,
          22,
          23,
          24,
          25,
          26,
          27,
          28,
          29,
          30,
          31,
          32,
          33,
          34,
          35,
          36,
          37
         ],
         "xaxis": "x",
         "y": [
          0,
          0,
          0,
          0,
          0,
          0,
          0,
          0,
          0,
          0,
          0,
          0,
          0,
          0,
          0,
          0,
          0,
          0,
          0,
          0.000018407170852969124,
          0.000018407170852969124,
          0.000018407170852969124,
          0.000018407170852969124,
          0.000018407170852969124,
          0.000018407170852969124,
          0.000018407170852969124,
          0.000018407170852969124,
          0.000018407170852969124,
          0.000018407170852969124,
          0.000018407170852969124,
          0.000018407170852969124,
          0.000018407170852969124,
          0.000018407170852969124,
          0.000018407170852969124,
          0.000018407170852969124,
          0.000018407170852969124,
          0.000018407170852969124,
          0.000018407170852969124
         ],
         "yaxis": "y"
        },
        {
         "hovertemplate": "fips=47019<br>date_from_st=%{x}<br>ratio_deaths=%{y}<extra></extra>",
         "legendgroup": "47019",
         "line": {
          "color": "#19d3f3",
          "dash": "solid"
         },
         "mode": "lines",
         "name": "47019",
         "showlegend": true,
         "type": "scatter",
         "x": [
          0,
          1,
          2,
          3,
          4,
          5,
          6,
          7,
          8,
          9,
          10,
          11,
          12,
          13,
          14,
          15,
          16,
          17,
          18,
          19,
          20,
          21,
          22,
          23,
          24,
          25,
          26,
          27,
          28,
          29,
          30,
          31,
          32,
          33,
          34,
          35,
          36
         ],
         "xaxis": "x",
         "y": [
          0,
          0,
          0,
          0,
          0,
          0,
          0,
          0,
          0,
          0,
          0,
          0,
          0,
          0,
          0,
          0,
          0,
          0,
          0.000003462111998667555,
          0.000003462111998667555,
          0.000003462111998667555,
          0.000003462111998667555,
          0.000003462111998667555,
          0.000003462111998667555,
          0.000003462111998667555,
          0.000003462111998667555,
          0.000003462111998667555,
          0.000003462111998667555,
          0.000003462111998667555,
          0.000003462111998667555,
          0.000003462111998667555,
          0.000003462111998667555,
          0.000003462111998667555,
          0.000003462111998667555,
          0.000003462111998667555,
          0.000003462111998667555,
          0.000003462111998667555
         ],
         "yaxis": "y"
        },
        {
         "hovertemplate": "fips=12043<br>date_from_st=%{x}<br>ratio_deaths=%{y}<extra></extra>",
         "legendgroup": "12043",
         "line": {
          "color": "#FF6692",
          "dash": "solid"
         },
         "mode": "lines",
         "name": "12043",
         "showlegend": true,
         "type": "scatter",
         "x": [
          0,
          1,
          2,
          3,
          4,
          5,
          6,
          7,
          8,
          9,
          10,
          11,
          12,
          13,
          14,
          15,
          16,
          17,
          18,
          19,
          20,
          21,
          22,
          23,
          24,
          25,
          26,
          27,
          28,
          29,
          30,
          31,
          32,
          33,
          34,
          35
         ],
         "xaxis": "x",
         "y": [
          0,
          0,
          0.00002628051298617319,
          0.00002628051298617319,
          0.00002628051298617319,
          0.00002628051298617319,
          0.00002628051298617319,
          0.00002628051298617319,
          0.00002628051298617319,
          0.00002628051298617319,
          0.00002628051298617319,
          0.00002628051298617319,
          0.00002628051298617319,
          0.00002628051298617319,
          0.00002628051298617319,
          0.00002628051298617319,
          0.00002628051298617319,
          0.00002628051298617319,
          0.00002628051298617319,
          0.00002628051298617319,
          0.00002628051298617319,
          0.00002628051298617319,
          0.00002628051298617319,
          0.00002628051298617319,
          0.00002628051298617319,
          0.00002628051298617319,
          0.00002628051298617319,
          0.00002628051298617319,
          0.00002628051298617319,
          0.00002628051298617319,
          0.00002628051298617319,
          0.00002628051298617319,
          0.00002628051298617319,
          0.00002628051298617319,
          0.00002628051298617319,
          0.00002628051298617319
         ],
         "yaxis": "y"
        },
        {
         "hovertemplate": "fips=26061<br>date_from_st=%{x}<br>ratio_deaths=%{y}<extra></extra>",
         "legendgroup": "26061",
         "line": {
          "color": "#B6E880",
          "dash": "solid"
         },
         "mode": "lines",
         "name": "26061",
         "showlegend": true,
         "type": "scatter",
         "x": [
          0,
          1,
          2,
          3,
          4,
          5,
          6,
          7,
          8,
          9,
          10,
          11,
          12,
          13,
          14,
          15,
          16,
          17,
          18,
          19,
          20,
          21,
          22,
          23,
          24,
          25,
          26,
          27,
          28,
          29,
          30,
          31,
          32,
          33,
          34
         ],
         "xaxis": "x",
         "y": [
          0,
          0,
          0,
          0,
          0,
          0,
          0,
          0,
          0,
          0,
          0,
          0,
          0,
          0,
          0,
          0,
          0,
          0,
          0,
          0,
          0,
          0,
          0,
          0,
          0,
          0,
          0,
          0,
          0,
          0,
          0,
          0,
          0,
          0,
          0
         ],
         "yaxis": "y"
        },
        {
         "hovertemplate": "fips=21133<br>date_from_st=%{x}<br>ratio_deaths=%{y}<extra></extra>",
         "legendgroup": "21133",
         "line": {
          "color": "#FF97FF",
          "dash": "solid"
         },
         "mode": "lines",
         "name": "21133",
         "showlegend": true,
         "type": "scatter",
         "x": [
          0,
          1,
          2,
          3,
          4,
          5,
          6,
          7,
          8,
          9,
          10,
          11,
          12,
          13,
          14,
          15,
          16,
          17,
          18,
          19,
          20,
          21,
          22,
          23,
          24,
          25,
          26,
          27,
          28
         ],
         "xaxis": "x",
         "y": [
          0,
          0,
          0,
          0,
          0,
          0,
          0,
          0,
          0,
          0,
          0,
          0,
          0,
          0,
          0,
          0,
          0,
          0,
          0,
          0,
          0,
          0,
          0,
          0,
          0,
          0,
          0,
          0,
          0
         ],
         "yaxis": "y"
        },
        {
         "hovertemplate": "fips=38075<br>date_from_st=%{x}<br>ratio_deaths=%{y}<extra></extra>",
         "legendgroup": "38075",
         "line": {
          "color": "#FECB52",
          "dash": "solid"
         },
         "mode": "lines",
         "name": "38075",
         "showlegend": true,
         "type": "scatter",
         "x": [
          0,
          1,
          2
         ],
         "xaxis": "x",
         "y": [
          0,
          0,
          0
         ],
         "yaxis": "y"
        }
       ],
       "layout": {
        "legend": {
         "title": {
          "text": "fips"
         },
         "tracegroupgap": 0
        },
        "margin": {
         "t": 60
        },
        "template": {
         "data": {
          "bar": [
           {
            "error_x": {
             "color": "#2a3f5f"
            },
            "error_y": {
             "color": "#2a3f5f"
            },
            "marker": {
             "line": {
              "color": "#E5ECF6",
              "width": 0.5
             }
            },
            "type": "bar"
           }
          ],
          "barpolar": [
           {
            "marker": {
             "line": {
              "color": "#E5ECF6",
              "width": 0.5
             }
            },
            "type": "barpolar"
           }
          ],
          "carpet": [
           {
            "aaxis": {
             "endlinecolor": "#2a3f5f",
             "gridcolor": "white",
             "linecolor": "white",
             "minorgridcolor": "white",
             "startlinecolor": "#2a3f5f"
            },
            "baxis": {
             "endlinecolor": "#2a3f5f",
             "gridcolor": "white",
             "linecolor": "white",
             "minorgridcolor": "white",
             "startlinecolor": "#2a3f5f"
            },
            "type": "carpet"
           }
          ],
          "choropleth": [
           {
            "colorbar": {
             "outlinewidth": 0,
             "ticks": ""
            },
            "type": "choropleth"
           }
          ],
          "contour": [
           {
            "colorbar": {
             "outlinewidth": 0,
             "ticks": ""
            },
            "colorscale": [
             [
              0,
              "#0d0887"
             ],
             [
              0.1111111111111111,
              "#46039f"
             ],
             [
              0.2222222222222222,
              "#7201a8"
             ],
             [
              0.3333333333333333,
              "#9c179e"
             ],
             [
              0.4444444444444444,
              "#bd3786"
             ],
             [
              0.5555555555555556,
              "#d8576b"
             ],
             [
              0.6666666666666666,
              "#ed7953"
             ],
             [
              0.7777777777777778,
              "#fb9f3a"
             ],
             [
              0.8888888888888888,
              "#fdca26"
             ],
             [
              1,
              "#f0f921"
             ]
            ],
            "type": "contour"
           }
          ],
          "contourcarpet": [
           {
            "colorbar": {
             "outlinewidth": 0,
             "ticks": ""
            },
            "type": "contourcarpet"
           }
          ],
          "heatmap": [
           {
            "colorbar": {
             "outlinewidth": 0,
             "ticks": ""
            },
            "colorscale": [
             [
              0,
              "#0d0887"
             ],
             [
              0.1111111111111111,
              "#46039f"
             ],
             [
              0.2222222222222222,
              "#7201a8"
             ],
             [
              0.3333333333333333,
              "#9c179e"
             ],
             [
              0.4444444444444444,
              "#bd3786"
             ],
             [
              0.5555555555555556,
              "#d8576b"
             ],
             [
              0.6666666666666666,
              "#ed7953"
             ],
             [
              0.7777777777777778,
              "#fb9f3a"
             ],
             [
              0.8888888888888888,
              "#fdca26"
             ],
             [
              1,
              "#f0f921"
             ]
            ],
            "type": "heatmap"
           }
          ],
          "heatmapgl": [
           {
            "colorbar": {
             "outlinewidth": 0,
             "ticks": ""
            },
            "colorscale": [
             [
              0,
              "#0d0887"
             ],
             [
              0.1111111111111111,
              "#46039f"
             ],
             [
              0.2222222222222222,
              "#7201a8"
             ],
             [
              0.3333333333333333,
              "#9c179e"
             ],
             [
              0.4444444444444444,
              "#bd3786"
             ],
             [
              0.5555555555555556,
              "#d8576b"
             ],
             [
              0.6666666666666666,
              "#ed7953"
             ],
             [
              0.7777777777777778,
              "#fb9f3a"
             ],
             [
              0.8888888888888888,
              "#fdca26"
             ],
             [
              1,
              "#f0f921"
             ]
            ],
            "type": "heatmapgl"
           }
          ],
          "histogram": [
           {
            "marker": {
             "colorbar": {
              "outlinewidth": 0,
              "ticks": ""
             }
            },
            "type": "histogram"
           }
          ],
          "histogram2d": [
           {
            "colorbar": {
             "outlinewidth": 0,
             "ticks": ""
            },
            "colorscale": [
             [
              0,
              "#0d0887"
             ],
             [
              0.1111111111111111,
              "#46039f"
             ],
             [
              0.2222222222222222,
              "#7201a8"
             ],
             [
              0.3333333333333333,
              "#9c179e"
             ],
             [
              0.4444444444444444,
              "#bd3786"
             ],
             [
              0.5555555555555556,
              "#d8576b"
             ],
             [
              0.6666666666666666,
              "#ed7953"
             ],
             [
              0.7777777777777778,
              "#fb9f3a"
             ],
             [
              0.8888888888888888,
              "#fdca26"
             ],
             [
              1,
              "#f0f921"
             ]
            ],
            "type": "histogram2d"
           }
          ],
          "histogram2dcontour": [
           {
            "colorbar": {
             "outlinewidth": 0,
             "ticks": ""
            },
            "colorscale": [
             [
              0,
              "#0d0887"
             ],
             [
              0.1111111111111111,
              "#46039f"
             ],
             [
              0.2222222222222222,
              "#7201a8"
             ],
             [
              0.3333333333333333,
              "#9c179e"
             ],
             [
              0.4444444444444444,
              "#bd3786"
             ],
             [
              0.5555555555555556,
              "#d8576b"
             ],
             [
              0.6666666666666666,
              "#ed7953"
             ],
             [
              0.7777777777777778,
              "#fb9f3a"
             ],
             [
              0.8888888888888888,
              "#fdca26"
             ],
             [
              1,
              "#f0f921"
             ]
            ],
            "type": "histogram2dcontour"
           }
          ],
          "mesh3d": [
           {
            "colorbar": {
             "outlinewidth": 0,
             "ticks": ""
            },
            "type": "mesh3d"
           }
          ],
          "parcoords": [
           {
            "line": {
             "colorbar": {
              "outlinewidth": 0,
              "ticks": ""
             }
            },
            "type": "parcoords"
           }
          ],
          "pie": [
           {
            "automargin": true,
            "type": "pie"
           }
          ],
          "scatter": [
           {
            "marker": {
             "colorbar": {
              "outlinewidth": 0,
              "ticks": ""
             }
            },
            "type": "scatter"
           }
          ],
          "scatter3d": [
           {
            "line": {
             "colorbar": {
              "outlinewidth": 0,
              "ticks": ""
             }
            },
            "marker": {
             "colorbar": {
              "outlinewidth": 0,
              "ticks": ""
             }
            },
            "type": "scatter3d"
           }
          ],
          "scattercarpet": [
           {
            "marker": {
             "colorbar": {
              "outlinewidth": 0,
              "ticks": ""
             }
            },
            "type": "scattercarpet"
           }
          ],
          "scattergeo": [
           {
            "marker": {
             "colorbar": {
              "outlinewidth": 0,
              "ticks": ""
             }
            },
            "type": "scattergeo"
           }
          ],
          "scattergl": [
           {
            "marker": {
             "colorbar": {
              "outlinewidth": 0,
              "ticks": ""
             }
            },
            "type": "scattergl"
           }
          ],
          "scattermapbox": [
           {
            "marker": {
             "colorbar": {
              "outlinewidth": 0,
              "ticks": ""
             }
            },
            "type": "scattermapbox"
           }
          ],
          "scatterpolar": [
           {
            "marker": {
             "colorbar": {
              "outlinewidth": 0,
              "ticks": ""
             }
            },
            "type": "scatterpolar"
           }
          ],
          "scatterpolargl": [
           {
            "marker": {
             "colorbar": {
              "outlinewidth": 0,
              "ticks": ""
             }
            },
            "type": "scatterpolargl"
           }
          ],
          "scatterternary": [
           {
            "marker": {
             "colorbar": {
              "outlinewidth": 0,
              "ticks": ""
             }
            },
            "type": "scatterternary"
           }
          ],
          "surface": [
           {
            "colorbar": {
             "outlinewidth": 0,
             "ticks": ""
            },
            "colorscale": [
             [
              0,
              "#0d0887"
             ],
             [
              0.1111111111111111,
              "#46039f"
             ],
             [
              0.2222222222222222,
              "#7201a8"
             ],
             [
              0.3333333333333333,
              "#9c179e"
             ],
             [
              0.4444444444444444,
              "#bd3786"
             ],
             [
              0.5555555555555556,
              "#d8576b"
             ],
             [
              0.6666666666666666,
              "#ed7953"
             ],
             [
              0.7777777777777778,
              "#fb9f3a"
             ],
             [
              0.8888888888888888,
              "#fdca26"
             ],
             [
              1,
              "#f0f921"
             ]
            ],
            "type": "surface"
           }
          ],
          "table": [
           {
            "cells": {
             "fill": {
              "color": "#EBF0F8"
             },
             "line": {
              "color": "white"
             }
            },
            "header": {
             "fill": {
              "color": "#C8D4E3"
             },
             "line": {
              "color": "white"
             }
            },
            "type": "table"
           }
          ]
         },
         "layout": {
          "annotationdefaults": {
           "arrowcolor": "#2a3f5f",
           "arrowhead": 0,
           "arrowwidth": 1
          },
          "coloraxis": {
           "colorbar": {
            "outlinewidth": 0,
            "ticks": ""
           }
          },
          "colorscale": {
           "diverging": [
            [
             0,
             "#8e0152"
            ],
            [
             0.1,
             "#c51b7d"
            ],
            [
             0.2,
             "#de77ae"
            ],
            [
             0.3,
             "#f1b6da"
            ],
            [
             0.4,
             "#fde0ef"
            ],
            [
             0.5,
             "#f7f7f7"
            ],
            [
             0.6,
             "#e6f5d0"
            ],
            [
             0.7,
             "#b8e186"
            ],
            [
             0.8,
             "#7fbc41"
            ],
            [
             0.9,
             "#4d9221"
            ],
            [
             1,
             "#276419"
            ]
           ],
           "sequential": [
            [
             0,
             "#0d0887"
            ],
            [
             0.1111111111111111,
             "#46039f"
            ],
            [
             0.2222222222222222,
             "#7201a8"
            ],
            [
             0.3333333333333333,
             "#9c179e"
            ],
            [
             0.4444444444444444,
             "#bd3786"
            ],
            [
             0.5555555555555556,
             "#d8576b"
            ],
            [
             0.6666666666666666,
             "#ed7953"
            ],
            [
             0.7777777777777778,
             "#fb9f3a"
            ],
            [
             0.8888888888888888,
             "#fdca26"
            ],
            [
             1,
             "#f0f921"
            ]
           ],
           "sequentialminus": [
            [
             0,
             "#0d0887"
            ],
            [
             0.1111111111111111,
             "#46039f"
            ],
            [
             0.2222222222222222,
             "#7201a8"
            ],
            [
             0.3333333333333333,
             "#9c179e"
            ],
            [
             0.4444444444444444,
             "#bd3786"
            ],
            [
             0.5555555555555556,
             "#d8576b"
            ],
            [
             0.6666666666666666,
             "#ed7953"
            ],
            [
             0.7777777777777778,
             "#fb9f3a"
            ],
            [
             0.8888888888888888,
             "#fdca26"
            ],
            [
             1,
             "#f0f921"
            ]
           ]
          },
          "colorway": [
           "#636efa",
           "#EF553B",
           "#00cc96",
           "#ab63fa",
           "#FFA15A",
           "#19d3f3",
           "#FF6692",
           "#B6E880",
           "#FF97FF",
           "#FECB52"
          ],
          "font": {
           "color": "#2a3f5f"
          },
          "geo": {
           "bgcolor": "white",
           "lakecolor": "white",
           "landcolor": "#E5ECF6",
           "showlakes": true,
           "showland": true,
           "subunitcolor": "white"
          },
          "hoverlabel": {
           "align": "left"
          },
          "hovermode": "closest",
          "mapbox": {
           "style": "light"
          },
          "paper_bgcolor": "white",
          "plot_bgcolor": "#E5ECF6",
          "polar": {
           "angularaxis": {
            "gridcolor": "white",
            "linecolor": "white",
            "ticks": ""
           },
           "bgcolor": "#E5ECF6",
           "radialaxis": {
            "gridcolor": "white",
            "linecolor": "white",
            "ticks": ""
           }
          },
          "scene": {
           "xaxis": {
            "backgroundcolor": "#E5ECF6",
            "gridcolor": "white",
            "gridwidth": 2,
            "linecolor": "white",
            "showbackground": true,
            "ticks": "",
            "zerolinecolor": "white"
           },
           "yaxis": {
            "backgroundcolor": "#E5ECF6",
            "gridcolor": "white",
            "gridwidth": 2,
            "linecolor": "white",
            "showbackground": true,
            "ticks": "",
            "zerolinecolor": "white"
           },
           "zaxis": {
            "backgroundcolor": "#E5ECF6",
            "gridcolor": "white",
            "gridwidth": 2,
            "linecolor": "white",
            "showbackground": true,
            "ticks": "",
            "zerolinecolor": "white"
           }
          },
          "shapedefaults": {
           "line": {
            "color": "#2a3f5f"
           }
          },
          "ternary": {
           "aaxis": {
            "gridcolor": "white",
            "linecolor": "white",
            "ticks": ""
           },
           "baxis": {
            "gridcolor": "white",
            "linecolor": "white",
            "ticks": ""
           },
           "bgcolor": "#E5ECF6",
           "caxis": {
            "gridcolor": "white",
            "linecolor": "white",
            "ticks": ""
           }
          },
          "title": {
           "x": 0.05
          },
          "xaxis": {
           "automargin": true,
           "gridcolor": "white",
           "linecolor": "white",
           "ticks": "",
           "title": {
            "standoff": 15
           },
           "zerolinecolor": "white",
           "zerolinewidth": 2
          },
          "yaxis": {
           "automargin": true,
           "gridcolor": "white",
           "linecolor": "white",
           "ticks": "",
           "title": {
            "standoff": 15
           },
           "zerolinecolor": "white",
           "zerolinewidth": 2
          }
         }
        },
        "xaxis": {
         "anchor": "y",
         "domain": [
          0,
          1
         ],
         "title": {
          "text": "date_from_st"
         }
        },
        "yaxis": {
         "anchor": "x",
         "domain": [
          0,
          1
         ],
         "title": {
          "text": "ratio_deaths"
         }
        }
       }
      }
     },
     "metadata": {}
    }
   ],
   "source": [
    "import random\n",
    "\n",
    "selected_county = random.sample(FIPS_mt, 20)\n",
    "deaths_selected = deaths[(deaths[\"fips\"].isin(selected_county))]\n",
    "# pd.Series([deaths_selected[(deaths_selected[\"fips\"]==fips) & deaths_selected[\"cases\"]!=0]['date'].min() for fips in deaths_selected[\"fips\"]])\n",
    "deaths_selected[\"date_from_st\"] = deaths_selected[\"date\"].values - pd.Series([deaths_selected[(deaths_selected[\"fips\"]==fips) & (deaths_selected[\"cases\"]!=0)]['date'].min() for fips in deaths_selected[\"fips\"]]).values\n",
    "# print(len(deaths_selected[\"date\"]),len(pd.Series([deaths_selected[(deaths_selected[\"fips\"]==fips) & deaths_selected[\"cases\"]!=0]['date'].min() for fips in deaths_selected[\"fips\"]])))\n",
    "deaths_selected[\"date_from_st\"] = deaths_selected['date_from_st'].apply(lambda x: x.days)\n",
    "deaths_selected[\"diff_deaths\"] = deaths_selected[\"ratio_deaths\"].diff(-1)\n",
    "# deaths_selected.dropna(inplace=True)\n",
    "\n",
    "fig = px.line(deaths_selected, x=\"date_from_st\", y=\"ratio_deaths\", color=deaths_selected[\"fips\"])\n",
    "fig.show()"
   ]
  },
  {
   "cell_type": "code",
   "execution_count": 92,
   "metadata": {},
   "outputs": [
    {
     "output_type": "execute_result",
     "data": {
      "text/plain": "array([[0],\n       [1],\n       [2],\n       [3],\n       [4],\n       [5],\n       [6],\n       [7],\n       [8],\n       [9]])"
     },
     "metadata": {},
     "execution_count": 92
    }
   ],
   "source": [
    "np.array(list(range(10))).reshape(-1,1)"
   ]
  }
 ],
 "metadata": {
  "language_info": {
   "codemirror_mode": {
    "name": "ipython",
    "version": 3
   },
   "file_extension": ".py",
   "mimetype": "text/x-python",
   "name": "python",
   "nbconvert_exporter": "python",
   "pygments_lexer": "ipython3",
   "version": "3.7.6-final"
  },
  "orig_nbformat": 2,
  "kernelspec": {
   "name": "python37664bitbaseconda4eadddc3141645a4b2e2e3236285dbac",
   "display_name": "Python 3.7.6 64-bit ('base': conda)"
  }
 },
 "nbformat": 4,
 "nbformat_minor": 2
}