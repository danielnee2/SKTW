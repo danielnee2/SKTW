{
 "cells": [
  {
   "cell_type": "code",
   "execution_count": null,
   "metadata": {},
   "outputs": [],
   "source": [
    "import json\n",
    "import numpy as np\n",
    "import pandas as pd\n",
    "from utility import *\n",
    "\n",
    "homedir = get_homedir()\n",
    "FIPS_mapping, FIPS_full = get_FIPS(reduced=True)"
   ]
  },
  {
   "cell_type": "markdown",
   "metadata": {},
   "source": [
    "## Read Dataset"
   ]
  },
  {
   "cell_type": "code",
   "execution_count": null,
   "metadata": {},
   "outputs": [],
   "source": [
    "with open(f'{homedir}/JK/po_code_state_map.json') as f:\n",
    "    po_st = json.load(f)\n",
    "\n",
    "st_to_fips = {}\n",
    "po_to_fips = {}\n",
    "for dic in po_st:\n",
    "    st_to_fips[dic['state']] = dic['fips']\n",
    "    po_to_fips[dic['postalCode']] = dic['fips']\n",
    "print(st_to_fips['California'], po_to_fips['CA'])"
   ]
  },
  {
   "cell_type": "code",
   "execution_count": null,
   "metadata": {},
   "outputs": [],
   "source": [
    "fips_key = pd.read_csv(f'{homedir}/data/us/processing_data/fips_key.csv', encoding='latin-1')\n",
    "fips_key['FIPS'] = fips_key['FIPS'].apply(correct_FIPS)\n",
    "fips_key.replace({'ST':po_to_fips}, inplace=True)\n",
    "fips_key.drop_duplicates(subset=['FIPS'], inplace=True)\n",
    "fips_key.drop(index=[2936, 2941], inplace=True)         ## Missing in demo & GDP\n",
    "fips_key.head()"
   ]
  },
  {
   "cell_type": "code",
   "execution_count": null,
   "metadata": {},
   "outputs": [],
   "source": [
    "GDP = pd.read_csv(f'{homedir}/JK/lagdp1219.csv')\n",
    "GDP.replace({'state':st_to_fips}, inplace=True)\n",
    "GDP.dropna(thresh=6, inplace=True)\n",
    "GDP.head()"
   ]
  },
  {
   "cell_type": "code",
   "execution_count": null,
   "metadata": {},
   "outputs": [],
   "source": [
    "STlist = list(GDP['state'].unique())\n",
    "df = pd.DataFrame(columns=GDP.columns)\n",
    "for state in STlist:\n",
    "    fips_state = fips_key[fips_key['ST']==state].sort_values(by=['COUNTY'])\n",
    "    GDP_state = GDP[GDP['state']==state].copy()\n",
    "    if (len(GDP_state)==len(fips_state)):\n",
    "        GDP_state['fips'] = list(fips_state['FIPS'])\n",
    "        df = df.append(GDP_state)\n",
    "    elif state=='08':\n",
    "        df = df.append(GDP_state[~GDP_state['fips'].isna()])\n",
    "        temp = GDP_state[GDP_state['fips'].isna()]\n",
    "        print(len(temp), len(fips_state))\n",
    "        temp['fips'] = list(fips_state['FIPS'])\n",
    "        df = df.append(temp)\n",
    "    else:\n",
    "        df = df.append(GDP_state)\n",
    "        # print('Length not match on', state)\n",
    "        # print(len(GDP_state),len(fips_state))\n",
    "        # for i in range(min(len(fips_state),len(GDP_state))):\n",
    "        #     print(list(GDP_state['county'])[i],'-', list(fips_state['COUNTY'])[i])\n",
    "df.head()"
   ]
  },
  {
   "cell_type": "code",
   "execution_count": null,
   "metadata": {},
   "outputs": [],
   "source": [
    "df['fips'] = df['fips'].apply(correct_FIPS)\n",
    "df[['fips','2015','2016','2017','2018']].to_csv('GDP.csv', index=False)"
   ]
  }
 ],
 "metadata": {
  "language_info": {
   "codemirror_mode": {
    "name": "ipython",
    "version": 3
   },
   "file_extension": ".py",
   "mimetype": "text/x-python",
   "name": "python",
   "nbconvert_exporter": "python",
   "pygments_lexer": "ipython3",
   "version": 3
  },
  "orig_nbformat": 2
 },
 "nbformat": 4,
 "nbformat_minor": 2
}