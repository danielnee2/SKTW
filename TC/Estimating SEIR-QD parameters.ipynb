{
 "cells": [
  {
   "cell_type": "code",
   "execution_count": 1,
   "metadata": {
    "ExecuteTime": {
     "end_time": "2020-05-07T21:01:11.162889Z",
     "start_time": "2020-05-07T21:01:11.134090Z"
    },
    "cell_style": "center",
    "init_cell": true
   },
   "outputs": [],
   "source": [
    "import git\n",
    "repo = git.Repo(\"./\", search_parent_directories=True)"
   ]
  },
  {
   "cell_type": "code",
   "execution_count": 3,
   "metadata": {
    "ExecuteTime": {
     "end_time": "2020-05-07T20:45:08.973338Z",
     "start_time": "2020-05-07T20:45:08.964678Z"
    }
   },
   "outputs": [
    {
     "data": {
      "text/html": [
       "<style>.container { width:80% !important; }</style>"
      ],
      "text/plain": [
       "<IPython.core.display.HTML object>"
      ]
     },
     "metadata": {},
     "output_type": "display_data"
    }
   ],
   "source": [
    "from IPython.core.display import display, HTML\n",
    "display(HTML(\"<style>.container { width:80% !important; }</style>\"))"
   ]
  },
  {
   "cell_type": "code",
   "execution_count": 4,
   "metadata": {
    "ExecuteTime": {
     "end_time": "2020-05-07T20:45:09.634267Z",
     "start_time": "2020-05-07T20:45:09.540509Z"
    }
   },
   "outputs": [],
   "source": [
    "import pandas as pd"
   ]
  },
  {
   "cell_type": "code",
   "execution_count": 5,
   "metadata": {
    "ExecuteTime": {
     "end_time": "2020-05-07T20:45:10.040837Z",
     "start_time": "2020-05-07T20:45:09.922638Z"
    }
   },
   "outputs": [],
   "source": [
    "import matplotlib.pyplot as plt"
   ]
  },
  {
   "cell_type": "markdown",
   "metadata": {},
   "source": [
    "# Data Preparation"
   ]
  },
  {
   "cell_type": "markdown",
   "metadata": {},
   "source": [
    "Directory"
   ]
  },
  {
   "cell_type": "code",
   "execution_count": 6,
   "metadata": {
    "ExecuteTime": {
     "end_time": "2020-05-07T20:45:15.214564Z",
     "start_time": "2020-05-07T20:45:15.212307Z"
    }
   },
   "outputs": [],
   "source": [
    "homedir = repo.working_dir\n",
    "datadir = f\"{homedir}/data/\""
   ]
  },
  {
   "cell_type": "markdown",
   "metadata": {},
   "source": [
    "## international/health"
   ]
  },
  {
   "cell_type": "markdown",
   "metadata": {},
   "source": [
    "Let's take a look at the health data from the international folder."
   ]
  },
  {
   "cell_type": "code",
   "execution_count": 6,
   "metadata": {
    "ExecuteTime": {
     "end_time": "2020-05-05T07:19:02.173240Z",
     "start_time": "2020-05-05T07:19:02.154885Z"
    }
   },
   "outputs": [],
   "source": [
    "import pandas as pd\n",
    "df = pd.read_csv(datadir + 'international/health/hospital-beds-per-1000-people.csv')"
   ]
  },
  {
   "cell_type": "markdown",
   "metadata": {},
   "source": [
    "We can pivot it using countries and years:"
   ]
  },
  {
   "cell_type": "code",
   "execution_count": 7,
   "metadata": {
    "ExecuteTime": {
     "end_time": "2020-04-27T21:42:12.776667Z",
     "start_time": "2020-04-27T21:42:12.771825Z"
    },
    "scrolled": true
   },
   "outputs": [],
   "source": [
    "df=df.dropna(subset=['Code'])"
   ]
  },
  {
   "cell_type": "code",
   "execution_count": 8,
   "metadata": {
    "ExecuteTime": {
     "end_time": "2020-04-27T21:42:14.039904Z",
     "start_time": "2020-04-27T21:42:14.021070Z"
    },
    "scrolled": true
   },
   "outputs": [
    {
     "data": {
      "text/html": [
       "<div>\n",
       "<style scoped>\n",
       "    .dataframe tbody tr th:only-of-type {\n",
       "        vertical-align: middle;\n",
       "    }\n",
       "\n",
       "    .dataframe tbody tr th {\n",
       "        vertical-align: top;\n",
       "    }\n",
       "\n",
       "    .dataframe thead th {\n",
       "        text-align: right;\n",
       "    }\n",
       "</style>\n",
       "<table border=\"1\" class=\"dataframe\">\n",
       "  <thead>\n",
       "    <tr style=\"text-align: right;\">\n",
       "      <th>Year</th>\n",
       "      <th>1960</th>\n",
       "      <th>1961</th>\n",
       "      <th>1962</th>\n",
       "      <th>1963</th>\n",
       "      <th>1964</th>\n",
       "      <th>1965</th>\n",
       "      <th>1966</th>\n",
       "      <th>1967</th>\n",
       "      <th>1968</th>\n",
       "      <th>1969</th>\n",
       "      <th>...</th>\n",
       "      <th>2005</th>\n",
       "      <th>2006</th>\n",
       "      <th>2007</th>\n",
       "      <th>2008</th>\n",
       "      <th>2009</th>\n",
       "      <th>2010</th>\n",
       "      <th>2011</th>\n",
       "      <th>2012</th>\n",
       "      <th>2013</th>\n",
       "      <th>2014</th>\n",
       "    </tr>\n",
       "    <tr>\n",
       "      <th>Code</th>\n",
       "      <th></th>\n",
       "      <th></th>\n",
       "      <th></th>\n",
       "      <th></th>\n",
       "      <th></th>\n",
       "      <th></th>\n",
       "      <th></th>\n",
       "      <th></th>\n",
       "      <th></th>\n",
       "      <th></th>\n",
       "      <th></th>\n",
       "      <th></th>\n",
       "      <th></th>\n",
       "      <th></th>\n",
       "      <th></th>\n",
       "      <th></th>\n",
       "      <th></th>\n",
       "      <th></th>\n",
       "      <th></th>\n",
       "      <th></th>\n",
       "      <th></th>\n",
       "    </tr>\n",
       "  </thead>\n",
       "  <tbody>\n",
       "    <tr>\n",
       "      <th>AFG</th>\n",
       "      <td>0.170627</td>\n",
       "      <td>NaN</td>\n",
       "      <td>NaN</td>\n",
       "      <td>NaN</td>\n",
       "      <td>NaN</td>\n",
       "      <td>NaN</td>\n",
       "      <td>NaN</td>\n",
       "      <td>NaN</td>\n",
       "      <td>NaN</td>\n",
       "      <td>NaN</td>\n",
       "      <td>...</td>\n",
       "      <td>NaN</td>\n",
       "      <td>NaN</td>\n",
       "      <td>0.42</td>\n",
       "      <td>0.42</td>\n",
       "      <td>0.4</td>\n",
       "      <td>0.4</td>\n",
       "      <td>NaN</td>\n",
       "      <td>0.5</td>\n",
       "      <td>NaN</td>\n",
       "      <td>NaN</td>\n",
       "    </tr>\n",
       "    <tr>\n",
       "      <th>AGO</th>\n",
       "      <td>2.061462</td>\n",
       "      <td>NaN</td>\n",
       "      <td>NaN</td>\n",
       "      <td>NaN</td>\n",
       "      <td>NaN</td>\n",
       "      <td>NaN</td>\n",
       "      <td>NaN</td>\n",
       "      <td>NaN</td>\n",
       "      <td>NaN</td>\n",
       "      <td>NaN</td>\n",
       "      <td>...</td>\n",
       "      <td>0.80</td>\n",
       "      <td>NaN</td>\n",
       "      <td>NaN</td>\n",
       "      <td>NaN</td>\n",
       "      <td>NaN</td>\n",
       "      <td>NaN</td>\n",
       "      <td>NaN</td>\n",
       "      <td>NaN</td>\n",
       "      <td>NaN</td>\n",
       "      <td>NaN</td>\n",
       "    </tr>\n",
       "    <tr>\n",
       "      <th>ALB</th>\n",
       "      <td>5.102676</td>\n",
       "      <td>NaN</td>\n",
       "      <td>NaN</td>\n",
       "      <td>NaN</td>\n",
       "      <td>NaN</td>\n",
       "      <td>NaN</td>\n",
       "      <td>NaN</td>\n",
       "      <td>NaN</td>\n",
       "      <td>NaN</td>\n",
       "      <td>NaN</td>\n",
       "      <td>...</td>\n",
       "      <td>3.00</td>\n",
       "      <td>2.9692</td>\n",
       "      <td>2.90</td>\n",
       "      <td>NaN</td>\n",
       "      <td>2.8</td>\n",
       "      <td>NaN</td>\n",
       "      <td>2.43</td>\n",
       "      <td>2.6</td>\n",
       "      <td>NaN</td>\n",
       "      <td>NaN</td>\n",
       "    </tr>\n",
       "    <tr>\n",
       "      <th>AND</th>\n",
       "      <td>NaN</td>\n",
       "      <td>NaN</td>\n",
       "      <td>NaN</td>\n",
       "      <td>NaN</td>\n",
       "      <td>NaN</td>\n",
       "      <td>NaN</td>\n",
       "      <td>NaN</td>\n",
       "      <td>NaN</td>\n",
       "      <td>NaN</td>\n",
       "      <td>NaN</td>\n",
       "      <td>...</td>\n",
       "      <td>2.70</td>\n",
       "      <td>2.6000</td>\n",
       "      <td>2.60</td>\n",
       "      <td>NaN</td>\n",
       "      <td>2.5</td>\n",
       "      <td>NaN</td>\n",
       "      <td>NaN</td>\n",
       "      <td>NaN</td>\n",
       "      <td>NaN</td>\n",
       "      <td>NaN</td>\n",
       "    </tr>\n",
       "    <tr>\n",
       "      <th>ARE</th>\n",
       "      <td>NaN</td>\n",
       "      <td>NaN</td>\n",
       "      <td>NaN</td>\n",
       "      <td>NaN</td>\n",
       "      <td>NaN</td>\n",
       "      <td>NaN</td>\n",
       "      <td>NaN</td>\n",
       "      <td>NaN</td>\n",
       "      <td>NaN</td>\n",
       "      <td>NaN</td>\n",
       "      <td>...</td>\n",
       "      <td>1.88</td>\n",
       "      <td>NaN</td>\n",
       "      <td>1.86</td>\n",
       "      <td>1.90</td>\n",
       "      <td>NaN</td>\n",
       "      <td>NaN</td>\n",
       "      <td>NaN</td>\n",
       "      <td>1.1</td>\n",
       "      <td>NaN</td>\n",
       "      <td>NaN</td>\n",
       "    </tr>\n",
       "  </tbody>\n",
       "</table>\n",
       "<p>5 rows × 55 columns</p>\n",
       "</div>"
      ],
      "text/plain": [
       "Year      1960  1961  1962  1963  1964  1965  1966  1967  1968  1969  ...  \\\n",
       "Code                                                                  ...   \n",
       "AFG   0.170627   NaN   NaN   NaN   NaN   NaN   NaN   NaN   NaN   NaN  ...   \n",
       "AGO   2.061462   NaN   NaN   NaN   NaN   NaN   NaN   NaN   NaN   NaN  ...   \n",
       "ALB   5.102676   NaN   NaN   NaN   NaN   NaN   NaN   NaN   NaN   NaN  ...   \n",
       "AND        NaN   NaN   NaN   NaN   NaN   NaN   NaN   NaN   NaN   NaN  ...   \n",
       "ARE        NaN   NaN   NaN   NaN   NaN   NaN   NaN   NaN   NaN   NaN  ...   \n",
       "\n",
       "Year  2005    2006  2007  2008  2009  2010  2011  2012  2013  2014  \n",
       "Code                                                                \n",
       "AFG    NaN     NaN  0.42  0.42   0.4   0.4   NaN   0.5   NaN   NaN  \n",
       "AGO   0.80     NaN   NaN   NaN   NaN   NaN   NaN   NaN   NaN   NaN  \n",
       "ALB   3.00  2.9692  2.90   NaN   2.8   NaN  2.43   2.6   NaN   NaN  \n",
       "AND   2.70  2.6000  2.60   NaN   2.5   NaN   NaN   NaN   NaN   NaN  \n",
       "ARE   1.88     NaN  1.86  1.90   NaN   NaN   NaN   1.1   NaN   NaN  \n",
       "\n",
       "[5 rows x 55 columns]"
      ]
     },
     "execution_count": 8,
     "metadata": {},
     "output_type": "execute_result"
    }
   ],
   "source": [
    "X_beds=df.pivot(index=\"Code\",columns=\"Year\",values=\"Hospital beds (per 1,000 people) (per 1,000 people)\")\n",
    "X_beds.head()"
   ]
  },
  {
   "cell_type": "markdown",
   "metadata": {},
   "source": [
    "Notice that all the records are earlier than 2014, so for inference purpose we can only resort to the last non-NaN column for each country, and assume that it hasn't significantly changed since then."
   ]
  },
  {
   "cell_type": "code",
   "execution_count": 9,
   "metadata": {
    "ExecuteTime": {
     "end_time": "2020-04-27T21:42:15.737250Z",
     "start_time": "2020-04-27T21:42:15.711242Z"
    },
    "scrolled": false
   },
   "outputs": [],
   "source": [
    "ind = {x:X_beds.loc[x].last_valid_index() for x in X_beds.index}\n",
    "last_data_point_beds_per_mille = {x:X_beds.loc[x, ind[x]] for x in X_beds.index}"
   ]
  },
  {
   "cell_type": "markdown",
   "metadata": {},
   "source": [
    "Actually, we can build a helper function to do this:"
   ]
  },
  {
   "cell_type": "code",
   "execution_count": 10,
   "metadata": {
    "ExecuteTime": {
     "end_time": "2020-04-27T18:35:55.698740Z",
     "start_time": "2020-04-27T18:35:55.695451Z"
    }
   },
   "outputs": [],
   "source": [
    "def to_last_record(X):\n",
    "    ind = {x:X.loc[x].last_valid_index() for x in X.index}\n",
    "    return pd.Series([X.loc[x, ind[x]] for x in X.index], index=X.index)"
   ]
  },
  {
   "cell_type": "code",
   "execution_count": 11,
   "metadata": {
    "ExecuteTime": {
     "end_time": "2020-04-27T18:35:56.310971Z",
     "start_time": "2020-04-27T18:35:56.299501Z"
    }
   },
   "outputs": [
    {
     "data": {
      "text/html": [
       "<div>\n",
       "<style scoped>\n",
       "    .dataframe tbody tr th:only-of-type {\n",
       "        vertical-align: middle;\n",
       "    }\n",
       "\n",
       "    .dataframe tbody tr th {\n",
       "        vertical-align: top;\n",
       "    }\n",
       "\n",
       "    .dataframe thead th {\n",
       "        text-align: right;\n",
       "    }\n",
       "</style>\n",
       "<table border=\"1\" class=\"dataframe\">\n",
       "  <thead>\n",
       "    <tr style=\"text-align: right;\">\n",
       "      <th></th>\n",
       "      <th>Entity</th>\n",
       "      <th>Code</th>\n",
       "      <th>Year</th>\n",
       "      <th>Physicians (per 1,000 people) (per 1,000 people)</th>\n",
       "    </tr>\n",
       "  </thead>\n",
       "  <tbody>\n",
       "    <tr>\n",
       "      <th>0</th>\n",
       "      <td>Afghanistan</td>\n",
       "      <td>AFG</td>\n",
       "      <td>1960</td>\n",
       "      <td>0.035</td>\n",
       "    </tr>\n",
       "    <tr>\n",
       "      <th>1</th>\n",
       "      <td>Afghanistan</td>\n",
       "      <td>AFG</td>\n",
       "      <td>1965</td>\n",
       "      <td>0.063</td>\n",
       "    </tr>\n",
       "    <tr>\n",
       "      <th>2</th>\n",
       "      <td>Afghanistan</td>\n",
       "      <td>AFG</td>\n",
       "      <td>1970</td>\n",
       "      <td>0.065</td>\n",
       "    </tr>\n",
       "    <tr>\n",
       "      <th>3</th>\n",
       "      <td>Afghanistan</td>\n",
       "      <td>AFG</td>\n",
       "      <td>1981</td>\n",
       "      <td>0.077</td>\n",
       "    </tr>\n",
       "    <tr>\n",
       "      <th>4</th>\n",
       "      <td>Afghanistan</td>\n",
       "      <td>AFG</td>\n",
       "      <td>1986</td>\n",
       "      <td>0.183</td>\n",
       "    </tr>\n",
       "  </tbody>\n",
       "</table>\n",
       "</div>"
      ],
      "text/plain": [
       "        Entity Code  Year  Physicians (per 1,000 people) (per 1,000 people)\n",
       "0  Afghanistan  AFG  1960                                             0.035\n",
       "1  Afghanistan  AFG  1965                                             0.063\n",
       "2  Afghanistan  AFG  1970                                             0.065\n",
       "3  Afghanistan  AFG  1981                                             0.077\n",
       "4  Afghanistan  AFG  1986                                             0.183"
      ]
     },
     "execution_count": 11,
     "metadata": {},
     "output_type": "execute_result"
    }
   ],
   "source": [
    "df_phys = pd.read_csv(datadir + 'international/health/physicians-per-1000-people.csv')\n",
    "df_phys.head()"
   ]
  },
  {
   "cell_type": "code",
   "execution_count": 12,
   "metadata": {
    "ExecuteTime": {
     "end_time": "2020-04-27T18:35:57.128945Z",
     "start_time": "2020-04-27T18:35:57.124993Z"
    }
   },
   "outputs": [],
   "source": [
    "X_phys = df_phys.pivot(index=\"Entity\",columns=\"Year\",values=\"Physicians (per 1,000 people) (per 1,000 people)\")"
   ]
  },
  {
   "cell_type": "code",
   "execution_count": 13,
   "metadata": {
    "ExecuteTime": {
     "end_time": "2020-04-27T18:35:57.420176Z",
     "start_time": "2020-04-27T18:35:57.407898Z"
    },
    "scrolled": false
   },
   "outputs": [
    {
     "data": {
      "text/html": [
       "<div>\n",
       "<style scoped>\n",
       "    .dataframe tbody tr th:only-of-type {\n",
       "        vertical-align: middle;\n",
       "    }\n",
       "\n",
       "    .dataframe tbody tr th {\n",
       "        vertical-align: top;\n",
       "    }\n",
       "\n",
       "    .dataframe thead th {\n",
       "        text-align: right;\n",
       "    }\n",
       "</style>\n",
       "<table border=\"1\" class=\"dataframe\">\n",
       "  <thead>\n",
       "    <tr style=\"text-align: right;\">\n",
       "      <th></th>\n",
       "      <th>Entity</th>\n",
       "      <th>Code</th>\n",
       "      <th>Year</th>\n",
       "      <th>Deaths - Lower respiratory infections - Sex: Both - Age: Age-standardized (Rate) (Rate)</th>\n",
       "    </tr>\n",
       "  </thead>\n",
       "  <tbody>\n",
       "    <tr>\n",
       "      <th>0</th>\n",
       "      <td>Afghanistan</td>\n",
       "      <td>AFG</td>\n",
       "      <td>1990</td>\n",
       "      <td>164.811829</td>\n",
       "    </tr>\n",
       "    <tr>\n",
       "      <th>1</th>\n",
       "      <td>Afghanistan</td>\n",
       "      <td>AFG</td>\n",
       "      <td>1991</td>\n",
       "      <td>151.460290</td>\n",
       "    </tr>\n",
       "    <tr>\n",
       "      <th>2</th>\n",
       "      <td>Afghanistan</td>\n",
       "      <td>AFG</td>\n",
       "      <td>1992</td>\n",
       "      <td>127.896225</td>\n",
       "    </tr>\n",
       "    <tr>\n",
       "      <th>3</th>\n",
       "      <td>Afghanistan</td>\n",
       "      <td>AFG</td>\n",
       "      <td>1993</td>\n",
       "      <td>124.725141</td>\n",
       "    </tr>\n",
       "    <tr>\n",
       "      <th>4</th>\n",
       "      <td>Afghanistan</td>\n",
       "      <td>AFG</td>\n",
       "      <td>1994</td>\n",
       "      <td>134.410918</td>\n",
       "    </tr>\n",
       "  </tbody>\n",
       "</table>\n",
       "</div>"
      ],
      "text/plain": [
       "        Entity Code  Year  \\\n",
       "0  Afghanistan  AFG  1990   \n",
       "1  Afghanistan  AFG  1991   \n",
       "2  Afghanistan  AFG  1992   \n",
       "3  Afghanistan  AFG  1993   \n",
       "4  Afghanistan  AFG  1994   \n",
       "\n",
       "   Deaths - Lower respiratory infections - Sex: Both - Age: Age-standardized (Rate) (Rate)  \n",
       "0                                         164.811829                                        \n",
       "1                                         151.460290                                        \n",
       "2                                         127.896225                                        \n",
       "3                                         124.725141                                        \n",
       "4                                         134.410918                                        "
      ]
     },
     "execution_count": 13,
     "metadata": {},
     "output_type": "execute_result"
    }
   ],
   "source": [
    "df_pneu = pd.read_csv(datadir + 'international/health/pneumonia-death-rates-age-standardized.csv')\n",
    "df_pneu.head()"
   ]
  },
  {
   "cell_type": "code",
   "execution_count": 14,
   "metadata": {
    "ExecuteTime": {
     "end_time": "2020-04-27T18:35:58.278878Z",
     "start_time": "2020-04-27T18:35:58.273483Z"
    }
   },
   "outputs": [],
   "source": [
    "X_pneu = df_pneu.pivot(index=\"Entity\",columns=\"Year\",values=\"Deaths - Lower respiratory infections - Sex: Both - Age: Age-standardized (Rate) (Rate)\")"
   ]
  },
  {
   "cell_type": "code",
   "execution_count": 15,
   "metadata": {
    "ExecuteTime": {
     "end_time": "2020-04-27T18:35:58.503134Z",
     "start_time": "2020-04-27T18:35:58.493905Z"
    },
    "scrolled": true
   },
   "outputs": [
    {
     "data": {
      "text/html": [
       "<div>\n",
       "<style scoped>\n",
       "    .dataframe tbody tr th:only-of-type {\n",
       "        vertical-align: middle;\n",
       "    }\n",
       "\n",
       "    .dataframe tbody tr th {\n",
       "        vertical-align: top;\n",
       "    }\n",
       "\n",
       "    .dataframe thead th {\n",
       "        text-align: right;\n",
       "    }\n",
       "</style>\n",
       "<table border=\"1\" class=\"dataframe\">\n",
       "  <thead>\n",
       "    <tr style=\"text-align: right;\">\n",
       "      <th></th>\n",
       "      <th>Entity</th>\n",
       "      <th>Code</th>\n",
       "      <th>Year</th>\n",
       "      <th>Deaths - Cardiovascular diseases - Sex: Both - Age: All Ages (Percent) (%)</th>\n",
       "    </tr>\n",
       "  </thead>\n",
       "  <tbody>\n",
       "    <tr>\n",
       "      <th>0</th>\n",
       "      <td>Afghanistan</td>\n",
       "      <td>AFG</td>\n",
       "      <td>1990</td>\n",
       "      <td>23.707752</td>\n",
       "    </tr>\n",
       "    <tr>\n",
       "      <th>1</th>\n",
       "      <td>Afghanistan</td>\n",
       "      <td>AFG</td>\n",
       "      <td>1991</td>\n",
       "      <td>23.490307</td>\n",
       "    </tr>\n",
       "    <tr>\n",
       "      <th>2</th>\n",
       "      <td>Afghanistan</td>\n",
       "      <td>AFG</td>\n",
       "      <td>1992</td>\n",
       "      <td>23.146918</td>\n",
       "    </tr>\n",
       "    <tr>\n",
       "      <th>3</th>\n",
       "      <td>Afghanistan</td>\n",
       "      <td>AFG</td>\n",
       "      <td>1993</td>\n",
       "      <td>21.154207</td>\n",
       "    </tr>\n",
       "    <tr>\n",
       "      <th>4</th>\n",
       "      <td>Afghanistan</td>\n",
       "      <td>AFG</td>\n",
       "      <td>1994</td>\n",
       "      <td>19.756144</td>\n",
       "    </tr>\n",
       "  </tbody>\n",
       "</table>\n",
       "</div>"
      ],
      "text/plain": [
       "        Entity Code  Year  \\\n",
       "0  Afghanistan  AFG  1990   \n",
       "1  Afghanistan  AFG  1991   \n",
       "2  Afghanistan  AFG  1992   \n",
       "3  Afghanistan  AFG  1993   \n",
       "4  Afghanistan  AFG  1994   \n",
       "\n",
       "   Deaths - Cardiovascular diseases - Sex: Both - Age: All Ages (Percent) (%)  \n",
       "0                                          23.707752                           \n",
       "1                                          23.490307                           \n",
       "2                                          23.146918                           \n",
       "3                                          21.154207                           \n",
       "4                                          19.756144                           "
      ]
     },
     "execution_count": 15,
     "metadata": {},
     "output_type": "execute_result"
    }
   ],
   "source": [
    "df_heart = pd.read_csv(datadir + 'international/health/share-deaths-heart-disease.csv')\n",
    "df_heart.head()"
   ]
  },
  {
   "cell_type": "code",
   "execution_count": 16,
   "metadata": {
    "ExecuteTime": {
     "end_time": "2020-04-27T18:35:59.284900Z",
     "start_time": "2020-04-27T18:35:59.279372Z"
    }
   },
   "outputs": [],
   "source": [
    "X_heart = df_heart.pivot(index=\"Entity\",columns=\"Year\",values=\"Deaths - Cardiovascular diseases - Sex: Both - Age: All Ages (Percent) (%)\")"
   ]
  },
  {
   "cell_type": "code",
   "execution_count": 17,
   "metadata": {
    "ExecuteTime": {
     "end_time": "2020-04-27T18:35:59.491589Z",
     "start_time": "2020-04-27T18:35:59.481134Z"
    },
    "scrolled": true
   },
   "outputs": [
    {
     "data": {
      "text/html": [
       "<div>\n",
       "<style scoped>\n",
       "    .dataframe tbody tr th:only-of-type {\n",
       "        vertical-align: middle;\n",
       "    }\n",
       "\n",
       "    .dataframe tbody tr th {\n",
       "        vertical-align: top;\n",
       "    }\n",
       "\n",
       "    .dataframe thead th {\n",
       "        text-align: right;\n",
       "    }\n",
       "</style>\n",
       "<table border=\"1\" class=\"dataframe\">\n",
       "  <thead>\n",
       "    <tr style=\"text-align: right;\">\n",
       "      <th></th>\n",
       "      <th>Entity</th>\n",
       "      <th>Code</th>\n",
       "      <th>Year</th>\n",
       "      <th>Smoking prevalence, total (ages 15+) (% of adults)</th>\n",
       "    </tr>\n",
       "  </thead>\n",
       "  <tbody>\n",
       "    <tr>\n",
       "      <th>0</th>\n",
       "      <td>Albania</td>\n",
       "      <td>ALB</td>\n",
       "      <td>2000</td>\n",
       "      <td>34.8</td>\n",
       "    </tr>\n",
       "    <tr>\n",
       "      <th>1</th>\n",
       "      <td>Albania</td>\n",
       "      <td>ALB</td>\n",
       "      <td>2005</td>\n",
       "      <td>32.7</td>\n",
       "    </tr>\n",
       "    <tr>\n",
       "      <th>2</th>\n",
       "      <td>Albania</td>\n",
       "      <td>ALB</td>\n",
       "      <td>2010</td>\n",
       "      <td>31.2</td>\n",
       "    </tr>\n",
       "    <tr>\n",
       "      <th>3</th>\n",
       "      <td>Albania</td>\n",
       "      <td>ALB</td>\n",
       "      <td>2011</td>\n",
       "      <td>30.7</td>\n",
       "    </tr>\n",
       "    <tr>\n",
       "      <th>4</th>\n",
       "      <td>Albania</td>\n",
       "      <td>ALB</td>\n",
       "      <td>2012</td>\n",
       "      <td>30.2</td>\n",
       "    </tr>\n",
       "  </tbody>\n",
       "</table>\n",
       "</div>"
      ],
      "text/plain": [
       "    Entity Code  Year  Smoking prevalence, total (ages 15+) (% of adults)\n",
       "0  Albania  ALB  2000                                               34.8 \n",
       "1  Albania  ALB  2005                                               32.7 \n",
       "2  Albania  ALB  2010                                               31.2 \n",
       "3  Albania  ALB  2011                                               30.7 \n",
       "4  Albania  ALB  2012                                               30.2 "
      ]
     },
     "execution_count": 17,
     "metadata": {},
     "output_type": "execute_result"
    }
   ],
   "source": [
    "df_smoke = pd.read_csv(datadir + 'international/health/share-of-adults-who-smoke.csv')\n",
    "df_smoke.head()"
   ]
  },
  {
   "cell_type": "code",
   "execution_count": 18,
   "metadata": {
    "ExecuteTime": {
     "end_time": "2020-04-27T18:36:00.355241Z",
     "start_time": "2020-04-27T18:36:00.349867Z"
    }
   },
   "outputs": [],
   "source": [
    "X_smoke = df_smoke.pivot(index=\"Entity\",columns=\"Year\",values=\"Smoking prevalence, total (ages 15+) (% of adults)\")"
   ]
  },
  {
   "cell_type": "markdown",
   "metadata": {},
   "source": [
    "We should also take a look at which years are polled:"
   ]
  },
  {
   "cell_type": "code",
   "execution_count": 19,
   "metadata": {
    "ExecuteTime": {
     "end_time": "2020-04-27T18:36:01.772175Z",
     "start_time": "2020-04-27T18:36:01.676813Z"
    },
    "scrolled": false
   },
   "outputs": [
    {
     "name": "stdout",
     "output_type": "stream",
     "text": [
      "\n",
      "Counter({2012: 62, 2011: 62, 2010: 28, 2009: 12, 2006: 9, 2005: 7, 1996: 4, 1990: 2, 2004: 2, 1970: 2, 2007: 2, 2008: 2, 1985: 1, 2014: 1, 1981: 1, 1997: 1, 2013: 1, 2001: 1})\n",
      "\n",
      "Counter({2013: 59, 2014: 48, 2015: 43, 2010: 27, 2016: 21, 2012: 10, 2009: 7, 2011: 7, 2004: 7, 1999: 5, 2001: 5, 1995: 4, 1997: 2, 1981: 1, 2000: 1, 1980: 1, 2006: 1, 1998: 1, 2005: 1, 2003: 1, 1987: 1})\n",
      "\n",
      "Counter({2017: 231})\n",
      "\n",
      "Counter({2017: 231})\n",
      "\n",
      "Counter({2016: 186, 2014: 1})\n"
     ]
    }
   ],
   "source": [
    "from collections import Counter\n",
    "for data in [X_beds, X_phys, X_pneu, X_heart, X_smoke]:\n",
    "    print(\"\")\n",
    "    print(Counter([data.loc[x].last_valid_index() for x in data.index]))"
   ]
  },
  {
   "cell_type": "markdown",
   "metadata": {},
   "source": [
    "The last three looks good, but the first two data contain results from a long span of time. This means some data can be quite inaccurate if used for inference. We can try to extrapolate, but let's leave that to the future."
   ]
  },
  {
   "cell_type": "code",
   "execution_count": 20,
   "metadata": {
    "ExecuteTime": {
     "end_time": "2020-04-27T18:39:09.762135Z",
     "start_time": "2020-04-27T18:39:09.759858Z"
    }
   },
   "outputs": [],
   "source": [
    "import pygal.maps"
   ]
  },
  {
   "cell_type": "code",
   "execution_count": 21,
   "metadata": {
    "ExecuteTime": {
     "end_time": "2020-04-27T18:56:53.761173Z",
     "start_time": "2020-04-27T18:56:53.753640Z"
    }
   },
   "outputs": [
    {
     "data": {
      "text/plain": [
       "{'AFG': 0.5,\n",
       " 'AGO': 0.8,\n",
       " 'ALB': 2.6,\n",
       " 'AND': 2.5,\n",
       " 'ARE': 1.1,\n",
       " 'ARG': 4.7,\n",
       " 'ARM': 3.9,\n",
       " 'ATG': 2.1,\n",
       " 'AUS': 3.9,\n",
       " 'AUT': 7.6,\n",
       " 'AZE': 4.7,\n",
       " 'BDI': 1.9,\n",
       " 'BEL': 6.5,\n",
       " 'BEN': 0.5,\n",
       " 'BFA': 0.4,\n",
       " 'BGD': 0.6,\n",
       " 'BGR': 6.4,\n",
       " 'BHR': 2.1,\n",
       " 'BHS': 2.9,\n",
       " 'BIH': 3.5,\n",
       " 'BLR': 11.3,\n",
       " 'BLZ': 1.1,\n",
       " 'BMU': 6.3000001907000005,\n",
       " 'BOL': 1.1,\n",
       " 'BRA': 2.3,\n",
       " 'BRB': 6.2,\n",
       " 'BRN': 2.8,\n",
       " 'BTN': 1.8,\n",
       " 'BWA': 1.8,\n",
       " 'CAF': 1.0,\n",
       " 'CAN': 2.7,\n",
       " 'CHE': 5.0,\n",
       " 'CHL': 2.1,\n",
       " 'CHN': 3.8,\n",
       " 'CIV': 0.4,\n",
       " 'CMR': 1.3,\n",
       " 'COD': 0.8,\n",
       " 'COG': 1.6,\n",
       " 'COL': 1.5,\n",
       " 'COM': 2.2,\n",
       " 'CPV': 2.1,\n",
       " 'CRI': 1.2,\n",
       " 'CUB': 5.3,\n",
       " 'CYM': 3.0,\n",
       " 'CYP': 3.5,\n",
       " 'CZE': 6.8,\n",
       " 'DEU': 8.2,\n",
       " 'DJI': 1.4,\n",
       " 'DMA': 3.8,\n",
       " 'DNK': 3.5,\n",
       " 'DOM': 1.7,\n",
       " 'DZA': 1.7,\n",
       " 'ECU': 1.6,\n",
       " 'EGY': 0.5,\n",
       " 'ERI': 0.7,\n",
       " 'ESP': 3.1,\n",
       " 'EST': 5.3,\n",
       " 'ETH': 6.3,\n",
       " 'FIN': 5.5,\n",
       " 'FJI': 2.1,\n",
       " 'FRA': 6.4,\n",
       " 'FSM': 3.2,\n",
       " 'GAB': 6.3,\n",
       " 'GBR': 2.9,\n",
       " 'GEO': 2.6,\n",
       " 'GHA': 0.9,\n",
       " 'GIN': 0.3,\n",
       " 'GMB': 1.1,\n",
       " 'GNB': 1.0,\n",
       " 'GNQ': 2.1,\n",
       " 'GRC': 4.8,\n",
       " 'GRD': 3.5,\n",
       " 'GRL': 14.353400230407699,\n",
       " 'GTM': 0.6,\n",
       " 'GUY': 2.0,\n",
       " 'HKG': 4.8909001350402805,\n",
       " 'HND': 0.7,\n",
       " 'HRV': 5.89,\n",
       " 'HTI': 1.3,\n",
       " 'HUN': 7.2,\n",
       " 'IDN': 0.9,\n",
       " 'IND': 0.7,\n",
       " 'IRL': 2.9,\n",
       " 'IRN': 0.1,\n",
       " 'IRQ': 1.3,\n",
       " 'ISL': 3.2,\n",
       " 'ISR': 3.3,\n",
       " 'ITA': 3.4,\n",
       " 'JAM': 1.7,\n",
       " 'JOR': 1.8,\n",
       " 'JPN': 13.7,\n",
       " 'KAZ': 7.2,\n",
       " 'KEN': 1.4,\n",
       " 'KGZ': 4.8,\n",
       " 'KHM': 0.7,\n",
       " 'KIR': 1.3,\n",
       " 'KNA': 2.3,\n",
       " 'KOR': 10.3,\n",
       " 'KWT': 2.2,\n",
       " 'LAO': 1.5,\n",
       " 'LBN': 3.5,\n",
       " 'LBR': 0.8,\n",
       " 'LBY': 3.7,\n",
       " 'LCA': 1.6,\n",
       " 'LKA': 3.6,\n",
       " 'LSO': 1.3,\n",
       " 'LTU': 7.0,\n",
       " 'LUX': 5.4,\n",
       " 'LVA': 5.9,\n",
       " 'MAC': 5.2953000068664595,\n",
       " 'MAR': 0.9,\n",
       " 'MCO': 13.8,\n",
       " 'MDA': 6.2,\n",
       " 'MDG': 0.2,\n",
       " 'MDV': 4.3,\n",
       " 'MEX': 1.5,\n",
       " 'MHL': 2.7,\n",
       " 'MKD': 4.5,\n",
       " 'MLI': 0.1,\n",
       " 'MLT': 4.8,\n",
       " 'MMR': 0.6,\n",
       " 'MNE': 4.0,\n",
       " 'MNG': 6.8,\n",
       " 'MOZ': 0.7,\n",
       " 'MRT': 0.4,\n",
       " 'MUS': 3.4,\n",
       " 'MWI': 1.3,\n",
       " 'MYS': 1.9,\n",
       " 'NAM': 2.7,\n",
       " 'NER': 0.3,\n",
       " 'NGA': 0.5,\n",
       " 'NIC': 0.9,\n",
       " 'NLD': 4.7,\n",
       " 'NOR': 3.3,\n",
       " 'NPL': 5.0,\n",
       " 'NRU': 5.0,\n",
       " 'NZL': 2.3,\n",
       " 'OMN': 1.7,\n",
       " 'OWID_CIS': 10.595100402832001,\n",
       " 'OWID_WRL': 2.9190689030356802,\n",
       " 'PAK': 0.6,\n",
       " 'PAN': 2.2,\n",
       " 'PER': 1.5,\n",
       " 'PHL': 1.0,\n",
       " 'PLW': 4.8,\n",
       " 'PNG': 4.0241999626,\n",
       " 'POL': 6.5,\n",
       " 'PRI': 3.3199999332,\n",
       " 'PRK': 13.2,\n",
       " 'PRT': 3.4,\n",
       " 'PRY': 1.3,\n",
       " 'PSE': 1.2000000477,\n",
       " 'QAT': 1.2,\n",
       " 'ROU': 6.1,\n",
       " 'RUS': 9.7,\n",
       " 'RWA': 1.6,\n",
       " 'SAU': 2.1,\n",
       " 'SDN': 0.8,\n",
       " 'SEN': 0.3,\n",
       " 'SGP': 2.0,\n",
       " 'SLB': 1.3,\n",
       " 'SLE': 0.4,\n",
       " 'SLV': 1.1,\n",
       " 'SMR': 3.8,\n",
       " 'SOM': 0.400000006,\n",
       " 'SRB': 5.4,\n",
       " 'STP': 2.9,\n",
       " 'SUR': 3.1,\n",
       " 'SVK': 6.0,\n",
       " 'SVN': 4.552046,\n",
       " 'SWE': 2.7,\n",
       " 'SWZ': 2.1,\n",
       " 'SYC': 3.6,\n",
       " 'TCD': 0.4,\n",
       " 'TGO': 0.7,\n",
       " 'THA': 2.1,\n",
       " 'TJK': 5.5,\n",
       " 'TKM': 4.0,\n",
       " 'TLS': 5.9,\n",
       " 'TON': 2.6,\n",
       " 'TTO': 2.7,\n",
       " 'TUN': 2.1,\n",
       " 'TUR': 2.5,\n",
       " 'TUV': 5.6,\n",
       " 'TZA': 0.7,\n",
       " 'UGA': 0.5,\n",
       " 'UKR': 9.0,\n",
       " 'URY': 2.5,\n",
       " 'USA': 2.9,\n",
       " 'UZB': 4.4,\n",
       " 'VCT': 5.2,\n",
       " 'VEN': 0.9,\n",
       " 'VIR': 18.6800003052,\n",
       " 'VNM': 2.0,\n",
       " 'VUT': 1.7,\n",
       " 'WSM': 1.0,\n",
       " 'YEM': 0.7,\n",
       " 'ZAF': 2.8,\n",
       " 'ZMB': 2.0,\n",
       " 'ZWE': 1.7}"
      ]
     },
     "execution_count": 21,
     "metadata": {},
     "output_type": "execute_result"
    }
   ],
   "source": [
    "last_data_point_beds_per_mille"
   ]
  },
  {
   "cell_type": "code",
   "execution_count": 22,
   "metadata": {
    "ExecuteTime": {
     "end_time": "2020-04-27T19:03:08.882858Z",
     "start_time": "2020-04-27T19:03:08.879375Z"
    }
   },
   "outputs": [
    {
     "data": {
      "text/plain": [
       "0.1"
      ]
     },
     "execution_count": 22,
     "metadata": {},
     "output_type": "execute_result"
    }
   ],
   "source": [
    "min(last_data_point_beds_per_mille.values())"
   ]
  },
  {
   "cell_type": "code",
   "execution_count": 23,
   "metadata": {
    "ExecuteTime": {
     "end_time": "2020-04-27T19:04:02.121563Z",
     "start_time": "2020-04-27T19:04:02.119266Z"
    }
   },
   "outputs": [],
   "source": [
    "import numpy as np"
   ]
  },
  {
   "cell_type": "code",
   "execution_count": 24,
   "metadata": {
    "ExecuteTime": {
     "end_time": "2020-04-27T19:04:30.331613Z",
     "start_time": "2020-04-27T19:04:30.327410Z"
    }
   },
   "outputs": [],
   "source": [
    "import pycountry\n",
    "maps = {}\n",
    "for keys in last_data_point_beds_per_mille.keys():\n",
    "    tmp = pycountry.countries.get(alpha_3=keys)\n",
    "    try:\n",
    "        maps[tmp.alpha_2.lower()] = (last_data_point_beds_per_mille[keys])\n",
    "    except:\n",
    "        pass"
   ]
  },
  {
   "cell_type": "code",
   "execution_count": 25,
   "metadata": {
    "ExecuteTime": {
     "end_time": "2020-04-27T19:09:33.243980Z",
     "start_time": "2020-04-27T19:09:32.446133Z"
    }
   },
   "outputs": [
    {
     "ename": "ImportError",
     "evalue": "/home/tzuchen/PycharmProjects/SKTW/venv/lib64/python3.8/site-packages/_cffi_backend.cpython-38-x86_64-linux-gnu.so: file too short",
     "output_type": "error",
     "traceback": [
      "\u001b[0;31m---------------------------------------------------------------------------\u001b[0m",
      "\u001b[0;31mImportError\u001b[0m                               Traceback (most recent call last)",
      "\u001b[0;32m<ipython-input-25-a3cd81e852ae>\u001b[0m in \u001b[0;36m<module>\u001b[0;34m\u001b[0m\n\u001b[1;32m      2\u001b[0m \u001b[0mworldmap_chart\u001b[0m\u001b[0;34m.\u001b[0m\u001b[0mtitle\u001b[0m \u001b[0;34m=\u001b[0m \u001b[0;34m'Beds per mille'\u001b[0m\u001b[0;34m\u001b[0m\u001b[0;34m\u001b[0m\u001b[0m\n\u001b[1;32m      3\u001b[0m \u001b[0mworldmap_chart\u001b[0m\u001b[0;34m.\u001b[0m\u001b[0madd\u001b[0m\u001b[0;34m(\u001b[0m\u001b[0;34m'Latest available'\u001b[0m\u001b[0;34m,\u001b[0m \u001b[0mmaps\u001b[0m\u001b[0;34m)\u001b[0m\u001b[0;34m\u001b[0m\u001b[0;34m\u001b[0m\u001b[0m\n\u001b[0;32m----> 4\u001b[0;31m \u001b[0mworldmap_chart\u001b[0m\u001b[0;34m.\u001b[0m\u001b[0mrender_to_png\u001b[0m\u001b[0;34m(\u001b[0m\u001b[0;34m'worldbeds.png'\u001b[0m\u001b[0;34m)\u001b[0m\u001b[0;34m\u001b[0m\u001b[0;34m\u001b[0m\u001b[0m\n\u001b[0m\u001b[1;32m      5\u001b[0m \u001b[0;34m\u001b[0m\u001b[0m\n",
      "\u001b[0;32m~/PycharmProjects/SKTW/venv/lib64/python3.8/site-packages/pygal/graph/public.py\u001b[0m in \u001b[0;36mrender_to_png\u001b[0;34m(self, filename, dpi, **kwargs)\u001b[0m\n\u001b[1;32m    116\u001b[0m     \u001b[0;32mdef\u001b[0m \u001b[0mrender_to_png\u001b[0m\u001b[0;34m(\u001b[0m\u001b[0mself\u001b[0m\u001b[0;34m,\u001b[0m \u001b[0mfilename\u001b[0m\u001b[0;34m=\u001b[0m\u001b[0;32mNone\u001b[0m\u001b[0;34m,\u001b[0m \u001b[0mdpi\u001b[0m\u001b[0;34m=\u001b[0m\u001b[0;36m72\u001b[0m\u001b[0;34m,\u001b[0m \u001b[0;34m**\u001b[0m\u001b[0mkwargs\u001b[0m\u001b[0;34m)\u001b[0m\u001b[0;34m:\u001b[0m\u001b[0;34m\u001b[0m\u001b[0;34m\u001b[0m\u001b[0m\n\u001b[1;32m    117\u001b[0m         \u001b[0;34m\"\"\"Render the graph, convert it to png and write it to filename\"\"\"\u001b[0m\u001b[0;34m\u001b[0m\u001b[0;34m\u001b[0m\u001b[0m\n\u001b[0;32m--> 118\u001b[0;31m         \u001b[0;32mimport\u001b[0m \u001b[0mcairosvg\u001b[0m\u001b[0;34m\u001b[0m\u001b[0;34m\u001b[0m\u001b[0m\n\u001b[0m\u001b[1;32m    119\u001b[0m         return cairosvg.svg2png(\n\u001b[1;32m    120\u001b[0m             bytestring=self.render(**kwargs), write_to=filename, dpi=dpi)\n",
      "\u001b[0;32m~/PycharmProjects/SKTW/venv/lib64/python3.8/site-packages/cairosvg/__init__.py\u001b[0m in \u001b[0;36m<module>\u001b[0;34m\u001b[0m\n\u001b[1;32m     40\u001b[0m \u001b[0;34m\u001b[0m\u001b[0m\n\u001b[1;32m     41\u001b[0m \u001b[0;31m# VERSION is used in the \"url\" module imported by \"surface\"\u001b[0m\u001b[0;34m\u001b[0m\u001b[0;34m\u001b[0m\u001b[0;34m\u001b[0m\u001b[0m\n\u001b[0;32m---> 42\u001b[0;31m \u001b[0;32mfrom\u001b[0m \u001b[0;34m.\u001b[0m \u001b[0;32mimport\u001b[0m \u001b[0msurface\u001b[0m  \u001b[0;31m# noqa isort:skip\u001b[0m\u001b[0;34m\u001b[0m\u001b[0;34m\u001b[0m\u001b[0m\n\u001b[0m\u001b[1;32m     43\u001b[0m \u001b[0;34m\u001b[0m\u001b[0m\n\u001b[1;32m     44\u001b[0m \u001b[0;34m\u001b[0m\u001b[0m\n",
      "\u001b[0;32m~/PycharmProjects/SKTW/venv/lib64/python3.8/site-packages/cairosvg/surface.py\u001b[0m in \u001b[0;36m<module>\u001b[0;34m\u001b[0m\n\u001b[1;32m     23\u001b[0m \u001b[0;32mimport\u001b[0m \u001b[0mio\u001b[0m\u001b[0;34m\u001b[0m\u001b[0;34m\u001b[0m\u001b[0m\n\u001b[1;32m     24\u001b[0m \u001b[0;34m\u001b[0m\u001b[0m\n\u001b[0;32m---> 25\u001b[0;31m \u001b[0;32mimport\u001b[0m \u001b[0mcairocffi\u001b[0m \u001b[0;32mas\u001b[0m \u001b[0mcairo\u001b[0m\u001b[0;34m\u001b[0m\u001b[0;34m\u001b[0m\u001b[0m\n\u001b[0m\u001b[1;32m     26\u001b[0m \u001b[0;34m\u001b[0m\u001b[0m\n\u001b[1;32m     27\u001b[0m \u001b[0;32mfrom\u001b[0m \u001b[0;34m.\u001b[0m\u001b[0mcolors\u001b[0m \u001b[0;32mimport\u001b[0m \u001b[0mcolor\u001b[0m\u001b[0;34m\u001b[0m\u001b[0;34m\u001b[0m\u001b[0m\n",
      "\u001b[0;32m~/PycharmProjects/SKTW/venv/lib64/python3.8/site-packages/cairocffi/__init__.py\u001b[0m in \u001b[0;36m<module>\u001b[0;34m\u001b[0m\n\u001b[1;32m     15\u001b[0m \u001b[0;34m\u001b[0m\u001b[0m\n\u001b[1;32m     16\u001b[0m \u001b[0;32mfrom\u001b[0m \u001b[0;34m.\u001b[0m \u001b[0;32mimport\u001b[0m \u001b[0mconstants\u001b[0m\u001b[0;34m\u001b[0m\u001b[0;34m\u001b[0m\u001b[0m\n\u001b[0;32m---> 17\u001b[0;31m \u001b[0;32mfrom\u001b[0m \u001b[0;34m.\u001b[0m\u001b[0m_generated\u001b[0m\u001b[0;34m.\u001b[0m\u001b[0mffi\u001b[0m \u001b[0;32mimport\u001b[0m \u001b[0mffi\u001b[0m\u001b[0;34m\u001b[0m\u001b[0;34m\u001b[0m\u001b[0m\n\u001b[0m\u001b[1;32m     18\u001b[0m \u001b[0;34m\u001b[0m\u001b[0m\n\u001b[1;32m     19\u001b[0m \u001b[0mVERSION\u001b[0m \u001b[0;34m=\u001b[0m \u001b[0m__version__\u001b[0m \u001b[0;34m=\u001b[0m \u001b[0;34m(\u001b[0m\u001b[0mPath\u001b[0m\u001b[0;34m(\u001b[0m\u001b[0m__file__\u001b[0m\u001b[0;34m)\u001b[0m\u001b[0;34m.\u001b[0m\u001b[0mparent\u001b[0m \u001b[0;34m/\u001b[0m \u001b[0;34m'VERSION'\u001b[0m\u001b[0;34m)\u001b[0m\u001b[0;34m.\u001b[0m\u001b[0mread_text\u001b[0m\u001b[0;34m(\u001b[0m\u001b[0;34m)\u001b[0m\u001b[0;34m.\u001b[0m\u001b[0mstrip\u001b[0m\u001b[0;34m(\u001b[0m\u001b[0;34m)\u001b[0m\u001b[0;34m\u001b[0m\u001b[0;34m\u001b[0m\u001b[0m\n",
      "\u001b[0;32m~/PycharmProjects/SKTW/venv/lib64/python3.8/site-packages/cairocffi/_generated/ffi.py\u001b[0m in \u001b[0;36m<module>\u001b[0;34m\u001b[0m\n\u001b[1;32m      1\u001b[0m \u001b[0;31m# auto-generated file\u001b[0m\u001b[0;34m\u001b[0m\u001b[0;34m\u001b[0m\u001b[0;34m\u001b[0m\u001b[0m\n\u001b[0;32m----> 2\u001b[0;31m \u001b[0;32mimport\u001b[0m \u001b[0m_cffi_backend\u001b[0m\u001b[0;34m\u001b[0m\u001b[0;34m\u001b[0m\u001b[0m\n\u001b[0m\u001b[1;32m      3\u001b[0m \u001b[0;34m\u001b[0m\u001b[0m\n\u001b[1;32m      4\u001b[0m ffi = _cffi_backend.FFI('cairocffi._generated.ffi',\n\u001b[1;32m      5\u001b[0m     \u001b[0m_version\u001b[0m \u001b[0;34m=\u001b[0m \u001b[0;36m0x2601\u001b[0m\u001b[0;34m,\u001b[0m\u001b[0;34m\u001b[0m\u001b[0;34m\u001b[0m\u001b[0m\n",
      "\u001b[0;31mImportError\u001b[0m: /home/tzuchen/PycharmProjects/SKTW/venv/lib64/python3.8/site-packages/_cffi_backend.cpython-38-x86_64-linux-gnu.so: file too short"
     ]
    }
   ],
   "source": [
    "worldmap_chart = pygal.maps.world.World()\n",
    "worldmap_chart.title = 'Beds per mille'\n",
    "worldmap_chart.add('Latest available', maps)\n",
    "worldmap_chart.render_to_png('worldbeds.png')"
   ]
  },
  {
   "cell_type": "markdown",
   "metadata": {},
   "source": [
    "### Correlations"
   ]
  },
  {
   "cell_type": "code",
   "execution_count": null,
   "metadata": {
    "ExecuteTime": {
     "end_time": "2020-04-23T07:18:03.931261Z",
     "start_time": "2020-04-23T07:18:03.829461Z"
    },
    "scrolled": true
   },
   "outputs": [],
   "source": [
    "df_total = pd.DataFrame()\n",
    "df_total['beds'] = to_last_record(X_beds)\n",
    "df_total['phys'] = to_last_record(X_phys)\n",
    "df_total['pneu'] = to_last_record(X_pneu)\n",
    "df_total['heart'] = to_last_record(X_heart)\n",
    "df_total['smoke'] = to_last_record(X_smoke)"
   ]
  },
  {
   "cell_type": "code",
   "execution_count": null,
   "metadata": {
    "ExecuteTime": {
     "end_time": "2020-04-23T07:18:39.444027Z",
     "start_time": "2020-04-23T07:18:39.435176Z"
    },
    "scrolled": false
   },
   "outputs": [],
   "source": [
    "df_total.head()"
   ]
  },
  {
   "cell_type": "markdown",
   "metadata": {},
   "source": [
    "Note that some entries are invalid. This is because the original dataset might not contain some countries at all."
   ]
  },
  {
   "cell_type": "markdown",
   "metadata": {},
   "source": [
    "Given the data we have for each country, let us plot the correlation matrix:"
   ]
  },
  {
   "cell_type": "code",
   "execution_count": null,
   "metadata": {
    "ExecuteTime": {
     "end_time": "2020-04-23T08:26:30.132413Z",
     "start_time": "2020-04-23T08:26:29.954125Z"
    },
    "scrolled": true
   },
   "outputs": [],
   "source": [
    "import matplotlib.pyplot as plt\n",
    "\n",
    "plt.matshow(df_total.corr(), vmin=-1, vmax=1, cmap=\"bwr\")\n",
    "plt.colorbar()\n",
    "plt.xticks(range(df_total.shape[1]), df_total.columns)\n",
    "plt.yticks(range(df_total.shape[1]), df_total.columns)\n",
    "plt.show()"
   ]
  },
  {
   "cell_type": "markdown",
   "metadata": {
    "heading_collapsed": true
   },
   "source": [
    "## Covid-19 cases"
   ]
  },
  {
   "cell_type": "code",
   "execution_count": null,
   "metadata": {
    "ExecuteTime": {
     "end_time": "2020-04-23T13:10:10.255963Z",
     "start_time": "2020-04-23T13:10:10.244086Z"
    },
    "hidden": true,
    "scrolled": true
   },
   "outputs": [],
   "source": [
    "df_covid=pd.read_csv(datadir+'international/covid/our_world_in_data/full_data.csv')\n",
    "df_covid.head()"
   ]
  },
  {
   "cell_type": "code",
   "execution_count": null,
   "metadata": {
    "ExecuteTime": {
     "end_time": "2020-04-23T13:10:20.704500Z",
     "start_time": "2020-04-23T13:10:20.695820Z"
    },
    "hidden": true
   },
   "outputs": [],
   "source": [
    "Y_d=df_covid.pivot(index=\"location\",columns=\"date\",values=\"total_deaths\")\n",
    "Y_i=df_covid.pivot(index=\"location\",columns=\"date\",values=\"total_cases\")"
   ]
  },
  {
   "cell_type": "markdown",
   "metadata": {
    "hidden": true
   },
   "source": [
    "Let's see the top 100 countries with the most confirmed cases:"
   ]
  },
  {
   "cell_type": "code",
   "execution_count": null,
   "metadata": {
    "ExecuteTime": {
     "end_time": "2020-04-23T13:10:25.252392Z",
     "start_time": "2020-04-23T13:10:25.227142Z"
    },
    "hidden": true,
    "scrolled": true
   },
   "outputs": [],
   "source": [
    "Y_i.sort_values(by='2020-04-14').iloc[-100:-1]"
   ]
  },
  {
   "cell_type": "code",
   "execution_count": null,
   "metadata": {
    "ExecuteTime": {
     "end_time": "2020-04-21T22:59:15.072638Z",
     "start_time": "2020-04-21T22:59:14.834767Z"
    },
    "hidden": true,
    "scrolled": false
   },
   "outputs": [],
   "source": [
    "Y_i.sort_values(by='2020-04-14').iloc[-10:-2].T.plot()"
   ]
  },
  {
   "cell_type": "markdown",
   "metadata": {},
   "source": [
    "# SEIR"
   ]
  },
  {
   "cell_type": "markdown",
   "metadata": {},
   "source": [
    "## Fitting parameters"
   ]
  },
  {
   "cell_type": "code",
   "execution_count": null,
   "metadata": {
    "ExecuteTime": {
     "end_time": "2020-05-05T07:19:10.822382Z",
     "start_time": "2020-05-05T07:19:10.817744Z"
    },
    "scrolled": true
   },
   "outputs": [],
   "source": [
    "df_pop = pd.read_csv(datadir + 'us/demographics/county_populations.csv')"
   ]
  },
  {
   "cell_type": "code",
   "execution_count": null,
   "metadata": {
    "ExecuteTime": {
     "end_time": "2020-05-05T07:19:11.162495Z",
     "start_time": "2020-05-05T07:19:11.159511Z"
    }
   },
   "outputs": [],
   "source": [
    "df_pop=df_pop.set_index('FIPS')"
   ]
  },
  {
   "cell_type": "code",
   "execution_count": null,
   "metadata": {
    "ExecuteTime": {
     "end_time": "2020-05-05T07:19:11.851509Z",
     "start_time": "2020-05-05T07:19:11.846449Z"
    }
   },
   "outputs": [],
   "source": [
    "def diff(dat, t,params):\n",
    "    beta = params[0]\n",
    "    delta = params[1]\n",
    "    gamma = params[2]\n",
    "    alpha = params[3]\n",
    "    lambda_ = params[4]\n",
    "    kappa = params[5]\n",
    "    \n",
    "    s = dat[0]\n",
    "    e = dat[1]\n",
    "    i = dat[2]\n",
    "    q = dat[3]\n",
    "    r = dat[4]\n",
    "    d = dat[5]\n",
    "    sa = dat[6]\n",
    "    \n",
    "    dsdt = - beta * s * i - alpha * s\n",
    "    dedt = beta * s * i - gamma * e\n",
    "    didt = gamma * e - lambda_ * i\n",
    "    dqdt = lambda_ * i - delta * q - kappa * q\n",
    "    drdt = delta * q\n",
    "    dddt = kappa * q\n",
    "    dsadt = alpha * s\n",
    "    \n",
    "    # susceptible, exposed, infected, quarantined, recovered, died, unsusceptible\n",
    "    return [dsdt, dedt, didt, dqdt, drdt, dddt, dsadt]"
   ]
  },
  {
   "cell_type": "code",
   "execution_count": null,
   "metadata": {
    "ExecuteTime": {
     "end_time": "2020-05-05T07:19:12.120757Z",
     "start_time": "2020-05-05T07:19:12.067768Z"
    }
   },
   "outputs": [],
   "source": [
    "from scipy.integrate import odeint\n",
    "def model(params, tmax, initial_death=0):\n",
    "    # initial conditions\n",
    "    initial_conditions = np.array(params[-5:]) # the parameters are a fraction of the population so multiply by the population\n",
    "    \n",
    "    # initial conditions\n",
    "    e0 = initial_conditions[0]\n",
    "    i0 = initial_conditions[1]\n",
    "    q0 = initial_conditions[2]\n",
    "    r0 = initial_conditions[3]\n",
    "    sa0 = initial_conditions[4]\n",
    "    \n",
    "    d0 = initial_death\n",
    "    s0 = 1 - np.sum(initial_conditions) - d0\n",
    "\n",
    "    yz_0 = np.array([s0, e0, i0, q0, r0, d0, sa0])\n",
    "    \n",
    "    # Package parameters into a tuple\n",
    "    args = (params,)\n",
    "    \n",
    "    \n",
    "    # Integrate ODEs\n",
    "    s = odeint(diff, yz_0, np.arange(0, tmax), args=args)\n",
    "\n",
    "    return s"
   ]
  },
  {
   "cell_type": "code",
   "execution_count": null,
   "metadata": {
    "ExecuteTime": {
     "end_time": "2020-05-05T07:19:12.473748Z",
     "start_time": "2020-05-05T07:19:12.470404Z"
    }
   },
   "outputs": [],
   "source": [
    "def death_cost(params, Ddata, Idata):\n",
    "    s = model(params, tmax=len(Ddata))\n",
    "    D = s[:,5]\n",
    "    I = s[:,2]\n",
    "    error = np.concatenate((D-Ddata, I - Idata))\n",
    "    return error"
   ]
  },
  {
   "cell_type": "code",
   "execution_count": null,
   "metadata": {
    "ExecuteTime": {
     "end_time": "2020-05-05T07:19:14.322492Z",
     "start_time": "2020-05-05T07:19:14.303884Z"
    }
   },
   "outputs": [],
   "source": [
    "from scipy.optimize import least_squares\n",
    "import numpy as np\n",
    "df = pd.read_csv(datadir + 'us/covid/confirmed_cases.csv')"
   ]
  },
  {
   "cell_type": "code",
   "execution_count": null,
   "metadata": {
    "ExecuteTime": {
     "end_time": "2020-05-05T07:19:14.577656Z",
     "start_time": "2020-05-05T07:19:14.562978Z"
    }
   },
   "outputs": [],
   "source": [
    "df2 = pd.read_csv(datadir + 'us/covid/deaths.csv')"
   ]
  },
  {
   "cell_type": "code",
   "execution_count": null,
   "metadata": {
    "ExecuteTime": {
     "end_time": "2020-05-04T02:49:58.533349Z",
     "start_time": "2020-05-04T02:49:58.529290Z"
    },
    "collapsed": true
   },
   "outputs": [],
   "source": [
    "df.columns"
   ]
  },
  {
   "cell_type": "code",
   "execution_count": null,
   "metadata": {
    "ExecuteTime": {
     "end_time": "2020-05-05T07:03:34.174057Z",
     "start_time": "2020-05-05T07:03:34.170827Z"
    },
    "scrolled": true
   },
   "outputs": [],
   "source": [
    "ind = np.logical_and(df['5/2/20']>100, df2['5/2/20']>10)"
   ]
  },
  {
   "cell_type": "code",
   "execution_count": null,
   "metadata": {
    "ExecuteTime": {
     "end_time": "2020-05-04T06:49:58.865244Z",
     "start_time": "2020-05-04T06:49:58.861539Z"
    },
    "scrolled": true
   },
   "outputs": [],
   "source": [
    "x=df[df['4/23/20']>1000].sample()"
   ]
  },
  {
   "cell_type": "code",
   "execution_count": null,
   "metadata": {
    "ExecuteTime": {
     "end_time": "2020-05-05T02:47:43.708843Z",
     "start_time": "2020-05-05T02:47:43.690010Z"
    }
   },
   "outputs": [],
   "source": [
    "df[ind]"
   ]
  },
  {
   "cell_type": "code",
   "execution_count": null,
   "metadata": {
    "ExecuteTime": {
     "end_time": "2020-05-04T08:56:33.845047Z",
     "start_time": "2020-05-04T08:56:33.841930Z"
    }
   },
   "outputs": [],
   "source": [
    "xs=np.array(x.iloc[:,4:].values.flatten(),dtype=float)"
   ]
  },
  {
   "cell_type": "code",
   "execution_count": null,
   "metadata": {
    "ExecuteTime": {
     "end_time": "2020-05-05T07:19:37.289586Z",
     "start_time": "2020-05-05T07:19:37.287348Z"
    }
   },
   "outputs": [],
   "source": [
    "guesses= [1, 0.3, 0.2, 0.2, 0.2, 0.03, 0.5e-3, 0.5e-3, 0.3e-3, 0.1e-4, 0.5]"
   ]
  },
  {
   "cell_type": "code",
   "execution_count": null,
   "metadata": {
    "ExecuteTime": {
     "end_time": "2020-05-04T07:27:48.580764Z",
     "start_time": "2020-05-04T07:27:48.449554Z"
    }
   },
   "outputs": [],
   "source": [
    "from bokeh.models import Slider\n",
    "slider = Slider(start=1, end=20, value=1, step=1, title=\"Minus days\")"
   ]
  },
  {
   "cell_type": "code",
   "execution_count": null,
   "metadata": {},
   "outputs": [],
   "source": [
    "slider.js_link('value', r.glyph, 'radius')"
   ]
  },
  {
   "cell_type": "code",
   "execution_count": null,
   "metadata": {
    "ExecuteTime": {
     "end_time": "2020-05-04T07:29:42.827130Z",
     "start_time": "2020-05-04T07:29:42.820207Z"
    },
    "scrolled": true
   },
   "outputs": [],
   "source": [
    "from bokeh.plotting import figure, output_file, show\n",
    "p = figure(title=\"Death tolls\", plot_width=300, plot_height=300)\n",
    "res = least_squares(death_cost, guesses, args=(xs[:-ns],))\n",
    "p.line(x=model(res.x,tmax=len(xs))[:,5])\n",
    "p.line(xs)\n",
    "show(p)"
   ]
  },
  {
   "cell_type": "code",
   "execution_count": null,
   "metadata": {
    "ExecuteTime": {
     "end_time": "2020-05-05T07:19:54.533686Z",
     "start_time": "2020-05-05T07:19:54.531033Z"
    }
   },
   "outputs": [],
   "source": [
    "param_ranges = [(0, np.inf)]*6\n",
    "initial_ranges = [(0,1)]*5"
   ]
  },
  {
   "cell_type": "code",
   "execution_count": null,
   "metadata": {
    "ExecuteTime": {
     "end_time": "2020-05-04T09:03:45.568641Z",
     "start_time": "2020-05-04T09:03:45.564148Z"
    }
   },
   "outputs": [],
   "source": [
    "tmp=df.iloc[15,4:]\n",
    "tmp[tmp>0].index[0]"
   ]
  },
  {
   "cell_type": "code",
   "execution_count": null,
   "metadata": {
    "ExecuteTime": {
     "end_time": "2020-05-05T07:19:21.578993Z",
     "start_time": "2020-05-05T07:19:21.575780Z"
    }
   },
   "outputs": [],
   "source": [
    "def get_first_nonzero(s):\n",
    "    tmp = np.nonzero(s.values)[1]\n",
    "    if len(tmp) > 0:\n",
    "        return s.columns[tmp[0]]\n",
    "    else:\n",
    "        return None"
   ]
  },
  {
   "cell_type": "code",
   "execution_count": null,
   "metadata": {
    "ExecuteTime": {
     "end_time": "2020-05-04T09:07:30.519482Z",
     "start_time": "2020-05-04T09:07:30.447615Z"
    }
   },
   "outputs": [],
   "source": [
    "first = []\n",
    "for i in X.index:\n",
    "    first.append(get_first_nonzero(i))"
   ]
  },
  {
   "cell_type": "code",
   "execution_count": null,
   "metadata": {
    "ExecuteTime": {
     "end_time": "2020-05-04T09:10:32.211354Z",
     "start_time": "2020-05-04T09:10:32.208598Z"
    },
    "scrolled": true
   },
   "outputs": [],
   "source": [
    "nth_to_date = {i:df.columns[4+i] for i in range(93)}"
   ]
  },
  {
   "cell_type": "code",
   "execution_count": null,
   "metadata": {
    "ExecuteTime": {
     "end_time": "2020-05-04T09:34:01.592394Z",
     "start_time": "2020-05-04T09:34:01.587153Z"
    }
   },
   "outputs": [],
   "source": [
    "get_first_nonzero(df[df['countyFIPS']==51153].iloc[:,4:])"
   ]
  },
  {
   "cell_type": "code",
   "execution_count": null,
   "metadata": {
    "ExecuteTime": {
     "end_time": "2020-05-04T15:42:47.869488Z",
     "start_time": "2020-05-04T15:42:47.865288Z"
    }
   },
   "outputs": [],
   "source": [
    "x_i = df[df['countyFIPS']==4019]\n",
    "x_d = df2[df2['countyFIPS']==4019]"
   ]
  },
  {
   "cell_type": "code",
   "execution_count": null,
   "metadata": {
    "ExecuteTime": {
     "end_time": "2020-05-04T14:47:58.647629Z",
     "start_time": "2020-05-04T14:47:58.644134Z"
    }
   },
   "outputs": [],
   "source": [
    "x_ds = x_d.loc[:,padding_i:].values.flatten()\n",
    "x_is = x_i.loc[:,padding_i:].values.flatten()"
   ]
  },
  {
   "cell_type": "code",
   "execution_count": null,
   "metadata": {
    "ExecuteTime": {
     "end_time": "2020-05-04T14:50:39.507220Z",
     "start_time": "2020-05-04T14:50:39.502672Z"
    }
   },
   "outputs": [],
   "source": [
    "df.loc[ind,'countyFIPS']"
   ]
  },
  {
   "cell_type": "code",
   "execution_count": null,
   "metadata": {
    "ExecuteTime": {
     "end_time": "2020-05-04T14:55:56.685779Z",
     "start_time": "2020-05-04T14:55:56.682500Z"
    }
   },
   "outputs": [],
   "source": [
    "df_pop = df_pop.set_index('FIPS')"
   ]
  },
  {
   "cell_type": "code",
   "execution_count": null,
   "metadata": {
    "ExecuteTime": {
     "end_time": "2020-05-04T14:56:28.038728Z",
     "start_time": "2020-05-04T14:56:28.032589Z"
    }
   },
   "outputs": [],
   "source": [
    "df_pop"
   ]
  },
  {
   "cell_type": "code",
   "execution_count": null,
   "metadata": {
    "ExecuteTime": {
     "end_time": "2020-05-05T06:52:58.904349Z",
     "start_time": "2020-05-05T06:52:58.895874Z"
    }
   },
   "outputs": [],
   "source": [
    "def predict_selected_county(countyFIPS):\n",
    "    N = df_pop.loc[countyFIPS, 'total_pop']\n",
    "    x_i = df[df['countyFIPS']==countyFIPS]\n",
    "    x_d = df2[df2['countyFIPS']==countyFIPS]\n",
    "    padding_i = 'get_first_nonzero(x_i.iloc[:,4:])'\n",
    "    print(\"First case: {}\".format(padding_i))\n",
    "    padding_d = get_first_nonzero(x_d.iloc[:,4:])\n",
    "    print(\"First death: {}\".format(padding_d))\n",
    "    x_ds = x_d.loc[:,padding_i:].values.flatten()/N\n",
    "    x_is = x_i.loc[:,padding_i:].values.flatten()/N\n",
    "    # print(\"Deaths from date of first death: {}\".format(xs))\n",
    "    plt.figure(figsize=(20,10))\n",
    "    for ns in range(1,20,2):\n",
    "        res = least_squares(death_cost, guesses,\n",
    "                            args=(x_ds[:-ns],x_is[:-ns]),\n",
    "                            bounds=np.transpose(np.array(param_ranges+initial_ranges))\n",
    "                           )\n",
    "        pred = model(res.x,tmax=len(x_is))\n",
    "        plt.plot(pred[:,5]*N,alpha=1-(ns-1)/20,c='r')\n",
    "        plt.plot(pred[:,2]*N,alpha=1-(ns-1)/20,c='b')\n",
    "    plt.plot(x_ds*N,c='r')\n",
    "    plt.plot(x_is*N,c='b')\n",
    "    plt.title(\"Death predictions for {name}, {state}\".format(name=x_i['County Name'].values[0],state=x_i['State'].values[0]))\n",
    "    plt.show()"
   ]
  },
  {
   "cell_type": "code",
   "execution_count": null,
   "metadata": {
    "ExecuteTime": {
     "end_time": "2020-05-05T07:00:09.209373Z",
     "start_time": "2020-05-05T07:00:09.198805Z"
    }
   },
   "outputs": [],
   "source": [
    "def predict_selected_county_scales(countyFIPS):\n",
    "    N = df_pop.loc[countyFIPS, 'total_pop']\n",
    "    x_i = df[df['countyFIPS']==countyFIPS]\n",
    "    x_d = df2[df2['countyFIPS']==countyFIPS]\n",
    "    padding_i = get_first_nonzero(x_i.iloc[:,4:])\n",
    "    print(\"First case: {}\".format(padding_i))\n",
    "    padding_d = get_first_nonzero(x_d.iloc[:,4:])\n",
    "    print(\"First death: {}\".format(padding_d))\n",
    "    x_ds = x_d.loc[:,padding_i:].values.flatten()/N\n",
    "    x_is = x_i.loc[:,padding_i:].values.flatten()/N\n",
    "    # print(\"Deaths from date of first death: {}\".format(xs))\n",
    "    fig, ax1 = plt.subplots(figsize=(20,10))\n",
    "    ax2 = ax1.twinx()\n",
    "    for ns in range(1,20,2):\n",
    "        res = least_squares(death_cost, guesses,\n",
    "                            args=(x_ds[:-ns],x_is[:-ns]),\n",
    "                            bounds=np.transpose(np.array(param_ranges+initial_ranges))\n",
    "                           )\n",
    "        pred = model(res.x,tmax=len(x_is))\n",
    "        ax1.plot(pred[:,5]*N,alpha=1-(ns-1)/20,c='r')\n",
    "        ax2.plot(pred[:,2]*N,alpha=1-(ns-1)/20,c='b')\n",
    "    ax1.plot(x_ds*N,c='r')\n",
    "    ax2.plot(x_is*N,c='b')\n",
    "    ax1.set_ylabel('Total Deaths', c='r')\n",
    "    ax2.set_ylabel('Total Cases', c='b')\n",
    "    plt.title(\"Death/Cases predictions for {name}, {state}\".format(name=x_i['County Name'].values[0],state=x_i['State'].values[0]))\n",
    "    plt.show()"
   ]
  },
  {
   "cell_type": "code",
   "execution_count": null,
   "metadata": {
    "ExecuteTime": {
     "end_time": "2020-05-05T06:59:29.155250Z",
     "start_time": "2020-05-05T06:59:29.145200Z"
    }
   },
   "outputs": [],
   "source": [
    "def predict_selected_county_scales_no_offset(countyFIPS):\n",
    "    N = df_pop.loc[countyFIPS, 'total_pop']\n",
    "    x_i = df[df['countyFIPS']==countyFIPS]\n",
    "    x_d = df2[df2['countyFIPS']==countyFIPS]\n",
    "    padding_i = '1/22/20'\n",
    "    padding_d = '1/22/20'\n",
    "    x_ds = x_d.loc[:,padding_i:].values.flatten()/N\n",
    "    x_is = x_i.loc[:,padding_i:].values.flatten()/N\n",
    "    # print(\"Deaths from date of first death: {}\".format(xs))\n",
    "    fig, ax1 = plt.subplots(figsize=(20,10))\n",
    "    ax2 = ax1.twinx()\n",
    "    for ns in range(1,20,2):\n",
    "        res = least_squares(death_cost, guesses,\n",
    "                            args=(x_ds[:-ns],x_is[:-ns]),\n",
    "                            bounds=np.transpose(np.array(param_ranges+initial_ranges))\n",
    "                           )\n",
    "        pred = model(res.x,tmax=100)\n",
    "        ax1.plot(pred[:,5]*N,alpha=.5-(ns-1)/40,c='r')\n",
    "        ax2.plot(pred[:,2]*N,alpha=.5-(ns-1)/40,c='b')\n",
    "    ax1.plot(x_ds*N,c='r',lw=2)\n",
    "    ax2.plot(x_is*N,c='b',lw=2)\n",
    "    ax1.set_ylabel('Total Deaths', c='r')\n",
    "    ax2.set_ylabel('Total Cases', c='b')\n",
    "    plt.title(\"Death/Cases predictions for {name}, {state}\".format(name=x_i['County Name'].values[0],state=x_i['State'].values[0]))\n",
    "    plt.show()"
   ]
  },
  {
   "cell_type": "code",
   "execution_count": null,
   "metadata": {
    "ExecuteTime": {
     "end_time": "2020-05-05T07:00:21.893597Z",
     "start_time": "2020-05-05T07:00:11.616488Z"
    },
    "scrolled": false
   },
   "outputs": [],
   "source": [
    "predict_selected_county_scales(42079)"
   ]
  },
  {
   "cell_type": "code",
   "execution_count": null,
   "metadata": {
    "ExecuteTime": {
     "end_time": "2020-05-05T07:19:27.662751Z",
     "start_time": "2020-05-05T07:19:27.657412Z"
    }
   },
   "outputs": [],
   "source": [
    "def predict_selected_county_before_window2(countyFIPS, n_days_before):\n",
    "    N = df_pop.loc[countyFIPS, 'total_pop']\n",
    "    x_i = df[df['countyFIPS']==countyFIPS]\n",
    "    x_d = df2[df2['countyFIPS']==countyFIPS]\n",
    "    padding_i = get_first_nonzero(x_i.iloc[:,4:])\n",
    "    padding_d = get_first_nonzero(x_d.iloc[:,4:])\n",
    "    x_ds = x_d.loc[:,padding_i:].values.flatten()/N\n",
    "    x_is = x_i.loc[:,padding_i:].values.flatten()/N\n",
    "    res = least_squares(death_cost, guesses,args=(x_ds[:-n_days_before],x_is[:-n_days_before]),bounds=np.transpose(np.array(param_ranges+initial_ranges)))\n",
    "    return res"
   ]
  },
  {
   "cell_type": "code",
   "execution_count": null,
   "metadata": {
    "ExecuteTime": {
     "end_time": "2020-05-05T07:03:48.517992Z",
     "start_time": "2020-05-05T07:03:48.512765Z"
    },
    "scrolled": true
   },
   "outputs": [],
   "source": [
    "X_correlations = pd.DataFrame(index=df.loc[ind,'countyFIPS'].values)\n",
    "X_correlations.head()"
   ]
  },
  {
   "cell_type": "code",
   "execution_count": null,
   "metadata": {
    "ExecuteTime": {
     "end_time": "2020-05-05T07:21:00.069068Z",
     "start_time": "2020-05-05T07:20:59.637300Z"
    },
    "scrolled": true
   },
   "outputs": [],
   "source": [
    "predict_selected_county_before_window2(6059,1).x"
   ]
  },
  {
   "cell_type": "code",
   "execution_count": null,
   "metadata": {
    "ExecuteTime": {
     "end_time": "2020-05-05T07:05:19.323919Z",
     "start_time": "2020-05-05T07:03:54.473103Z"
    },
    "scrolled": true
   },
   "outputs": [],
   "source": [
    "counter = 0\n",
    "for f in X_correlations.index:\n",
    "    tmp = predict_selected_county_before_window2(f, 1)\n",
    "    for i in range(11):\n",
    "        X_correlations.loc[f, 'param'+str(i)]=tmp.x[i]\n",
    "    # print(counter)\n",
    "    counter += 1"
   ]
  },
  {
   "cell_type": "code",
   "execution_count": null,
   "metadata": {
    "ExecuteTime": {
     "end_time": "2020-05-05T02:50:04.788119Z",
     "start_time": "2020-05-05T02:50:04.784121Z"
    },
    "scrolled": true
   },
   "outputs": [],
   "source": [
    "X_correlations.index"
   ]
  },
  {
   "cell_type": "code",
   "execution_count": null,
   "metadata": {
    "ExecuteTime": {
     "end_time": "2020-05-05T07:05:39.792550Z",
     "start_time": "2020-05-05T07:05:39.778688Z"
    }
   },
   "outputs": [],
   "source": [
    "X_correlations"
   ]
  },
  {
   "cell_type": "code",
   "execution_count": null,
   "metadata": {
    "ExecuteTime": {
     "end_time": "2020-05-05T07:05:39.060326Z",
     "start_time": "2020-05-05T07:05:39.054089Z"
    },
    "run_control": {
     "marked": false
    }
   },
   "outputs": [],
   "source": [
    "X_correlations=X_correlations.dropna()"
   ]
  },
  {
   "cell_type": "markdown",
   "metadata": {},
   "source": [
    "### Check fitting"
   ]
  },
  {
   "cell_type": "code",
   "execution_count": null,
   "metadata": {
    "ExecuteTime": {
     "end_time": "2020-05-04T16:04:29.833490Z",
     "start_time": "2020-05-04T16:04:25.252450Z"
    },
    "scrolled": false
   },
   "outputs": [],
   "source": [
    "predict_selected_county(4013)"
   ]
  },
  {
   "cell_type": "code",
   "execution_count": null,
   "metadata": {
    "ExecuteTime": {
     "end_time": "2020-05-04T16:08:13.733488Z",
     "start_time": "2020-05-04T16:08:13.609178Z"
    },
    "scrolled": true
   },
   "outputs": [],
   "source": [
    "plt.plot(model(X_correlations.loc[4013].values,98)[:,2]*df_pop.loc[4013,'total_pop'])"
   ]
  },
  {
   "cell_type": "code",
   "execution_count": null,
   "metadata": {
    "ExecuteTime": {
     "end_time": "2020-05-04T16:07:35.953568Z",
     "start_time": "2020-05-04T16:07:35.833522Z"
    },
    "scrolled": false
   },
   "outputs": [],
   "source": [
    "plt.plot(df[df['countyFIPS']==4013].loc[:,'1/26/20':].values.flatten())"
   ]
  },
  {
   "cell_type": "markdown",
   "metadata": {},
   "source": [
    "## Correlation plots"
   ]
  },
  {
   "cell_type": "markdown",
   "metadata": {},
   "source": [
    "### Beds"
   ]
  },
  {
   "cell_type": "code",
   "execution_count": null,
   "metadata": {
    "ExecuteTime": {
     "end_time": "2020-05-05T02:50:26.989943Z",
     "start_time": "2020-05-05T02:50:26.982477Z"
    }
   },
   "outputs": [],
   "source": [
    "df_beds = pd.read_csv(datadir + 'us/hospitals/beds_by_county.csv')"
   ]
  },
  {
   "cell_type": "code",
   "execution_count": null,
   "metadata": {
    "ExecuteTime": {
     "end_time": "2020-05-05T02:50:27.795960Z",
     "start_time": "2020-05-05T02:50:27.787353Z"
    }
   },
   "outputs": [],
   "source": [
    "X_bed_tot = pd.merge(X_correlations, df_beds, left_index=True, right_on='FIPS').drop(columns=['state','county','Name']).set_index('FIPS')"
   ]
  },
  {
   "cell_type": "code",
   "execution_count": null,
   "metadata": {
    "ExecuteTime": {
     "end_time": "2020-05-05T02:50:28.799415Z",
     "start_time": "2020-05-05T02:50:28.371741Z"
    }
   },
   "outputs": [],
   "source": [
    "import seaborn as sns"
   ]
  },
  {
   "cell_type": "code",
   "execution_count": null,
   "metadata": {
    "ExecuteTime": {
     "end_time": "2020-05-05T02:50:53.530637Z",
     "start_time": "2020-05-05T02:50:53.519454Z"
    }
   },
   "outputs": [],
   "source": [
    "cmap = sns.diverging_palette(10,\n",
    "                             240,\n",
    "                             #as_cmap=True,\n",
    "                             n=11,\n",
    "                             sep=1)"
   ]
  },
  {
   "cell_type": "code",
   "execution_count": null,
   "metadata": {
    "ExecuteTime": {
     "end_time": "2020-05-05T02:50:54.646784Z",
     "start_time": "2020-05-05T02:50:54.407885Z"
    },
    "scrolled": false
   },
   "outputs": [],
   "source": [
    "sns.heatmap(X_bed_tot.corr(), vmin=-1, vmax=1,cmap=cmap, linewidths=1, square=True)\n",
    "plt.title(\"Correlations between parameters and beds from counties with > 1000 deaths in the last day\")\n",
    "plt.savefig(\"corr_beds.png\")"
   ]
  },
  {
   "cell_type": "code",
   "execution_count": null,
   "metadata": {
    "ExecuteTime": {
     "end_time": "2020-05-05T02:51:03.227739Z",
     "start_time": "2020-05-05T02:51:02.918772Z"
    }
   },
   "outputs": [],
   "source": [
    "#plt.figure(figsize=(30,5))\n",
    "ax = sns.heatmap(X_bed_tot.corr().loc[:'param10', 'staffed_beds':], vmin=-1, vmax=1,cmap=cmap, linewidths=1, square=True)\n",
    "locs, labels = plt.yticks()\n",
    "plt.yticks(locs, [r\"$\\beta$\",\n",
    "                  r\"$\\delta$\",\n",
    "                  r\"$\\gamma$\",\n",
    "                  r\"$\\alpha$\",\n",
    "                  r\"$\\lambda$\",\n",
    "                  r\"$\\kappa$\",\n",
    "                  r\"$E(t=0)$\",r\"$I(t=0)$\",r\"$Q(t=0)$\",\n",
    "                  r\"$R(t=0)$\",r\"$S_A(t=0)$\"]\n",
    "          )\n",
    "plt.title(\"Correlations between parameters and beds with > 1000 deaths in the last day\")\n",
    "plt.savefig(\"corr_beds.png\")"
   ]
  },
  {
   "cell_type": "markdown",
   "metadata": {},
   "source": [
    "### Mobility"
   ]
  },
  {
   "cell_type": "code",
   "execution_count": null,
   "metadata": {
    "ExecuteTime": {
     "end_time": "2020-05-05T02:51:08.333775Z",
     "start_time": "2020-05-05T02:51:08.315936Z"
    }
   },
   "outputs": [],
   "source": [
    "df_mob = pd.read_csv(datadir + 'us/mobility/DL-us-m50.csv')"
   ]
  },
  {
   "cell_type": "code",
   "execution_count": null,
   "metadata": {
    "ExecuteTime": {
     "end_time": "2020-05-05T02:51:10.497180Z",
     "start_time": "2020-05-05T02:51:10.472776Z"
    },
    "scrolled": true
   },
   "outputs": [],
   "source": [
    "df_mob_ind = pd.read_csv(datadir + 'us/mobility/DL-us-m50_index.csv')\n",
    "df_mob_ind.head()"
   ]
  },
  {
   "cell_type": "code",
   "execution_count": null,
   "metadata": {
    "ExecuteTime": {
     "end_time": "2020-05-05T02:51:26.328613Z",
     "start_time": "2020-05-05T02:51:26.314478Z"
    }
   },
   "outputs": [],
   "source": [
    "df_mob_ind['mean1']=np.mean(df_mob_ind[df_mob_ind.columns[5:15]],axis=1)\n",
    "df_mob_ind['mean2']=np.mean(df_mob_ind[df_mob_ind.columns[15:25]],axis=1)\n",
    "df_mob_ind['mean3']=np.mean(df_mob_ind[df_mob_ind.columns[25:35]],axis=1)\n",
    "df_mob_ind['mean4']=np.mean(df_mob_ind[df_mob_ind.columns[35:45]],axis=1)"
   ]
  },
  {
   "cell_type": "code",
   "execution_count": null,
   "metadata": {
    "ExecuteTime": {
     "end_time": "2020-05-05T02:51:40.180039Z",
     "start_time": "2020-05-05T02:51:40.165366Z"
    }
   },
   "outputs": [],
   "source": [
    "df_mob_ind.head()"
   ]
  },
  {
   "cell_type": "code",
   "execution_count": null,
   "metadata": {
    "ExecuteTime": {
     "end_time": "2020-05-05T02:51:38.635366Z",
     "start_time": "2020-05-05T02:51:38.629400Z"
    },
    "scrolled": true
   },
   "outputs": [],
   "source": [
    "df_mob_ind['mean5']=np.mean(df_mob_ind[df_mob_ind.columns[45:-5]],axis=1)"
   ]
  },
  {
   "cell_type": "code",
   "execution_count": null,
   "metadata": {
    "ExecuteTime": {
     "end_time": "2020-05-04T10:52:03.600362Z",
     "start_time": "2020-05-04T10:52:03.595330Z"
    }
   },
   "outputs": [],
   "source": [
    "df_mob['fips'].dropna().astype(int)"
   ]
  },
  {
   "cell_type": "code",
   "execution_count": null,
   "metadata": {
    "ExecuteTime": {
     "end_time": "2020-05-04T11:05:03.434015Z",
     "start_time": "2020-05-04T11:05:03.429757Z"
    }
   },
   "outputs": [],
   "source": [
    "df_mob_ind=df_mob_ind.dropna(subset=['fips'])"
   ]
  },
  {
   "cell_type": "code",
   "execution_count": null,
   "metadata": {
    "ExecuteTime": {
     "end_time": "2020-05-05T02:52:43.314788Z",
     "start_time": "2020-05-05T02:52:43.310227Z"
    }
   },
   "outputs": [],
   "source": [
    "df_mob_ind['FIPS'] = df_mob_ind['fips'].dropna().astype(int)"
   ]
  },
  {
   "cell_type": "code",
   "execution_count": null,
   "metadata": {
    "ExecuteTime": {
     "end_time": "2020-05-05T02:52:34.988801Z",
     "start_time": "2020-05-05T02:52:34.969420Z"
    },
    "scrolled": false
   },
   "outputs": [],
   "source": [
    "df_mob_ind"
   ]
  },
  {
   "cell_type": "code",
   "execution_count": null,
   "metadata": {
    "ExecuteTime": {
     "end_time": "2020-05-05T02:52:45.065511Z",
     "start_time": "2020-05-05T02:52:45.061202Z"
    }
   },
   "outputs": [],
   "source": [
    "df_mob_ind2=pd.DataFrame(df_mob_ind[['FIPS', 'mean1', 'mean2', 'mean3', 'mean4', 'mean5']])"
   ]
  },
  {
   "cell_type": "code",
   "execution_count": null,
   "metadata": {
    "ExecuteTime": {
     "end_time": "2020-05-04T15:16:38.532329Z",
     "start_time": "2020-05-04T15:16:38.527999Z"
    },
    "scrolled": false
   },
   "outputs": [],
   "source": [
    "X_mobind_tot=pd.merge(df_mob2, X_correlations,left_on='FIPS', right_index=True).set_index('FIPS')"
   ]
  },
  {
   "cell_type": "code",
   "execution_count": null,
   "metadata": {
    "ExecuteTime": {
     "end_time": "2020-05-04T15:16:43.106903Z",
     "start_time": "2020-05-04T15:16:42.839533Z"
    },
    "scrolled": false
   },
   "outputs": [],
   "source": [
    "sns.heatmap(X_mobind_tot.corr(), vmin=-1, vmax=1,cmap=cmap, linewidths=1, square=True)\n",
    "plt.title(\"Correlations between parameters and mean mobility from counties with > 1000 deaths in the last day\")\n",
    "plt.savefig(\"corr_mob.png\")"
   ]
  },
  {
   "cell_type": "code",
   "execution_count": null,
   "metadata": {
    "ExecuteTime": {
     "end_time": "2020-05-05T02:52:48.287555Z",
     "start_time": "2020-05-05T02:52:48.282473Z"
    },
    "scrolled": false
   },
   "outputs": [],
   "source": [
    "X_mobind_tot=pd.merge(df_mob_ind2, X_correlations,left_on='FIPS', right_index=True).set_index('FIPS')"
   ]
  },
  {
   "cell_type": "code",
   "execution_count": null,
   "metadata": {
    "ExecuteTime": {
     "end_time": "2020-05-05T02:52:49.728789Z",
     "start_time": "2020-05-05T02:52:49.513538Z"
    },
    "scrolled": false
   },
   "outputs": [],
   "source": [
    "sns.heatmap(X_mobind_tot.corr(), vmin=-1, vmax=1,cmap=cmap, linewidths=1, square=True)\n",
    "\n",
    "plt.title(\"Correlations between parameters and mean mobility index from counties with > 1000 deaths in the last day\")\n",
    "plt.savefig(\"corr_mob.png\")"
   ]
  },
  {
   "cell_type": "code",
   "execution_count": null,
   "metadata": {
    "ExecuteTime": {
     "end_time": "2020-05-05T02:52:52.105655Z",
     "start_time": "2020-05-05T02:52:51.908385Z"
    }
   },
   "outputs": [],
   "source": [
    "sns.heatmap(X_mobind_tot.corr().loc['param0':, :'mean5'], vmin=-1, vmax=1,cmap=cmap, linewidths=1, square=True)\n",
    "locs, labels = plt.yticks()\n",
    "plt.yticks(locs, [r\"$\\beta$\",\n",
    "                  r\"$\\delta$\",\n",
    "                  r\"$\\gamma$\",\n",
    "                  r\"$\\alpha$\",\n",
    "                  r\"$\\lambda$\",\n",
    "                  r\"$\\kappa$\",\n",
    "                  r\"$E(t=0)$\",r\"$I(t=0)$\",r\"$Q(t=0)$\",\n",
    "                  r\"$R(t=0)$\",r\"$S_A(t=0)$\"]\n",
    "          )\n",
    "plt.title(\"Correlations between parameters and mean mobility index from counties with > 1000 deaths in the last day\")\n",
    "plt.savefig(\"corr_mob.png\")"
   ]
  },
  {
   "cell_type": "code",
   "execution_count": null,
   "metadata": {
    "ExecuteTime": {
     "end_time": "2020-05-04T11:14:34.584036Z",
     "start_time": "2020-05-04T11:14:34.580840Z"
    },
    "collapsed": true
   },
   "outputs": [],
   "source": [
    "df_mob_ind.columns[-7]"
   ]
  },
  {
   "cell_type": "code",
   "execution_count": null,
   "metadata": {
    "ExecuteTime": {
     "end_time": "2020-05-05T02:53:07.376191Z",
     "start_time": "2020-05-05T02:53:06.944800Z"
    },
    "scrolled": false
   },
   "outputs": [],
   "source": [
    "plt.figure(figsize=(20,10))\n",
    "sns.distplot(np.clip(df_mob_ind2['mean1'],0,200),bins=20)\n",
    "sns.distplot(np.clip(df_mob_ind2['mean2'],0,200),bins=20)\n",
    "sns.distplot(np.clip(df_mob_ind2['mean3'],0,200),bins=20)\n",
    "sns.distplot(np.clip(df_mob_ind2['mean4'],0,200),bins=20)\n",
    "sns.distplot(np.clip(df_mob_ind2['mean5'],0,200),bins=20)\n",
    "plt.legend(('2020-03-01'+'~'+'2020-03-10','2020-03-11'+'~'+'2020-03-20','2020-03-21'+'~'+'2020-03-30','2020-03-31'+'~'+'2020-04-10','2020-04-11'+'~'+'2020-04-21'))\n",
    "plt.title('Changes in mobility')\n",
    "plt.savefig('mobility_changes.png')"
   ]
  },
  {
   "cell_type": "markdown",
   "metadata": {},
   "source": [
    "### Berkeley Aggregate"
   ]
  },
  {
   "cell_type": "code",
   "execution_count": null,
   "metadata": {
    "ExecuteTime": {
     "end_time": "2020-05-05T02:53:18.338807Z",
     "start_time": "2020-05-05T02:53:18.308957Z"
    },
    "scrolled": false
   },
   "outputs": [],
   "source": [
    "df_berkeley = pd.read_csv(datadir + 'us/aggregate_berkeley.csv').set_index('Unnamed: 0').reset_index(drop=True)\n",
    "df_berkeley.head()"
   ]
  },
  {
   "cell_type": "code",
   "execution_count": null,
   "metadata": {
    "ExecuteTime": {
     "end_time": "2020-05-04T11:51:45.957187Z",
     "start_time": "2020-05-04T11:51:45.954012Z"
    },
    "scrolled": true
   },
   "outputs": [],
   "source": [
    "df_berkeley.columns"
   ]
  },
  {
   "cell_type": "code",
   "execution_count": null,
   "metadata": {
    "ExecuteTime": {
     "end_time": "2020-05-05T02:53:21.760148Z",
     "start_time": "2020-05-05T02:53:21.751089Z"
    }
   },
   "outputs": [],
   "source": [
    "for keys in ['PopMale<52010',\n",
    "       'PopFmle<52010', 'PopMale5-92010', 'PopFmle5-92010', 'PopMale10-142010',\n",
    "       'PopFmle10-142010', 'PopMale15-192010', 'PopFmle15-192010',\n",
    "       'PopMale20-242010', 'PopFmle20-242010', 'PopMale25-292010',\n",
    "       'PopFmle25-292010', 'PopMale30-342010', 'PopFmle30-342010',\n",
    "       'PopMale35-442010', 'PopFmle35-442010', 'PopMale45-542010',\n",
    "       'PopFmle45-542010', 'PopMale55-592010', 'PopFmle55-592010',\n",
    "       'PopMale60-642010', 'PopFmle60-642010', 'PopMale65-742010',\n",
    "       'PopFmle65-742010', 'PopMale75-842010', 'PopFmle75-842010',\n",
    "       'PopMale>842010', 'PopFmle>842010']:\n",
    "    df_berkeley[keys] = df_berkeley[keys]/df_berkeley['PopulationEstimate2018']"
   ]
  },
  {
   "cell_type": "code",
   "execution_count": null,
   "metadata": {
    "ExecuteTime": {
     "end_time": "2020-05-05T02:53:22.139189Z",
     "start_time": "2020-05-05T02:53:22.133764Z"
    }
   },
   "outputs": [],
   "source": [
    "for keys in ['3-YrMortalityAge<1Year2015-17',\n",
    "       '3-YrMortalityAge1-4Years2015-17', '3-YrMortalityAge5-14Years2015-17',\n",
    "       '3-YrMortalityAge15-24Years2015-17',\n",
    "       '3-YrMortalityAge25-34Years2015-17',\n",
    "       '3-YrMortalityAge35-44Years2015-17',\n",
    "       '3-YrMortalityAge45-54Years2015-17',\n",
    "       '3-YrMortalityAge55-64Years2015-17',\n",
    "       '3-YrMortalityAge65-74Years2015-17',\n",
    "       '3-YrMortalityAge75-84Years2015-17', '3-YrMortalityAge85+Years2015-17',\n",
    "       'mortality2015-17Estimated']:\n",
    "    df_berkeley[keys] = df_berkeley[keys]/df_berkeley['Population(Persons)2017']"
   ]
  },
  {
   "cell_type": "code",
   "execution_count": null,
   "metadata": {
    "ExecuteTime": {
     "end_time": "2020-05-05T02:53:24.337920Z",
     "start_time": "2020-05-05T02:53:24.329935Z"
    }
   },
   "outputs": [],
   "source": [
    "X_berkeley_tot = pd.merge(X_correlations, df_berkeley, left_index=True, right_on='countyFIPS').drop(columns=['State', 'County']).set_index('countyFIPS')"
   ]
  },
  {
   "cell_type": "markdown",
   "metadata": {},
   "source": [
    "0. $\\beta\\quad(S\\times I\\to E)$\n",
    "1. $\\delta\\quad(Q\\to R)$\n",
    "2. $\\gamma\\quad(E\\to I)$\n",
    "3. $\\alpha\\quad(S\\to S_A)$\n",
    "4. $\\lambda\\quad(I\\to Q)$\n",
    "5. $\\kappa\\quad(Q\\to D)$\n",
    "6. $E(t=0)$\n",
    "7. $I(t=0)$\n",
    "8. $Q(t=0)$\n",
    "9. $R(t=0)$\n",
    "10. $S_A(t=0)$\n"
   ]
  },
  {
   "cell_type": "code",
   "execution_count": null,
   "metadata": {
    "ExecuteTime": {
     "end_time": "2020-05-05T02:53:26.758050Z",
     "start_time": "2020-05-05T02:53:25.880791Z"
    },
    "run_control": {
     "marked": false
    },
    "scrolled": false
   },
   "outputs": [],
   "source": [
    "plt.figure(figsize=(30,5))\n",
    "ax = sns.heatmap(X_berkeley_tot.corr().loc[:'param10', 'PopulationEstimate2018':], vmin=-1, vmax=1,cmap=cmap, linewidths=1, square=True)\n",
    "locs, labels = plt.yticks()\n",
    "plt.yticks(locs, [r\"$\\beta$\",\n",
    "                  r\"$\\delta$\",\n",
    "                  r\"$\\gamma$\",\n",
    "                  r\"$\\alpha$\",\n",
    "                  r\"$\\lambda$\",\n",
    "                  r\"$\\kappa$\",\n",
    "                  r\"$E(t=0)$\",r\"$I(t=0)$\",r\"$Q(t=0)$\",\n",
    "                  r\"$R(t=0)$\",r\"$S_A(t=0)$\"]\n",
    "          )\n",
    "plt.title(\"Correlations between parameters and berkeley aggregates with > 1000 deaths in the last day\")\n",
    "plt.savefig(\"corr_berkeley_zoomin_discrete.png\")"
   ]
  },
  {
   "cell_type": "code",
   "execution_count": null,
   "metadata": {
    "ExecuteTime": {
     "end_time": "2020-05-04T15:17:51.796577Z",
     "start_time": "2020-05-04T15:17:48.747160Z"
    },
    "scrolled": false
   },
   "outputs": [],
   "source": [
    "plt.figure(figsize=(25,20))\n",
    "sns.heatmap(X_berkeley_tot.corr(), vmin=-1, vmax=1,cmap=cmap, linewidths=1, square=True)\n",
    "plt.title(\"Correlations between parameters and berkeley aggregates with > 1000 deaths in the last day\")\n",
    "plt.savefig(\"corr_berkeley.png\")"
   ]
  },
  {
   "cell_type": "markdown",
   "metadata": {},
   "source": [
    "# Regression on SEIR parameters"
   ]
  },
  {
   "cell_type": "markdown",
   "metadata": {},
   "source": [
    "## Model exploration"
   ]
  },
  {
   "cell_type": "code",
   "execution_count": null,
   "metadata": {
    "ExecuteTime": {
     "end_time": "2020-05-04T13:36:44.101244Z",
     "start_time": "2020-05-04T13:36:44.072704Z"
    }
   },
   "outputs": [],
   "source": [
    "from sklearn.inspection import permutation_importance"
   ]
  },
  {
   "cell_type": "code",
   "execution_count": null,
   "metadata": {
    "ExecuteTime": {
     "end_time": "2020-05-04T13:34:42.987712Z",
     "start_time": "2020-05-04T13:34:42.985444Z"
    }
   },
   "outputs": [],
   "source": [
    "from sklearn.ensemble import RandomForestRegressor, GradientBoostingRegressor, AdaBoostRegressor\n",
    "from sklearn.linear_model import LinearRegression, Ridge, BayesianRidge"
   ]
  },
  {
   "cell_type": "code",
   "execution_count": null,
   "metadata": {
    "ExecuteTime": {
     "end_time": "2020-05-05T07:02:46.136214Z",
     "start_time": "2020-05-05T07:02:46.128792Z"
    },
    "scrolled": true
   },
   "outputs": [],
   "source": [
    "X_bed_tot"
   ]
  },
  {
   "cell_type": "code",
   "execution_count": null,
   "metadata": {
    "ExecuteTime": {
     "end_time": "2020-05-05T07:02:50.465587Z",
     "start_time": "2020-05-05T07:02:50.460176Z"
    }
   },
   "outputs": [],
   "source": [
    "X_tot"
   ]
  },
  {
   "cell_type": "code",
   "execution_count": null,
   "metadata": {
    "ExecuteTime": {
     "end_time": "2020-05-04T16:11:16.073316Z",
     "start_time": "2020-05-04T16:11:16.069880Z"
    }
   },
   "outputs": [],
   "source": [
    "rf_Y = X_bed_tot.loc[:,'param4'].reset_index(drop=True)\n",
    "rf_X = X_bed_tot.loc[:,'staffed_beds':].reset_index(drop=True)"
   ]
  },
  {
   "cell_type": "code",
   "execution_count": null,
   "metadata": {
    "ExecuteTime": {
     "end_time": "2020-05-04T16:11:16.979756Z",
     "start_time": "2020-05-04T16:11:16.977714Z"
    }
   },
   "outputs": [],
   "source": [
    "# rf_Y = df.loc[rf_X.index,'5/2/20']"
   ]
  },
  {
   "cell_type": "code",
   "execution_count": null,
   "metadata": {
    "ExecuteTime": {
     "end_time": "2020-05-04T16:11:24.496093Z",
     "start_time": "2020-05-04T16:11:24.492104Z"
    }
   },
   "outputs": [],
   "source": [
    "from sklearn.model_selection import KFold\n",
    "def cv_estimate(n_splits=None):\n",
    "    cv = KFold(n_splits=n_splits)\n",
    "    cv_clf = LinearRegression()\n",
    "    for train, test in cv.split(rf_X, rf_Y):\n",
    "        cv_clf.fit(rf_X.iloc[train], rf_Y.iloc[train])\n",
    "        print(cv_clf.score(rf_X.iloc[test], rf_Y.iloc[test]))\n",
    "    return None"
   ]
  },
  {
   "cell_type": "code",
   "execution_count": null,
   "metadata": {
    "ExecuteTime": {
     "end_time": "2020-05-04T16:11:33.263722Z",
     "start_time": "2020-05-04T16:11:33.255496Z"
    },
    "scrolled": false
   },
   "outputs": [],
   "source": [
    "cv_estimate(3)"
   ]
  },
  {
   "cell_type": "markdown",
   "metadata": {
    "ExecuteTime": {
     "end_time": "2020-05-04T16:11:44.933747Z",
     "start_time": "2020-05-04T16:11:44.929624Z"
    }
   },
   "source": [
    "## Hyperparameter tuning"
   ]
  },
  {
   "cell_type": "code",
   "execution_count": null,
   "metadata": {
    "ExecuteTime": {
     "end_time": "2020-05-04T15:24:06.656984Z",
     "start_time": "2020-05-04T15:24:06.654640Z"
    }
   },
   "outputs": [],
   "source": [
    "from sklearn.model_selection import GridSearchCV"
   ]
  },
  {
   "cell_type": "code",
   "execution_count": null,
   "metadata": {
    "ExecuteTime": {
     "end_time": "2020-05-04T15:24:10.303232Z",
     "start_time": "2020-05-04T15:24:08.469390Z"
    }
   },
   "outputs": [],
   "source": [
    "clf = GridSearchCV(rfc, {'max_depth': [10, 20], 'min_impurity_decrease': [0.05, 0.1]})\n",
    "clf.fit(rf_X,rf_Y)"
   ]
  },
  {
   "cell_type": "code",
   "execution_count": null,
   "metadata": {
    "ExecuteTime": {
     "end_time": "2020-05-04T15:24:10.973387Z",
     "start_time": "2020-05-04T15:24:10.968164Z"
    },
    "scrolled": true
   },
   "outputs": [],
   "source": [
    "clf.cv_results_"
   ]
  },
  {
   "cell_type": "markdown",
   "metadata": {},
   "source": [
    "## Permutation importance"
   ]
  },
  {
   "cell_type": "code",
   "execution_count": null,
   "metadata": {
    "ExecuteTime": {
     "end_time": "2020-05-04T16:11:44.933747Z",
     "start_time": "2020-05-04T16:11:44.929624Z"
    }
   },
   "outputs": [],
   "source": [
    "from sklearn.model_selection import train_test_split\n",
    "X_train, X_test, y_train, y_test = train_test_split(rf_X, rf_Y, test_size=0.33, random_state=42)"
   ]
  },
  {
   "cell_type": "code",
   "execution_count": null,
   "metadata": {
    "ExecuteTime": {
     "end_time": "2020-05-04T16:13:05.973153Z",
     "start_time": "2020-05-04T16:13:05.705453Z"
    },
    "run_control": {
     "marked": false
    }
   },
   "outputs": [],
   "source": [
    "reg = LinearRegression()\n",
    "reg.fit(X_train,y_train)\n",
    "result = permutation_importance(reg, X_test, y_test, random_state=10, n_repeats=15, n_jobs=8)"
   ]
  },
  {
   "cell_type": "code",
   "execution_count": null,
   "metadata": {
    "ExecuteTime": {
     "end_time": "2020-05-04T16:13:06.679955Z",
     "start_time": "2020-05-04T16:13:06.492575Z"
    }
   },
   "outputs": [],
   "source": [
    "sorted_idx = result.importances_mean.argsort()[:10]\n",
    "fig, ax = plt.subplots()\n",
    "fig.set_size_inches(11,8)\n",
    "ax.boxplot(result.importances[sorted_idx].T,\n",
    "           vert=False, labels=X_test.columns[sorted_idx])\n",
    "ax.set_title(\"Permutation Importances (test set)\")\n",
    "fig.tight_layout()\n",
    "plt.show()"
   ]
  },
  {
   "cell_type": "markdown",
   "metadata": {
    "ExecuteTime": {
     "end_time": "2020-05-04T13:55:57.172558Z",
     "start_time": "2020-05-04T13:55:57.170588Z"
    }
   },
   "source": [
    "## Partial dependency plot"
   ]
  },
  {
   "cell_type": "code",
   "execution_count": null,
   "metadata": {
    "ExecuteTime": {
     "end_time": "2020-05-04T15:52:24.986074Z",
     "start_time": "2020-05-04T15:52:24.983886Z"
    }
   },
   "outputs": [],
   "source": [
    "from sklearn.inspection import plot_partial_dependence"
   ]
  },
  {
   "cell_type": "code",
   "execution_count": null,
   "metadata": {
    "ExecuteTime": {
     "end_time": "2020-05-04T15:52:29.033606Z",
     "start_time": "2020-05-04T15:52:29.030509Z"
    }
   },
   "outputs": [],
   "source": [
    "X_bed_tot.columns"
   ]
  },
  {
   "cell_type": "code",
   "execution_count": null,
   "metadata": {
    "ExecuteTime": {
     "end_time": "2020-05-04T16:13:15.037493Z",
     "start_time": "2020-05-04T16:13:14.370260Z"
    }
   },
   "outputs": [],
   "source": [
    "plot_partial_dependence(reg, X_train, [sorted_idx[0]])\n",
    "plot_partial_dependence(reg, X_train, [sorted_idx[1]])\n",
    "plot_partial_dependence(reg, X_train, [sorted_idx[2]])"
   ]
  },
  {
   "cell_type": "code",
   "execution_count": null,
   "metadata": {
    "ExecuteTime": {
     "end_time": "2020-05-04T16:13:20.919209Z",
     "start_time": "2020-05-04T16:13:17.633942Z"
    },
    "scrolled": false
   },
   "outputs": [],
   "source": [
    "fig = plt.figure(figsize=(20,10))\n",
    "plot_partial_dependence(reg, X_train,[(sorted_idx[0],sorted_idx[1])])\n",
    "plt.show()"
   ]
  },
  {
   "cell_type": "markdown",
   "metadata": {},
   "source": [
    "## SHAP"
   ]
  },
  {
   "cell_type": "code",
   "execution_count": null,
   "metadata": {},
   "outputs": [],
   "source": []
  }
 ],
 "metadata": {
  "celltoolbar": "Initialization Cell",
  "kernelspec": {
   "display_name": "Python 3",
   "language": "python",
   "name": "python3"
  },
  "language_info": {
   "codemirror_mode": {
    "name": "ipython",
    "version": 3
   },
   "file_extension": ".py",
   "mimetype": "text/x-python",
   "name": "python",
   "nbconvert_exporter": "python",
   "pygments_lexer": "ipython3",
   "version": "3.8.2"
  },
  "toc": {
   "base_numbering": 1,
   "nav_menu": {},
   "number_sections": true,
   "sideBar": true,
   "skip_h1_title": false,
   "title_cell": "Table of Contents",
   "title_sidebar": "Contents",
   "toc_cell": false,
   "toc_position": {
    "height": "calc(100% - 180px)",
    "left": "10px",
    "top": "150px",
    "width": "248px"
   },
   "toc_section_display": true,
   "toc_window_display": true
  },
  "varInspector": {
   "cols": {
    "lenName": 16,
    "lenType": 16,
    "lenVar": 40
   },
   "kernels_config": {
    "python": {
     "delete_cmd_postfix": "",
     "delete_cmd_prefix": "del ",
     "library": "var_list.py",
     "varRefreshCmd": "print(var_dic_list())"
    },
    "r": {
     "delete_cmd_postfix": ") ",
     "delete_cmd_prefix": "rm(",
     "library": "var_list.r",
     "varRefreshCmd": "cat(var_dic_list()) "
    }
   },
   "position": {
    "height": "844.85px",
    "left": "1549px",
    "right": "20px",
    "top": "120px",
    "width": "351px"
   },
   "types_to_exclude": [
    "module",
    "function",
    "builtin_function_or_method",
    "instance",
    "_Feature"
   ],
   "window_display": false
  }
 },
 "nbformat": 4,
 "nbformat_minor": 4
}
