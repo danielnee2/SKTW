{
 "cells": [
  {
   "cell_type": "markdown",
   "metadata": {
    "pycharm": {
     "name": "#%% md\n"
    }
   },
   "source": [
    "Required packages: pandas, numpy, bokeh\n",
    "\n",
    "Additional notes: bokeh.sampledata requires downloading"
   ]
  },
  {
   "cell_type": "code",
   "execution_count": 1,
   "metadata": {
    "ExecuteTime": {
     "end_time": "2020-05-04T02:43:11.458148Z",
     "start_time": "2020-05-04T02:43:11.412329Z"
    },
    "pycharm": {
     "name": "#%%\n"
    }
   },
   "outputs": [],
   "source": [
    "import git\n",
    "repo = git.Repo(\"./\", search_parent_directories=True)\n",
    "homedir = repo.working_dir\n",
    "datadir = f\"{homedir}/data/\""
   ]
  },
  {
   "cell_type": "markdown",
   "metadata": {
    "ExecuteTime": {
     "end_time": "2020-04-09T22:46:54.768037Z",
     "start_time": "2020-04-09T22:46:54.760891Z"
    },
    "heading_collapsed": true,
    "pycharm": {
     "name": "#%% md\n"
    }
   },
   "source": [
    "# MTA turnstile data from http://web.mta.info/developers/turnstile.html"
   ]
  },
  {
   "cell_type": "code",
   "execution_count": 3,
   "metadata": {
    "ExecuteTime": {
     "end_time": "2020-04-14T19:49:23.943799Z",
     "start_time": "2020-04-14T19:49:23.522231Z"
    },
    "hidden": true
   },
   "outputs": [],
   "source": [
    "import pandas as pd\n",
    "df = pd.read_csv(datadir + 'us/mta/turnstile_200404.txt')"
   ]
  },
  {
   "cell_type": "code",
   "execution_count": 5,
   "metadata": {
    "ExecuteTime": {
     "end_time": "2020-04-14T19:49:25.560279Z",
     "start_time": "2020-04-14T19:49:25.518009Z"
    },
    "hidden": true
   },
   "outputs": [
    {
     "data": {
      "text/html": [
       "<div>\n",
       "<style scoped>\n",
       "    .dataframe tbody tr th:only-of-type {\n",
       "        vertical-align: middle;\n",
       "    }\n",
       "\n",
       "    .dataframe tbody tr th {\n",
       "        vertical-align: top;\n",
       "    }\n",
       "\n",
       "    .dataframe thead th {\n",
       "        text-align: right;\n",
       "    }\n",
       "</style>\n",
       "<table border=\"1\" class=\"dataframe\">\n",
       "  <thead>\n",
       "    <tr style=\"text-align: right;\">\n",
       "      <th></th>\n",
       "      <th>C/A</th>\n",
       "      <th>UNIT</th>\n",
       "      <th>SCP</th>\n",
       "      <th>STATION</th>\n",
       "      <th>LINENAME</th>\n",
       "      <th>DIVISION</th>\n",
       "      <th>DATE</th>\n",
       "      <th>TIME</th>\n",
       "      <th>DESC</th>\n",
       "      <th>ENTRIES</th>\n",
       "      <th>EXITS</th>\n",
       "    </tr>\n",
       "  </thead>\n",
       "  <tbody>\n",
       "    <tr>\n",
       "      <th>0</th>\n",
       "      <td>A002</td>\n",
       "      <td>R051</td>\n",
       "      <td>02-00-00</td>\n",
       "      <td>59 ST</td>\n",
       "      <td>NQR456W</td>\n",
       "      <td>BMT</td>\n",
       "      <td>03/28/2020</td>\n",
       "      <td>00:00:00</td>\n",
       "      <td>REGULAR</td>\n",
       "      <td>7412829</td>\n",
       "      <td>2516511</td>\n",
       "    </tr>\n",
       "    <tr>\n",
       "      <th>1</th>\n",
       "      <td>A002</td>\n",
       "      <td>R051</td>\n",
       "      <td>02-00-00</td>\n",
       "      <td>59 ST</td>\n",
       "      <td>NQR456W</td>\n",
       "      <td>BMT</td>\n",
       "      <td>03/28/2020</td>\n",
       "      <td>04:00:00</td>\n",
       "      <td>REGULAR</td>\n",
       "      <td>7412831</td>\n",
       "      <td>2516512</td>\n",
       "    </tr>\n",
       "    <tr>\n",
       "      <th>2</th>\n",
       "      <td>A002</td>\n",
       "      <td>R051</td>\n",
       "      <td>02-00-00</td>\n",
       "      <td>59 ST</td>\n",
       "      <td>NQR456W</td>\n",
       "      <td>BMT</td>\n",
       "      <td>03/28/2020</td>\n",
       "      <td>08:00:00</td>\n",
       "      <td>REGULAR</td>\n",
       "      <td>7412837</td>\n",
       "      <td>2516526</td>\n",
       "    </tr>\n",
       "    <tr>\n",
       "      <th>3</th>\n",
       "      <td>A002</td>\n",
       "      <td>R051</td>\n",
       "      <td>02-00-00</td>\n",
       "      <td>59 ST</td>\n",
       "      <td>NQR456W</td>\n",
       "      <td>BMT</td>\n",
       "      <td>03/28/2020</td>\n",
       "      <td>12:00:00</td>\n",
       "      <td>REGULAR</td>\n",
       "      <td>7412849</td>\n",
       "      <td>2516538</td>\n",
       "    </tr>\n",
       "    <tr>\n",
       "      <th>4</th>\n",
       "      <td>A002</td>\n",
       "      <td>R051</td>\n",
       "      <td>02-00-00</td>\n",
       "      <td>59 ST</td>\n",
       "      <td>NQR456W</td>\n",
       "      <td>BMT</td>\n",
       "      <td>03/28/2020</td>\n",
       "      <td>16:00:00</td>\n",
       "      <td>REGULAR</td>\n",
       "      <td>7412880</td>\n",
       "      <td>2516555</td>\n",
       "    </tr>\n",
       "  </tbody>\n",
       "</table>\n",
       "</div>"
      ],
      "text/plain": [
       "    C/A  UNIT       SCP STATION LINENAME DIVISION        DATE      TIME  \\\n",
       "0  A002  R051  02-00-00   59 ST  NQR456W      BMT  03/28/2020  00:00:00   \n",
       "1  A002  R051  02-00-00   59 ST  NQR456W      BMT  03/28/2020  04:00:00   \n",
       "2  A002  R051  02-00-00   59 ST  NQR456W      BMT  03/28/2020  08:00:00   \n",
       "3  A002  R051  02-00-00   59 ST  NQR456W      BMT  03/28/2020  12:00:00   \n",
       "4  A002  R051  02-00-00   59 ST  NQR456W      BMT  03/28/2020  16:00:00   \n",
       "\n",
       "      DESC  ENTRIES  \\\n",
       "0  REGULAR  7412829   \n",
       "1  REGULAR  7412831   \n",
       "2  REGULAR  7412837   \n",
       "3  REGULAR  7412849   \n",
       "4  REGULAR  7412880   \n",
       "\n",
       "   EXITS                                                                 \n",
       "0                                            2516511                     \n",
       "1                                            2516512                     \n",
       "2                                            2516526                     \n",
       "3                                            2516538                     \n",
       "4                                            2516555                     "
      ]
     },
     "execution_count": 5,
     "metadata": {},
     "output_type": "execute_result"
    }
   ],
   "source": [
    "df.head()"
   ]
  },
  {
   "cell_type": "code",
   "execution_count": 6,
   "metadata": {
    "ExecuteTime": {
     "end_time": "2020-04-14T19:49:27.461151Z",
     "start_time": "2020-04-14T19:49:27.450185Z"
    },
    "hidden": true,
    "pycharm": {
     "name": "#%%\n"
    }
   },
   "outputs": [
    {
     "data": {
      "text/plain": [
       "0         03/28/2020\n",
       "1         03/28/2020\n",
       "2         03/28/2020\n",
       "3         03/28/2020\n",
       "4         03/28/2020\n",
       "             ...    \n",
       "205661    04/03/2020\n",
       "205662    04/03/2020\n",
       "205663    04/03/2020\n",
       "205664    04/03/2020\n",
       "205665    04/03/2020\n",
       "Name: DATE, Length: 205666, dtype: object"
      ]
     },
     "execution_count": 3,
     "metadata": {},
     "output_type": "execute_result"
    }
   ],
   "source": [
    "df['DATE']"
   ]
  },
  {
   "cell_type": "markdown",
   "metadata": {
    "collapsed": true,
    "pycharm": {
     "name": "#%% md\n"
    }
   },
   "source": [
    "# Hospitals"
   ]
  },
  {
   "cell_type": "code",
   "execution_count": 3,
   "metadata": {
    "ExecuteTime": {
     "end_time": "2020-04-27T19:05:15.993142Z",
     "start_time": "2020-04-27T19:05:15.972604Z"
    }
   },
   "outputs": [],
   "source": [
    "import pandas as pd\n",
    "df = pd.read_csv(datadir + 'us/hospitals/beds_by_county.csv')"
   ]
  },
  {
   "cell_type": "code",
   "execution_count": 4,
   "metadata": {
    "ExecuteTime": {
     "end_time": "2020-04-27T19:05:16.347114Z",
     "start_time": "2020-04-27T19:05:16.334029Z"
    },
    "pycharm": {
     "name": "#%%\n"
    }
   },
   "outputs": [
    {
     "data": {
      "text/html": [
       "<div>\n",
       "<style scoped>\n",
       "    .dataframe tbody tr th:only-of-type {\n",
       "        vertical-align: middle;\n",
       "    }\n",
       "\n",
       "    .dataframe tbody tr th {\n",
       "        vertical-align: top;\n",
       "    }\n",
       "\n",
       "    .dataframe thead th {\n",
       "        text-align: right;\n",
       "    }\n",
       "</style>\n",
       "<table border=\"1\" class=\"dataframe\">\n",
       "  <thead>\n",
       "    <tr style=\"text-align: right;\">\n",
       "      <th></th>\n",
       "      <th>state</th>\n",
       "      <th>county</th>\n",
       "      <th>staffed_beds</th>\n",
       "      <th>licensed_beds</th>\n",
       "      <th>icu_beds</th>\n",
       "      <th>Name</th>\n",
       "      <th>FIPS</th>\n",
       "    </tr>\n",
       "  </thead>\n",
       "  <tbody>\n",
       "    <tr>\n",
       "      <th>0</th>\n",
       "      <td>AK</td>\n",
       "      <td>Anchorage</td>\n",
       "      <td>1077</td>\n",
       "      <td>1014</td>\n",
       "      <td>60</td>\n",
       "      <td>anchorage borough, ak</td>\n",
       "      <td>2020</td>\n",
       "    </tr>\n",
       "    <tr>\n",
       "      <th>1</th>\n",
       "      <td>AK</td>\n",
       "      <td>Bethel</td>\n",
       "      <td>34</td>\n",
       "      <td>50</td>\n",
       "      <td>0</td>\n",
       "      <td>bethel census area, ak</td>\n",
       "      <td>2050</td>\n",
       "    </tr>\n",
       "    <tr>\n",
       "      <th>2</th>\n",
       "      <td>AK</td>\n",
       "      <td>Dillingham</td>\n",
       "      <td>16</td>\n",
       "      <td>16</td>\n",
       "      <td>0</td>\n",
       "      <td>dillingham census area, ak</td>\n",
       "      <td>2070</td>\n",
       "    </tr>\n",
       "    <tr>\n",
       "      <th>3</th>\n",
       "      <td>AK</td>\n",
       "      <td>Fairbanks North Star</td>\n",
       "      <td>145</td>\n",
       "      <td>152</td>\n",
       "      <td>13</td>\n",
       "      <td>fairbanks north star borough, ak</td>\n",
       "      <td>2090</td>\n",
       "    </tr>\n",
       "    <tr>\n",
       "      <th>4</th>\n",
       "      <td>AK</td>\n",
       "      <td>Juneau</td>\n",
       "      <td>45</td>\n",
       "      <td>73</td>\n",
       "      <td>9</td>\n",
       "      <td>juneau city and borough, ak</td>\n",
       "      <td>2110</td>\n",
       "    </tr>\n",
       "  </tbody>\n",
       "</table>\n",
       "</div>"
      ],
      "text/plain": [
       "  state                county  staffed_beds  licensed_beds  icu_beds  \\\n",
       "0    AK             Anchorage          1077           1014        60   \n",
       "1    AK                Bethel            34             50         0   \n",
       "2    AK            Dillingham            16             16         0   \n",
       "3    AK  Fairbanks North Star           145            152        13   \n",
       "4    AK                Juneau            45             73         9   \n",
       "\n",
       "                               Name  FIPS  \n",
       "0             anchorage borough, ak  2020  \n",
       "1            bethel census area, ak  2050  \n",
       "2        dillingham census area, ak  2070  \n",
       "3  fairbanks north star borough, ak  2090  \n",
       "4       juneau city and borough, ak  2110  "
      ]
     },
     "execution_count": 4,
     "metadata": {},
     "output_type": "execute_result"
    }
   ],
   "source": [
    "df.head()"
   ]
  },
  {
   "cell_type": "code",
   "execution_count": 5,
   "metadata": {
    "ExecuteTime": {
     "end_time": "2020-04-27T19:05:17.344991Z",
     "start_time": "2020-04-27T19:05:17.341818Z"
    },
    "pycharm": {
     "name": "#%%\n"
    }
   },
   "outputs": [],
   "source": [
    "import numpy as np\n",
    "\n",
    "def scaler(x):\n",
    "    a = 0\n",
    "    b = np.log(22917)\n",
    "    return int(5*(np.log(x+1)-a)/(b-a))"
   ]
  },
  {
   "cell_type": "code",
   "execution_count": 8,
   "metadata": {
    "ExecuteTime": {
     "end_time": "2020-04-27T19:06:11.086180Z",
     "start_time": "2020-04-27T19:06:06.631160Z"
    },
    "pycharm": {
     "name": "#%%\n"
    }
   },
   "outputs": [],
   "source": [
    "from bokeh.plotting import figure, show, output_file\n",
    "from bokeh.sampledata.us_counties import data as counties\n",
    "from bokeh.sampledata.us_states import data as states\n",
    "\n",
    "EXCLUDED = (\"ak\", \"hi\")\n",
    "state_xs = [states[code][\"lons\"] for code in states]\n",
    "state_ys = [states[code][\"lats\"] for code in states]\n",
    "\n",
    "county_xs=[counties[code][\"lons\"] for code in counties]\n",
    "county_ys=[counties[code][\"lats\"] for code in counties]\n",
    "\n",
    "colors = [\"#F1EEF6\", \"#D4B9DA\", \"#C994C7\", \"#DF65B0\", \"#DD1C77\", \"#980043\"]\n",
    "\n",
    "county_colors = []\n",
    "for county_id in counties:\n",
    "    try:\n",
    "        staff_beds = df[(df['state']==counties[county_id]['state'].upper()) & (df['county']==counties[county_id]['name'])]['icu_beds']\n",
    "        idx = scaler(staff_beds)\n",
    "        county_colors.append(colors[idx])\n",
    "    except:\n",
    "        county_colors.append(\"black\")\n",
    "\n",
    "p = figure(title=\"US icu beds by county\", toolbar_location=\"left\",\n",
    "           plot_width=1100, plot_height=700)\n",
    "\n",
    "p.patches(county_xs, county_ys,\n",
    "          fill_color=county_colors, fill_alpha=0.7,\n",
    "          line_color=\"white\", line_width=0.5)\n",
    "\n",
    "p.patches(state_xs, state_ys, fill_alpha=0.0,\n",
    "          line_color=\"#884444\", line_width=2, line_alpha=0.3)\n",
    "\n",
    "output_file(\"choropleth.html\", title=\"choropleth.py example\")\n",
    "\n",
    "show(p)"
   ]
  },
  {
   "cell_type": "markdown",
   "metadata": {},
   "source": [
    "Here is a list of counties not present in dataset:"
   ]
  },
  {
   "cell_type": "code",
   "execution_count": 9,
   "metadata": {
    "ExecuteTime": {
     "end_time": "2020-04-27T19:06:23.158552Z",
     "start_time": "2020-04-27T19:06:21.402625Z"
    },
    "pycharm": {
     "name": "#%%\n"
    }
   },
   "outputs": [],
   "source": [
    "missing = []\n",
    "for county_id in counties:\n",
    "    if len(df[(df['state']==counties[county_id]['state'].upper()) & (df['county']==counties[county_id]['name'])])!=1:\n",
    "        missing.append(counties[county_id]['name'])"
   ]
  },
  {
   "cell_type": "code",
   "execution_count": 27,
   "metadata": {
    "ExecuteTime": {
     "end_time": "2020-04-27T19:18:30.162514Z",
     "start_time": "2020-04-27T19:18:30.158694Z"
    },
    "scrolled": false
   },
   "outputs": [],
   "source": [
    "df['c'] = df['staffed_beds']/df['total_pop']"
   ]
  },
  {
   "cell_type": "code",
   "execution_count": 32,
   "metadata": {
    "ExecuteTime": {
     "end_time": "2020-04-27T19:19:51.999141Z",
     "start_time": "2020-04-27T19:19:51.995319Z"
    }
   },
   "outputs": [
    {
     "data": {
      "text/plain": [
       "6.7630472421469205"
      ]
     },
     "execution_count": 32,
     "metadata": {},
     "output_type": "execute_result"
    }
   ],
   "source": [
    "100*max(df['c'])+1"
   ]
  },
  {
   "cell_type": "code",
   "execution_count": 13,
   "metadata": {
    "ExecuteTime": {
     "end_time": "2020-04-27T19:10:56.874274Z",
     "start_time": "2020-04-27T19:10:56.855849Z"
    }
   },
   "outputs": [],
   "source": [
    "df_population = pd.read_csv(datadir + 'us/demographics/county_populations.csv')"
   ]
  },
  {
   "cell_type": "code",
   "execution_count": 22,
   "metadata": {
    "ExecuteTime": {
     "end_time": "2020-04-27T19:16:23.552781Z",
     "start_time": "2020-04-27T19:16:23.546564Z"
    },
    "scrolled": true
   },
   "outputs": [],
   "source": [
    "df=df.merge(df_population, left_on = 'FIPS', right_on = 'FIPS')"
   ]
  },
  {
   "cell_type": "code",
   "execution_count": 36,
   "metadata": {
    "ExecuteTime": {
     "end_time": "2020-04-27T19:20:26.689157Z",
     "start_time": "2020-04-27T19:20:26.685820Z"
    }
   },
   "outputs": [],
   "source": [
    "import numpy as np\n",
    "\n",
    "def scaler(x):\n",
    "    a = 0\n",
    "    b = np.log(6.7630472421469205)\n",
    "    return int(20*(np.log(100*x+1)-a)/(b-a))"
   ]
  },
  {
   "cell_type": "code",
   "execution_count": null,
   "metadata": {},
   "outputs": [],
   "source": []
  },
  {
   "cell_type": "code",
   "execution_count": 37,
   "metadata": {
    "ExecuteTime": {
     "end_time": "2020-04-27T19:20:32.163013Z",
     "start_time": "2020-04-27T19:20:27.961442Z"
    },
    "scrolled": true
   },
   "outputs": [],
   "source": [
    "from bokeh.plotting import figure, show, output_file\n",
    "from bokeh.sampledata.us_counties import data as counties\n",
    "from bokeh.sampledata.us_states import data as states\n",
    "\n",
    "EXCLUDED = (\"ak\", \"hi\")\n",
    "state_xs = [states[code][\"lons\"] for code in states]\n",
    "state_ys = [states[code][\"lats\"] for code in states]\n",
    "\n",
    "county_xs=[counties[code][\"lons\"] for code in counties]\n",
    "county_ys=[counties[code][\"lats\"] for code in counties]\n",
    "\n",
    "colors = [\"#F1EEF6\", \"#D4B9DA\", \"#C994C7\", \"#DF65B0\", \"#DD1C77\", \"#980043\"]\n",
    "\n",
    "county_colors = []\n",
    "for county_id in counties:\n",
    "    try:\n",
    "        staff_beds = df[(df['state']==counties[county_id]['state'].upper()) & (df['county']==counties[county_id]['name'])]['c']\n",
    "        staff_beds = staff_beds\n",
    "        idx = scaler(staff_beds)\n",
    "        county_colors.append(colors[idx])\n",
    "    except:\n",
    "        county_colors.append(\"black\")\n",
    "\n",
    "p = figure(title=\"US staff beds per mille by county\", toolbar_location=\"left\",\n",
    "           plot_width=1100, plot_height=700)\n",
    "\n",
    "p.patches(county_xs, county_ys,\n",
    "          fill_color=county_colors, fill_alpha=0.7,\n",
    "          line_color=\"white\", line_width=0.5)\n",
    "\n",
    "p.patches(state_xs, state_ys, fill_alpha=0.0,\n",
    "          line_color=\"#884444\", line_width=2, line_alpha=0.3)\n",
    "\n",
    "output_file(\"choropleth.html\", title=\"choropleth.py example\")\n",
    "\n",
    "show(p)"
   ]
  },
  {
   "cell_type": "markdown",
   "metadata": {},
   "source": [
    "Here is a list of counties not present in dataset:"
   ]
  },
  {
   "cell_type": "code",
   "execution_count": 103,
   "metadata": {
    "ExecuteTime": {
     "end_time": "2020-04-14T20:32:44.390874Z",
     "start_time": "2020-04-14T20:32:40.875089Z"
    },
    "scrolled": false
   },
   "outputs": [],
   "source": [
    "missing = []\n",
    "for county_id in counties:\n",
    "    if len(df[(df['state']==counties[county_id]['state'].upper()) & (df['county']==counties[county_id]['name'])])!=1:\n",
    "        missing.append(counties[county_id]['name'])"
   ]
  },
  {
   "cell_type": "markdown",
   "metadata": {
    "heading_collapsed": true
   },
   "source": [
    "# Cases"
   ]
  },
  {
   "cell_type": "code",
   "execution_count": 2,
   "metadata": {
    "ExecuteTime": {
     "end_time": "2020-05-04T02:43:57.170669Z",
     "start_time": "2020-05-04T02:43:57.043800Z"
    },
    "hidden": true
   },
   "outputs": [],
   "source": [
    "import pandas as pd\n",
    "df = pd.read_csv(datadir + 'us/covid/confirmed_cases.csv')"
   ]
  },
  {
   "cell_type": "code",
   "execution_count": 7,
   "metadata": {
    "ExecuteTime": {
     "end_time": "2020-05-04T02:44:46.261088Z",
     "start_time": "2020-05-04T02:44:46.247446Z"
    },
    "hidden": true
   },
   "outputs": [
    {
     "data": {
      "text/html": [
       "<div>\n",
       "<style scoped>\n",
       "    .dataframe tbody tr th:only-of-type {\n",
       "        vertical-align: middle;\n",
       "    }\n",
       "\n",
       "    .dataframe tbody tr th {\n",
       "        vertical-align: top;\n",
       "    }\n",
       "\n",
       "    .dataframe thead th {\n",
       "        text-align: right;\n",
       "    }\n",
       "</style>\n",
       "<table border=\"1\" class=\"dataframe\">\n",
       "  <thead>\n",
       "    <tr style=\"text-align: right;\">\n",
       "      <th></th>\n",
       "      <th>countyFIPS</th>\n",
       "      <th>County Name</th>\n",
       "      <th>State</th>\n",
       "      <th>stateFIPS</th>\n",
       "      <th>1/22/20</th>\n",
       "      <th>1/23/20</th>\n",
       "      <th>1/24/20</th>\n",
       "      <th>1/25/20</th>\n",
       "      <th>1/26/20</th>\n",
       "      <th>1/27/20</th>\n",
       "      <th>...</th>\n",
       "      <th>2/27/20</th>\n",
       "      <th>2/28/20</th>\n",
       "      <th>2/29/20</th>\n",
       "      <th>3/1/20</th>\n",
       "      <th>3/2/20</th>\n",
       "      <th>3/3/20</th>\n",
       "      <th>3/4/20</th>\n",
       "      <th>3/5/20</th>\n",
       "      <th>3/6/20</th>\n",
       "      <th>3/7/20</th>\n",
       "    </tr>\n",
       "  </thead>\n",
       "  <tbody>\n",
       "    <tr>\n",
       "      <th>1216</th>\n",
       "      <td>24003</td>\n",
       "      <td>Anne Arundel County</td>\n",
       "      <td>MD</td>\n",
       "      <td>24</td>\n",
       "      <td>0</td>\n",
       "      <td>0</td>\n",
       "      <td>0</td>\n",
       "      <td>0</td>\n",
       "      <td>0</td>\n",
       "      <td>0</td>\n",
       "      <td>...</td>\n",
       "      <td>0</td>\n",
       "      <td>0</td>\n",
       "      <td>0</td>\n",
       "      <td>0</td>\n",
       "      <td>0</td>\n",
       "      <td>0</td>\n",
       "      <td>0</td>\n",
       "      <td>0</td>\n",
       "      <td>0</td>\n",
       "      <td>0</td>\n",
       "    </tr>\n",
       "    <tr>\n",
       "      <th>319</th>\n",
       "      <td>9005</td>\n",
       "      <td>Litchfield County</td>\n",
       "      <td>CT</td>\n",
       "      <td>9</td>\n",
       "      <td>0</td>\n",
       "      <td>0</td>\n",
       "      <td>0</td>\n",
       "      <td>0</td>\n",
       "      <td>0</td>\n",
       "      <td>0</td>\n",
       "      <td>...</td>\n",
       "      <td>0</td>\n",
       "      <td>0</td>\n",
       "      <td>0</td>\n",
       "      <td>0</td>\n",
       "      <td>0</td>\n",
       "      <td>0</td>\n",
       "      <td>0</td>\n",
       "      <td>0</td>\n",
       "      <td>0</td>\n",
       "      <td>0</td>\n",
       "    </tr>\n",
       "    <tr>\n",
       "      <th>258</th>\n",
       "      <td>8013</td>\n",
       "      <td>Boulder County</td>\n",
       "      <td>CO</td>\n",
       "      <td>8</td>\n",
       "      <td>0</td>\n",
       "      <td>0</td>\n",
       "      <td>0</td>\n",
       "      <td>0</td>\n",
       "      <td>0</td>\n",
       "      <td>0</td>\n",
       "      <td>...</td>\n",
       "      <td>0</td>\n",
       "      <td>0</td>\n",
       "      <td>0</td>\n",
       "      <td>0</td>\n",
       "      <td>0</td>\n",
       "      <td>0</td>\n",
       "      <td>0</td>\n",
       "      <td>0</td>\n",
       "      <td>0</td>\n",
       "      <td>0</td>\n",
       "    </tr>\n",
       "    <tr>\n",
       "      <th>492</th>\n",
       "      <td>13189</td>\n",
       "      <td>McDuffie County</td>\n",
       "      <td>GA</td>\n",
       "      <td>13</td>\n",
       "      <td>0</td>\n",
       "      <td>0</td>\n",
       "      <td>0</td>\n",
       "      <td>0</td>\n",
       "      <td>0</td>\n",
       "      <td>0</td>\n",
       "      <td>...</td>\n",
       "      <td>0</td>\n",
       "      <td>0</td>\n",
       "      <td>0</td>\n",
       "      <td>0</td>\n",
       "      <td>0</td>\n",
       "      <td>0</td>\n",
       "      <td>0</td>\n",
       "      <td>0</td>\n",
       "      <td>0</td>\n",
       "      <td>0</td>\n",
       "    </tr>\n",
       "    <tr>\n",
       "      <th>1717</th>\n",
       "      <td>31069</td>\n",
       "      <td>Garden County</td>\n",
       "      <td>NE</td>\n",
       "      <td>31</td>\n",
       "      <td>0</td>\n",
       "      <td>0</td>\n",
       "      <td>0</td>\n",
       "      <td>0</td>\n",
       "      <td>0</td>\n",
       "      <td>0</td>\n",
       "      <td>...</td>\n",
       "      <td>0</td>\n",
       "      <td>0</td>\n",
       "      <td>0</td>\n",
       "      <td>0</td>\n",
       "      <td>0</td>\n",
       "      <td>0</td>\n",
       "      <td>0</td>\n",
       "      <td>0</td>\n",
       "      <td>0</td>\n",
       "      <td>0</td>\n",
       "    </tr>\n",
       "    <tr>\n",
       "      <th>2625</th>\n",
       "      <td>48113</td>\n",
       "      <td>Dallas County</td>\n",
       "      <td>TX</td>\n",
       "      <td>48</td>\n",
       "      <td>0</td>\n",
       "      <td>0</td>\n",
       "      <td>0</td>\n",
       "      <td>0</td>\n",
       "      <td>0</td>\n",
       "      <td>0</td>\n",
       "      <td>...</td>\n",
       "      <td>0</td>\n",
       "      <td>0</td>\n",
       "      <td>0</td>\n",
       "      <td>0</td>\n",
       "      <td>0</td>\n",
       "      <td>0</td>\n",
       "      <td>0</td>\n",
       "      <td>0</td>\n",
       "      <td>0</td>\n",
       "      <td>0</td>\n",
       "    </tr>\n",
       "    <tr>\n",
       "      <th>2642</th>\n",
       "      <td>48147</td>\n",
       "      <td>Fannin County</td>\n",
       "      <td>TX</td>\n",
       "      <td>48</td>\n",
       "      <td>0</td>\n",
       "      <td>0</td>\n",
       "      <td>0</td>\n",
       "      <td>0</td>\n",
       "      <td>0</td>\n",
       "      <td>0</td>\n",
       "      <td>...</td>\n",
       "      <td>0</td>\n",
       "      <td>0</td>\n",
       "      <td>0</td>\n",
       "      <td>0</td>\n",
       "      <td>0</td>\n",
       "      <td>0</td>\n",
       "      <td>0</td>\n",
       "      <td>0</td>\n",
       "      <td>0</td>\n",
       "      <td>0</td>\n",
       "    </tr>\n",
       "    <tr>\n",
       "      <th>1253</th>\n",
       "      <td>25027</td>\n",
       "      <td>Worcester County</td>\n",
       "      <td>MA</td>\n",
       "      <td>25</td>\n",
       "      <td>0</td>\n",
       "      <td>0</td>\n",
       "      <td>0</td>\n",
       "      <td>0</td>\n",
       "      <td>0</td>\n",
       "      <td>0</td>\n",
       "      <td>...</td>\n",
       "      <td>0</td>\n",
       "      <td>0</td>\n",
       "      <td>0</td>\n",
       "      <td>0</td>\n",
       "      <td>0</td>\n",
       "      <td>0</td>\n",
       "      <td>0</td>\n",
       "      <td>0</td>\n",
       "      <td>0</td>\n",
       "      <td>0</td>\n",
       "    </tr>\n",
       "    <tr>\n",
       "      <th>530</th>\n",
       "      <td>13267</td>\n",
       "      <td>Tattnall County</td>\n",
       "      <td>GA</td>\n",
       "      <td>13</td>\n",
       "      <td>0</td>\n",
       "      <td>0</td>\n",
       "      <td>0</td>\n",
       "      <td>0</td>\n",
       "      <td>0</td>\n",
       "      <td>0</td>\n",
       "      <td>...</td>\n",
       "      <td>0</td>\n",
       "      <td>0</td>\n",
       "      <td>0</td>\n",
       "      <td>0</td>\n",
       "      <td>0</td>\n",
       "      <td>0</td>\n",
       "      <td>0</td>\n",
       "      <td>0</td>\n",
       "      <td>0</td>\n",
       "      <td>0</td>\n",
       "    </tr>\n",
       "    <tr>\n",
       "      <th>1144</th>\n",
       "      <td>22023</td>\n",
       "      <td>Cameron Parish</td>\n",
       "      <td>LA</td>\n",
       "      <td>22</td>\n",
       "      <td>0</td>\n",
       "      <td>0</td>\n",
       "      <td>0</td>\n",
       "      <td>0</td>\n",
       "      <td>0</td>\n",
       "      <td>0</td>\n",
       "      <td>...</td>\n",
       "      <td>0</td>\n",
       "      <td>0</td>\n",
       "      <td>0</td>\n",
       "      <td>0</td>\n",
       "      <td>0</td>\n",
       "      <td>0</td>\n",
       "      <td>0</td>\n",
       "      <td>0</td>\n",
       "      <td>0</td>\n",
       "      <td>0</td>\n",
       "    </tr>\n",
       "  </tbody>\n",
       "</table>\n",
       "<p>10 rows × 50 columns</p>\n",
       "</div>"
      ],
      "text/plain": [
       "      countyFIPS          County Name State  stateFIPS  1/22/20  1/23/20  \\\n",
       "1216       24003  Anne Arundel County    MD         24        0        0   \n",
       "319         9005    Litchfield County    CT          9        0        0   \n",
       "258         8013       Boulder County    CO          8        0        0   \n",
       "492        13189      McDuffie County    GA         13        0        0   \n",
       "1717       31069        Garden County    NE         31        0        0   \n",
       "2625       48113        Dallas County    TX         48        0        0   \n",
       "2642       48147        Fannin County    TX         48        0        0   \n",
       "1253       25027     Worcester County    MA         25        0        0   \n",
       "530        13267      Tattnall County    GA         13        0        0   \n",
       "1144       22023       Cameron Parish    LA         22        0        0   \n",
       "\n",
       "      1/24/20  1/25/20  1/26/20  1/27/20  ...  2/27/20  2/28/20  2/29/20  \\\n",
       "1216        0        0        0        0  ...        0        0        0   \n",
       "319         0        0        0        0  ...        0        0        0   \n",
       "258         0        0        0        0  ...        0        0        0   \n",
       "492         0        0        0        0  ...        0        0        0   \n",
       "1717        0        0        0        0  ...        0        0        0   \n",
       "2625        0        0        0        0  ...        0        0        0   \n",
       "2642        0        0        0        0  ...        0        0        0   \n",
       "1253        0        0        0        0  ...        0        0        0   \n",
       "530         0        0        0        0  ...        0        0        0   \n",
       "1144        0        0        0        0  ...        0        0        0   \n",
       "\n",
       "      3/1/20  3/2/20  3/3/20  3/4/20  3/5/20  3/6/20  3/7/20  \n",
       "1216       0       0       0       0       0       0       0  \n",
       "319        0       0       0       0       0       0       0  \n",
       "258        0       0       0       0       0       0       0  \n",
       "492        0       0       0       0       0       0       0  \n",
       "1717       0       0       0       0       0       0       0  \n",
       "2625       0       0       0       0       0       0       0  \n",
       "2642       0       0       0       0       0       0       0  \n",
       "1253       0       0       0       0       0       0       0  \n",
       "530        0       0       0       0       0       0       0  \n",
       "1144       0       0       0       0       0       0       0  \n",
       "\n",
       "[10 rows x 50 columns]"
      ]
     },
     "execution_count": 7,
     "metadata": {},
     "output_type": "execute_result"
    }
   ],
   "source": [
    "df.sample(10).iloc[:,:50]"
   ]
  },
  {
   "cell_type": "code",
   "execution_count": null,
   "metadata": {
    "hidden": true
   },
   "outputs": [],
   "source": []
  }
 ],
 "metadata": {
  "kernelspec": {
   "display_name": "Python 3",
   "language": "python",
   "name": "python3"
  },
  "language_info": {
   "codemirror_mode": {
    "name": "ipython",
    "version": 3
   },
   "file_extension": ".py",
   "mimetype": "text/x-python",
   "name": "python",
   "nbconvert_exporter": "python",
   "pygments_lexer": "ipython3",
   "version": "3.8.2"
  },
  "toc": {
   "base_numbering": 1,
   "nav_menu": {},
   "number_sections": true,
   "sideBar": true,
   "skip_h1_title": false,
   "title_cell": "Table of Contents",
   "title_sidebar": "Contents",
   "toc_cell": false,
   "toc_position": {},
   "toc_section_display": true,
   "toc_window_display": false
  },
  "varInspector": {
   "cols": {
    "lenName": 16,
    "lenType": 16,
    "lenVar": 40
   },
   "kernels_config": {
    "python": {
     "delete_cmd_postfix": "",
     "delete_cmd_prefix": "del ",
     "library": "var_list.py",
     "varRefreshCmd": "print(var_dic_list())"
    },
    "r": {
     "delete_cmd_postfix": ") ",
     "delete_cmd_prefix": "rm(",
     "library": "var_list.r",
     "varRefreshCmd": "cat(var_dic_list()) "
    }
   },
   "types_to_exclude": [
    "module",
    "function",
    "builtin_function_or_method",
    "instance",
    "_Feature"
   ],
   "window_display": false
  }
 },
 "nbformat": 4,
 "nbformat_minor": 4
}
