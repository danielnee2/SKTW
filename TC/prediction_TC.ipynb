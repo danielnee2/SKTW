{
 "cells": [
  {
   "cell_type": "code",
   "execution_count": 3,
   "metadata": {
    "ExecuteTime": {
     "end_time": "2020-04-22T07:26:52.928189Z",
     "start_time": "2020-04-22T07:26:52.924408Z"
    },
    "init_cell": true
   },
   "outputs": [],
   "source": [
    "import git\n",
    "repo = git.Repo(\"./\", search_parent_directories=True)"
   ]
  },
  {
   "cell_type": "markdown",
   "metadata": {},
   "source": [
    "# Data Preparation"
   ]
  },
  {
   "cell_type": "markdown",
   "metadata": {
    "heading_collapsed": true
   },
   "source": [
    "## Directory"
   ]
  },
  {
   "cell_type": "code",
   "execution_count": 4,
   "metadata": {
    "ExecuteTime": {
     "end_time": "2020-04-22T07:30:51.378492Z",
     "start_time": "2020-04-22T07:30:51.376293Z"
    },
    "hidden": true
   },
   "outputs": [],
   "source": [
    "homedir = repo.working_dir\n",
    "datadir = f\"{homedir}/data/\""
   ]
  },
  {
   "cell_type": "markdown",
   "metadata": {},
   "source": [
    "## international/health"
   ]
  },
  {
   "cell_type": "code",
   "execution_count": 5,
   "metadata": {
    "ExecuteTime": {
     "end_time": "2020-04-22T07:31:32.889910Z",
     "start_time": "2020-04-22T07:31:32.790878Z"
    }
   },
   "outputs": [],
   "source": [
    "import pandas as pd\n",
    "df = pd.read_csv(datadir + 'international/health/hospital-beds-per-1000-people.csv')"
   ]
  },
  {
   "cell_type": "code",
   "execution_count": 6,
   "metadata": {
    "ExecuteTime": {
     "end_time": "2020-04-22T07:31:40.957777Z",
     "start_time": "2020-04-22T07:31:40.951253Z"
    }
   },
   "outputs": [],
   "source": [
    "X=df.pivot(index=\"Entity\",columns=\"Year\",values=\"Hospital beds (per 1,000 people) (per 1,000 people)\")"
   ]
  },
  {
   "cell_type": "markdown",
   "metadata": {
    "heading_collapsed": true
   },
   "source": [
    "# SIR solver"
   ]
  },
  {
   "cell_type": "code",
   "execution_count": 32,
   "metadata": {
    "ExecuteTime": {
     "end_time": "2020-04-21T22:17:15.606147Z",
     "start_time": "2020-04-21T22:17:15.592759Z"
    },
    "hidden": true
   },
   "outputs": [],
   "source": [
    "def seirqd(dat, t,params, N):\n",
    "    beta = params[0] / N\n",
    "    delta = params[1]\n",
    "    gamma = params[2]\n",
    "    alpha = params[3]\n",
    "    lambda_ = params[4]\n",
    "    kappa = params[5]\n",
    "    \n",
    "    s = dat[0]\n",
    "    e = dat[1]\n",
    "    i = dat[2]\n",
    "    q = dat[3]\n",
    "    r = dat[4]\n",
    "    d = dat[5]\n",
    "    sa = dat[6]\n",
    "    \n",
    "    dsdt = - beta * s * i - alpha * s\n",
    "    dedt = beta * s * i - gamma * e\n",
    "    didt = gamma * e - lambda_ * i\n",
    "    dqdt = lambda_ * i - delta * q - kappa * q\n",
    "    drdt = delta * q\n",
    "    dddt = kappa * q\n",
    "    dsadt = alpha * s\n",
    "    \n",
    "    # susceptible, exposed, infected, quarantined, recovered, died, unsusceptible\n",
    "    return [dsdt, dedt, didt, dqdt, drdt, dddt, dsadt]"
   ]
  },
  {
   "cell_type": "code",
   "execution_count": 125,
   "metadata": {
    "ExecuteTime": {
     "end_time": "2020-04-21T23:33:48.134162Z",
     "start_time": "2020-04-21T23:33:48.126001Z"
    },
    "hidden": true
   },
   "outputs": [],
   "source": [
    "from scipy.integrate import odeint\n",
    "def model_qd(params, data, tmax=-1):\n",
    "    # initial conditions\n",
    "    #N = data['Population'].values[0] # total population\n",
    "    N = 8.3e07\n",
    "    initial_conditions = N * np.array(params[-5:]) # the parameters are a fraction of the population so multiply by the population\n",
    "    \n",
    "    # initial conditions\n",
    "    e0 = initial_conditions[0]\n",
    "    i0 = initial_conditions[1]\n",
    "    q0 = initial_conditions[2]\n",
    "    r0 = initial_conditions[3]\n",
    "    sa0 = initial_conditions[4]\n",
    "    \n",
    "    d0 = data.iloc[0]\n",
    "    s0 = N - np.sum(initial_conditions) - d0\n",
    "\n",
    "    yz_0 = np.array([s0, e0, i0, q0, r0, d0, sa0])\n",
    "    \n",
    "    # Package parameters into a tuple\n",
    "    args = (params, N)\n",
    "    \n",
    "    n = len(data)\n",
    "    if tmax > 0:\n",
    "        n = tmax\n",
    "    \n",
    "    # Integrate ODEs\n",
    "    s = odeint(seirqd, yz_0, np.arange(0, n), args=args)\n",
    "\n",
    "    return s"
   ]
  },
  {
   "cell_type": "code",
   "execution_count": 104,
   "metadata": {
    "ExecuteTime": {
     "end_time": "2020-04-21T23:02:31.964113Z",
     "start_time": "2020-04-21T23:02:31.957463Z"
    },
    "hidden": true
   },
   "outputs": [],
   "source": [
    "def fit_leastsq_qd(params, data):\n",
    "    Ddata = data\n",
    "    # Idata = (data['TotalCurrentlyPositive'].values)\n",
    "    s = model_qd(params, data)\n",
    "    s = model_qd(params, data)\n",
    "    D = s[:,5]\n",
    "    error = (D-Ddata)\n",
    "    return error"
   ]
  },
  {
   "cell_type": "code",
   "execution_count": 56,
   "metadata": {
    "ExecuteTime": {
     "end_time": "2020-04-18T00:35:05.816983Z",
     "start_time": "2020-04-18T00:35:05.810418Z"
    },
    "hidden": true
   },
   "outputs": [],
   "source": [
    "params = [2.0, 0.3, 0.2, 0.05, 0.2, 0.03]\n",
    "initial_conditions = [0.5e-3, 0.5e-3, 0.3e-3, 0.1e-4, 0.5]\n",
    "param_ranges = [(0.5, 3.0), (0.0, 0.5), (0.0, 0.5), (0.01, 0.5), (0.0, 0.5), (0.005, 0.1)]\n",
    "initial_ranges = [(1.0e-7, 0.01), (1.0e-7, 0.01), (1.0e-7, 0.01), (1.0e-7, 0.01), (1.0e-7, 0.9)]\n",
    "guesses = params + initial_conditions\n",
    "ranges = param_ranges + initial_ranges"
   ]
  },
  {
   "cell_type": "code",
   "execution_count": 13,
   "metadata": {
    "ExecuteTime": {
     "end_time": "2020-04-18T00:24:35.565175Z",
     "start_time": "2020-04-18T00:24:35.558440Z"
    },
    "hidden": true
   },
   "outputs": [],
   "source": [
    "def select_region(df, region, min_deaths=50):\n",
    "    d = df.loc[df['Region'] == region]\n",
    "    start = np.where(d['Deaths'].values > min_deaths)[0][0]\n",
    "    d = d[start:]\n",
    "    return d"
   ]
  },
  {
   "cell_type": "code",
   "execution_count": 16,
   "metadata": {
    "ExecuteTime": {
     "end_time": "2020-04-18T00:25:00.973768Z",
     "start_time": "2020-04-18T00:25:00.699359Z"
    },
    "hidden": true
   },
   "outputs": [],
   "source": [
    "import pandas as pd"
   ]
  },
  {
   "cell_type": "code",
   "execution_count": 38,
   "metadata": {
    "ExecuteTime": {
     "end_time": "2020-04-18T00:30:36.239907Z",
     "start_time": "2020-04-18T00:30:36.225648Z"
    },
    "hidden": true
   },
   "outputs": [],
   "source": [
    "df = pd.read_csv(datadir + 'international/italy/covid/dpc-covid19-ita-regioni.csv')"
   ]
  },
  {
   "cell_type": "code",
   "execution_count": 39,
   "metadata": {
    "ExecuteTime": {
     "end_time": "2020-04-18T00:30:37.074126Z",
     "start_time": "2020-04-18T00:30:37.067396Z"
    },
    "hidden": true
   },
   "outputs": [],
   "source": [
    "populations = pd.read_csv(datadir + 'international/italy/demographics/region-populations.csv')\n",
    "def get_population(region):\n",
    "    if region == 'Emilia-Romagna':\n",
    "        region = 'Emilia Romagna'\n",
    "    return populations[populations['Region'] == region]['Population'].values[0]"
   ]
  },
  {
   "cell_type": "code",
   "execution_count": 40,
   "metadata": {
    "ExecuteTime": {
     "end_time": "2020-04-18T00:30:38.292447Z",
     "start_time": "2020-04-18T00:30:37.453226Z"
    },
    "hidden": true
   },
   "outputs": [],
   "source": [
    "df['Population'] = df.apply(lambda row: get_population(row.Region), axis=1)"
   ]
  },
  {
   "cell_type": "code",
   "execution_count": 41,
   "metadata": {
    "ExecuteTime": {
     "end_time": "2020-04-18T00:30:44.205234Z",
     "start_time": "2020-04-18T00:30:44.200072Z"
    },
    "hidden": true
   },
   "outputs": [
    {
     "data": {
      "text/plain": [
       "(1071, 20)"
      ]
     },
     "execution_count": 41,
     "metadata": {},
     "output_type": "execute_result"
    }
   ],
   "source": [
    "df.shape"
   ]
  },
  {
   "cell_type": "code",
   "execution_count": 26,
   "metadata": {
    "ExecuteTime": {
     "end_time": "2020-04-18T00:25:58.384600Z",
     "start_time": "2020-04-18T00:25:58.381236Z"
    },
    "hidden": true
   },
   "outputs": [],
   "source": [
    "import scipy"
   ]
  },
  {
   "cell_type": "code",
   "execution_count": 60,
   "metadata": {
    "ExecuteTime": {
     "end_time": "2020-04-18T22:31:43.176030Z",
     "start_time": "2020-04-18T22:31:20.331239Z"
    },
    "hidden": true,
    "scrolled": true
   },
   "outputs": [],
   "source": [
    "res = []\n",
    "for i in range(500, 1000, 50):\n",
    "    res.append(least_squares(fit_leastsq_qd, guesses, args=(select_region(df[:i], 'Lombardia'),), bounds=np.transpose(np.array(ranges)))['x'])"
   ]
  },
  {
   "cell_type": "code",
   "execution_count": 50,
   "metadata": {
    "ExecuteTime": {
     "end_time": "2020-04-18T00:33:58.447591Z",
     "start_time": "2020-04-18T00:33:56.744413Z"
    },
    "hidden": true
   },
   "outputs": [],
   "source": [
    "res=least_squares(fit_leastsq_qd, guesses, args=(select_region(df, 'Lombardia'),), bounds=np.transpose(np.array(ranges)))"
   ]
  },
  {
   "cell_type": "code",
   "execution_count": 57,
   "metadata": {
    "ExecuteTime": {
     "end_time": "2020-04-18T00:35:11.416192Z",
     "start_time": "2020-04-18T00:35:11.411083Z"
    },
    "hidden": true,
    "scrolled": true
   },
   "outputs": [
    {
     "data": {
      "text/plain": [
       "[2.0, 0.3, 0.2, 0.05, 0.2, 0.03, 0.0005, 0.0005, 0.0003, 1e-05, 0.5]"
      ]
     },
     "execution_count": 57,
     "metadata": {},
     "output_type": "execute_result"
    }
   ],
   "source": [
    "guesses"
   ]
  },
  {
   "cell_type": "code",
   "execution_count": 79,
   "metadata": {
    "ExecuteTime": {
     "end_time": "2020-04-18T22:36:11.135537Z",
     "start_time": "2020-04-18T22:36:10.335615Z"
    },
    "hidden": true,
    "scrolled": false
   },
   "outputs": [
    {
     "data": {
      "text/plain": [
       "[<matplotlib.lines.Line2D at 0x7fedaf224ad0>,\n",
       " <matplotlib.lines.Line2D at 0x7fedaf2f8250>,\n",
       " <matplotlib.lines.Line2D at 0x7fedaf2f8e10>,\n",
       " <matplotlib.lines.Line2D at 0x7fedaf2f8d90>,\n",
       " <matplotlib.lines.Line2D at 0x7fedaf2f89d0>,\n",
       " <matplotlib.lines.Line2D at 0x7fedaf2f8b10>,\n",
       " <matplotlib.lines.Line2D at 0x7fedaf2f8450>,\n",
       " <matplotlib.lines.Line2D at 0x7fedaf2f8550>,\n",
       " <matplotlib.lines.Line2D at 0x7fedaf2f8a10>,\n",
       " <matplotlib.lines.Line2D at 0x7fedaf2f8bd0>,\n",
       " <matplotlib.lines.Line2D at 0x7fedb471f4d0>]"
      ]
     },
     "execution_count": 79,
     "metadata": {},
     "output_type": "execute_result"
    },
    {
     "data": {
      "image/png": "[encoded data removed]",
      "text/plain": [
       "<Figure size 432x288 with 1 Axes>"
      ]
     },
     "metadata": {
      "needs_background": "light"
     },
     "output_type": "display_data"
    }
   ],
   "source": [
    "plt.yscale('log')\n",
    "plt.plot(np.array(res).round(7))"
   ]
  },
  {
   "cell_type": "code",
   "execution_count": 46,
   "metadata": {
    "ExecuteTime": {
     "end_time": "2020-04-18T00:32:11.911375Z",
     "start_time": "2020-04-18T00:32:11.900194Z"
    },
    "hidden": true
   },
   "outputs": [
    {
     "data": {
      "text/plain": [
       " active_mask: array([0, 0, 0, 0, 0, 0, 0, 0, 0, 0, 0])\n",
       "        cost: 369081.76522783213\n",
       "         fun: array([   0.        ,   21.50890189,   35.16402459,   39.60479744,\n",
       "         68.65707123,   13.79076027,   19.15163702,  -28.35735321,\n",
       "        -71.05158881,  -70.50193438,  -65.61720319,   34.24686971,\n",
       "        -15.83010024,   10.55671845,   45.04942784,    5.473961  ,\n",
       "         43.4122788 , -127.3549345 , -104.32808521,  115.60185858,\n",
       "        -58.08551071,  -27.55374677, -388.96958657,  520.1711332 ,\n",
       "        108.59891704,  -38.53080959,  150.36716158, -140.08406383,\n",
       "       -107.07778247,   38.98716199, -317.53774317,  270.58012839])\n",
       "        grad: array([  -29888.66345475,    -5873.50305874,   -38785.42262854,\n",
       "         649720.41843124,   110667.83381664,    43364.78841689,\n",
       "       -1903084.00669098,   220922.29938126,   420617.57403833,\n",
       "         161008.66322361,   161008.66322361])\n",
       "         jac: array([[ 0.00000000e+00,  0.00000000e+00,  0.00000000e+00,\n",
       "         0.00000000e+00,  0.00000000e+00,  0.00000000e+00,\n",
       "         0.00000000e+00,  0.00000000e+00,  0.00000000e+00,\n",
       "         0.00000000e+00,  0.00000000e+00],\n",
       "       [ 1.31600636e-01, -1.68315334e+01,  1.84397888e+00,\n",
       "        -7.50741959e-02,  1.33330603e+01,  1.38351496e+03,\n",
       "         3.12117750e+03,  1.98952072e+04,  8.24131591e+04,\n",
       "        -8.12619209e-01, -8.12619209e-01],\n",
       "       [ 1.64499625e+00, -5.68943863e+01,  1.36952095e+01,\n",
       "        -1.96223450e+00,  3.86958065e+01,  2.71353739e+03,\n",
       "         1.87618824e+04,  6.55958784e+04,  1.31001690e+05,\n",
       "        -1.01598053e+01, -1.01598053e+01],\n",
       "       [ 6.87588983e+00, -1.11471056e+02,  4.29916515e+01,\n",
       "        -1.29301682e+01,  6.34611855e+01,  4.12778008e+03,\n",
       "         5.01427316e+04,  1.30539937e+05,  1.59626573e+05,\n",
       "        -4.24775600e+01, -4.24775600e+01],\n",
       "       [ 1.87292124e+01, -1.78405146e+02,  9.61658096e+01,\n",
       "        -4.92995853e+01,  7.80873470e+01,  5.76400221e+03,\n",
       "         9.83024777e+04,  2.15928465e+05,  1.76451892e+05,\n",
       "        -1.15738899e+02, -1.15738899e+02],\n",
       "       [ 4.07195424e+01, -2.59252148e+02,  1.80203934e+02,\n",
       "        -1.40054134e+02,  7.17442970e+01,  7.74363530e+03,\n",
       "         1.64527992e+05,  3.25318700e+05,  1.86280669e+05,\n",
       "        -2.51718540e+02, -2.51718540e+02],\n",
       "       [ 7.70646151e+01, -3.57481937e+02,  3.03186989e+02,\n",
       "        -3.30713921e+02,  3.09420204e+01,  1.01747077e+04,\n",
       "         2.50684110e+05,  4.63038707e+05,  1.91931814e+05,\n",
       "        -4.76591412e+02, -4.76591412e+02],\n",
       "       [ 1.32705199e+02, -4.77478176e+02,  4.74219242e+02,\n",
       "        -6.87057686e+02, -6.09468765e+01,  1.31557272e+04,\n",
       "         3.59050039e+05,  6.33617796e+05,  1.95052289e+05,\n",
       "        -8.21083557e+02, -8.21083557e+02],\n",
       "       [ 2.13233530e+02, -6.23989372e+02,  7.03037109e+02,\n",
       "        -1.29816325e+03, -2.23731613e+02,  1.67770986e+04,\n",
       "         4.92061727e+05,  8.41460812e+05,  1.96596531e+05,\n",
       "        -1.32006496e+03, -1.32006496e+03],\n",
       "       [ 3.24727644e+02, -8.01797417e+02,  9.99427895e+02,\n",
       "        -2.27815870e+03, -4.80085350e+02,  2.11201377e+04,\n",
       "         6.52048784e+05,  1.09055901e+06,  1.97109882e+05,\n",
       "        -2.01156461e+03, -2.01156461e+03],\n",
       "       [ 4.73493124e+02, -1.01547278e+03,  1.37251947e+03,\n",
       "        -3.76606303e+03, -8.54858940e+02,  2.62543939e+04,\n",
       "         8.40983084e+05,  1.38419201e+06,  1.96896705e+05,\n",
       "        -2.93521514e+03, -2.93521514e+03],\n",
       "       [ 6.65721622e+02, -1.26915383e+03,  1.82999276e+03,\n",
       "        -5.92317246e+03, -1.37402608e+03,  3.22340077e+04,\n",
       "         1.06024471e+06,  1.72462590e+06,  1.96120694e+05,\n",
       "        -4.13017829e+03, -4.13017829e+03],\n",
       "       [ 9.07085132e+02, -1.56632732e+03,  2.37727817e+03,\n",
       "        -8.92764595e+03, -2.06329561e+03,  3.90937581e+04,\n",
       "         1.31041480e+06,  2.11282986e+06,  1.94865250e+05,\n",
       "        -5.63266225e+03, -5.63266225e+03],\n",
       "       [ 1.20229690e+03, -1.90960939e+03,  3.01681419e+03,\n",
       "        -1.29662337e+04, -2.94646811e+03,  4.68453777e+04,\n",
       "         1.59110792e+06,  2.54824075e+06,  1.93170376e+05,\n",
       "        -7.47320901e+03, -7.47320901e+03],\n",
       "       [ 1.55467693e+03, -2.30053972e+03,  3.74744635e+03,\n",
       "        -1.82234834e+04, -4.04366615e+03,  5.54746416e+04,\n",
       "         1.90086080e+06,  3.02860425e+06,  1.91055501e+05,\n",
       "        -9.67398697e+03, -9.67398697e+03],\n",
       "       [ 1.96576795e+03, -2.73940544e+03,  4.56404994e+03,\n",
       "        -2.48691309e+04, -5.36959387e+03,  6.49396492e+04,\n",
       "         2.23709000e+06,  3.54991859e+06,  1.88533783e+05,\n",
       "        -1.22463593e+04, -1.22463593e+04],\n",
       "       [ 0.00000000e+00,  0.00000000e+00,  0.00000000e+00,\n",
       "         0.00000000e+00,  0.00000000e+00,  0.00000000e+00,\n",
       "         0.00000000e+00,  3.76007700e+06,  0.00000000e+00,\n",
       "         0.00000000e+00,  0.00000000e+00],\n",
       "       [ 1.10822921e+02,  0.00000000e+00,  9.31603912e+02,\n",
       "        -1.07782471e+02, -1.14340588e+03,  0.00000000e+00,\n",
       "         1.25849341e+06,  3.01336421e+06, -6.84409958e+02,\n",
       "        -6.84409958e+02, -6.84409958e+02],\n",
       "       [ 3.70355930e+02,  0.00000000e+00,  1.97148418e+03,\n",
       "        -7.61898727e+02, -2.40032237e+03,  0.00000000e+00,\n",
       "         1.99621610e+06,  3.40377935e+06, -2.28810323e+03,\n",
       "        -2.28810323e+03, -2.28810323e+03],\n",
       "       [ 7.65784697e+02,  0.00000000e+00,  3.19174771e+03,\n",
       "        -2.47568451e+03, -4.15823218e+03,  0.00000000e+00,\n",
       "         2.66952846e+06,  4.23398566e+06, -4.73332022e+03,\n",
       "        -4.73332022e+03, -4.73332022e+03],\n",
       "       [ 1.32390018e+03,  0.00000000e+00,  4.70283612e+03,\n",
       "        -5.90970175e+03, -6.60802899e+03,  0.00000000e+00,\n",
       "         3.40840506e+06,  5.31825153e+06, -8.18760992e+03,\n",
       "        -8.18760992e+03, -8.18760992e+03],\n",
       "       [ 2.07670170e+03,  0.00000000e+00,  6.57605618e+03,\n",
       "        -1.18872308e+04, -9.90172232e+03,  0.00000000e+00,\n",
       "         4.24978778e+06,  6.60514047e+06, -1.28518172e+04,\n",
       "        -1.28518172e+04, -1.28518172e+04],\n",
       "       [ 3.05290952e+03,  0.00000000e+00,  8.84695874e+03,\n",
       "        -2.13665874e+04, -1.41746476e+04,  0.00000000e+00,\n",
       "         5.20001251e+06,  8.07337029e+06, -1.89079533e+04,\n",
       "        -1.89079533e+04, -1.89079533e+04],\n",
       "       [ 4.27378538e+03,  0.00000000e+00,  1.15196065e+04,\n",
       "        -3.53884145e+04, -1.95372980e+04,  0.00000000e+00,\n",
       "         6.25126779e+06,  9.70172666e+06, -2.64936038e+04,\n",
       "        -2.64936038e+04, -2.64936038e+04],\n",
       "       [ 5.74945160e+03,  0.00000000e+00,  1.45662017e+04,\n",
       "        -5.49957877e+04, -2.60601457e+04,  0.00000000e+00,\n",
       "         7.38574352e+06,  1.14598473e+07, -3.56792595e+04,\n",
       "        -3.56792595e+04, -3.56792595e+04],\n",
       "       [ 7.47546426e+03, -2.44140625e-04,  1.79253566e+04,\n",
       "        -8.11293936e+04, -3.37575911e+04, -1.22070312e-04,\n",
       "         8.57681019e+06,  1.33055642e+07, -4.64470737e+04,\n",
       "        -4.64470135e+04, -4.64470135e+04],\n",
       "       [ 9.43010220e+03, -7.32421875e-04,  2.15017522e+04,\n",
       "        -1.14505846e+05, -4.25738656e+04, -3.66210938e-04,\n",
       "         9.78991738e+06,  1.51850062e+07, -5.86734733e+04,\n",
       "        -5.86733226e+04, -5.86733226e+04],\n",
       "       [ 1.15728971e+04, -1.46484375e-03,  2.51686793e+04,\n",
       "        -1.55492394e+05, -5.23732753e+04, -1.09863281e-03,\n",
       "         1.09840455e+07,  1.70344624e+07, -7.21195084e+04,\n",
       "        -7.21191122e+04, -7.21191122e+04],\n",
       "       [ 1.38448896e+04, -1.22070312e-03,  2.87742417e+04,\n",
       "        -2.03994815e+05, -6.29368358e+04, -7.32421875e-04,\n",
       "         1.21138897e+07,  1.87836976e+07, -8.64302490e+04,\n",
       "        -8.64300819e+04, -8.64300819e+04],\n",
       "       [ 1.61708242e+04, -1.58691406e-03,  3.21509744e+04,\n",
       "        -2.59377109e+05, -7.39670400e+04, -8.54492188e-04,\n",
       "         1.31327966e+07,  2.03603935e+07, -1.01149100e+05,\n",
       "        -1.01148991e+05, -1.01148991e+05],\n",
       "       [ 1.84633974e+04, -1.95312500e-03,  3.51285322e+04,\n",
       "        -3.20428906e+05, -8.51011328e+04, -1.09863281e-03,\n",
       "         1.39960950e+07,  2.16953803e+07, -1.15740485e+05,\n",
       "        -1.15740190e+05, -1.15740190e+05],\n",
       "       [ 2.06291617e+04, -2.19726562e-03,  3.75478210e+04,\n",
       "        -3.85392469e+05, -9.59326195e+04, -1.58691406e-03,\n",
       "         1.46646061e+07,  2.27280340e+07, -1.29625235e+05,\n",
       "        -1.29624783e+05, -1.29624783e+05]])\n",
       "     message: '`xtol` termination condition is satisfied.'\n",
       "        nfev: 148\n",
       "        njev: 117\n",
       "  optimality: 88151.32781772301\n",
       "      status: 3\n",
       "     success: True\n",
       "           x: array([2.76984526e+00, 4.99961458e-01, 4.99990634e-01, 4.56503730e-02,\n",
       "       4.99998191e-01, 2.82136613e-02, 2.15878174e-04, 3.64197935e-04,\n",
       "       3.83293856e-04, 2.86589526e-03, 5.47494415e-01])"
      ]
     },
     "execution_count": 46,
     "metadata": {},
     "output_type": "execute_result"
    }
   ],
   "source": [
    "res[0]"
   ]
  },
  {
   "cell_type": "markdown",
   "metadata": {},
   "source": [
    "# Inference"
   ]
  },
  {
   "cell_type": "markdown",
   "metadata": {},
   "source": [
    "## from beds(international)"
   ]
  },
  {
   "cell_type": "code",
   "execution_count": 14,
   "metadata": {
    "ExecuteTime": {
     "end_time": "2020-04-21T22:09:42.451964Z",
     "start_time": "2020-04-21T22:09:42.441468Z"
    },
    "scrolled": true
   },
   "outputs": [],
   "source": [
    "X=df.pivot(index=\"Entity\",columns=\"Year\",values=\"Hospital beds (per 1,000 people) (per 1,000 people)\")"
   ]
  },
  {
   "cell_type": "code",
   "execution_count": 17,
   "metadata": {
    "ExecuteTime": {
     "end_time": "2020-04-21T22:10:17.371175Z",
     "start_time": "2020-04-21T22:10:17.365300Z"
    }
   },
   "outputs": [],
   "source": [
    "max_beds=X.T.max()"
   ]
  },
  {
   "cell_type": "code",
   "execution_count": 127,
   "metadata": {
    "ExecuteTime": {
     "end_time": "2020-04-21T23:36:03.640676Z",
     "start_time": "2020-04-21T23:36:03.631033Z"
    }
   },
   "outputs": [
    {
     "data": {
      "text/plain": [
       "Entity\n",
       "Afghanistan    0.500000\n",
       "Albania        5.102676\n",
       "Algeria        3.187407\n",
       "Andorra        3.300000\n",
       "Angola         2.721000\n",
       "                 ...   \n",
       "Vietnam        3.832900\n",
       "World          4.125667\n",
       "Yemen          0.865500\n",
       "Zambia         3.482200\n",
       "Zimbabwe       3.876646\n",
       "Length: 245, dtype: float64"
      ]
     },
     "execution_count": 127,
     "metadata": {},
     "output_type": "execute_result"
    }
   ],
   "source": [
    "max_beds"
   ]
  },
  {
   "cell_type": "code",
   "execution_count": 24,
   "metadata": {
    "ExecuteTime": {
     "end_time": "2020-04-21T22:12:12.399194Z",
     "start_time": "2020-04-21T22:12:12.379470Z"
    }
   },
   "outputs": [],
   "source": [
    "df_covid=pd.read_csv(datadir+'international/covid/our_world_in_data/full_data.csv')"
   ]
  },
  {
   "cell_type": "code",
   "execution_count": 25,
   "metadata": {
    "ExecuteTime": {
     "end_time": "2020-04-21T22:12:16.321797Z",
     "start_time": "2020-04-21T22:12:16.302417Z"
    },
    "scrolled": false
   },
   "outputs": [
    {
     "data": {
      "text/html": [
       "<div>\n",
       "<style scoped>\n",
       "    .dataframe tbody tr th:only-of-type {\n",
       "        vertical-align: middle;\n",
       "    }\n",
       "\n",
       "    .dataframe tbody tr th {\n",
       "        vertical-align: top;\n",
       "    }\n",
       "\n",
       "    .dataframe thead th {\n",
       "        text-align: right;\n",
       "    }\n",
       "</style>\n",
       "<table border=\"1\" class=\"dataframe\">\n",
       "  <thead>\n",
       "    <tr style=\"text-align: right;\">\n",
       "      <th></th>\n",
       "      <th>date</th>\n",
       "      <th>location</th>\n",
       "      <th>new_cases</th>\n",
       "      <th>new_deaths</th>\n",
       "      <th>total_cases</th>\n",
       "      <th>total_deaths</th>\n",
       "    </tr>\n",
       "  </thead>\n",
       "  <tbody>\n",
       "    <tr>\n",
       "      <th>0</th>\n",
       "      <td>2019-12-31</td>\n",
       "      <td>Afghanistan</td>\n",
       "      <td>0</td>\n",
       "      <td>0</td>\n",
       "      <td>0</td>\n",
       "      <td>0</td>\n",
       "    </tr>\n",
       "    <tr>\n",
       "      <th>1</th>\n",
       "      <td>2020-01-01</td>\n",
       "      <td>Afghanistan</td>\n",
       "      <td>0</td>\n",
       "      <td>0</td>\n",
       "      <td>0</td>\n",
       "      <td>0</td>\n",
       "    </tr>\n",
       "    <tr>\n",
       "      <th>2</th>\n",
       "      <td>2020-01-02</td>\n",
       "      <td>Afghanistan</td>\n",
       "      <td>0</td>\n",
       "      <td>0</td>\n",
       "      <td>0</td>\n",
       "      <td>0</td>\n",
       "    </tr>\n",
       "    <tr>\n",
       "      <th>3</th>\n",
       "      <td>2020-01-03</td>\n",
       "      <td>Afghanistan</td>\n",
       "      <td>0</td>\n",
       "      <td>0</td>\n",
       "      <td>0</td>\n",
       "      <td>0</td>\n",
       "    </tr>\n",
       "    <tr>\n",
       "      <th>4</th>\n",
       "      <td>2020-01-04</td>\n",
       "      <td>Afghanistan</td>\n",
       "      <td>0</td>\n",
       "      <td>0</td>\n",
       "      <td>0</td>\n",
       "      <td>0</td>\n",
       "    </tr>\n",
       "    <tr>\n",
       "      <th>...</th>\n",
       "      <td>...</td>\n",
       "      <td>...</td>\n",
       "      <td>...</td>\n",
       "      <td>...</td>\n",
       "      <td>...</td>\n",
       "      <td>...</td>\n",
       "    </tr>\n",
       "    <tr>\n",
       "      <th>10843</th>\n",
       "      <td>2020-04-10</td>\n",
       "      <td>Zimbabwe</td>\n",
       "      <td>0</td>\n",
       "      <td>1</td>\n",
       "      <td>11</td>\n",
       "      <td>3</td>\n",
       "    </tr>\n",
       "    <tr>\n",
       "      <th>10844</th>\n",
       "      <td>2020-04-11</td>\n",
       "      <td>Zimbabwe</td>\n",
       "      <td>0</td>\n",
       "      <td>0</td>\n",
       "      <td>11</td>\n",
       "      <td>3</td>\n",
       "    </tr>\n",
       "    <tr>\n",
       "      <th>10845</th>\n",
       "      <td>2020-04-12</td>\n",
       "      <td>Zimbabwe</td>\n",
       "      <td>3</td>\n",
       "      <td>0</td>\n",
       "      <td>14</td>\n",
       "      <td>3</td>\n",
       "    </tr>\n",
       "    <tr>\n",
       "      <th>10846</th>\n",
       "      <td>2020-04-13</td>\n",
       "      <td>Zimbabwe</td>\n",
       "      <td>0</td>\n",
       "      <td>0</td>\n",
       "      <td>14</td>\n",
       "      <td>3</td>\n",
       "    </tr>\n",
       "    <tr>\n",
       "      <th>10847</th>\n",
       "      <td>2020-04-14</td>\n",
       "      <td>Zimbabwe</td>\n",
       "      <td>3</td>\n",
       "      <td>0</td>\n",
       "      <td>17</td>\n",
       "      <td>3</td>\n",
       "    </tr>\n",
       "  </tbody>\n",
       "</table>\n",
       "<p>10848 rows × 6 columns</p>\n",
       "</div>"
      ],
      "text/plain": [
       "             date     location  new_cases  new_deaths  total_cases  \\\n",
       "0      2019-12-31  Afghanistan          0           0            0   \n",
       "1      2020-01-01  Afghanistan          0           0            0   \n",
       "2      2020-01-02  Afghanistan          0           0            0   \n",
       "3      2020-01-03  Afghanistan          0           0            0   \n",
       "4      2020-01-04  Afghanistan          0           0            0   \n",
       "...           ...          ...        ...         ...          ...   \n",
       "10843  2020-04-10     Zimbabwe          0           1           11   \n",
       "10844  2020-04-11     Zimbabwe          0           0           11   \n",
       "10845  2020-04-12     Zimbabwe          3           0           14   \n",
       "10846  2020-04-13     Zimbabwe          0           0           14   \n",
       "10847  2020-04-14     Zimbabwe          3           0           17   \n",
       "\n",
       "       total_deaths  \n",
       "0                 0  \n",
       "1                 0  \n",
       "2                 0  \n",
       "3                 0  \n",
       "4                 0  \n",
       "...             ...  \n",
       "10843             3  \n",
       "10844             3  \n",
       "10845             3  \n",
       "10846             3  \n",
       "10847             3  \n",
       "\n",
       "[10848 rows x 6 columns]"
      ]
     },
     "execution_count": 25,
     "metadata": {},
     "output_type": "execute_result"
    }
   ],
   "source": [
    "df_covid"
   ]
  },
  {
   "cell_type": "code",
   "execution_count": 36,
   "metadata": {
    "ExecuteTime": {
     "end_time": "2020-04-21T22:34:48.796649Z",
     "start_time": "2020-04-21T22:34:48.766834Z"
    },
    "scrolled": true
   },
   "outputs": [],
   "source": [
    "Y_d=df_covid.pivot(index=\"location\",columns=\"date\",values=\"total_deaths\")\n",
    "Y_i=df_covid.pivot(index=\"location\",columns=\"date\",values=\"total_cases\")"
   ]
  },
  {
   "cell_type": "code",
   "execution_count": 129,
   "metadata": {
    "ExecuteTime": {
     "end_time": "2020-04-21T23:37:35.337761Z",
     "start_time": "2020-04-21T23:37:35.300198Z"
    },
    "scrolled": true
   },
   "outputs": [
    {
     "data": {
      "text/html": [
       "<div>\n",
       "<style scoped>\n",
       "    .dataframe tbody tr th:only-of-type {\n",
       "        vertical-align: middle;\n",
       "    }\n",
       "\n",
       "    .dataframe tbody tr th {\n",
       "        vertical-align: top;\n",
       "    }\n",
       "\n",
       "    .dataframe thead th {\n",
       "        text-align: right;\n",
       "    }\n",
       "</style>\n",
       "<table border=\"1\" class=\"dataframe\">\n",
       "  <thead>\n",
       "    <tr style=\"text-align: right;\">\n",
       "      <th>date</th>\n",
       "      <th>2019-12-31</th>\n",
       "      <th>2020-01-01</th>\n",
       "      <th>2020-01-02</th>\n",
       "      <th>2020-01-03</th>\n",
       "      <th>2020-01-04</th>\n",
       "      <th>2020-01-05</th>\n",
       "      <th>2020-01-06</th>\n",
       "      <th>2020-01-07</th>\n",
       "      <th>2020-01-08</th>\n",
       "      <th>2020-01-09</th>\n",
       "      <th>...</th>\n",
       "      <th>2020-04-05</th>\n",
       "      <th>2020-04-06</th>\n",
       "      <th>2020-04-07</th>\n",
       "      <th>2020-04-08</th>\n",
       "      <th>2020-04-09</th>\n",
       "      <th>2020-04-10</th>\n",
       "      <th>2020-04-11</th>\n",
       "      <th>2020-04-12</th>\n",
       "      <th>2020-04-13</th>\n",
       "      <th>2020-04-14</th>\n",
       "    </tr>\n",
       "    <tr>\n",
       "      <th>location</th>\n",
       "      <th></th>\n",
       "      <th></th>\n",
       "      <th></th>\n",
       "      <th></th>\n",
       "      <th></th>\n",
       "      <th></th>\n",
       "      <th></th>\n",
       "      <th></th>\n",
       "      <th></th>\n",
       "      <th></th>\n",
       "      <th></th>\n",
       "      <th></th>\n",
       "      <th></th>\n",
       "      <th></th>\n",
       "      <th></th>\n",
       "      <th></th>\n",
       "      <th></th>\n",
       "      <th></th>\n",
       "      <th></th>\n",
       "      <th></th>\n",
       "      <th></th>\n",
       "    </tr>\n",
       "  </thead>\n",
       "  <tbody>\n",
       "    <tr>\n",
       "      <th>Malta</th>\n",
       "      <td>NaN</td>\n",
       "      <td>NaN</td>\n",
       "      <td>NaN</td>\n",
       "      <td>NaN</td>\n",
       "      <td>NaN</td>\n",
       "      <td>NaN</td>\n",
       "      <td>NaN</td>\n",
       "      <td>NaN</td>\n",
       "      <td>NaN</td>\n",
       "      <td>NaN</td>\n",
       "      <td>...</td>\n",
       "      <td>213.0</td>\n",
       "      <td>234.0</td>\n",
       "      <td>241.0</td>\n",
       "      <td>293.0</td>\n",
       "      <td>299.0</td>\n",
       "      <td>337.0</td>\n",
       "      <td>350.0</td>\n",
       "      <td>370.0</td>\n",
       "      <td>378.0</td>\n",
       "      <td>384.0</td>\n",
       "    </tr>\n",
       "    <tr>\n",
       "      <th>Jordan</th>\n",
       "      <td>NaN</td>\n",
       "      <td>NaN</td>\n",
       "      <td>NaN</td>\n",
       "      <td>NaN</td>\n",
       "      <td>NaN</td>\n",
       "      <td>NaN</td>\n",
       "      <td>NaN</td>\n",
       "      <td>NaN</td>\n",
       "      <td>NaN</td>\n",
       "      <td>NaN</td>\n",
       "      <td>...</td>\n",
       "      <td>323.0</td>\n",
       "      <td>345.0</td>\n",
       "      <td>349.0</td>\n",
       "      <td>349.0</td>\n",
       "      <td>358.0</td>\n",
       "      <td>372.0</td>\n",
       "      <td>372.0</td>\n",
       "      <td>381.0</td>\n",
       "      <td>389.0</td>\n",
       "      <td>391.0</td>\n",
       "    </tr>\n",
       "    <tr>\n",
       "      <th>Taiwan</th>\n",
       "      <td>0.0</td>\n",
       "      <td>0.0</td>\n",
       "      <td>0.0</td>\n",
       "      <td>0.0</td>\n",
       "      <td>0.0</td>\n",
       "      <td>0.0</td>\n",
       "      <td>0.0</td>\n",
       "      <td>0.0</td>\n",
       "      <td>0.0</td>\n",
       "      <td>0.0</td>\n",
       "      <td>...</td>\n",
       "      <td>363.0</td>\n",
       "      <td>363.0</td>\n",
       "      <td>373.0</td>\n",
       "      <td>376.0</td>\n",
       "      <td>379.0</td>\n",
       "      <td>380.0</td>\n",
       "      <td>380.0</td>\n",
       "      <td>385.0</td>\n",
       "      <td>388.0</td>\n",
       "      <td>393.0</td>\n",
       "    </tr>\n",
       "    <tr>\n",
       "      <th>Honduras</th>\n",
       "      <td>NaN</td>\n",
       "      <td>NaN</td>\n",
       "      <td>NaN</td>\n",
       "      <td>NaN</td>\n",
       "      <td>NaN</td>\n",
       "      <td>NaN</td>\n",
       "      <td>NaN</td>\n",
       "      <td>NaN</td>\n",
       "      <td>NaN</td>\n",
       "      <td>NaN</td>\n",
       "      <td>...</td>\n",
       "      <td>268.0</td>\n",
       "      <td>298.0</td>\n",
       "      <td>305.0</td>\n",
       "      <td>312.0</td>\n",
       "      <td>343.0</td>\n",
       "      <td>382.0</td>\n",
       "      <td>392.0</td>\n",
       "      <td>393.0</td>\n",
       "      <td>397.0</td>\n",
       "      <td>407.0</td>\n",
       "    </tr>\n",
       "    <tr>\n",
       "      <th>Kyrgyzstan</th>\n",
       "      <td>NaN</td>\n",
       "      <td>NaN</td>\n",
       "      <td>NaN</td>\n",
       "      <td>NaN</td>\n",
       "      <td>NaN</td>\n",
       "      <td>NaN</td>\n",
       "      <td>NaN</td>\n",
       "      <td>NaN</td>\n",
       "      <td>NaN</td>\n",
       "      <td>NaN</td>\n",
       "      <td>...</td>\n",
       "      <td>144.0</td>\n",
       "      <td>216.0</td>\n",
       "      <td>228.0</td>\n",
       "      <td>270.0</td>\n",
       "      <td>280.0</td>\n",
       "      <td>298.0</td>\n",
       "      <td>339.0</td>\n",
       "      <td>377.0</td>\n",
       "      <td>419.0</td>\n",
       "      <td>430.0</td>\n",
       "    </tr>\n",
       "    <tr>\n",
       "      <th>...</th>\n",
       "      <td>...</td>\n",
       "      <td>...</td>\n",
       "      <td>...</td>\n",
       "      <td>...</td>\n",
       "      <td>...</td>\n",
       "      <td>...</td>\n",
       "      <td>...</td>\n",
       "      <td>...</td>\n",
       "      <td>...</td>\n",
       "      <td>...</td>\n",
       "      <td>...</td>\n",
       "      <td>...</td>\n",
       "      <td>...</td>\n",
       "      <td>...</td>\n",
       "      <td>...</td>\n",
       "      <td>...</td>\n",
       "      <td>...</td>\n",
       "      <td>...</td>\n",
       "      <td>...</td>\n",
       "      <td>...</td>\n",
       "      <td>...</td>\n",
       "    </tr>\n",
       "    <tr>\n",
       "      <th>Germany</th>\n",
       "      <td>0.0</td>\n",
       "      <td>0.0</td>\n",
       "      <td>0.0</td>\n",
       "      <td>0.0</td>\n",
       "      <td>0.0</td>\n",
       "      <td>0.0</td>\n",
       "      <td>0.0</td>\n",
       "      <td>0.0</td>\n",
       "      <td>0.0</td>\n",
       "      <td>0.0</td>\n",
       "      <td>...</td>\n",
       "      <td>91714.0</td>\n",
       "      <td>95391.0</td>\n",
       "      <td>99225.0</td>\n",
       "      <td>103228.0</td>\n",
       "      <td>108202.0</td>\n",
       "      <td>113525.0</td>\n",
       "      <td>117658.0</td>\n",
       "      <td>120479.0</td>\n",
       "      <td>123016.0</td>\n",
       "      <td>125098.0</td>\n",
       "    </tr>\n",
       "    <tr>\n",
       "      <th>Italy</th>\n",
       "      <td>0.0</td>\n",
       "      <td>0.0</td>\n",
       "      <td>0.0</td>\n",
       "      <td>0.0</td>\n",
       "      <td>0.0</td>\n",
       "      <td>0.0</td>\n",
       "      <td>0.0</td>\n",
       "      <td>0.0</td>\n",
       "      <td>0.0</td>\n",
       "      <td>0.0</td>\n",
       "      <td>...</td>\n",
       "      <td>124632.0</td>\n",
       "      <td>128948.0</td>\n",
       "      <td>132547.0</td>\n",
       "      <td>135586.0</td>\n",
       "      <td>139422.0</td>\n",
       "      <td>143626.0</td>\n",
       "      <td>147577.0</td>\n",
       "      <td>152271.0</td>\n",
       "      <td>156363.0</td>\n",
       "      <td>159516.0</td>\n",
       "    </tr>\n",
       "    <tr>\n",
       "      <th>Spain</th>\n",
       "      <td>0.0</td>\n",
       "      <td>0.0</td>\n",
       "      <td>0.0</td>\n",
       "      <td>0.0</td>\n",
       "      <td>0.0</td>\n",
       "      <td>0.0</td>\n",
       "      <td>0.0</td>\n",
       "      <td>0.0</td>\n",
       "      <td>0.0</td>\n",
       "      <td>0.0</td>\n",
       "      <td>...</td>\n",
       "      <td>124736.0</td>\n",
       "      <td>130759.0</td>\n",
       "      <td>135032.0</td>\n",
       "      <td>140510.0</td>\n",
       "      <td>146690.0</td>\n",
       "      <td>152446.0</td>\n",
       "      <td>157022.0</td>\n",
       "      <td>161852.0</td>\n",
       "      <td>166019.0</td>\n",
       "      <td>169496.0</td>\n",
       "    </tr>\n",
       "    <tr>\n",
       "      <th>United States</th>\n",
       "      <td>0.0</td>\n",
       "      <td>0.0</td>\n",
       "      <td>0.0</td>\n",
       "      <td>0.0</td>\n",
       "      <td>0.0</td>\n",
       "      <td>0.0</td>\n",
       "      <td>0.0</td>\n",
       "      <td>0.0</td>\n",
       "      <td>0.0</td>\n",
       "      <td>0.0</td>\n",
       "      <td>...</td>\n",
       "      <td>312237.0</td>\n",
       "      <td>337635.0</td>\n",
       "      <td>368196.0</td>\n",
       "      <td>398809.0</td>\n",
       "      <td>432132.0</td>\n",
       "      <td>466033.0</td>\n",
       "      <td>501560.0</td>\n",
       "      <td>529951.0</td>\n",
       "      <td>557571.0</td>\n",
       "      <td>582594.0</td>\n",
       "    </tr>\n",
       "    <tr>\n",
       "      <th>World</th>\n",
       "      <td>27.0</td>\n",
       "      <td>27.0</td>\n",
       "      <td>27.0</td>\n",
       "      <td>44.0</td>\n",
       "      <td>44.0</td>\n",
       "      <td>59.0</td>\n",
       "      <td>59.0</td>\n",
       "      <td>59.0</td>\n",
       "      <td>59.0</td>\n",
       "      <td>59.0</td>\n",
       "      <td>...</td>\n",
       "      <td>1174364.0</td>\n",
       "      <td>1245596.0</td>\n",
       "      <td>1316986.0</td>\n",
       "      <td>1391888.0</td>\n",
       "      <td>1476818.0</td>\n",
       "      <td>1563857.0</td>\n",
       "      <td>1653206.0</td>\n",
       "      <td>1734913.0</td>\n",
       "      <td>1807303.0</td>\n",
       "      <td>1873265.0</td>\n",
       "    </tr>\n",
       "  </tbody>\n",
       "</table>\n",
       "<p>99 rows × 106 columns</p>\n",
       "</div>"
      ],
      "text/plain": [
       "date           2019-12-31  2020-01-01  2020-01-02  2020-01-03  2020-01-04  \\\n",
       "location                                                                    \n",
       "Malta                 NaN         NaN         NaN         NaN         NaN   \n",
       "Jordan                NaN         NaN         NaN         NaN         NaN   \n",
       "Taiwan                0.0         0.0         0.0         0.0         0.0   \n",
       "Honduras              NaN         NaN         NaN         NaN         NaN   \n",
       "Kyrgyzstan            NaN         NaN         NaN         NaN         NaN   \n",
       "...                   ...         ...         ...         ...         ...   \n",
       "Germany               0.0         0.0         0.0         0.0         0.0   \n",
       "Italy                 0.0         0.0         0.0         0.0         0.0   \n",
       "Spain                 0.0         0.0         0.0         0.0         0.0   \n",
       "United States         0.0         0.0         0.0         0.0         0.0   \n",
       "World                27.0        27.0        27.0        44.0        44.0   \n",
       "\n",
       "date           2020-01-05  2020-01-06  2020-01-07  2020-01-08  2020-01-09  \\\n",
       "location                                                                    \n",
       "Malta                 NaN         NaN         NaN         NaN         NaN   \n",
       "Jordan                NaN         NaN         NaN         NaN         NaN   \n",
       "Taiwan                0.0         0.0         0.0         0.0         0.0   \n",
       "Honduras              NaN         NaN         NaN         NaN         NaN   \n",
       "Kyrgyzstan            NaN         NaN         NaN         NaN         NaN   \n",
       "...                   ...         ...         ...         ...         ...   \n",
       "Germany               0.0         0.0         0.0         0.0         0.0   \n",
       "Italy                 0.0         0.0         0.0         0.0         0.0   \n",
       "Spain                 0.0         0.0         0.0         0.0         0.0   \n",
       "United States         0.0         0.0         0.0         0.0         0.0   \n",
       "World                59.0        59.0        59.0        59.0        59.0   \n",
       "\n",
       "date           ...  2020-04-05  2020-04-06  2020-04-07  2020-04-08  \\\n",
       "location       ...                                                   \n",
       "Malta          ...       213.0       234.0       241.0       293.0   \n",
       "Jordan         ...       323.0       345.0       349.0       349.0   \n",
       "Taiwan         ...       363.0       363.0       373.0       376.0   \n",
       "Honduras       ...       268.0       298.0       305.0       312.0   \n",
       "Kyrgyzstan     ...       144.0       216.0       228.0       270.0   \n",
       "...            ...         ...         ...         ...         ...   \n",
       "Germany        ...     91714.0     95391.0     99225.0    103228.0   \n",
       "Italy          ...    124632.0    128948.0    132547.0    135586.0   \n",
       "Spain          ...    124736.0    130759.0    135032.0    140510.0   \n",
       "United States  ...    312237.0    337635.0    368196.0    398809.0   \n",
       "World          ...   1174364.0   1245596.0   1316986.0   1391888.0   \n",
       "\n",
       "date           2020-04-09  2020-04-10  2020-04-11  2020-04-12  2020-04-13  \\\n",
       "location                                                                    \n",
       "Malta               299.0       337.0       350.0       370.0       378.0   \n",
       "Jordan              358.0       372.0       372.0       381.0       389.0   \n",
       "Taiwan              379.0       380.0       380.0       385.0       388.0   \n",
       "Honduras            343.0       382.0       392.0       393.0       397.0   \n",
       "Kyrgyzstan          280.0       298.0       339.0       377.0       419.0   \n",
       "...                   ...         ...         ...         ...         ...   \n",
       "Germany          108202.0    113525.0    117658.0    120479.0    123016.0   \n",
       "Italy            139422.0    143626.0    147577.0    152271.0    156363.0   \n",
       "Spain            146690.0    152446.0    157022.0    161852.0    166019.0   \n",
       "United States    432132.0    466033.0    501560.0    529951.0    557571.0   \n",
       "World           1476818.0   1563857.0   1653206.0   1734913.0   1807303.0   \n",
       "\n",
       "date           2020-04-14  \n",
       "location                   \n",
       "Malta               384.0  \n",
       "Jordan              391.0  \n",
       "Taiwan              393.0  \n",
       "Honduras            407.0  \n",
       "Kyrgyzstan          430.0  \n",
       "...                   ...  \n",
       "Germany          125098.0  \n",
       "Italy            159516.0  \n",
       "Spain            169496.0  \n",
       "United States    582594.0  \n",
       "World           1873265.0  \n",
       "\n",
       "[99 rows x 106 columns]"
      ]
     },
     "execution_count": 129,
     "metadata": {},
     "output_type": "execute_result"
    }
   ],
   "source": [
    "Y_i.sort_values(by='2020-04-14').iloc[-100:-1]"
   ]
  },
  {
   "cell_type": "code",
   "execution_count": 99,
   "metadata": {
    "ExecuteTime": {
     "end_time": "2020-04-21T22:59:15.072638Z",
     "start_time": "2020-04-21T22:59:14.834767Z"
    },
    "scrolled": true
   },
   "outputs": [
    {
     "data": {
      "text/plain": [
       "<matplotlib.axes._subplots.AxesSubplot at 0x7fb6d3be96d0>"
      ]
     },
     "execution_count": 99,
     "metadata": {},
     "output_type": "execute_result"
    },
    {
     "data": {
      "image/png": "[encoded data removed]",
      "text/plain": [
       "<Figure size 432x288 with 1 Axes>"
      ]
     },
     "metadata": {
      "needs_background": "light"
     },
     "output_type": "display_data"
    }
   ],
   "source": [
    "Y_i.sort_values(by='2020-04-14').iloc[-10:-2].T.plot()"
   ]
  },
  {
   "cell_type": "code",
   "execution_count": 38,
   "metadata": {
    "ExecuteTime": {
     "end_time": "2020-04-21T22:36:39.755030Z",
     "start_time": "2020-04-21T22:36:39.746362Z"
    }
   },
   "outputs": [],
   "source": [
    "guesses = [2.0, 0.3, 0.2, 0.05, 0.2, 0.03] + [0.5e-3, 0.5e-3, 0.3e-3, 0.1e-4, 0.5]\n",
    "ranges = [(0.5, 3.0), (0.0, 0.5), (0.0, 0.5), (0.01, 0.5), (0.0, 0.5), (0.005, 0.1)]+[(1.0e-7, 0.01), (1.0e-7, 0.01), (1.0e-7, 0.01), (1.0e-7, 0.01), (1.0e-7, 0.9)]"
   ]
  },
  {
   "cell_type": "code",
   "execution_count": 126,
   "metadata": {
    "ExecuteTime": {
     "end_time": "2020-04-21T23:34:57.964343Z",
     "start_time": "2020-04-21T23:33:48.307264Z"
    }
   },
   "outputs": [],
   "source": [
    "from scipy.optimize import least_squares\n",
    "res=least_squares(fit_leastsq_qd, \n",
    "              guesses, \n",
    "              args=(Y_d.loc['Germany'],),\n",
    "              bounds=np.transpose(np.array(ranges))\n",
    "             )['x']"
   ]
  },
  {
   "cell_type": "code",
   "execution_count": 103,
   "metadata": {
    "ExecuteTime": {
     "end_time": "2020-04-21T23:01:16.006230Z",
     "start_time": "2020-04-21T23:01:15.985336Z"
    }
   },
   "outputs": [
    {
     "data": {
      "text/plain": [
       "date\n",
       "2019-12-31       0.0\n",
       "2020-01-01       0.0\n",
       "2020-01-02       0.0\n",
       "2020-01-03       0.0\n",
       "2020-01-04       0.0\n",
       "               ...  \n",
       "2020-04-10    4110.0\n",
       "2020-04-11    4232.0\n",
       "2020-04-12    4357.0\n",
       "2020-04-13    4474.0\n",
       "2020-04-14    4585.0\n",
       "Name: Iran, Length: 106, dtype: float64"
      ]
     },
     "execution_count": 103,
     "metadata": {},
     "output_type": "execute_result"
    }
   ],
   "source": [
    "fit_leastsq_qd(guesses, Y_d.loc['Iran'])"
   ]
  },
  {
   "cell_type": "code",
   "execution_count": 120,
   "metadata": {
    "ExecuteTime": {
     "end_time": "2020-04-21T23:17:32.359030Z",
     "start_time": "2020-04-21T23:17:32.333731Z"
    }
   },
   "outputs": [
    {
     "data": {
      "text/html": [
       "\n",
       "    <div class=\"bk-root\">\n",
       "        <a href=\"https://bokeh.org\" target=\"_blank\" class=\"bk-logo bk-logo-small bk-logo-notebook\"></a>\n",
       "        <span id=\"3853\">Loading BokehJS ...</span>\n",
       "    </div>"
      ]
     },
     "metadata": {},
     "output_type": "display_data"
    },
    {
     "data": {
      "application/javascript": [
       "\n",
       "(function(root) {\n",
       "  function now() {\n",
       "    return new Date();\n",
       "  }\n",
       "\n",
       "  var force = true;\n",
       "\n",
       "  if (typeof root._bokeh_onload_callbacks === \"undefined\" || force === true) {\n",
       "    root._bokeh_onload_callbacks = [];\n",
       "    root._bokeh_is_loading = undefined;\n",
       "  }\n",
       "\n",
       "  var JS_MIME_TYPE = 'application/javascript';\n",
       "  var HTML_MIME_TYPE = 'text/html';\n",
       "  var EXEC_MIME_TYPE = 'application/vnd.bokehjs_exec.v0+json';\n",
       "  var CLASS_NAME = 'output_bokeh rendered_html';\n",
       "\n",
       "  /**\n",
       "   * Render data to the DOM node\n",
       "   */\n",
       "  function render(props, node) {\n",
       "    var script = document.createElement(\"script\");\n",
       "    node.appendChild(script);\n",
       "  }\n",
       "\n",
       "  /**\n",
       "   * Handle when an output is cleared or removed\n",
       "   */\n",
       "  function handleClearOutput(event, handle) {\n",
       "    var cell = handle.cell;\n",
       "\n",
       "    var id = cell.output_area._bokeh_element_id;\n",
       "    var server_id = cell.output_area._bokeh_server_id;\n",
       "    // Clean up Bokeh references\n",
       "    if (id != null && id in Bokeh.index) {\n",
       "      Bokeh.index[id].model.document.clear();\n",
       "      delete Bokeh.index[id];\n",
       "    }\n",
       "\n",
       "    if (server_id !== undefined) {\n",
       "      // Clean up Bokeh references\n",
       "      var cmd = \"from bokeh.io.state import curstate; print(curstate().uuid_to_server['\" + server_id + \"'].get_sessions()[0].document.roots[0]._id)\";\n",
       "      cell.notebook.kernel.execute(cmd, {\n",
       "        iopub: {\n",
       "          output: function(msg) {\n",
       "            var id = msg.content.text.trim();\n",
       "            if (id in Bokeh.index) {\n",
       "              Bokeh.index[id].model.document.clear();\n",
       "              delete Bokeh.index[id];\n",
       "            }\n",
       "          }\n",
       "        }\n",
       "      });\n",
       "      // Destroy server and session\n",
       "      var cmd = \"import bokeh.io.notebook as ion; ion.destroy_server('\" + server_id + \"')\";\n",
       "      cell.notebook.kernel.execute(cmd);\n",
       "    }\n",
       "  }\n",
       "\n",
       "  /**\n",
       "   * Handle when a new output is added\n",
       "   */\n",
       "  function handleAddOutput(event, handle) {\n",
       "    var output_area = handle.output_area;\n",
       "    var output = handle.output;\n",
       "\n",
       "    // limit handleAddOutput to display_data with EXEC_MIME_TYPE content only\n",
       "    if ((output.output_type != \"display_data\") || (!output.data.hasOwnProperty(EXEC_MIME_TYPE))) {\n",
       "      return\n",
       "    }\n",
       "\n",
       "    var toinsert = output_area.element.find(\".\" + CLASS_NAME.split(' ')[0]);\n",
       "\n",
       "    if (output.metadata[EXEC_MIME_TYPE][\"id\"] !== undefined) {\n",
       "      toinsert[toinsert.length - 1].firstChild.textContent = output.data[JS_MIME_TYPE];\n",
       "      // store reference to embed id on output_area\n",
       "      output_area._bokeh_element_id = output.metadata[EXEC_MIME_TYPE][\"id\"];\n",
       "    }\n",
       "    if (output.metadata[EXEC_MIME_TYPE][\"server_id\"] !== undefined) {\n",
       "      var bk_div = document.createElement(\"div\");\n",
       "      bk_div.innerHTML = output.data[HTML_MIME_TYPE];\n",
       "      var script_attrs = bk_div.children[0].attributes;\n",
       "      for (var i = 0; i < script_attrs.length; i++) {\n",
       "        toinsert[toinsert.length - 1].firstChild.setAttribute(script_attrs[i].name, script_attrs[i].value);\n",
       "        toinsert[toinsert.length - 1].firstChild.textContent = bk_div.children[0].textContent\n",
       "      }\n",
       "      // store reference to server id on output_area\n",
       "      output_area._bokeh_server_id = output.metadata[EXEC_MIME_TYPE][\"server_id\"];\n",
       "    }\n",
       "  }\n",
       "\n",
       "  function register_renderer(events, OutputArea) {\n",
       "\n",
       "    function append_mime(data, metadata, element) {\n",
       "      // create a DOM node to render to\n",
       "      var toinsert = this.create_output_subarea(\n",
       "        metadata,\n",
       "        CLASS_NAME,\n",
       "        EXEC_MIME_TYPE\n",
       "      );\n",
       "      this.keyboard_manager.register_events(toinsert);\n",
       "      // Render to node\n",
       "      var props = {data: data, metadata: metadata[EXEC_MIME_TYPE]};\n",
       "      render(props, toinsert[toinsert.length - 1]);\n",
       "      element.append(toinsert);\n",
       "      return toinsert\n",
       "    }\n",
       "\n",
       "    /* Handle when an output is cleared or removed */\n",
       "    events.on('clear_output.CodeCell', handleClearOutput);\n",
       "    events.on('delete.Cell', handleClearOutput);\n",
       "\n",
       "    /* Handle when a new output is added */\n",
       "    events.on('output_added.OutputArea', handleAddOutput);\n",
       "\n",
       "    /**\n",
       "     * Register the mime type and append_mime function with output_area\n",
       "     */\n",
       "    OutputArea.prototype.register_mime_type(EXEC_MIME_TYPE, append_mime, {\n",
       "      /* Is output safe? */\n",
       "      safe: true,\n",
       "      /* Index of renderer in `output_area.display_order` */\n",
       "      index: 0\n",
       "    });\n",
       "  }\n",
       "\n",
       "  // register the mime type if in Jupyter Notebook environment and previously unregistered\n",
       "  if (root.Jupyter !== undefined) {\n",
       "    var events = require('base/js/events');\n",
       "    var OutputArea = require('notebook/js/outputarea').OutputArea;\n",
       "\n",
       "    if (OutputArea.prototype.mime_types().indexOf(EXEC_MIME_TYPE) == -1) {\n",
       "      register_renderer(events, OutputArea);\n",
       "    }\n",
       "  }\n",
       "\n",
       "  \n",
       "  if (typeof (root._bokeh_timeout) === \"undefined\" || force === true) {\n",
       "    root._bokeh_timeout = Date.now() + 5000;\n",
       "    root._bokeh_failed_load = false;\n",
       "  }\n",
       "\n",
       "  var NB_LOAD_WARNING = {'data': {'text/html':\n",
       "     \"<div style='background-color: #fdd'>\\n\"+\n",
       "     \"<p>\\n\"+\n",
       "     \"BokehJS does not appear to have successfully loaded. If loading BokehJS from CDN, this \\n\"+\n",
       "     \"may be due to a slow or bad network connection. Possible fixes:\\n\"+\n",
       "     \"</p>\\n\"+\n",
       "     \"<ul>\\n\"+\n",
       "     \"<li>re-rerun `output_notebook()` to attempt to load from CDN again, or</li>\\n\"+\n",
       "     \"<li>use INLINE resources instead, as so:</li>\\n\"+\n",
       "     \"</ul>\\n\"+\n",
       "     \"<code>\\n\"+\n",
       "     \"from bokeh.resources import INLINE\\n\"+\n",
       "     \"output_notebook(resources=INLINE)\\n\"+\n",
       "     \"</code>\\n\"+\n",
       "     \"</div>\"}};\n",
       "\n",
       "  function display_loaded() {\n",
       "    var el = document.getElementById(\"3853\");\n",
       "    if (el != null) {\n",
       "      el.textContent = \"BokehJS is loading...\";\n",
       "    }\n",
       "    if (root.Bokeh !== undefined) {\n",
       "      if (el != null) {\n",
       "        el.textContent = \"BokehJS \" + root.Bokeh.version + \" successfully loaded.\";\n",
       "      }\n",
       "    } else if (Date.now() < root._bokeh_timeout) {\n",
       "      setTimeout(display_loaded, 100)\n",
       "    }\n",
       "  }\n",
       "\n",
       "\n",
       "  function run_callbacks() {\n",
       "    try {\n",
       "      root._bokeh_onload_callbacks.forEach(function(callback) {\n",
       "        if (callback != null)\n",
       "          callback();\n",
       "      });\n",
       "    } finally {\n",
       "      delete root._bokeh_onload_callbacks\n",
       "    }\n",
       "    console.debug(\"Bokeh: all callbacks have finished\");\n",
       "  }\n",
       "\n",
       "  function load_libs(css_urls, js_urls, callback) {\n",
       "    if (css_urls == null) css_urls = [];\n",
       "    if (js_urls == null) js_urls = [];\n",
       "\n",
       "    root._bokeh_onload_callbacks.push(callback);\n",
       "    if (root._bokeh_is_loading > 0) {\n",
       "      console.debug(\"Bokeh: BokehJS is being loaded, scheduling callback at\", now());\n",
       "      return null;\n",
       "    }\n",
       "    if (js_urls == null || js_urls.length === 0) {\n",
       "      run_callbacks();\n",
       "      return null;\n",
       "    }\n",
       "    console.debug(\"Bokeh: BokehJS not loaded, scheduling load and callback at\", now());\n",
       "    root._bokeh_is_loading = css_urls.length + js_urls.length;\n",
       "\n",
       "    function on_load() {\n",
       "      root._bokeh_is_loading--;\n",
       "      if (root._bokeh_is_loading === 0) {\n",
       "        console.debug(\"Bokeh: all BokehJS libraries/stylesheets loaded\");\n",
       "        run_callbacks()\n",
       "      }\n",
       "    }\n",
       "\n",
       "    function on_error() {\n",
       "      console.error(\"failed to load \" + url);\n",
       "    }\n",
       "\n",
       "    for (var i = 0; i < css_urls.length; i++) {\n",
       "      var url = css_urls[i];\n",
       "      const element = document.createElement(\"link\");\n",
       "      element.onload = on_load;\n",
       "      element.onerror = on_error;\n",
       "      element.rel = \"stylesheet\";\n",
       "      element.type = \"text/css\";\n",
       "      element.href = url;\n",
       "      console.debug(\"Bokeh: injecting link tag for BokehJS stylesheet: \", url);\n",
       "      document.body.appendChild(element);\n",
       "    }\n",
       "\n",
       "    const hashes = {\"https://cdn.bokeh.org/bokeh/release/bokeh-2.0.1.min.js\": \"JpP8FXbgAZLkfur7LiK3j9AGBhHNIvF742meBJrjO2ShJDhCG2I1uVvW+0DUtrmc\", \"https://cdn.bokeh.org/bokeh/release/bokeh-widgets-2.0.1.min.js\": \"xZlADit0Q04ISQEdKg2k3L4W9AwQBAuDs9nJL9fM/WwzL1tEU9VPNezOFX0nLEAz\", \"https://cdn.bokeh.org/bokeh/release/bokeh-tables-2.0.1.min.js\": \"4BuPRZkdMKSnj3zoxiNrQ86XgNw0rYmBOxe7nshquXwwcauupgBF2DHLVG1WuZlV\", \"https://cdn.bokeh.org/bokeh/release/bokeh-gl-2.0.1.min.js\": \"Dv1SQ87hmDqK6S5OhBf0bCuwAEvL5QYL0PuR/F1SPVhCS/r/abjkbpKDYL2zeM19\"};\n",
       "\n",
       "    for (var i = 0; i < js_urls.length; i++) {\n",
       "      var url = js_urls[i];\n",
       "      var element = document.createElement('script');\n",
       "      element.onload = on_load;\n",
       "      element.onerror = on_error;\n",
       "      element.async = false;\n",
       "      element.src = url;\n",
       "      if (url in hashes) {\n",
       "        element.crossOrigin = \"anonymous\";\n",
       "        element.integrity = \"sha384-\" + hashes[url];\n",
       "      }\n",
       "      console.debug(\"Bokeh: injecting script tag for BokehJS library: \", url);\n",
       "      document.head.appendChild(element);\n",
       "    }\n",
       "  };var element = document.getElementById(\"3853\");\n",
       "  if (element == null) {\n",
       "    console.error(\"Bokeh: ERROR: autoload.js configured with elementid '3853' but no matching script tag was found. \")\n",
       "    return false;\n",
       "  }\n",
       "\n",
       "  function inject_raw_css(css) {\n",
       "    const element = document.createElement(\"style\");\n",
       "    element.appendChild(document.createTextNode(css));\n",
       "    document.body.appendChild(element);\n",
       "  }\n",
       "\n",
       "  \n",
       "  var js_urls = [\"https://cdn.bokeh.org/bokeh/release/bokeh-2.0.1.min.js\", \"https://cdn.bokeh.org/bokeh/release/bokeh-widgets-2.0.1.min.js\", \"https://cdn.bokeh.org/bokeh/release/bokeh-tables-2.0.1.min.js\", \"https://cdn.bokeh.org/bokeh/release/bokeh-gl-2.0.1.min.js\"];\n",
       "  var css_urls = [];\n",
       "  \n",
       "\n",
       "  var inline_js = [\n",
       "    function(Bokeh) {\n",
       "      Bokeh.set_log_level(\"info\");\n",
       "    },\n",
       "    function(Bokeh) {\n",
       "    \n",
       "    \n",
       "    }\n",
       "  ];\n",
       "\n",
       "  function run_inline_js() {\n",
       "    \n",
       "    if (root.Bokeh !== undefined || force === true) {\n",
       "      \n",
       "    for (var i = 0; i < inline_js.length; i++) {\n",
       "      inline_js[i].call(root, root.Bokeh);\n",
       "    }\n",
       "    if (force === true) {\n",
       "        display_loaded();\n",
       "      }} else if (Date.now() < root._bokeh_timeout) {\n",
       "      setTimeout(run_inline_js, 100);\n",
       "    } else if (!root._bokeh_failed_load) {\n",
       "      console.log(\"Bokeh: BokehJS failed to load within specified timeout.\");\n",
       "      root._bokeh_failed_load = true;\n",
       "    } else if (force !== true) {\n",
       "      var cell = $(document.getElementById(\"3853\")).parents('.cell').data().cell;\n",
       "      cell.output_area.append_execute_result(NB_LOAD_WARNING)\n",
       "    }\n",
       "\n",
       "  }\n",
       "\n",
       "  if (root._bokeh_is_loading === 0) {\n",
       "    console.debug(\"Bokeh: BokehJS loaded, going straight to plotting\");\n",
       "    run_inline_js();\n",
       "  } else {\n",
       "    load_libs(css_urls, js_urls, function() {\n",
       "      console.debug(\"Bokeh: BokehJS plotting callback run at\", now());\n",
       "      run_inline_js();\n",
       "    });\n",
       "  }\n",
       "}(window));"
      ],
      "application/vnd.bokehjs_load.v0+json": "\n(function(root) {\n  function now() {\n    return new Date();\n  }\n\n  var force = true;\n\n  if (typeof root._bokeh_onload_callbacks === \"undefined\" || force === true) {\n    root._bokeh_onload_callbacks = [];\n    root._bokeh_is_loading = undefined;\n  }\n\n  \n\n  \n  if (typeof (root._bokeh_timeout) === \"undefined\" || force === true) {\n    root._bokeh_timeout = Date.now() + 5000;\n    root._bokeh_failed_load = false;\n  }\n\n  var NB_LOAD_WARNING = {'data': {'text/html':\n     \"<div style='background-color: #fdd'>\\n\"+\n     \"<p>\\n\"+\n     \"BokehJS does not appear to have successfully loaded. If loading BokehJS from CDN, this \\n\"+\n     \"may be due to a slow or bad network connection. Possible fixes:\\n\"+\n     \"</p>\\n\"+\n     \"<ul>\\n\"+\n     \"<li>re-rerun `output_notebook()` to attempt to load from CDN again, or</li>\\n\"+\n     \"<li>use INLINE resources instead, as so:</li>\\n\"+\n     \"</ul>\\n\"+\n     \"<code>\\n\"+\n     \"from bokeh.resources import INLINE\\n\"+\n     \"output_notebook(resources=INLINE)\\n\"+\n     \"</code>\\n\"+\n     \"</div>\"}};\n\n  function display_loaded() {\n    var el = document.getElementById(\"3853\");\n    if (el != null) {\n      el.textContent = \"BokehJS is loading...\";\n    }\n    if (root.Bokeh !== undefined) {\n      if (el != null) {\n        el.textContent = \"BokehJS \" + root.Bokeh.version + \" successfully loaded.\";\n      }\n    } else if (Date.now() < root._bokeh_timeout) {\n      setTimeout(display_loaded, 100)\n    }\n  }\n\n\n  function run_callbacks() {\n    try {\n      root._bokeh_onload_callbacks.forEach(function(callback) {\n        if (callback != null)\n          callback();\n      });\n    } finally {\n      delete root._bokeh_onload_callbacks\n    }\n    console.debug(\"Bokeh: all callbacks have finished\");\n  }\n\n  function load_libs(css_urls, js_urls, callback) {\n    if (css_urls == null) css_urls = [];\n    if (js_urls == null) js_urls = [];\n\n    root._bokeh_onload_callbacks.push(callback);\n    if (root._bokeh_is_loading > 0) {\n      console.debug(\"Bokeh: BokehJS is being loaded, scheduling callback at\", now());\n      return null;\n    }\n    if (js_urls == null || js_urls.length === 0) {\n      run_callbacks();\n      return null;\n    }\n    console.debug(\"Bokeh: BokehJS not loaded, scheduling load and callback at\", now());\n    root._bokeh_is_loading = css_urls.length + js_urls.length;\n\n    function on_load() {\n      root._bokeh_is_loading--;\n      if (root._bokeh_is_loading === 0) {\n        console.debug(\"Bokeh: all BokehJS libraries/stylesheets loaded\");\n        run_callbacks()\n      }\n    }\n\n    function on_error() {\n      console.error(\"failed to load \" + url);\n    }\n\n    for (var i = 0; i < css_urls.length; i++) {\n      var url = css_urls[i];\n      const element = document.createElement(\"link\");\n      element.onload = on_load;\n      element.onerror = on_error;\n      element.rel = \"stylesheet\";\n      element.type = \"text/css\";\n      element.href = url;\n      console.debug(\"Bokeh: injecting link tag for BokehJS stylesheet: \", url);\n      document.body.appendChild(element);\n    }\n\n    const hashes = {\"https://cdn.bokeh.org/bokeh/release/bokeh-2.0.1.min.js\": \"JpP8FXbgAZLkfur7LiK3j9AGBhHNIvF742meBJrjO2ShJDhCG2I1uVvW+0DUtrmc\", \"https://cdn.bokeh.org/bokeh/release/bokeh-widgets-2.0.1.min.js\": \"xZlADit0Q04ISQEdKg2k3L4W9AwQBAuDs9nJL9fM/WwzL1tEU9VPNezOFX0nLEAz\", \"https://cdn.bokeh.org/bokeh/release/bokeh-tables-2.0.1.min.js\": \"4BuPRZkdMKSnj3zoxiNrQ86XgNw0rYmBOxe7nshquXwwcauupgBF2DHLVG1WuZlV\", \"https://cdn.bokeh.org/bokeh/release/bokeh-gl-2.0.1.min.js\": \"Dv1SQ87hmDqK6S5OhBf0bCuwAEvL5QYL0PuR/F1SPVhCS/r/abjkbpKDYL2zeM19\"};\n\n    for (var i = 0; i < js_urls.length; i++) {\n      var url = js_urls[i];\n      var element = document.createElement('script');\n      element.onload = on_load;\n      element.onerror = on_error;\n      element.async = false;\n      element.src = url;\n      if (url in hashes) {\n        element.crossOrigin = \"anonymous\";\n        element.integrity = \"sha384-\" + hashes[url];\n      }\n      console.debug(\"Bokeh: injecting script tag for BokehJS library: \", url);\n      document.head.appendChild(element);\n    }\n  };var element = document.getElementById(\"3853\");\n  if (element == null) {\n    console.error(\"Bokeh: ERROR: autoload.js configured with elementid '3853' but no matching script tag was found. \")\n    return false;\n  }\n\n  function inject_raw_css(css) {\n    const element = document.createElement(\"style\");\n    element.appendChild(document.createTextNode(css));\n    document.body.appendChild(element);\n  }\n\n  \n  var js_urls = [\"https://cdn.bokeh.org/bokeh/release/bokeh-2.0.1.min.js\", \"https://cdn.bokeh.org/bokeh/release/bokeh-widgets-2.0.1.min.js\", \"https://cdn.bokeh.org/bokeh/release/bokeh-tables-2.0.1.min.js\", \"https://cdn.bokeh.org/bokeh/release/bokeh-gl-2.0.1.min.js\"];\n  var css_urls = [];\n  \n\n  var inline_js = [\n    function(Bokeh) {\n      Bokeh.set_log_level(\"info\");\n    },\n    function(Bokeh) {\n    \n    \n    }\n  ];\n\n  function run_inline_js() {\n    \n    if (root.Bokeh !== undefined || force === true) {\n      \n    for (var i = 0; i < inline_js.length; i++) {\n      inline_js[i].call(root, root.Bokeh);\n    }\n    if (force === true) {\n        display_loaded();\n      }} else if (Date.now() < root._bokeh_timeout) {\n      setTimeout(run_inline_js, 100);\n    } else if (!root._bokeh_failed_load) {\n      console.log(\"Bokeh: BokehJS failed to load within specified timeout.\");\n      root._bokeh_failed_load = true;\n    } else if (force !== true) {\n      var cell = $(document.getElementById(\"3853\")).parents('.cell').data().cell;\n      cell.output_area.append_execute_result(NB_LOAD_WARNING)\n    }\n\n  }\n\n  if (root._bokeh_is_loading === 0) {\n    console.debug(\"Bokeh: BokehJS loaded, going straight to plotting\");\n    run_inline_js();\n  } else {\n    load_libs(css_urls, js_urls, function() {\n      console.debug(\"Bokeh: BokehJS plotting callback run at\", now());\n      run_inline_js();\n    });\n  }\n}(window));"
     },
     "metadata": {},
     "output_type": "display_data"
    }
   ],
   "source": [
    "import itertools\n",
    "\n",
    "import bokeh.io\n",
    "import bokeh.application\n",
    "import bokeh.application.handlers\n",
    "import bokeh.models\n",
    "import bokeh.plotting\n",
    "from bokeh.models import Span\n",
    "bokeh.io.output_notebook()\n",
    "def plot_qd(res, data, extrapolate=1, boundary=None, plot_infectious=False):\n",
    "\n",
    "    s = model_qd(res, data, len(data)*extrapolate)\n",
    "    S = s[:,0]\n",
    "    E = s[:,1]\n",
    "    I = s[:,2]\n",
    "    Q = s[:,3]\n",
    "    R = s[:,4]\n",
    "    D = s[:,5]\n",
    "    SA = s[:,6]\n",
    "\n",
    "    t = np.arange(0, len(data))\n",
    "    tp = np.arange(0, len(data)*extrapolate)\n",
    "\n",
    "    p = bokeh.plotting.figure(plot_width=600,\n",
    "                              plot_height=400,\n",
    "                             title = 'SEIR-QD Model',\n",
    "                             x_axis_label = 't (days)',\n",
    "                             y_axis_label = '# people')\n",
    "\n",
    "    if plot_infectious:\n",
    "        p.line(tp, I, color = 'red', line_width = 1, legend_label = 'All infected')\n",
    "    p.line(tp, D, color = 'black', line_width = 1, legend_label = 'Deceased')\n",
    "\n",
    "    # death\n",
    "    p.circle(t, data, color ='black')\n",
    "    \n",
    "    if boundary is not None:\n",
    "        vline = Span(location=boundary, dimension='height', line_color='black', line_width=3)\n",
    "        p.renderers.extend([vline])\n",
    "\n",
    "    p.legend.location = 'top_left'\n",
    "    bokeh.io.show(p)"
   ]
  },
  {
   "cell_type": "code",
   "execution_count": 122,
   "metadata": {
    "ExecuteTime": {
     "end_time": "2020-04-21T23:17:40.338292Z",
     "start_time": "2020-04-21T23:17:39.998757Z"
    }
   },
   "outputs": [
    {
     "data": {
      "text/html": [
       "\n",
       "\n",
       "\n",
       "\n",
       "\n",
       "\n",
       "  <div class=\"bk-root\" id=\"1bf16e50-35e3-48ea-85e4-25f98b3b292a\" data-root-id=\"4204\"></div>\n"
      ]
     },
     "metadata": {},
     "output_type": "display_data"
    },
    {
     "data": {
      "application/javascript": [
       "(function(root) {\n",
       "  function embed_document(root) {\n",
       "    \n",
       "  var docs_json = {\"900f6726-ed65-4b18-811a-69b08ac8e7da\":{\"roots\":{\"references\":[{\"attributes\":{\"below\":[{\"id\":\"4215\"}],\"center\":[{\"id\":\"4218\"},{\"id\":\"4222\"},{\"id\":\"4248\"}],\"left\":[{\"id\":\"4219\"}],\"plot_height\":400,\"renderers\":[{\"id\":\"4240\"},{\"id\":\"4253\"},{\"id\":\"4255\"}],\"title\":{\"id\":\"4205\"},\"toolbar\":{\"id\":\"4230\"},\"x_range\":{\"id\":\"4207\"},\"x_scale\":{\"id\":\"4211\"},\"y_range\":{\"id\":\"4209\"},\"y_scale\":{\"id\":\"4213\"}},\"id\":\"4204\",\"subtype\":\"Figure\",\"type\":\"Plot\"},{\"attributes\":{\"fill_alpha\":{\"value\":0.1},\"fill_color\":{\"value\":\"black\"},\"line_alpha\":{\"value\":0.1},\"x\":{\"field\":\"x\"},\"y\":{\"field\":\"y\"}},\"id\":\"4252\",\"type\":\"Circle\"},{\"attributes\":{\"data\":{\"x\":[0,1,2,3,4,5,6,7,8,9,10,11,12,13,14,15,16,17,18,19,20,21,22,23,24,25,26,27,28,29,30,31,32,33,34,35,36,37,38,39,40,41,42,43,44,45,46,47,48,49,50,51,52,53,54,55,56,57,58,59,60,61,62,63,64,65,66,67,68,69,70,71,72,73,74,75,76,77,78,79,80,81,82,83,84,85,86,87,88,89,90,91,92,93,94,95,96,97,98,99,100,101,102,103,104,105],\"y\":{\"__ndarray__\":\"AAAAAAAAAAAAAAAAAAAAAAAAAAAAAAAAAAAAAAAAAAAAAAAAAAAAAAAAAAAAAAAAAAAAAAAAAAAAAAAAAAAAAAAAAAAAAAAAAAAAAAAAAAAAAAAAAAAAAAAAAAAAAAAAAAAAAAAAAAAAAAAAAAAAAAAAAAAAAAAAAAAAAAAAAAAAAAAAAAAAAAAAAAAAAAAAAAAAAAAAAAAAAAAAAAAAAAAAAAAAAAAAAAAAAAAAAAAAAAAAAAAAAAAAAAAAAAAAAAAAAAAAAAAAAAAAAAAAAAAAAAAAAAAAAAAAAAAAAAAAAAAAAAAAAAAAAAAAAAAAAAAAAAAAAAAAAAAAAAAAAAAAAAAAAAAAAAAAAAAAAAAAAAAAAAAAAAAAAAAAAAAAAAAAAAAAAAAAAAAAAAAAAAAAAAAAAAAAAAAAAAAAAAAAAAAAAAAAAAAAAAAAAAAAAAAAAAAAAAAAAAAAAAAAAAAAAAAAAAAAAAAAAAAAAAAAAAAAAAAAAAAAAAAAAAAAAAAAAAAAAAAAAAAAAAAAAAAAAAAAAAAAAAAAAAAAAAAAAAAAAAAAAAAAAAAAAAAAAAAAAAAAAEAAAAAAAAAAQAAAAAAAABhAAAAAAAAAJkAAAAAAAAAoQAAAAAAAADFAAAAAAAAANUAAAAAAAAA9QAAAAAAAgEFAAAAAAAAASkAAAAAAAABUQAAAAAAAwFpAAAAAAACAYkAAAAAAAKBoQAAAAAAAIG1AAAAAAADgdkAAAAAAAAB9QAAAAAAAuINAAAAAAADYiUAAAAAAAMCPQAAAAAAA0JNAAAAAAACElkAAAAAAAEycQAAAAAAA3KBAAAAAAACSo0AAAAAAAESnQAAAAAAAnqpAAAAAAACAr0AAAAAAANuyQAAAAAAAZLVAAAAAAAC9t0AAAAAAAKS6QAAAAAAAUb1AAAAAAADlv0AAAAAAANjBQAAAAACAk8NAAAAAAIAOxUAAAAAAgKPGQAAAAAAAR8hAAAAAAICyyUAAAAAAgC7LQAAAAACArMxAAAAAAAABzkAAAAAAgAjPQAAAAABAI9BAAAAAAEC60EAAAAAAQEHRQAAAAABA2tFAAAAAAMBo0kAAAAAAgAPTQAAAAABAb9NAAAAAAED800A=\",\"dtype\":\"float64\",\"shape\":[106]}},\"selected\":{\"id\":\"4372\"},\"selection_policy\":{\"id\":\"4371\"}},\"id\":\"4250\",\"type\":\"ColumnDataSource\"},{\"attributes\":{\"fill_color\":{\"value\":\"black\"},\"x\":{\"field\":\"x\"},\"y\":{\"field\":\"y\"}},\"id\":\"4251\",\"type\":\"Circle\"},{\"attributes\":{},\"id\":\"4226\",\"type\":\"SaveTool\"},{\"attributes\":{},\"id\":\"4216\",\"type\":\"BasicTicker\"},{\"attributes\":{\"axis\":{\"id\":\"4219\"},\"dimension\":1,\"ticker\":null},\"id\":\"4222\",\"type\":\"Grid\"},{\"attributes\":{},\"id\":\"4207\",\"type\":\"DataRange1d\"},{\"attributes\":{},\"id\":\"4209\",\"type\":\"DataRange1d\"},{\"attributes\":{\"source\":{\"id\":\"4237\"}},\"id\":\"4241\",\"type\":\"CDSView\"},{\"attributes\":{\"data\":{\"x\":[0,1,2,3,4,5,6,7,8,9,10,11,12,13,14,15,16,17,18,19,20,21,22,23,24,25,26,27,28,29,30,31,32,33,34,35,36,37,38,39,40,41,42,43,44,45,46,47,48,49,50,51,52,53,54,55,56,57,58,59,60,61,62,63,64,65,66,67,68,69,70,71,72,73,74,75,76,77,78,79,80,81,82,83,84,85,86,87,88,89,90,91,92,93,94,95,96,97,98,99,100,101,102,103,104,105],\"y\":{\"__ndarray__\":\"AAAAAAAAAABjEIZHh4eiPyYOFZ9wp68/WuHIypd9tD+TG80BANO3PwilTk1KO7o/nI1ASikAvD9gybM5mVa9P++sytc6Zb4/6d7CcN5Ivz/kB0LV5QvAP6Ms0dMUcsA/SnnwdufewD/ru8JO1lnBP0ycFWZ96sE/njfcOyGZwj89r9SjLW/DPxx8ZK63d8Q/9h9plQrAxT+o2OsuR1jHP3jLfG8dVMk/NRZZ/qfLyz+yF9G4ctzOP/UmrSBbVdE/5DvhJmqx0z9V1Wc9kZ3WPz+QcuoJO9o/oQtDIWqy3j/Qnx8imxriP9ZNrnLif+U/tHZGGMKt6T89kZ/m2dDuP4CFX1yqj/I/7tbnlG5t9j8wXtcSein7PwBg29nueQBAVo7CRVIDBEDptTxV51MIQAxWyaHVlQ1A5mH2w+j9EUCqhT6WYeEVQHWkokrdmRpAyvGFcI8pIEAhQ87iv6AjQF+trAXE0SdAoG9Ed+bhLEBKnRsPyH4xQMSCCRnHLDVAA7V8gUaaOUAMQt4yZ+w+QKIrNL+Ip0JAlL5/bAt7RkBbm0QdPg9LQNZmyxH8Q1BAMJnt6puHU0BkdKY1BmtXQAE4LpTLClxAB0YQhwjEYEDqzrMykgRkQFNbByYL3WdAGDUd5KpmbECojgWHEd9wQIyaqYbxAXRAO/ISXyeud0CnFCZx8Pd7QDcrR0nMeoBACPhYHbVfg0DIrI2bw7eGQGZc1cvSkIpANDpQzlb5jkDVdZfNDQCSQNhVOg762ZRAxXzd6K0RmEC5TdhzB66bQKhKyytPtZ9AlklLuIEWokAbGcuP1IykQMWjt2lSP6dAmBGp2A8vqkCSIj7UfFytQH1tn3KyY7BAKC71BXs3skCcTmO/5ii0QB6ch3sEN7ZASX9khK1guEA+YE5/kKS6QK/nAWo8Ab1AK+oFFCt1v0BWRuZTZf/AQPmRL/9CTsJAuwb4zWWmw0D0D2moCQfFQM2Rz0dxb8ZASzrsy+fex0DkU/vNwVTJQIY3ZAZe0MpAOPObmSVRzECrsD8fjNbNQP+FK3QPYM9AENPvspt20EC4X4Khyj7RQCePSK1hCNJAH1KAODLT0kDKl6eYEZ/TQEBY987Ya9RABsBhQmQ51UA=\",\"dtype\":\"float64\",\"shape\":[106]}},\"selected\":{\"id\":\"4370\"},\"selection_policy\":{\"id\":\"4369\"}},\"id\":\"4237\",\"type\":\"ColumnDataSource\"},{\"attributes\":{\"axis_label\":\"t (days)\",\"formatter\":{\"id\":\"4246\"},\"ticker\":{\"id\":\"4216\"}},\"id\":\"4215\",\"type\":\"LinearAxis\"},{\"attributes\":{\"axis_label\":\"# people\",\"formatter\":{\"id\":\"4244\"},\"ticker\":{\"id\":\"4220\"}},\"id\":\"4219\",\"type\":\"LinearAxis\"},{\"attributes\":{},\"id\":\"4223\",\"type\":\"PanTool\"},{\"attributes\":{},\"id\":\"4228\",\"type\":\"HelpTool\"},{\"attributes\":{},\"id\":\"4220\",\"type\":\"BasicTicker\"},{\"attributes\":{},\"id\":\"4371\",\"type\":\"UnionRenderers\"},{\"attributes\":{\"text\":\"SEIR-QD Model\"},\"id\":\"4205\",\"type\":\"Title\"},{\"attributes\":{\"overlay\":{\"id\":\"4229\"}},\"id\":\"4225\",\"type\":\"BoxZoomTool\"},{\"attributes\":{\"x\":{\"field\":\"x\"},\"y\":{\"field\":\"y\"}},\"id\":\"4238\",\"type\":\"Line\"},{\"attributes\":{\"line_alpha\":0.1,\"x\":{\"field\":\"x\"},\"y\":{\"field\":\"y\"}},\"id\":\"4239\",\"type\":\"Line\"},{\"attributes\":{\"items\":[{\"id\":\"4249\"}],\"location\":\"top_left\"},\"id\":\"4248\",\"type\":\"Legend\"},{\"attributes\":{},\"id\":\"4224\",\"type\":\"WheelZoomTool\"},{\"attributes\":{},\"id\":\"4370\",\"type\":\"Selection\"},{\"attributes\":{\"data_source\":{\"id\":\"4250\"},\"glyph\":{\"id\":\"4251\"},\"hover_glyph\":null,\"muted_glyph\":null,\"nonselection_glyph\":{\"id\":\"4252\"},\"selection_glyph\":null,\"view\":{\"id\":\"4254\"}},\"id\":\"4253\",\"type\":\"GlyphRenderer\"},{\"attributes\":{\"source\":{\"id\":\"4250\"}},\"id\":\"4254\",\"type\":\"CDSView\"},{\"attributes\":{\"dimension\":\"height\",\"line_width\":3,\"location\":80},\"id\":\"4255\",\"type\":\"Span\"},{\"attributes\":{\"label\":{\"value\":\"Deceased\"},\"renderers\":[{\"id\":\"4240\"}]},\"id\":\"4249\",\"type\":\"LegendItem\"},{\"attributes\":{},\"id\":\"4246\",\"type\":\"BasicTickFormatter\"},{\"attributes\":{\"active_drag\":\"auto\",\"active_inspect\":\"auto\",\"active_multi\":null,\"active_scroll\":\"auto\",\"active_tap\":\"auto\",\"tools\":[{\"id\":\"4223\"},{\"id\":\"4224\"},{\"id\":\"4225\"},{\"id\":\"4226\"},{\"id\":\"4227\"},{\"id\":\"4228\"}]},\"id\":\"4230\",\"type\":\"Toolbar\"},{\"attributes\":{},\"id\":\"4227\",\"type\":\"ResetTool\"},{\"attributes\":{\"axis\":{\"id\":\"4215\"},\"ticker\":null},\"id\":\"4218\",\"type\":\"Grid\"},{\"attributes\":{},\"id\":\"4244\",\"type\":\"BasicTickFormatter\"},{\"attributes\":{},\"id\":\"4369\",\"type\":\"UnionRenderers\"},{\"attributes\":{},\"id\":\"4372\",\"type\":\"Selection\"},{\"attributes\":{},\"id\":\"4213\",\"type\":\"LinearScale\"},{\"attributes\":{\"data_source\":{\"id\":\"4237\"},\"glyph\":{\"id\":\"4238\"},\"hover_glyph\":null,\"muted_glyph\":null,\"nonselection_glyph\":{\"id\":\"4239\"},\"selection_glyph\":null,\"view\":{\"id\":\"4241\"}},\"id\":\"4240\",\"type\":\"GlyphRenderer\"},{\"attributes\":{\"bottom_units\":\"screen\",\"fill_alpha\":0.5,\"fill_color\":\"lightgrey\",\"left_units\":\"screen\",\"level\":\"overlay\",\"line_alpha\":1.0,\"line_color\":\"black\",\"line_dash\":[4,4],\"line_width\":2,\"render_mode\":\"css\",\"right_units\":\"screen\",\"top_units\":\"screen\"},\"id\":\"4229\",\"type\":\"BoxAnnotation\"},{\"attributes\":{},\"id\":\"4211\",\"type\":\"LinearScale\"}],\"root_ids\":[\"4204\"]},\"title\":\"Bokeh Application\",\"version\":\"2.0.1\"}};\n",
       "  var render_items = [{\"docid\":\"900f6726-ed65-4b18-811a-69b08ac8e7da\",\"root_ids\":[\"4204\"],\"roots\":{\"4204\":\"1bf16e50-35e3-48ea-85e4-25f98b3b292a\"}}];\n",
       "  root.Bokeh.embed.embed_items_notebook(docs_json, render_items);\n",
       "\n",
       "  }\n",
       "  if (root.Bokeh !== undefined) {\n",
       "    embed_document(root);\n",
       "  } else {\n",
       "    var attempts = 0;\n",
       "    var timer = setInterval(function(root) {\n",
       "      if (root.Bokeh !== undefined) {\n",
       "        clearInterval(timer);\n",
       "        embed_document(root);\n",
       "      } else {\n",
       "        attempts++;\n",
       "        if (attempts > 100) {\n",
       "          clearInterval(timer);\n",
       "          console.log(\"Bokeh: ERROR: Unable to run BokehJS code because BokehJS library is missing\");\n",
       "        }\n",
       "      }\n",
       "    }, 10, root)\n",
       "  }\n",
       "})(window);"
      ],
      "application/vnd.bokehjs_exec.v0+json": ""
     },
     "metadata": {
      "application/vnd.bokehjs_exec.v0+json": {
       "id": "4204"
      }
     },
     "output_type": "display_data"
    }
   ],
   "source": [
    "plot_qd(res, Y_d.loc['Italy'], boundary=80)"
   ]
  },
  {
   "cell_type": "markdown",
   "metadata": {
    "ExecuteTime": {
     "end_time": "2020-04-21T22:05:28.675436Z",
     "start_time": "2020-04-21T22:05:28.669371Z"
    }
   },
   "source": [
    "## from others"
   ]
  },
  {
   "cell_type": "code",
   "execution_count": 58,
   "metadata": {
    "ExecuteTime": {
     "end_time": "2020-04-18T00:35:27.774829Z",
     "start_time": "2020-04-18T00:35:27.765084Z"
    }
   },
   "outputs": [],
   "source": [
    "df2 = pd.read_csv(datadir + 'us/hospitals/beds_by_county.csv')"
   ]
  },
  {
   "cell_type": "code",
   "execution_count": 59,
   "metadata": {
    "ExecuteTime": {
     "end_time": "2020-04-18T00:35:30.083623Z",
     "start_time": "2020-04-18T00:35:30.062388Z"
    }
   },
   "outputs": [
    {
     "data": {
      "text/html": [
       "<div>\n",
       "<style scoped>\n",
       "    .dataframe tbody tr th:only-of-type {\n",
       "        vertical-align: middle;\n",
       "    }\n",
       "\n",
       "    .dataframe tbody tr th {\n",
       "        vertical-align: top;\n",
       "    }\n",
       "\n",
       "    .dataframe thead th {\n",
       "        text-align: right;\n",
       "    }\n",
       "</style>\n",
       "<table border=\"1\" class=\"dataframe\">\n",
       "  <thead>\n",
       "    <tr style=\"text-align: right;\">\n",
       "      <th></th>\n",
       "      <th>state</th>\n",
       "      <th>county</th>\n",
       "      <th>staffed_beds</th>\n",
       "      <th>licensed_beds</th>\n",
       "      <th>icu_beds</th>\n",
       "      <th>Name</th>\n",
       "      <th>FIPS</th>\n",
       "    </tr>\n",
       "  </thead>\n",
       "  <tbody>\n",
       "    <tr>\n",
       "      <th>0</th>\n",
       "      <td>AK</td>\n",
       "      <td>Anchorage</td>\n",
       "      <td>1077</td>\n",
       "      <td>1014</td>\n",
       "      <td>60</td>\n",
       "      <td>anchorage borough, ak</td>\n",
       "      <td>2020</td>\n",
       "    </tr>\n",
       "    <tr>\n",
       "      <th>1</th>\n",
       "      <td>AK</td>\n",
       "      <td>Bethel</td>\n",
       "      <td>34</td>\n",
       "      <td>50</td>\n",
       "      <td>0</td>\n",
       "      <td>bethel census area, ak</td>\n",
       "      <td>2050</td>\n",
       "    </tr>\n",
       "    <tr>\n",
       "      <th>2</th>\n",
       "      <td>AK</td>\n",
       "      <td>Dillingham</td>\n",
       "      <td>16</td>\n",
       "      <td>16</td>\n",
       "      <td>0</td>\n",
       "      <td>dillingham census area, ak</td>\n",
       "      <td>2070</td>\n",
       "    </tr>\n",
       "    <tr>\n",
       "      <th>3</th>\n",
       "      <td>AK</td>\n",
       "      <td>Fairbanks North Star</td>\n",
       "      <td>145</td>\n",
       "      <td>152</td>\n",
       "      <td>13</td>\n",
       "      <td>fairbanks north star borough, ak</td>\n",
       "      <td>2090</td>\n",
       "    </tr>\n",
       "    <tr>\n",
       "      <th>4</th>\n",
       "      <td>AK</td>\n",
       "      <td>Juneau</td>\n",
       "      <td>45</td>\n",
       "      <td>73</td>\n",
       "      <td>9</td>\n",
       "      <td>juneau city and borough, ak</td>\n",
       "      <td>2110</td>\n",
       "    </tr>\n",
       "    <tr>\n",
       "      <th>...</th>\n",
       "      <td>...</td>\n",
       "      <td>...</td>\n",
       "      <td>...</td>\n",
       "      <td>...</td>\n",
       "      <td>...</td>\n",
       "      <td>...</td>\n",
       "      <td>...</td>\n",
       "    </tr>\n",
       "    <tr>\n",
       "      <th>2507</th>\n",
       "      <td>WY</td>\n",
       "      <td>Sweetwater</td>\n",
       "      <td>74</td>\n",
       "      <td>115</td>\n",
       "      <td>10</td>\n",
       "      <td>sweetwater county, wy</td>\n",
       "      <td>56037</td>\n",
       "    </tr>\n",
       "    <tr>\n",
       "      <th>2508</th>\n",
       "      <td>WY</td>\n",
       "      <td>Teton</td>\n",
       "      <td>48</td>\n",
       "      <td>48</td>\n",
       "      <td>6</td>\n",
       "      <td>teton county, wy</td>\n",
       "      <td>56039</td>\n",
       "    </tr>\n",
       "    <tr>\n",
       "      <th>2509</th>\n",
       "      <td>WY</td>\n",
       "      <td>Uinta</td>\n",
       "      <td>105</td>\n",
       "      <td>42</td>\n",
       "      <td>6</td>\n",
       "      <td>uinta county, wy</td>\n",
       "      <td>56041</td>\n",
       "    </tr>\n",
       "    <tr>\n",
       "      <th>2510</th>\n",
       "      <td>WY</td>\n",
       "      <td>Washakie</td>\n",
       "      <td>18</td>\n",
       "      <td>18</td>\n",
       "      <td>0</td>\n",
       "      <td>washakie county, wy</td>\n",
       "      <td>56043</td>\n",
       "    </tr>\n",
       "    <tr>\n",
       "      <th>2511</th>\n",
       "      <td>WY</td>\n",
       "      <td>Weston</td>\n",
       "      <td>12</td>\n",
       "      <td>12</td>\n",
       "      <td>0</td>\n",
       "      <td>weston county, wy</td>\n",
       "      <td>56045</td>\n",
       "    </tr>\n",
       "  </tbody>\n",
       "</table>\n",
       "<p>2512 rows × 7 columns</p>\n",
       "</div>"
      ],
      "text/plain": [
       "     state                county  staffed_beds  licensed_beds  icu_beds  \\\n",
       "0       AK             Anchorage          1077           1014        60   \n",
       "1       AK                Bethel            34             50         0   \n",
       "2       AK            Dillingham            16             16         0   \n",
       "3       AK  Fairbanks North Star           145            152        13   \n",
       "4       AK                Juneau            45             73         9   \n",
       "...    ...                   ...           ...            ...       ...   \n",
       "2507    WY            Sweetwater            74            115        10   \n",
       "2508    WY                 Teton            48             48         6   \n",
       "2509    WY                 Uinta           105             42         6   \n",
       "2510    WY              Washakie            18             18         0   \n",
       "2511    WY                Weston            12             12         0   \n",
       "\n",
       "                                  Name   FIPS  \n",
       "0                anchorage borough, ak   2020  \n",
       "1               bethel census area, ak   2050  \n",
       "2           dillingham census area, ak   2070  \n",
       "3     fairbanks north star borough, ak   2090  \n",
       "4          juneau city and borough, ak   2110  \n",
       "...                                ...    ...  \n",
       "2507             sweetwater county, wy  56037  \n",
       "2508                  teton county, wy  56039  \n",
       "2509                  uinta county, wy  56041  \n",
       "2510               washakie county, wy  56043  \n",
       "2511                 weston county, wy  56045  \n",
       "\n",
       "[2512 rows x 7 columns]"
      ]
     },
     "execution_count": 59,
     "metadata": {},
     "output_type": "execute_result"
    }
   ],
   "source": [
    "df2"
   ]
  },
  {
   "cell_type": "code",
   "execution_count": null,
   "metadata": {},
   "outputs": [],
   "source": [
    "df3 = pd.read_csv(datadir + 'us/hospitals/beds_by_county.csv')"
   ]
  },
  {
   "cell_type": "code",
   "execution_count": 35,
   "metadata": {
    "ExecuteTime": {
     "end_time": "2020-04-18T00:27:31.936573Z",
     "start_time": "2020-04-18T00:27:31.933332Z"
    }
   },
   "outputs": [],
   "source": [
    "from sklearn.ensemble import RandomForestRegressor"
   ]
  },
  {
   "cell_type": "code",
   "execution_count": 36,
   "metadata": {
    "ExecuteTime": {
     "end_time": "2020-04-18T00:27:43.962241Z",
     "start_time": "2020-04-18T00:27:43.958665Z"
    }
   },
   "outputs": [],
   "source": [
    "reg = RandomForestRegressor()"
   ]
  },
  {
   "cell_type": "code",
   "execution_count": 37,
   "metadata": {
    "ExecuteTime": {
     "end_time": "2020-04-18T00:27:56.530329Z",
     "start_time": "2020-04-18T00:27:56.511124Z"
    }
   },
   "outputs": [
    {
     "ename": "ValueError",
     "evalue": "could not convert string to float: 'AK'",
     "output_type": "error",
     "traceback": [
      "\u001b[0;31m---------------------------------------------------------------------------\u001b[0m",
      "\u001b[0;31mValueError\u001b[0m                                Traceback (most recent call last)",
      "\u001b[0;32m<ipython-input-37-8854dfdf5b5a>\u001b[0m in \u001b[0;36m<module>\u001b[0;34m\u001b[0m\n\u001b[0;32m----> 1\u001b[0;31m \u001b[0mreg\u001b[0m\u001b[0;34m.\u001b[0m\u001b[0mfit\u001b[0m\u001b[0;34m(\u001b[0m\u001b[0mdf\u001b[0m\u001b[0;34m,\u001b[0m \u001b[0mres\u001b[0m\u001b[0;34m)\u001b[0m\u001b[0;34m\u001b[0m\u001b[0;34m\u001b[0m\u001b[0m\n\u001b[0m",
      "\u001b[0;32m~/PycharmProjects/SKTW/venv/lib64/python3.7/site-packages/sklearn/ensemble/_forest.py\u001b[0m in \u001b[0;36mfit\u001b[0;34m(self, X, y, sample_weight)\u001b[0m\n\u001b[1;32m    293\u001b[0m         \"\"\"\n\u001b[1;32m    294\u001b[0m         \u001b[0;31m# Validate or convert input data\u001b[0m\u001b[0;34m\u001b[0m\u001b[0;34m\u001b[0m\u001b[0;34m\u001b[0m\u001b[0m\n\u001b[0;32m--> 295\u001b[0;31m         \u001b[0mX\u001b[0m \u001b[0;34m=\u001b[0m \u001b[0mcheck_array\u001b[0m\u001b[0;34m(\u001b[0m\u001b[0mX\u001b[0m\u001b[0;34m,\u001b[0m \u001b[0maccept_sparse\u001b[0m\u001b[0;34m=\u001b[0m\u001b[0;34m\"csc\"\u001b[0m\u001b[0;34m,\u001b[0m \u001b[0mdtype\u001b[0m\u001b[0;34m=\u001b[0m\u001b[0mDTYPE\u001b[0m\u001b[0;34m)\u001b[0m\u001b[0;34m\u001b[0m\u001b[0;34m\u001b[0m\u001b[0m\n\u001b[0m\u001b[1;32m    296\u001b[0m         \u001b[0my\u001b[0m \u001b[0;34m=\u001b[0m \u001b[0mcheck_array\u001b[0m\u001b[0;34m(\u001b[0m\u001b[0my\u001b[0m\u001b[0;34m,\u001b[0m \u001b[0maccept_sparse\u001b[0m\u001b[0;34m=\u001b[0m\u001b[0;34m'csc'\u001b[0m\u001b[0;34m,\u001b[0m \u001b[0mensure_2d\u001b[0m\u001b[0;34m=\u001b[0m\u001b[0;32mFalse\u001b[0m\u001b[0;34m,\u001b[0m \u001b[0mdtype\u001b[0m\u001b[0;34m=\u001b[0m\u001b[0;32mNone\u001b[0m\u001b[0;34m)\u001b[0m\u001b[0;34m\u001b[0m\u001b[0;34m\u001b[0m\u001b[0m\n\u001b[1;32m    297\u001b[0m         \u001b[0;32mif\u001b[0m \u001b[0msample_weight\u001b[0m \u001b[0;32mis\u001b[0m \u001b[0;32mnot\u001b[0m \u001b[0;32mNone\u001b[0m\u001b[0;34m:\u001b[0m\u001b[0;34m\u001b[0m\u001b[0;34m\u001b[0m\u001b[0m\n",
      "\u001b[0;32m~/PycharmProjects/SKTW/venv/lib64/python3.7/site-packages/sklearn/utils/validation.py\u001b[0m in \u001b[0;36mcheck_array\u001b[0;34m(array, accept_sparse, accept_large_sparse, dtype, order, copy, force_all_finite, ensure_2d, allow_nd, ensure_min_samples, ensure_min_features, warn_on_dtype, estimator)\u001b[0m\n\u001b[1;32m    529\u001b[0m                     \u001b[0marray\u001b[0m \u001b[0;34m=\u001b[0m \u001b[0marray\u001b[0m\u001b[0;34m.\u001b[0m\u001b[0mastype\u001b[0m\u001b[0;34m(\u001b[0m\u001b[0mdtype\u001b[0m\u001b[0;34m,\u001b[0m \u001b[0mcasting\u001b[0m\u001b[0;34m=\u001b[0m\u001b[0;34m\"unsafe\"\u001b[0m\u001b[0;34m,\u001b[0m \u001b[0mcopy\u001b[0m\u001b[0;34m=\u001b[0m\u001b[0;32mFalse\u001b[0m\u001b[0;34m)\u001b[0m\u001b[0;34m\u001b[0m\u001b[0;34m\u001b[0m\u001b[0m\n\u001b[1;32m    530\u001b[0m                 \u001b[0;32melse\u001b[0m\u001b[0;34m:\u001b[0m\u001b[0;34m\u001b[0m\u001b[0;34m\u001b[0m\u001b[0m\n\u001b[0;32m--> 531\u001b[0;31m                     \u001b[0marray\u001b[0m \u001b[0;34m=\u001b[0m \u001b[0mnp\u001b[0m\u001b[0;34m.\u001b[0m\u001b[0masarray\u001b[0m\u001b[0;34m(\u001b[0m\u001b[0marray\u001b[0m\u001b[0;34m,\u001b[0m \u001b[0morder\u001b[0m\u001b[0;34m=\u001b[0m\u001b[0morder\u001b[0m\u001b[0;34m,\u001b[0m \u001b[0mdtype\u001b[0m\u001b[0;34m=\u001b[0m\u001b[0mdtype\u001b[0m\u001b[0;34m)\u001b[0m\u001b[0;34m\u001b[0m\u001b[0;34m\u001b[0m\u001b[0m\n\u001b[0m\u001b[1;32m    532\u001b[0m             \u001b[0;32mexcept\u001b[0m \u001b[0mComplexWarning\u001b[0m\u001b[0;34m:\u001b[0m\u001b[0;34m\u001b[0m\u001b[0;34m\u001b[0m\u001b[0m\n\u001b[1;32m    533\u001b[0m                 raise ValueError(\"Complex data not supported\\n\"\n",
      "\u001b[0;32m~/PycharmProjects/SKTW/venv/lib64/python3.7/site-packages/numpy/core/_asarray.py\u001b[0m in \u001b[0;36masarray\u001b[0;34m(a, dtype, order)\u001b[0m\n\u001b[1;32m     83\u001b[0m \u001b[0;34m\u001b[0m\u001b[0m\n\u001b[1;32m     84\u001b[0m     \"\"\"\n\u001b[0;32m---> 85\u001b[0;31m     \u001b[0;32mreturn\u001b[0m \u001b[0marray\u001b[0m\u001b[0;34m(\u001b[0m\u001b[0ma\u001b[0m\u001b[0;34m,\u001b[0m \u001b[0mdtype\u001b[0m\u001b[0;34m,\u001b[0m \u001b[0mcopy\u001b[0m\u001b[0;34m=\u001b[0m\u001b[0;32mFalse\u001b[0m\u001b[0;34m,\u001b[0m \u001b[0morder\u001b[0m\u001b[0;34m=\u001b[0m\u001b[0morder\u001b[0m\u001b[0;34m)\u001b[0m\u001b[0;34m\u001b[0m\u001b[0;34m\u001b[0m\u001b[0m\n\u001b[0m\u001b[1;32m     86\u001b[0m \u001b[0;34m\u001b[0m\u001b[0m\n\u001b[1;32m     87\u001b[0m \u001b[0;34m\u001b[0m\u001b[0m\n",
      "\u001b[0;31mValueError\u001b[0m: could not convert string to float: 'AK'"
     ]
    }
   ],
   "source": [
    "reg.fit(df, res)"
   ]
  },
  {
   "cell_type": "code",
   "execution_count": null,
   "metadata": {},
   "outputs": [],
   "source": []
  }
 ],
 "metadata": {
  "celltoolbar": "Initialization Cell",
  "kernelspec": {
   "display_name": "Python 3",
   "language": "python",
   "name": "python3"
  },
  "language_info": {
   "codemirror_mode": {
    "name": "ipython",
    "version": 3
   },
   "file_extension": ".py",
   "mimetype": "text/x-python",
   "name": "python",
   "nbconvert_exporter": "python",
   "pygments_lexer": "ipython3",
   "version": "3.8.2"
  },
  "toc": {
   "base_numbering": 1,
   "nav_menu": {},
   "number_sections": true,
   "sideBar": true,
   "skip_h1_title": false,
   "title_cell": "Table of Contents",
   "title_sidebar": "Contents",
   "toc_cell": false,
   "toc_position": {},
   "toc_section_display": true,
   "toc_window_display": true
  },
  "varInspector": {
   "cols": {
    "lenName": 16,
    "lenType": 16,
    "lenVar": 40
   },
   "kernels_config": {
    "python": {
     "delete_cmd_postfix": "",
     "delete_cmd_prefix": "del ",
     "library": "var_list.py",
     "varRefreshCmd": "print(var_dic_list())"
    },
    "r": {
     "delete_cmd_postfix": ") ",
     "delete_cmd_prefix": "rm(",
     "library": "var_list.r",
     "varRefreshCmd": "cat(var_dic_list()) "
    }
   },
   "position": {
    "height": "844.85px",
    "left": "1549px",
    "right": "20px",
    "top": "120px",
    "width": "351px"
   },
   "types_to_exclude": [
    "module",
    "function",
    "builtin_function_or_method",
    "instance",
    "_Feature"
   ],
   "window_display": true
  }
 },
 "nbformat": 4,
 "nbformat_minor": 4
}
