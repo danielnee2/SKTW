{
 "cells": [
  {
   "cell_type": "code",
   "execution_count": 346,
   "metadata": {
    "ExecuteTime": {
     "end_time": "2020-05-04T07:37:01.830532Z",
     "start_time": "2020-05-04T07:37:01.827302Z"
    },
    "cell_style": "center",
    "init_cell": true
   },
   "outputs": [],
   "source": [
    "import git\n",
    "repo = git.Repo(\"./\", search_parent_directories=True)"
   ]
  },
  {
   "cell_type": "markdown",
   "metadata": {
    "heading_collapsed": true
   },
   "source": [
    "# Data Preparation"
   ]
  },
  {
   "cell_type": "markdown",
   "metadata": {
    "hidden": true
   },
   "source": [
    "Directory"
   ]
  },
  {
   "cell_type": "code",
   "execution_count": 3,
   "metadata": {
    "ExecuteTime": {
     "end_time": "2020-04-27T21:42:10.498120Z",
     "start_time": "2020-04-27T21:42:10.496048Z"
    },
    "hidden": true
   },
   "outputs": [],
   "source": [
    "homedir = repo.working_dir\n",
    "datadir = f\"{homedir}/data/\""
   ]
  },
  {
   "cell_type": "markdown",
   "metadata": {
    "heading_collapsed": true,
    "hidden": true
   },
   "source": [
    "## international/health"
   ]
  },
  {
   "cell_type": "markdown",
   "metadata": {
    "hidden": true
   },
   "source": [
    "Let's take a look at the health data from the international folder."
   ]
  },
  {
   "cell_type": "code",
   "execution_count": 4,
   "metadata": {
    "ExecuteTime": {
     "end_time": "2020-04-27T21:42:12.188256Z",
     "start_time": "2020-04-27T21:42:12.088378Z"
    },
    "hidden": true
   },
   "outputs": [],
   "source": [
    "import pandas as pd\n",
    "df = pd.read_csv(datadir + 'international/health/hospital-beds-per-1000-people.csv')"
   ]
  },
  {
   "cell_type": "markdown",
   "metadata": {
    "hidden": true
   },
   "source": [
    "We can pivot it using countries and years:"
   ]
  },
  {
   "cell_type": "code",
   "execution_count": 5,
   "metadata": {
    "ExecuteTime": {
     "end_time": "2020-04-27T21:42:12.776667Z",
     "start_time": "2020-04-27T21:42:12.771825Z"
    },
    "hidden": true,
    "scrolled": true
   },
   "outputs": [],
   "source": [
    "df=df.dropna(subset=['Code'])"
   ]
  },
  {
   "cell_type": "code",
   "execution_count": 6,
   "metadata": {
    "ExecuteTime": {
     "end_time": "2020-04-27T21:42:14.039904Z",
     "start_time": "2020-04-27T21:42:14.021070Z"
    },
    "hidden": true,
    "scrolled": true
   },
   "outputs": [
    {
     "data": {
      "text/html": [
       "<div>\n",
       "<style scoped>\n",
       "    .dataframe tbody tr th:only-of-type {\n",
       "        vertical-align: middle;\n",
       "    }\n",
       "\n",
       "    .dataframe tbody tr th {\n",
       "        vertical-align: top;\n",
       "    }\n",
       "\n",
       "    .dataframe thead th {\n",
       "        text-align: right;\n",
       "    }\n",
       "</style>\n",
       "<table border=\"1\" class=\"dataframe\">\n",
       "  <thead>\n",
       "    <tr style=\"text-align: right;\">\n",
       "      <th>Year</th>\n",
       "      <th>1960</th>\n",
       "      <th>1961</th>\n",
       "      <th>1962</th>\n",
       "      <th>1963</th>\n",
       "      <th>1964</th>\n",
       "      <th>1965</th>\n",
       "      <th>1966</th>\n",
       "      <th>1967</th>\n",
       "      <th>1968</th>\n",
       "      <th>1969</th>\n",
       "      <th>...</th>\n",
       "      <th>2005</th>\n",
       "      <th>2006</th>\n",
       "      <th>2007</th>\n",
       "      <th>2008</th>\n",
       "      <th>2009</th>\n",
       "      <th>2010</th>\n",
       "      <th>2011</th>\n",
       "      <th>2012</th>\n",
       "      <th>2013</th>\n",
       "      <th>2014</th>\n",
       "    </tr>\n",
       "    <tr>\n",
       "      <th>Code</th>\n",
       "      <th></th>\n",
       "      <th></th>\n",
       "      <th></th>\n",
       "      <th></th>\n",
       "      <th></th>\n",
       "      <th></th>\n",
       "      <th></th>\n",
       "      <th></th>\n",
       "      <th></th>\n",
       "      <th></th>\n",
       "      <th></th>\n",
       "      <th></th>\n",
       "      <th></th>\n",
       "      <th></th>\n",
       "      <th></th>\n",
       "      <th></th>\n",
       "      <th></th>\n",
       "      <th></th>\n",
       "      <th></th>\n",
       "      <th></th>\n",
       "      <th></th>\n",
       "    </tr>\n",
       "  </thead>\n",
       "  <tbody>\n",
       "    <tr>\n",
       "      <th>AFG</th>\n",
       "      <td>0.170627</td>\n",
       "      <td>NaN</td>\n",
       "      <td>NaN</td>\n",
       "      <td>NaN</td>\n",
       "      <td>NaN</td>\n",
       "      <td>NaN</td>\n",
       "      <td>NaN</td>\n",
       "      <td>NaN</td>\n",
       "      <td>NaN</td>\n",
       "      <td>NaN</td>\n",
       "      <td>...</td>\n",
       "      <td>NaN</td>\n",
       "      <td>NaN</td>\n",
       "      <td>0.42</td>\n",
       "      <td>0.42</td>\n",
       "      <td>0.4</td>\n",
       "      <td>0.4</td>\n",
       "      <td>NaN</td>\n",
       "      <td>0.5</td>\n",
       "      <td>NaN</td>\n",
       "      <td>NaN</td>\n",
       "    </tr>\n",
       "    <tr>\n",
       "      <th>AGO</th>\n",
       "      <td>2.061462</td>\n",
       "      <td>NaN</td>\n",
       "      <td>NaN</td>\n",
       "      <td>NaN</td>\n",
       "      <td>NaN</td>\n",
       "      <td>NaN</td>\n",
       "      <td>NaN</td>\n",
       "      <td>NaN</td>\n",
       "      <td>NaN</td>\n",
       "      <td>NaN</td>\n",
       "      <td>...</td>\n",
       "      <td>0.80</td>\n",
       "      <td>NaN</td>\n",
       "      <td>NaN</td>\n",
       "      <td>NaN</td>\n",
       "      <td>NaN</td>\n",
       "      <td>NaN</td>\n",
       "      <td>NaN</td>\n",
       "      <td>NaN</td>\n",
       "      <td>NaN</td>\n",
       "      <td>NaN</td>\n",
       "    </tr>\n",
       "    <tr>\n",
       "      <th>ALB</th>\n",
       "      <td>5.102676</td>\n",
       "      <td>NaN</td>\n",
       "      <td>NaN</td>\n",
       "      <td>NaN</td>\n",
       "      <td>NaN</td>\n",
       "      <td>NaN</td>\n",
       "      <td>NaN</td>\n",
       "      <td>NaN</td>\n",
       "      <td>NaN</td>\n",
       "      <td>NaN</td>\n",
       "      <td>...</td>\n",
       "      <td>3.00</td>\n",
       "      <td>2.9692</td>\n",
       "      <td>2.90</td>\n",
       "      <td>NaN</td>\n",
       "      <td>2.8</td>\n",
       "      <td>NaN</td>\n",
       "      <td>2.43</td>\n",
       "      <td>2.6</td>\n",
       "      <td>NaN</td>\n",
       "      <td>NaN</td>\n",
       "    </tr>\n",
       "    <tr>\n",
       "      <th>AND</th>\n",
       "      <td>NaN</td>\n",
       "      <td>NaN</td>\n",
       "      <td>NaN</td>\n",
       "      <td>NaN</td>\n",
       "      <td>NaN</td>\n",
       "      <td>NaN</td>\n",
       "      <td>NaN</td>\n",
       "      <td>NaN</td>\n",
       "      <td>NaN</td>\n",
       "      <td>NaN</td>\n",
       "      <td>...</td>\n",
       "      <td>2.70</td>\n",
       "      <td>2.6000</td>\n",
       "      <td>2.60</td>\n",
       "      <td>NaN</td>\n",
       "      <td>2.5</td>\n",
       "      <td>NaN</td>\n",
       "      <td>NaN</td>\n",
       "      <td>NaN</td>\n",
       "      <td>NaN</td>\n",
       "      <td>NaN</td>\n",
       "    </tr>\n",
       "    <tr>\n",
       "      <th>ARE</th>\n",
       "      <td>NaN</td>\n",
       "      <td>NaN</td>\n",
       "      <td>NaN</td>\n",
       "      <td>NaN</td>\n",
       "      <td>NaN</td>\n",
       "      <td>NaN</td>\n",
       "      <td>NaN</td>\n",
       "      <td>NaN</td>\n",
       "      <td>NaN</td>\n",
       "      <td>NaN</td>\n",
       "      <td>...</td>\n",
       "      <td>1.88</td>\n",
       "      <td>NaN</td>\n",
       "      <td>1.86</td>\n",
       "      <td>1.90</td>\n",
       "      <td>NaN</td>\n",
       "      <td>NaN</td>\n",
       "      <td>NaN</td>\n",
       "      <td>1.1</td>\n",
       "      <td>NaN</td>\n",
       "      <td>NaN</td>\n",
       "    </tr>\n",
       "  </tbody>\n",
       "</table>\n",
       "<p>5 rows × 55 columns</p>\n",
       "</div>"
      ],
      "text/plain": [
       "Year      1960  1961  1962  1963  1964  1965  1966  1967  1968  1969  ...  \\\n",
       "Code                                                                  ...   \n",
       "AFG   0.170627   NaN   NaN   NaN   NaN   NaN   NaN   NaN   NaN   NaN  ...   \n",
       "AGO   2.061462   NaN   NaN   NaN   NaN   NaN   NaN   NaN   NaN   NaN  ...   \n",
       "ALB   5.102676   NaN   NaN   NaN   NaN   NaN   NaN   NaN   NaN   NaN  ...   \n",
       "AND        NaN   NaN   NaN   NaN   NaN   NaN   NaN   NaN   NaN   NaN  ...   \n",
       "ARE        NaN   NaN   NaN   NaN   NaN   NaN   NaN   NaN   NaN   NaN  ...   \n",
       "\n",
       "Year  2005    2006  2007  2008  2009  2010  2011  2012  2013  2014  \n",
       "Code                                                                \n",
       "AFG    NaN     NaN  0.42  0.42   0.4   0.4   NaN   0.5   NaN   NaN  \n",
       "AGO   0.80     NaN   NaN   NaN   NaN   NaN   NaN   NaN   NaN   NaN  \n",
       "ALB   3.00  2.9692  2.90   NaN   2.8   NaN  2.43   2.6   NaN   NaN  \n",
       "AND   2.70  2.6000  2.60   NaN   2.5   NaN   NaN   NaN   NaN   NaN  \n",
       "ARE   1.88     NaN  1.86  1.90   NaN   NaN   NaN   1.1   NaN   NaN  \n",
       "\n",
       "[5 rows x 55 columns]"
      ]
     },
     "execution_count": 6,
     "metadata": {},
     "output_type": "execute_result"
    }
   ],
   "source": [
    "X_beds=df.pivot(index=\"Code\",columns=\"Year\",values=\"Hospital beds (per 1,000 people) (per 1,000 people)\")\n",
    "X_beds.head()"
   ]
  },
  {
   "cell_type": "markdown",
   "metadata": {
    "hidden": true
   },
   "source": [
    "Notice that all the records are earlier than 2014, so for inference purpose we can only resort to the last non-NaN column for each country, and assume that it hasn't significantly changed since then."
   ]
  },
  {
   "cell_type": "code",
   "execution_count": 7,
   "metadata": {
    "ExecuteTime": {
     "end_time": "2020-04-27T21:42:15.737250Z",
     "start_time": "2020-04-27T21:42:15.711242Z"
    },
    "hidden": true,
    "scrolled": false
   },
   "outputs": [],
   "source": [
    "ind = {x:X_beds.loc[x].last_valid_index() for x in X_beds.index}\n",
    "last_data_point_beds_per_mille = {x:X_beds.loc[x, ind[x]] for x in X_beds.index}"
   ]
  },
  {
   "cell_type": "markdown",
   "metadata": {
    "hidden": true
   },
   "source": [
    "Actually, we can build a helper function to do this:"
   ]
  },
  {
   "cell_type": "code",
   "execution_count": 8,
   "metadata": {
    "ExecuteTime": {
     "end_time": "2020-04-27T18:35:55.698740Z",
     "start_time": "2020-04-27T18:35:55.695451Z"
    },
    "hidden": true
   },
   "outputs": [],
   "source": [
    "def to_last_record(X):\n",
    "    ind = {x:X.loc[x].last_valid_index() for x in X.index}\n",
    "    return pd.Series([X.loc[x, ind[x]] for x in X.index], index=X.index)"
   ]
  },
  {
   "cell_type": "code",
   "execution_count": 9,
   "metadata": {
    "ExecuteTime": {
     "end_time": "2020-04-27T18:35:56.310971Z",
     "start_time": "2020-04-27T18:35:56.299501Z"
    },
    "hidden": true
   },
   "outputs": [
    {
     "data": {
      "text/html": [
       "<div>\n",
       "<style scoped>\n",
       "    .dataframe tbody tr th:only-of-type {\n",
       "        vertical-align: middle;\n",
       "    }\n",
       "\n",
       "    .dataframe tbody tr th {\n",
       "        vertical-align: top;\n",
       "    }\n",
       "\n",
       "    .dataframe thead th {\n",
       "        text-align: right;\n",
       "    }\n",
       "</style>\n",
       "<table border=\"1\" class=\"dataframe\">\n",
       "  <thead>\n",
       "    <tr style=\"text-align: right;\">\n",
       "      <th></th>\n",
       "      <th>Entity</th>\n",
       "      <th>Code</th>\n",
       "      <th>Year</th>\n",
       "      <th>Physicians (per 1,000 people) (per 1,000 people)</th>\n",
       "    </tr>\n",
       "  </thead>\n",
       "  <tbody>\n",
       "    <tr>\n",
       "      <th>0</th>\n",
       "      <td>Afghanistan</td>\n",
       "      <td>AFG</td>\n",
       "      <td>1960</td>\n",
       "      <td>0.035</td>\n",
       "    </tr>\n",
       "    <tr>\n",
       "      <th>1</th>\n",
       "      <td>Afghanistan</td>\n",
       "      <td>AFG</td>\n",
       "      <td>1965</td>\n",
       "      <td>0.063</td>\n",
       "    </tr>\n",
       "    <tr>\n",
       "      <th>2</th>\n",
       "      <td>Afghanistan</td>\n",
       "      <td>AFG</td>\n",
       "      <td>1970</td>\n",
       "      <td>0.065</td>\n",
       "    </tr>\n",
       "    <tr>\n",
       "      <th>3</th>\n",
       "      <td>Afghanistan</td>\n",
       "      <td>AFG</td>\n",
       "      <td>1981</td>\n",
       "      <td>0.077</td>\n",
       "    </tr>\n",
       "    <tr>\n",
       "      <th>4</th>\n",
       "      <td>Afghanistan</td>\n",
       "      <td>AFG</td>\n",
       "      <td>1986</td>\n",
       "      <td>0.183</td>\n",
       "    </tr>\n",
       "  </tbody>\n",
       "</table>\n",
       "</div>"
      ],
      "text/plain": [
       "        Entity Code  Year  Physicians (per 1,000 people) (per 1,000 people)\n",
       "0  Afghanistan  AFG  1960                                             0.035\n",
       "1  Afghanistan  AFG  1965                                             0.063\n",
       "2  Afghanistan  AFG  1970                                             0.065\n",
       "3  Afghanistan  AFG  1981                                             0.077\n",
       "4  Afghanistan  AFG  1986                                             0.183"
      ]
     },
     "execution_count": 9,
     "metadata": {},
     "output_type": "execute_result"
    }
   ],
   "source": [
    "df_phys = pd.read_csv(datadir + 'international/health/physicians-per-1000-people.csv')\n",
    "df_phys.head()"
   ]
  },
  {
   "cell_type": "code",
   "execution_count": 10,
   "metadata": {
    "ExecuteTime": {
     "end_time": "2020-04-27T18:35:57.128945Z",
     "start_time": "2020-04-27T18:35:57.124993Z"
    },
    "hidden": true
   },
   "outputs": [],
   "source": [
    "X_phys = df_phys.pivot(index=\"Entity\",columns=\"Year\",values=\"Physicians (per 1,000 people) (per 1,000 people)\")"
   ]
  },
  {
   "cell_type": "code",
   "execution_count": 11,
   "metadata": {
    "ExecuteTime": {
     "end_time": "2020-04-27T18:35:57.420176Z",
     "start_time": "2020-04-27T18:35:57.407898Z"
    },
    "hidden": true,
    "scrolled": false
   },
   "outputs": [
    {
     "data": {
      "text/html": [
       "<div>\n",
       "<style scoped>\n",
       "    .dataframe tbody tr th:only-of-type {\n",
       "        vertical-align: middle;\n",
       "    }\n",
       "\n",
       "    .dataframe tbody tr th {\n",
       "        vertical-align: top;\n",
       "    }\n",
       "\n",
       "    .dataframe thead th {\n",
       "        text-align: right;\n",
       "    }\n",
       "</style>\n",
       "<table border=\"1\" class=\"dataframe\">\n",
       "  <thead>\n",
       "    <tr style=\"text-align: right;\">\n",
       "      <th></th>\n",
       "      <th>Entity</th>\n",
       "      <th>Code</th>\n",
       "      <th>Year</th>\n",
       "      <th>Deaths - Lower respiratory infections - Sex: Both - Age: Age-standardized (Rate) (Rate)</th>\n",
       "    </tr>\n",
       "  </thead>\n",
       "  <tbody>\n",
       "    <tr>\n",
       "      <th>0</th>\n",
       "      <td>Afghanistan</td>\n",
       "      <td>AFG</td>\n",
       "      <td>1990</td>\n",
       "      <td>164.811829</td>\n",
       "    </tr>\n",
       "    <tr>\n",
       "      <th>1</th>\n",
       "      <td>Afghanistan</td>\n",
       "      <td>AFG</td>\n",
       "      <td>1991</td>\n",
       "      <td>151.460290</td>\n",
       "    </tr>\n",
       "    <tr>\n",
       "      <th>2</th>\n",
       "      <td>Afghanistan</td>\n",
       "      <td>AFG</td>\n",
       "      <td>1992</td>\n",
       "      <td>127.896225</td>\n",
       "    </tr>\n",
       "    <tr>\n",
       "      <th>3</th>\n",
       "      <td>Afghanistan</td>\n",
       "      <td>AFG</td>\n",
       "      <td>1993</td>\n",
       "      <td>124.725141</td>\n",
       "    </tr>\n",
       "    <tr>\n",
       "      <th>4</th>\n",
       "      <td>Afghanistan</td>\n",
       "      <td>AFG</td>\n",
       "      <td>1994</td>\n",
       "      <td>134.410918</td>\n",
       "    </tr>\n",
       "  </tbody>\n",
       "</table>\n",
       "</div>"
      ],
      "text/plain": [
       "        Entity Code  Year  \\\n",
       "0  Afghanistan  AFG  1990   \n",
       "1  Afghanistan  AFG  1991   \n",
       "2  Afghanistan  AFG  1992   \n",
       "3  Afghanistan  AFG  1993   \n",
       "4  Afghanistan  AFG  1994   \n",
       "\n",
       "   Deaths - Lower respiratory infections - Sex: Both - Age: Age-standardized (Rate) (Rate)  \n",
       "0                                         164.811829                                        \n",
       "1                                         151.460290                                        \n",
       "2                                         127.896225                                        \n",
       "3                                         124.725141                                        \n",
       "4                                         134.410918                                        "
      ]
     },
     "execution_count": 11,
     "metadata": {},
     "output_type": "execute_result"
    }
   ],
   "source": [
    "df_pneu = pd.read_csv(datadir + 'international/health/pneumonia-death-rates-age-standardized.csv')\n",
    "df_pneu.head()"
   ]
  },
  {
   "cell_type": "code",
   "execution_count": 12,
   "metadata": {
    "ExecuteTime": {
     "end_time": "2020-04-27T18:35:58.278878Z",
     "start_time": "2020-04-27T18:35:58.273483Z"
    },
    "hidden": true
   },
   "outputs": [],
   "source": [
    "X_pneu = df_pneu.pivot(index=\"Entity\",columns=\"Year\",values=\"Deaths - Lower respiratory infections - Sex: Both - Age: Age-standardized (Rate) (Rate)\")"
   ]
  },
  {
   "cell_type": "code",
   "execution_count": 13,
   "metadata": {
    "ExecuteTime": {
     "end_time": "2020-04-27T18:35:58.503134Z",
     "start_time": "2020-04-27T18:35:58.493905Z"
    },
    "hidden": true,
    "scrolled": true
   },
   "outputs": [
    {
     "data": {
      "text/html": [
       "<div>\n",
       "<style scoped>\n",
       "    .dataframe tbody tr th:only-of-type {\n",
       "        vertical-align: middle;\n",
       "    }\n",
       "\n",
       "    .dataframe tbody tr th {\n",
       "        vertical-align: top;\n",
       "    }\n",
       "\n",
       "    .dataframe thead th {\n",
       "        text-align: right;\n",
       "    }\n",
       "</style>\n",
       "<table border=\"1\" class=\"dataframe\">\n",
       "  <thead>\n",
       "    <tr style=\"text-align: right;\">\n",
       "      <th></th>\n",
       "      <th>Entity</th>\n",
       "      <th>Code</th>\n",
       "      <th>Year</th>\n",
       "      <th>Deaths - Cardiovascular diseases - Sex: Both - Age: All Ages (Percent) (%)</th>\n",
       "    </tr>\n",
       "  </thead>\n",
       "  <tbody>\n",
       "    <tr>\n",
       "      <th>0</th>\n",
       "      <td>Afghanistan</td>\n",
       "      <td>AFG</td>\n",
       "      <td>1990</td>\n",
       "      <td>23.707752</td>\n",
       "    </tr>\n",
       "    <tr>\n",
       "      <th>1</th>\n",
       "      <td>Afghanistan</td>\n",
       "      <td>AFG</td>\n",
       "      <td>1991</td>\n",
       "      <td>23.490307</td>\n",
       "    </tr>\n",
       "    <tr>\n",
       "      <th>2</th>\n",
       "      <td>Afghanistan</td>\n",
       "      <td>AFG</td>\n",
       "      <td>1992</td>\n",
       "      <td>23.146918</td>\n",
       "    </tr>\n",
       "    <tr>\n",
       "      <th>3</th>\n",
       "      <td>Afghanistan</td>\n",
       "      <td>AFG</td>\n",
       "      <td>1993</td>\n",
       "      <td>21.154207</td>\n",
       "    </tr>\n",
       "    <tr>\n",
       "      <th>4</th>\n",
       "      <td>Afghanistan</td>\n",
       "      <td>AFG</td>\n",
       "      <td>1994</td>\n",
       "      <td>19.756144</td>\n",
       "    </tr>\n",
       "  </tbody>\n",
       "</table>\n",
       "</div>"
      ],
      "text/plain": [
       "        Entity Code  Year  \\\n",
       "0  Afghanistan  AFG  1990   \n",
       "1  Afghanistan  AFG  1991   \n",
       "2  Afghanistan  AFG  1992   \n",
       "3  Afghanistan  AFG  1993   \n",
       "4  Afghanistan  AFG  1994   \n",
       "\n",
       "   Deaths - Cardiovascular diseases - Sex: Both - Age: All Ages (Percent) (%)  \n",
       "0                                          23.707752                           \n",
       "1                                          23.490307                           \n",
       "2                                          23.146918                           \n",
       "3                                          21.154207                           \n",
       "4                                          19.756144                           "
      ]
     },
     "execution_count": 13,
     "metadata": {},
     "output_type": "execute_result"
    }
   ],
   "source": [
    "df_heart = pd.read_csv(datadir + 'international/health/share-deaths-heart-disease.csv')\n",
    "df_heart.head()"
   ]
  },
  {
   "cell_type": "code",
   "execution_count": 14,
   "metadata": {
    "ExecuteTime": {
     "end_time": "2020-04-27T18:35:59.284900Z",
     "start_time": "2020-04-27T18:35:59.279372Z"
    },
    "hidden": true
   },
   "outputs": [],
   "source": [
    "X_heart = df_heart.pivot(index=\"Entity\",columns=\"Year\",values=\"Deaths - Cardiovascular diseases - Sex: Both - Age: All Ages (Percent) (%)\")"
   ]
  },
  {
   "cell_type": "code",
   "execution_count": 15,
   "metadata": {
    "ExecuteTime": {
     "end_time": "2020-04-27T18:35:59.491589Z",
     "start_time": "2020-04-27T18:35:59.481134Z"
    },
    "hidden": true,
    "scrolled": true
   },
   "outputs": [
    {
     "data": {
      "text/html": [
       "<div>\n",
       "<style scoped>\n",
       "    .dataframe tbody tr th:only-of-type {\n",
       "        vertical-align: middle;\n",
       "    }\n",
       "\n",
       "    .dataframe tbody tr th {\n",
       "        vertical-align: top;\n",
       "    }\n",
       "\n",
       "    .dataframe thead th {\n",
       "        text-align: right;\n",
       "    }\n",
       "</style>\n",
       "<table border=\"1\" class=\"dataframe\">\n",
       "  <thead>\n",
       "    <tr style=\"text-align: right;\">\n",
       "      <th></th>\n",
       "      <th>Entity</th>\n",
       "      <th>Code</th>\n",
       "      <th>Year</th>\n",
       "      <th>Smoking prevalence, total (ages 15+) (% of adults)</th>\n",
       "    </tr>\n",
       "  </thead>\n",
       "  <tbody>\n",
       "    <tr>\n",
       "      <th>0</th>\n",
       "      <td>Albania</td>\n",
       "      <td>ALB</td>\n",
       "      <td>2000</td>\n",
       "      <td>34.8</td>\n",
       "    </tr>\n",
       "    <tr>\n",
       "      <th>1</th>\n",
       "      <td>Albania</td>\n",
       "      <td>ALB</td>\n",
       "      <td>2005</td>\n",
       "      <td>32.7</td>\n",
       "    </tr>\n",
       "    <tr>\n",
       "      <th>2</th>\n",
       "      <td>Albania</td>\n",
       "      <td>ALB</td>\n",
       "      <td>2010</td>\n",
       "      <td>31.2</td>\n",
       "    </tr>\n",
       "    <tr>\n",
       "      <th>3</th>\n",
       "      <td>Albania</td>\n",
       "      <td>ALB</td>\n",
       "      <td>2011</td>\n",
       "      <td>30.7</td>\n",
       "    </tr>\n",
       "    <tr>\n",
       "      <th>4</th>\n",
       "      <td>Albania</td>\n",
       "      <td>ALB</td>\n",
       "      <td>2012</td>\n",
       "      <td>30.2</td>\n",
       "    </tr>\n",
       "  </tbody>\n",
       "</table>\n",
       "</div>"
      ],
      "text/plain": [
       "    Entity Code  Year  Smoking prevalence, total (ages 15+) (% of adults)\n",
       "0  Albania  ALB  2000                                               34.8 \n",
       "1  Albania  ALB  2005                                               32.7 \n",
       "2  Albania  ALB  2010                                               31.2 \n",
       "3  Albania  ALB  2011                                               30.7 \n",
       "4  Albania  ALB  2012                                               30.2 "
      ]
     },
     "execution_count": 15,
     "metadata": {},
     "output_type": "execute_result"
    }
   ],
   "source": [
    "df_smoke = pd.read_csv(datadir + 'international/health/share-of-adults-who-smoke.csv')\n",
    "df_smoke.head()"
   ]
  },
  {
   "cell_type": "code",
   "execution_count": 16,
   "metadata": {
    "ExecuteTime": {
     "end_time": "2020-04-27T18:36:00.355241Z",
     "start_time": "2020-04-27T18:36:00.349867Z"
    },
    "hidden": true
   },
   "outputs": [],
   "source": [
    "X_smoke = df_smoke.pivot(index=\"Entity\",columns=\"Year\",values=\"Smoking prevalence, total (ages 15+) (% of adults)\")"
   ]
  },
  {
   "cell_type": "markdown",
   "metadata": {
    "hidden": true
   },
   "source": [
    "We should also take a look at which years are polled:"
   ]
  },
  {
   "cell_type": "code",
   "execution_count": 17,
   "metadata": {
    "ExecuteTime": {
     "end_time": "2020-04-27T18:36:01.772175Z",
     "start_time": "2020-04-27T18:36:01.676813Z"
    },
    "hidden": true,
    "scrolled": false
   },
   "outputs": [
    {
     "name": "stdout",
     "output_type": "stream",
     "text": [
      "\n",
      "Counter({2011: 83, 2012: 68, 2010: 28, 1990: 13, 2009: 12, 2005: 11, 2006: 11, 1996: 4, 2004: 2, 1970: 2, 2007: 2, 2008: 2, 1981: 1, 2014: 1, 1985: 1, 2013: 1, 1960: 1, 1997: 1, 2001: 1})\n",
      "\n",
      "Counter({2013: 59, 2014: 48, 2015: 43, 2010: 27, 2016: 21, 2012: 10, 2009: 7, 2011: 7, 2004: 7, 1999: 5, 2001: 5, 1995: 4, 1997: 2, 1981: 1, 2000: 1, 1980: 1, 2006: 1, 1998: 1, 2005: 1, 2003: 1, 1987: 1})\n",
      "\n",
      "Counter({2017: 231})\n",
      "\n",
      "Counter({2017: 231})\n",
      "\n",
      "Counter({2016: 186, 2014: 1})\n"
     ]
    }
   ],
   "source": [
    "from collections import Counter\n",
    "for data in [X_beds, X_phys, X_pneu, X_heart, X_smoke]:\n",
    "    print(\"\")\n",
    "    print(Counter([data.loc[x].last_valid_index() for x in data.index]))"
   ]
  },
  {
   "cell_type": "markdown",
   "metadata": {
    "hidden": true
   },
   "source": [
    "The last three looks good, but the first two data contain results from a long span of time. This means some data can be quite inaccurate if used for inference. We can try to extrapolate, but let's leave that to the future."
   ]
  },
  {
   "cell_type": "code",
   "execution_count": 18,
   "metadata": {
    "ExecuteTime": {
     "end_time": "2020-04-27T18:39:09.762135Z",
     "start_time": "2020-04-27T18:39:09.759858Z"
    },
    "hidden": true
   },
   "outputs": [],
   "source": [
    "import pygal.maps"
   ]
  },
  {
   "cell_type": "code",
   "execution_count": 70,
   "metadata": {
    "ExecuteTime": {
     "end_time": "2020-04-27T18:56:53.761173Z",
     "start_time": "2020-04-27T18:56:53.753640Z"
    },
    "hidden": true
   },
   "outputs": [
    {
     "data": {
      "text/plain": [
       "{'AFG': 0.5,\n",
       " 'AGO': 0.8,\n",
       " 'ALB': 2.6,\n",
       " 'AND': 2.5,\n",
       " 'ARE': 1.1,\n",
       " 'ARG': 4.7,\n",
       " 'ARM': 3.9,\n",
       " 'ATG': 2.1,\n",
       " 'AUS': 3.9,\n",
       " 'AUT': 7.6,\n",
       " 'AZE': 4.7,\n",
       " 'BDI': 1.9,\n",
       " 'BEL': 6.5,\n",
       " 'BEN': 0.5,\n",
       " 'BFA': 0.4,\n",
       " 'BGD': 0.6,\n",
       " 'BGR': 6.4,\n",
       " 'BHR': 2.1,\n",
       " 'BHS': 2.9,\n",
       " 'BIH': 3.5,\n",
       " 'BLR': 11.3,\n",
       " 'BLZ': 1.1,\n",
       " 'BMU': 6.3000001907000005,\n",
       " 'BOL': 1.1,\n",
       " 'BRA': 2.3,\n",
       " 'BRB': 6.2,\n",
       " 'BRN': 2.8,\n",
       " 'BTN': 1.8,\n",
       " 'BWA': 1.8,\n",
       " 'CAF': 1.0,\n",
       " 'CAN': 2.7,\n",
       " 'CHE': 5.0,\n",
       " 'CHL': 2.1,\n",
       " 'CHN': 3.8,\n",
       " 'CIV': 0.4,\n",
       " 'CMR': 1.3,\n",
       " 'COD': 0.8,\n",
       " 'COG': 1.6,\n",
       " 'COL': 1.5,\n",
       " 'COM': 2.2,\n",
       " 'CPV': 2.1,\n",
       " 'CRI': 1.2,\n",
       " 'CUB': 5.3,\n",
       " 'CYM': 3.0,\n",
       " 'CYP': 3.5,\n",
       " 'CZE': 6.8,\n",
       " 'DEU': 8.2,\n",
       " 'DJI': 1.4,\n",
       " 'DMA': 3.8,\n",
       " 'DNK': 3.5,\n",
       " 'DOM': 1.7,\n",
       " 'DZA': 1.7,\n",
       " 'ECU': 1.6,\n",
       " 'EGY': 0.5,\n",
       " 'ERI': 0.7,\n",
       " 'ESP': 3.1,\n",
       " 'EST': 5.3,\n",
       " 'ETH': 6.3,\n",
       " 'FIN': 5.5,\n",
       " 'FJI': 2.1,\n",
       " 'FRA': 6.4,\n",
       " 'FSM': 3.2,\n",
       " 'GAB': 6.3,\n",
       " 'GBR': 2.9,\n",
       " 'GEO': 2.6,\n",
       " 'GHA': 0.9,\n",
       " 'GIN': 0.3,\n",
       " 'GMB': 1.1,\n",
       " 'GNB': 1.0,\n",
       " 'GNQ': 2.1,\n",
       " 'GRC': 4.8,\n",
       " 'GRD': 3.5,\n",
       " 'GRL': 14.353400230407699,\n",
       " 'GTM': 0.6,\n",
       " 'GUY': 2.0,\n",
       " 'HKG': 4.8909001350402805,\n",
       " 'HND': 0.7,\n",
       " 'HRV': 5.89,\n",
       " 'HTI': 1.3,\n",
       " 'HUN': 7.2,\n",
       " 'IDN': 0.9,\n",
       " 'IND': 0.7,\n",
       " 'IRL': 2.9,\n",
       " 'IRN': 0.1,\n",
       " 'IRQ': 1.3,\n",
       " 'ISL': 3.2,\n",
       " 'ISR': 3.3,\n",
       " 'ITA': 3.4,\n",
       " 'JAM': 1.7,\n",
       " 'JOR': 1.8,\n",
       " 'JPN': 13.7,\n",
       " 'KAZ': 7.2,\n",
       " 'KEN': 1.4,\n",
       " 'KGZ': 4.8,\n",
       " 'KHM': 0.7,\n",
       " 'KIR': 1.3,\n",
       " 'KNA': 2.3,\n",
       " 'KOR': 10.3,\n",
       " 'KWT': 2.2,\n",
       " 'LAO': 1.5,\n",
       " 'LBN': 3.5,\n",
       " 'LBR': 0.8,\n",
       " 'LBY': 3.7,\n",
       " 'LCA': 1.6,\n",
       " 'LKA': 3.6,\n",
       " 'LSO': 1.3,\n",
       " 'LTU': 7.0,\n",
       " 'LUX': 5.4,\n",
       " 'LVA': 5.9,\n",
       " 'MAC': 5.2953000068664595,\n",
       " 'MAR': 0.9,\n",
       " 'MCO': 13.8,\n",
       " 'MDA': 6.2,\n",
       " 'MDG': 0.2,\n",
       " 'MDV': 4.3,\n",
       " 'MEX': 1.5,\n",
       " 'MHL': 2.7,\n",
       " 'MKD': 4.5,\n",
       " 'MLI': 0.1,\n",
       " 'MLT': 4.8,\n",
       " 'MMR': 0.6,\n",
       " 'MNE': 4.0,\n",
       " 'MNG': 6.8,\n",
       " 'MOZ': 0.7,\n",
       " 'MRT': 0.4,\n",
       " 'MUS': 3.4,\n",
       " 'MWI': 1.3,\n",
       " 'MYS': 1.9,\n",
       " 'NAM': 2.7,\n",
       " 'NER': 0.3,\n",
       " 'NGA': 0.5,\n",
       " 'NIC': 0.9,\n",
       " 'NLD': 4.7,\n",
       " 'NOR': 3.3,\n",
       " 'NPL': 5.0,\n",
       " 'NRU': 5.0,\n",
       " 'NZL': 2.3,\n",
       " 'OMN': 1.7,\n",
       " 'OWID_CIS': 10.595100402832001,\n",
       " 'OWID_WRL': 2.9190689030356802,\n",
       " 'PAK': 0.6,\n",
       " 'PAN': 2.2,\n",
       " 'PER': 1.5,\n",
       " 'PHL': 1.0,\n",
       " 'PLW': 4.8,\n",
       " 'PNG': 4.0241999626,\n",
       " 'POL': 6.5,\n",
       " 'PRI': 3.3199999332,\n",
       " 'PRK': 13.2,\n",
       " 'PRT': 3.4,\n",
       " 'PRY': 1.3,\n",
       " 'PSE': 1.2000000477,\n",
       " 'QAT': 1.2,\n",
       " 'ROU': 6.1,\n",
       " 'RUS': 9.7,\n",
       " 'RWA': 1.6,\n",
       " 'SAU': 2.1,\n",
       " 'SDN': 0.8,\n",
       " 'SEN': 0.3,\n",
       " 'SGP': 2.0,\n",
       " 'SLB': 1.3,\n",
       " 'SLE': 0.4,\n",
       " 'SLV': 1.1,\n",
       " 'SMR': 3.8,\n",
       " 'SOM': 0.400000006,\n",
       " 'SRB': 5.4,\n",
       " 'STP': 2.9,\n",
       " 'SUR': 3.1,\n",
       " 'SVK': 6.0,\n",
       " 'SVN': 4.552046,\n",
       " 'SWE': 2.7,\n",
       " 'SWZ': 2.1,\n",
       " 'SYC': 3.6,\n",
       " 'TCD': 0.4,\n",
       " 'TGO': 0.7,\n",
       " 'THA': 2.1,\n",
       " 'TJK': 5.5,\n",
       " 'TKM': 4.0,\n",
       " 'TLS': 5.9,\n",
       " 'TON': 2.6,\n",
       " 'TTO': 2.7,\n",
       " 'TUN': 2.1,\n",
       " 'TUR': 2.5,\n",
       " 'TUV': 5.6,\n",
       " 'TZA': 0.7,\n",
       " 'UGA': 0.5,\n",
       " 'UKR': 9.0,\n",
       " 'URY': 2.5,\n",
       " 'USA': 2.9,\n",
       " 'UZB': 4.4,\n",
       " 'VCT': 5.2,\n",
       " 'VEN': 0.9,\n",
       " 'VIR': 18.6800003052,\n",
       " 'VNM': 2.0,\n",
       " 'VUT': 1.7,\n",
       " 'WSM': 1.0,\n",
       " 'YEM': 0.7,\n",
       " 'ZAF': 2.8,\n",
       " 'ZMB': 2.0,\n",
       " 'ZWE': 1.7}"
      ]
     },
     "execution_count": 70,
     "metadata": {},
     "output_type": "execute_result"
    }
   ],
   "source": [
    "last_data_point_beds_per_mille"
   ]
  },
  {
   "cell_type": "code",
   "execution_count": 88,
   "metadata": {
    "ExecuteTime": {
     "end_time": "2020-04-27T19:03:08.882858Z",
     "start_time": "2020-04-27T19:03:08.879375Z"
    },
    "hidden": true
   },
   "outputs": [
    {
     "data": {
      "text/plain": [
       "0.1"
      ]
     },
     "execution_count": 88,
     "metadata": {},
     "output_type": "execute_result"
    }
   ],
   "source": [
    "min(last_data_point_beds_per_mille.values())"
   ]
  },
  {
   "cell_type": "code",
   "execution_count": 89,
   "metadata": {
    "ExecuteTime": {
     "end_time": "2020-04-27T19:04:02.121563Z",
     "start_time": "2020-04-27T19:04:02.119266Z"
    },
    "hidden": true
   },
   "outputs": [],
   "source": [
    "import numpy as np"
   ]
  },
  {
   "cell_type": "code",
   "execution_count": 94,
   "metadata": {
    "ExecuteTime": {
     "end_time": "2020-04-27T19:04:30.331613Z",
     "start_time": "2020-04-27T19:04:30.327410Z"
    },
    "hidden": true
   },
   "outputs": [],
   "source": [
    "import pycountry\n",
    "maps = {}\n",
    "for keys in last_data_point_beds_per_mille.keys():\n",
    "    tmp = pycountry.countries.get(alpha_3=keys)\n",
    "    try:\n",
    "        maps[tmp.alpha_2.lower()] = (last_data_point_beds_per_mille[keys])\n",
    "    except:\n",
    "        pass"
   ]
  },
  {
   "cell_type": "code",
   "execution_count": 98,
   "metadata": {
    "ExecuteTime": {
     "end_time": "2020-04-27T19:09:33.243980Z",
     "start_time": "2020-04-27T19:09:32.446133Z"
    },
    "hidden": true
   },
   "outputs": [],
   "source": [
    "worldmap_chart = pygal.maps.world.World()\n",
    "worldmap_chart.title = 'Beds per mille'\n",
    "worldmap_chart.add('Latest available', maps)\n",
    "worldmap_chart.render_to_png('worldbeds.png')"
   ]
  },
  {
   "cell_type": "markdown",
   "metadata": {
    "hidden": true
   },
   "source": [
    "### Correlations"
   ]
  },
  {
   "cell_type": "code",
   "execution_count": 61,
   "metadata": {
    "ExecuteTime": {
     "end_time": "2020-04-23T07:18:03.931261Z",
     "start_time": "2020-04-23T07:18:03.829461Z"
    },
    "hidden": true,
    "scrolled": true
   },
   "outputs": [],
   "source": [
    "df_total = pd.DataFrame()\n",
    "df_total['beds'] = to_last_record(X_beds)\n",
    "df_total['phys'] = to_last_record(X_phys)\n",
    "df_total['pneu'] = to_last_record(X_pneu)\n",
    "df_total['heart'] = to_last_record(X_heart)\n",
    "df_total['smoke'] = to_last_record(X_smoke)"
   ]
  },
  {
   "cell_type": "code",
   "execution_count": 65,
   "metadata": {
    "ExecuteTime": {
     "end_time": "2020-04-23T07:18:39.444027Z",
     "start_time": "2020-04-23T07:18:39.435176Z"
    },
    "hidden": true,
    "scrolled": false
   },
   "outputs": [
    {
     "data": {
      "text/html": [
       "<div>\n",
       "<style scoped>\n",
       "    .dataframe tbody tr th:only-of-type {\n",
       "        vertical-align: middle;\n",
       "    }\n",
       "\n",
       "    .dataframe tbody tr th {\n",
       "        vertical-align: top;\n",
       "    }\n",
       "\n",
       "    .dataframe thead th {\n",
       "        text-align: right;\n",
       "    }\n",
       "</style>\n",
       "<table border=\"1\" class=\"dataframe\">\n",
       "  <thead>\n",
       "    <tr style=\"text-align: right;\">\n",
       "      <th></th>\n",
       "      <th>beds</th>\n",
       "      <th>phys</th>\n",
       "      <th>pneu</th>\n",
       "      <th>heart</th>\n",
       "      <th>smoke</th>\n",
       "    </tr>\n",
       "    <tr>\n",
       "      <th>Entity</th>\n",
       "      <th></th>\n",
       "      <th></th>\n",
       "      <th></th>\n",
       "      <th></th>\n",
       "      <th></th>\n",
       "    </tr>\n",
       "  </thead>\n",
       "  <tbody>\n",
       "    <tr>\n",
       "      <th>Afghanistan</th>\n",
       "      <td>0.5</td>\n",
       "      <td>0.295</td>\n",
       "      <td>69.130715</td>\n",
       "      <td>24.780577</td>\n",
       "      <td>NaN</td>\n",
       "    </tr>\n",
       "    <tr>\n",
       "      <th>Albania</th>\n",
       "      <td>2.6</td>\n",
       "      <td>1.286</td>\n",
       "      <td>12.152588</td>\n",
       "      <td>55.822085</td>\n",
       "      <td>28.7</td>\n",
       "    </tr>\n",
       "    <tr>\n",
       "      <th>Algeria</th>\n",
       "      <td>1.7</td>\n",
       "      <td>1.207</td>\n",
       "      <td>15.524824</td>\n",
       "      <td>47.284557</td>\n",
       "      <td>15.6</td>\n",
       "    </tr>\n",
       "    <tr>\n",
       "      <th>Andorra</th>\n",
       "      <td>2.5</td>\n",
       "      <td>3.690</td>\n",
       "      <td>18.121082</td>\n",
       "      <td>30.647196</td>\n",
       "      <td>33.5</td>\n",
       "    </tr>\n",
       "    <tr>\n",
       "      <th>Angola</th>\n",
       "      <td>0.8</td>\n",
       "      <td>0.144</td>\n",
       "      <td>92.216442</td>\n",
       "      <td>11.828254</td>\n",
       "      <td>NaN</td>\n",
       "    </tr>\n",
       "  </tbody>\n",
       "</table>\n",
       "</div>"
      ],
      "text/plain": [
       "             beds   phys       pneu      heart  smoke\n",
       "Entity                                               \n",
       "Afghanistan   0.5  0.295  69.130715  24.780577    NaN\n",
       "Albania       2.6  1.286  12.152588  55.822085   28.7\n",
       "Algeria       1.7  1.207  15.524824  47.284557   15.6\n",
       "Andorra       2.5  3.690  18.121082  30.647196   33.5\n",
       "Angola        0.8  0.144  92.216442  11.828254    NaN"
      ]
     },
     "execution_count": 65,
     "metadata": {},
     "output_type": "execute_result"
    }
   ],
   "source": [
    "df_total.head()"
   ]
  },
  {
   "cell_type": "markdown",
   "metadata": {
    "hidden": true
   },
   "source": [
    "Note that some entries are invalid. This is because the original dataset might not contain some countries at all."
   ]
  },
  {
   "cell_type": "markdown",
   "metadata": {
    "hidden": true
   },
   "source": [
    "Given the data we have for each country, let us plot the correlation matrix:"
   ]
  },
  {
   "cell_type": "code",
   "execution_count": 97,
   "metadata": {
    "ExecuteTime": {
     "end_time": "2020-04-23T08:26:30.132413Z",
     "start_time": "2020-04-23T08:26:29.954125Z"
    },
    "hidden": true,
    "scrolled": true
   },
   "outputs": [
    {
     "data": {
      "image/png": "[encoded data removed]",
      "text/plain": [
       "<Figure size 288x288 with 2 Axes>"
      ]
     },
     "metadata": {
      "needs_background": "light"
     },
     "output_type": "display_data"
    }
   ],
   "source": [
    "import matplotlib.pyplot as plt\n",
    "\n",
    "plt.matshow(df_total.corr(), vmin=-1, vmax=1, cmap=\"bwr\")\n",
    "plt.colorbar()\n",
    "plt.xticks(range(df_total.shape[1]), df_total.columns)\n",
    "plt.yticks(range(df_total.shape[1]), df_total.columns)\n",
    "plt.show()"
   ]
  },
  {
   "cell_type": "markdown",
   "metadata": {
    "heading_collapsed": true,
    "hidden": true
   },
   "source": [
    "## Covid-19 cases"
   ]
  },
  {
   "cell_type": "code",
   "execution_count": 99,
   "metadata": {
    "ExecuteTime": {
     "end_time": "2020-04-23T13:10:10.255963Z",
     "start_time": "2020-04-23T13:10:10.244086Z"
    },
    "hidden": true,
    "scrolled": true
   },
   "outputs": [
    {
     "data": {
      "text/html": [
       "<div>\n",
       "<style scoped>\n",
       "    .dataframe tbody tr th:only-of-type {\n",
       "        vertical-align: middle;\n",
       "    }\n",
       "\n",
       "    .dataframe tbody tr th {\n",
       "        vertical-align: top;\n",
       "    }\n",
       "\n",
       "    .dataframe thead th {\n",
       "        text-align: right;\n",
       "    }\n",
       "</style>\n",
       "<table border=\"1\" class=\"dataframe\">\n",
       "  <thead>\n",
       "    <tr style=\"text-align: right;\">\n",
       "      <th></th>\n",
       "      <th>date</th>\n",
       "      <th>location</th>\n",
       "      <th>new_cases</th>\n",
       "      <th>new_deaths</th>\n",
       "      <th>total_cases</th>\n",
       "      <th>total_deaths</th>\n",
       "    </tr>\n",
       "  </thead>\n",
       "  <tbody>\n",
       "    <tr>\n",
       "      <th>0</th>\n",
       "      <td>2019-12-31</td>\n",
       "      <td>Afghanistan</td>\n",
       "      <td>0</td>\n",
       "      <td>0</td>\n",
       "      <td>0</td>\n",
       "      <td>0</td>\n",
       "    </tr>\n",
       "    <tr>\n",
       "      <th>1</th>\n",
       "      <td>2020-01-01</td>\n",
       "      <td>Afghanistan</td>\n",
       "      <td>0</td>\n",
       "      <td>0</td>\n",
       "      <td>0</td>\n",
       "      <td>0</td>\n",
       "    </tr>\n",
       "    <tr>\n",
       "      <th>2</th>\n",
       "      <td>2020-01-02</td>\n",
       "      <td>Afghanistan</td>\n",
       "      <td>0</td>\n",
       "      <td>0</td>\n",
       "      <td>0</td>\n",
       "      <td>0</td>\n",
       "    </tr>\n",
       "    <tr>\n",
       "      <th>3</th>\n",
       "      <td>2020-01-03</td>\n",
       "      <td>Afghanistan</td>\n",
       "      <td>0</td>\n",
       "      <td>0</td>\n",
       "      <td>0</td>\n",
       "      <td>0</td>\n",
       "    </tr>\n",
       "    <tr>\n",
       "      <th>4</th>\n",
       "      <td>2020-01-04</td>\n",
       "      <td>Afghanistan</td>\n",
       "      <td>0</td>\n",
       "      <td>0</td>\n",
       "      <td>0</td>\n",
       "      <td>0</td>\n",
       "    </tr>\n",
       "  </tbody>\n",
       "</table>\n",
       "</div>"
      ],
      "text/plain": [
       "         date     location  new_cases  new_deaths  total_cases  total_deaths\n",
       "0  2019-12-31  Afghanistan          0           0            0             0\n",
       "1  2020-01-01  Afghanistan          0           0            0             0\n",
       "2  2020-01-02  Afghanistan          0           0            0             0\n",
       "3  2020-01-03  Afghanistan          0           0            0             0\n",
       "4  2020-01-04  Afghanistan          0           0            0             0"
      ]
     },
     "execution_count": 99,
     "metadata": {},
     "output_type": "execute_result"
    }
   ],
   "source": [
    "df_covid=pd.read_csv(datadir+'international/covid/our_world_in_data/full_data.csv')\n",
    "df_covid.head()"
   ]
  },
  {
   "cell_type": "code",
   "execution_count": 100,
   "metadata": {
    "ExecuteTime": {
     "end_time": "2020-04-23T13:10:20.704500Z",
     "start_time": "2020-04-23T13:10:20.695820Z"
    },
    "hidden": true
   },
   "outputs": [],
   "source": [
    "Y_d=df_covid.pivot(index=\"location\",columns=\"date\",values=\"total_deaths\")\n",
    "Y_i=df_covid.pivot(index=\"location\",columns=\"date\",values=\"total_cases\")"
   ]
  },
  {
   "cell_type": "markdown",
   "metadata": {
    "hidden": true
   },
   "source": [
    "Let's see the top 100 countries with the most confirmed cases:"
   ]
  },
  {
   "cell_type": "code",
   "execution_count": 101,
   "metadata": {
    "ExecuteTime": {
     "end_time": "2020-04-23T13:10:25.252392Z",
     "start_time": "2020-04-23T13:10:25.227142Z"
    },
    "hidden": true,
    "scrolled": true
   },
   "outputs": [
    {
     "data": {
      "text/html": [
       "<div>\n",
       "<style scoped>\n",
       "    .dataframe tbody tr th:only-of-type {\n",
       "        vertical-align: middle;\n",
       "    }\n",
       "\n",
       "    .dataframe tbody tr th {\n",
       "        vertical-align: top;\n",
       "    }\n",
       "\n",
       "    .dataframe thead th {\n",
       "        text-align: right;\n",
       "    }\n",
       "</style>\n",
       "<table border=\"1\" class=\"dataframe\">\n",
       "  <thead>\n",
       "    <tr style=\"text-align: right;\">\n",
       "      <th>date</th>\n",
       "      <th>2019-12-31</th>\n",
       "      <th>2020-01-01</th>\n",
       "      <th>2020-01-02</th>\n",
       "      <th>2020-01-03</th>\n",
       "      <th>2020-01-04</th>\n",
       "      <th>2020-01-05</th>\n",
       "      <th>2020-01-06</th>\n",
       "      <th>2020-01-07</th>\n",
       "      <th>2020-01-08</th>\n",
       "      <th>2020-01-09</th>\n",
       "      <th>...</th>\n",
       "      <th>2020-04-05</th>\n",
       "      <th>2020-04-06</th>\n",
       "      <th>2020-04-07</th>\n",
       "      <th>2020-04-08</th>\n",
       "      <th>2020-04-09</th>\n",
       "      <th>2020-04-10</th>\n",
       "      <th>2020-04-11</th>\n",
       "      <th>2020-04-12</th>\n",
       "      <th>2020-04-13</th>\n",
       "      <th>2020-04-14</th>\n",
       "    </tr>\n",
       "    <tr>\n",
       "      <th>location</th>\n",
       "      <th></th>\n",
       "      <th></th>\n",
       "      <th></th>\n",
       "      <th></th>\n",
       "      <th></th>\n",
       "      <th></th>\n",
       "      <th></th>\n",
       "      <th></th>\n",
       "      <th></th>\n",
       "      <th></th>\n",
       "      <th></th>\n",
       "      <th></th>\n",
       "      <th></th>\n",
       "      <th></th>\n",
       "      <th></th>\n",
       "      <th></th>\n",
       "      <th></th>\n",
       "      <th></th>\n",
       "      <th></th>\n",
       "      <th></th>\n",
       "      <th></th>\n",
       "    </tr>\n",
       "  </thead>\n",
       "  <tbody>\n",
       "    <tr>\n",
       "      <th>Malta</th>\n",
       "      <td>NaN</td>\n",
       "      <td>NaN</td>\n",
       "      <td>NaN</td>\n",
       "      <td>NaN</td>\n",
       "      <td>NaN</td>\n",
       "      <td>NaN</td>\n",
       "      <td>NaN</td>\n",
       "      <td>NaN</td>\n",
       "      <td>NaN</td>\n",
       "      <td>NaN</td>\n",
       "      <td>...</td>\n",
       "      <td>213.0</td>\n",
       "      <td>234.0</td>\n",
       "      <td>241.0</td>\n",
       "      <td>293.0</td>\n",
       "      <td>299.0</td>\n",
       "      <td>337.0</td>\n",
       "      <td>350.0</td>\n",
       "      <td>370.0</td>\n",
       "      <td>378.0</td>\n",
       "      <td>384.0</td>\n",
       "    </tr>\n",
       "    <tr>\n",
       "      <th>Jordan</th>\n",
       "      <td>NaN</td>\n",
       "      <td>NaN</td>\n",
       "      <td>NaN</td>\n",
       "      <td>NaN</td>\n",
       "      <td>NaN</td>\n",
       "      <td>NaN</td>\n",
       "      <td>NaN</td>\n",
       "      <td>NaN</td>\n",
       "      <td>NaN</td>\n",
       "      <td>NaN</td>\n",
       "      <td>...</td>\n",
       "      <td>323.0</td>\n",
       "      <td>345.0</td>\n",
       "      <td>349.0</td>\n",
       "      <td>349.0</td>\n",
       "      <td>358.0</td>\n",
       "      <td>372.0</td>\n",
       "      <td>372.0</td>\n",
       "      <td>381.0</td>\n",
       "      <td>389.0</td>\n",
       "      <td>391.0</td>\n",
       "    </tr>\n",
       "    <tr>\n",
       "      <th>Taiwan</th>\n",
       "      <td>0.0</td>\n",
       "      <td>0.0</td>\n",
       "      <td>0.0</td>\n",
       "      <td>0.0</td>\n",
       "      <td>0.0</td>\n",
       "      <td>0.0</td>\n",
       "      <td>0.0</td>\n",
       "      <td>0.0</td>\n",
       "      <td>0.0</td>\n",
       "      <td>0.0</td>\n",
       "      <td>...</td>\n",
       "      <td>363.0</td>\n",
       "      <td>363.0</td>\n",
       "      <td>373.0</td>\n",
       "      <td>376.0</td>\n",
       "      <td>379.0</td>\n",
       "      <td>380.0</td>\n",
       "      <td>380.0</td>\n",
       "      <td>385.0</td>\n",
       "      <td>388.0</td>\n",
       "      <td>393.0</td>\n",
       "    </tr>\n",
       "    <tr>\n",
       "      <th>Honduras</th>\n",
       "      <td>NaN</td>\n",
       "      <td>NaN</td>\n",
       "      <td>NaN</td>\n",
       "      <td>NaN</td>\n",
       "      <td>NaN</td>\n",
       "      <td>NaN</td>\n",
       "      <td>NaN</td>\n",
       "      <td>NaN</td>\n",
       "      <td>NaN</td>\n",
       "      <td>NaN</td>\n",
       "      <td>...</td>\n",
       "      <td>268.0</td>\n",
       "      <td>298.0</td>\n",
       "      <td>305.0</td>\n",
       "      <td>312.0</td>\n",
       "      <td>343.0</td>\n",
       "      <td>382.0</td>\n",
       "      <td>392.0</td>\n",
       "      <td>393.0</td>\n",
       "      <td>397.0</td>\n",
       "      <td>407.0</td>\n",
       "    </tr>\n",
       "    <tr>\n",
       "      <th>Kyrgyzstan</th>\n",
       "      <td>NaN</td>\n",
       "      <td>NaN</td>\n",
       "      <td>NaN</td>\n",
       "      <td>NaN</td>\n",
       "      <td>NaN</td>\n",
       "      <td>NaN</td>\n",
       "      <td>NaN</td>\n",
       "      <td>NaN</td>\n",
       "      <td>NaN</td>\n",
       "      <td>NaN</td>\n",
       "      <td>...</td>\n",
       "      <td>144.0</td>\n",
       "      <td>216.0</td>\n",
       "      <td>228.0</td>\n",
       "      <td>270.0</td>\n",
       "      <td>280.0</td>\n",
       "      <td>298.0</td>\n",
       "      <td>339.0</td>\n",
       "      <td>377.0</td>\n",
       "      <td>419.0</td>\n",
       "      <td>430.0</td>\n",
       "    </tr>\n",
       "    <tr>\n",
       "      <th>...</th>\n",
       "      <td>...</td>\n",
       "      <td>...</td>\n",
       "      <td>...</td>\n",
       "      <td>...</td>\n",
       "      <td>...</td>\n",
       "      <td>...</td>\n",
       "      <td>...</td>\n",
       "      <td>...</td>\n",
       "      <td>...</td>\n",
       "      <td>...</td>\n",
       "      <td>...</td>\n",
       "      <td>...</td>\n",
       "      <td>...</td>\n",
       "      <td>...</td>\n",
       "      <td>...</td>\n",
       "      <td>...</td>\n",
       "      <td>...</td>\n",
       "      <td>...</td>\n",
       "      <td>...</td>\n",
       "      <td>...</td>\n",
       "      <td>...</td>\n",
       "    </tr>\n",
       "    <tr>\n",
       "      <th>Germany</th>\n",
       "      <td>0.0</td>\n",
       "      <td>0.0</td>\n",
       "      <td>0.0</td>\n",
       "      <td>0.0</td>\n",
       "      <td>0.0</td>\n",
       "      <td>0.0</td>\n",
       "      <td>0.0</td>\n",
       "      <td>0.0</td>\n",
       "      <td>0.0</td>\n",
       "      <td>0.0</td>\n",
       "      <td>...</td>\n",
       "      <td>91714.0</td>\n",
       "      <td>95391.0</td>\n",
       "      <td>99225.0</td>\n",
       "      <td>103228.0</td>\n",
       "      <td>108202.0</td>\n",
       "      <td>113525.0</td>\n",
       "      <td>117658.0</td>\n",
       "      <td>120479.0</td>\n",
       "      <td>123016.0</td>\n",
       "      <td>125098.0</td>\n",
       "    </tr>\n",
       "    <tr>\n",
       "      <th>Italy</th>\n",
       "      <td>0.0</td>\n",
       "      <td>0.0</td>\n",
       "      <td>0.0</td>\n",
       "      <td>0.0</td>\n",
       "      <td>0.0</td>\n",
       "      <td>0.0</td>\n",
       "      <td>0.0</td>\n",
       "      <td>0.0</td>\n",
       "      <td>0.0</td>\n",
       "      <td>0.0</td>\n",
       "      <td>...</td>\n",
       "      <td>124632.0</td>\n",
       "      <td>128948.0</td>\n",
       "      <td>132547.0</td>\n",
       "      <td>135586.0</td>\n",
       "      <td>139422.0</td>\n",
       "      <td>143626.0</td>\n",
       "      <td>147577.0</td>\n",
       "      <td>152271.0</td>\n",
       "      <td>156363.0</td>\n",
       "      <td>159516.0</td>\n",
       "    </tr>\n",
       "    <tr>\n",
       "      <th>Spain</th>\n",
       "      <td>0.0</td>\n",
       "      <td>0.0</td>\n",
       "      <td>0.0</td>\n",
       "      <td>0.0</td>\n",
       "      <td>0.0</td>\n",
       "      <td>0.0</td>\n",
       "      <td>0.0</td>\n",
       "      <td>0.0</td>\n",
       "      <td>0.0</td>\n",
       "      <td>0.0</td>\n",
       "      <td>...</td>\n",
       "      <td>124736.0</td>\n",
       "      <td>130759.0</td>\n",
       "      <td>135032.0</td>\n",
       "      <td>140510.0</td>\n",
       "      <td>146690.0</td>\n",
       "      <td>152446.0</td>\n",
       "      <td>157022.0</td>\n",
       "      <td>161852.0</td>\n",
       "      <td>166019.0</td>\n",
       "      <td>169496.0</td>\n",
       "    </tr>\n",
       "    <tr>\n",
       "      <th>United States</th>\n",
       "      <td>0.0</td>\n",
       "      <td>0.0</td>\n",
       "      <td>0.0</td>\n",
       "      <td>0.0</td>\n",
       "      <td>0.0</td>\n",
       "      <td>0.0</td>\n",
       "      <td>0.0</td>\n",
       "      <td>0.0</td>\n",
       "      <td>0.0</td>\n",
       "      <td>0.0</td>\n",
       "      <td>...</td>\n",
       "      <td>312237.0</td>\n",
       "      <td>337635.0</td>\n",
       "      <td>368196.0</td>\n",
       "      <td>398809.0</td>\n",
       "      <td>432132.0</td>\n",
       "      <td>466033.0</td>\n",
       "      <td>501560.0</td>\n",
       "      <td>529951.0</td>\n",
       "      <td>557571.0</td>\n",
       "      <td>582594.0</td>\n",
       "    </tr>\n",
       "    <tr>\n",
       "      <th>World</th>\n",
       "      <td>27.0</td>\n",
       "      <td>27.0</td>\n",
       "      <td>27.0</td>\n",
       "      <td>44.0</td>\n",
       "      <td>44.0</td>\n",
       "      <td>59.0</td>\n",
       "      <td>59.0</td>\n",
       "      <td>59.0</td>\n",
       "      <td>59.0</td>\n",
       "      <td>59.0</td>\n",
       "      <td>...</td>\n",
       "      <td>1174364.0</td>\n",
       "      <td>1245596.0</td>\n",
       "      <td>1316986.0</td>\n",
       "      <td>1391888.0</td>\n",
       "      <td>1476818.0</td>\n",
       "      <td>1563857.0</td>\n",
       "      <td>1653206.0</td>\n",
       "      <td>1734913.0</td>\n",
       "      <td>1807303.0</td>\n",
       "      <td>1873265.0</td>\n",
       "    </tr>\n",
       "  </tbody>\n",
       "</table>\n",
       "<p>99 rows × 106 columns</p>\n",
       "</div>"
      ],
      "text/plain": [
       "date           2019-12-31  2020-01-01  2020-01-02  2020-01-03  2020-01-04  \\\n",
       "location                                                                    \n",
       "Malta                 NaN         NaN         NaN         NaN         NaN   \n",
       "Jordan                NaN         NaN         NaN         NaN         NaN   \n",
       "Taiwan                0.0         0.0         0.0         0.0         0.0   \n",
       "Honduras              NaN         NaN         NaN         NaN         NaN   \n",
       "Kyrgyzstan            NaN         NaN         NaN         NaN         NaN   \n",
       "...                   ...         ...         ...         ...         ...   \n",
       "Germany               0.0         0.0         0.0         0.0         0.0   \n",
       "Italy                 0.0         0.0         0.0         0.0         0.0   \n",
       "Spain                 0.0         0.0         0.0         0.0         0.0   \n",
       "United States         0.0         0.0         0.0         0.0         0.0   \n",
       "World                27.0        27.0        27.0        44.0        44.0   \n",
       "\n",
       "date           2020-01-05  2020-01-06  2020-01-07  2020-01-08  2020-01-09  \\\n",
       "location                                                                    \n",
       "Malta                 NaN         NaN         NaN         NaN         NaN   \n",
       "Jordan                NaN         NaN         NaN         NaN         NaN   \n",
       "Taiwan                0.0         0.0         0.0         0.0         0.0   \n",
       "Honduras              NaN         NaN         NaN         NaN         NaN   \n",
       "Kyrgyzstan            NaN         NaN         NaN         NaN         NaN   \n",
       "...                   ...         ...         ...         ...         ...   \n",
       "Germany               0.0         0.0         0.0         0.0         0.0   \n",
       "Italy                 0.0         0.0         0.0         0.0         0.0   \n",
       "Spain                 0.0         0.0         0.0         0.0         0.0   \n",
       "United States         0.0         0.0         0.0         0.0         0.0   \n",
       "World                59.0        59.0        59.0        59.0        59.0   \n",
       "\n",
       "date           ...  2020-04-05  2020-04-06  2020-04-07  2020-04-08  \\\n",
       "location       ...                                                   \n",
       "Malta          ...       213.0       234.0       241.0       293.0   \n",
       "Jordan         ...       323.0       345.0       349.0       349.0   \n",
       "Taiwan         ...       363.0       363.0       373.0       376.0   \n",
       "Honduras       ...       268.0       298.0       305.0       312.0   \n",
       "Kyrgyzstan     ...       144.0       216.0       228.0       270.0   \n",
       "...            ...         ...         ...         ...         ...   \n",
       "Germany        ...     91714.0     95391.0     99225.0    103228.0   \n",
       "Italy          ...    124632.0    128948.0    132547.0    135586.0   \n",
       "Spain          ...    124736.0    130759.0    135032.0    140510.0   \n",
       "United States  ...    312237.0    337635.0    368196.0    398809.0   \n",
       "World          ...   1174364.0   1245596.0   1316986.0   1391888.0   \n",
       "\n",
       "date           2020-04-09  2020-04-10  2020-04-11  2020-04-12  2020-04-13  \\\n",
       "location                                                                    \n",
       "Malta               299.0       337.0       350.0       370.0       378.0   \n",
       "Jordan              358.0       372.0       372.0       381.0       389.0   \n",
       "Taiwan              379.0       380.0       380.0       385.0       388.0   \n",
       "Honduras            343.0       382.0       392.0       393.0       397.0   \n",
       "Kyrgyzstan          280.0       298.0       339.0       377.0       419.0   \n",
       "...                   ...         ...         ...         ...         ...   \n",
       "Germany          108202.0    113525.0    117658.0    120479.0    123016.0   \n",
       "Italy            139422.0    143626.0    147577.0    152271.0    156363.0   \n",
       "Spain            146690.0    152446.0    157022.0    161852.0    166019.0   \n",
       "United States    432132.0    466033.0    501560.0    529951.0    557571.0   \n",
       "World           1476818.0   1563857.0   1653206.0   1734913.0   1807303.0   \n",
       "\n",
       "date           2020-04-14  \n",
       "location                   \n",
       "Malta               384.0  \n",
       "Jordan              391.0  \n",
       "Taiwan              393.0  \n",
       "Honduras            407.0  \n",
       "Kyrgyzstan          430.0  \n",
       "...                   ...  \n",
       "Germany          125098.0  \n",
       "Italy            159516.0  \n",
       "Spain            169496.0  \n",
       "United States    582594.0  \n",
       "World           1873265.0  \n",
       "\n",
       "[99 rows x 106 columns]"
      ]
     },
     "execution_count": 101,
     "metadata": {},
     "output_type": "execute_result"
    }
   ],
   "source": [
    "Y_i.sort_values(by='2020-04-14').iloc[-100:-1]"
   ]
  },
  {
   "cell_type": "code",
   "execution_count": 99,
   "metadata": {
    "ExecuteTime": {
     "end_time": "2020-04-21T22:59:15.072638Z",
     "start_time": "2020-04-21T22:59:14.834767Z"
    },
    "hidden": true,
    "scrolled": false
   },
   "outputs": [
    {
     "data": {
      "text/plain": [
       "<matplotlib.axes._subplots.AxesSubplot at 0x7fb6d3be96d0>"
      ]
     },
     "execution_count": 99,
     "metadata": {},
     "output_type": "execute_result"
    },
    {
     "data": {
      "image/png": "[encoded data removed]",
      "text/plain": [
       "<Figure size 432x288 with 1 Axes>"
      ]
     },
     "metadata": {
      "needs_background": "light"
     },
     "output_type": "display_data"
    }
   ],
   "source": [
    "Y_i.sort_values(by='2020-04-14').iloc[-10:-2].T.plot()"
   ]
  },
  {
   "cell_type": "markdown",
   "metadata": {},
   "source": [
    "# SEIR-like"
   ]
  },
  {
   "cell_type": "markdown",
   "metadata": {},
   "source": [
    "## TA's functions"
   ]
  },
  {
   "cell_type": "code",
   "execution_count": 300,
   "metadata": {
    "ExecuteTime": {
     "end_time": "2020-05-04T07:17:51.749811Z",
     "start_time": "2020-05-04T07:17:51.743425Z"
    }
   },
   "outputs": [],
   "source": [
    "def diff(dat, t,params, N):\n",
    "    beta = params[0]/N\n",
    "    delta = params[1]\n",
    "    gamma = params[2]\n",
    "    alpha = params[3]\n",
    "    lambda_ = params[4]\n",
    "    kappa = params[5]\n",
    "    \n",
    "    s = dat[0]\n",
    "    e = dat[1]\n",
    "    i = dat[2]\n",
    "    q = dat[3]\n",
    "    r = dat[4]\n",
    "    d = dat[5]\n",
    "    sa = dat[6]\n",
    "    \n",
    "    dsdt = - beta * s * i - alpha * s\n",
    "    dedt = beta * s * i - gamma * e\n",
    "    didt = gamma * e - lambda_ * i\n",
    "    dqdt = lambda_ * i - delta * q - kappa * q\n",
    "    drdt = delta * q\n",
    "    dddt = kappa * q\n",
    "    dsadt = alpha * s\n",
    "    \n",
    "    # susceptible, exposed, infected, quarantined, recovered, died, unsusceptible\n",
    "    return [dsdt, dedt, didt, dqdt, drdt, dddt, dsadt]"
   ]
  },
  {
   "cell_type": "code",
   "execution_count": 316,
   "metadata": {
    "ExecuteTime": {
     "end_time": "2020-05-04T07:20:53.021433Z",
     "start_time": "2020-05-04T07:20:53.015715Z"
    }
   },
   "outputs": [],
   "source": [
    "from scipy.integrate import odeint\n",
    "def model(params, tmax, initial_death=0):\n",
    "    # initial conditions\n",
    "    N = 451443\n",
    "    initial_conditions = N * np.array(params[-5:]) # the parameters are a fraction of the population so multiply by the population\n",
    "    \n",
    "    # initial conditions\n",
    "    e0 = initial_conditions[0]\n",
    "    i0 = initial_conditions[1]\n",
    "    q0 = initial_conditions[2]\n",
    "    r0 = initial_conditions[3]\n",
    "    sa0 = initial_conditions[4]\n",
    "    \n",
    "    d0 = initial_death\n",
    "    s0 = N - np.sum(initial_conditions) - d0\n",
    "\n",
    "    yz_0 = np.array([s0, e0, i0, q0, r0, d0, sa0])\n",
    "    \n",
    "    # Package parameters into a tuple\n",
    "    args = (params, N)\n",
    "    \n",
    "    \n",
    "    # Integrate ODEs\n",
    "    s = odeint(diff, yz_0, np.arange(0, tmax), args=args)\n",
    "\n",
    "    return s"
   ]
  },
  {
   "cell_type": "code",
   "execution_count": 302,
   "metadata": {
    "ExecuteTime": {
     "end_time": "2020-05-04T07:17:53.277966Z",
     "start_time": "2020-05-04T07:17:53.274857Z"
    }
   },
   "outputs": [],
   "source": [
    "def death_cost(params, data):\n",
    "    Ddata = data\n",
    "    # Idata = (data['TotalCurrentlyPositive'].values)\n",
    "    s = model_qd(params, data, tmax=len(data))\n",
    "    D = s[:,5]\n",
    "    error = (D-Ddata)\n",
    "    return error"
   ]
  },
  {
   "cell_type": "code",
   "execution_count": 24,
   "metadata": {
    "ExecuteTime": {
     "end_time": "2020-05-04T02:49:00.534258Z",
     "start_time": "2020-05-04T02:49:00.513812Z"
    }
   },
   "outputs": [],
   "source": [
    "from scipy.optimize import least_squares\n",
    "import numpy as np\n",
    "import git\n",
    "import pandas as pd\n",
    "repo = git.Repo(\"./\", search_parent_directories=True)\n",
    "homedir = repo.working_dir\n",
    "datadir = f\"{homedir}/data/\"\n",
    "df = pd.read_csv(datadir + 'us/covid/confirmed_cases.csv')"
   ]
  },
  {
   "cell_type": "code",
   "execution_count": 30,
   "metadata": {
    "ExecuteTime": {
     "end_time": "2020-05-04T02:49:58.533349Z",
     "start_time": "2020-05-04T02:49:58.529290Z"
    },
    "collapsed": true
   },
   "outputs": [
    {
     "data": {
      "text/plain": [
       "Index(['countyFIPS', 'County Name', 'State', 'stateFIPS', '1/22/20', '1/23/20',\n",
       "       '1/24/20', '1/25/20', '1/26/20', '1/27/20', '1/28/20', '1/29/20',\n",
       "       '1/30/20', '1/31/20', '2/1/20', '2/2/20', '2/3/20', '2/4/20', '2/5/20',\n",
       "       '2/6/20', '2/7/20', '2/8/20', '2/9/20', '2/10/20', '2/11/20', '2/12/20',\n",
       "       '2/13/20', '2/14/20', '2/15/20', '2/16/20', '2/17/20', '2/18/20',\n",
       "       '2/19/20', '2/20/20', '2/21/20', '2/22/20', '2/23/20', '2/24/20',\n",
       "       '2/25/20', '2/26/20', '2/27/20', '2/28/20', '2/29/20', '3/1/20',\n",
       "       '3/2/20', '3/3/20', '3/4/20', '3/5/20', '3/6/20', '3/7/20', '3/8/20',\n",
       "       '3/9/20', '3/10/20', '3/11/20', '3/12/20', '3/13/20', '3/14/20',\n",
       "       '3/15/20', '3/16/20', '3/17/20', '3/18/20', '3/19/20', '3/20/20',\n",
       "       '3/21/20', '3/22/20', '3/23/20', '3/24/20', '3/25/20', '3/26/20',\n",
       "       '3/27/20', '3/28/20', '3/29/20', '3/30/20', '3/31/20', '4/1/20',\n",
       "       '4/2/20', '4/3/20', '4/4/20', '4/5/20', '4/6/20', '4/7/20', '4/8/20',\n",
       "       '4/9/20', '4/10/20', '4/11/20', '4/12/20', '4/13/20', '4/14/20',\n",
       "       '4/15/20', '4/16/20', '4/17/20', '4/18/20', '4/19/20', '4/20/20',\n",
       "       '4/21/20', '4/22/20', '4/23/20'],\n",
       "      dtype='object')"
      ]
     },
     "execution_count": 30,
     "metadata": {},
     "output_type": "execute_result"
    }
   ],
   "source": [
    "df.columns"
   ]
  },
  {
   "cell_type": "code",
   "execution_count": 569,
   "metadata": {
    "ExecuteTime": {
     "end_time": "2020-05-04T09:49:34.561455Z",
     "start_time": "2020-05-04T09:49:34.557685Z"
    }
   },
   "outputs": [],
   "source": [
    "X=df[df['4/23/20']>1000]"
   ]
  },
  {
   "cell_type": "code",
   "execution_count": 204,
   "metadata": {
    "ExecuteTime": {
     "end_time": "2020-05-04T06:49:58.865244Z",
     "start_time": "2020-05-04T06:49:58.861539Z"
    },
    "scrolled": true
   },
   "outputs": [],
   "source": [
    "x=df[df['4/23/20']>1000].sample()"
   ]
  },
  {
   "cell_type": "code",
   "execution_count": 217,
   "metadata": {
    "ExecuteTime": {
     "end_time": "2020-05-04T06:52:09.650690Z",
     "start_time": "2020-05-04T06:52:09.639708Z"
    }
   },
   "outputs": [
    {
     "data": {
      "text/html": [
       "<div>\n",
       "<style scoped>\n",
       "    .dataframe tbody tr th:only-of-type {\n",
       "        vertical-align: middle;\n",
       "    }\n",
       "\n",
       "    .dataframe tbody tr th {\n",
       "        vertical-align: top;\n",
       "    }\n",
       "\n",
       "    .dataframe thead th {\n",
       "        text-align: right;\n",
       "    }\n",
       "</style>\n",
       "<table border=\"1\" class=\"dataframe\">\n",
       "  <thead>\n",
       "    <tr style=\"text-align: right;\">\n",
       "      <th></th>\n",
       "      <th>countyFIPS</th>\n",
       "      <th>County Name</th>\n",
       "      <th>State</th>\n",
       "      <th>stateFIPS</th>\n",
       "      <th>1/22/20</th>\n",
       "      <th>1/23/20</th>\n",
       "      <th>1/24/20</th>\n",
       "      <th>1/25/20</th>\n",
       "      <th>1/26/20</th>\n",
       "      <th>1/27/20</th>\n",
       "      <th>...</th>\n",
       "      <th>4/14/20</th>\n",
       "      <th>4/15/20</th>\n",
       "      <th>4/16/20</th>\n",
       "      <th>4/17/20</th>\n",
       "      <th>4/18/20</th>\n",
       "      <th>4/19/20</th>\n",
       "      <th>4/20/20</th>\n",
       "      <th>4/21/20</th>\n",
       "      <th>4/22/20</th>\n",
       "      <th>4/23/20</th>\n",
       "    </tr>\n",
       "  </thead>\n",
       "  <tbody>\n",
       "    <tr>\n",
       "      <th>252</th>\n",
       "      <td>8001</td>\n",
       "      <td>Adams County</td>\n",
       "      <td>CO</td>\n",
       "      <td>8</td>\n",
       "      <td>0</td>\n",
       "      <td>0</td>\n",
       "      <td>0</td>\n",
       "      <td>0</td>\n",
       "      <td>0</td>\n",
       "      <td>0</td>\n",
       "      <td>...</td>\n",
       "      <td>726</td>\n",
       "      <td>758</td>\n",
       "      <td>805</td>\n",
       "      <td>860</td>\n",
       "      <td>894</td>\n",
       "      <td>915</td>\n",
       "      <td>968</td>\n",
       "      <td>996</td>\n",
       "      <td>1033</td>\n",
       "      <td>1082</td>\n",
       "    </tr>\n",
       "  </tbody>\n",
       "</table>\n",
       "<p>1 rows × 97 columns</p>\n",
       "</div>"
      ],
      "text/plain": [
       "     countyFIPS   County Name State  stateFIPS  1/22/20  1/23/20  1/24/20  \\\n",
       "252        8001  Adams County    CO          8        0        0        0   \n",
       "\n",
       "     1/25/20  1/26/20  1/27/20  ...  4/14/20  4/15/20  4/16/20  4/17/20  \\\n",
       "252        0        0        0  ...      726      758      805      860   \n",
       "\n",
       "     4/18/20  4/19/20  4/20/20  4/21/20  4/22/20  4/23/20  \n",
       "252      894      915      968      996     1033     1082  \n",
       "\n",
       "[1 rows x 97 columns]"
      ]
     },
     "execution_count": 217,
     "metadata": {},
     "output_type": "execute_result"
    }
   ],
   "source": [
    "x"
   ]
  },
  {
   "cell_type": "code",
   "execution_count": 418,
   "metadata": {
    "ExecuteTime": {
     "end_time": "2020-05-04T08:56:33.845047Z",
     "start_time": "2020-05-04T08:56:33.841930Z"
    }
   },
   "outputs": [],
   "source": [
    "xs=np.array(x.iloc[:,4:].values.flatten(),dtype=float)"
   ]
  },
  {
   "cell_type": "code",
   "execution_count": 284,
   "metadata": {
    "ExecuteTime": {
     "end_time": "2020-05-04T07:12:24.340872Z",
     "start_time": "2020-05-04T07:12:24.338994Z"
    }
   },
   "outputs": [],
   "source": [
    "guesses= [1, 0.3, 0.2, 0.2, 0.2, 0.03, 0.5e-3, 0.5e-3, 0.3e-3, 0.1e-4, 0.5]"
   ]
  },
  {
   "cell_type": "code",
   "execution_count": 339,
   "metadata": {
    "ExecuteTime": {
     "end_time": "2020-05-04T07:27:48.580764Z",
     "start_time": "2020-05-04T07:27:48.449554Z"
    }
   },
   "outputs": [],
   "source": [
    "from bokeh.models import Slider\n",
    "slider = Slider(start=1, end=20, value=1, step=1, title=\"Minus days\")"
   ]
  },
  {
   "cell_type": "code",
   "execution_count": null,
   "metadata": {},
   "outputs": [],
   "source": [
    "slider.js_link('value', r.glyph, 'radius')"
   ]
  },
  {
   "cell_type": "code",
   "execution_count": null,
   "metadata": {
    "ExecuteTime": {
     "end_time": "2020-05-04T07:29:42.827130Z",
     "start_time": "2020-05-04T07:29:42.820207Z"
    },
    "scrolled": true
   },
   "outputs": [],
   "source": [
    "from bokeh.plotting import figure, output_file, show\n",
    "p = figure(title=\"Death tolls\", plot_width=300, plot_height=300)\n",
    "res = least_squares(death_cost, guesses, args=(xs[:-ns],))\n",
    "p.line(x=model(res.x,tmax=len(xs))[:,5])\n",
    "p.line(xs)\n",
    "show(p)"
   ]
  },
  {
   "cell_type": "code",
   "execution_count": 395,
   "metadata": {
    "ExecuteTime": {
     "end_time": "2020-05-04T08:48:07.470426Z",
     "start_time": "2020-05-04T08:48:07.467717Z"
    }
   },
   "outputs": [],
   "source": [
    "param_ranges = [(0, np.inf)]*6\n",
    "initial_ranges = [(0,1)]*5"
   ]
  },
  {
   "cell_type": "code",
   "execution_count": 419,
   "metadata": {
    "ExecuteTime": {
     "end_time": "2020-05-04T08:58:30.222689Z",
     "start_time": "2020-05-04T08:56:42.788483Z"
    },
    "scrolled": false
   },
   "outputs": [
    {
     "data": {
      "image/png": "[encoded data removed]",
      "text/plain": [
       "<Figure size 1440x720 with 1 Axes>"
      ]
     },
     "metadata": {
      "needs_background": "light"
     },
     "output_type": "display_data"
    }
   ],
   "source": [
    "plt.figure(figsize=(20,10))\n",
    "for ns in range(1,20,2):\n",
    "    res = least_squares(death_cost, guesses, args=(xs[:-ns],), bounds=np.transpose(np.array(param_ranges+initial_ranges)))\n",
    "    plt.plot(model(res.x,tmax=len(xs))[:,5],alpha=1-(ns-1)/20,c='k')\n",
    "plt.plot(xs,c='r')\n",
    "plt.show()"
   ]
  },
  {
   "cell_type": "code",
   "execution_count": 420,
   "metadata": {
    "ExecuteTime": {
     "end_time": "2020-05-04T08:58:50.624000Z",
     "start_time": "2020-05-04T08:58:50.620910Z"
    }
   },
   "outputs": [
    {
     "data": {
      "text/plain": [
       "array([1.11704373e+00, 2.47549824e-01, 1.54274519e-03, 4.00836615e-01,\n",
       "       1.51053995e-03, 8.33917487e-02, 1.89976291e-01, 9.38174639e-26,\n",
       "       1.70678487e-38, 7.48696640e-03, 4.04456420e-01])"
      ]
     },
     "execution_count": 420,
     "metadata": {},
     "output_type": "execute_result"
    }
   ],
   "source": [
    "res.x"
   ]
  },
  {
   "cell_type": "code",
   "execution_count": 421,
   "metadata": {
    "ExecuteTime": {
     "end_time": "2020-05-04T08:58:54.474058Z",
     "start_time": "2020-05-04T08:58:54.469525Z"
    },
    "scrolled": false
   },
   "outputs": [
    {
     "name": "stdout",
     "output_type": "stream",
     "text": [
      "Initial S: 179710.5748956449\n",
      "Initial SA: 182589.019638874\n",
      "Initial E: 85763.46689268856\n",
      "Initial I: 4.2353237339698e-20\n",
      "Initial R: 3379.938572792535\n",
      "Initial Q: 7.705160840267714e-33\n",
      "Initial D: 0.0\n",
      "\n"
     ]
    }
   ],
   "source": [
    "population = 451443\n",
    "num = np.array([(1-np.sum(res.x[6:])),res.x[10],res.x[6],res.x[7],res.x[9],res.x[8],0])*population\n",
    "print(\"Initial S: {0}\\nInitial SA: {1}\\nInitial E: {2}\\nInitial I: {3}\\nInitial R: {4}\\nInitial Q: {5}\\nInitial D: {6}\\n\".format(*list(num)))"
   ]
  },
  {
   "cell_type": "code",
   "execution_count": 436,
   "metadata": {
    "ExecuteTime": {
     "end_time": "2020-05-04T09:03:45.568641Z",
     "start_time": "2020-05-04T09:03:45.564148Z"
    }
   },
   "outputs": [
    {
     "data": {
      "text/plain": [
       "'3/25/20'"
      ]
     },
     "execution_count": 436,
     "metadata": {},
     "output_type": "execute_result"
    }
   ],
   "source": [
    "tmp=df.iloc[15,4:]\n",
    "tmp[tmp>0].index[0]"
   ]
  },
  {
   "cell_type": "code",
   "execution_count": 545,
   "metadata": {
    "ExecuteTime": {
     "end_time": "2020-05-04T09:33:53.351322Z",
     "start_time": "2020-05-04T09:33:53.348256Z"
    }
   },
   "outputs": [],
   "source": [
    "def get_first_nonzero(s):\n",
    "    tmp = np.nonzero(s.values)[1]\n",
    "    if len(tmp) > 0:\n",
    "        return s.columns[tmp[0]]\n",
    "    else:\n",
    "        return None"
   ]
  },
  {
   "cell_type": "code",
   "execution_count": 445,
   "metadata": {
    "ExecuteTime": {
     "end_time": "2020-05-04T09:06:56.786997Z",
     "start_time": "2020-05-04T09:06:56.783322Z"
    }
   },
   "outputs": [
    {
     "data": {
      "text/plain": [
       "'3/22/20'"
      ]
     },
     "execution_count": 445,
     "metadata": {},
     "output_type": "execute_result"
    }
   ],
   "source": [
    "get_first_nonzero(30)"
   ]
  },
  {
   "cell_type": "code",
   "execution_count": 449,
   "metadata": {
    "ExecuteTime": {
     "end_time": "2020-05-04T09:07:26.242518Z",
     "start_time": "2020-05-04T09:07:26.238848Z"
    }
   },
   "outputs": [
    {
     "data": {
      "text/plain": [
       "Int64Index([ 107,  110,  193,  211,  222,  225,  228,  229,  230,  235,\n",
       "            ...\n",
       "            2669, 2788, 2795, 2841, 2897, 2941, 3019, 3029, 3033, 3139],\n",
       "           dtype='int64', length=121)"
      ]
     },
     "execution_count": 449,
     "metadata": {},
     "output_type": "execute_result"
    }
   ],
   "source": [
    "X.index"
   ]
  },
  {
   "cell_type": "code",
   "execution_count": 450,
   "metadata": {
    "ExecuteTime": {
     "end_time": "2020-05-04T09:07:30.519482Z",
     "start_time": "2020-05-04T09:07:30.447615Z"
    }
   },
   "outputs": [],
   "source": [
    "first = []\n",
    "for i in X.index:\n",
    "    first.append(get_first_nonzero(i))"
   ]
  },
  {
   "cell_type": "code",
   "execution_count": 463,
   "metadata": {
    "ExecuteTime": {
     "end_time": "2020-05-04T09:10:32.211354Z",
     "start_time": "2020-05-04T09:10:32.208598Z"
    },
    "scrolled": true
   },
   "outputs": [],
   "source": [
    "nth_to_date = {i:df.columns[4+i] for i in range(93)}"
   ]
  },
  {
   "cell_type": "code",
   "execution_count": 546,
   "metadata": {
    "ExecuteTime": {
     "end_time": "2020-05-04T09:34:01.592394Z",
     "start_time": "2020-05-04T09:34:01.587153Z"
    }
   },
   "outputs": [
    {
     "data": {
      "text/plain": [
       "'3/13/20'"
      ]
     },
     "execution_count": 546,
     "metadata": {},
     "output_type": "execute_result"
    }
   ],
   "source": [
    "get_first_nonzero(df[df['countyFIPS']==51153].iloc[:,4:])"
   ]
  },
  {
   "cell_type": "code",
   "execution_count": 564,
   "metadata": {
    "ExecuteTime": {
     "end_time": "2020-05-04T09:47:58.866190Z",
     "start_time": "2020-05-04T09:47:58.858877Z"
    }
   },
   "outputs": [],
   "source": [
    "def predict_selected_county(countyFIPS):\n",
    "    x_raw = df[df['countyFIPS']==countyFIPS]\n",
    "    padding = get_first_nonzero(x_raw.iloc[:,4:])\n",
    "    print(\"First death: {}\".format(padding))\n",
    "    xs = x_raw.loc[:,padding:].values.flatten()\n",
    "    print(\"Deaths from date of first death: {}\".format(xs))\n",
    "    plt.figure(figsize=(20,10))\n",
    "    for ns in range(1,20,4):\n",
    "        res = least_squares(death_cost, guesses, args=(xs[:-ns],), bounds=np.transpose(np.array(param_ranges+initial_ranges)))\n",
    "        plt.plot(model(res.x,tmax=len(xs))[:,5],alpha=1-(ns-1)/20,c='k')\n",
    "    plt.plot(xs,c='r')\n",
    "    plt.title(\"Death predictions for {name}, {state}\".format(name=x_raw['County Name'].values[0],state=x_raw['State'].values[0]))\n",
    "    plt.show()"
   ]
  },
  {
   "cell_type": "code",
   "execution_count": 572,
   "metadata": {
    "ExecuteTime": {
     "end_time": "2020-05-04T09:52:32.068235Z",
     "start_time": "2020-05-04T09:52:32.060765Z"
    }
   },
   "outputs": [],
   "source": [
    "def predict_selected_county_before_window(countyFIPS, n_days_before):\n",
    "    x_raw = df[df['countyFIPS']==countyFIPS]\n",
    "    padding = get_first_nonzero(x_raw.iloc[:,4:])\n",
    "    print(\"First death: {}\".format(padding))\n",
    "    xs = x_raw.loc[:,padding:].values.flatten()\n",
    "    print(\"Deaths from date of first death: {}\".format(xs))\n",
    "    plt.figure(figsize=(20,10))\n",
    "    res = least_squares(death_cost, guesses, args=(xs[:-n_days_before],), bounds=np.transpose(np.array(param_ranges+initial_ranges)))\n",
    "    plt.plot(model(res.x,tmax=len(xs))[:,5],c='k')\n",
    "    plt.plot(xs,c='r')\n",
    "    plt.title(\"Death predictions for {name}, {state}\".format(name=x_raw['County Name'].values[0],state=x_raw['State'].values[0]))\n",
    "    plt.show()"
   ]
  },
  {
   "cell_type": "code",
   "execution_count": 595,
   "metadata": {
    "ExecuteTime": {
     "end_time": "2020-05-04T10:23:58.338039Z",
     "start_time": "2020-05-04T10:23:58.333772Z"
    }
   },
   "outputs": [],
   "source": [
    "def predict_selected_county_before_window2(countyFIPS, n_days_before):\n",
    "    x_raw = df[df['countyFIPS']==countyFIPS]\n",
    "    padding = get_first_nonzero(x_raw.iloc[:,4:])\n",
    "    xs = x_raw.loc[:,padding:].values.flatten()\n",
    "    res = least_squares(death_cost, guesses, args=(xs[:-n_days_before],), bounds=np.transpose(np.array(param_ranges+initial_ranges)))\n",
    "    return res"
   ]
  },
  {
   "cell_type": "code",
   "execution_count": 580,
   "metadata": {
    "ExecuteTime": {
     "end_time": "2020-05-04T10:20:55.486508Z",
     "start_time": "2020-05-04T10:20:55.483751Z"
    }
   },
   "outputs": [],
   "source": [
    "X_correlations = pd.DataFrame(index=X.index)"
   ]
  },
  {
   "cell_type": "code",
   "execution_count": null,
   "metadata": {
    "ExecuteTime": {
     "end_time": "2020-05-04T09:53:36.585503Z",
     "start_time": "2020-05-04T09:53:15.803754Z"
    }
   },
   "outputs": [],
   "source": [
    "predict_selected_county_before_window(4019,10)"
   ]
  },
  {
   "cell_type": "code",
   "execution_count": null,
   "metadata": {
    "ExecuteTime": {
     "end_time": "2020-05-04T09:50:54.035157Z",
     "start_time": "2020-05-04T09:49:44.692065Z"
    },
    "scrolled": true
   },
   "outputs": [],
   "source": [
    "predict_selected_county(4019)"
   ]
  },
  {
   "cell_type": "code",
   "execution_count": 597,
   "metadata": {
    "ExecuteTime": {
     "end_time": "2020-05-04T10:34:09.006684Z",
     "start_time": "2020-05-04T10:25:11.946006Z"
    }
   },
   "outputs": [
    {
     "name": "stdout",
     "output_type": "stream",
     "text": [
      "0\n",
      "1\n",
      "2\n",
      "3\n",
      "4\n",
      "5\n",
      "6\n",
      "7\n",
      "8\n",
      "9\n",
      "10\n",
      "11\n",
      "12\n",
      "13\n",
      "14\n",
      "15\n",
      "16\n",
      "17\n",
      "18\n",
      "19\n",
      "20\n",
      "21\n",
      "22\n",
      "23\n",
      "24\n",
      "25\n",
      "26\n",
      "27\n",
      "28\n",
      "29\n",
      "30\n",
      "31\n",
      "32\n",
      "33\n",
      "34\n",
      "35\n",
      "36\n",
      "37\n",
      "38\n",
      "39\n",
      "40\n",
      "41\n",
      "42\n",
      "43\n",
      "44\n",
      "45\n",
      "46\n",
      "47\n",
      "48\n",
      "49\n",
      "50\n",
      "51\n",
      "52\n",
      "53\n",
      "54\n",
      "55\n",
      "56\n",
      "57\n",
      "58\n",
      "59\n",
      "60\n",
      "61\n",
      "62\n",
      "63\n",
      "64\n",
      "65\n",
      "66\n",
      "67\n",
      "68\n",
      "69\n",
      "70\n",
      "71\n",
      "72\n",
      "73\n",
      "74\n",
      "75\n",
      "76\n",
      "77\n",
      "78\n",
      "79\n",
      "80\n",
      "81\n",
      "82\n",
      "83\n",
      "84\n",
      "85\n",
      "86\n",
      "87\n",
      "88\n",
      "89\n",
      "90\n",
      "91\n",
      "92\n",
      "93\n",
      "94\n",
      "95\n",
      "96\n",
      "97\n",
      "98\n",
      "99\n",
      "100\n",
      "101\n",
      "102\n",
      "103\n",
      "104\n",
      "105\n",
      "106\n",
      "107\n",
      "108\n",
      "109\n",
      "110\n",
      "111\n",
      "112\n",
      "113\n",
      "114\n",
      "115\n",
      "116\n",
      "117\n",
      "118\n",
      "119\n",
      "120\n"
     ]
    }
   ],
   "source": [
    "counter = 0\n",
    "for f in X['countyFIPS']:\n",
    "    tmp = predict_selected_county_before_window2(f, 1)\n",
    "    for i in range(11):\n",
    "        X_correlations.loc[f, 'param'+str(i)]=tmp.x[i]\n",
    "    print(counter)\n",
    "    counter += 1"
   ]
  },
  {
   "cell_type": "code",
   "execution_count": 603,
   "metadata": {
    "ExecuteTime": {
     "end_time": "2020-05-04T10:36:47.203435Z",
     "start_time": "2020-05-04T10:36:47.199514Z"
    }
   },
   "outputs": [],
   "source": [
    "X_correlations=X_correlations.dropna()"
   ]
  },
  {
   "cell_type": "code",
   "execution_count": 607,
   "metadata": {
    "ExecuteTime": {
     "end_time": "2020-05-04T10:37:35.551350Z",
     "start_time": "2020-05-04T10:37:35.548292Z"
    },
    "scrolled": false
   },
   "outputs": [],
   "source": [
    "X2=X_correlations.reset_index()"
   ]
  },
  {
   "cell_type": "code",
   "execution_count": 600,
   "metadata": {
    "ExecuteTime": {
     "end_time": "2020-05-04T10:36:21.390230Z",
     "start_time": "2020-05-04T10:36:21.384386Z"
    }
   },
   "outputs": [],
   "source": [
    "df_beds = pd.read_csv(datadir + 'us/hospitals/beds_by_county.csv')"
   ]
  },
  {
   "cell_type": "code",
   "execution_count": 610,
   "metadata": {
    "ExecuteTime": {
     "end_time": "2020-05-04T10:40:08.655735Z",
     "start_time": "2020-05-04T10:40:08.649330Z"
    }
   },
   "outputs": [],
   "source": [
    "X_tot = pd.merge(X_correlations, df_beds, left_index=True, right_on='FIPS').drop(columns=['state','county','Name']).set_index('FIPS')"
   ]
  },
  {
   "cell_type": "code",
   "execution_count": 613,
   "metadata": {
    "ExecuteTime": {
     "end_time": "2020-05-04T10:40:32.399958Z",
     "start_time": "2020-05-04T10:40:32.293985Z"
    }
   },
   "outputs": [],
   "source": [
    "import seaborn as sns"
   ]
  },
  {
   "cell_type": "code",
   "execution_count": 618,
   "metadata": {
    "ExecuteTime": {
     "end_time": "2020-05-04T10:44:40.379836Z",
     "start_time": "2020-05-04T10:44:40.178767Z"
    },
    "scrolled": false
   },
   "outputs": [
    {
     "data": {
      "image/png": "[encoded data removed]",
      "text/plain": [
       "<Figure size 432x288 with 2 Axes>"
      ]
     },
     "metadata": {
      "needs_background": "light"
     },
     "output_type": "display_data"
    }
   ],
   "source": [
    "sns.heatmap(X_tot.corr(), vmin=-1, vmax=1,cmap='RdBu')\n",
    "plt.title(\"Correlations between parameters and beds from counties with > 1000 deaths in the last day\")\n",
    "plt.savefig(\"corr_beds.png\")"
   ]
  },
  {
   "cell_type": "code",
   "execution_count": 621,
   "metadata": {
    "ExecuteTime": {
     "end_time": "2020-05-04T10:48:24.196661Z",
     "start_time": "2020-05-04T10:48:24.180946Z"
    }
   },
   "outputs": [],
   "source": [
    "df_mob = pd.read_csv(datadir + 'us/mobility/DL-us-m50.csv')"
   ]
  },
  {
   "cell_type": "code",
   "execution_count": 681,
   "metadata": {
    "ExecuteTime": {
     "end_time": "2020-05-04T11:03:31.983453Z",
     "start_time": "2020-05-04T11:03:31.960799Z"
    },
    "scrolled": true
   },
   "outputs": [
    {
     "data": {
      "text/html": [
       "<div>\n",
       "<style scoped>\n",
       "    .dataframe tbody tr th:only-of-type {\n",
       "        vertical-align: middle;\n",
       "    }\n",
       "\n",
       "    .dataframe tbody tr th {\n",
       "        vertical-align: top;\n",
       "    }\n",
       "\n",
       "    .dataframe thead th {\n",
       "        text-align: right;\n",
       "    }\n",
       "</style>\n",
       "<table border=\"1\" class=\"dataframe\">\n",
       "  <thead>\n",
       "    <tr style=\"text-align: right;\">\n",
       "      <th></th>\n",
       "      <th>country_code</th>\n",
       "      <th>admin_level</th>\n",
       "      <th>admin1</th>\n",
       "      <th>admin2</th>\n",
       "      <th>fips</th>\n",
       "      <th>2020-03-01</th>\n",
       "      <th>2020-03-02</th>\n",
       "      <th>2020-03-03</th>\n",
       "      <th>2020-03-04</th>\n",
       "      <th>2020-03-05</th>\n",
       "      <th>...</th>\n",
       "      <th>2020-04-11</th>\n",
       "      <th>2020-04-12</th>\n",
       "      <th>2020-04-13</th>\n",
       "      <th>2020-04-14</th>\n",
       "      <th>2020-04-15</th>\n",
       "      <th>2020-04-16</th>\n",
       "      <th>2020-04-17</th>\n",
       "      <th>2020-04-18</th>\n",
       "      <th>2020-04-19</th>\n",
       "      <th>2020-04-21</th>\n",
       "    </tr>\n",
       "  </thead>\n",
       "  <tbody>\n",
       "    <tr>\n",
       "      <th>0</th>\n",
       "      <td>US</td>\n",
       "      <td>1</td>\n",
       "      <td>Alabama</td>\n",
       "      <td>NaN</td>\n",
       "      <td>1.0</td>\n",
       "      <td>79.0</td>\n",
       "      <td>98.0</td>\n",
       "      <td>100.0</td>\n",
       "      <td>96.0</td>\n",
       "      <td>104.0</td>\n",
       "      <td>...</td>\n",
       "      <td>44.0</td>\n",
       "      <td>0.0</td>\n",
       "      <td>50.0</td>\n",
       "      <td>51.0</td>\n",
       "      <td>56.0</td>\n",
       "      <td>59.0</td>\n",
       "      <td>68.0</td>\n",
       "      <td>49.0</td>\n",
       "      <td>4.0</td>\n",
       "      <td>62.0</td>\n",
       "    </tr>\n",
       "    <tr>\n",
       "      <th>1</th>\n",
       "      <td>US</td>\n",
       "      <td>2</td>\n",
       "      <td>Alabama</td>\n",
       "      <td>Autauga County</td>\n",
       "      <td>1001.0</td>\n",
       "      <td>49.0</td>\n",
       "      <td>100.0</td>\n",
       "      <td>95.0</td>\n",
       "      <td>95.0</td>\n",
       "      <td>100.0</td>\n",
       "      <td>...</td>\n",
       "      <td>33.0</td>\n",
       "      <td>1.0</td>\n",
       "      <td>43.0</td>\n",
       "      <td>36.0</td>\n",
       "      <td>42.0</td>\n",
       "      <td>45.0</td>\n",
       "      <td>56.0</td>\n",
       "      <td>34.0</td>\n",
       "      <td>0.0</td>\n",
       "      <td>48.0</td>\n",
       "    </tr>\n",
       "    <tr>\n",
       "      <th>2</th>\n",
       "      <td>US</td>\n",
       "      <td>2</td>\n",
       "      <td>Alabama</td>\n",
       "      <td>Baldwin County</td>\n",
       "      <td>1003.0</td>\n",
       "      <td>81.0</td>\n",
       "      <td>100.0</td>\n",
       "      <td>95.0</td>\n",
       "      <td>90.0</td>\n",
       "      <td>102.0</td>\n",
       "      <td>...</td>\n",
       "      <td>39.0</td>\n",
       "      <td>1.0</td>\n",
       "      <td>48.0</td>\n",
       "      <td>49.0</td>\n",
       "      <td>52.0</td>\n",
       "      <td>53.0</td>\n",
       "      <td>57.0</td>\n",
       "      <td>43.0</td>\n",
       "      <td>16.0</td>\n",
       "      <td>58.0</td>\n",
       "    </tr>\n",
       "    <tr>\n",
       "      <th>3</th>\n",
       "      <td>US</td>\n",
       "      <td>2</td>\n",
       "      <td>Alabama</td>\n",
       "      <td>Barbour County</td>\n",
       "      <td>1005.0</td>\n",
       "      <td>90.0</td>\n",
       "      <td>107.0</td>\n",
       "      <td>100.0</td>\n",
       "      <td>70.0</td>\n",
       "      <td>88.0</td>\n",
       "      <td>...</td>\n",
       "      <td>44.0</td>\n",
       "      <td>13.0</td>\n",
       "      <td>50.0</td>\n",
       "      <td>51.0</td>\n",
       "      <td>54.0</td>\n",
       "      <td>62.0</td>\n",
       "      <td>67.0</td>\n",
       "      <td>58.0</td>\n",
       "      <td>7.0</td>\n",
       "      <td>71.0</td>\n",
       "    </tr>\n",
       "    <tr>\n",
       "      <th>4</th>\n",
       "      <td>US</td>\n",
       "      <td>2</td>\n",
       "      <td>Alabama</td>\n",
       "      <td>Bibb County</td>\n",
       "      <td>1007.0</td>\n",
       "      <td>53.0</td>\n",
       "      <td>95.0</td>\n",
       "      <td>100.0</td>\n",
       "      <td>94.0</td>\n",
       "      <td>111.0</td>\n",
       "      <td>...</td>\n",
       "      <td>29.0</td>\n",
       "      <td>3.0</td>\n",
       "      <td>43.0</td>\n",
       "      <td>51.0</td>\n",
       "      <td>50.0</td>\n",
       "      <td>55.0</td>\n",
       "      <td>55.0</td>\n",
       "      <td>45.0</td>\n",
       "      <td>4.0</td>\n",
       "      <td>59.0</td>\n",
       "    </tr>\n",
       "  </tbody>\n",
       "</table>\n",
       "<p>5 rows × 56 columns</p>\n",
       "</div>"
      ],
      "text/plain": [
       "  country_code  admin_level   admin1          admin2    fips  2020-03-01  \\\n",
       "0           US            1  Alabama             NaN     1.0        79.0   \n",
       "1           US            2  Alabama  Autauga County  1001.0        49.0   \n",
       "2           US            2  Alabama  Baldwin County  1003.0        81.0   \n",
       "3           US            2  Alabama  Barbour County  1005.0        90.0   \n",
       "4           US            2  Alabama     Bibb County  1007.0        53.0   \n",
       "\n",
       "   2020-03-02  2020-03-03  2020-03-04  2020-03-05  ...  2020-04-11  \\\n",
       "0        98.0       100.0        96.0       104.0  ...        44.0   \n",
       "1       100.0        95.0        95.0       100.0  ...        33.0   \n",
       "2       100.0        95.0        90.0       102.0  ...        39.0   \n",
       "3       107.0       100.0        70.0        88.0  ...        44.0   \n",
       "4        95.0       100.0        94.0       111.0  ...        29.0   \n",
       "\n",
       "   2020-04-12  2020-04-13  2020-04-14  2020-04-15  2020-04-16  2020-04-17  \\\n",
       "0         0.0        50.0        51.0        56.0        59.0        68.0   \n",
       "1         1.0        43.0        36.0        42.0        45.0        56.0   \n",
       "2         1.0        48.0        49.0        52.0        53.0        57.0   \n",
       "3        13.0        50.0        51.0        54.0        62.0        67.0   \n",
       "4         3.0        43.0        51.0        50.0        55.0        55.0   \n",
       "\n",
       "   2020-04-18  2020-04-19  2020-04-21  \n",
       "0        49.0         4.0        62.0  \n",
       "1        34.0         0.0        48.0  \n",
       "2        43.0        16.0        58.0  \n",
       "3        58.0         7.0        71.0  \n",
       "4        45.0         4.0        59.0  \n",
       "\n",
       "[5 rows x 56 columns]"
      ]
     },
     "execution_count": 681,
     "metadata": {},
     "output_type": "execute_result"
    }
   ],
   "source": [
    "df_mob_ind = pd.read_csv(datadir + 'us/mobility/DL-us-m50_index.csv')\n",
    "df_mob_ind.head()"
   ]
  },
  {
   "cell_type": "code",
   "execution_count": 682,
   "metadata": {
    "ExecuteTime": {
     "end_time": "2020-05-04T11:03:56.631817Z",
     "start_time": "2020-05-04T11:03:56.618740Z"
    }
   },
   "outputs": [],
   "source": [
    "df_mob_ind['mean1']=np.mean(df_mob_ind[df_mob_ind.columns[5:15]],axis=1)\n",
    "df_mob_ind['mean2']=np.mean(df_mob_ind[df_mob_ind.columns[15:25]],axis=1)\n",
    "df_mob_ind['mean3']=np.mean(df_mob_ind[df_mob_ind.columns[25:35]],axis=1)\n",
    "df_mob_ind['mean4']=np.mean(df_mob_ind[df_mob_ind.columns[35:45]],axis=1)"
   ]
  },
  {
   "cell_type": "code",
   "execution_count": 689,
   "metadata": {
    "ExecuteTime": {
     "end_time": "2020-05-04T11:04:48.138180Z",
     "start_time": "2020-05-04T11:04:48.118144Z"
    }
   },
   "outputs": [
    {
     "data": {
      "text/html": [
       "<div>\n",
       "<style scoped>\n",
       "    .dataframe tbody tr th:only-of-type {\n",
       "        vertical-align: middle;\n",
       "    }\n",
       "\n",
       "    .dataframe tbody tr th {\n",
       "        vertical-align: top;\n",
       "    }\n",
       "\n",
       "    .dataframe thead th {\n",
       "        text-align: right;\n",
       "    }\n",
       "</style>\n",
       "<table border=\"1\" class=\"dataframe\">\n",
       "  <thead>\n",
       "    <tr style=\"text-align: right;\">\n",
       "      <th></th>\n",
       "      <th>country_code</th>\n",
       "      <th>admin_level</th>\n",
       "      <th>admin1</th>\n",
       "      <th>admin2</th>\n",
       "      <th>fips</th>\n",
       "      <th>2020-03-01</th>\n",
       "      <th>2020-03-02</th>\n",
       "      <th>2020-03-03</th>\n",
       "      <th>2020-03-04</th>\n",
       "      <th>2020-03-05</th>\n",
       "      <th>...</th>\n",
       "      <th>2020-04-16</th>\n",
       "      <th>2020-04-17</th>\n",
       "      <th>2020-04-18</th>\n",
       "      <th>2020-04-19</th>\n",
       "      <th>2020-04-21</th>\n",
       "      <th>mean1</th>\n",
       "      <th>mean2</th>\n",
       "      <th>mean3</th>\n",
       "      <th>mean4</th>\n",
       "      <th>mean5</th>\n",
       "    </tr>\n",
       "  </thead>\n",
       "  <tbody>\n",
       "    <tr>\n",
       "      <th>0</th>\n",
       "      <td>US</td>\n",
       "      <td>1</td>\n",
       "      <td>Alabama</td>\n",
       "      <td>NaN</td>\n",
       "      <td>1.0</td>\n",
       "      <td>79.0</td>\n",
       "      <td>98.0</td>\n",
       "      <td>100.0</td>\n",
       "      <td>96.0</td>\n",
       "      <td>104.0</td>\n",
       "      <td>...</td>\n",
       "      <td>59.0</td>\n",
       "      <td>68.0</td>\n",
       "      <td>49.0</td>\n",
       "      <td>4.0</td>\n",
       "      <td>62.0</td>\n",
       "      <td>99.3</td>\n",
       "      <td>87.1</td>\n",
       "      <td>48.2</td>\n",
       "      <td>43.8</td>\n",
       "      <td>43.9</td>\n",
       "    </tr>\n",
       "    <tr>\n",
       "      <th>1</th>\n",
       "      <td>US</td>\n",
       "      <td>2</td>\n",
       "      <td>Alabama</td>\n",
       "      <td>Autauga County</td>\n",
       "      <td>1001.0</td>\n",
       "      <td>49.0</td>\n",
       "      <td>100.0</td>\n",
       "      <td>95.0</td>\n",
       "      <td>95.0</td>\n",
       "      <td>100.0</td>\n",
       "      <td>...</td>\n",
       "      <td>45.0</td>\n",
       "      <td>56.0</td>\n",
       "      <td>34.0</td>\n",
       "      <td>0.0</td>\n",
       "      <td>48.0</td>\n",
       "      <td>89.8</td>\n",
       "      <td>74.2</td>\n",
       "      <td>37.3</td>\n",
       "      <td>34.3</td>\n",
       "      <td>33.3</td>\n",
       "    </tr>\n",
       "    <tr>\n",
       "      <th>2</th>\n",
       "      <td>US</td>\n",
       "      <td>2</td>\n",
       "      <td>Alabama</td>\n",
       "      <td>Baldwin County</td>\n",
       "      <td>1003.0</td>\n",
       "      <td>81.0</td>\n",
       "      <td>100.0</td>\n",
       "      <td>95.0</td>\n",
       "      <td>90.0</td>\n",
       "      <td>102.0</td>\n",
       "      <td>...</td>\n",
       "      <td>53.0</td>\n",
       "      <td>57.0</td>\n",
       "      <td>43.0</td>\n",
       "      <td>16.0</td>\n",
       "      <td>58.0</td>\n",
       "      <td>95.4</td>\n",
       "      <td>87.1</td>\n",
       "      <td>48.2</td>\n",
       "      <td>40.5</td>\n",
       "      <td>40.9</td>\n",
       "    </tr>\n",
       "    <tr>\n",
       "      <th>3</th>\n",
       "      <td>US</td>\n",
       "      <td>2</td>\n",
       "      <td>Alabama</td>\n",
       "      <td>Barbour County</td>\n",
       "      <td>1005.0</td>\n",
       "      <td>90.0</td>\n",
       "      <td>107.0</td>\n",
       "      <td>100.0</td>\n",
       "      <td>70.0</td>\n",
       "      <td>88.0</td>\n",
       "      <td>...</td>\n",
       "      <td>62.0</td>\n",
       "      <td>67.0</td>\n",
       "      <td>58.0</td>\n",
       "      <td>7.0</td>\n",
       "      <td>71.0</td>\n",
       "      <td>98.4</td>\n",
       "      <td>93.6</td>\n",
       "      <td>65.3</td>\n",
       "      <td>53.4</td>\n",
       "      <td>48.6</td>\n",
       "    </tr>\n",
       "    <tr>\n",
       "      <th>4</th>\n",
       "      <td>US</td>\n",
       "      <td>2</td>\n",
       "      <td>Alabama</td>\n",
       "      <td>Bibb County</td>\n",
       "      <td>1007.0</td>\n",
       "      <td>53.0</td>\n",
       "      <td>95.0</td>\n",
       "      <td>100.0</td>\n",
       "      <td>94.0</td>\n",
       "      <td>111.0</td>\n",
       "      <td>...</td>\n",
       "      <td>55.0</td>\n",
       "      <td>55.0</td>\n",
       "      <td>45.0</td>\n",
       "      <td>4.0</td>\n",
       "      <td>59.0</td>\n",
       "      <td>97.3</td>\n",
       "      <td>83.7</td>\n",
       "      <td>37.9</td>\n",
       "      <td>37.5</td>\n",
       "      <td>39.0</td>\n",
       "    </tr>\n",
       "  </tbody>\n",
       "</table>\n",
       "<p>5 rows × 61 columns</p>\n",
       "</div>"
      ],
      "text/plain": [
       "  country_code  admin_level   admin1          admin2    fips  2020-03-01  \\\n",
       "0           US            1  Alabama             NaN     1.0        79.0   \n",
       "1           US            2  Alabama  Autauga County  1001.0        49.0   \n",
       "2           US            2  Alabama  Baldwin County  1003.0        81.0   \n",
       "3           US            2  Alabama  Barbour County  1005.0        90.0   \n",
       "4           US            2  Alabama     Bibb County  1007.0        53.0   \n",
       "\n",
       "   2020-03-02  2020-03-03  2020-03-04  2020-03-05  ...  2020-04-16  \\\n",
       "0        98.0       100.0        96.0       104.0  ...        59.0   \n",
       "1       100.0        95.0        95.0       100.0  ...        45.0   \n",
       "2       100.0        95.0        90.0       102.0  ...        53.0   \n",
       "3       107.0       100.0        70.0        88.0  ...        62.0   \n",
       "4        95.0       100.0        94.0       111.0  ...        55.0   \n",
       "\n",
       "   2020-04-17  2020-04-18  2020-04-19  2020-04-21  mean1  mean2  mean3  mean4  \\\n",
       "0        68.0        49.0         4.0        62.0   99.3   87.1   48.2   43.8   \n",
       "1        56.0        34.0         0.0        48.0   89.8   74.2   37.3   34.3   \n",
       "2        57.0        43.0        16.0        58.0   95.4   87.1   48.2   40.5   \n",
       "3        67.0        58.0         7.0        71.0   98.4   93.6   65.3   53.4   \n",
       "4        55.0        45.0         4.0        59.0   97.3   83.7   37.9   37.5   \n",
       "\n",
       "   mean5  \n",
       "0   43.9  \n",
       "1   33.3  \n",
       "2   40.9  \n",
       "3   48.6  \n",
       "4   39.0  \n",
       "\n",
       "[5 rows x 61 columns]"
      ]
     },
     "execution_count": 689,
     "metadata": {},
     "output_type": "execute_result"
    }
   ],
   "source": [
    "df_mob_ind.head()"
   ]
  },
  {
   "cell_type": "code",
   "execution_count": 688,
   "metadata": {
    "ExecuteTime": {
     "end_time": "2020-05-04T11:04:47.155104Z",
     "start_time": "2020-05-04T11:04:47.150125Z"
    },
    "scrolled": true
   },
   "outputs": [],
   "source": [
    "df_mob_ind['mean5']=np.mean(df_mob_ind[df_mob_ind.columns[45:-6]],axis=1)"
   ]
  },
  {
   "cell_type": "code",
   "execution_count": 642,
   "metadata": {
    "ExecuteTime": {
     "end_time": "2020-05-04T10:52:03.600362Z",
     "start_time": "2020-05-04T10:52:03.595330Z"
    }
   },
   "outputs": [
    {
     "data": {
      "text/plain": [
       "0           1\n",
       "1        1001\n",
       "2        1003\n",
       "3        1005\n",
       "4        1007\n",
       "        ...  \n",
       "2717    56033\n",
       "2718    56035\n",
       "2719    56037\n",
       "2720    56039\n",
       "2721    56041\n",
       "Name: fips, Length: 2721, dtype: int64"
      ]
     },
     "execution_count": 642,
     "metadata": {},
     "output_type": "execute_result"
    }
   ],
   "source": [
    "df_mob['fips'].dropna().astype(int)"
   ]
  },
  {
   "cell_type": "code",
   "execution_count": 690,
   "metadata": {
    "ExecuteTime": {
     "end_time": "2020-05-04T11:05:03.434015Z",
     "start_time": "2020-05-04T11:05:03.429757Z"
    }
   },
   "outputs": [],
   "source": [
    "df_mob_ind=df_mob_ind.dropna(subset=['fips'])"
   ]
  },
  {
   "cell_type": "code",
   "execution_count": 691,
   "metadata": {
    "ExecuteTime": {
     "end_time": "2020-05-04T11:05:08.247986Z",
     "start_time": "2020-05-04T11:05:08.243828Z"
    }
   },
   "outputs": [
    {
     "name": "stderr",
     "output_type": "stream",
     "text": [
      "<ipython-input-691-b053b68cdcdf>:1: SettingWithCopyWarning: \n",
      "A value is trying to be set on a copy of a slice from a DataFrame.\n",
      "Try using .loc[row_indexer,col_indexer] = value instead\n",
      "\n",
      "See the caveats in the documentation: https://pandas.pydata.org/pandas-docs/stable/user_guide/indexing.html#returning-a-view-versus-a-copy\n",
      "  df_mob_ind['FIPS'] = df_mob_ind['fips'].dropna().astype(int)\n"
     ]
    }
   ],
   "source": [
    "df_mob_ind['FIPS'] = df_mob_ind['fips'].dropna().astype(int)"
   ]
  },
  {
   "cell_type": "code",
   "execution_count": 692,
   "metadata": {
    "ExecuteTime": {
     "end_time": "2020-05-04T11:05:11.386210Z",
     "start_time": "2020-05-04T11:05:11.367117Z"
    },
    "scrolled": false
   },
   "outputs": [
    {
     "data": {
      "text/html": [
       "<div>\n",
       "<style scoped>\n",
       "    .dataframe tbody tr th:only-of-type {\n",
       "        vertical-align: middle;\n",
       "    }\n",
       "\n",
       "    .dataframe tbody tr th {\n",
       "        vertical-align: top;\n",
       "    }\n",
       "\n",
       "    .dataframe thead th {\n",
       "        text-align: right;\n",
       "    }\n",
       "</style>\n",
       "<table border=\"1\" class=\"dataframe\">\n",
       "  <thead>\n",
       "    <tr style=\"text-align: right;\">\n",
       "      <th></th>\n",
       "      <th>country_code</th>\n",
       "      <th>admin_level</th>\n",
       "      <th>admin1</th>\n",
       "      <th>admin2</th>\n",
       "      <th>fips</th>\n",
       "      <th>2020-03-01</th>\n",
       "      <th>2020-03-02</th>\n",
       "      <th>2020-03-03</th>\n",
       "      <th>2020-03-04</th>\n",
       "      <th>2020-03-05</th>\n",
       "      <th>...</th>\n",
       "      <th>2020-04-17</th>\n",
       "      <th>2020-04-18</th>\n",
       "      <th>2020-04-19</th>\n",
       "      <th>2020-04-21</th>\n",
       "      <th>mean1</th>\n",
       "      <th>mean2</th>\n",
       "      <th>mean3</th>\n",
       "      <th>mean4</th>\n",
       "      <th>mean5</th>\n",
       "      <th>FIPS</th>\n",
       "    </tr>\n",
       "  </thead>\n",
       "  <tbody>\n",
       "    <tr>\n",
       "      <th>0</th>\n",
       "      <td>US</td>\n",
       "      <td>1</td>\n",
       "      <td>Alabama</td>\n",
       "      <td>NaN</td>\n",
       "      <td>1.0</td>\n",
       "      <td>79.0</td>\n",
       "      <td>98.0</td>\n",
       "      <td>100.0</td>\n",
       "      <td>96.0</td>\n",
       "      <td>104.0</td>\n",
       "      <td>...</td>\n",
       "      <td>68.0</td>\n",
       "      <td>49.0</td>\n",
       "      <td>4.0</td>\n",
       "      <td>62.0</td>\n",
       "      <td>99.3</td>\n",
       "      <td>87.1</td>\n",
       "      <td>48.200</td>\n",
       "      <td>43.8</td>\n",
       "      <td>43.9</td>\n",
       "      <td>1</td>\n",
       "    </tr>\n",
       "    <tr>\n",
       "      <th>1</th>\n",
       "      <td>US</td>\n",
       "      <td>2</td>\n",
       "      <td>Alabama</td>\n",
       "      <td>Autauga County</td>\n",
       "      <td>1001.0</td>\n",
       "      <td>49.0</td>\n",
       "      <td>100.0</td>\n",
       "      <td>95.0</td>\n",
       "      <td>95.0</td>\n",
       "      <td>100.0</td>\n",
       "      <td>...</td>\n",
       "      <td>56.0</td>\n",
       "      <td>34.0</td>\n",
       "      <td>0.0</td>\n",
       "      <td>48.0</td>\n",
       "      <td>89.8</td>\n",
       "      <td>74.2</td>\n",
       "      <td>37.300</td>\n",
       "      <td>34.3</td>\n",
       "      <td>33.3</td>\n",
       "      <td>1001</td>\n",
       "    </tr>\n",
       "    <tr>\n",
       "      <th>2</th>\n",
       "      <td>US</td>\n",
       "      <td>2</td>\n",
       "      <td>Alabama</td>\n",
       "      <td>Baldwin County</td>\n",
       "      <td>1003.0</td>\n",
       "      <td>81.0</td>\n",
       "      <td>100.0</td>\n",
       "      <td>95.0</td>\n",
       "      <td>90.0</td>\n",
       "      <td>102.0</td>\n",
       "      <td>...</td>\n",
       "      <td>57.0</td>\n",
       "      <td>43.0</td>\n",
       "      <td>16.0</td>\n",
       "      <td>58.0</td>\n",
       "      <td>95.4</td>\n",
       "      <td>87.1</td>\n",
       "      <td>48.200</td>\n",
       "      <td>40.5</td>\n",
       "      <td>40.9</td>\n",
       "      <td>1003</td>\n",
       "    </tr>\n",
       "    <tr>\n",
       "      <th>3</th>\n",
       "      <td>US</td>\n",
       "      <td>2</td>\n",
       "      <td>Alabama</td>\n",
       "      <td>Barbour County</td>\n",
       "      <td>1005.0</td>\n",
       "      <td>90.0</td>\n",
       "      <td>107.0</td>\n",
       "      <td>100.0</td>\n",
       "      <td>70.0</td>\n",
       "      <td>88.0</td>\n",
       "      <td>...</td>\n",
       "      <td>67.0</td>\n",
       "      <td>58.0</td>\n",
       "      <td>7.0</td>\n",
       "      <td>71.0</td>\n",
       "      <td>98.4</td>\n",
       "      <td>93.6</td>\n",
       "      <td>65.300</td>\n",
       "      <td>53.4</td>\n",
       "      <td>48.6</td>\n",
       "      <td>1005</td>\n",
       "    </tr>\n",
       "    <tr>\n",
       "      <th>4</th>\n",
       "      <td>US</td>\n",
       "      <td>2</td>\n",
       "      <td>Alabama</td>\n",
       "      <td>Bibb County</td>\n",
       "      <td>1007.0</td>\n",
       "      <td>53.0</td>\n",
       "      <td>95.0</td>\n",
       "      <td>100.0</td>\n",
       "      <td>94.0</td>\n",
       "      <td>111.0</td>\n",
       "      <td>...</td>\n",
       "      <td>55.0</td>\n",
       "      <td>45.0</td>\n",
       "      <td>4.0</td>\n",
       "      <td>59.0</td>\n",
       "      <td>97.3</td>\n",
       "      <td>83.7</td>\n",
       "      <td>37.900</td>\n",
       "      <td>37.5</td>\n",
       "      <td>39.0</td>\n",
       "      <td>1007</td>\n",
       "    </tr>\n",
       "    <tr>\n",
       "      <th>...</th>\n",
       "      <td>...</td>\n",
       "      <td>...</td>\n",
       "      <td>...</td>\n",
       "      <td>...</td>\n",
       "      <td>...</td>\n",
       "      <td>...</td>\n",
       "      <td>...</td>\n",
       "      <td>...</td>\n",
       "      <td>...</td>\n",
       "      <td>...</td>\n",
       "      <td>...</td>\n",
       "      <td>...</td>\n",
       "      <td>...</td>\n",
       "      <td>...</td>\n",
       "      <td>...</td>\n",
       "      <td>...</td>\n",
       "      <td>...</td>\n",
       "      <td>...</td>\n",
       "      <td>...</td>\n",
       "      <td>...</td>\n",
       "      <td>...</td>\n",
       "    </tr>\n",
       "    <tr>\n",
       "      <th>2717</th>\n",
       "      <td>US</td>\n",
       "      <td>2</td>\n",
       "      <td>Wyoming</td>\n",
       "      <td>Sheridan County</td>\n",
       "      <td>56033.0</td>\n",
       "      <td>61.0</td>\n",
       "      <td>89.0</td>\n",
       "      <td>95.0</td>\n",
       "      <td>100.0</td>\n",
       "      <td>109.0</td>\n",
       "      <td>...</td>\n",
       "      <td>75.0</td>\n",
       "      <td>71.0</td>\n",
       "      <td>4.0</td>\n",
       "      <td>74.0</td>\n",
       "      <td>90.7</td>\n",
       "      <td>79.3</td>\n",
       "      <td>50.800</td>\n",
       "      <td>52.0</td>\n",
       "      <td>46.3</td>\n",
       "      <td>56033</td>\n",
       "    </tr>\n",
       "    <tr>\n",
       "      <th>2718</th>\n",
       "      <td>US</td>\n",
       "      <td>2</td>\n",
       "      <td>Wyoming</td>\n",
       "      <td>Sublette County</td>\n",
       "      <td>56035.0</td>\n",
       "      <td>21.0</td>\n",
       "      <td>89.0</td>\n",
       "      <td>90.0</td>\n",
       "      <td>99.0</td>\n",
       "      <td>165.0</td>\n",
       "      <td>...</td>\n",
       "      <td>45.0</td>\n",
       "      <td>19.0</td>\n",
       "      <td>14.0</td>\n",
       "      <td>40.0</td>\n",
       "      <td>103.3</td>\n",
       "      <td>115.5</td>\n",
       "      <td>21.375</td>\n",
       "      <td>16.5</td>\n",
       "      <td>26.9</td>\n",
       "      <td>56035</td>\n",
       "    </tr>\n",
       "    <tr>\n",
       "      <th>2719</th>\n",
       "      <td>US</td>\n",
       "      <td>2</td>\n",
       "      <td>Wyoming</td>\n",
       "      <td>Sweetwater County</td>\n",
       "      <td>56037.0</td>\n",
       "      <td>51.0</td>\n",
       "      <td>88.0</td>\n",
       "      <td>97.0</td>\n",
       "      <td>100.0</td>\n",
       "      <td>136.0</td>\n",
       "      <td>...</td>\n",
       "      <td>102.0</td>\n",
       "      <td>79.0</td>\n",
       "      <td>44.0</td>\n",
       "      <td>92.0</td>\n",
       "      <td>103.9</td>\n",
       "      <td>116.6</td>\n",
       "      <td>80.700</td>\n",
       "      <td>83.6</td>\n",
       "      <td>67.7</td>\n",
       "      <td>56037</td>\n",
       "    </tr>\n",
       "    <tr>\n",
       "      <th>2720</th>\n",
       "      <td>US</td>\n",
       "      <td>2</td>\n",
       "      <td>Wyoming</td>\n",
       "      <td>Teton County</td>\n",
       "      <td>56039.0</td>\n",
       "      <td>140.0</td>\n",
       "      <td>101.0</td>\n",
       "      <td>95.0</td>\n",
       "      <td>100.0</td>\n",
       "      <td>95.0</td>\n",
       "      <td>...</td>\n",
       "      <td>38.0</td>\n",
       "      <td>35.0</td>\n",
       "      <td>14.0</td>\n",
       "      <td>31.0</td>\n",
       "      <td>115.5</td>\n",
       "      <td>83.6</td>\n",
       "      <td>17.800</td>\n",
       "      <td>13.3</td>\n",
       "      <td>18.5</td>\n",
       "      <td>56039</td>\n",
       "    </tr>\n",
       "    <tr>\n",
       "      <th>2721</th>\n",
       "      <td>US</td>\n",
       "      <td>2</td>\n",
       "      <td>Wyoming</td>\n",
       "      <td>Uinta County</td>\n",
       "      <td>56041.0</td>\n",
       "      <td>63.0</td>\n",
       "      <td>93.0</td>\n",
       "      <td>87.0</td>\n",
       "      <td>144.0</td>\n",
       "      <td>100.0</td>\n",
       "      <td>...</td>\n",
       "      <td>113.0</td>\n",
       "      <td>101.0</td>\n",
       "      <td>54.0</td>\n",
       "      <td>83.0</td>\n",
       "      <td>109.1</td>\n",
       "      <td>115.4</td>\n",
       "      <td>108.700</td>\n",
       "      <td>95.8</td>\n",
       "      <td>77.8</td>\n",
       "      <td>56041</td>\n",
       "    </tr>\n",
       "  </tbody>\n",
       "</table>\n",
       "<p>2721 rows × 62 columns</p>\n",
       "</div>"
      ],
      "text/plain": [
       "     country_code  admin_level   admin1             admin2     fips  \\\n",
       "0              US            1  Alabama                NaN      1.0   \n",
       "1              US            2  Alabama     Autauga County   1001.0   \n",
       "2              US            2  Alabama     Baldwin County   1003.0   \n",
       "3              US            2  Alabama     Barbour County   1005.0   \n",
       "4              US            2  Alabama        Bibb County   1007.0   \n",
       "...           ...          ...      ...                ...      ...   \n",
       "2717           US            2  Wyoming    Sheridan County  56033.0   \n",
       "2718           US            2  Wyoming    Sublette County  56035.0   \n",
       "2719           US            2  Wyoming  Sweetwater County  56037.0   \n",
       "2720           US            2  Wyoming       Teton County  56039.0   \n",
       "2721           US            2  Wyoming       Uinta County  56041.0   \n",
       "\n",
       "      2020-03-01  2020-03-02  2020-03-03  2020-03-04  2020-03-05  ...  \\\n",
       "0           79.0        98.0       100.0        96.0       104.0  ...   \n",
       "1           49.0       100.0        95.0        95.0       100.0  ...   \n",
       "2           81.0       100.0        95.0        90.0       102.0  ...   \n",
       "3           90.0       107.0       100.0        70.0        88.0  ...   \n",
       "4           53.0        95.0       100.0        94.0       111.0  ...   \n",
       "...          ...         ...         ...         ...         ...  ...   \n",
       "2717        61.0        89.0        95.0       100.0       109.0  ...   \n",
       "2718        21.0        89.0        90.0        99.0       165.0  ...   \n",
       "2719        51.0        88.0        97.0       100.0       136.0  ...   \n",
       "2720       140.0       101.0        95.0       100.0        95.0  ...   \n",
       "2721        63.0        93.0        87.0       144.0       100.0  ...   \n",
       "\n",
       "      2020-04-17  2020-04-18  2020-04-19  2020-04-21  mean1  mean2    mean3  \\\n",
       "0           68.0        49.0         4.0        62.0   99.3   87.1   48.200   \n",
       "1           56.0        34.0         0.0        48.0   89.8   74.2   37.300   \n",
       "2           57.0        43.0        16.0        58.0   95.4   87.1   48.200   \n",
       "3           67.0        58.0         7.0        71.0   98.4   93.6   65.300   \n",
       "4           55.0        45.0         4.0        59.0   97.3   83.7   37.900   \n",
       "...          ...         ...         ...         ...    ...    ...      ...   \n",
       "2717        75.0        71.0         4.0        74.0   90.7   79.3   50.800   \n",
       "2718        45.0        19.0        14.0        40.0  103.3  115.5   21.375   \n",
       "2719       102.0        79.0        44.0        92.0  103.9  116.6   80.700   \n",
       "2720        38.0        35.0        14.0        31.0  115.5   83.6   17.800   \n",
       "2721       113.0       101.0        54.0        83.0  109.1  115.4  108.700   \n",
       "\n",
       "      mean4  mean5   FIPS  \n",
       "0      43.8   43.9      1  \n",
       "1      34.3   33.3   1001  \n",
       "2      40.5   40.9   1003  \n",
       "3      53.4   48.6   1005  \n",
       "4      37.5   39.0   1007  \n",
       "...     ...    ...    ...  \n",
       "2717   52.0   46.3  56033  \n",
       "2718   16.5   26.9  56035  \n",
       "2719   83.6   67.7  56037  \n",
       "2720   13.3   18.5  56039  \n",
       "2721   95.8   77.8  56041  \n",
       "\n",
       "[2721 rows x 62 columns]"
      ]
     },
     "execution_count": 692,
     "metadata": {},
     "output_type": "execute_result"
    }
   ],
   "source": [
    "df_mob_ind"
   ]
  },
  {
   "cell_type": "code",
   "execution_count": 693,
   "metadata": {
    "ExecuteTime": {
     "end_time": "2020-05-04T11:05:23.712506Z",
     "start_time": "2020-05-04T11:05:23.708050Z"
    }
   },
   "outputs": [],
   "source": [
    "df_mob_ind2=pd.DataFrame(df_mob_ind[['FIPS', 'mean1', 'mean2', 'mean3', 'mean4', 'mean5']])"
   ]
  },
  {
   "cell_type": "code",
   "execution_count": 668,
   "metadata": {
    "ExecuteTime": {
     "end_time": "2020-05-04T11:01:06.911779Z",
     "start_time": "2020-05-04T11:01:06.907158Z"
    },
    "scrolled": false
   },
   "outputs": [],
   "source": [
    "X_tot2=pd.merge(df_mob2, X_correlations,left_on='FIPS', right_index=True).set_index('FIPS')"
   ]
  },
  {
   "cell_type": "code",
   "execution_count": 676,
   "metadata": {
    "ExecuteTime": {
     "end_time": "2020-05-04T11:02:02.207625Z",
     "start_time": "2020-05-04T11:02:01.988252Z"
    },
    "scrolled": false
   },
   "outputs": [
    {
     "data": {
      "image/png": "[encoded data removed]",
      "text/plain": [
       "<Figure size 432x288 with 2 Axes>"
      ]
     },
     "metadata": {
      "needs_background": "light"
     },
     "output_type": "display_data"
    }
   ],
   "source": [
    "sns.heatmap(X_tot2.corr(), vmin=-1, vmax=1,cmap='RdBu')\n",
    "plt.title(\"Correlations between parameters and mean mobility from counties with > 1000 deaths in the last day\")\n",
    "plt.savefig(\"corr_mob.png\")"
   ]
  },
  {
   "cell_type": "code",
   "execution_count": 694,
   "metadata": {
    "ExecuteTime": {
     "end_time": "2020-05-04T11:05:42.006215Z",
     "start_time": "2020-05-04T11:05:42.000040Z"
    },
    "scrolled": false
   },
   "outputs": [],
   "source": [
    "X_tot2=pd.merge(df_mob_ind2, X_correlations,left_on='FIPS', right_index=True).set_index('FIPS')"
   ]
  },
  {
   "cell_type": "code",
   "execution_count": 696,
   "metadata": {
    "ExecuteTime": {
     "end_time": "2020-05-04T11:05:54.141736Z",
     "start_time": "2020-05-04T11:05:53.922097Z"
    },
    "scrolled": false
   },
   "outputs": [
    {
     "data": {
      "image/png": "[encoded data removed]",
      "text/plain": [
       "<Figure size 432x288 with 2 Axes>"
      ]
     },
     "metadata": {
      "needs_background": "light"
     },
     "output_type": "display_data"
    }
   ],
   "source": [
    "sns.heatmap(X_tot2.corr(), vmin=-1, vmax=1,cmap='RdBu')\n",
    "plt.title(\"Correlations between parameters and mean mobility index from counties with > 1000 deaths in the last day\")\n",
    "plt.savefig(\"corr_mob.png\")"
   ]
  },
  {
   "cell_type": "code",
   "execution_count": 735,
   "metadata": {
    "ExecuteTime": {
     "end_time": "2020-05-04T11:14:34.584036Z",
     "start_time": "2020-05-04T11:14:34.580840Z"
    }
   },
   "outputs": [
    {
     "data": {
      "text/plain": [
       "'2020-04-21'"
      ]
     },
     "execution_count": 735,
     "metadata": {},
     "output_type": "execute_result"
    }
   ],
   "source": [
    "df_mob_ind.columns[-7]"
   ]
  },
  {
   "cell_type": "code",
   "execution_count": 742,
   "metadata": {
    "ExecuteTime": {
     "end_time": "2020-05-04T11:16:29.688923Z",
     "start_time": "2020-05-04T11:16:29.257674Z"
    }
   },
   "outputs": [
    {
     "data": {
      "image/png": "[encoded data removed]",
      "text/plain": [
       "<Figure size 1440x720 with 1 Axes>"
      ]
     },
     "metadata": {
      "needs_background": "light"
     },
     "output_type": "display_data"
    }
   ],
   "source": [
    "plt.figure(figsize=(20,10))\n",
    "sns.distplot(np.clip(df_mob_ind2['mean1'],0,200),bins=20)\n",
    "sns.distplot(np.clip(df_mob_ind2['mean2'],0,200),bins=20)\n",
    "sns.distplot(np.clip(df_mob_ind2['mean3'],0,200),bins=20)\n",
    "sns.distplot(np.clip(df_mob_ind2['mean4'],0,200),bins=20)\n",
    "sns.distplot(np.clip(df_mob_ind2['mean5'],0,200),bins=20)\n",
    "plt.legend(('2020-03-01'+'~'+'2020-03-10','2020-03-11'+'~'+'2020-03-20','2020-03-21'+'~'+'2020-03-30','2020-03-31'+'~'+'2020-04-10','2020-04-11'+'~'+'2020-04-21'))\n",
    "plt.title('Changes in mobility')\n",
    "plt.savefig('mobility_changes.png')"
   ]
  },
  {
   "cell_type": "markdown",
   "metadata": {
    "heading_collapsed": true
   },
   "source": [
    "## Temporary"
   ]
  },
  {
   "cell_type": "code",
   "execution_count": 11,
   "metadata": {
    "ExecuteTime": {
     "end_time": "2020-04-27T21:44:33.745736Z",
     "start_time": "2020-04-27T21:44:33.741486Z"
    },
    "hidden": true
   },
   "outputs": [],
   "source": [
    "params = [2.0, 0.3, 0.2, 0.05, 0.2, 0.03]\n",
    "initial_conditions = [0.5e-3, 0.5e-3, 0.3e-3, 0.1e-4, 0.5]\n",
    "param_ranges = [(0.5, 3.0), (0.0, 0.5), (0.0, 0.5), (0.01, 0.5), (0.0, 0.5), (0.005, 0.1)]\n",
    "initial_ranges = [(1.0e-7, 0.01), (1.0e-7, 0.01), (1.0e-7, 0.01), (1.0e-7, 0.01), (1.0e-7, 0.9)]\n",
    "guesses = params + initial_conditions\n",
    "ranges = param_ranges + initial_ranges"
   ]
  },
  {
   "cell_type": "code",
   "execution_count": 12,
   "metadata": {
    "ExecuteTime": {
     "end_time": "2020-04-27T21:44:36.584103Z",
     "start_time": "2020-04-27T21:44:36.580795Z"
    },
    "hidden": true
   },
   "outputs": [],
   "source": [
    "def select_region(df, region, min_deaths=50):\n",
    "    d = df.loc[df['Region'] == region]\n",
    "    start = np.where(d['Deaths'].values > min_deaths)[0][0]\n",
    "    d = d[start:]\n",
    "    return d"
   ]
  },
  {
   "cell_type": "code",
   "execution_count": 13,
   "metadata": {
    "ExecuteTime": {
     "end_time": "2020-04-27T21:44:41.157426Z",
     "start_time": "2020-04-27T21:44:41.155270Z"
    },
    "hidden": true
   },
   "outputs": [],
   "source": [
    "import pandas as pd"
   ]
  },
  {
   "cell_type": "code",
   "execution_count": 14,
   "metadata": {
    "ExecuteTime": {
     "end_time": "2020-04-27T21:44:41.798990Z",
     "start_time": "2020-04-27T21:44:41.778930Z"
    },
    "hidden": true
   },
   "outputs": [],
   "source": [
    "df = pd.read_csv(datadir + 'international/italy/covid/dpc-covid19-ita-regioni.csv')"
   ]
  },
  {
   "cell_type": "code",
   "execution_count": 15,
   "metadata": {
    "ExecuteTime": {
     "end_time": "2020-04-27T21:44:42.904893Z",
     "start_time": "2020-04-27T21:44:42.886742Z"
    },
    "hidden": true
   },
   "outputs": [],
   "source": [
    "populations = pd.read_csv(datadir + 'international/italy/demographics/region-populations.csv')\n",
    "def get_population(region):\n",
    "    if region == 'Emilia-Romagna':\n",
    "        region = 'Emilia Romagna'\n",
    "    return populations[populations['Region'] == region]['Population'].values[0]"
   ]
  },
  {
   "cell_type": "code",
   "execution_count": 16,
   "metadata": {
    "ExecuteTime": {
     "end_time": "2020-04-27T21:44:43.733191Z",
     "start_time": "2020-04-27T21:44:43.370862Z"
    },
    "hidden": true
   },
   "outputs": [],
   "source": [
    "df['Population'] = df.apply(lambda row: get_population(row.Region), axis=1)"
   ]
  },
  {
   "cell_type": "code",
   "execution_count": 17,
   "metadata": {
    "ExecuteTime": {
     "end_time": "2020-04-27T21:44:46.880503Z",
     "start_time": "2020-04-27T21:44:46.877277Z"
    },
    "hidden": true
   },
   "outputs": [
    {
     "data": {
      "text/plain": [
       "(1281, 21)"
      ]
     },
     "execution_count": 17,
     "metadata": {},
     "output_type": "execute_result"
    }
   ],
   "source": [
    "df.shape"
   ]
  },
  {
   "cell_type": "code",
   "execution_count": 18,
   "metadata": {
    "ExecuteTime": {
     "end_time": "2020-04-27T21:44:48.369254Z",
     "start_time": "2020-04-27T21:44:48.367143Z"
    },
    "hidden": true
   },
   "outputs": [],
   "source": [
    "import scipy"
   ]
  },
  {
   "cell_type": "code",
   "execution_count": 20,
   "metadata": {
    "ExecuteTime": {
     "end_time": "2020-04-27T21:45:08.002779Z",
     "start_time": "2020-04-27T21:45:07.970453Z"
    },
    "hidden": true,
    "scrolled": true
   },
   "outputs": [
    {
     "ename": "TypeError",
     "evalue": "unsupported operand type(s) for -: 'float' and 'str'",
     "output_type": "error",
     "traceback": [
      "\u001b[0;31m---------------------------------------------------------------------------\u001b[0m",
      "\u001b[0;31mTypeError\u001b[0m                                 Traceback (most recent call last)",
      "\u001b[0;32m~/PycharmProjects/SKTW/venv/lib64/python3.8/site-packages/pandas/core/ops/array_ops.py\u001b[0m in \u001b[0;36mna_arithmetic_op\u001b[0;34m(left, right, op, str_rep)\u001b[0m\n\u001b[1;32m    148\u001b[0m     \u001b[0;32mtry\u001b[0m\u001b[0;34m:\u001b[0m\u001b[0;34m\u001b[0m\u001b[0;34m\u001b[0m\u001b[0m\n\u001b[0;32m--> 149\u001b[0;31m         \u001b[0mresult\u001b[0m \u001b[0;34m=\u001b[0m \u001b[0mexpressions\u001b[0m\u001b[0;34m.\u001b[0m\u001b[0mevaluate\u001b[0m\u001b[0;34m(\u001b[0m\u001b[0mop\u001b[0m\u001b[0;34m,\u001b[0m \u001b[0mstr_rep\u001b[0m\u001b[0;34m,\u001b[0m \u001b[0mleft\u001b[0m\u001b[0;34m,\u001b[0m \u001b[0mright\u001b[0m\u001b[0;34m)\u001b[0m\u001b[0;34m\u001b[0m\u001b[0;34m\u001b[0m\u001b[0m\n\u001b[0m\u001b[1;32m    150\u001b[0m     \u001b[0;32mexcept\u001b[0m \u001b[0mTypeError\u001b[0m\u001b[0;34m:\u001b[0m\u001b[0;34m\u001b[0m\u001b[0;34m\u001b[0m\u001b[0m\n",
      "\u001b[0;32m~/PycharmProjects/SKTW/venv/lib64/python3.8/site-packages/pandas/core/computation/expressions.py\u001b[0m in \u001b[0;36mevaluate\u001b[0;34m(op, op_str, a, b, use_numexpr)\u001b[0m\n\u001b[1;32m    207\u001b[0m     \u001b[0;32mif\u001b[0m \u001b[0muse_numexpr\u001b[0m\u001b[0;34m:\u001b[0m\u001b[0;34m\u001b[0m\u001b[0;34m\u001b[0m\u001b[0m\n\u001b[0;32m--> 208\u001b[0;31m         \u001b[0;32mreturn\u001b[0m \u001b[0m_evaluate\u001b[0m\u001b[0;34m(\u001b[0m\u001b[0mop\u001b[0m\u001b[0;34m,\u001b[0m \u001b[0mop_str\u001b[0m\u001b[0;34m,\u001b[0m \u001b[0ma\u001b[0m\u001b[0;34m,\u001b[0m \u001b[0mb\u001b[0m\u001b[0;34m)\u001b[0m\u001b[0;34m\u001b[0m\u001b[0;34m\u001b[0m\u001b[0m\n\u001b[0m\u001b[1;32m    209\u001b[0m     \u001b[0;32mreturn\u001b[0m \u001b[0m_evaluate_standard\u001b[0m\u001b[0;34m(\u001b[0m\u001b[0mop\u001b[0m\u001b[0;34m,\u001b[0m \u001b[0mop_str\u001b[0m\u001b[0;34m,\u001b[0m \u001b[0ma\u001b[0m\u001b[0;34m,\u001b[0m \u001b[0mb\u001b[0m\u001b[0;34m)\u001b[0m\u001b[0;34m\u001b[0m\u001b[0;34m\u001b[0m\u001b[0m\n",
      "\u001b[0;32m~/PycharmProjects/SKTW/venv/lib64/python3.8/site-packages/pandas/core/computation/expressions.py\u001b[0m in \u001b[0;36m_evaluate_standard\u001b[0;34m(op, op_str, a, b)\u001b[0m\n\u001b[1;32m     69\u001b[0m     \u001b[0;32mwith\u001b[0m \u001b[0mnp\u001b[0m\u001b[0;34m.\u001b[0m\u001b[0merrstate\u001b[0m\u001b[0;34m(\u001b[0m\u001b[0mall\u001b[0m\u001b[0;34m=\u001b[0m\u001b[0;34m\"ignore\"\u001b[0m\u001b[0;34m)\u001b[0m\u001b[0;34m:\u001b[0m\u001b[0;34m\u001b[0m\u001b[0;34m\u001b[0m\u001b[0m\n\u001b[0;32m---> 70\u001b[0;31m         \u001b[0;32mreturn\u001b[0m \u001b[0mop\u001b[0m\u001b[0;34m(\u001b[0m\u001b[0ma\u001b[0m\u001b[0;34m,\u001b[0m \u001b[0mb\u001b[0m\u001b[0;34m)\u001b[0m\u001b[0;34m\u001b[0m\u001b[0;34m\u001b[0m\u001b[0m\n\u001b[0m\u001b[1;32m     71\u001b[0m \u001b[0;34m\u001b[0m\u001b[0m\n",
      "\u001b[0;32m~/PycharmProjects/SKTW/venv/lib64/python3.8/site-packages/pandas/core/ops/roperator.py\u001b[0m in \u001b[0;36mrsub\u001b[0;34m(left, right)\u001b[0m\n\u001b[1;32m     12\u001b[0m \u001b[0;32mdef\u001b[0m \u001b[0mrsub\u001b[0m\u001b[0;34m(\u001b[0m\u001b[0mleft\u001b[0m\u001b[0;34m,\u001b[0m \u001b[0mright\u001b[0m\u001b[0;34m)\u001b[0m\u001b[0;34m:\u001b[0m\u001b[0;34m\u001b[0m\u001b[0;34m\u001b[0m\u001b[0m\n\u001b[0;32m---> 13\u001b[0;31m     \u001b[0;32mreturn\u001b[0m \u001b[0mright\u001b[0m \u001b[0;34m-\u001b[0m \u001b[0mleft\u001b[0m\u001b[0;34m\u001b[0m\u001b[0;34m\u001b[0m\u001b[0m\n\u001b[0m\u001b[1;32m     14\u001b[0m \u001b[0;34m\u001b[0m\u001b[0m\n",
      "\u001b[0;31mTypeError\u001b[0m: unsupported operand type(s) for -: 'float' and 'str'",
      "\nDuring handling of the above exception, another exception occurred:\n",
      "\u001b[0;31mTypeError\u001b[0m                                 Traceback (most recent call last)",
      "\u001b[0;32m<ipython-input-20-2d53f7f761f8>\u001b[0m in \u001b[0;36m<module>\u001b[0;34m\u001b[0m\n\u001b[1;32m      2\u001b[0m \u001b[0mres\u001b[0m \u001b[0;34m=\u001b[0m \u001b[0;34m[\u001b[0m\u001b[0;34m]\u001b[0m\u001b[0;34m\u001b[0m\u001b[0;34m\u001b[0m\u001b[0m\n\u001b[1;32m      3\u001b[0m \u001b[0;32mfor\u001b[0m \u001b[0mi\u001b[0m \u001b[0;32min\u001b[0m \u001b[0mrange\u001b[0m\u001b[0;34m(\u001b[0m\u001b[0;36m500\u001b[0m\u001b[0;34m,\u001b[0m \u001b[0;36m1000\u001b[0m\u001b[0;34m,\u001b[0m \u001b[0;36m50\u001b[0m\u001b[0;34m)\u001b[0m\u001b[0;34m:\u001b[0m\u001b[0;34m\u001b[0m\u001b[0;34m\u001b[0m\u001b[0m\n\u001b[0;32m----> 4\u001b[0;31m     \u001b[0mres\u001b[0m\u001b[0;34m.\u001b[0m\u001b[0mappend\u001b[0m\u001b[0;34m(\u001b[0m\u001b[0mleast_squares\u001b[0m\u001b[0;34m(\u001b[0m\u001b[0mfit_leastsq_qd\u001b[0m\u001b[0;34m,\u001b[0m \u001b[0mguesses\u001b[0m\u001b[0;34m,\u001b[0m \u001b[0margs\u001b[0m\u001b[0;34m=\u001b[0m\u001b[0;34m(\u001b[0m\u001b[0mselect_region\u001b[0m\u001b[0;34m(\u001b[0m\u001b[0mdf\u001b[0m\u001b[0;34m[\u001b[0m\u001b[0;34m:\u001b[0m\u001b[0mi\u001b[0m\u001b[0;34m]\u001b[0m\u001b[0;34m,\u001b[0m \u001b[0;34m'Lombardia'\u001b[0m\u001b[0;34m)\u001b[0m\u001b[0;34m,\u001b[0m\u001b[0;34m)\u001b[0m\u001b[0;34m,\u001b[0m \u001b[0mbounds\u001b[0m\u001b[0;34m=\u001b[0m\u001b[0mnp\u001b[0m\u001b[0;34m.\u001b[0m\u001b[0mtranspose\u001b[0m\u001b[0;34m(\u001b[0m\u001b[0mnp\u001b[0m\u001b[0;34m.\u001b[0m\u001b[0marray\u001b[0m\u001b[0;34m(\u001b[0m\u001b[0mranges\u001b[0m\u001b[0;34m)\u001b[0m\u001b[0;34m)\u001b[0m\u001b[0;34m)\u001b[0m\u001b[0;34m[\u001b[0m\u001b[0;34m'x'\u001b[0m\u001b[0;34m]\u001b[0m\u001b[0;34m)\u001b[0m\u001b[0;34m\u001b[0m\u001b[0;34m\u001b[0m\u001b[0m\n\u001b[0m",
      "\u001b[0;32m~/PycharmProjects/SKTW/venv/lib64/python3.8/site-packages/scipy/optimize/_lsq/least_squares.py\u001b[0m in \u001b[0;36mleast_squares\u001b[0;34m(fun, x0, jac, bounds, method, ftol, xtol, gtol, x_scale, loss, f_scale, diff_step, tr_solver, tr_options, jac_sparsity, max_nfev, verbose, args, kwargs)\u001b[0m\n\u001b[1;32m    805\u001b[0m         \u001b[0mx0\u001b[0m \u001b[0;34m=\u001b[0m \u001b[0mmake_strictly_feasible\u001b[0m\u001b[0;34m(\u001b[0m\u001b[0mx0\u001b[0m\u001b[0;34m,\u001b[0m \u001b[0mlb\u001b[0m\u001b[0;34m,\u001b[0m \u001b[0mub\u001b[0m\u001b[0;34m)\u001b[0m\u001b[0;34m\u001b[0m\u001b[0;34m\u001b[0m\u001b[0m\n\u001b[1;32m    806\u001b[0m \u001b[0;34m\u001b[0m\u001b[0m\n\u001b[0;32m--> 807\u001b[0;31m     \u001b[0mf0\u001b[0m \u001b[0;34m=\u001b[0m \u001b[0mfun_wrapped\u001b[0m\u001b[0;34m(\u001b[0m\u001b[0mx0\u001b[0m\u001b[0;34m)\u001b[0m\u001b[0;34m\u001b[0m\u001b[0;34m\u001b[0m\u001b[0m\n\u001b[0m\u001b[1;32m    808\u001b[0m \u001b[0;34m\u001b[0m\u001b[0m\n\u001b[1;32m    809\u001b[0m     \u001b[0;32mif\u001b[0m \u001b[0mf0\u001b[0m\u001b[0;34m.\u001b[0m\u001b[0mndim\u001b[0m \u001b[0;34m!=\u001b[0m \u001b[0;36m1\u001b[0m\u001b[0;34m:\u001b[0m\u001b[0;34m\u001b[0m\u001b[0;34m\u001b[0m\u001b[0m\n",
      "\u001b[0;32m~/PycharmProjects/SKTW/venv/lib64/python3.8/site-packages/scipy/optimize/_lsq/least_squares.py\u001b[0m in \u001b[0;36mfun_wrapped\u001b[0;34m(x)\u001b[0m\n\u001b[1;32m    800\u001b[0m \u001b[0;34m\u001b[0m\u001b[0m\n\u001b[1;32m    801\u001b[0m     \u001b[0;32mdef\u001b[0m \u001b[0mfun_wrapped\u001b[0m\u001b[0;34m(\u001b[0m\u001b[0mx\u001b[0m\u001b[0;34m)\u001b[0m\u001b[0;34m:\u001b[0m\u001b[0;34m\u001b[0m\u001b[0;34m\u001b[0m\u001b[0m\n\u001b[0;32m--> 802\u001b[0;31m         \u001b[0;32mreturn\u001b[0m \u001b[0mnp\u001b[0m\u001b[0;34m.\u001b[0m\u001b[0matleast_1d\u001b[0m\u001b[0;34m(\u001b[0m\u001b[0mfun\u001b[0m\u001b[0;34m(\u001b[0m\u001b[0mx\u001b[0m\u001b[0;34m,\u001b[0m \u001b[0;34m*\u001b[0m\u001b[0margs\u001b[0m\u001b[0;34m,\u001b[0m \u001b[0;34m**\u001b[0m\u001b[0mkwargs\u001b[0m\u001b[0;34m)\u001b[0m\u001b[0;34m)\u001b[0m\u001b[0;34m\u001b[0m\u001b[0;34m\u001b[0m\u001b[0m\n\u001b[0m\u001b[1;32m    803\u001b[0m \u001b[0;34m\u001b[0m\u001b[0m\n\u001b[1;32m    804\u001b[0m     \u001b[0;32mif\u001b[0m \u001b[0mmethod\u001b[0m \u001b[0;34m==\u001b[0m \u001b[0;34m'trf'\u001b[0m\u001b[0;34m:\u001b[0m\u001b[0;34m\u001b[0m\u001b[0;34m\u001b[0m\u001b[0m\n",
      "\u001b[0;32m<ipython-input-10-fef0e7ff4a2a>\u001b[0m in \u001b[0;36mfit_leastsq_qd\u001b[0;34m(params, data)\u001b[0m\n\u001b[1;32m      2\u001b[0m     \u001b[0mDdata\u001b[0m \u001b[0;34m=\u001b[0m \u001b[0mdata\u001b[0m\u001b[0;34m\u001b[0m\u001b[0;34m\u001b[0m\u001b[0m\n\u001b[1;32m      3\u001b[0m     \u001b[0;31m# Idata = (data['TotalCurrentlyPositive'].values)\u001b[0m\u001b[0;34m\u001b[0m\u001b[0;34m\u001b[0m\u001b[0;34m\u001b[0m\u001b[0m\n\u001b[0;32m----> 4\u001b[0;31m     \u001b[0ms\u001b[0m \u001b[0;34m=\u001b[0m \u001b[0mmodel_qd\u001b[0m\u001b[0;34m(\u001b[0m\u001b[0mparams\u001b[0m\u001b[0;34m,\u001b[0m \u001b[0mdata\u001b[0m\u001b[0;34m)\u001b[0m\u001b[0;34m\u001b[0m\u001b[0;34m\u001b[0m\u001b[0m\n\u001b[0m\u001b[1;32m      5\u001b[0m     \u001b[0ms\u001b[0m \u001b[0;34m=\u001b[0m \u001b[0mmodel_qd\u001b[0m\u001b[0;34m(\u001b[0m\u001b[0mparams\u001b[0m\u001b[0;34m,\u001b[0m \u001b[0mdata\u001b[0m\u001b[0;34m)\u001b[0m\u001b[0;34m\u001b[0m\u001b[0;34m\u001b[0m\u001b[0m\n\u001b[1;32m      6\u001b[0m     \u001b[0mD\u001b[0m \u001b[0;34m=\u001b[0m \u001b[0ms\u001b[0m\u001b[0;34m[\u001b[0m\u001b[0;34m:\u001b[0m\u001b[0;34m,\u001b[0m\u001b[0;36m5\u001b[0m\u001b[0;34m]\u001b[0m\u001b[0;34m\u001b[0m\u001b[0;34m\u001b[0m\u001b[0m\n",
      "\u001b[0;32m<ipython-input-9-d31a5cde15a1>\u001b[0m in \u001b[0;36mmodel_qd\u001b[0;34m(params, data, tmax)\u001b[0m\n\u001b[1;32m     14\u001b[0m \u001b[0;34m\u001b[0m\u001b[0m\n\u001b[1;32m     15\u001b[0m     \u001b[0md0\u001b[0m \u001b[0;34m=\u001b[0m \u001b[0mdata\u001b[0m\u001b[0;34m.\u001b[0m\u001b[0miloc\u001b[0m\u001b[0;34m[\u001b[0m\u001b[0;36m0\u001b[0m\u001b[0;34m]\u001b[0m\u001b[0;34m\u001b[0m\u001b[0;34m\u001b[0m\u001b[0m\n\u001b[0;32m---> 16\u001b[0;31m     \u001b[0ms0\u001b[0m \u001b[0;34m=\u001b[0m \u001b[0mN\u001b[0m \u001b[0;34m-\u001b[0m \u001b[0mnp\u001b[0m\u001b[0;34m.\u001b[0m\u001b[0msum\u001b[0m\u001b[0;34m(\u001b[0m\u001b[0minitial_conditions\u001b[0m\u001b[0;34m)\u001b[0m \u001b[0;34m-\u001b[0m \u001b[0md0\u001b[0m\u001b[0;34m\u001b[0m\u001b[0;34m\u001b[0m\u001b[0m\n\u001b[0m\u001b[1;32m     17\u001b[0m \u001b[0;34m\u001b[0m\u001b[0m\n\u001b[1;32m     18\u001b[0m     \u001b[0myz_0\u001b[0m \u001b[0;34m=\u001b[0m \u001b[0mnp\u001b[0m\u001b[0;34m.\u001b[0m\u001b[0marray\u001b[0m\u001b[0;34m(\u001b[0m\u001b[0;34m[\u001b[0m\u001b[0ms0\u001b[0m\u001b[0;34m,\u001b[0m \u001b[0me0\u001b[0m\u001b[0;34m,\u001b[0m \u001b[0mi0\u001b[0m\u001b[0;34m,\u001b[0m \u001b[0mq0\u001b[0m\u001b[0;34m,\u001b[0m \u001b[0mr0\u001b[0m\u001b[0;34m,\u001b[0m \u001b[0md0\u001b[0m\u001b[0;34m,\u001b[0m \u001b[0msa0\u001b[0m\u001b[0;34m]\u001b[0m\u001b[0;34m)\u001b[0m\u001b[0;34m\u001b[0m\u001b[0;34m\u001b[0m\u001b[0m\n",
      "\u001b[0;32m~/PycharmProjects/SKTW/venv/lib64/python3.8/site-packages/pandas/core/series.py\u001b[0m in \u001b[0;36m__array_ufunc__\u001b[0;34m(self, ufunc, method, *inputs, **kwargs)\u001b[0m\n\u001b[1;32m    633\u001b[0m \u001b[0;34m\u001b[0m\u001b[0m\n\u001b[1;32m    634\u001b[0m         \u001b[0;31m# for binary ops, use our custom dunder methods\u001b[0m\u001b[0;34m\u001b[0m\u001b[0;34m\u001b[0m\u001b[0;34m\u001b[0m\u001b[0m\n\u001b[0;32m--> 635\u001b[0;31m         result = ops.maybe_dispatch_ufunc_to_dunder_op(\n\u001b[0m\u001b[1;32m    636\u001b[0m             \u001b[0mself\u001b[0m\u001b[0;34m,\u001b[0m \u001b[0mufunc\u001b[0m\u001b[0;34m,\u001b[0m \u001b[0mmethod\u001b[0m\u001b[0;34m,\u001b[0m \u001b[0;34m*\u001b[0m\u001b[0minputs\u001b[0m\u001b[0;34m,\u001b[0m \u001b[0;34m**\u001b[0m\u001b[0mkwargs\u001b[0m\u001b[0;34m\u001b[0m\u001b[0;34m\u001b[0m\u001b[0m\n\u001b[1;32m    637\u001b[0m         )\n",
      "\u001b[0;32mpandas/_libs/ops_dispatch.pyx\u001b[0m in \u001b[0;36mpandas._libs.ops_dispatch.maybe_dispatch_ufunc_to_dunder_op\u001b[0;34m()\u001b[0m\n",
      "\u001b[0;32m~/PycharmProjects/SKTW/venv/lib64/python3.8/site-packages/pandas/core/ops/common.py\u001b[0m in \u001b[0;36mnew_method\u001b[0;34m(self, other)\u001b[0m\n\u001b[1;32m     62\u001b[0m         \u001b[0mother\u001b[0m \u001b[0;34m=\u001b[0m \u001b[0mitem_from_zerodim\u001b[0m\u001b[0;34m(\u001b[0m\u001b[0mother\u001b[0m\u001b[0;34m)\u001b[0m\u001b[0;34m\u001b[0m\u001b[0;34m\u001b[0m\u001b[0m\n\u001b[1;32m     63\u001b[0m \u001b[0;34m\u001b[0m\u001b[0m\n\u001b[0;32m---> 64\u001b[0;31m         \u001b[0;32mreturn\u001b[0m \u001b[0mmethod\u001b[0m\u001b[0;34m(\u001b[0m\u001b[0mself\u001b[0m\u001b[0;34m,\u001b[0m \u001b[0mother\u001b[0m\u001b[0;34m)\u001b[0m\u001b[0;34m\u001b[0m\u001b[0;34m\u001b[0m\u001b[0m\n\u001b[0m\u001b[1;32m     65\u001b[0m \u001b[0;34m\u001b[0m\u001b[0m\n\u001b[1;32m     66\u001b[0m     \u001b[0;32mreturn\u001b[0m \u001b[0mnew_method\u001b[0m\u001b[0;34m\u001b[0m\u001b[0;34m\u001b[0m\u001b[0m\n",
      "\u001b[0;32m~/PycharmProjects/SKTW/venv/lib64/python3.8/site-packages/pandas/core/ops/__init__.py\u001b[0m in \u001b[0;36mwrapper\u001b[0;34m(left, right)\u001b[0m\n\u001b[1;32m    501\u001b[0m         \u001b[0mlvalues\u001b[0m \u001b[0;34m=\u001b[0m \u001b[0mextract_array\u001b[0m\u001b[0;34m(\u001b[0m\u001b[0mleft\u001b[0m\u001b[0;34m,\u001b[0m \u001b[0mextract_numpy\u001b[0m\u001b[0;34m=\u001b[0m\u001b[0;32mTrue\u001b[0m\u001b[0;34m)\u001b[0m\u001b[0;34m\u001b[0m\u001b[0;34m\u001b[0m\u001b[0m\n\u001b[1;32m    502\u001b[0m         \u001b[0mrvalues\u001b[0m \u001b[0;34m=\u001b[0m \u001b[0mextract_array\u001b[0m\u001b[0;34m(\u001b[0m\u001b[0mright\u001b[0m\u001b[0;34m,\u001b[0m \u001b[0mextract_numpy\u001b[0m\u001b[0;34m=\u001b[0m\u001b[0;32mTrue\u001b[0m\u001b[0;34m)\u001b[0m\u001b[0;34m\u001b[0m\u001b[0;34m\u001b[0m\u001b[0m\n\u001b[0;32m--> 503\u001b[0;31m         \u001b[0mresult\u001b[0m \u001b[0;34m=\u001b[0m \u001b[0marithmetic_op\u001b[0m\u001b[0;34m(\u001b[0m\u001b[0mlvalues\u001b[0m\u001b[0;34m,\u001b[0m \u001b[0mrvalues\u001b[0m\u001b[0;34m,\u001b[0m \u001b[0mop\u001b[0m\u001b[0;34m,\u001b[0m \u001b[0mstr_rep\u001b[0m\u001b[0;34m)\u001b[0m\u001b[0;34m\u001b[0m\u001b[0;34m\u001b[0m\u001b[0m\n\u001b[0m\u001b[1;32m    504\u001b[0m \u001b[0;34m\u001b[0m\u001b[0m\n\u001b[1;32m    505\u001b[0m         \u001b[0;32mreturn\u001b[0m \u001b[0m_construct_result\u001b[0m\u001b[0;34m(\u001b[0m\u001b[0mleft\u001b[0m\u001b[0;34m,\u001b[0m \u001b[0mresult\u001b[0m\u001b[0;34m,\u001b[0m \u001b[0mindex\u001b[0m\u001b[0;34m=\u001b[0m\u001b[0mleft\u001b[0m\u001b[0;34m.\u001b[0m\u001b[0mindex\u001b[0m\u001b[0;34m,\u001b[0m \u001b[0mname\u001b[0m\u001b[0;34m=\u001b[0m\u001b[0mres_name\u001b[0m\u001b[0;34m)\u001b[0m\u001b[0;34m\u001b[0m\u001b[0;34m\u001b[0m\u001b[0m\n",
      "\u001b[0;32m~/PycharmProjects/SKTW/venv/lib64/python3.8/site-packages/pandas/core/ops/array_ops.py\u001b[0m in \u001b[0;36marithmetic_op\u001b[0;34m(left, right, op, str_rep)\u001b[0m\n\u001b[1;32m    195\u001b[0m     \u001b[0;32melse\u001b[0m\u001b[0;34m:\u001b[0m\u001b[0;34m\u001b[0m\u001b[0;34m\u001b[0m\u001b[0m\n\u001b[1;32m    196\u001b[0m         \u001b[0;32mwith\u001b[0m \u001b[0mnp\u001b[0m\u001b[0;34m.\u001b[0m\u001b[0merrstate\u001b[0m\u001b[0;34m(\u001b[0m\u001b[0mall\u001b[0m\u001b[0;34m=\u001b[0m\u001b[0;34m\"ignore\"\u001b[0m\u001b[0;34m)\u001b[0m\u001b[0;34m:\u001b[0m\u001b[0;34m\u001b[0m\u001b[0;34m\u001b[0m\u001b[0m\n\u001b[0;32m--> 197\u001b[0;31m             \u001b[0mres_values\u001b[0m \u001b[0;34m=\u001b[0m \u001b[0mna_arithmetic_op\u001b[0m\u001b[0;34m(\u001b[0m\u001b[0mlvalues\u001b[0m\u001b[0;34m,\u001b[0m \u001b[0mrvalues\u001b[0m\u001b[0;34m,\u001b[0m \u001b[0mop\u001b[0m\u001b[0;34m,\u001b[0m \u001b[0mstr_rep\u001b[0m\u001b[0;34m)\u001b[0m\u001b[0;34m\u001b[0m\u001b[0;34m\u001b[0m\u001b[0m\n\u001b[0m\u001b[1;32m    198\u001b[0m \u001b[0;34m\u001b[0m\u001b[0m\n\u001b[1;32m    199\u001b[0m     \u001b[0;32mreturn\u001b[0m \u001b[0mres_values\u001b[0m\u001b[0;34m\u001b[0m\u001b[0;34m\u001b[0m\u001b[0m\n",
      "\u001b[0;32m~/PycharmProjects/SKTW/venv/lib64/python3.8/site-packages/pandas/core/ops/array_ops.py\u001b[0m in \u001b[0;36mna_arithmetic_op\u001b[0;34m(left, right, op, str_rep)\u001b[0m\n\u001b[1;32m    149\u001b[0m         \u001b[0mresult\u001b[0m \u001b[0;34m=\u001b[0m \u001b[0mexpressions\u001b[0m\u001b[0;34m.\u001b[0m\u001b[0mevaluate\u001b[0m\u001b[0;34m(\u001b[0m\u001b[0mop\u001b[0m\u001b[0;34m,\u001b[0m \u001b[0mstr_rep\u001b[0m\u001b[0;34m,\u001b[0m \u001b[0mleft\u001b[0m\u001b[0;34m,\u001b[0m \u001b[0mright\u001b[0m\u001b[0;34m)\u001b[0m\u001b[0;34m\u001b[0m\u001b[0;34m\u001b[0m\u001b[0m\n\u001b[1;32m    150\u001b[0m     \u001b[0;32mexcept\u001b[0m \u001b[0mTypeError\u001b[0m\u001b[0;34m:\u001b[0m\u001b[0;34m\u001b[0m\u001b[0;34m\u001b[0m\u001b[0m\n\u001b[0;32m--> 151\u001b[0;31m         \u001b[0mresult\u001b[0m \u001b[0;34m=\u001b[0m \u001b[0mmasked_arith_op\u001b[0m\u001b[0;34m(\u001b[0m\u001b[0mleft\u001b[0m\u001b[0;34m,\u001b[0m \u001b[0mright\u001b[0m\u001b[0;34m,\u001b[0m \u001b[0mop\u001b[0m\u001b[0;34m)\u001b[0m\u001b[0;34m\u001b[0m\u001b[0;34m\u001b[0m\u001b[0m\n\u001b[0m\u001b[1;32m    152\u001b[0m \u001b[0;34m\u001b[0m\u001b[0m\n\u001b[1;32m    153\u001b[0m     \u001b[0;32mreturn\u001b[0m \u001b[0mmissing\u001b[0m\u001b[0;34m.\u001b[0m\u001b[0mdispatch_fill_zeros\u001b[0m\u001b[0;34m(\u001b[0m\u001b[0mop\u001b[0m\u001b[0;34m,\u001b[0m \u001b[0mleft\u001b[0m\u001b[0;34m,\u001b[0m \u001b[0mright\u001b[0m\u001b[0;34m,\u001b[0m \u001b[0mresult\u001b[0m\u001b[0;34m)\u001b[0m\u001b[0;34m\u001b[0m\u001b[0;34m\u001b[0m\u001b[0m\n",
      "\u001b[0;32m~/PycharmProjects/SKTW/venv/lib64/python3.8/site-packages/pandas/core/ops/array_ops.py\u001b[0m in \u001b[0;36mmasked_arith_op\u001b[0;34m(x, y, op)\u001b[0m\n\u001b[1;32m    110\u001b[0m         \u001b[0;32mif\u001b[0m \u001b[0mmask\u001b[0m\u001b[0;34m.\u001b[0m\u001b[0many\u001b[0m\u001b[0;34m(\u001b[0m\u001b[0;34m)\u001b[0m\u001b[0;34m:\u001b[0m\u001b[0;34m\u001b[0m\u001b[0;34m\u001b[0m\u001b[0m\n\u001b[1;32m    111\u001b[0m             \u001b[0;32mwith\u001b[0m \u001b[0mnp\u001b[0m\u001b[0;34m.\u001b[0m\u001b[0merrstate\u001b[0m\u001b[0;34m(\u001b[0m\u001b[0mall\u001b[0m\u001b[0;34m=\u001b[0m\u001b[0;34m\"ignore\"\u001b[0m\u001b[0;34m)\u001b[0m\u001b[0;34m:\u001b[0m\u001b[0;34m\u001b[0m\u001b[0;34m\u001b[0m\u001b[0m\n\u001b[0;32m--> 112\u001b[0;31m                 \u001b[0mresult\u001b[0m\u001b[0;34m[\u001b[0m\u001b[0mmask\u001b[0m\u001b[0;34m]\u001b[0m \u001b[0;34m=\u001b[0m \u001b[0mop\u001b[0m\u001b[0;34m(\u001b[0m\u001b[0mxrav\u001b[0m\u001b[0;34m[\u001b[0m\u001b[0mmask\u001b[0m\u001b[0;34m]\u001b[0m\u001b[0;34m,\u001b[0m \u001b[0my\u001b[0m\u001b[0;34m)\u001b[0m\u001b[0;34m\u001b[0m\u001b[0;34m\u001b[0m\u001b[0m\n\u001b[0m\u001b[1;32m    113\u001b[0m \u001b[0;34m\u001b[0m\u001b[0m\n\u001b[1;32m    114\u001b[0m     \u001b[0mresult\u001b[0m\u001b[0;34m,\u001b[0m \u001b[0m_\u001b[0m \u001b[0;34m=\u001b[0m \u001b[0mmaybe_upcast_putmask\u001b[0m\u001b[0;34m(\u001b[0m\u001b[0mresult\u001b[0m\u001b[0;34m,\u001b[0m \u001b[0;34m~\u001b[0m\u001b[0mmask\u001b[0m\u001b[0;34m,\u001b[0m \u001b[0mnp\u001b[0m\u001b[0;34m.\u001b[0m\u001b[0mnan\u001b[0m\u001b[0;34m)\u001b[0m\u001b[0;34m\u001b[0m\u001b[0;34m\u001b[0m\u001b[0m\n",
      "\u001b[0;32m~/PycharmProjects/SKTW/venv/lib64/python3.8/site-packages/pandas/core/ops/roperator.py\u001b[0m in \u001b[0;36mrsub\u001b[0;34m(left, right)\u001b[0m\n\u001b[1;32m     11\u001b[0m \u001b[0;34m\u001b[0m\u001b[0m\n\u001b[1;32m     12\u001b[0m \u001b[0;32mdef\u001b[0m \u001b[0mrsub\u001b[0m\u001b[0;34m(\u001b[0m\u001b[0mleft\u001b[0m\u001b[0;34m,\u001b[0m \u001b[0mright\u001b[0m\u001b[0;34m)\u001b[0m\u001b[0;34m:\u001b[0m\u001b[0;34m\u001b[0m\u001b[0;34m\u001b[0m\u001b[0m\n\u001b[0;32m---> 13\u001b[0;31m     \u001b[0;32mreturn\u001b[0m \u001b[0mright\u001b[0m \u001b[0;34m-\u001b[0m \u001b[0mleft\u001b[0m\u001b[0;34m\u001b[0m\u001b[0;34m\u001b[0m\u001b[0m\n\u001b[0m\u001b[1;32m     14\u001b[0m \u001b[0;34m\u001b[0m\u001b[0m\n\u001b[1;32m     15\u001b[0m \u001b[0;34m\u001b[0m\u001b[0m\n",
      "\u001b[0;31mTypeError\u001b[0m: unsupported operand type(s) for -: 'float' and 'str'"
     ]
    }
   ],
   "source": [
    "from scipy.optimize import least_squares\n",
    "res = []\n",
    "for i in range(500, 1000, 50):\n",
    "    res.append(least_squares(fit_leastsq_qd, guesses, args=(select_region(df[:i], 'Lombardia'),), bounds=np.transpose(np.array(ranges)))['x'])"
   ]
  },
  {
   "cell_type": "code",
   "execution_count": 50,
   "metadata": {
    "ExecuteTime": {
     "end_time": "2020-04-18T00:33:58.447591Z",
     "start_time": "2020-04-18T00:33:56.744413Z"
    },
    "hidden": true
   },
   "outputs": [],
   "source": [
    "res=least_squares(fit_leastsq_qd, guesses, args=(select_region(df, 'Lombardia'),), bounds=np.transpose(np.array(ranges)))"
   ]
  },
  {
   "cell_type": "code",
   "execution_count": 79,
   "metadata": {
    "ExecuteTime": {
     "end_time": "2020-04-18T22:36:11.135537Z",
     "start_time": "2020-04-18T22:36:10.335615Z"
    },
    "hidden": true,
    "scrolled": false
   },
   "outputs": [
    {
     "data": {
      "text/plain": [
       "[<matplotlib.lines.Line2D at 0x7fedaf224ad0>,\n",
       " <matplotlib.lines.Line2D at 0x7fedaf2f8250>,\n",
       " <matplotlib.lines.Line2D at 0x7fedaf2f8e10>,\n",
       " <matplotlib.lines.Line2D at 0x7fedaf2f8d90>,\n",
       " <matplotlib.lines.Line2D at 0x7fedaf2f89d0>,\n",
       " <matplotlib.lines.Line2D at 0x7fedaf2f8b10>,\n",
       " <matplotlib.lines.Line2D at 0x7fedaf2f8450>,\n",
       " <matplotlib.lines.Line2D at 0x7fedaf2f8550>,\n",
       " <matplotlib.lines.Line2D at 0x7fedaf2f8a10>,\n",
       " <matplotlib.lines.Line2D at 0x7fedaf2f8bd0>,\n",
       " <matplotlib.lines.Line2D at 0x7fedb471f4d0>]"
      ]
     },
     "execution_count": 79,
     "metadata": {},
     "output_type": "execute_result"
    },
    {
     "data": {
      "image/png": "[encoded data removed]",
      "text/plain": [
       "<Figure size 432x288 with 1 Axes>"
      ]
     },
     "metadata": {
      "needs_background": "light"
     },
     "output_type": "display_data"
    }
   ],
   "source": [
    "plt.yscale('log')\n",
    "plt.plot(np.array(res).round(7))"
   ]
  },
  {
   "cell_type": "code",
   "execution_count": 46,
   "metadata": {
    "ExecuteTime": {
     "end_time": "2020-04-18T00:32:11.911375Z",
     "start_time": "2020-04-18T00:32:11.900194Z"
    },
    "hidden": true,
    "scrolled": false
   },
   "outputs": [
    {
     "data": {
      "text/plain": [
       " active_mask: array([0, 0, 0, 0, 0, 0, 0, 0, 0, 0, 0])\n",
       "        cost: 369081.76522783213\n",
       "         fun: array([   0.        ,   21.50890189,   35.16402459,   39.60479744,\n",
       "         68.65707123,   13.79076027,   19.15163702,  -28.35735321,\n",
       "        -71.05158881,  -70.50193438,  -65.61720319,   34.24686971,\n",
       "        -15.83010024,   10.55671845,   45.04942784,    5.473961  ,\n",
       "         43.4122788 , -127.3549345 , -104.32808521,  115.60185858,\n",
       "        -58.08551071,  -27.55374677, -388.96958657,  520.1711332 ,\n",
       "        108.59891704,  -38.53080959,  150.36716158, -140.08406383,\n",
       "       -107.07778247,   38.98716199, -317.53774317,  270.58012839])\n",
       "        grad: array([  -29888.66345475,    -5873.50305874,   -38785.42262854,\n",
       "         649720.41843124,   110667.83381664,    43364.78841689,\n",
       "       -1903084.00669098,   220922.29938126,   420617.57403833,\n",
       "         161008.66322361,   161008.66322361])\n",
       "         jac: array([[ 0.00000000e+00,  0.00000000e+00,  0.00000000e+00,\n",
       "         0.00000000e+00,  0.00000000e+00,  0.00000000e+00,\n",
       "         0.00000000e+00,  0.00000000e+00,  0.00000000e+00,\n",
       "         0.00000000e+00,  0.00000000e+00],\n",
       "       [ 1.31600636e-01, -1.68315334e+01,  1.84397888e+00,\n",
       "        -7.50741959e-02,  1.33330603e+01,  1.38351496e+03,\n",
       "         3.12117750e+03,  1.98952072e+04,  8.24131591e+04,\n",
       "        -8.12619209e-01, -8.12619209e-01],\n",
       "       [ 1.64499625e+00, -5.68943863e+01,  1.36952095e+01,\n",
       "        -1.96223450e+00,  3.86958065e+01,  2.71353739e+03,\n",
       "         1.87618824e+04,  6.55958784e+04,  1.31001690e+05,\n",
       "        -1.01598053e+01, -1.01598053e+01],\n",
       "       [ 6.87588983e+00, -1.11471056e+02,  4.29916515e+01,\n",
       "        -1.29301682e+01,  6.34611855e+01,  4.12778008e+03,\n",
       "         5.01427316e+04,  1.30539937e+05,  1.59626573e+05,\n",
       "        -4.24775600e+01, -4.24775600e+01],\n",
       "       [ 1.87292124e+01, -1.78405146e+02,  9.61658096e+01,\n",
       "        -4.92995853e+01,  7.80873470e+01,  5.76400221e+03,\n",
       "         9.83024777e+04,  2.15928465e+05,  1.76451892e+05,\n",
       "        -1.15738899e+02, -1.15738899e+02],\n",
       "       [ 4.07195424e+01, -2.59252148e+02,  1.80203934e+02,\n",
       "        -1.40054134e+02,  7.17442970e+01,  7.74363530e+03,\n",
       "         1.64527992e+05,  3.25318700e+05,  1.86280669e+05,\n",
       "        -2.51718540e+02, -2.51718540e+02],\n",
       "       [ 7.70646151e+01, -3.57481937e+02,  3.03186989e+02,\n",
       "        -3.30713921e+02,  3.09420204e+01,  1.01747077e+04,\n",
       "         2.50684110e+05,  4.63038707e+05,  1.91931814e+05,\n",
       "        -4.76591412e+02, -4.76591412e+02],\n",
       "       [ 1.32705199e+02, -4.77478176e+02,  4.74219242e+02,\n",
       "        -6.87057686e+02, -6.09468765e+01,  1.31557272e+04,\n",
       "         3.59050039e+05,  6.33617796e+05,  1.95052289e+05,\n",
       "        -8.21083557e+02, -8.21083557e+02],\n",
       "       [ 2.13233530e+02, -6.23989372e+02,  7.03037109e+02,\n",
       "        -1.29816325e+03, -2.23731613e+02,  1.67770986e+04,\n",
       "         4.92061727e+05,  8.41460812e+05,  1.96596531e+05,\n",
       "        -1.32006496e+03, -1.32006496e+03],\n",
       "       [ 3.24727644e+02, -8.01797417e+02,  9.99427895e+02,\n",
       "        -2.27815870e+03, -4.80085350e+02,  2.11201377e+04,\n",
       "         6.52048784e+05,  1.09055901e+06,  1.97109882e+05,\n",
       "        -2.01156461e+03, -2.01156461e+03],\n",
       "       [ 4.73493124e+02, -1.01547278e+03,  1.37251947e+03,\n",
       "        -3.76606303e+03, -8.54858940e+02,  2.62543939e+04,\n",
       "         8.40983084e+05,  1.38419201e+06,  1.96896705e+05,\n",
       "        -2.93521514e+03, -2.93521514e+03],\n",
       "       [ 6.65721622e+02, -1.26915383e+03,  1.82999276e+03,\n",
       "        -5.92317246e+03, -1.37402608e+03,  3.22340077e+04,\n",
       "         1.06024471e+06,  1.72462590e+06,  1.96120694e+05,\n",
       "        -4.13017829e+03, -4.13017829e+03],\n",
       "       [ 9.07085132e+02, -1.56632732e+03,  2.37727817e+03,\n",
       "        -8.92764595e+03, -2.06329561e+03,  3.90937581e+04,\n",
       "         1.31041480e+06,  2.11282986e+06,  1.94865250e+05,\n",
       "        -5.63266225e+03, -5.63266225e+03],\n",
       "       [ 1.20229690e+03, -1.90960939e+03,  3.01681419e+03,\n",
       "        -1.29662337e+04, -2.94646811e+03,  4.68453777e+04,\n",
       "         1.59110792e+06,  2.54824075e+06,  1.93170376e+05,\n",
       "        -7.47320901e+03, -7.47320901e+03],\n",
       "       [ 1.55467693e+03, -2.30053972e+03,  3.74744635e+03,\n",
       "        -1.82234834e+04, -4.04366615e+03,  5.54746416e+04,\n",
       "         1.90086080e+06,  3.02860425e+06,  1.91055501e+05,\n",
       "        -9.67398697e+03, -9.67398697e+03],\n",
       "       [ 1.96576795e+03, -2.73940544e+03,  4.56404994e+03,\n",
       "        -2.48691309e+04, -5.36959387e+03,  6.49396492e+04,\n",
       "         2.23709000e+06,  3.54991859e+06,  1.88533783e+05,\n",
       "        -1.22463593e+04, -1.22463593e+04],\n",
       "       [ 0.00000000e+00,  0.00000000e+00,  0.00000000e+00,\n",
       "         0.00000000e+00,  0.00000000e+00,  0.00000000e+00,\n",
       "         0.00000000e+00,  3.76007700e+06,  0.00000000e+00,\n",
       "         0.00000000e+00,  0.00000000e+00],\n",
       "       [ 1.10822921e+02,  0.00000000e+00,  9.31603912e+02,\n",
       "        -1.07782471e+02, -1.14340588e+03,  0.00000000e+00,\n",
       "         1.25849341e+06,  3.01336421e+06, -6.84409958e+02,\n",
       "        -6.84409958e+02, -6.84409958e+02],\n",
       "       [ 3.70355930e+02,  0.00000000e+00,  1.97148418e+03,\n",
       "        -7.61898727e+02, -2.40032237e+03,  0.00000000e+00,\n",
       "         1.99621610e+06,  3.40377935e+06, -2.28810323e+03,\n",
       "        -2.28810323e+03, -2.28810323e+03],\n",
       "       [ 7.65784697e+02,  0.00000000e+00,  3.19174771e+03,\n",
       "        -2.47568451e+03, -4.15823218e+03,  0.00000000e+00,\n",
       "         2.66952846e+06,  4.23398566e+06, -4.73332022e+03,\n",
       "        -4.73332022e+03, -4.73332022e+03],\n",
       "       [ 1.32390018e+03,  0.00000000e+00,  4.70283612e+03,\n",
       "        -5.90970175e+03, -6.60802899e+03,  0.00000000e+00,\n",
       "         3.40840506e+06,  5.31825153e+06, -8.18760992e+03,\n",
       "        -8.18760992e+03, -8.18760992e+03],\n",
       "       [ 2.07670170e+03,  0.00000000e+00,  6.57605618e+03,\n",
       "        -1.18872308e+04, -9.90172232e+03,  0.00000000e+00,\n",
       "         4.24978778e+06,  6.60514047e+06, -1.28518172e+04,\n",
       "        -1.28518172e+04, -1.28518172e+04],\n",
       "       [ 3.05290952e+03,  0.00000000e+00,  8.84695874e+03,\n",
       "        -2.13665874e+04, -1.41746476e+04,  0.00000000e+00,\n",
       "         5.20001251e+06,  8.07337029e+06, -1.89079533e+04,\n",
       "        -1.89079533e+04, -1.89079533e+04],\n",
       "       [ 4.27378538e+03,  0.00000000e+00,  1.15196065e+04,\n",
       "        -3.53884145e+04, -1.95372980e+04,  0.00000000e+00,\n",
       "         6.25126779e+06,  9.70172666e+06, -2.64936038e+04,\n",
       "        -2.64936038e+04, -2.64936038e+04],\n",
       "       [ 5.74945160e+03,  0.00000000e+00,  1.45662017e+04,\n",
       "        -5.49957877e+04, -2.60601457e+04,  0.00000000e+00,\n",
       "         7.38574352e+06,  1.14598473e+07, -3.56792595e+04,\n",
       "        -3.56792595e+04, -3.56792595e+04],\n",
       "       [ 7.47546426e+03, -2.44140625e-04,  1.79253566e+04,\n",
       "        -8.11293936e+04, -3.37575911e+04, -1.22070312e-04,\n",
       "         8.57681019e+06,  1.33055642e+07, -4.64470737e+04,\n",
       "        -4.64470135e+04, -4.64470135e+04],\n",
       "       [ 9.43010220e+03, -7.32421875e-04,  2.15017522e+04,\n",
       "        -1.14505846e+05, -4.25738656e+04, -3.66210938e-04,\n",
       "         9.78991738e+06,  1.51850062e+07, -5.86734733e+04,\n",
       "        -5.86733226e+04, -5.86733226e+04],\n",
       "       [ 1.15728971e+04, -1.46484375e-03,  2.51686793e+04,\n",
       "        -1.55492394e+05, -5.23732753e+04, -1.09863281e-03,\n",
       "         1.09840455e+07,  1.70344624e+07, -7.21195084e+04,\n",
       "        -7.21191122e+04, -7.21191122e+04],\n",
       "       [ 1.38448896e+04, -1.22070312e-03,  2.87742417e+04,\n",
       "        -2.03994815e+05, -6.29368358e+04, -7.32421875e-04,\n",
       "         1.21138897e+07,  1.87836976e+07, -8.64302490e+04,\n",
       "        -8.64300819e+04, -8.64300819e+04],\n",
       "       [ 1.61708242e+04, -1.58691406e-03,  3.21509744e+04,\n",
       "        -2.59377109e+05, -7.39670400e+04, -8.54492188e-04,\n",
       "         1.31327966e+07,  2.03603935e+07, -1.01149100e+05,\n",
       "        -1.01148991e+05, -1.01148991e+05],\n",
       "       [ 1.84633974e+04, -1.95312500e-03,  3.51285322e+04,\n",
       "        -3.20428906e+05, -8.51011328e+04, -1.09863281e-03,\n",
       "         1.39960950e+07,  2.16953803e+07, -1.15740485e+05,\n",
       "        -1.15740190e+05, -1.15740190e+05],\n",
       "       [ 2.06291617e+04, -2.19726562e-03,  3.75478210e+04,\n",
       "        -3.85392469e+05, -9.59326195e+04, -1.58691406e-03,\n",
       "         1.46646061e+07,  2.27280340e+07, -1.29625235e+05,\n",
       "        -1.29624783e+05, -1.29624783e+05]])\n",
       "     message: '`xtol` termination condition is satisfied.'\n",
       "        nfev: 148\n",
       "        njev: 117\n",
       "  optimality: 88151.32781772301\n",
       "      status: 3\n",
       "     success: True\n",
       "           x: array([2.76984526e+00, 4.99961458e-01, 4.99990634e-01, 4.56503730e-02,\n",
       "       4.99998191e-01, 2.82136613e-02, 2.15878174e-04, 3.64197935e-04,\n",
       "       3.83293856e-04, 2.86589526e-03, 5.47494415e-01])"
      ]
     },
     "execution_count": 46,
     "metadata": {},
     "output_type": "execute_result"
    }
   ],
   "source": [
    "res[0]"
   ]
  },
  {
   "cell_type": "code",
   "execution_count": 38,
   "metadata": {
    "ExecuteTime": {
     "end_time": "2020-04-21T22:36:39.755030Z",
     "start_time": "2020-04-21T22:36:39.746362Z"
    },
    "hidden": true
   },
   "outputs": [],
   "source": [
    "guesses = [2.0, 0.3, 0.2, 0.05, 0.2, 0.03] + [0.5e-3, 0.5e-3, 0.3e-3, 0.1e-4, 0.5]\n",
    "ranges = [(0.5, 3.0), (0.0, 0.5), (0.0, 0.5), (0.01, 0.5), (0.0, 0.5), (0.005, 0.1)]+[(1.0e-7, 0.01), (1.0e-7, 0.01), (1.0e-7, 0.01), (1.0e-7, 0.01), (1.0e-7, 0.9)]"
   ]
  },
  {
   "cell_type": "code",
   "execution_count": 126,
   "metadata": {
    "ExecuteTime": {
     "end_time": "2020-04-21T23:34:57.964343Z",
     "start_time": "2020-04-21T23:33:48.307264Z"
    },
    "hidden": true
   },
   "outputs": [],
   "source": [
    "from scipy.optimize import least_squares\n",
    "res=least_squares(fit_leastsq_qd, \n",
    "              guesses, \n",
    "              args=(Y_d.loc['Germany'],),\n",
    "              bounds=np.transpose(np.array(ranges))\n",
    "             )['x']"
   ]
  },
  {
   "cell_type": "code",
   "execution_count": 103,
   "metadata": {
    "ExecuteTime": {
     "end_time": "2020-04-21T23:01:16.006230Z",
     "start_time": "2020-04-21T23:01:15.985336Z"
    },
    "hidden": true,
    "scrolled": true
   },
   "outputs": [
    {
     "data": {
      "text/plain": [
       "date\n",
       "2019-12-31       0.0\n",
       "2020-01-01       0.0\n",
       "2020-01-02       0.0\n",
       "2020-01-03       0.0\n",
       "2020-01-04       0.0\n",
       "               ...  \n",
       "2020-04-10    4110.0\n",
       "2020-04-11    4232.0\n",
       "2020-04-12    4357.0\n",
       "2020-04-13    4474.0\n",
       "2020-04-14    4585.0\n",
       "Name: Iran, Length: 106, dtype: float64"
      ]
     },
     "execution_count": 103,
     "metadata": {},
     "output_type": "execute_result"
    }
   ],
   "source": [
    "fit_leastsq_qd(guesses, Y_d.loc['Iran'])"
   ]
  },
  {
   "cell_type": "code",
   "execution_count": 120,
   "metadata": {
    "ExecuteTime": {
     "end_time": "2020-04-21T23:17:32.359030Z",
     "start_time": "2020-04-21T23:17:32.333731Z"
    },
    "hidden": true
   },
   "outputs": [
    {
     "data": {
      "text/html": [
       "\n",
       "    <div class=\"bk-root\">\n",
       "        <a href=\"https://bokeh.org\" target=\"_blank\" class=\"bk-logo bk-logo-small bk-logo-notebook\"></a>\n",
       "        <span id=\"3853\">Loading BokehJS ...</span>\n",
       "    </div>"
      ]
     },
     "metadata": {},
     "output_type": "display_data"
    },
    {
     "data": {
      "application/javascript": [
       "\n",
       "(function(root) {\n",
       "  function now() {\n",
       "    return new Date();\n",
       "  }\n",
       "\n",
       "  var force = true;\n",
       "\n",
       "  if (typeof root._bokeh_onload_callbacks === \"undefined\" || force === true) {\n",
       "    root._bokeh_onload_callbacks = [];\n",
       "    root._bokeh_is_loading = undefined;\n",
       "  }\n",
       "\n",
       "  var JS_MIME_TYPE = 'application/javascript';\n",
       "  var HTML_MIME_TYPE = 'text/html';\n",
       "  var EXEC_MIME_TYPE = 'application/vnd.bokehjs_exec.v0+json';\n",
       "  var CLASS_NAME = 'output_bokeh rendered_html';\n",
       "\n",
       "  /**\n",
       "   * Render data to the DOM node\n",
       "   */\n",
       "  function render(props, node) {\n",
       "    var script = document.createElement(\"script\");\n",
       "    node.appendChild(script);\n",
       "  }\n",
       "\n",
       "  /**\n",
       "   * Handle when an output is cleared or removed\n",
       "   */\n",
       "  function handleClearOutput(event, handle) {\n",
       "    var cell = handle.cell;\n",
       "\n",
       "    var id = cell.output_area._bokeh_element_id;\n",
       "    var server_id = cell.output_area._bokeh_server_id;\n",
       "    // Clean up Bokeh references\n",
       "    if (id != null && id in Bokeh.index) {\n",
       "      Bokeh.index[id].model.document.clear();\n",
       "      delete Bokeh.index[id];\n",
       "    }\n",
       "\n",
       "    if (server_id !== undefined) {\n",
       "      // Clean up Bokeh references\n",
       "      var cmd = \"from bokeh.io.state import curstate; print(curstate().uuid_to_server['\" + server_id + \"'].get_sessions()[0].document.roots[0]._id)\";\n",
       "      cell.notebook.kernel.execute(cmd, {\n",
       "        iopub: {\n",
       "          output: function(msg) {\n",
       "            var id = msg.content.text.trim();\n",
       "            if (id in Bokeh.index) {\n",
       "              Bokeh.index[id].model.document.clear();\n",
       "              delete Bokeh.index[id];\n",
       "            }\n",
       "          }\n",
       "        }\n",
       "      });\n",
       "      // Destroy server and session\n",
       "      var cmd = \"import bokeh.io.notebook as ion; ion.destroy_server('\" + server_id + \"')\";\n",
       "      cell.notebook.kernel.execute(cmd);\n",
       "    }\n",
       "  }\n",
       "\n",
       "  /**\n",
       "   * Handle when a new output is added\n",
       "   */\n",
       "  function handleAddOutput(event, handle) {\n",
       "    var output_area = handle.output_area;\n",
       "    var output = handle.output;\n",
       "\n",
       "    // limit handleAddOutput to display_data with EXEC_MIME_TYPE content only\n",
       "    if ((output.output_type != \"display_data\") || (!output.data.hasOwnProperty(EXEC_MIME_TYPE))) {\n",
       "      return\n",
       "    }\n",
       "\n",
       "    var toinsert = output_area.element.find(\".\" + CLASS_NAME.split(' ')[0]);\n",
       "\n",
       "    if (output.metadata[EXEC_MIME_TYPE][\"id\"] !== undefined) {\n",
       "      toinsert[toinsert.length - 1].firstChild.textContent = output.data[JS_MIME_TYPE];\n",
       "      // store reference to embed id on output_area\n",
       "      output_area._bokeh_element_id = output.metadata[EXEC_MIME_TYPE][\"id\"];\n",
       "    }\n",
       "    if (output.metadata[EXEC_MIME_TYPE][\"server_id\"] !== undefined) {\n",
       "      var bk_div = document.createElement(\"div\");\n",
       "      bk_div.innerHTML = output.data[HTML_MIME_TYPE];\n",
       "      var script_attrs = bk_div.children[0].attributes;\n",
       "      for (var i = 0; i < script_attrs.length; i++) {\n",
       "        toinsert[toinsert.length - 1].firstChild.setAttribute(script_attrs[i].name, script_attrs[i].value);\n",
       "        toinsert[toinsert.length - 1].firstChild.textContent = bk_div.children[0].textContent\n",
       "      }\n",
       "      // store reference to server id on output_area\n",
       "      output_area._bokeh_server_id = output.metadata[EXEC_MIME_TYPE][\"server_id\"];\n",
       "    }\n",
       "  }\n",
       "\n",
       "  function register_renderer(events, OutputArea) {\n",
       "\n",
       "    function append_mime(data, metadata, element) {\n",
       "      // create a DOM node to render to\n",
       "      var toinsert = this.create_output_subarea(\n",
       "        metadata,\n",
       "        CLASS_NAME,\n",
       "        EXEC_MIME_TYPE\n",
       "      );\n",
       "      this.keyboard_manager.register_events(toinsert);\n",
       "      // Render to node\n",
       "      var props = {data: data, metadata: metadata[EXEC_MIME_TYPE]};\n",
       "      render(props, toinsert[toinsert.length - 1]);\n",
       "      element.append(toinsert);\n",
       "      return toinsert\n",
       "    }\n",
       "\n",
       "    /* Handle when an output is cleared or removed */\n",
       "    events.on('clear_output.CodeCell', handleClearOutput);\n",
       "    events.on('delete.Cell', handleClearOutput);\n",
       "\n",
       "    /* Handle when a new output is added */\n",
       "    events.on('output_added.OutputArea', handleAddOutput);\n",
       "\n",
       "    /**\n",
       "     * Register the mime type and append_mime function with output_area\n",
       "     */\n",
       "    OutputArea.prototype.register_mime_type(EXEC_MIME_TYPE, append_mime, {\n",
       "      /* Is output safe? */\n",
       "      safe: true,\n",
       "      /* Index of renderer in `output_area.display_order` */\n",
       "      index: 0\n",
       "    });\n",
       "  }\n",
       "\n",
       "  // register the mime type if in Jupyter Notebook environment and previously unregistered\n",
       "  if (root.Jupyter !== undefined) {\n",
       "    var events = require('base/js/events');\n",
       "    var OutputArea = require('notebook/js/outputarea').OutputArea;\n",
       "\n",
       "    if (OutputArea.prototype.mime_types().indexOf(EXEC_MIME_TYPE) == -1) {\n",
       "      register_renderer(events, OutputArea);\n",
       "    }\n",
       "  }\n",
       "\n",
       "  \n",
       "  if (typeof (root._bokeh_timeout) === \"undefined\" || force === true) {\n",
       "    root._bokeh_timeout = Date.now() + 5000;\n",
       "    root._bokeh_failed_load = false;\n",
       "  }\n",
       "\n",
       "  var NB_LOAD_WARNING = {'data': {'text/html':\n",
       "     \"<div style='background-color: #fdd'>\\n\"+\n",
       "     \"<p>\\n\"+\n",
       "     \"BokehJS does not appear to have successfully loaded. If loading BokehJS from CDN, this \\n\"+\n",
       "     \"may be due to a slow or bad network connection. Possible fixes:\\n\"+\n",
       "     \"</p>\\n\"+\n",
       "     \"<ul>\\n\"+\n",
       "     \"<li>re-rerun `output_notebook()` to attempt to load from CDN again, or</li>\\n\"+\n",
       "     \"<li>use INLINE resources instead, as so:</li>\\n\"+\n",
       "     \"</ul>\\n\"+\n",
       "     \"<code>\\n\"+\n",
       "     \"from bokeh.resources import INLINE\\n\"+\n",
       "     \"output_notebook(resources=INLINE)\\n\"+\n",
       "     \"</code>\\n\"+\n",
       "     \"</div>\"}};\n",
       "\n",
       "  function display_loaded() {\n",
       "    var el = document.getElementById(\"3853\");\n",
       "    if (el != null) {\n",
       "      el.textContent = \"BokehJS is loading...\";\n",
       "    }\n",
       "    if (root.Bokeh !== undefined) {\n",
       "      if (el != null) {\n",
       "        el.textContent = \"BokehJS \" + root.Bokeh.version + \" successfully loaded.\";\n",
       "      }\n",
       "    } else if (Date.now() < root._bokeh_timeout) {\n",
       "      setTimeout(display_loaded, 100)\n",
       "    }\n",
       "  }\n",
       "\n",
       "\n",
       "  function run_callbacks() {\n",
       "    try {\n",
       "      root._bokeh_onload_callbacks.forEach(function(callback) {\n",
       "        if (callback != null)\n",
       "          callback();\n",
       "      });\n",
       "    } finally {\n",
       "      delete root._bokeh_onload_callbacks\n",
       "    }\n",
       "    console.debug(\"Bokeh: all callbacks have finished\");\n",
       "  }\n",
       "\n",
       "  function load_libs(css_urls, js_urls, callback) {\n",
       "    if (css_urls == null) css_urls = [];\n",
       "    if (js_urls == null) js_urls = [];\n",
       "\n",
       "    root._bokeh_onload_callbacks.push(callback);\n",
       "    if (root._bokeh_is_loading > 0) {\n",
       "      console.debug(\"Bokeh: BokehJS is being loaded, scheduling callback at\", now());\n",
       "      return null;\n",
       "    }\n",
       "    if (js_urls == null || js_urls.length === 0) {\n",
       "      run_callbacks();\n",
       "      return null;\n",
       "    }\n",
       "    console.debug(\"Bokeh: BokehJS not loaded, scheduling load and callback at\", now());\n",
       "    root._bokeh_is_loading = css_urls.length + js_urls.length;\n",
       "\n",
       "    function on_load() {\n",
       "      root._bokeh_is_loading--;\n",
       "      if (root._bokeh_is_loading === 0) {\n",
       "        console.debug(\"Bokeh: all BokehJS libraries/stylesheets loaded\");\n",
       "        run_callbacks()\n",
       "      }\n",
       "    }\n",
       "\n",
       "    function on_error() {\n",
       "      console.error(\"failed to load \" + url);\n",
       "    }\n",
       "\n",
       "    for (var i = 0; i < css_urls.length; i++) {\n",
       "      var url = css_urls[i];\n",
       "      const element = document.createElement(\"link\");\n",
       "      element.onload = on_load;\n",
       "      element.onerror = on_error;\n",
       "      element.rel = \"stylesheet\";\n",
       "      element.type = \"text/css\";\n",
       "      element.href = url;\n",
       "      console.debug(\"Bokeh: injecting link tag for BokehJS stylesheet: \", url);\n",
       "      document.body.appendChild(element);\n",
       "    }\n",
       "\n",
       "    const hashes = {\"https://cdn.bokeh.org/bokeh/release/bokeh-2.0.1.min.js\": \"JpP8FXbgAZLkfur7LiK3j9AGBhHNIvF742meBJrjO2ShJDhCG2I1uVvW+0DUtrmc\", \"https://cdn.bokeh.org/bokeh/release/bokeh-widgets-2.0.1.min.js\": \"xZlADit0Q04ISQEdKg2k3L4W9AwQBAuDs9nJL9fM/WwzL1tEU9VPNezOFX0nLEAz\", \"https://cdn.bokeh.org/bokeh/release/bokeh-tables-2.0.1.min.js\": \"4BuPRZkdMKSnj3zoxiNrQ86XgNw0rYmBOxe7nshquXwwcauupgBF2DHLVG1WuZlV\", \"https://cdn.bokeh.org/bokeh/release/bokeh-gl-2.0.1.min.js\": \"Dv1SQ87hmDqK6S5OhBf0bCuwAEvL5QYL0PuR/F1SPVhCS/r/abjkbpKDYL2zeM19\"};\n",
       "\n",
       "    for (var i = 0; i < js_urls.length; i++) {\n",
       "      var url = js_urls[i];\n",
       "      var element = document.createElement('script');\n",
       "      element.onload = on_load;\n",
       "      element.onerror = on_error;\n",
       "      element.async = false;\n",
       "      element.src = url;\n",
       "      if (url in hashes) {\n",
       "        element.crossOrigin = \"anonymous\";\n",
       "        element.integrity = \"sha384-\" + hashes[url];\n",
       "      }\n",
       "      console.debug(\"Bokeh: injecting script tag for BokehJS library: \", url);\n",
       "      document.head.appendChild(element);\n",
       "    }\n",
       "  };var element = document.getElementById(\"3853\");\n",
       "  if (element == null) {\n",
       "    console.error(\"Bokeh: ERROR: autoload.js configured with elementid '3853' but no matching script tag was found. \")\n",
       "    return false;\n",
       "  }\n",
       "\n",
       "  function inject_raw_css(css) {\n",
       "    const element = document.createElement(\"style\");\n",
       "    element.appendChild(document.createTextNode(css));\n",
       "    document.body.appendChild(element);\n",
       "  }\n",
       "\n",
       "  \n",
       "  var js_urls = [\"https://cdn.bokeh.org/bokeh/release/bokeh-2.0.1.min.js\", \"https://cdn.bokeh.org/bokeh/release/bokeh-widgets-2.0.1.min.js\", \"https://cdn.bokeh.org/bokeh/release/bokeh-tables-2.0.1.min.js\", \"https://cdn.bokeh.org/bokeh/release/bokeh-gl-2.0.1.min.js\"];\n",
       "  var css_urls = [];\n",
       "  \n",
       "\n",
       "  var inline_js = [\n",
       "    function(Bokeh) {\n",
       "      Bokeh.set_log_level(\"info\");\n",
       "    },\n",
       "    function(Bokeh) {\n",
       "    \n",
       "    \n",
       "    }\n",
       "  ];\n",
       "\n",
       "  function run_inline_js() {\n",
       "    \n",
       "    if (root.Bokeh !== undefined || force === true) {\n",
       "      \n",
       "    for (var i = 0; i < inline_js.length; i++) {\n",
       "      inline_js[i].call(root, root.Bokeh);\n",
       "    }\n",
       "    if (force === true) {\n",
       "        display_loaded();\n",
       "      }} else if (Date.now() < root._bokeh_timeout) {\n",
       "      setTimeout(run_inline_js, 100);\n",
       "    } else if (!root._bokeh_failed_load) {\n",
       "      console.log(\"Bokeh: BokehJS failed to load within specified timeout.\");\n",
       "      root._bokeh_failed_load = true;\n",
       "    } else if (force !== true) {\n",
       "      var cell = $(document.getElementById(\"3853\")).parents('.cell').data().cell;\n",
       "      cell.output_area.append_execute_result(NB_LOAD_WARNING)\n",
       "    }\n",
       "\n",
       "  }\n",
       "\n",
       "  if (root._bokeh_is_loading === 0) {\n",
       "    console.debug(\"Bokeh: BokehJS loaded, going straight to plotting\");\n",
       "    run_inline_js();\n",
       "  } else {\n",
       "    load_libs(css_urls, js_urls, function() {\n",
       "      console.debug(\"Bokeh: BokehJS plotting callback run at\", now());\n",
       "      run_inline_js();\n",
       "    });\n",
       "  }\n",
       "}(window));"
      ],
      "application/vnd.bokehjs_load.v0+json": "\n(function(root) {\n  function now() {\n    return new Date();\n  }\n\n  var force = true;\n\n  if (typeof root._bokeh_onload_callbacks === \"undefined\" || force === true) {\n    root._bokeh_onload_callbacks = [];\n    root._bokeh_is_loading = undefined;\n  }\n\n  \n\n  \n  if (typeof (root._bokeh_timeout) === \"undefined\" || force === true) {\n    root._bokeh_timeout = Date.now() + 5000;\n    root._bokeh_failed_load = false;\n  }\n\n  var NB_LOAD_WARNING = {'data': {'text/html':\n     \"<div style='background-color: #fdd'>\\n\"+\n     \"<p>\\n\"+\n     \"BokehJS does not appear to have successfully loaded. If loading BokehJS from CDN, this \\n\"+\n     \"may be due to a slow or bad network connection. Possible fixes:\\n\"+\n     \"</p>\\n\"+\n     \"<ul>\\n\"+\n     \"<li>re-rerun `output_notebook()` to attempt to load from CDN again, or</li>\\n\"+\n     \"<li>use INLINE resources instead, as so:</li>\\n\"+\n     \"</ul>\\n\"+\n     \"<code>\\n\"+\n     \"from bokeh.resources import INLINE\\n\"+\n     \"output_notebook(resources=INLINE)\\n\"+\n     \"</code>\\n\"+\n     \"</div>\"}};\n\n  function display_loaded() {\n    var el = document.getElementById(\"3853\");\n    if (el != null) {\n      el.textContent = \"BokehJS is loading...\";\n    }\n    if (root.Bokeh !== undefined) {\n      if (el != null) {\n        el.textContent = \"BokehJS \" + root.Bokeh.version + \" successfully loaded.\";\n      }\n    } else if (Date.now() < root._bokeh_timeout) {\n      setTimeout(display_loaded, 100)\n    }\n  }\n\n\n  function run_callbacks() {\n    try {\n      root._bokeh_onload_callbacks.forEach(function(callback) {\n        if (callback != null)\n          callback();\n      });\n    } finally {\n      delete root._bokeh_onload_callbacks\n    }\n    console.debug(\"Bokeh: all callbacks have finished\");\n  }\n\n  function load_libs(css_urls, js_urls, callback) {\n    if (css_urls == null) css_urls = [];\n    if (js_urls == null) js_urls = [];\n\n    root._bokeh_onload_callbacks.push(callback);\n    if (root._bokeh_is_loading > 0) {\n      console.debug(\"Bokeh: BokehJS is being loaded, scheduling callback at\", now());\n      return null;\n    }\n    if (js_urls == null || js_urls.length === 0) {\n      run_callbacks();\n      return null;\n    }\n    console.debug(\"Bokeh: BokehJS not loaded, scheduling load and callback at\", now());\n    root._bokeh_is_loading = css_urls.length + js_urls.length;\n\n    function on_load() {\n      root._bokeh_is_loading--;\n      if (root._bokeh_is_loading === 0) {\n        console.debug(\"Bokeh: all BokehJS libraries/stylesheets loaded\");\n        run_callbacks()\n      }\n    }\n\n    function on_error() {\n      console.error(\"failed to load \" + url);\n    }\n\n    for (var i = 0; i < css_urls.length; i++) {\n      var url = css_urls[i];\n      const element = document.createElement(\"link\");\n      element.onload = on_load;\n      element.onerror = on_error;\n      element.rel = \"stylesheet\";\n      element.type = \"text/css\";\n      element.href = url;\n      console.debug(\"Bokeh: injecting link tag for BokehJS stylesheet: \", url);\n      document.body.appendChild(element);\n    }\n\n    const hashes = {\"https://cdn.bokeh.org/bokeh/release/bokeh-2.0.1.min.js\": \"JpP8FXbgAZLkfur7LiK3j9AGBhHNIvF742meBJrjO2ShJDhCG2I1uVvW+0DUtrmc\", \"https://cdn.bokeh.org/bokeh/release/bokeh-widgets-2.0.1.min.js\": \"xZlADit0Q04ISQEdKg2k3L4W9AwQBAuDs9nJL9fM/WwzL1tEU9VPNezOFX0nLEAz\", \"https://cdn.bokeh.org/bokeh/release/bokeh-tables-2.0.1.min.js\": \"4BuPRZkdMKSnj3zoxiNrQ86XgNw0rYmBOxe7nshquXwwcauupgBF2DHLVG1WuZlV\", \"https://cdn.bokeh.org/bokeh/release/bokeh-gl-2.0.1.min.js\": \"Dv1SQ87hmDqK6S5OhBf0bCuwAEvL5QYL0PuR/F1SPVhCS/r/abjkbpKDYL2zeM19\"};\n\n    for (var i = 0; i < js_urls.length; i++) {\n      var url = js_urls[i];\n      var element = document.createElement('script');\n      element.onload = on_load;\n      element.onerror = on_error;\n      element.async = false;\n      element.src = url;\n      if (url in hashes) {\n        element.crossOrigin = \"anonymous\";\n        element.integrity = \"sha384-\" + hashes[url];\n      }\n      console.debug(\"Bokeh: injecting script tag for BokehJS library: \", url);\n      document.head.appendChild(element);\n    }\n  };var element = document.getElementById(\"3853\");\n  if (element == null) {\n    console.error(\"Bokeh: ERROR: autoload.js configured with elementid '3853' but no matching script tag was found. \")\n    return false;\n  }\n\n  function inject_raw_css(css) {\n    const element = document.createElement(\"style\");\n    element.appendChild(document.createTextNode(css));\n    document.body.appendChild(element);\n  }\n\n  \n  var js_urls = [\"https://cdn.bokeh.org/bokeh/release/bokeh-2.0.1.min.js\", \"https://cdn.bokeh.org/bokeh/release/bokeh-widgets-2.0.1.min.js\", \"https://cdn.bokeh.org/bokeh/release/bokeh-tables-2.0.1.min.js\", \"https://cdn.bokeh.org/bokeh/release/bokeh-gl-2.0.1.min.js\"];\n  var css_urls = [];\n  \n\n  var inline_js = [\n    function(Bokeh) {\n      Bokeh.set_log_level(\"info\");\n    },\n    function(Bokeh) {\n    \n    \n    }\n  ];\n\n  function run_inline_js() {\n    \n    if (root.Bokeh !== undefined || force === true) {\n      \n    for (var i = 0; i < inline_js.length; i++) {\n      inline_js[i].call(root, root.Bokeh);\n    }\n    if (force === true) {\n        display_loaded();\n      }} else if (Date.now() < root._bokeh_timeout) {\n      setTimeout(run_inline_js, 100);\n    } else if (!root._bokeh_failed_load) {\n      console.log(\"Bokeh: BokehJS failed to load within specified timeout.\");\n      root._bokeh_failed_load = true;\n    } else if (force !== true) {\n      var cell = $(document.getElementById(\"3853\")).parents('.cell').data().cell;\n      cell.output_area.append_execute_result(NB_LOAD_WARNING)\n    }\n\n  }\n\n  if (root._bokeh_is_loading === 0) {\n    console.debug(\"Bokeh: BokehJS loaded, going straight to plotting\");\n    run_inline_js();\n  } else {\n    load_libs(css_urls, js_urls, function() {\n      console.debug(\"Bokeh: BokehJS plotting callback run at\", now());\n      run_inline_js();\n    });\n  }\n}(window));"
     },
     "metadata": {},
     "output_type": "display_data"
    }
   ],
   "source": [
    "import itertools\n",
    "\n",
    "import bokeh.io\n",
    "import bokeh.application\n",
    "import bokeh.application.handlers\n",
    "import bokeh.models\n",
    "import bokeh.plotting\n",
    "from bokeh.models import Span\n",
    "bokeh.io.output_notebook()\n",
    "def plot_qd(res, data, extrapolate=1, boundary=None, plot_infectious=False):\n",
    "\n",
    "    s = model_qd(res, data, len(data)*extrapolate)\n",
    "    S = s[:,0]\n",
    "    E = s[:,1]\n",
    "    I = s[:,2]\n",
    "    Q = s[:,3]\n",
    "    R = s[:,4]\n",
    "    D = s[:,5]\n",
    "    SA = s[:,6]\n",
    "\n",
    "    t = np.arange(0, len(data))\n",
    "    tp = np.arange(0, len(data)*extrapolate)\n",
    "\n",
    "    p = bokeh.plotting.figure(plot_width=600,\n",
    "                              plot_height=400,\n",
    "                             title = 'SEIR-QD Model',\n",
    "                             x_axis_label = 't (days)',\n",
    "                             y_axis_label = '# people')\n",
    "\n",
    "    if plot_infectious:\n",
    "        p.line(tp, I, color = 'red', line_width = 1, legend_label = 'All infected')\n",
    "    p.line(tp, D, color = 'black', line_width = 1, legend_label = 'Deceased')\n",
    "\n",
    "    # death\n",
    "    p.circle(t, data, color ='black')\n",
    "    \n",
    "    if boundary is not None:\n",
    "        vline = Span(location=boundary, dimension='height', line_color='black', line_width=3)\n",
    "        p.renderers.extend([vline])\n",
    "\n",
    "    p.legend.location = 'top_left'\n",
    "    bokeh.io.show(p)"
   ]
  },
  {
   "cell_type": "markdown",
   "metadata": {
    "heading_collapsed": true
   },
   "source": [
    "## Trial fit"
   ]
  },
  {
   "cell_type": "markdown",
   "metadata": {},
   "source": [
    "# RF"
   ]
  },
  {
   "cell_type": "code",
   "execution_count": 35,
   "metadata": {
    "ExecuteTime": {
     "end_time": "2020-04-18T00:27:31.936573Z",
     "start_time": "2020-04-18T00:27:31.933332Z"
    }
   },
   "outputs": [],
   "source": [
    "from sklearn.ensemble import RandomForestRegressor\n",
    "reg = RandomForestRegressor()"
   ]
  }
 ],
 "metadata": {
  "celltoolbar": "Initialization Cell",
  "kernelspec": {
   "display_name": "Python 3",
   "language": "python",
   "name": "python3"
  },
  "language_info": {
   "codemirror_mode": {
    "name": "ipython",
    "version": 3
   },
   "file_extension": ".py",
   "mimetype": "text/x-python",
   "name": "python",
   "nbconvert_exporter": "python",
   "pygments_lexer": "ipython3",
   "version": "3.8.2"
  },
  "toc": {
   "base_numbering": 1,
   "nav_menu": {},
   "number_sections": true,
   "sideBar": true,
   "skip_h1_title": false,
   "title_cell": "Table of Contents",
   "title_sidebar": "Contents",
   "toc_cell": false,
   "toc_position": {},
   "toc_section_display": true,
   "toc_window_display": true
  },
  "varInspector": {
   "cols": {
    "lenName": 16,
    "lenType": 16,
    "lenVar": 40
   },
   "kernels_config": {
    "python": {
     "delete_cmd_postfix": "",
     "delete_cmd_prefix": "del ",
     "library": "var_list.py",
     "varRefreshCmd": "print(var_dic_list())"
    },
    "r": {
     "delete_cmd_postfix": ") ",
     "delete_cmd_prefix": "rm(",
     "library": "var_list.r",
     "varRefreshCmd": "cat(var_dic_list()) "
    }
   },
   "position": {
    "height": "844.85px",
    "left": "1549px",
    "right": "20px",
    "top": "120px",
    "width": "351px"
   },
   "types_to_exclude": [
    "module",
    "function",
    "builtin_function_or_method",
    "instance",
    "_Feature"
   ],
   "window_display": false
  }
 },
 "nbformat": 4,
 "nbformat_minor": 4
}
