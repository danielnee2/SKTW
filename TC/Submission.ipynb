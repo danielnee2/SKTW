{
 "cells": [
  {
   "cell_type": "markdown",
   "metadata": {},
   "source": [
    "# Data generation"
   ]
  },
  {
   "cell_type": "markdown",
   "metadata": {},
   "source": [
    "If a quantile regression is performed then one can ignore this step."
   ]
  },
  {
   "cell_type": "code",
   "execution_count": 51,
   "metadata": {
    "ExecuteTime": {
     "end_time": "2020-04-25T00:53:34.580690Z",
     "start_time": "2020-04-25T00:53:34.577282Z"
    }
   },
   "outputs": [],
   "source": [
    "from scipy.stats import t\n",
    "from numpy import sqrt\n",
    "def to_quantile(mean, std, n, q):\n",
    "    '''\n",
    "    Compute the q-th quantiles using Student's t-distribution with n-1 degrees of freedom\n",
    "    '''\n",
    "    return t.ppf(q, n-1)*std/sqrt(n)+mean\n",
    "    "
   ]
  },
  {
   "cell_type": "code",
   "execution_count": 52,
   "metadata": {
    "ExecuteTime": {
     "end_time": "2020-04-25T00:53:38.528600Z",
     "start_time": "2020-04-25T00:53:38.524995Z"
    }
   },
   "outputs": [
    {
     "data": {
      "text/plain": [
       "0.41133789209635174"
      ]
     },
     "execution_count": 52,
     "metadata": {},
     "output_type": "execute_result"
    }
   ],
   "source": [
    "to_quantile(1.5, 1, 3, 0.1)"
   ]
  },
  {
   "cell_type": "code",
   "execution_count": 59,
   "metadata": {
    "ExecuteTime": {
     "end_time": "2020-04-25T00:56:33.468504Z",
     "start_time": "2020-04-25T00:56:33.465404Z"
    }
   },
   "outputs": [],
   "source": [
    "from numpy import arange\n",
    "def to_submission_quantiles(mean, std, n):\n",
    "    return np.array([to_quantile(mean, std, n, qi) for qi in arange(0.1,1,0.1)])"
   ]
  },
  {
   "cell_type": "code",
   "execution_count": 57,
   "metadata": {
    "ExecuteTime": {
     "end_time": "2020-04-25T00:55:09.470285Z",
     "start_time": "2020-04-25T00:55:09.465300Z"
    }
   },
   "outputs": [
    {
     "data": {
      "text/plain": [
       "array([0.41133789, 0.88762756, 1.14365168, 1.33333333, 1.5       ,\n",
       "       1.66666667, 1.85634832, 2.11237244, 2.58866211])"
      ]
     },
     "execution_count": 57,
     "metadata": {},
     "output_type": "execute_result"
    }
   ],
   "source": [
    "to_submission_quantiles(1.5, 1, 3)"
   ]
  },
  {
   "cell_type": "markdown",
   "metadata": {},
   "source": [
    "This illustrates the effect of degree of freedom."
   ]
  },
  {
   "cell_type": "code",
   "execution_count": 80,
   "metadata": {
    "ExecuteTime": {
     "end_time": "2020-04-25T01:00:54.976165Z",
     "start_time": "2020-04-25T01:00:54.898055Z"
    },
    "scrolled": true
   },
   "outputs": [
    {
     "data": {
      "image/png": "[encoded data removed]",
      "text/plain": [
       "<Figure size 432x288 with 1 Axes>"
      ]
     },
     "metadata": {
      "needs_background": "light"
     },
     "output_type": "display_data"
    }
   ],
   "source": [
    "import matplotlib.pyplot as plt\n",
    "plt.plot(np.array([to_submission_quantiles(1.5,1,df) for df in range(2,10)]).T)\n",
    "plt.xticks(ticks=range(9), labels=[10,20,30,40,50,60,70,80,90])\n",
    "plt.xlabel(\"Percentile\")\n",
    "plt.show()"
   ]
  },
  {
   "cell_type": "markdown",
   "metadata": {},
   "source": [
    "We also want our function to be able to take in Series:"
   ]
  },
  {
   "cell_type": "code",
   "execution_count": 85,
   "metadata": {
    "ExecuteTime": {
     "end_time": "2020-04-25T01:11:11.032431Z",
     "start_time": "2020-04-25T01:11:11.029274Z"
    }
   },
   "outputs": [],
   "source": [
    "def columns_to_submission_quantiles(df, q, n):\n",
    "    t_val = t.ppf(q, n-1)\n",
    "    return df['mean']+t_val/sqrt(n)*df['std']"
   ]
  },
  {
   "cell_type": "markdown",
   "metadata": {},
   "source": [
    "# Output to csv"
   ]
  },
  {
   "cell_type": "markdown",
   "metadata": {},
   "source": [
    "Here we assume that each prediction comes in the form of a pair (mean, std), and that the total degree of freedom of model is n. Furthermore, one has columns [\"date\", \"FIPS\"]."
   ]
  },
  {
   "cell_type": "code",
   "execution_count": 112,
   "metadata": {
    "ExecuteTime": {
     "end_time": "2020-04-25T01:19:03.523046Z",
     "start_time": "2020-04-25T01:19:03.518259Z"
    }
   },
   "outputs": [],
   "source": [
    "import pandas as pd\n",
    "def to_submission_df(df, n):\n",
    "    df_new = pd.DataFrame(columns=[\"id\"]+[str(q) for q in range(10, 100, 10)])\n",
    "    try:\n",
    "        df_new['id'] = df['date'] + '-' + df['FIPS']\n",
    "    except:\n",
    "        print(\"Wrong input dataframe format.\")\n",
    "    for q in range(10, 100, 10):\n",
    "        df_new[str(q)] = columns_to_submission_quantiles(df, q/100, n)\n",
    "    return df_new.set_index(\"id\")"
   ]
  },
  {
   "cell_type": "markdown",
   "metadata": {},
   "source": [
    "Let's test."
   ]
  },
  {
   "cell_type": "code",
   "execution_count": 115,
   "metadata": {
    "ExecuteTime": {
     "end_time": "2020-04-25T01:19:58.703830Z",
     "start_time": "2020-04-25T01:19:58.693092Z"
    }
   },
   "outputs": [
    {
     "data": {
      "text/html": [
       "<div>\n",
       "<style scoped>\n",
       "    .dataframe tbody tr th:only-of-type {\n",
       "        vertical-align: middle;\n",
       "    }\n",
       "\n",
       "    .dataframe tbody tr th {\n",
       "        vertical-align: top;\n",
       "    }\n",
       "\n",
       "    .dataframe thead th {\n",
       "        text-align: right;\n",
       "    }\n",
       "</style>\n",
       "<table border=\"1\" class=\"dataframe\">\n",
       "  <thead>\n",
       "    <tr style=\"text-align: right;\">\n",
       "      <th></th>\n",
       "      <th>date</th>\n",
       "      <th>FIPS</th>\n",
       "      <th>mean</th>\n",
       "      <th>std</th>\n",
       "    </tr>\n",
       "  </thead>\n",
       "  <tbody>\n",
       "    <tr>\n",
       "      <th>0</th>\n",
       "      <td>2020-04-01</td>\n",
       "      <td>10001</td>\n",
       "      <td>15</td>\n",
       "      <td>1</td>\n",
       "    </tr>\n",
       "    <tr>\n",
       "      <th>1</th>\n",
       "      <td>2020-04-01</td>\n",
       "      <td>10003</td>\n",
       "      <td>1000</td>\n",
       "      <td>20</td>\n",
       "    </tr>\n",
       "    <tr>\n",
       "      <th>2</th>\n",
       "      <td>2020-04-01</td>\n",
       "      <td>10005</td>\n",
       "      <td>31</td>\n",
       "      <td>5</td>\n",
       "    </tr>\n",
       "  </tbody>\n",
       "</table>\n",
       "</div>"
      ],
      "text/plain": [
       "         date   FIPS  mean  std\n",
       "0  2020-04-01  10001    15    1\n",
       "1  2020-04-01  10003  1000   20\n",
       "2  2020-04-01  10005    31    5"
      ]
     },
     "execution_count": 115,
     "metadata": {},
     "output_type": "execute_result"
    }
   ],
   "source": [
    "df_test = pd.DataFrame(columns=[\"date\", \"FIPS\", \"mean\", \"std\"])\n",
    "df_test[\"date\"] = pd.Series([\"2020-04-01\", \"2020-04-01\", \"2020-04-01\"])\n",
    "df_test[\"FIPS\"] = pd.Series([\"10001\", \"10003\", \"10005\"])\n",
    "df_test[\"mean\"] = pd.Series([15,1000,31])\n",
    "df_test[\"std\"] = pd.Series([1, 20, 5])\n",
    "df_test"
   ]
  },
  {
   "cell_type": "code",
   "execution_count": 116,
   "metadata": {
    "ExecuteTime": {
     "end_time": "2020-04-25T01:20:01.635681Z",
     "start_time": "2020-04-25T01:20:01.614326Z"
    }
   },
   "outputs": [
    {
     "data": {
      "text/html": [
       "<div>\n",
       "<style scoped>\n",
       "    .dataframe tbody tr th:only-of-type {\n",
       "        vertical-align: middle;\n",
       "    }\n",
       "\n",
       "    .dataframe tbody tr th {\n",
       "        vertical-align: top;\n",
       "    }\n",
       "\n",
       "    .dataframe thead th {\n",
       "        text-align: right;\n",
       "    }\n",
       "</style>\n",
       "<table border=\"1\" class=\"dataframe\">\n",
       "  <thead>\n",
       "    <tr style=\"text-align: right;\">\n",
       "      <th></th>\n",
       "      <th>10</th>\n",
       "      <th>20</th>\n",
       "      <th>30</th>\n",
       "      <th>40</th>\n",
       "      <th>50</th>\n",
       "      <th>60</th>\n",
       "      <th>70</th>\n",
       "      <th>80</th>\n",
       "      <th>90</th>\n",
       "    </tr>\n",
       "    <tr>\n",
       "      <th>id</th>\n",
       "      <th></th>\n",
       "      <th></th>\n",
       "      <th></th>\n",
       "      <th></th>\n",
       "      <th></th>\n",
       "      <th></th>\n",
       "      <th></th>\n",
       "      <th></th>\n",
       "      <th></th>\n",
       "    </tr>\n",
       "  </thead>\n",
       "  <tbody>\n",
       "    <tr>\n",
       "      <th>2020-04-01-10001</th>\n",
       "      <td>13.911338</td>\n",
       "      <td>14.387628</td>\n",
       "      <td>14.643652</td>\n",
       "      <td>14.833333</td>\n",
       "      <td>15.0</td>\n",
       "      <td>15.166667</td>\n",
       "      <td>15.356348</td>\n",
       "      <td>15.612372</td>\n",
       "      <td>16.088662</td>\n",
       "    </tr>\n",
       "    <tr>\n",
       "      <th>2020-04-01-10003</th>\n",
       "      <td>978.226758</td>\n",
       "      <td>987.752551</td>\n",
       "      <td>992.873034</td>\n",
       "      <td>996.666667</td>\n",
       "      <td>1000.0</td>\n",
       "      <td>1003.333333</td>\n",
       "      <td>1007.126966</td>\n",
       "      <td>1012.247449</td>\n",
       "      <td>1021.773242</td>\n",
       "    </tr>\n",
       "    <tr>\n",
       "      <th>2020-04-01-10005</th>\n",
       "      <td>25.556689</td>\n",
       "      <td>27.938138</td>\n",
       "      <td>29.218258</td>\n",
       "      <td>30.166667</td>\n",
       "      <td>31.0</td>\n",
       "      <td>31.833333</td>\n",
       "      <td>32.781742</td>\n",
       "      <td>34.061862</td>\n",
       "      <td>36.443311</td>\n",
       "    </tr>\n",
       "  </tbody>\n",
       "</table>\n",
       "</div>"
      ],
      "text/plain": [
       "                          10          20          30          40      50  \\\n",
       "id                                                                         \n",
       "2020-04-01-10001   13.911338   14.387628   14.643652   14.833333    15.0   \n",
       "2020-04-01-10003  978.226758  987.752551  992.873034  996.666667  1000.0   \n",
       "2020-04-01-10005   25.556689   27.938138   29.218258   30.166667    31.0   \n",
       "\n",
       "                           60           70           80           90  \n",
       "id                                                                    \n",
       "2020-04-01-10001    15.166667    15.356348    15.612372    16.088662  \n",
       "2020-04-01-10003  1003.333333  1007.126966  1012.247449  1021.773242  \n",
       "2020-04-01-10005    31.833333    32.781742    34.061862    36.443311  "
      ]
     },
     "execution_count": 116,
     "metadata": {},
     "output_type": "execute_result"
    }
   ],
   "source": [
    "to_submission_df(df_test, n=3)"
   ]
  },
  {
   "cell_type": "code",
   "execution_count": 114,
   "metadata": {
    "ExecuteTime": {
     "end_time": "2020-04-25T01:19:45.882761Z",
     "start_time": "2020-04-25T01:19:45.880238Z"
    }
   },
   "outputs": [],
   "source": [
    "def to_submission_csv(df, filename):\n",
    "    df.to_csv(filename, float_format='%.2f')"
   ]
  }
 ],
 "metadata": {
  "kernelspec": {
   "display_name": "Python 3",
   "language": "python",
   "name": "python3"
  },
  "language_info": {
   "codemirror_mode": {
    "name": "ipython",
    "version": 3
   },
   "file_extension": ".py",
   "mimetype": "text/x-python",
   "name": "python",
   "nbconvert_exporter": "python",
   "pygments_lexer": "ipython3",
   "version": "3.8.2"
  },
  "toc": {
   "base_numbering": 1,
   "nav_menu": {},
   "number_sections": true,
   "sideBar": true,
   "skip_h1_title": false,
   "title_cell": "Table of Contents",
   "title_sidebar": "Contents",
   "toc_cell": false,
   "toc_position": {},
   "toc_section_display": true,
   "toc_window_display": false
  },
  "varInspector": {
   "cols": {
    "lenName": 16,
    "lenType": 16,
    "lenVar": 40
   },
   "kernels_config": {
    "python": {
     "delete_cmd_postfix": "",
     "delete_cmd_prefix": "del ",
     "library": "var_list.py",
     "varRefreshCmd": "print(var_dic_list())"
    },
    "r": {
     "delete_cmd_postfix": ") ",
     "delete_cmd_prefix": "rm(",
     "library": "var_list.r",
     "varRefreshCmd": "cat(var_dic_list()) "
    }
   },
   "types_to_exclude": [
    "module",
    "function",
    "builtin_function_or_method",
    "instance",
    "_Feature"
   ],
   "window_display": false
  }
 },
 "nbformat": 4,
 "nbformat_minor": 4
}
